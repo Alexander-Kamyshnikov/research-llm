{
 "cells": [
  {
   "cell_type": "code",
   "execution_count": 54,
   "id": "6a923e21",
   "metadata": {},
   "outputs": [],
   "source": [
    "\n",
    "import json\n",
    "from pathlib import Path\n",
    "import pandas as pd\n",
    "from ultralytics import YOLO\n",
    "\n",
    "from utils.autocomplete import yolo_utils as yolo\n",
    "from utils.autocomplete import references_utils as ref\n",
    "\n",
    "from tqdm import tqdm\n",
    "tqdm.pandas()"
   ]
  },
  {
   "cell_type": "code",
   "execution_count": 55,
   "id": "633a7f95",
   "metadata": {},
   "outputs": [],
   "source": [
    "# PATH_TO_DETECT_PDF = Path('/data/docs/vh/incoming_2023_feb/') # МЭР\n",
    "# PATH_TO_DETECT_PDF = Path('/data/docs/vh/latest_docs/') # МЭР\n",
    "PATH_TO_DETECT_PDF = '/local_data/clear_full/'\n",
    "\n",
    "with open('./data/comparison.json', 'r') as f:\n",
    "    comparison = json.load(f)\n",
    "    \n",
    "CLASSES = ['predict_content', 'predict_date', 'predict_number', 'predict_sender', 'predict_signer']\n",
    "\n",
    "model_predict_classes = YOLO('/local_data/models/model_yolo_5_classes.pt')\n",
    "model_handwrite = YOLO('/local_data/models/model_yolo_handwrite.pt')\n",
    "partners = pd.read_csv('/local_data/assets/partners.csv')\n",
    "partners_employees = pd.read_csv('/local_data/assets/partners_employees.csv')\n",
    "\n",
    "# model_predict_classes = YOLO('/data/docs/vh/yolo/models/model_5_classes.pt') # МЭР\n",
    "# model_handwrite = YOLO('/data/docs/vh/yolo/models/model_yolo_handwrite.pt') # МЭР\n",
    "# partners = pd.read_csv('/data/assets/partners.csv', encoding='windows-1251') # МЭР\n",
    "# partners_employees = pd.read_csv('/data/assets/partners_employees.csv', encoding='windows-1251') # МЭР\n",
    "\n",
    "partners = ref.update_partners(partners)\n",
    "partners_employees = ref.update_partners_empoyees(partners_employees)"
   ]
  },
  {
   "cell_type": "code",
   "execution_count": 58,
   "id": "9596f82f",
   "metadata": {},
   "outputs": [],
   "source": [
    "path = '/local_data/clear_full/00003627-c6cf-48ae-b331-5a311f52c819/1d1aaccd-126a-4991-a1a0-fc32ddb365bf.pdf'\n",
    "# path = '/data/docs/vh/incoming_2023_feb/00010bbd-0f98-46f9-b7ec-eb6476950cc3/4561d31b-6d11-4d83-bad0-d0f578fe37b5.pdf' #МЭР"
   ]
  },
  {
   "cell_type": "code",
   "execution_count": 59,
   "id": "cdab212b",
   "metadata": {},
   "outputs": [],
   "source": [
    "with open(path, 'rb') as f:\n",
    "    pdf_file = f.read()"
   ]
  },
  {
   "cell_type": "markdown",
   "id": "ee82e789",
   "metadata": {},
   "source": [
    "# get predicts"
   ]
  },
  {
   "cell_type": "code",
   "execution_count": 60,
   "id": "a24e50d7",
   "metadata": {},
   "outputs": [],
   "source": [
    "path = Path(PATH_TO_DETECT_PDF)\n",
    "all_paths = yolo.search_pdf_by_path(path)"
   ]
  },
  {
   "cell_type": "code",
   "execution_count": 64,
   "id": "0616449e",
   "metadata": {},
   "outputs": [
    {
     "data": {
      "text/plain": [
       "1000"
      ]
     },
     "execution_count": 64,
     "metadata": {},
     "output_type": "execute_result"
    }
   ],
   "source": [
    "# paths = all_paths\n",
    "paths = all_paths[:1000]\n",
    "len(paths)"
   ]
  },
  {
   "cell_type": "code",
   "execution_count": 62,
   "id": "229a445c",
   "metadata": {},
   "outputs": [
    {
     "name": "stderr",
     "output_type": "stream",
     "text": [
      "\n",
      "0: 640x480 1 content, 1 date, 1 number, 1 sender, 1 signer, 107.6ms\n",
      "Speed: 0.9ms preprocess, 107.6ms inference, 0.3ms postprocess per image at shape (1, 3, 640, 640)\n",
      "\n",
      "0: 160x640 1 handwrite, 10.9ms\n",
      "Speed: 0.1ms preprocess, 10.9ms inference, 0.4ms postprocess per image at shape (1, 3, 640, 640)\n",
      "\n",
      "0: 160x640 1 handwrite, 9.9ms\n",
      "Speed: 0.2ms preprocess, 9.9ms inference, 0.3ms postprocess per image at shape (1, 3, 640, 640)\n"
     ]
    },
    {
     "data": {
      "text/plain": [
       "{'predict_date': {'date': 'handwrite', 'date_proba': 0.7823640704154968},\n",
       " 'predict_number': {'number': 'handwrite', 'number_proba': 0.8217630386352539},\n",
       " 'predict_content': {'content': 'О проведении заседания комитета по кадрам и вознаграждениям при наблюдательном совете ВЭБ.РФ',\n",
       "  'content_proba': 0.8513157963752747},\n",
       " 'predict_signer': {'signer': 'Коротков А.С.',\n",
       "  'signer_proba': 0.7839876413345337,\n",
       "  'signer_id': []},\n",
       " 'predict_sender': {'sender': 'адрес для корреспона пр т академика сах  миа ао я  р я тел   7  495  721 18 3 рф у т .92 91  е гпай  по меь.ги   мам',\n",
       "  ' sender_proba': 0.566753625869751,\n",
       "  'sender_id': []}}"
      ]
     },
     "execution_count": 62,
     "metadata": {},
     "output_type": "execute_result"
    }
   ],
   "source": [
    "yolo.get_yolo_autocomplete(pdf_file, model_predict_classes, model_handwrite, comparison, partners, partners_employees, CLASSES)"
   ]
  },
  {
   "cell_type": "code",
   "execution_count": 65,
   "id": "f377200a",
   "metadata": {
    "scrolled": true
   },
   "outputs": [
    {
     "name": "stderr",
     "output_type": "stream",
     "text": [
      "\n",
      "0: 640x480 1 date, 1 number, 1 sender, 1 signer, 102.2ms\n",
      "Speed: 0.3ms preprocess, 102.2ms inference, 0.4ms postprocess per image at shape (1, 3, 640, 640)\n",
      "\n",
      "0: 160x640 1 handwrite, 10.0ms\n",
      "Speed: 0.2ms preprocess, 10.0ms inference, 0.3ms postprocess per image at shape (1, 3, 640, 640)\n",
      "\n",
      "0: 160x640 1 handwrite, 9.9ms\n",
      "Speed: 0.1ms preprocess, 9.9ms inference, 0.3ms postprocess per image at shape (1, 3, 640, 640)\n"
     ]
    },
    {
     "name": "stdout",
     "output_type": "stream",
     "text": [
      "in process: 1/1000\r"
     ]
    },
    {
     "name": "stderr",
     "output_type": "stream",
     "text": [
      "\n",
      "0: 640x480 2 senders, 1 signer, 101.6ms\n",
      "Speed: 0.3ms preprocess, 101.6ms inference, 0.3ms postprocess per image at shape (1, 3, 640, 640)\n"
     ]
    },
    {
     "name": "stdout",
     "output_type": "stream",
     "text": [
      "in process: 2/1000\r"
     ]
    },
    {
     "name": "stderr",
     "output_type": "stream",
     "text": [
      "\n",
      "0: 640x480 1 content, 1 date, 1 number, 1 sender, 1 signer, 102.5ms\n",
      "Speed: 0.3ms preprocess, 102.5ms inference, 1.8ms postprocess per image at shape (1, 3, 640, 640)\n",
      "\n",
      "0: 192x640 1 typewritten, 12.2ms\n",
      "Speed: 0.2ms preprocess, 12.2ms inference, 0.3ms postprocess per image at shape (1, 3, 640, 640)\n",
      "\n",
      "0: 128x640 1 handwrite, 1 typewritten, 8.6ms\n",
      "Speed: 0.2ms preprocess, 8.6ms inference, 0.3ms postprocess per image at shape (1, 3, 640, 640)\n",
      "\n"
     ]
    },
    {
     "name": "stdout",
     "output_type": "stream",
     "text": [
      "in process: 3/1000\r"
     ]
    },
    {
     "name": "stderr",
     "output_type": "stream",
     "text": [
      "0: 640x480 (no detections), 104.3ms\n",
      "Speed: 0.3ms preprocess, 104.3ms inference, 0.2ms postprocess per image at shape (1, 3, 640, 640)\n"
     ]
    },
    {
     "name": "stdout",
     "output_type": "stream",
     "text": [
      "in process: 4/1000\r"
     ]
    },
    {
     "name": "stderr",
     "output_type": "stream",
     "text": [
      "\n",
      "0: 640x480 1 date, 1 number, 2 senders, 103.8ms\n",
      "Speed: 0.3ms preprocess, 103.8ms inference, 0.3ms postprocess per image at shape (1, 3, 640, 640)\n",
      "\n",
      "0: 192x640 1 handwrite, 10.6ms\n",
      "Speed: 0.2ms preprocess, 10.6ms inference, 0.3ms postprocess per image at shape (1, 3, 640, 640)\n",
      "\n",
      "0: 128x640 1 handwrite, 8.2ms\n",
      "Speed: 0.1ms preprocess, 8.2ms inference, 0.3ms postprocess per image at shape (1, 3, 640, 640)\n",
      "\n",
      "0: 640x480 (no detections), 101.8ms\n",
      "Speed: 0.3ms preprocess, 101.8ms inference, 0.2ms postprocess per image at shape (1, 3, 640, 640)\n",
      "\n",
      "0: 640x480 1 sender, 109.4ms\n",
      "Speed: 0.3ms preprocess, 109.4ms inference, 0.6ms postprocess per image at shape (1, 3, 640, 640)\n",
      "\n",
      "0: 640x480 (no detections), 104.1ms\n",
      "Speed: 0.3ms preprocess, 104.1ms inference, 0.2ms postprocess per image at shape (1, 3, 640, 640)\n",
      "\n",
      "0: 640x480 1 sender, 102.0ms\n",
      "Speed: 0.3ms preprocess, 102.0ms inference, 0.3ms postprocess per image at shape (1, 3, 640, 640)\n",
      "\n",
      "0: 640x480 1 sender, 1 signer, 104.1ms\n",
      "Speed: 0.3ms preprocess, 104.1ms inference, 0.3ms postprocess per image at shape (1, 3, 640, 640)\n",
      "\n"
     ]
    },
    {
     "name": "stdout",
     "output_type": "stream",
     "text": [
      "in process: 5/1000\r"
     ]
    },
    {
     "name": "stderr",
     "output_type": "stream",
     "text": [
      "0: 640x480 1 date, 1 number, 1 sender, 1 signer, 102.9ms\n",
      "Speed: 0.3ms preprocess, 102.9ms inference, 1.2ms postprocess per image at shape (1, 3, 640, 640)\n",
      "\n",
      "0: 192x640 2 typewrittens, 10.7ms\n",
      "Speed: 0.2ms preprocess, 10.7ms inference, 0.3ms postprocess per image at shape (1, 3, 640, 640)\n",
      "\n",
      "0: 192x640 1 typewritten, 10.5ms\n",
      "Speed: 0.2ms preprocess, 10.5ms inference, 0.3ms postprocess per image at shape (1, 3, 640, 640)\n"
     ]
    },
    {
     "name": "stdout",
     "output_type": "stream",
     "text": [
      "in process: 6/1000\r"
     ]
    },
    {
     "name": "stderr",
     "output_type": "stream",
     "text": [
      "\n",
      "0: 640x480 1 date, 1 number, 1 sender, 104.3ms\n",
      "Speed: 0.3ms preprocess, 104.3ms inference, 0.3ms postprocess per image at shape (1, 3, 640, 640)\n",
      "\n",
      "0: 160x640 1 handwrite, 1 typewritten, 14.9ms\n",
      "Speed: 0.2ms preprocess, 14.9ms inference, 0.6ms postprocess per image at shape (1, 3, 640, 640)\n",
      "\n",
      "0: 224x640 1 typewritten, 11.9ms\n",
      "Speed: 0.2ms preprocess, 11.9ms inference, 0.3ms postprocess per image at shape (1, 3, 640, 640)\n",
      "\n",
      "0: 640x480 (no detections), 104.4ms\n",
      "Speed: 0.3ms preprocess, 104.4ms inference, 0.2ms postprocess per image at shape (1, 3, 640, 640)\n",
      "\n",
      "0: 640x480 (no detections), 101.4ms\n",
      "Speed: 0.3ms preprocess, 101.4ms inference, 0.2ms postprocess per image at shape (1, 3, 640, 640)\n",
      "\n",
      "0: 640x480 1 signer, 102.2ms\n",
      "Speed: 0.3ms preprocess, 102.2ms inference, 0.3ms postprocess per image at shape (1, 3, 640, 640)\n"
     ]
    },
    {
     "name": "stdout",
     "output_type": "stream",
     "text": [
      "in process: 7/1000\r"
     ]
    },
    {
     "name": "stderr",
     "output_type": "stream",
     "text": [
      "\n",
      "0: 640x480 1 content, 1 date, 1 number, 3 senders, 102.0ms\n",
      "Speed: 0.3ms preprocess, 102.0ms inference, 3.2ms postprocess per image at shape (1, 3, 640, 640)\n",
      "\n",
      "0: 224x640 1 handwrite, 11.7ms\n",
      "Speed: 0.2ms preprocess, 11.7ms inference, 0.3ms postprocess per image at shape (1, 3, 640, 640)\n",
      "\n",
      "0: 128x640 1 handwrite, 8.7ms\n",
      "Speed: 0.1ms preprocess, 8.7ms inference, 0.3ms postprocess per image at shape (1, 3, 640, 640)\n",
      "\n",
      "0: 640x480 1 signer, 104.2ms\n",
      "Speed: 0.3ms preprocess, 104.2ms inference, 0.3ms postprocess per image at shape (1, 3, 640, 640)\n",
      "\n"
     ]
    },
    {
     "name": "stdout",
     "output_type": "stream",
     "text": [
      "in process: 8/1000\r"
     ]
    },
    {
     "name": "stderr",
     "output_type": "stream",
     "text": [
      "0: 640x480 1 date, 1 number, 1 sender, 1 signer, 102.6ms\n",
      "Speed: 0.3ms preprocess, 102.6ms inference, 2.0ms postprocess per image at shape (1, 3, 640, 640)\n",
      "\n",
      "0: 160x640 1 typewritten, 10.0ms\n",
      "Speed: 0.1ms preprocess, 10.0ms inference, 0.3ms postprocess per image at shape (1, 3, 640, 640)\n",
      "\n",
      "0: 192x640 1 typewritten, 11.0ms\n",
      "Speed: 0.2ms preprocess, 11.0ms inference, 0.3ms postprocess per image at shape (1, 3, 640, 640)\n",
      "\n"
     ]
    },
    {
     "name": "stdout",
     "output_type": "stream",
     "text": [
      "in process: 9/1000\r"
     ]
    },
    {
     "name": "stderr",
     "output_type": "stream",
     "text": [
      "0: 640x480 1 content, 1 date, 1 number, 1 sender, 101.7ms\n",
      "Speed: 0.3ms preprocess, 101.7ms inference, 0.3ms postprocess per image at shape (1, 3, 640, 640)\n",
      "\n",
      "0: 192x640 1 handwrite, 10.6ms\n",
      "Speed: 0.1ms preprocess, 10.6ms inference, 0.4ms postprocess per image at shape (1, 3, 640, 640)\n",
      "\n",
      "0: 192x640 1 handwrite, 10.6ms\n",
      "Speed: 0.2ms preprocess, 10.6ms inference, 0.3ms postprocess per image at shape (1, 3, 640, 640)\n",
      "\n",
      "0: 640x480 1 signer, 104.2ms\n",
      "Speed: 0.3ms preprocess, 104.2ms inference, 0.3ms postprocess per image at shape (1, 3, 640, 640)\n"
     ]
    },
    {
     "name": "stdout",
     "output_type": "stream",
     "text": [
      "in process: 10/1000\r"
     ]
    },
    {
     "name": "stderr",
     "output_type": "stream",
     "text": [
      "\n",
      "0: 640x480 1 content, 1 date, 1 number, 1 sender, 102.4ms\n",
      "Speed: 0.3ms preprocess, 102.4ms inference, 0.3ms postprocess per image at shape (1, 3, 640, 640)\n",
      "\n",
      "0: 160x640 1 handwrite, 9.9ms\n",
      "Speed: 0.1ms preprocess, 9.9ms inference, 0.3ms postprocess per image at shape (1, 3, 640, 640)\n",
      "\n",
      "0: 160x640 1 handwrite, 9.6ms\n",
      "Speed: 0.1ms preprocess, 9.6ms inference, 0.3ms postprocess per image at shape (1, 3, 640, 640)\n",
      "\n",
      "0: 640x480 (no detections), 104.9ms\n",
      "Speed: 0.3ms preprocess, 104.9ms inference, 0.2ms postprocess per image at shape (1, 3, 640, 640)\n",
      "\n",
      "0: 640x480 1 sender, 1 signer, 101.8ms\n",
      "Speed: 0.3ms preprocess, 101.8ms inference, 0.3ms postprocess per image at shape (1, 3, 640, 640)\n"
     ]
    },
    {
     "name": "stdout",
     "output_type": "stream",
     "text": [
      "in process: 11/1000\r"
     ]
    },
    {
     "name": "stderr",
     "output_type": "stream",
     "text": [
      "\n",
      "0: 640x480 1 content, 1 date, 1 number, 1 sender, 1 signer, 103.0ms\n",
      "Speed: 0.3ms preprocess, 103.0ms inference, 2.5ms postprocess per image at shape (1, 3, 640, 640)\n",
      "\n",
      "0: 224x640 1 typewritten, 12.4ms\n",
      "Speed: 0.2ms preprocess, 12.4ms inference, 0.3ms postprocess per image at shape (1, 3, 640, 640)\n",
      "\n",
      "0: 128x640 1 handwrite, 8.8ms\n",
      "Speed: 0.2ms preprocess, 8.8ms inference, 0.3ms postprocess per image at shape (1, 3, 640, 640)\n"
     ]
    },
    {
     "name": "stdout",
     "output_type": "stream",
     "text": [
      "in process: 12/1000\r"
     ]
    },
    {
     "name": "stderr",
     "output_type": "stream",
     "text": [
      "\n",
      "0: 640x480 1 date, 1 number, 1 sender, 102.4ms\n",
      "Speed: 0.3ms preprocess, 102.4ms inference, 0.3ms postprocess per image at shape (1, 3, 640, 640)\n",
      "\n",
      "0: 192x640 1 handwrite, 11.4ms\n",
      "Speed: 0.2ms preprocess, 11.4ms inference, 0.3ms postprocess per image at shape (1, 3, 640, 640)\n",
      "\n",
      "0: 160x640 1 handwrite, 14.7ms\n",
      "Speed: 2.8ms preprocess, 14.7ms inference, 0.6ms postprocess per image at shape (1, 3, 640, 640)\n",
      "\n",
      "0: 640x480 (no detections), 103.5ms\n",
      "Speed: 0.3ms preprocess, 103.5ms inference, 0.2ms postprocess per image at shape (1, 3, 640, 640)\n",
      "\n",
      "0: 640x480 3 signers, 103.4ms\n",
      "Speed: 0.3ms preprocess, 103.4ms inference, 0.3ms postprocess per image at shape (1, 3, 640, 640)\n"
     ]
    },
    {
     "name": "stdout",
     "output_type": "stream",
     "text": [
      "in process: 13/1000\r"
     ]
    },
    {
     "name": "stderr",
     "output_type": "stream",
     "text": [
      "\n",
      "0: 640x480 1 date, 1 number, 2 senders, 1 signer, 102.7ms\n",
      "Speed: 0.3ms preprocess, 102.7ms inference, 3.0ms postprocess per image at shape (1, 3, 640, 640)\n",
      "\n",
      "0: 192x640 1 handwrite, 10.6ms\n",
      "Speed: 0.2ms preprocess, 10.6ms inference, 0.3ms postprocess per image at shape (1, 3, 640, 640)\n",
      "\n",
      "0: 160x640 1 handwrite, 11.1ms\n",
      "Speed: 0.2ms preprocess, 11.1ms inference, 0.4ms postprocess per image at shape (1, 3, 640, 640)\n",
      "\n"
     ]
    },
    {
     "name": "stdout",
     "output_type": "stream",
     "text": [
      "in process: 14/1000\r"
     ]
    },
    {
     "name": "stderr",
     "output_type": "stream",
     "text": [
      "0: 640x480 1 content, 1 date, 1 number, 1 sender, 1 signer, 102.4ms\n",
      "Speed: 0.3ms preprocess, 102.4ms inference, 0.3ms postprocess per image at shape (1, 3, 640, 640)\n",
      "\n",
      "0: 224x640 1 handwrite, 11.9ms\n",
      "Speed: 0.2ms preprocess, 11.9ms inference, 0.3ms postprocess per image at shape (1, 3, 640, 640)\n",
      "\n",
      "0: 128x640 1 handwrite, 8.4ms\n",
      "Speed: 0.1ms preprocess, 8.4ms inference, 0.3ms postprocess per image at shape (1, 3, 640, 640)\n",
      "\n"
     ]
    },
    {
     "name": "stdout",
     "output_type": "stream",
     "text": [
      "in process: 15/1000\r"
     ]
    },
    {
     "name": "stderr",
     "output_type": "stream",
     "text": [
      "0: 640x480 1 content, 1 date, 1 number, 1 sender, 1 signer, 102.2ms\n",
      "Speed: 0.3ms preprocess, 102.2ms inference, 1.9ms postprocess per image at shape (1, 3, 640, 640)\n",
      "\n",
      "0: 192x640 1 typewritten, 10.9ms\n",
      "Speed: 0.2ms preprocess, 10.9ms inference, 0.3ms postprocess per image at shape (1, 3, 640, 640)\n",
      "\n",
      "0: 160x640 1 handwrite, 11.1ms\n",
      "Speed: 0.2ms preprocess, 11.1ms inference, 0.3ms postprocess per image at shape (1, 3, 640, 640)\n"
     ]
    },
    {
     "name": "stdout",
     "output_type": "stream",
     "text": [
      "in process: 16/1000\r"
     ]
    },
    {
     "name": "stderr",
     "output_type": "stream",
     "text": [
      "\n",
      "0: 640x480 1 date, 1 number, 2 senders, 104.7ms\n",
      "Speed: 0.3ms preprocess, 104.7ms inference, 0.4ms postprocess per image at shape (1, 3, 640, 640)\n",
      "\n",
      "0: 192x640 1 handwrite, 10.7ms\n",
      "Speed: 0.2ms preprocess, 10.7ms inference, 0.3ms postprocess per image at shape (1, 3, 640, 640)\n",
      "\n",
      "0: 128x640 1 handwrite, 8.6ms\n",
      "Speed: 3.2ms preprocess, 8.6ms inference, 0.3ms postprocess per image at shape (1, 3, 640, 640)\n",
      "\n",
      "0: 640x480 1 signer, 102.6ms\n",
      "Speed: 0.3ms preprocess, 102.6ms inference, 0.3ms postprocess per image at shape (1, 3, 640, 640)\n"
     ]
    },
    {
     "name": "stdout",
     "output_type": "stream",
     "text": [
      "in process: 17/1000\r"
     ]
    },
    {
     "name": "stderr",
     "output_type": "stream",
     "text": [
      "\n",
      "0: 640x480 1 content, 1 date, 1 number, 1 sender, 101.8ms\n",
      "Speed: 0.3ms preprocess, 101.8ms inference, 0.3ms postprocess per image at shape (1, 3, 640, 640)\n",
      "\n",
      "0: 224x640 1 typewritten, 11.9ms\n",
      "Speed: 0.2ms preprocess, 11.9ms inference, 0.3ms postprocess per image at shape (1, 3, 640, 640)\n",
      "\n",
      "0: 128x640 2 typewrittens, 8.4ms\n",
      "Speed: 0.2ms preprocess, 8.4ms inference, 0.3ms postprocess per image at shape (1, 3, 640, 640)\n",
      "\n",
      "0: 640x480 (no detections), 118.3ms\n",
      "Speed: 0.3ms preprocess, 118.3ms inference, 0.2ms postprocess per image at shape (1, 3, 640, 640)\n",
      "\n",
      "0: 640x480 1 signer, 103.8ms\n",
      "Speed: 0.3ms preprocess, 103.8ms inference, 0.3ms postprocess per image at shape (1, 3, 640, 640)\n"
     ]
    },
    {
     "name": "stdout",
     "output_type": "stream",
     "text": [
      "in process: 18/1000\r"
     ]
    },
    {
     "name": "stderr",
     "output_type": "stream",
     "text": [
      "\n",
      "0: 640x480 2 dates, 1 number, 2 senders, 1 signer, 102.0ms\n",
      "Speed: 0.3ms preprocess, 102.0ms inference, 2.6ms postprocess per image at shape (1, 3, 640, 640)\n",
      "\n",
      "0: 128x640 1 handwrite, 8.3ms\n",
      "Speed: 0.2ms preprocess, 8.3ms inference, 0.3ms postprocess per image at shape (1, 3, 640, 640)\n",
      "\n",
      "0: 192x640 1 handwrite, 10.7ms\n",
      "Speed: 0.1ms preprocess, 10.7ms inference, 0.3ms postprocess per image at shape (1, 3, 640, 640)\n",
      "\n",
      "0: 192x640 1 handwrite, 10.6ms\n",
      "Speed: 0.2ms preprocess, 10.6ms inference, 0.3ms postprocess per image at shape (1, 3, 640, 640)\n"
     ]
    },
    {
     "name": "stdout",
     "output_type": "stream",
     "text": [
      "in process: 19/1000\r"
     ]
    },
    {
     "name": "stderr",
     "output_type": "stream",
     "text": [
      "\n",
      "0: 640x480 1 content, 1 date, 1 number, 1 sender, 104.4ms\n",
      "Speed: 0.3ms preprocess, 104.4ms inference, 0.4ms postprocess per image at shape (1, 3, 640, 640)\n",
      "\n",
      "0: 128x640 1 handwrite, 13.0ms\n",
      "Speed: 7.8ms preprocess, 13.0ms inference, 0.6ms postprocess per image at shape (1, 3, 640, 640)\n",
      "\n",
      "0: 160x640 1 handwrite, 14.7ms\n",
      "Speed: 0.1ms preprocess, 14.7ms inference, 0.6ms postprocess per image at shape (1, 3, 640, 640)\n",
      "\n",
      "0: 640x480 1 signer, 102.2ms\n",
      "Speed: 0.3ms preprocess, 102.2ms inference, 0.3ms postprocess per image at shape (1, 3, 640, 640)\n"
     ]
    },
    {
     "name": "stdout",
     "output_type": "stream",
     "text": [
      "in process: 20/1000\r"
     ]
    },
    {
     "name": "stderr",
     "output_type": "stream",
     "text": [
      "\n",
      "0: 640x480 1 date, 1 number, 2 senders, 1 signer, 103.1ms\n",
      "Speed: 0.3ms preprocess, 103.1ms inference, 1.7ms postprocess per image at shape (1, 3, 640, 640)\n",
      "\n",
      "0: 160x640 1 handwrite, 10.4ms\n",
      "Speed: 0.1ms preprocess, 10.4ms inference, 0.3ms postprocess per image at shape (1, 3, 640, 640)\n",
      "\n",
      "0: 160x640 1 handwrite, 10.4ms\n",
      "Speed: 0.2ms preprocess, 10.4ms inference, 0.3ms postprocess per image at shape (1, 3, 640, 640)\n",
      "\n"
     ]
    },
    {
     "name": "stdout",
     "output_type": "stream",
     "text": [
      "in process: 21/1000\r"
     ]
    },
    {
     "name": "stderr",
     "output_type": "stream",
     "text": [
      "0: 640x480 1 content, 1 date, 1 number, 1 sender, 1 signer, 106.5ms\n",
      "Speed: 0.3ms preprocess, 106.5ms inference, 0.4ms postprocess per image at shape (1, 3, 640, 640)\n",
      "\n",
      "0: 160x640 1 handwrite, 10.4ms\n",
      "Speed: 0.2ms preprocess, 10.4ms inference, 0.3ms postprocess per image at shape (1, 3, 640, 640)\n",
      "\n",
      "0: 192x640 1 handwrite, 11.3ms\n",
      "Speed: 0.1ms preprocess, 11.3ms inference, 0.3ms postprocess per image at shape (1, 3, 640, 640)\n"
     ]
    },
    {
     "name": "stdout",
     "output_type": "stream",
     "text": [
      "in process: 22/1000\r"
     ]
    },
    {
     "name": "stderr",
     "output_type": "stream",
     "text": [
      "\n",
      "0: 640x480 1 content, 1 date, 1 number, 1 sender, 104.4ms\n",
      "Speed: 0.3ms preprocess, 104.4ms inference, 2.1ms postprocess per image at shape (1, 3, 640, 640)\n",
      "\n",
      "0: 128x640 1 handwrite, 8.9ms\n",
      "Speed: 0.2ms preprocess, 8.9ms inference, 0.3ms postprocess per image at shape (1, 3, 640, 640)\n",
      "\n",
      "0: 160x640 1 handwrite, 10.6ms\n",
      "Speed: 0.1ms preprocess, 10.6ms inference, 0.3ms postprocess per image at shape (1, 3, 640, 640)\n",
      "\n",
      "0: 640x480 1 signer, 102.4ms\n",
      "Speed: 0.3ms preprocess, 102.4ms inference, 0.3ms postprocess per image at shape (1, 3, 640, 640)\n",
      "\n"
     ]
    },
    {
     "name": "stdout",
     "output_type": "stream",
     "text": [
      "in process: 23/1000\r"
     ]
    },
    {
     "name": "stderr",
     "output_type": "stream",
     "text": [
      "0: 640x480 1 date, 1 number, 2 senders, 104.0ms\n",
      "Speed: 0.3ms preprocess, 104.0ms inference, 2.2ms postprocess per image at shape (1, 3, 640, 640)\n",
      "\n",
      "0: 160x640 1 handwrite, 15.0ms\n",
      "Speed: 0.2ms preprocess, 15.0ms inference, 0.4ms postprocess per image at shape (1, 3, 640, 640)\n",
      "\n",
      "0: 192x640 1 handwrite, 12.2ms\n",
      "Speed: 0.1ms preprocess, 12.2ms inference, 0.4ms postprocess per image at shape (1, 3, 640, 640)\n"
     ]
    },
    {
     "name": "stdout",
     "output_type": "stream",
     "text": [
      "in process: 24/1000\r"
     ]
    },
    {
     "name": "stderr",
     "output_type": "stream",
     "text": [
      "\n",
      "0: 480x640 1 content, 1 date, 1 number, 1 sender, 1 signer, 108.1ms\n",
      "Speed: 0.3ms preprocess, 108.1ms inference, 0.3ms postprocess per image at shape (1, 3, 640, 640)\n",
      "\n",
      "0: 128x640 1 typewritten, 8.9ms\n",
      "Speed: 0.2ms preprocess, 8.9ms inference, 0.3ms postprocess per image at shape (1, 3, 640, 640)\n",
      "\n",
      "0: 224x640 1 typewritten, 12.4ms\n",
      "Speed: 0.2ms preprocess, 12.4ms inference, 0.3ms postprocess per image at shape (1, 3, 640, 640)\n"
     ]
    },
    {
     "name": "stdout",
     "output_type": "stream",
     "text": [
      "in process: 25/1000\r"
     ]
    },
    {
     "name": "stderr",
     "output_type": "stream",
     "text": [
      "\n",
      "0: 640x480 1 content, 1 date, 1 number, 1 sender, 105.3ms\n",
      "Speed: 0.3ms preprocess, 105.3ms inference, 1.8ms postprocess per image at shape (1, 3, 640, 640)\n",
      "\n",
      "0: 128x640 1 handwrite, 9.0ms\n",
      "Speed: 0.2ms preprocess, 9.0ms inference, 0.3ms postprocess per image at shape (1, 3, 640, 640)\n",
      "\n",
      "0: 192x640 1 typewritten, 11.5ms\n",
      "Speed: 0.1ms preprocess, 11.5ms inference, 0.3ms postprocess per image at shape (1, 3, 640, 640)\n",
      "\n",
      "0: 640x480 (no detections), 104.6ms\n",
      "Speed: 0.3ms preprocess, 104.6ms inference, 0.2ms postprocess per image at shape (1, 3, 640, 640)\n",
      "\n",
      "0: 640x480 1 signer, 104.5ms\n",
      "Speed: 0.3ms preprocess, 104.5ms inference, 0.3ms postprocess per image at shape (1, 3, 640, 640)\n"
     ]
    },
    {
     "name": "stdout",
     "output_type": "stream",
     "text": [
      "in process: 26/1000\r"
     ]
    },
    {
     "name": "stderr",
     "output_type": "stream",
     "text": [
      "\n",
      "0: 640x480 1 number, 102.8ms\n",
      "Speed: 0.3ms preprocess, 102.8ms inference, 1.6ms postprocess per image at shape (1, 3, 640, 640)\n",
      "\n",
      "0: 320x640 1 handwrite, 14.8ms\n",
      "Speed: 0.2ms preprocess, 14.8ms inference, 0.3ms postprocess per image at shape (1, 3, 640, 640)\n"
     ]
    },
    {
     "name": "stdout",
     "output_type": "stream",
     "text": [
      "in process: 27/1000\r"
     ]
    },
    {
     "name": "stderr",
     "output_type": "stream",
     "text": [
      "\n",
      "0: 480x640 1 sender, 107.5ms\n",
      "Speed: 0.3ms preprocess, 107.5ms inference, 0.3ms postprocess per image at shape (1, 3, 640, 640)\n",
      "\n",
      "0: 640x480 (no detections), 103.2ms\n",
      "Speed: 0.3ms preprocess, 103.2ms inference, 0.2ms postprocess per image at shape (1, 3, 640, 640)\n",
      "\n",
      "0: 640x480 2 senders, 104.1ms\n",
      "Speed: 0.3ms preprocess, 104.1ms inference, 0.3ms postprocess per image at shape (1, 3, 640, 640)\n",
      "\n",
      "0: 640x480 (no detections), 102.5ms\n",
      "Speed: 0.3ms preprocess, 102.5ms inference, 0.2ms postprocess per image at shape (1, 3, 640, 640)\n",
      "\n",
      "0: 640x480 (no detections), 104.4ms\n",
      "Speed: 0.3ms preprocess, 104.4ms inference, 0.2ms postprocess per image at shape (1, 3, 640, 640)\n",
      "\n",
      "0: 640x480 (no detections), 104.8ms\n",
      "Speed: 0.3ms preprocess, 104.8ms inference, 0.2ms postprocess per image at shape (1, 3, 640, 640)\n",
      "\n",
      "0: 640x480 (no detections), 104.6ms\n",
      "Speed: 0.3ms preprocess, 104.6ms inference, 0.2ms postprocess per image at shape (1, 3, 640, 640)\n",
      "\n",
      "0: 640x480 (no detections), 105.0ms\n",
      "Speed: 0.3ms preprocess, 105.0ms inference, 0.2ms postprocess per image at shape (1, 3, 640, 640)\n",
      "\n",
      "0: 640x480 (no detections), 103.3ms\n",
      "Speed: 0.3ms preprocess, 103.3ms inference, 0.2ms postprocess per image at shape (1, 3, 640, 640)\n",
      "\n",
      "0: 640x480 (no detections), 105.0ms\n",
      "Speed: 0.3ms preprocess, 105.0ms inference, 0.2ms postprocess per image at shape (1, 3, 640, 640)\n",
      "\n"
     ]
    },
    {
     "name": "stdout",
     "output_type": "stream",
     "text": [
      "in process: 28/1000\r"
     ]
    },
    {
     "name": "stderr",
     "output_type": "stream",
     "text": [
      "0: 640x480 1 content, 1 date, 1 number, 1 sender, 1 signer, 103.3ms\n",
      "Speed: 0.3ms preprocess, 103.3ms inference, 6.2ms postprocess per image at shape (1, 3, 640, 640)\n",
      "\n",
      "0: 160x640 1 typewritten, 10.4ms\n",
      "Speed: 0.1ms preprocess, 10.4ms inference, 0.3ms postprocess per image at shape (1, 3, 640, 640)\n",
      "\n",
      "0: 192x640 1 typewritten, 12.2ms\n",
      "Speed: 0.2ms preprocess, 12.2ms inference, 0.4ms postprocess per image at shape (1, 3, 640, 640)\n"
     ]
    },
    {
     "name": "stdout",
     "output_type": "stream",
     "text": [
      "in process: 29/1000\r"
     ]
    },
    {
     "name": "stderr",
     "output_type": "stream",
     "text": [
      "\n",
      "0: 640x480 1 date, 1 number, 1 sender, 1 signer, 105.2ms\n",
      "Speed: 0.3ms preprocess, 105.2ms inference, 0.3ms postprocess per image at shape (1, 3, 640, 640)\n",
      "\n",
      "0: 192x640 1 typewritten, 11.2ms\n",
      "Speed: 0.2ms preprocess, 11.2ms inference, 0.3ms postprocess per image at shape (1, 3, 640, 640)\n",
      "\n",
      "0: 192x640 1 typewritten, 10.4ms\n",
      "Speed: 29.5ms preprocess, 10.4ms inference, 0.3ms postprocess per image at shape (1, 3, 640, 640)\n",
      "\n"
     ]
    },
    {
     "name": "stdout",
     "output_type": "stream",
     "text": [
      "in process: 30/1000\r"
     ]
    },
    {
     "name": "stderr",
     "output_type": "stream",
     "text": [
      "0: 640x480 1 sender, 1 signer, 102.0ms\n",
      "Speed: 0.3ms preprocess, 102.0ms inference, 0.3ms postprocess per image at shape (1, 3, 640, 640)\n"
     ]
    },
    {
     "name": "stdout",
     "output_type": "stream",
     "text": [
      "in process: 31/1000\r"
     ]
    },
    {
     "name": "stderr",
     "output_type": "stream",
     "text": [
      "\n",
      "0: 640x480 1 content, 1 date, 1 number, 1 sender, 102.7ms\n",
      "Speed: 0.3ms preprocess, 102.7ms inference, 1.9ms postprocess per image at shape (1, 3, 640, 640)\n",
      "\n",
      "0: 192x640 1 handwrite, 10.8ms\n",
      "Speed: 0.2ms preprocess, 10.8ms inference, 0.3ms postprocess per image at shape (1, 3, 640, 640)\n",
      "\n",
      "0: 160x640 1 handwrite, 10.2ms\n",
      "Speed: 0.1ms preprocess, 10.2ms inference, 0.3ms postprocess per image at shape (1, 3, 640, 640)\n",
      "\n",
      "0: 640x480 1 signer, 108.0ms\n",
      "Speed: 0.3ms preprocess, 108.0ms inference, 0.3ms postprocess per image at shape (1, 3, 640, 640)\n",
      "\n"
     ]
    },
    {
     "name": "stdout",
     "output_type": "stream",
     "text": [
      "in process: 32/1000\r"
     ]
    },
    {
     "name": "stderr",
     "output_type": "stream",
     "text": [
      "0: 640x480 1 date, 1 number, 1 sender, 1 signer, 103.1ms\n",
      "Speed: 0.3ms preprocess, 103.1ms inference, 1.4ms postprocess per image at shape (1, 3, 640, 640)\n",
      "\n",
      "0: 160x640 1 handwrite, 14.4ms\n",
      "Speed: 0.2ms preprocess, 14.4ms inference, 0.6ms postprocess per image at shape (1, 3, 640, 640)\n",
      "\n",
      "0: 192x640 1 handwrite, 11.7ms\n",
      "Speed: 0.1ms preprocess, 11.7ms inference, 0.4ms postprocess per image at shape (1, 3, 640, 640)\n"
     ]
    },
    {
     "name": "stdout",
     "output_type": "stream",
     "text": [
      "in process: 33/1000\r"
     ]
    },
    {
     "name": "stderr",
     "output_type": "stream",
     "text": [
      "\n",
      "0: 640x480 1 content, 105.1ms\n",
      "Speed: 0.3ms preprocess, 105.1ms inference, 0.3ms postprocess per image at shape (1, 3, 640, 640)\n",
      "\n",
      "0: 640x480 1 signer, 104.5ms\n",
      "Speed: 0.3ms preprocess, 104.5ms inference, 0.3ms postprocess per image at shape (1, 3, 640, 640)\n",
      "\n"
     ]
    },
    {
     "name": "stdout",
     "output_type": "stream",
     "text": [
      "in process: 34/1000\r"
     ]
    },
    {
     "name": "stderr",
     "output_type": "stream",
     "text": [
      "0: 640x480 1 date, 1 number, 1 sender, 1 signer, 102.6ms\n",
      "Speed: 0.3ms preprocess, 102.6ms inference, 2.4ms postprocess per image at shape (1, 3, 640, 640)\n",
      "\n",
      "0: 192x640 1 handwrite, 10.8ms\n",
      "Speed: 0.2ms preprocess, 10.8ms inference, 0.3ms postprocess per image at shape (1, 3, 640, 640)\n",
      "\n",
      "0: 128x640 1 handwrite, 8.4ms\n",
      "Speed: 0.2ms preprocess, 8.4ms inference, 0.3ms postprocess per image at shape (1, 3, 640, 640)\n"
     ]
    },
    {
     "name": "stdout",
     "output_type": "stream",
     "text": [
      "in process: 35/1000\r"
     ]
    },
    {
     "name": "stderr",
     "output_type": "stream",
     "text": [
      "\n",
      "0: 640x480 1 content, 1 date, 1 number, 1 sender, 1 signer, 104.4ms\n",
      "Speed: 0.3ms preprocess, 104.4ms inference, 0.4ms postprocess per image at shape (1, 3, 640, 640)\n",
      "\n",
      "0: 192x640 1 handwrite, 10.9ms\n",
      "Speed: 0.2ms preprocess, 10.9ms inference, 0.3ms postprocess per image at shape (1, 3, 640, 640)\n",
      "\n",
      "0: 160x640 1 handwrite, 10.4ms\n",
      "Speed: 0.2ms preprocess, 10.4ms inference, 0.3ms postprocess per image at shape (1, 3, 640, 640)\n"
     ]
    },
    {
     "name": "stdout",
     "output_type": "stream",
     "text": [
      "in process: 36/1000\r"
     ]
    },
    {
     "name": "stderr",
     "output_type": "stream",
     "text": [
      "\n",
      "0: 640x480 1 date, 1 number, 2 senders, 1 signer, 104.7ms\n",
      "Speed: 0.3ms preprocess, 104.7ms inference, 1.8ms postprocess per image at shape (1, 3, 640, 640)\n",
      "\n",
      "0: 160x640 1 handwrite, 9.8ms\n",
      "Speed: 0.1ms preprocess, 9.8ms inference, 0.3ms postprocess per image at shape (1, 3, 640, 640)\n",
      "\n",
      "0: 192x640 1 handwrite, 10.8ms\n",
      "Speed: 0.2ms preprocess, 10.8ms inference, 0.3ms postprocess per image at shape (1, 3, 640, 640)\n"
     ]
    },
    {
     "name": "stdout",
     "output_type": "stream",
     "text": [
      "in process: 37/1000\r"
     ]
    },
    {
     "name": "stderr",
     "output_type": "stream",
     "text": [
      "\n",
      "0: 640x480 1 content, 1 date, 1 number, 1 sender, 104.2ms\n",
      "Speed: 0.3ms preprocess, 104.2ms inference, 0.3ms postprocess per image at shape (1, 3, 640, 640)\n",
      "\n",
      "0: 192x640 1 handwrite, 10.8ms\n",
      "Speed: 0.2ms preprocess, 10.8ms inference, 0.3ms postprocess per image at shape (1, 3, 640, 640)\n",
      "\n",
      "0: 128x640 1 handwrite, 8.4ms\n",
      "Speed: 0.2ms preprocess, 8.4ms inference, 0.3ms postprocess per image at shape (1, 3, 640, 640)\n",
      "\n",
      "0: 640x480 1 signer, 103.9ms\n",
      "Speed: 0.3ms preprocess, 103.9ms inference, 0.3ms postprocess per image at shape (1, 3, 640, 640)\n"
     ]
    },
    {
     "name": "stdout",
     "output_type": "stream",
     "text": [
      "in process: 38/1000\r"
     ]
    },
    {
     "name": "stderr",
     "output_type": "stream",
     "text": [
      "\n",
      "0: 640x480 1 sender, 104.9ms\n",
      "Speed: 0.3ms preprocess, 104.9ms inference, 0.3ms postprocess per image at shape (1, 3, 640, 640)\n",
      "\n",
      "0: 640x480 1 signer, 103.8ms\n",
      "Speed: 0.3ms preprocess, 103.8ms inference, 0.3ms postprocess per image at shape (1, 3, 640, 640)\n"
     ]
    },
    {
     "name": "stdout",
     "output_type": "stream",
     "text": [
      "in process: 39/1000\r"
     ]
    },
    {
     "name": "stderr",
     "output_type": "stream",
     "text": [
      "\n",
      "0: 640x480 1 content, 1 date, 1 number, 1 sender, 1 signer, 103.9ms\n",
      "Speed: 0.3ms preprocess, 103.9ms inference, 0.4ms postprocess per image at shape (1, 3, 640, 640)\n",
      "\n",
      "0: 160x640 1 handwrite, 10.1ms\n",
      "Speed: 0.2ms preprocess, 10.1ms inference, 0.3ms postprocess per image at shape (1, 3, 640, 640)\n",
      "\n",
      "0: 192x640 1 handwrite, 10.8ms\n",
      "Speed: 0.1ms preprocess, 10.8ms inference, 0.3ms postprocess per image at shape (1, 3, 640, 640)\n"
     ]
    },
    {
     "name": "stdout",
     "output_type": "stream",
     "text": [
      "in process: 40/1000\r"
     ]
    },
    {
     "name": "stderr",
     "output_type": "stream",
     "text": [
      "\n",
      "0: 640x480 (no detections), 103.7ms\n",
      "Speed: 0.3ms preprocess, 103.7ms inference, 1.5ms postprocess per image at shape (1, 3, 640, 640)\n",
      "\n",
      "0: 640x480 1 date, 1 sender, 104.1ms\n",
      "Speed: 0.3ms preprocess, 104.1ms inference, 0.3ms postprocess per image at shape (1, 3, 640, 640)\n",
      "\n",
      "0: 192x640 1 typewritten, 15.2ms\n",
      "Speed: 0.1ms preprocess, 15.2ms inference, 0.6ms postprocess per image at shape (1, 3, 640, 640)\n",
      "\n",
      "0: 640x480 2 senders, 1 signer, 104.1ms\n",
      "Speed: 0.3ms preprocess, 104.1ms inference, 0.3ms postprocess per image at shape (1, 3, 640, 640)\n"
     ]
    },
    {
     "name": "stdout",
     "output_type": "stream",
     "text": [
      "in process: 41/1000\r"
     ]
    },
    {
     "name": "stderr",
     "output_type": "stream",
     "text": [
      "\n",
      "0: 640x480 1 content, 1 sender, 103.8ms\n",
      "Speed: 0.3ms preprocess, 103.8ms inference, 2.4ms postprocess per image at shape (1, 3, 640, 640)\n",
      "\n",
      "0: 640x480 1 signer, 104.7ms\n",
      "Speed: 0.3ms preprocess, 104.7ms inference, 0.3ms postprocess per image at shape (1, 3, 640, 640)\n"
     ]
    },
    {
     "name": "stdout",
     "output_type": "stream",
     "text": [
      "in process: 42/1000\r"
     ]
    },
    {
     "name": "stderr",
     "output_type": "stream",
     "text": [
      "\n",
      "0: 640x480 1 date, 1 number, 1 sender, 102.6ms\n",
      "Speed: 0.3ms preprocess, 102.6ms inference, 2.0ms postprocess per image at shape (1, 3, 640, 640)\n",
      "\n",
      "0: 128x640 1 handwrite, 8.4ms\n",
      "Speed: 0.2ms preprocess, 8.4ms inference, 0.3ms postprocess per image at shape (1, 3, 640, 640)\n",
      "\n",
      "0: 192x640 1 handwrite, 10.7ms\n",
      "Speed: 0.1ms preprocess, 10.7ms inference, 0.3ms postprocess per image at shape (1, 3, 640, 640)\n",
      "\n",
      "0: 640x480 (no detections), 104.3ms\n",
      "Speed: 0.3ms preprocess, 104.3ms inference, 0.2ms postprocess per image at shape (1, 3, 640, 640)\n",
      "\n",
      "0: 640x480 1 sender, 1 signer, 104.6ms\n",
      "Speed: 0.3ms preprocess, 104.6ms inference, 0.3ms postprocess per image at shape (1, 3, 640, 640)\n",
      "\n"
     ]
    },
    {
     "name": "stdout",
     "output_type": "stream",
     "text": [
      "in process: 43/1000\r"
     ]
    },
    {
     "name": "stderr",
     "output_type": "stream",
     "text": [
      "0: 640x480 1 date, 1 number, 2 senders, 102.9ms\n",
      "Speed: 0.3ms preprocess, 102.9ms inference, 1.6ms postprocess per image at shape (1, 3, 640, 640)\n",
      "\n",
      "0: 160x640 1 handwrite, 10.3ms\n",
      "Speed: 0.2ms preprocess, 10.3ms inference, 0.3ms postprocess per image at shape (1, 3, 640, 640)\n",
      "\n",
      "0: 160x640 1 typewritten, 9.6ms\n",
      "Speed: 0.1ms preprocess, 9.6ms inference, 0.3ms postprocess per image at shape (1, 3, 640, 640)\n",
      "\n",
      "0: 640x480 1 signer, 102.6ms\n",
      "Speed: 0.3ms preprocess, 102.6ms inference, 0.3ms postprocess per image at shape (1, 3, 640, 640)\n"
     ]
    },
    {
     "name": "stdout",
     "output_type": "stream",
     "text": [
      "in process: 44/1000\r"
     ]
    },
    {
     "name": "stderr",
     "output_type": "stream",
     "text": [
      "\n",
      "0: 640x480 1 date, 1 number, 1 sender, 1 signer, 102.5ms\n",
      "Speed: 0.3ms preprocess, 102.5ms inference, 1.5ms postprocess per image at shape (1, 3, 640, 640)\n",
      "\n",
      "0: 128x640 1 handwrite, 12.7ms\n",
      "Speed: 0.2ms preprocess, 12.7ms inference, 0.6ms postprocess per image at shape (1, 3, 640, 640)\n",
      "\n",
      "0: 128x640 1 handwrite, 12.0ms\n",
      "Speed: 0.1ms preprocess, 12.0ms inference, 0.6ms postprocess per image at shape (1, 3, 640, 640)\n"
     ]
    },
    {
     "name": "stdout",
     "output_type": "stream",
     "text": [
      "in process: 45/1000\r"
     ]
    },
    {
     "name": "stderr",
     "output_type": "stream",
     "text": [
      "\n",
      "0: 640x480 1 date, 1 number, 1 sender, 1 signer, 105.8ms\n",
      "Speed: 0.3ms preprocess, 105.8ms inference, 0.4ms postprocess per image at shape (1, 3, 640, 640)\n",
      "\n",
      "0: 160x640 1 handwrite, 14.7ms\n",
      "Speed: 0.1ms preprocess, 14.7ms inference, 0.6ms postprocess per image at shape (1, 3, 640, 640)\n",
      "\n",
      "0: 160x640 1 handwrite, 10.0ms\n",
      "Speed: 0.2ms preprocess, 10.0ms inference, 0.3ms postprocess per image at shape (1, 3, 640, 640)\n",
      "\n"
     ]
    },
    {
     "name": "stdout",
     "output_type": "stream",
     "text": [
      "in process: 46/1000\r"
     ]
    },
    {
     "name": "stderr",
     "output_type": "stream",
     "text": [
      "0: 640x480 1 content, 1 date, 1 number, 1 sender, 104.8ms\n",
      "Speed: 0.3ms preprocess, 104.8ms inference, 2.4ms postprocess per image at shape (1, 3, 640, 640)\n",
      "\n",
      "0: 160x640 2 typewrittens, 9.9ms\n",
      "Speed: 0.2ms preprocess, 9.9ms inference, 0.3ms postprocess per image at shape (1, 3, 640, 640)\n",
      "\n",
      "0: 224x640 1 typewritten, 11.9ms\n",
      "Speed: 0.2ms preprocess, 11.9ms inference, 0.3ms postprocess per image at shape (1, 3, 640, 640)\n",
      "\n",
      "0: 640x480 1 sender, 1 signer, 104.7ms\n",
      "Speed: 0.3ms preprocess, 104.7ms inference, 0.3ms postprocess per image at shape (1, 3, 640, 640)\n"
     ]
    },
    {
     "name": "stdout",
     "output_type": "stream",
     "text": [
      "in process: 47/1000\r"
     ]
    },
    {
     "name": "stderr",
     "output_type": "stream",
     "text": [
      "\n",
      "0: 640x480 1 content, 2 numbers, 1 sender, 102.7ms\n",
      "Speed: 0.3ms preprocess, 102.7ms inference, 2.1ms postprocess per image at shape (1, 3, 640, 640)\n",
      "\n",
      "0: 192x640 1 handwrite, 10.8ms\n",
      "Speed: 0.2ms preprocess, 10.8ms inference, 0.3ms postprocess per image at shape (1, 3, 640, 640)\n",
      "\n",
      "0: 320x640 2 handwrites, 14.3ms\n",
      "Speed: 0.2ms preprocess, 14.3ms inference, 0.3ms postprocess per image at shape (1, 3, 640, 640)\n",
      "\n",
      "0: 640x480 1 signer, 108.7ms\n",
      "Speed: 0.3ms preprocess, 108.7ms inference, 0.3ms postprocess per image at shape (1, 3, 640, 640)\n",
      "\n"
     ]
    },
    {
     "name": "stdout",
     "output_type": "stream",
     "text": [
      "in process: 48/1000\r"
     ]
    },
    {
     "name": "stderr",
     "output_type": "stream",
     "text": [
      "0: 640x480 1 date, 1 number, 1 sender, 102.6ms\n",
      "Speed: 0.3ms preprocess, 102.6ms inference, 1.4ms postprocess per image at shape (1, 3, 640, 640)\n",
      "\n",
      "0: 160x640 1 typewritten, 9.9ms\n",
      "Speed: 0.2ms preprocess, 9.9ms inference, 0.3ms postprocess per image at shape (1, 3, 640, 640)\n",
      "\n",
      "0: 288x640 1 typewritten, 17.1ms\n",
      "Speed: 0.2ms preprocess, 17.1ms inference, 0.4ms postprocess per image at shape (1, 3, 640, 640)\n",
      "\n",
      "0: 640x480 (no detections), 108.5ms\n",
      "Speed: 0.3ms preprocess, 108.5ms inference, 0.3ms postprocess per image at shape (1, 3, 640, 640)\n",
      "\n",
      "0: 640x480 (no detections), 104.1ms\n",
      "Speed: 0.3ms preprocess, 104.1ms inference, 0.2ms postprocess per image at shape (1, 3, 640, 640)\n",
      "\n",
      "0: 640x480 (no detections), 104.8ms\n",
      "Speed: 0.3ms preprocess, 104.8ms inference, 0.2ms postprocess per image at shape (1, 3, 640, 640)\n",
      "\n",
      "0: 640x480 1 signer, 104.8ms\n",
      "Speed: 0.3ms preprocess, 104.8ms inference, 0.3ms postprocess per image at shape (1, 3, 640, 640)\n"
     ]
    },
    {
     "name": "stdout",
     "output_type": "stream",
     "text": [
      "in process: 49/1000\r"
     ]
    },
    {
     "name": "stderr",
     "output_type": "stream",
     "text": [
      "\n",
      "0: 640x480 1 sender, 1 signer, 102.9ms\n",
      "Speed: 0.3ms preprocess, 102.9ms inference, 0.3ms postprocess per image at shape (1, 3, 640, 640)\n"
     ]
    },
    {
     "name": "stdout",
     "output_type": "stream",
     "text": [
      "in process: 50/1000\r"
     ]
    },
    {
     "name": "stderr",
     "output_type": "stream",
     "text": [
      "\n",
      "0: 640x480 1 signer, 102.6ms\n",
      "Speed: 0.3ms preprocess, 102.6ms inference, 2.1ms postprocess per image at shape (1, 3, 640, 640)\n"
     ]
    },
    {
     "name": "stdout",
     "output_type": "stream",
     "text": [
      "in process: 51/1000\r"
     ]
    },
    {
     "name": "stderr",
     "output_type": "stream",
     "text": [
      "\n",
      "0: 640x480 (no detections), 103.1ms\n",
      "Speed: 0.3ms preprocess, 103.1ms inference, 0.2ms postprocess per image at shape (1, 3, 640, 640)\n",
      "\n",
      "0: 640x480 1 signer, 103.2ms\n",
      "Speed: 0.3ms preprocess, 103.2ms inference, 0.3ms postprocess per image at shape (1, 3, 640, 640)\n",
      "\n"
     ]
    },
    {
     "name": "stdout",
     "output_type": "stream",
     "text": [
      "in process: 52/1000\r"
     ]
    },
    {
     "name": "stderr",
     "output_type": "stream",
     "text": [
      "0: 640x480 1 date, 1 number, 1 sender, 1 signer, 102.9ms\n",
      "Speed: 0.3ms preprocess, 102.9ms inference, 2.5ms postprocess per image at shape (1, 3, 640, 640)\n",
      "\n",
      "0: 160x640 1 handwrite, 10.1ms\n",
      "Speed: 0.2ms preprocess, 10.1ms inference, 0.3ms postprocess per image at shape (1, 3, 640, 640)\n",
      "\n",
      "0: 160x640 1 handwrite, 9.7ms\n",
      "Speed: 0.1ms preprocess, 9.7ms inference, 0.3ms postprocess per image at shape (1, 3, 640, 640)\n"
     ]
    },
    {
     "name": "stdout",
     "output_type": "stream",
     "text": [
      "in process: 53/1000\r"
     ]
    },
    {
     "name": "stderr",
     "output_type": "stream",
     "text": [
      "\n",
      "0: 640x480 1 date, 2 senders, 1 signer, 106.6ms\n",
      "Speed: 0.3ms preprocess, 106.6ms inference, 0.3ms postprocess per image at shape (1, 3, 640, 640)\n",
      "\n",
      "0: 192x640 1 handwrite, 10.7ms\n",
      "Speed: 0.2ms preprocess, 10.7ms inference, 0.3ms postprocess per image at shape (1, 3, 640, 640)\n"
     ]
    },
    {
     "name": "stdout",
     "output_type": "stream",
     "text": [
      "in process: 54/1000\r"
     ]
    },
    {
     "name": "stderr",
     "output_type": "stream",
     "text": [
      "\n",
      "0: 640x480 1 sender, 1 signer, 104.6ms\n",
      "Speed: 0.3ms preprocess, 104.6ms inference, 1.7ms postprocess per image at shape (1, 3, 640, 640)\n",
      "\n"
     ]
    },
    {
     "name": "stdout",
     "output_type": "stream",
     "text": [
      "in process: 55/1000\r"
     ]
    },
    {
     "name": "stderr",
     "output_type": "stream",
     "text": [
      "0: 640x480 1 date, 1 number, 1 sender, 102.4ms\n",
      "Speed: 0.3ms preprocess, 102.4ms inference, 0.3ms postprocess per image at shape (1, 3, 640, 640)\n",
      "\n",
      "0: 160x640 1 handwrite, 13.9ms\n",
      "Speed: 0.1ms preprocess, 13.9ms inference, 0.6ms postprocess per image at shape (1, 3, 640, 640)\n",
      "\n",
      "0: 192x640 1 typewritten, 11.6ms\n",
      "Speed: 0.1ms preprocess, 11.6ms inference, 0.4ms postprocess per image at shape (1, 3, 640, 640)\n",
      "\n",
      "0: 640x480 1 signer, 104.8ms\n",
      "Speed: 0.3ms preprocess, 104.8ms inference, 0.3ms postprocess per image at shape (1, 3, 640, 640)\n"
     ]
    },
    {
     "name": "stdout",
     "output_type": "stream",
     "text": [
      "in process: 56/1000\r"
     ]
    },
    {
     "name": "stderr",
     "output_type": "stream",
     "text": [
      "\n",
      "0: 640x480 1 content, 1 date, 1 number, 1 sender, 1 signer, 102.7ms\n",
      "Speed: 0.3ms preprocess, 102.7ms inference, 2.6ms postprocess per image at shape (1, 3, 640, 640)\n",
      "\n",
      "0: 160x640 1 handwrite, 14.6ms\n",
      "Speed: 0.2ms preprocess, 14.6ms inference, 0.6ms postprocess per image at shape (1, 3, 640, 640)\n",
      "\n",
      "0: 224x640 1 typewritten, 12.6ms\n",
      "Speed: 0.2ms preprocess, 12.6ms inference, 0.4ms postprocess per image at shape (1, 3, 640, 640)\n"
     ]
    },
    {
     "name": "stdout",
     "output_type": "stream",
     "text": [
      "in process: 57/1000\r"
     ]
    },
    {
     "name": "stderr",
     "output_type": "stream",
     "text": [
      "\n",
      "0: 640x480 1 date, 1 number, 1 sender, 105.7ms\n",
      "Speed: 0.3ms preprocess, 105.7ms inference, 0.4ms postprocess per image at shape (1, 3, 640, 640)\n",
      "\n",
      "0: 320x640 1 handwrite, 14.0ms\n",
      "Speed: 0.2ms preprocess, 14.0ms inference, 0.3ms postprocess per image at shape (1, 3, 640, 640)\n",
      "\n",
      "0: 128x640 1 handwrite, 1 typewritten, 12.3ms\n",
      "Speed: 0.1ms preprocess, 12.3ms inference, 0.6ms postprocess per image at shape (1, 3, 640, 640)\n",
      "\n",
      "0: 640x480 2 signers, 106.6ms\n",
      "Speed: 0.3ms preprocess, 106.6ms inference, 0.3ms postprocess per image at shape (1, 3, 640, 640)\n"
     ]
    },
    {
     "name": "stdout",
     "output_type": "stream",
     "text": [
      "in process: 58/1000\r"
     ]
    },
    {
     "name": "stderr",
     "output_type": "stream",
     "text": [
      "\n",
      "0: 640x480 1 number, 1 sender, 1 signer, 102.9ms\n",
      "Speed: 0.3ms preprocess, 102.9ms inference, 1.8ms postprocess per image at shape (1, 3, 640, 640)\n",
      "\n",
      "0: 128x640 1 handwrite, 12.3ms\n",
      "Speed: 0.2ms preprocess, 12.3ms inference, 0.6ms postprocess per image at shape (1, 3, 640, 640)\n"
     ]
    },
    {
     "name": "stdout",
     "output_type": "stream",
     "text": [
      "in process: 59/1000\r"
     ]
    },
    {
     "name": "stderr",
     "output_type": "stream",
     "text": [
      "\n",
      "0: 640x480 1 content, 1 date, 1 number, 1 sender, 1 signer, 104.6ms\n",
      "Speed: 0.3ms preprocess, 104.6ms inference, 0.3ms postprocess per image at shape (1, 3, 640, 640)\n",
      "\n",
      "0: 224x640 2 typewrittens, 11.8ms\n",
      "Speed: 0.2ms preprocess, 11.8ms inference, 0.3ms postprocess per image at shape (1, 3, 640, 640)\n",
      "\n",
      "0: 128x640 1 handwrite, 8.4ms\n",
      "Speed: 0.2ms preprocess, 8.4ms inference, 0.3ms postprocess per image at shape (1, 3, 640, 640)\n",
      "\n"
     ]
    },
    {
     "name": "stdout",
     "output_type": "stream",
     "text": [
      "in process: 60/1000\r"
     ]
    },
    {
     "name": "stderr",
     "output_type": "stream",
     "text": [
      "0: 640x480 1 date, 1 number, 1 sender, 105.1ms\n",
      "Speed: 0.3ms preprocess, 105.1ms inference, 0.3ms postprocess per image at shape (1, 3, 640, 640)\n",
      "\n",
      "0: 160x640 1 handwrite, 9.9ms\n",
      "Speed: 0.1ms preprocess, 9.9ms inference, 0.3ms postprocess per image at shape (1, 3, 640, 640)\n",
      "\n",
      "0: 192x640 1 typewritten, 10.7ms\n",
      "Speed: 0.2ms preprocess, 10.7ms inference, 0.3ms postprocess per image at shape (1, 3, 640, 640)\n",
      "\n",
      "0: 640x480 1 signer, 105.9ms\n",
      "Speed: 0.3ms preprocess, 105.9ms inference, 0.7ms postprocess per image at shape (1, 3, 640, 640)\n",
      "\n"
     ]
    },
    {
     "name": "stdout",
     "output_type": "stream",
     "text": [
      "in process: 61/1000\r"
     ]
    },
    {
     "name": "stderr",
     "output_type": "stream",
     "text": [
      "0: 640x480 1 content, 1 date, 1 number, 1 sender, 1 signer, 104.4ms\n",
      "Speed: 0.3ms preprocess, 104.4ms inference, 1.9ms postprocess per image at shape (1, 3, 640, 640)\n",
      "\n",
      "0: 128x640 1 handwrite, 12.5ms\n",
      "Speed: 0.2ms preprocess, 12.5ms inference, 0.6ms postprocess per image at shape (1, 3, 640, 640)\n",
      "\n",
      "0: 128x640 1 handwrite, 12.2ms\n",
      "Speed: 0.2ms preprocess, 12.2ms inference, 0.6ms postprocess per image at shape (1, 3, 640, 640)\n"
     ]
    },
    {
     "name": "stdout",
     "output_type": "stream",
     "text": [
      "in process: 62/1000\r"
     ]
    },
    {
     "name": "stderr",
     "output_type": "stream",
     "text": [
      "\n",
      "0: 640x480 1 date, 1 number, 3 senders, 1 signer, 103.2ms\n",
      "Speed: 0.3ms preprocess, 103.2ms inference, 1.7ms postprocess per image at shape (1, 3, 640, 640)\n",
      "\n",
      "0: 288x640 1 handwrite, 18.5ms\n",
      "Speed: 0.2ms preprocess, 18.5ms inference, 0.6ms postprocess per image at shape (1, 3, 640, 640)\n",
      "\n",
      "0: 192x640 1 handwrite, 15.7ms\n",
      "Speed: 0.1ms preprocess, 15.7ms inference, 0.6ms postprocess per image at shape (1, 3, 640, 640)\n",
      "\n"
     ]
    },
    {
     "name": "stdout",
     "output_type": "stream",
     "text": [
      "in process: 63/1000\r"
     ]
    },
    {
     "name": "stderr",
     "output_type": "stream",
     "text": [
      "0: 640x480 1 date, 1 number, 2 senders, 1 signer, 105.4ms\n",
      "Speed: 0.3ms preprocess, 105.4ms inference, 0.4ms postprocess per image at shape (1, 3, 640, 640)\n",
      "\n",
      "0: 256x640 1 handwrite, 12.3ms\n",
      "Speed: 0.1ms preprocess, 12.3ms inference, 0.3ms postprocess per image at shape (1, 3, 640, 640)\n",
      "\n",
      "0: 128x640 1 handwrite, 8.1ms\n",
      "Speed: 0.1ms preprocess, 8.1ms inference, 0.3ms postprocess per image at shape (1, 3, 640, 640)\n"
     ]
    },
    {
     "name": "stdout",
     "output_type": "stream",
     "text": [
      "in process: 64/1000\r"
     ]
    },
    {
     "name": "stderr",
     "output_type": "stream",
     "text": [
      "\n",
      "0: 640x480 1 date, 1 sender, 1 signer, 111.1ms\n",
      "Speed: 0.3ms preprocess, 111.1ms inference, 2.5ms postprocess per image at shape (1, 3, 640, 640)\n",
      "\n",
      "0: 160x640 1 handwrite, 1 typewritten, 10.0ms\n",
      "Speed: 0.2ms preprocess, 10.0ms inference, 0.3ms postprocess per image at shape (1, 3, 640, 640)\n",
      "\n",
      "0: 640x480 1 date, 1 number, 1 sender, 1 signer, 102.4ms\n",
      "Speed: 0.3ms preprocess, 102.4ms inference, 0.3ms postprocess per image at shape (1, 3, 640, 640)\n",
      "\n",
      "0: 160x640 1 typewritten, 10.1ms\n",
      "Speed: 0.1ms preprocess, 10.1ms inference, 0.3ms postprocess per image at shape (1, 3, 640, 640)\n"
     ]
    },
    {
     "name": "stdout",
     "output_type": "stream",
     "text": [
      "in process: 65/1000\r"
     ]
    },
    {
     "name": "stderr",
     "output_type": "stream",
     "text": [
      "\n",
      "0: 128x640 2 typewrittens, 8.4ms\n",
      "Speed: 0.2ms preprocess, 8.4ms inference, 0.3ms postprocess per image at shape (1, 3, 640, 640)\n",
      "\n"
     ]
    },
    {
     "name": "stdout",
     "output_type": "stream",
     "text": [
      "in process: 66/1000\r"
     ]
    },
    {
     "name": "stderr",
     "output_type": "stream",
     "text": [
      "0: 640x480 1 sender, 105.4ms\n",
      "Speed: 0.3ms preprocess, 105.4ms inference, 0.3ms postprocess per image at shape (1, 3, 640, 640)\n",
      "\n"
     ]
    },
    {
     "name": "stdout",
     "output_type": "stream",
     "text": [
      "in process: 67/1000\r"
     ]
    },
    {
     "name": "stderr",
     "output_type": "stream",
     "text": [
      "0: 640x480 1 date, 1 number, 1 sender, 1 signer, 105.2ms\n",
      "Speed: 0.3ms preprocess, 105.2ms inference, 0.4ms postprocess per image at shape (1, 3, 640, 640)\n",
      "\n",
      "0: 192x640 1 handwrite, 10.6ms\n",
      "Speed: 0.2ms preprocess, 10.6ms inference, 0.3ms postprocess per image at shape (1, 3, 640, 640)\n",
      "\n",
      "0: 224x640 1 typewritten, 11.7ms\n",
      "Speed: 0.2ms preprocess, 11.7ms inference, 0.3ms postprocess per image at shape (1, 3, 640, 640)\n"
     ]
    },
    {
     "name": "stdout",
     "output_type": "stream",
     "text": [
      "in process: 68/1000\r"
     ]
    },
    {
     "name": "stderr",
     "output_type": "stream",
     "text": [
      "\n",
      "0: 640x480 (no detections), 102.5ms\n",
      "Speed: 0.3ms preprocess, 102.5ms inference, 0.2ms postprocess per image at shape (1, 3, 640, 640)\n",
      "\n",
      "0: 640x480 2 senders, 101.9ms\n",
      "Speed: 0.3ms preprocess, 101.9ms inference, 0.3ms postprocess per image at shape (1, 3, 640, 640)\n",
      "\n",
      "0: 640x480 (no detections), 105.0ms\n",
      "Speed: 0.3ms preprocess, 105.0ms inference, 0.2ms postprocess per image at shape (1, 3, 640, 640)\n",
      "\n",
      "0: 640x480 (no detections), 102.8ms\n",
      "Speed: 0.3ms preprocess, 102.8ms inference, 0.2ms postprocess per image at shape (1, 3, 640, 640)\n",
      "\n",
      "0: 640x480 (no detections), 102.7ms\n",
      "Speed: 0.3ms preprocess, 102.7ms inference, 0.2ms postprocess per image at shape (1, 3, 640, 640)\n",
      "\n",
      "0: 640x480 (no detections), 103.6ms\n",
      "Speed: 0.3ms preprocess, 103.6ms inference, 0.2ms postprocess per image at shape (1, 3, 640, 640)\n",
      "\n",
      "0: 640x480 (no detections), 104.4ms\n",
      "Speed: 0.3ms preprocess, 104.4ms inference, 0.2ms postprocess per image at shape (1, 3, 640, 640)\n",
      "\n",
      "0: 640x480 1 content, 1 sender, 1 signer, 102.8ms\n",
      "Speed: 0.3ms preprocess, 102.8ms inference, 0.3ms postprocess per image at shape (1, 3, 640, 640)\n"
     ]
    },
    {
     "name": "stdout",
     "output_type": "stream",
     "text": [
      "in process: 69/1000\r"
     ]
    },
    {
     "name": "stderr",
     "output_type": "stream",
     "text": [
      "\n",
      "0: 640x480 1 content, 1 date, 1 number, 1 sender, 1 signer, 102.9ms\n",
      "Speed: 0.3ms preprocess, 102.9ms inference, 5.3ms postprocess per image at shape (1, 3, 640, 640)\n",
      "\n",
      "0: 160x640 1 handwrite, 9.9ms\n",
      "Speed: 0.2ms preprocess, 9.9ms inference, 0.3ms postprocess per image at shape (1, 3, 640, 640)\n",
      "\n",
      "0: 192x640 1 handwrite, 11.9ms\n",
      "Speed: 0.2ms preprocess, 11.9ms inference, 0.4ms postprocess per image at shape (1, 3, 640, 640)\n"
     ]
    },
    {
     "name": "stdout",
     "output_type": "stream",
     "text": [
      "in process: 70/1000\r"
     ]
    },
    {
     "name": "stderr",
     "output_type": "stream",
     "text": [
      "\n",
      "0: 640x480 1 date, 2 numbers, 1 sender, 111.2ms\n",
      "Speed: 0.3ms preprocess, 111.2ms inference, 0.7ms postprocess per image at shape (1, 3, 640, 640)\n",
      "\n",
      "0: 160x640 1 handwrite, 1 typewritten, 10.8ms\n",
      "Speed: 0.2ms preprocess, 10.8ms inference, 0.3ms postprocess per image at shape (1, 3, 640, 640)\n",
      "\n",
      "0: 192x640 1 typewritten, 11.4ms\n",
      "Speed: 0.1ms preprocess, 11.4ms inference, 0.3ms postprocess per image at shape (1, 3, 640, 640)\n",
      "\n",
      "0: 160x640 1 handwrite, 1 typewritten, 14.8ms\n",
      "Speed: 0.2ms preprocess, 14.8ms inference, 0.6ms postprocess per image at shape (1, 3, 640, 640)\n",
      "\n",
      "0: 640x480 (no detections), 104.8ms\n",
      "Speed: 0.3ms preprocess, 104.8ms inference, 0.2ms postprocess per image at shape (1, 3, 640, 640)\n",
      "\n",
      "0: 640x480 1 signer, 104.9ms\n",
      "Speed: 0.3ms preprocess, 104.9ms inference, 0.3ms postprocess per image at shape (1, 3, 640, 640)\n",
      "\n"
     ]
    },
    {
     "name": "stdout",
     "output_type": "stream",
     "text": [
      "in process: 71/1000\r"
     ]
    },
    {
     "name": "stderr",
     "output_type": "stream",
     "text": [
      "0: 640x480 2 dates, 1 number, 1 sender, 103.0ms\n",
      "Speed: 0.3ms preprocess, 103.0ms inference, 2.5ms postprocess per image at shape (1, 3, 640, 640)\n",
      "\n",
      "0: 160x640 1 handwrite, 9.7ms\n",
      "Speed: 0.2ms preprocess, 9.7ms inference, 0.3ms postprocess per image at shape (1, 3, 640, 640)\n",
      "\n",
      "0: 160x640 1 handwrite, 9.9ms\n",
      "Speed: 0.2ms preprocess, 9.9ms inference, 0.3ms postprocess per image at shape (1, 3, 640, 640)\n",
      "\n",
      "0: 160x640 1 handwrite, 10.9ms\n",
      "Speed: 0.1ms preprocess, 10.9ms inference, 0.6ms postprocess per image at shape (1, 3, 640, 640)\n",
      "\n",
      "0: 640x480 1 sender, 1 signer, 105.1ms\n",
      "Speed: 0.3ms preprocess, 105.1ms inference, 0.3ms postprocess per image at shape (1, 3, 640, 640)\n",
      "\n"
     ]
    },
    {
     "name": "stdout",
     "output_type": "stream",
     "text": [
      "in process: 72/1000\r"
     ]
    },
    {
     "name": "stderr",
     "output_type": "stream",
     "text": [
      "0: 640x480 1 number, 3 senders, 1 signer, 106.0ms\n",
      "Speed: 0.3ms preprocess, 106.0ms inference, 2.6ms postprocess per image at shape (1, 3, 640, 640)\n",
      "\n",
      "0: 128x640 1 handwrite, 13.7ms\n",
      "Speed: 0.2ms preprocess, 13.7ms inference, 0.6ms postprocess per image at shape (1, 3, 640, 640)\n"
     ]
    },
    {
     "name": "stdout",
     "output_type": "stream",
     "text": [
      "in process: 73/1000\r"
     ]
    },
    {
     "name": "stderr",
     "output_type": "stream",
     "text": [
      "\n",
      "0: 640x480 1 date, 1 number, 1 sender, 1 signer, 102.5ms\n",
      "Speed: 0.3ms preprocess, 102.5ms inference, 0.4ms postprocess per image at shape (1, 3, 640, 640)\n",
      "\n",
      "0: 128x640 1 handwrite, 15.0ms\n",
      "Speed: 0.2ms preprocess, 15.0ms inference, 0.6ms postprocess per image at shape (1, 3, 640, 640)\n",
      "\n",
      "0: 160x640 1 handwrite, 14.8ms\n",
      "Speed: 0.1ms preprocess, 14.8ms inference, 0.6ms postprocess per image at shape (1, 3, 640, 640)\n",
      "\n"
     ]
    },
    {
     "name": "stdout",
     "output_type": "stream",
     "text": [
      "in process: 74/1000\r"
     ]
    },
    {
     "name": "stderr",
     "output_type": "stream",
     "text": [
      "0: 640x480 1 content, 1 date, 1 number, 1 sender, 1 signer, 102.6ms\n",
      "Speed: 0.3ms preprocess, 102.6ms inference, 1.7ms postprocess per image at shape (1, 3, 640, 640)\n",
      "\n",
      "0: 128x640 2 handwrites, 8.8ms\n",
      "Speed: 0.2ms preprocess, 8.8ms inference, 0.3ms postprocess per image at shape (1, 3, 640, 640)\n",
      "\n",
      "0: 224x640 1 handwrite, 1 typewritten, 12.3ms\n",
      "Speed: 0.2ms preprocess, 12.3ms inference, 0.3ms postprocess per image at shape (1, 3, 640, 640)\n",
      "\n"
     ]
    },
    {
     "name": "stdout",
     "output_type": "stream",
     "text": [
      "in process: 75/1000\r"
     ]
    },
    {
     "name": "stderr",
     "output_type": "stream",
     "text": [
      "0: 640x480 1 content, 1 date, 1 number, 2 senders, 1 signer, 105.2ms\n",
      "Speed: 0.3ms preprocess, 105.2ms inference, 0.4ms postprocess per image at shape (1, 3, 640, 640)\n",
      "\n",
      "0: 128x640 1 handwrite, 15.4ms\n",
      "Speed: 0.2ms preprocess, 15.4ms inference, 0.6ms postprocess per image at shape (1, 3, 640, 640)\n",
      "\n",
      "0: 224x640 1 typewritten, 15.9ms\n",
      "Speed: 0.1ms preprocess, 15.9ms inference, 0.6ms postprocess per image at shape (1, 3, 640, 640)\n"
     ]
    },
    {
     "name": "stdout",
     "output_type": "stream",
     "text": [
      "in process: 76/1000\r"
     ]
    },
    {
     "name": "stderr",
     "output_type": "stream",
     "text": [
      "\n",
      "0: 640x480 (no detections), 105.5ms\n",
      "Speed: 0.3ms preprocess, 105.5ms inference, 0.2ms postprocess per image at shape (1, 3, 640, 640)\n",
      "\n",
      "0: 640x480 (no detections), 102.1ms\n",
      "Speed: 0.3ms preprocess, 102.1ms inference, 0.2ms postprocess per image at shape (1, 3, 640, 640)\n",
      "\n",
      "0: 640x480 1 sender, 102.9ms\n",
      "Speed: 0.3ms preprocess, 102.9ms inference, 0.3ms postprocess per image at shape (1, 3, 640, 640)\n",
      "\n",
      "0: 640x480 (no detections), 107.9ms\n",
      "Speed: 0.3ms preprocess, 107.9ms inference, 0.3ms postprocess per image at shape (1, 3, 640, 640)\n",
      "\n",
      "0: 640x480 (no detections), 112.8ms\n",
      "Speed: 0.3ms preprocess, 112.8ms inference, 0.2ms postprocess per image at shape (1, 3, 640, 640)\n",
      "\n"
     ]
    },
    {
     "name": "stdout",
     "output_type": "stream",
     "text": [
      "in process: 77/1000\r"
     ]
    },
    {
     "name": "stderr",
     "output_type": "stream",
     "text": [
      "0: 640x480 1 date, 1 number, 1 sender, 1 signer, 102.5ms\n",
      "Speed: 0.3ms preprocess, 102.5ms inference, 1.6ms postprocess per image at shape (1, 3, 640, 640)\n",
      "\n",
      "0: 160x640 1 handwrite, 1 typewritten, 10.5ms\n",
      "Speed: 0.2ms preprocess, 10.5ms inference, 0.3ms postprocess per image at shape (1, 3, 640, 640)\n",
      "\n",
      "0: 128x640 1 handwrite, 9.4ms\n",
      "Speed: 0.1ms preprocess, 9.4ms inference, 0.3ms postprocess per image at shape (1, 3, 640, 640)\n",
      "\n"
     ]
    },
    {
     "name": "stdout",
     "output_type": "stream",
     "text": [
      "in process: 78/1000\r"
     ]
    },
    {
     "name": "stderr",
     "output_type": "stream",
     "text": [
      "0: 640x480 1 content, 1 date, 1 number, 1 sender, 1 signer, 105.9ms\n",
      "Speed: 5.5ms preprocess, 105.9ms inference, 0.4ms postprocess per image at shape (1, 3, 640, 640)\n",
      "\n",
      "0: 160x640 1 handwrite, 10.6ms\n",
      "Speed: 0.2ms preprocess, 10.6ms inference, 0.3ms postprocess per image at shape (1, 3, 640, 640)\n",
      "\n",
      "0: 160x640 1 handwrite, 10.4ms\n",
      "Speed: 0.1ms preprocess, 10.4ms inference, 0.3ms postprocess per image at shape (1, 3, 640, 640)\n",
      "\n"
     ]
    },
    {
     "name": "stdout",
     "output_type": "stream",
     "text": [
      "in process: 79/1000\r"
     ]
    },
    {
     "name": "stderr",
     "output_type": "stream",
     "text": [
      "0: 640x448 1 content, 1 date, 1 number, 1 sender, 100.3ms\n",
      "Speed: 0.3ms preprocess, 100.3ms inference, 1.8ms postprocess per image at shape (1, 3, 640, 640)\n",
      "\n",
      "0: 160x640 1 handwrite, 11.3ms\n",
      "Speed: 0.2ms preprocess, 11.3ms inference, 0.4ms postprocess per image at shape (1, 3, 640, 640)\n",
      "\n",
      "0: 192x640 1 handwrite, 12.1ms\n",
      "Speed: 0.1ms preprocess, 12.1ms inference, 0.4ms postprocess per image at shape (1, 3, 640, 640)\n",
      "\n",
      "0: 640x480 1 signer, 104.8ms\n",
      "Speed: 0.3ms preprocess, 104.8ms inference, 0.3ms postprocess per image at shape (1, 3, 640, 640)\n",
      "\n"
     ]
    },
    {
     "name": "stdout",
     "output_type": "stream",
     "text": [
      "in process: 80/1000\r"
     ]
    },
    {
     "name": "stderr",
     "output_type": "stream",
     "text": [
      "0: 640x480 2 contents, 1 date, 1 number, 1 sender, 1 signer, 105.3ms\n",
      "Speed: 0.3ms preprocess, 105.3ms inference, 1.7ms postprocess per image at shape (1, 3, 640, 640)\n",
      "\n",
      "0: 128x640 1 handwrite, 8.8ms\n",
      "Speed: 0.2ms preprocess, 8.8ms inference, 0.3ms postprocess per image at shape (1, 3, 640, 640)\n",
      "\n",
      "0: 192x640 1 handwrite, 11.2ms\n",
      "Speed: 0.1ms preprocess, 11.2ms inference, 0.3ms postprocess per image at shape (1, 3, 640, 640)\n"
     ]
    },
    {
     "name": "stdout",
     "output_type": "stream",
     "text": [
      "in process: 81/1000\r"
     ]
    },
    {
     "name": "stderr",
     "output_type": "stream",
     "text": [
      "\n",
      "0: 640x480 1 content, 1 date, 1 number, 1 sender, 1 signer, 105.4ms\n",
      "Speed: 0.3ms preprocess, 105.4ms inference, 0.4ms postprocess per image at shape (1, 3, 640, 640)\n",
      "\n",
      "0: 160x640 1 handwrite, 1 typewritten, 11.4ms\n",
      "Speed: 0.2ms preprocess, 11.4ms inference, 0.4ms postprocess per image at shape (1, 3, 640, 640)\n",
      "\n",
      "0: 192x640 1 handwrite, 11.1ms\n",
      "Speed: 0.2ms preprocess, 11.1ms inference, 0.3ms postprocess per image at shape (1, 3, 640, 640)\n",
      "\n"
     ]
    },
    {
     "name": "stdout",
     "output_type": "stream",
     "text": [
      "in process: 82/1000\r"
     ]
    },
    {
     "name": "stderr",
     "output_type": "stream",
     "text": [
      "0: 640x480 1 content, 1 date, 1 number, 1 sender, 1 signer, 102.4ms\n",
      "Speed: 0.3ms preprocess, 102.4ms inference, 0.4ms postprocess per image at shape (1, 3, 640, 640)\n",
      "\n",
      "0: 192x640 1 handwrite, 11.1ms\n",
      "Speed: 0.2ms preprocess, 11.1ms inference, 0.3ms postprocess per image at shape (1, 3, 640, 640)\n",
      "\n",
      "0: 192x640 1 handwrite, 11.0ms\n",
      "Speed: 0.1ms preprocess, 11.0ms inference, 0.3ms postprocess per image at shape (1, 3, 640, 640)\n"
     ]
    },
    {
     "name": "stdout",
     "output_type": "stream",
     "text": [
      "in process: 83/1000\r"
     ]
    },
    {
     "name": "stderr",
     "output_type": "stream",
     "text": [
      "\n",
      "0: 640x480 1 date, 1 number, 1 signer, 105.2ms\n",
      "Speed: 0.3ms preprocess, 105.2ms inference, 1.9ms postprocess per image at shape (1, 3, 640, 640)\n",
      "\n",
      "0: 160x640 1 handwrite, 10.4ms\n",
      "Speed: 0.2ms preprocess, 10.4ms inference, 0.3ms postprocess per image at shape (1, 3, 640, 640)\n",
      "\n",
      "0: 224x640 1 handwrite, 15.5ms\n",
      "Speed: 0.1ms preprocess, 15.5ms inference, 0.6ms postprocess per image at shape (1, 3, 640, 640)\n",
      "\n"
     ]
    },
    {
     "name": "stdout",
     "output_type": "stream",
     "text": [
      "in process: 84/1000\r"
     ]
    },
    {
     "name": "stderr",
     "output_type": "stream",
     "text": [
      "0: 640x480 1 number, 2 senders, 104.9ms\n",
      "Speed: 0.3ms preprocess, 104.9ms inference, 0.3ms postprocess per image at shape (1, 3, 640, 640)\n",
      "\n",
      "0: 160x640 1 handwrite, 10.5ms\n",
      "Speed: 0.1ms preprocess, 10.5ms inference, 0.3ms postprocess per image at shape (1, 3, 640, 640)\n",
      "\n",
      "0: 640x480 1 signer, 105.2ms\n",
      "Speed: 0.3ms preprocess, 105.2ms inference, 0.3ms postprocess per image at shape (1, 3, 640, 640)\n",
      "\n"
     ]
    },
    {
     "name": "stdout",
     "output_type": "stream",
     "text": [
      "in process: 85/1000\r"
     ]
    },
    {
     "name": "stderr",
     "output_type": "stream",
     "text": [
      "0: 640x480 1 content, 1 date, 1 number, 1 sender, 1 signer, 103.3ms\n",
      "Speed: 0.3ms preprocess, 103.3ms inference, 1.7ms postprocess per image at shape (1, 3, 640, 640)\n",
      "\n",
      "0: 192x640 1 handwrite, 11.4ms\n",
      "Speed: 0.2ms preprocess, 11.4ms inference, 0.3ms postprocess per image at shape (1, 3, 640, 640)\n",
      "\n",
      "0: 128x640 1 handwrite, 8.7ms\n",
      "Speed: 0.1ms preprocess, 8.7ms inference, 0.3ms postprocess per image at shape (1, 3, 640, 640)\n",
      "\n"
     ]
    },
    {
     "name": "stdout",
     "output_type": "stream",
     "text": [
      "in process: 86/1000\r"
     ]
    },
    {
     "name": "stderr",
     "output_type": "stream",
     "text": [
      "0: 640x480 1 date, 1 number, 1 sender, 104.6ms\n",
      "Speed: 0.3ms preprocess, 104.6ms inference, 0.4ms postprocess per image at shape (1, 3, 640, 640)\n",
      "\n",
      "0: 160x640 1 handwrite, 10.3ms\n",
      "Speed: 0.1ms preprocess, 10.3ms inference, 0.3ms postprocess per image at shape (1, 3, 640, 640)\n",
      "\n",
      "0: 192x640 1 handwrite, 11.3ms\n",
      "Speed: 0.1ms preprocess, 11.3ms inference, 0.3ms postprocess per image at shape (1, 3, 640, 640)\n",
      "\n",
      "0: 640x480 1 signer, 104.1ms\n",
      "Speed: 0.3ms preprocess, 104.1ms inference, 0.3ms postprocess per image at shape (1, 3, 640, 640)\n"
     ]
    },
    {
     "name": "stdout",
     "output_type": "stream",
     "text": [
      "in process: 87/1000\r"
     ]
    },
    {
     "name": "stderr",
     "output_type": "stream",
     "text": [
      "\n",
      "0: 640x480 1 content, 1 date, 1 number, 1 sender, 102.6ms\n",
      "Speed: 0.3ms preprocess, 102.6ms inference, 0.3ms postprocess per image at shape (1, 3, 640, 640)\n",
      "\n",
      "0: 160x640 1 handwrite, 10.5ms\n",
      "Speed: 0.2ms preprocess, 10.5ms inference, 0.3ms postprocess per image at shape (1, 3, 640, 640)\n",
      "\n",
      "0: 160x640 1 handwrite, 10.3ms\n",
      "Speed: 0.1ms preprocess, 10.3ms inference, 0.3ms postprocess per image at shape (1, 3, 640, 640)\n",
      "\n",
      "0: 640x480 1 signer, 104.9ms\n",
      "Speed: 0.3ms preprocess, 104.9ms inference, 0.3ms postprocess per image at shape (1, 3, 640, 640)\n"
     ]
    },
    {
     "name": "stdout",
     "output_type": "stream",
     "text": [
      "in process: 88/1000\r"
     ]
    },
    {
     "name": "stderr",
     "output_type": "stream",
     "text": [
      "\n",
      "0: 640x480 3 contents, 1 date, 2 numbers, 2 senders, 105.2ms\n",
      "Speed: 0.3ms preprocess, 105.2ms inference, 0.4ms postprocess per image at shape (1, 3, 640, 640)\n",
      "\n",
      "0: 192x640 1 handwrite, 11.4ms\n",
      "Speed: 0.2ms preprocess, 11.4ms inference, 0.3ms postprocess per image at shape (1, 3, 640, 640)\n",
      "\n",
      "0: 128x640 1 handwrite, 8.9ms\n",
      "Speed: 0.1ms preprocess, 8.9ms inference, 0.3ms postprocess per image at shape (1, 3, 640, 640)\n",
      "\n",
      "0: 224x640 1 handwrite, 3 typewrittens, 12.4ms\n",
      "Speed: 0.2ms preprocess, 12.4ms inference, 0.3ms postprocess per image at shape (1, 3, 640, 640)\n",
      "\n",
      "0: 640x480 1 signer, 105.4ms\n",
      "Speed: 0.3ms preprocess, 105.4ms inference, 0.3ms postprocess per image at shape (1, 3, 640, 640)\n"
     ]
    },
    {
     "name": "stdout",
     "output_type": "stream",
     "text": [
      "in process: 89/1000\r"
     ]
    },
    {
     "name": "stderr",
     "output_type": "stream",
     "text": [
      "\n",
      "0: 640x480 1 content, 1 date, 1 number, 1 sender, 1 signer, 103.0ms\n",
      "Speed: 0.3ms preprocess, 103.0ms inference, 2.3ms postprocess per image at shape (1, 3, 640, 640)\n",
      "\n",
      "0: 160x640 1 handwrite, 1 typewritten, 10.6ms\n",
      "Speed: 0.2ms preprocess, 10.6ms inference, 0.3ms postprocess per image at shape (1, 3, 640, 640)\n",
      "\n",
      "0: 160x640 1 handwrite, 10.3ms\n",
      "Speed: 0.1ms preprocess, 10.3ms inference, 0.3ms postprocess per image at shape (1, 3, 640, 640)\n"
     ]
    },
    {
     "name": "stdout",
     "output_type": "stream",
     "text": [
      "in process: 90/1000\r"
     ]
    },
    {
     "name": "stderr",
     "output_type": "stream",
     "text": [
      "\n",
      "0: 640x480 1 date, 1 number, 1 sender, 105.3ms\n",
      "Speed: 0.3ms preprocess, 105.3ms inference, 0.4ms postprocess per image at shape (1, 3, 640, 640)\n",
      "\n",
      "0: 192x640 1 handwrite, 11.3ms\n",
      "Speed: 0.2ms preprocess, 11.3ms inference, 0.3ms postprocess per image at shape (1, 3, 640, 640)\n",
      "\n",
      "0: 128x640 1 handwrite, 8.9ms\n",
      "Speed: 0.1ms preprocess, 8.9ms inference, 0.3ms postprocess per image at shape (1, 3, 640, 640)\n",
      "\n",
      "0: 640x480 1 sender, 1 signer, 104.8ms\n",
      "Speed: 0.3ms preprocess, 104.8ms inference, 0.3ms postprocess per image at shape (1, 3, 640, 640)\n"
     ]
    },
    {
     "name": "stdout",
     "output_type": "stream",
     "text": [
      "in process: 91/1000\r"
     ]
    },
    {
     "name": "stderr",
     "output_type": "stream",
     "text": [
      "\n",
      "0: 640x480 (no detections), 103.4ms\n",
      "Speed: 0.3ms preprocess, 103.4ms inference, 2.2ms postprocess per image at shape (1, 3, 640, 640)\n",
      "\n",
      "0: 640x480 (no detections), 104.8ms\n",
      "Speed: 0.3ms preprocess, 104.8ms inference, 0.2ms postprocess per image at shape (1, 3, 640, 640)\n",
      "\n",
      "0: 640x480 (no detections), 103.0ms\n",
      "Speed: 0.3ms preprocess, 103.0ms inference, 0.2ms postprocess per image at shape (1, 3, 640, 640)\n",
      "\n",
      "0: 640x480 (no detections), 104.7ms\n",
      "Speed: 0.3ms preprocess, 104.7ms inference, 0.2ms postprocess per image at shape (1, 3, 640, 640)\n",
      "\n",
      "0: 640x480 (no detections), 102.4ms\n",
      "Speed: 0.3ms preprocess, 102.4ms inference, 0.2ms postprocess per image at shape (1, 3, 640, 640)\n",
      "\n",
      "0: 640x480 (no detections), 105.5ms\n",
      "Speed: 0.3ms preprocess, 105.5ms inference, 0.2ms postprocess per image at shape (1, 3, 640, 640)\n",
      "\n",
      "0: 640x480 (no detections), 103.4ms\n",
      "Speed: 0.3ms preprocess, 103.4ms inference, 0.2ms postprocess per image at shape (1, 3, 640, 640)\n",
      "\n",
      "0: 640x480 (no detections), 103.3ms\n",
      "Speed: 0.3ms preprocess, 103.3ms inference, 0.2ms postprocess per image at shape (1, 3, 640, 640)\n",
      "\n",
      "0: 640x480 1 content, 111.5ms\n",
      "Speed: 0.3ms preprocess, 111.5ms inference, 0.3ms postprocess per image at shape (1, 3, 640, 640)\n",
      "\n",
      "0: 640x480 1 signer, 105.7ms\n",
      "Speed: 0.3ms preprocess, 105.7ms inference, 0.3ms postprocess per image at shape (1, 3, 640, 640)\n"
     ]
    },
    {
     "name": "stdout",
     "output_type": "stream",
     "text": [
      "in process: 92/1000\r"
     ]
    },
    {
     "name": "stderr",
     "output_type": "stream",
     "text": [
      "\n",
      "0: 640x480 (no detections), 112.7ms\n",
      "Speed: 0.3ms preprocess, 112.7ms inference, 6.0ms postprocess per image at shape (1, 3, 640, 640)\n",
      "\n",
      "0: 640x480 1 sender, 104.8ms\n",
      "Speed: 0.3ms preprocess, 104.8ms inference, 0.3ms postprocess per image at shape (1, 3, 640, 640)\n",
      "\n",
      "0: 640x480 (no detections), 106.1ms\n",
      "Speed: 0.3ms preprocess, 106.1ms inference, 0.2ms postprocess per image at shape (1, 3, 640, 640)\n",
      "\n",
      "0: 640x480 (no detections), 107.2ms\n",
      "Speed: 0.3ms preprocess, 107.2ms inference, 0.3ms postprocess per image at shape (1, 3, 640, 640)\n",
      "\n",
      "0: 640x480 (no detections), 104.8ms\n",
      "Speed: 0.3ms preprocess, 104.8ms inference, 0.2ms postprocess per image at shape (1, 3, 640, 640)\n",
      "\n",
      "0: 640x480 (no detections), 104.6ms\n",
      "Speed: 0.3ms preprocess, 104.6ms inference, 0.2ms postprocess per image at shape (1, 3, 640, 640)\n",
      "\n",
      "0: 640x480 1 sender, 104.5ms\n",
      "Speed: 0.3ms preprocess, 104.5ms inference, 0.3ms postprocess per image at shape (1, 3, 640, 640)\n",
      "\n",
      "0: 640x480 1 signer, 105.0ms\n",
      "Speed: 0.3ms preprocess, 105.0ms inference, 0.3ms postprocess per image at shape (1, 3, 640, 640)\n",
      "\n"
     ]
    },
    {
     "name": "stdout",
     "output_type": "stream",
     "text": [
      "in process: 93/1000\r"
     ]
    },
    {
     "name": "stderr",
     "output_type": "stream",
     "text": [
      "0: 640x416 1 content, 1 date, 1 number, 1 sender, 1 signer, 90.2ms\n",
      "Speed: 0.3ms preprocess, 90.2ms inference, 5.4ms postprocess per image at shape (1, 3, 640, 640)\n",
      "\n",
      "0: 160x640 1 handwrite, 11.3ms\n",
      "Speed: 0.2ms preprocess, 11.3ms inference, 0.4ms postprocess per image at shape (1, 3, 640, 640)\n",
      "\n",
      "0: 192x640 1 handwrite, 15.7ms\n",
      "Speed: 19.0ms preprocess, 15.7ms inference, 0.6ms postprocess per image at shape (1, 3, 640, 640)\n"
     ]
    },
    {
     "name": "stdout",
     "output_type": "stream",
     "text": [
      "in process: 94/1000\r"
     ]
    },
    {
     "name": "stderr",
     "output_type": "stream",
     "text": [
      "\n",
      "0: 640x480 1 content, 1 date, 1 number, 1 sender, 1 signer, 102.4ms\n",
      "Speed: 0.3ms preprocess, 102.4ms inference, 0.3ms postprocess per image at shape (1, 3, 640, 640)\n",
      "\n",
      "0: 192x640 1 handwrite, 11.1ms\n",
      "Speed: 0.2ms preprocess, 11.1ms inference, 0.3ms postprocess per image at shape (1, 3, 640, 640)\n",
      "\n",
      "0: 224x640 1 handwrite, 12.1ms\n",
      "Speed: 0.1ms preprocess, 12.1ms inference, 0.3ms postprocess per image at shape (1, 3, 640, 640)\n",
      "\n"
     ]
    },
    {
     "name": "stdout",
     "output_type": "stream",
     "text": [
      "in process: 95/1000\r"
     ]
    },
    {
     "name": "stderr",
     "output_type": "stream",
     "text": [
      "0: 640x480 1 date, 1 number, 1 sender, 1 signer, 105.4ms\n",
      "Speed: 0.3ms preprocess, 105.4ms inference, 1.7ms postprocess per image at shape (1, 3, 640, 640)\n",
      "\n",
      "0: 160x640 1 handwrite, 10.4ms\n",
      "Speed: 0.2ms preprocess, 10.4ms inference, 0.3ms postprocess per image at shape (1, 3, 640, 640)\n",
      "\n",
      "0: 128x640 1 handwrite, 12.2ms\n",
      "Speed: 0.2ms preprocess, 12.2ms inference, 0.3ms postprocess per image at shape (1, 3, 640, 640)\n"
     ]
    },
    {
     "name": "stdout",
     "output_type": "stream",
     "text": [
      "in process: 96/1000\r"
     ]
    },
    {
     "name": "stderr",
     "output_type": "stream",
     "text": [
      "\n",
      "0: 640x480 1 date, 1 number, 1 sender, 1 signer, 105.1ms\n",
      "Speed: 0.3ms preprocess, 105.1ms inference, 0.4ms postprocess per image at shape (1, 3, 640, 640)\n",
      "\n",
      "0: 192x640 1 handwrite, 15.9ms\n",
      "Speed: 0.2ms preprocess, 15.9ms inference, 0.6ms postprocess per image at shape (1, 3, 640, 640)\n",
      "\n",
      "0: 224x640 1 handwrite, 15.9ms\n",
      "Speed: 0.1ms preprocess, 15.9ms inference, 0.6ms postprocess per image at shape (1, 3, 640, 640)\n",
      "\n"
     ]
    },
    {
     "name": "stdout",
     "output_type": "stream",
     "text": [
      "in process: 97/1000\r"
     ]
    },
    {
     "name": "stderr",
     "output_type": "stream",
     "text": [
      "0: 640x480 2 contents, 1 sender, 1 signer, 104.7ms\n",
      "Speed: 0.3ms preprocess, 104.7ms inference, 1.6ms postprocess per image at shape (1, 3, 640, 640)\n",
      "\n"
     ]
    },
    {
     "name": "stdout",
     "output_type": "stream",
     "text": [
      "in process: 98/1000\r"
     ]
    },
    {
     "name": "stderr",
     "output_type": "stream",
     "text": [
      "0: 640x480 1 date, 1 number, 1 sender, 104.7ms\n",
      "Speed: 0.3ms preprocess, 104.7ms inference, 0.3ms postprocess per image at shape (1, 3, 640, 640)\n",
      "\n",
      "0: 160x640 1 handwrite, 10.3ms\n",
      "Speed: 0.1ms preprocess, 10.3ms inference, 0.3ms postprocess per image at shape (1, 3, 640, 640)\n",
      "\n",
      "0: 192x640 1 typewritten, 11.0ms\n",
      "Speed: 0.1ms preprocess, 11.0ms inference, 0.3ms postprocess per image at shape (1, 3, 640, 640)\n",
      "\n",
      "0: 640x480 1 signer, 102.8ms\n",
      "Speed: 0.3ms preprocess, 102.8ms inference, 0.3ms postprocess per image at shape (1, 3, 640, 640)\n"
     ]
    },
    {
     "name": "stdout",
     "output_type": "stream",
     "text": [
      "in process: 99/1000\r"
     ]
    },
    {
     "name": "stderr",
     "output_type": "stream",
     "text": [
      "\n",
      "0: 640x480 1 sender, 1 signer, 102.3ms\n",
      "Speed: 0.3ms preprocess, 102.3ms inference, 2.4ms postprocess per image at shape (1, 3, 640, 640)\n"
     ]
    },
    {
     "name": "stdout",
     "output_type": "stream",
     "text": [
      "in process: 100/1000\r"
     ]
    },
    {
     "name": "stderr",
     "output_type": "stream",
     "text": [
      "\n",
      "0: 640x480 1 date, 1 number, 1 sender, 1 signer, 103.7ms\n",
      "Speed: 0.3ms preprocess, 103.7ms inference, 0.3ms postprocess per image at shape (1, 3, 640, 640)\n",
      "\n",
      "0: 128x640 1 handwrite, 8.6ms\n",
      "Speed: 0.1ms preprocess, 8.6ms inference, 0.3ms postprocess per image at shape (1, 3, 640, 640)\n",
      "\n",
      "0: 256x640 1 handwrite, 12.8ms\n",
      "Speed: 0.2ms preprocess, 12.8ms inference, 0.3ms postprocess per image at shape (1, 3, 640, 640)\n",
      "\n"
     ]
    },
    {
     "name": "stdout",
     "output_type": "stream",
     "text": [
      "in process: 101/1000\r"
     ]
    },
    {
     "name": "stderr",
     "output_type": "stream",
     "text": [
      "0: 640x480 1 number, 1 sender, 1 signer, 102.6ms\n",
      "Speed: 0.3ms preprocess, 102.6ms inference, 1.6ms postprocess per image at shape (1, 3, 640, 640)\n",
      "\n",
      "0: 160x640 1 typewritten, 10.4ms\n",
      "Speed: 0.2ms preprocess, 10.4ms inference, 0.3ms postprocess per image at shape (1, 3, 640, 640)\n"
     ]
    },
    {
     "name": "stdout",
     "output_type": "stream",
     "text": [
      "in process: 102/1000\r"
     ]
    },
    {
     "name": "stderr",
     "output_type": "stream",
     "text": [
      "\n",
      "0: 640x480 1 date, 1 number, 1 sender, 104.7ms\n",
      "Speed: 0.3ms preprocess, 104.7ms inference, 0.3ms postprocess per image at shape (1, 3, 640, 640)\n",
      "\n",
      "0: 160x640 1 handwrite, 13.7ms\n",
      "Speed: 0.1ms preprocess, 13.7ms inference, 0.6ms postprocess per image at shape (1, 3, 640, 640)\n",
      "\n",
      "0: 192x640 1 typewritten, 11.1ms\n",
      "Speed: 0.2ms preprocess, 11.1ms inference, 0.3ms postprocess per image at shape (1, 3, 640, 640)\n",
      "\n",
      "0: 640x480 1 signer, 104.9ms\n",
      "Speed: 0.3ms preprocess, 104.9ms inference, 0.3ms postprocess per image at shape (1, 3, 640, 640)\n",
      "\n"
     ]
    },
    {
     "name": "stdout",
     "output_type": "stream",
     "text": [
      "in process: 103/1000\r"
     ]
    },
    {
     "name": "stderr",
     "output_type": "stream",
     "text": [
      "0: 640x480 1 content, 1 number, 1 sender, 1 signer, 102.6ms\n",
      "Speed: 0.3ms preprocess, 102.6ms inference, 2.4ms postprocess per image at shape (1, 3, 640, 640)\n",
      "\n",
      "0: 128x640 2 handwrites, 8.8ms\n",
      "Speed: 0.3ms preprocess, 8.8ms inference, 0.3ms postprocess per image at shape (1, 3, 640, 640)\n"
     ]
    },
    {
     "name": "stdout",
     "output_type": "stream",
     "text": [
      "in process: 104/1000\r"
     ]
    },
    {
     "name": "stderr",
     "output_type": "stream",
     "text": [
      "\n",
      "0: 640x480 1 date, 1 number, 1 sender, 1 signer, 104.8ms\n",
      "Speed: 0.3ms preprocess, 104.8ms inference, 0.4ms postprocess per image at shape (1, 3, 640, 640)\n",
      "\n",
      "0: 128x640 1 handwrite, 8.6ms\n",
      "Speed: 0.2ms preprocess, 8.6ms inference, 0.3ms postprocess per image at shape (1, 3, 640, 640)\n",
      "\n",
      "0: 256x640 1 handwrite, 12.8ms\n",
      "Speed: 0.2ms preprocess, 12.8ms inference, 0.3ms postprocess per image at shape (1, 3, 640, 640)\n",
      "\n"
     ]
    },
    {
     "name": "stdout",
     "output_type": "stream",
     "text": [
      "in process: 105/1000\r"
     ]
    },
    {
     "name": "stderr",
     "output_type": "stream",
     "text": [
      "0: 640x480 1 content, 1 date, 1 number, 1 sender, 1 signer, 105.0ms\n",
      "Speed: 0.3ms preprocess, 105.0ms inference, 1.9ms postprocess per image at shape (1, 3, 640, 640)\n",
      "\n",
      "0: 192x640 1 handwrite, 11.2ms\n",
      "Speed: 0.2ms preprocess, 11.2ms inference, 0.3ms postprocess per image at shape (1, 3, 640, 640)\n",
      "\n",
      "0: 160x640 1 handwrite, 14.2ms\n",
      "Speed: 0.1ms preprocess, 14.2ms inference, 0.6ms postprocess per image at shape (1, 3, 640, 640)\n"
     ]
    },
    {
     "name": "stdout",
     "output_type": "stream",
     "text": [
      "in process: 106/1000\r"
     ]
    },
    {
     "name": "stderr",
     "output_type": "stream",
     "text": [
      "\n",
      "0: 640x480 1 content, 1 date, 1 number, 1 sender, 1 signer, 105.2ms\n",
      "Speed: 0.3ms preprocess, 105.2ms inference, 0.4ms postprocess per image at shape (1, 3, 640, 640)\n",
      "\n",
      "0: 160x640 1 handwrite, 10.4ms\n",
      "Speed: 0.2ms preprocess, 10.4ms inference, 0.3ms postprocess per image at shape (1, 3, 640, 640)\n",
      "\n",
      "0: 128x640 1 handwrite, 8.5ms\n",
      "Speed: 0.1ms preprocess, 8.5ms inference, 0.3ms postprocess per image at shape (1, 3, 640, 640)\n"
     ]
    },
    {
     "name": "stdout",
     "output_type": "stream",
     "text": [
      "in process: 107/1000\r"
     ]
    },
    {
     "name": "stderr",
     "output_type": "stream",
     "text": [
      "\n",
      "0: 640x480 2 senders, 104.4ms\n",
      "Speed: 0.3ms preprocess, 104.4ms inference, 1.7ms postprocess per image at shape (1, 3, 640, 640)\n",
      "\n",
      "0: 640x480 1 signer, 104.7ms\n",
      "Speed: 0.3ms preprocess, 104.7ms inference, 0.3ms postprocess per image at shape (1, 3, 640, 640)\n"
     ]
    },
    {
     "name": "stdout",
     "output_type": "stream",
     "text": [
      "in process: 108/1000\r"
     ]
    },
    {
     "name": "stderr",
     "output_type": "stream",
     "text": [
      "\n",
      "0: 640x480 1 content, 1 date, 1 number, 1 sender, 1 signer, 104.3ms\n",
      "Speed: 0.3ms preprocess, 104.3ms inference, 1.6ms postprocess per image at shape (1, 3, 640, 640)\n",
      "\n",
      "0: 160x640 1 handwrite, 10.4ms\n",
      "Speed: 0.2ms preprocess, 10.4ms inference, 0.3ms postprocess per image at shape (1, 3, 640, 640)\n",
      "\n",
      "0: 192x640 1 handwrite, 13.6ms\n",
      "Speed: 0.2ms preprocess, 13.6ms inference, 0.3ms postprocess per image at shape (1, 3, 640, 640)\n"
     ]
    },
    {
     "name": "stdout",
     "output_type": "stream",
     "text": [
      "in process: 109/1000\r"
     ]
    },
    {
     "name": "stderr",
     "output_type": "stream",
     "text": [
      "\n",
      "0: 640x480 1 date, 1 number, 2 signers, 104.6ms\n",
      "Speed: 0.3ms preprocess, 104.6ms inference, 1.9ms postprocess per image at shape (1, 3, 640, 640)\n",
      "\n",
      "0: 160x640 1 handwrite, 10.4ms\n",
      "Speed: 0.1ms preprocess, 10.4ms inference, 0.3ms postprocess per image at shape (1, 3, 640, 640)\n",
      "\n",
      "0: 192x640 1 handwrite, 11.1ms\n",
      "Speed: 0.1ms preprocess, 11.1ms inference, 0.3ms postprocess per image at shape (1, 3, 640, 640)\n",
      "\n"
     ]
    },
    {
     "name": "stdout",
     "output_type": "stream",
     "text": [
      "in process: 110/1000\r"
     ]
    },
    {
     "name": "stderr",
     "output_type": "stream",
     "text": [
      "0: 640x480 1 sender, 1 signer, 102.9ms\n",
      "Speed: 0.3ms preprocess, 102.9ms inference, 0.3ms postprocess per image at shape (1, 3, 640, 640)\n"
     ]
    },
    {
     "name": "stdout",
     "output_type": "stream",
     "text": [
      "in process: 111/1000\r"
     ]
    },
    {
     "name": "stderr",
     "output_type": "stream",
     "text": [
      "\n",
      "0: 640x480 1 sender, 102.9ms\n",
      "Speed: 0.3ms preprocess, 102.9ms inference, 0.3ms postprocess per image at shape (1, 3, 640, 640)\n",
      "\n",
      "0: 640x480 (no detections), 104.6ms\n",
      "Speed: 2.2ms preprocess, 104.6ms inference, 0.2ms postprocess per image at shape (1, 3, 640, 640)\n",
      "\n",
      "0: 640x480 (no detections), 104.6ms\n",
      "Speed: 0.3ms preprocess, 104.6ms inference, 0.2ms postprocess per image at shape (1, 3, 640, 640)\n"
     ]
    },
    {
     "name": "stdout",
     "output_type": "stream",
     "text": [
      "in process: 112/1000\r"
     ]
    },
    {
     "name": "stderr",
     "output_type": "stream",
     "text": [
      "\n",
      "0: 640x480 (no detections), 102.3ms\n",
      "Speed: 0.3ms preprocess, 102.3ms inference, 3.0ms postprocess per image at shape (1, 3, 640, 640)\n",
      "\n",
      "0: 640x480 (no detections), 102.8ms\n",
      "Speed: 0.2ms preprocess, 102.8ms inference, 0.2ms postprocess per image at shape (1, 3, 640, 640)\n",
      "\n",
      "0: 640x480 (no detections), 102.5ms\n",
      "Speed: 0.3ms preprocess, 102.5ms inference, 0.2ms postprocess per image at shape (1, 3, 640, 640)\n",
      "\n",
      "0: 640x480 (no detections), 104.5ms\n",
      "Speed: 0.3ms preprocess, 104.5ms inference, 0.2ms postprocess per image at shape (1, 3, 640, 640)\n",
      "\n",
      "0: 640x480 (no detections), 104.7ms\n",
      "Speed: 0.3ms preprocess, 104.7ms inference, 0.2ms postprocess per image at shape (1, 3, 640, 640)\n",
      "\n",
      "0: 640x480 (no detections), 104.9ms\n",
      "Speed: 0.3ms preprocess, 104.9ms inference, 0.2ms postprocess per image at shape (1, 3, 640, 640)\n",
      "\n",
      "0: 640x480 (no detections), 103.1ms\n",
      "Speed: 0.3ms preprocess, 103.1ms inference, 0.2ms postprocess per image at shape (1, 3, 640, 640)\n",
      "\n",
      "0: 640x480 (no detections), 105.0ms\n",
      "Speed: 0.3ms preprocess, 105.0ms inference, 0.2ms postprocess per image at shape (1, 3, 640, 640)\n",
      "\n",
      "0: 640x480 (no detections), 104.8ms\n",
      "Speed: 0.3ms preprocess, 104.8ms inference, 0.2ms postprocess per image at shape (1, 3, 640, 640)\n",
      "\n",
      "0: 640x480 (no detections), 104.9ms\n",
      "Speed: 0.3ms preprocess, 104.9ms inference, 0.2ms postprocess per image at shape (1, 3, 640, 640)\n"
     ]
    },
    {
     "name": "stdout",
     "output_type": "stream",
     "text": [
      "in process: 113/1000\r"
     ]
    },
    {
     "name": "stderr",
     "output_type": "stream",
     "text": [
      "\n",
      "0: 640x480 1 date, 1 number, 1 sender, 1 signer, 102.7ms\n",
      "Speed: 0.3ms preprocess, 102.7ms inference, 6.7ms postprocess per image at shape (1, 3, 640, 640)\n",
      "\n",
      "0: 192x640 1 typewritten, 11.9ms\n",
      "Speed: 0.2ms preprocess, 11.9ms inference, 0.4ms postprocess per image at shape (1, 3, 640, 640)\n",
      "\n",
      "0: 160x640 1 handwrite, 11.3ms\n",
      "Speed: 0.2ms preprocess, 11.3ms inference, 0.4ms postprocess per image at shape (1, 3, 640, 640)\n",
      "\n"
     ]
    },
    {
     "name": "stdout",
     "output_type": "stream",
     "text": [
      "in process: 114/1000\r"
     ]
    },
    {
     "name": "stderr",
     "output_type": "stream",
     "text": [
      "0: 640x480 1 date, 1 number, 1 sender, 104.5ms\n",
      "Speed: 0.3ms preprocess, 104.5ms inference, 0.3ms postprocess per image at shape (1, 3, 640, 640)\n",
      "\n",
      "0: 128x640 1 handwrite, 8.7ms\n",
      "Speed: 0.2ms preprocess, 8.7ms inference, 0.3ms postprocess per image at shape (1, 3, 640, 640)\n",
      "\n",
      "0: 192x640 1 typewritten, 12.0ms\n",
      "Speed: 0.1ms preprocess, 12.0ms inference, 0.4ms postprocess per image at shape (1, 3, 640, 640)\n",
      "\n",
      "0: 640x480 1 signer, 104.8ms\n",
      "Speed: 0.3ms preprocess, 104.8ms inference, 0.3ms postprocess per image at shape (1, 3, 640, 640)\n"
     ]
    },
    {
     "name": "stdout",
     "output_type": "stream",
     "text": [
      "in process: 115/1000\r"
     ]
    },
    {
     "name": "stderr",
     "output_type": "stream",
     "text": [
      "\n",
      "0: 640x480 1 date, 1 number, 2 senders, 1 signer, 104.3ms\n",
      "Speed: 0.3ms preprocess, 104.3ms inference, 0.3ms postprocess per image at shape (1, 3, 640, 640)\n",
      "\n",
      "0: 224x640 1 handwrite, 16.1ms\n",
      "Speed: 0.2ms preprocess, 16.1ms inference, 0.6ms postprocess per image at shape (1, 3, 640, 640)\n",
      "\n",
      "0: 128x640 1 handwrite, 8.8ms\n",
      "Speed: 0.2ms preprocess, 8.8ms inference, 0.3ms postprocess per image at shape (1, 3, 640, 640)\n"
     ]
    },
    {
     "name": "stdout",
     "output_type": "stream",
     "text": [
      "in process: 116/1000\r"
     ]
    },
    {
     "name": "stderr",
     "output_type": "stream",
     "text": [
      "\n",
      "0: 640x480 1 number, 1 sender, 1 signer, 104.5ms\n",
      "Speed: 0.3ms preprocess, 104.5ms inference, 0.3ms postprocess per image at shape (1, 3, 640, 640)\n",
      "\n",
      "0: 192x640 1 handwrite, 11.2ms\n",
      "Speed: 0.2ms preprocess, 11.2ms inference, 0.3ms postprocess per image at shape (1, 3, 640, 640)\n"
     ]
    },
    {
     "name": "stdout",
     "output_type": "stream",
     "text": [
      "in process: 117/1000\r"
     ]
    },
    {
     "name": "stderr",
     "output_type": "stream",
     "text": [
      "\n",
      "0: 640x480 1 content, 1 date, 1 sender, 1 signer, 104.2ms\n",
      "Speed: 0.3ms preprocess, 104.2ms inference, 1.9ms postprocess per image at shape (1, 3, 640, 640)\n",
      "\n",
      "0: 160x640 1 handwrite, 10.4ms\n",
      "Speed: 0.2ms preprocess, 10.4ms inference, 0.3ms postprocess per image at shape (1, 3, 640, 640)\n"
     ]
    },
    {
     "name": "stdout",
     "output_type": "stream",
     "text": [
      "in process: 118/1000\r"
     ]
    },
    {
     "name": "stderr",
     "output_type": "stream",
     "text": [
      "\n",
      "0: 640x480 1 date, 1 number, 1 sender, 1 signer, 104.9ms\n",
      "Speed: 0.3ms preprocess, 104.9ms inference, 0.4ms postprocess per image at shape (1, 3, 640, 640)\n",
      "\n",
      "0: 160x640 1 handwrite, 10.5ms\n",
      "Speed: 0.2ms preprocess, 10.5ms inference, 0.3ms postprocess per image at shape (1, 3, 640, 640)\n",
      "\n",
      "0: 192x640 1 handwrite, 11.1ms\n",
      "Speed: 0.2ms preprocess, 11.1ms inference, 0.3ms postprocess per image at shape (1, 3, 640, 640)\n"
     ]
    },
    {
     "name": "stdout",
     "output_type": "stream",
     "text": [
      "in process: 119/1000\r"
     ]
    },
    {
     "name": "stderr",
     "output_type": "stream",
     "text": [
      "\n",
      "0: 640x480 1 content, 1 date, 1 number, 1 sender, 104.9ms\n",
      "Speed: 0.3ms preprocess, 104.9ms inference, 1.9ms postprocess per image at shape (1, 3, 640, 640)\n",
      "\n",
      "0: 128x640 1 handwrite, 8.8ms\n",
      "Speed: 0.2ms preprocess, 8.8ms inference, 0.3ms postprocess per image at shape (1, 3, 640, 640)\n",
      "\n",
      "0: 160x640 1 handwrite, 10.6ms\n",
      "Speed: 0.1ms preprocess, 10.6ms inference, 0.3ms postprocess per image at shape (1, 3, 640, 640)\n",
      "\n",
      "0: 640x480 1 signer, 102.0ms\n",
      "Speed: 0.3ms preprocess, 102.0ms inference, 0.3ms postprocess per image at shape (1, 3, 640, 640)\n"
     ]
    },
    {
     "name": "stdout",
     "output_type": "stream",
     "text": [
      "in process: 120/1000\r"
     ]
    },
    {
     "name": "stderr",
     "output_type": "stream",
     "text": [
      "\n",
      "0: 640x480 (no detections), 103.4ms\n",
      "Speed: 0.3ms preprocess, 103.4ms inference, 1.7ms postprocess per image at shape (1, 3, 640, 640)\n",
      "\n",
      "0: 640x480 (no detections), 104.4ms\n",
      "Speed: 0.3ms preprocess, 104.4ms inference, 0.2ms postprocess per image at shape (1, 3, 640, 640)\n",
      "\n",
      "0: 640x480 (no detections), 104.2ms\n",
      "Speed: 0.3ms preprocess, 104.2ms inference, 0.2ms postprocess per image at shape (1, 3, 640, 640)\n",
      "\n",
      "0: 640x480 1 signer, 102.8ms\n",
      "Speed: 0.3ms preprocess, 102.8ms inference, 0.3ms postprocess per image at shape (1, 3, 640, 640)\n"
     ]
    },
    {
     "name": "stdout",
     "output_type": "stream",
     "text": [
      "in process: 121/1000\r"
     ]
    },
    {
     "name": "stderr",
     "output_type": "stream",
     "text": [
      "\n",
      "0: 480x640 1 sender, 106.6ms\n",
      "Speed: 0.3ms preprocess, 106.6ms inference, 4.4ms postprocess per image at shape (1, 3, 640, 640)\n",
      "\n",
      "0: 640x480 (no detections), 105.9ms\n",
      "Speed: 0.3ms preprocess, 105.9ms inference, 0.2ms postprocess per image at shape (1, 3, 640, 640)\n",
      "\n",
      "0: 640x480 (no detections), 104.1ms\n",
      "Speed: 0.3ms preprocess, 104.1ms inference, 0.2ms postprocess per image at shape (1, 3, 640, 640)\n",
      "\n",
      "0: 640x480 (no detections), 104.4ms\n",
      "Speed: 0.3ms preprocess, 104.4ms inference, 0.2ms postprocess per image at shape (1, 3, 640, 640)\n",
      "\n",
      "0: 640x480 (no detections), 104.4ms\n",
      "Speed: 0.3ms preprocess, 104.4ms inference, 0.2ms postprocess per image at shape (1, 3, 640, 640)\n",
      "\n",
      "0: 640x480 1 sender, 102.9ms\n",
      "Speed: 0.3ms preprocess, 102.9ms inference, 0.3ms postprocess per image at shape (1, 3, 640, 640)\n",
      "\n",
      "0: 640x480 (no detections), 102.2ms\n",
      "Speed: 0.3ms preprocess, 102.2ms inference, 0.2ms postprocess per image at shape (1, 3, 640, 640)\n",
      "\n",
      "0: 640x480 (no detections), 104.9ms\n",
      "Speed: 0.3ms preprocess, 104.9ms inference, 0.2ms postprocess per image at shape (1, 3, 640, 640)\n",
      "\n",
      "0: 640x480 (no detections), 103.1ms\n",
      "Speed: 0.3ms preprocess, 103.1ms inference, 0.2ms postprocess per image at shape (1, 3, 640, 640)\n",
      "\n",
      "0: 640x480 (no detections), 104.5ms\n",
      "Speed: 0.3ms preprocess, 104.5ms inference, 0.2ms postprocess per image at shape (1, 3, 640, 640)\n"
     ]
    },
    {
     "name": "stdout",
     "output_type": "stream",
     "text": [
      "in process: 122/1000\r"
     ]
    },
    {
     "name": "stderr",
     "output_type": "stream",
     "text": [
      "\n",
      "0: 640x480 1 content, 1 date, 1 number, 2 senders, 1 signer, 103.3ms\n",
      "Speed: 0.4ms preprocess, 103.3ms inference, 3.7ms postprocess per image at shape (1, 3, 640, 640)\n",
      "\n",
      "0: 160x640 1 handwrite, 10.3ms\n",
      "Speed: 0.2ms preprocess, 10.3ms inference, 0.3ms postprocess per image at shape (1, 3, 640, 640)\n",
      "\n",
      "0: 160x640 1 handwrite, 14.5ms\n",
      "Speed: 0.2ms preprocess, 14.5ms inference, 0.6ms postprocess per image at shape (1, 3, 640, 640)\n"
     ]
    },
    {
     "name": "stdout",
     "output_type": "stream",
     "text": [
      "in process: 123/1000\r"
     ]
    },
    {
     "name": "stderr",
     "output_type": "stream",
     "text": [
      "\n",
      "0: 640x480 1 number, 1 sender, 1 signer, 104.9ms\n",
      "Speed: 0.3ms preprocess, 104.9ms inference, 0.3ms postprocess per image at shape (1, 3, 640, 640)\n",
      "\n",
      "0: 160x640 1 handwrite, 1 typewritten, 10.3ms\n",
      "Speed: 0.2ms preprocess, 10.3ms inference, 0.3ms postprocess per image at shape (1, 3, 640, 640)\n"
     ]
    },
    {
     "name": "stdout",
     "output_type": "stream",
     "text": [
      "in process: 124/1000\r"
     ]
    },
    {
     "name": "stderr",
     "output_type": "stream",
     "text": [
      "\n",
      "0: 480x640 1 sender, 104.9ms\n",
      "Speed: 0.3ms preprocess, 104.9ms inference, 2.2ms postprocess per image at shape (1, 3, 640, 640)\n",
      "\n",
      "0: 640x480 (no detections), 103.0ms\n",
      "Speed: 0.3ms preprocess, 103.0ms inference, 0.2ms postprocess per image at shape (1, 3, 640, 640)\n",
      "\n",
      "0: 640x480 1 sender, 103.8ms\n",
      "Speed: 0.3ms preprocess, 103.8ms inference, 0.3ms postprocess per image at shape (1, 3, 640, 640)\n",
      "\n",
      "0: 640x480 1 signer, 105.4ms\n",
      "Speed: 0.3ms preprocess, 105.4ms inference, 0.3ms postprocess per image at shape (1, 3, 640, 640)\n",
      "\n"
     ]
    },
    {
     "name": "stdout",
     "output_type": "stream",
     "text": [
      "in process: 125/1000\r"
     ]
    },
    {
     "name": "stderr",
     "output_type": "stream",
     "text": [
      "0: 640x480 (no detections), 105.0ms\n",
      "Speed: 0.3ms preprocess, 105.0ms inference, 0.2ms postprocess per image at shape (1, 3, 640, 640)\n",
      "\n"
     ]
    },
    {
     "name": "stdout",
     "output_type": "stream",
     "text": [
      "in process: 126/1000\r"
     ]
    },
    {
     "name": "stderr",
     "output_type": "stream",
     "text": [
      "0: 640x480 1 date, 1 number, 2 senders, 104.9ms\n",
      "Speed: 0.3ms preprocess, 104.9ms inference, 1.7ms postprocess per image at shape (1, 3, 640, 640)\n",
      "\n",
      "0: 128x640 1 handwrite, 8.7ms\n",
      "Speed: 0.2ms preprocess, 8.7ms inference, 0.3ms postprocess per image at shape (1, 3, 640, 640)\n",
      "\n",
      "0: 192x640 1 handwrite, 15.5ms\n",
      "Speed: 0.1ms preprocess, 15.5ms inference, 0.3ms postprocess per image at shape (1, 3, 640, 640)\n"
     ]
    },
    {
     "name": "stdout",
     "output_type": "stream",
     "text": [
      "in process: 127/1000\r"
     ]
    },
    {
     "name": "stderr",
     "output_type": "stream",
     "text": [
      "\n",
      "0: 640x480 1 date, 1 number, 1 sender, 1 signer, 105.3ms\n",
      "Speed: 0.3ms preprocess, 105.3ms inference, 0.3ms postprocess per image at shape (1, 3, 640, 640)\n",
      "\n",
      "0: 160x640 1 handwrite, 12.4ms\n",
      "Speed: 0.3ms preprocess, 12.4ms inference, 0.3ms postprocess per image at shape (1, 3, 640, 640)\n",
      "\n",
      "0: 192x640 1 handwrite, 11.2ms\n",
      "Speed: 0.1ms preprocess, 11.2ms inference, 0.3ms postprocess per image at shape (1, 3, 640, 640)\n"
     ]
    },
    {
     "name": "stdout",
     "output_type": "stream",
     "text": [
      "in process: 128/1000\r"
     ]
    },
    {
     "name": "stderr",
     "output_type": "stream",
     "text": [
      "\n",
      "0: 640x480 1 content, 1 date, 1 number, 2 senders, 1 signer, 104.9ms\n",
      "Speed: 0.3ms preprocess, 104.9ms inference, 1.7ms postprocess per image at shape (1, 3, 640, 640)\n",
      "\n",
      "0: 160x640 1 handwrite, 10.4ms\n",
      "Speed: 0.2ms preprocess, 10.4ms inference, 0.3ms postprocess per image at shape (1, 3, 640, 640)\n",
      "\n",
      "0: 224x640 1 typewritten, 12.2ms\n",
      "Speed: 0.1ms preprocess, 12.2ms inference, 0.3ms postprocess per image at shape (1, 3, 640, 640)\n",
      "\n"
     ]
    },
    {
     "name": "stdout",
     "output_type": "stream",
     "text": [
      "in process: 129/1000\r"
     ]
    },
    {
     "name": "stderr",
     "output_type": "stream",
     "text": [
      "0: 640x480 1 date, 1 number, 1 sender, 1 signer, 103.3ms\n",
      "Speed: 0.3ms preprocess, 103.3ms inference, 0.3ms postprocess per image at shape (1, 3, 640, 640)\n",
      "\n",
      "0: 160x640 1 handwrite, 10.4ms\n",
      "Speed: 0.2ms preprocess, 10.4ms inference, 0.3ms postprocess per image at shape (1, 3, 640, 640)\n",
      "\n",
      "0: 160x640 1 handwrite, 10.5ms\n",
      "Speed: 0.2ms preprocess, 10.5ms inference, 0.3ms postprocess per image at shape (1, 3, 640, 640)\n",
      "\n"
     ]
    },
    {
     "name": "stdout",
     "output_type": "stream",
     "text": [
      "in process: 130/1000\r"
     ]
    },
    {
     "name": "stderr",
     "output_type": "stream",
     "text": [
      "0: 640x480 1 sender, 1 signer, 105.2ms\n",
      "Speed: 0.3ms preprocess, 105.2ms inference, 0.3ms postprocess per image at shape (1, 3, 640, 640)\n"
     ]
    },
    {
     "name": "stdout",
     "output_type": "stream",
     "text": [
      "in process: 131/1000\r"
     ]
    },
    {
     "name": "stderr",
     "output_type": "stream",
     "text": [
      "\n",
      "0: 640x480 1 date, 2 senders, 106.0ms\n",
      "Speed: 0.3ms preprocess, 106.0ms inference, 2.0ms postprocess per image at shape (1, 3, 640, 640)\n",
      "\n",
      "0: 224x640 1 handwrite, 12.3ms\n",
      "Speed: 0.2ms preprocess, 12.3ms inference, 0.3ms postprocess per image at shape (1, 3, 640, 640)\n",
      "\n",
      "0: 640x480 1 date, 1 number, 2 senders, 1 signer, 105.9ms\n",
      "Speed: 0.3ms preprocess, 105.9ms inference, 0.3ms postprocess per image at shape (1, 3, 640, 640)\n",
      "\n",
      "0: 224x640 1 typewritten, 12.1ms\n",
      "Speed: 11.0ms preprocess, 12.1ms inference, 0.3ms postprocess per image at shape (1, 3, 640, 640)\n",
      "\n",
      "0: 96x640 1 typewritten, 7.9ms\n",
      "Speed: 0.2ms preprocess, 7.9ms inference, 0.3ms postprocess per image at shape (1, 3, 640, 640)\n"
     ]
    },
    {
     "name": "stdout",
     "output_type": "stream",
     "text": [
      "in process: 132/1000\r"
     ]
    },
    {
     "name": "stderr",
     "output_type": "stream",
     "text": [
      "\n",
      "0: 640x480 1 date, 1 number, 1 sender, 102.9ms\n",
      "Speed: 0.3ms preprocess, 102.9ms inference, 1.7ms postprocess per image at shape (1, 3, 640, 640)\n",
      "\n",
      "0: 224x640 1 handwrite, 12.2ms\n",
      "Speed: 0.2ms preprocess, 12.2ms inference, 0.3ms postprocess per image at shape (1, 3, 640, 640)\n",
      "\n",
      "0: 128x640 1 handwrite, 8.6ms\n",
      "Speed: 0.1ms preprocess, 8.6ms inference, 0.3ms postprocess per image at shape (1, 3, 640, 640)\n",
      "\n",
      "0: 640x480 (no detections), 104.3ms\n",
      "Speed: 0.3ms preprocess, 104.3ms inference, 0.2ms postprocess per image at shape (1, 3, 640, 640)\n",
      "\n",
      "0: 640x480 (no detections), 104.6ms\n",
      "Speed: 0.3ms preprocess, 104.6ms inference, 0.2ms postprocess per image at shape (1, 3, 640, 640)\n",
      "\n",
      "0: 640x480 (no detections), 104.3ms\n",
      "Speed: 0.3ms preprocess, 104.3ms inference, 0.2ms postprocess per image at shape (1, 3, 640, 640)\n",
      "\n",
      "0: 640x480 (no detections), 102.3ms\n",
      "Speed: 0.3ms preprocess, 102.3ms inference, 0.2ms postprocess per image at shape (1, 3, 640, 640)\n",
      "\n",
      "0: 640x480 (no detections), 103.1ms\n",
      "Speed: 0.3ms preprocess, 103.1ms inference, 0.2ms postprocess per image at shape (1, 3, 640, 640)\n",
      "\n",
      "0: 640x480 (no detections), 104.9ms\n",
      "Speed: 0.3ms preprocess, 104.9ms inference, 0.2ms postprocess per image at shape (1, 3, 640, 640)\n",
      "\n",
      "0: 640x480 (no detections), 105.2ms\n",
      "Speed: 0.3ms preprocess, 105.2ms inference, 0.2ms postprocess per image at shape (1, 3, 640, 640)\n",
      "\n",
      "0: 640x480 (no detections), 104.8ms\n",
      "Speed: 0.3ms preprocess, 104.8ms inference, 0.2ms postprocess per image at shape (1, 3, 640, 640)\n",
      "\n",
      "0: 640x480 1 signer, 104.1ms\n",
      "Speed: 0.3ms preprocess, 104.1ms inference, 0.3ms postprocess per image at shape (1, 3, 640, 640)\n"
     ]
    },
    {
     "name": "stdout",
     "output_type": "stream",
     "text": [
      "in process: 133/1000\r"
     ]
    },
    {
     "name": "stderr",
     "output_type": "stream",
     "text": [
      "\n",
      "0: 640x480 1 content, 1 date, 1 number, 1 sender, 1 signer, 102.3ms\n",
      "Speed: 0.3ms preprocess, 102.3ms inference, 1.8ms postprocess per image at shape (1, 3, 640, 640)\n",
      "\n",
      "0: 160x640 1 handwrite, 10.5ms\n",
      "Speed: 0.2ms preprocess, 10.5ms inference, 0.3ms postprocess per image at shape (1, 3, 640, 640)\n",
      "\n",
      "0: 160x640 1 handwrite, 10.2ms\n",
      "Speed: 0.1ms preprocess, 10.2ms inference, 0.3ms postprocess per image at shape (1, 3, 640, 640)\n",
      "\n"
     ]
    },
    {
     "name": "stdout",
     "output_type": "stream",
     "text": [
      "in process: 134/1000\r"
     ]
    },
    {
     "name": "stderr",
     "output_type": "stream",
     "text": [
      "0: 640x480 1 date, 1 number, 1 sender, 1 signer, 104.5ms\n",
      "Speed: 0.3ms preprocess, 104.5ms inference, 0.3ms postprocess per image at shape (1, 3, 640, 640)\n",
      "\n",
      "0: 160x640 1 handwrite, 10.4ms\n",
      "Speed: 0.2ms preprocess, 10.4ms inference, 0.3ms postprocess per image at shape (1, 3, 640, 640)\n",
      "\n",
      "0: 160x640 1 handwrite, 10.9ms\n",
      "Speed: 0.1ms preprocess, 10.9ms inference, 0.4ms postprocess per image at shape (1, 3, 640, 640)\n"
     ]
    },
    {
     "name": "stdout",
     "output_type": "stream",
     "text": [
      "in process: 135/1000\r"
     ]
    },
    {
     "name": "stderr",
     "output_type": "stream",
     "text": [
      "\n",
      "0: 640x480 1 date, 1 number, 1 sender, 2 signers, 104.8ms\n",
      "Speed: 0.3ms preprocess, 104.8ms inference, 1.6ms postprocess per image at shape (1, 3, 640, 640)\n",
      "\n",
      "0: 128x640 1 handwrite, 8.7ms\n",
      "Speed: 0.1ms preprocess, 8.7ms inference, 0.3ms postprocess per image at shape (1, 3, 640, 640)\n",
      "\n",
      "0: 160x640 1 handwrite, 10.3ms\n",
      "Speed: 0.1ms preprocess, 10.3ms inference, 0.3ms postprocess per image at shape (1, 3, 640, 640)\n"
     ]
    },
    {
     "name": "stdout",
     "output_type": "stream",
     "text": [
      "in process: 136/1000\r"
     ]
    },
    {
     "name": "stderr",
     "output_type": "stream",
     "text": [
      "\n",
      "0: 640x480 1 date, 1 sender, 105.4ms\n",
      "Speed: 0.3ms preprocess, 105.4ms inference, 0.3ms postprocess per image at shape (1, 3, 640, 640)\n",
      "\n",
      "0: 224x640 1 handwrite, 12.3ms\n",
      "Speed: 0.2ms preprocess, 12.3ms inference, 0.3ms postprocess per image at shape (1, 3, 640, 640)\n",
      "\n",
      "0: 640x480 (no detections), 104.9ms\n",
      "Speed: 0.3ms preprocess, 104.9ms inference, 0.2ms postprocess per image at shape (1, 3, 640, 640)\n",
      "\n",
      "0: 640x480 1 signer, 102.1ms\n",
      "Speed: 0.3ms preprocess, 102.1ms inference, 0.3ms postprocess per image at shape (1, 3, 640, 640)\n"
     ]
    },
    {
     "name": "stdout",
     "output_type": "stream",
     "text": [
      "in process: 137/1000\r"
     ]
    },
    {
     "name": "stderr",
     "output_type": "stream",
     "text": [
      "\n",
      "0: 640x480 (no detections), 102.7ms\n",
      "Speed: 0.3ms preprocess, 102.7ms inference, 2.3ms postprocess per image at shape (1, 3, 640, 640)\n",
      "\n",
      "0: 640x480 (no detections), 104.5ms\n",
      "Speed: 0.3ms preprocess, 104.5ms inference, 0.2ms postprocess per image at shape (1, 3, 640, 640)\n",
      "\n",
      "0: 640x480 (no detections), 104.1ms\n",
      "Speed: 0.3ms preprocess, 104.1ms inference, 0.2ms postprocess per image at shape (1, 3, 640, 640)\n",
      "\n",
      "0: 640x480 (no detections), 104.2ms\n",
      "Speed: 0.3ms preprocess, 104.2ms inference, 0.2ms postprocess per image at shape (1, 3, 640, 640)\n",
      "\n"
     ]
    },
    {
     "name": "stdout",
     "output_type": "stream",
     "text": [
      "in process: 138/1000\r"
     ]
    },
    {
     "name": "stderr",
     "output_type": "stream",
     "text": [
      "0: 640x480 1 sender, 1 signer, 105.6ms\n",
      "Speed: 0.3ms preprocess, 105.6ms inference, 1.8ms postprocess per image at shape (1, 3, 640, 640)\n"
     ]
    },
    {
     "name": "stdout",
     "output_type": "stream",
     "text": [
      "in process: 139/1000\r"
     ]
    },
    {
     "name": "stderr",
     "output_type": "stream",
     "text": [
      "\n",
      "0: 640x480 1 content, 1 date, 1 number, 1 sender, 1 signer, 104.9ms\n",
      "Speed: 0.3ms preprocess, 104.9ms inference, 0.4ms postprocess per image at shape (1, 3, 640, 640)\n",
      "\n",
      "0: 192x640 1 typewritten, 11.2ms\n",
      "Speed: 0.2ms preprocess, 11.2ms inference, 0.3ms postprocess per image at shape (1, 3, 640, 640)\n",
      "\n",
      "0: 128x640 1 handwrite, 1 typewritten, 8.8ms\n",
      "Speed: 0.2ms preprocess, 8.8ms inference, 0.3ms postprocess per image at shape (1, 3, 640, 640)\n"
     ]
    },
    {
     "name": "stdout",
     "output_type": "stream",
     "text": [
      "in process: 140/1000\r"
     ]
    },
    {
     "name": "stderr",
     "output_type": "stream",
     "text": [
      "\n",
      "0: 640x480 1 content, 1 date, 1 number, 2 senders, 1 signer, 105.0ms\n",
      "Speed: 0.3ms preprocess, 105.0ms inference, 0.4ms postprocess per image at shape (1, 3, 640, 640)\n",
      "\n",
      "0: 160x640 1 handwrite, 14.6ms\n",
      "Speed: 0.2ms preprocess, 14.6ms inference, 0.6ms postprocess per image at shape (1, 3, 640, 640)\n",
      "\n",
      "0: 160x640 1 handwrite, 14.2ms\n",
      "Speed: 0.1ms preprocess, 14.2ms inference, 0.6ms postprocess per image at shape (1, 3, 640, 640)\n"
     ]
    },
    {
     "name": "stdout",
     "output_type": "stream",
     "text": [
      "in process: 141/1000\r"
     ]
    },
    {
     "name": "stderr",
     "output_type": "stream",
     "text": [
      "\n",
      "0: 640x480 1 number, 1 sender, 1 signer, 107.3ms\n",
      "Speed: 0.3ms preprocess, 107.3ms inference, 2.0ms postprocess per image at shape (1, 3, 640, 640)\n",
      "\n",
      "0: 128x640 1 handwrite, 8.7ms\n",
      "Speed: 0.2ms preprocess, 8.7ms inference, 0.3ms postprocess per image at shape (1, 3, 640, 640)\n"
     ]
    },
    {
     "name": "stdout",
     "output_type": "stream",
     "text": [
      "in process: 142/1000\r"
     ]
    },
    {
     "name": "stderr",
     "output_type": "stream",
     "text": [
      "\n",
      "0: 640x480 (no detections), 104.9ms\n",
      "Speed: 0.3ms preprocess, 104.9ms inference, 0.2ms postprocess per image at shape (1, 3, 640, 640)\n",
      "\n",
      "0: 640x480 (no detections), 104.6ms\n",
      "Speed: 0.3ms preprocess, 104.6ms inference, 0.2ms postprocess per image at shape (1, 3, 640, 640)\n"
     ]
    },
    {
     "name": "stdout",
     "output_type": "stream",
     "text": [
      "in process: 143/1000\r"
     ]
    },
    {
     "name": "stderr",
     "output_type": "stream",
     "text": [
      "\n",
      "0: 640x480 1 number, 1 sender, 104.8ms\n",
      "Speed: 0.3ms preprocess, 104.8ms inference, 0.3ms postprocess per image at shape (1, 3, 640, 640)\n",
      "\n",
      "0: 192x640 1 handwrite, 11.1ms\n",
      "Speed: 0.1ms preprocess, 11.1ms inference, 0.3ms postprocess per image at shape (1, 3, 640, 640)\n",
      "\n",
      "0: 640x480 1 signer, 104.9ms\n",
      "Speed: 0.3ms preprocess, 104.9ms inference, 0.3ms postprocess per image at shape (1, 3, 640, 640)\n",
      "\n",
      "0: 640x480 1 sender, 1 signer, 102.2ms\n",
      "Speed: 0.3ms preprocess, 102.2ms inference, 2.5ms postprocess per image at shape (1, 3, 640, 640)\n"
     ]
    },
    {
     "name": "stdout",
     "output_type": "stream",
     "text": [
      "in process: 145/1000\r"
     ]
    },
    {
     "name": "stderr",
     "output_type": "stream",
     "text": [
      "\n",
      "0: 640x480 1 number, 1 sender, 102.4ms\n",
      "Speed: 0.3ms preprocess, 102.4ms inference, 0.3ms postprocess per image at shape (1, 3, 640, 640)\n",
      "\n",
      "0: 256x640 1 handwrite, 13.0ms\n",
      "Speed: 0.2ms preprocess, 13.0ms inference, 0.3ms postprocess per image at shape (1, 3, 640, 640)\n",
      "\n",
      "0: 640x480 (no detections), 103.2ms\n",
      "Speed: 0.3ms preprocess, 103.2ms inference, 0.2ms postprocess per image at shape (1, 3, 640, 640)\n",
      "\n",
      "0: 640x480 1 signer, 103.2ms\n",
      "Speed: 0.3ms preprocess, 103.2ms inference, 0.3ms postprocess per image at shape (1, 3, 640, 640)\n",
      "\n"
     ]
    },
    {
     "name": "stdout",
     "output_type": "stream",
     "text": [
      "in process: 146/1000\r"
     ]
    },
    {
     "name": "stderr",
     "output_type": "stream",
     "text": [
      "0: 640x480 (no detections), 102.5ms\n",
      "Speed: 0.3ms preprocess, 102.5ms inference, 2.6ms postprocess per image at shape (1, 3, 640, 640)\n"
     ]
    },
    {
     "name": "stdout",
     "output_type": "stream",
     "text": [
      "in process: 147/1000\r"
     ]
    },
    {
     "name": "stderr",
     "output_type": "stream",
     "text": [
      "\n",
      "0: 640x480 1 date, 1 number, 1 sender, 1 signer, 103.1ms\n",
      "Speed: 0.3ms preprocess, 103.1ms inference, 0.4ms postprocess per image at shape (1, 3, 640, 640)\n",
      "\n",
      "0: 96x640 1 handwrite, 7.8ms\n",
      "Speed: 0.2ms preprocess, 7.8ms inference, 0.3ms postprocess per image at shape (1, 3, 640, 640)\n",
      "\n",
      "0: 128x640 1 handwrite, 8.6ms\n",
      "Speed: 0.1ms preprocess, 8.6ms inference, 0.3ms postprocess per image at shape (1, 3, 640, 640)\n"
     ]
    },
    {
     "name": "stdout",
     "output_type": "stream",
     "text": [
      "in process: 148/1000\r"
     ]
    },
    {
     "name": "stderr",
     "output_type": "stream",
     "text": [
      "\n",
      "0: 640x480 1 date, 1 number, 1 sender, 1 signer, 103.2ms\n",
      "Speed: 0.3ms preprocess, 103.2ms inference, 2.1ms postprocess per image at shape (1, 3, 640, 640)\n",
      "\n",
      "0: 128x640 1 handwrite, 8.5ms\n",
      "Speed: 0.2ms preprocess, 8.5ms inference, 0.3ms postprocess per image at shape (1, 3, 640, 640)\n",
      "\n",
      "0: 128x640 1 handwrite, 8.6ms\n",
      "Speed: 0.2ms preprocess, 8.6ms inference, 0.3ms postprocess per image at shape (1, 3, 640, 640)\n"
     ]
    },
    {
     "name": "stdout",
     "output_type": "stream",
     "text": [
      "in process: 149/1000\r"
     ]
    },
    {
     "name": "stderr",
     "output_type": "stream",
     "text": [
      "\n",
      "0: 640x480 1 date, 1 sender, 104.7ms\n",
      "Speed: 0.3ms preprocess, 104.7ms inference, 0.3ms postprocess per image at shape (1, 3, 640, 640)\n",
      "\n",
      "0: 192x640 1 handwrite, 11.2ms\n",
      "Speed: 0.2ms preprocess, 11.2ms inference, 0.3ms postprocess per image at shape (1, 3, 640, 640)\n",
      "\n",
      "0: 640x480 1 signer, 103.9ms\n",
      "Speed: 0.3ms preprocess, 103.9ms inference, 0.3ms postprocess per image at shape (1, 3, 640, 640)\n"
     ]
    },
    {
     "name": "stdout",
     "output_type": "stream",
     "text": [
      "in process: 150/1000\r"
     ]
    },
    {
     "name": "stderr",
     "output_type": "stream",
     "text": [
      "\n",
      "0: 640x480 1 date, 1 number, 1 sender, 1 signer, 104.6ms\n",
      "Speed: 0.3ms preprocess, 104.6ms inference, 0.4ms postprocess per image at shape (1, 3, 640, 640)\n",
      "\n",
      "0: 128x640 1 handwrite, 12.6ms\n",
      "Speed: 0.2ms preprocess, 12.6ms inference, 0.4ms postprocess per image at shape (1, 3, 640, 640)\n",
      "\n",
      "0: 192x640 1 handwrite, 15.4ms\n",
      "Speed: 0.1ms preprocess, 15.4ms inference, 0.6ms postprocess per image at shape (1, 3, 640, 640)\n"
     ]
    },
    {
     "name": "stdout",
     "output_type": "stream",
     "text": [
      "in process: 151/1000\r"
     ]
    },
    {
     "name": "stderr",
     "output_type": "stream",
     "text": [
      "\n",
      "0: 640x480 1 signer, 102.1ms\n",
      "Speed: 0.3ms preprocess, 102.1ms inference, 0.3ms postprocess per image at shape (1, 3, 640, 640)\n",
      "\n"
     ]
    },
    {
     "name": "stdout",
     "output_type": "stream",
     "text": [
      "in process: 152/1000\r"
     ]
    },
    {
     "name": "stderr",
     "output_type": "stream",
     "text": [
      "0: 640x480 1 content, 1 date, 1 number, 4 senders, 1 signer, 105.0ms\n",
      "Speed: 0.3ms preprocess, 105.0ms inference, 0.3ms postprocess per image at shape (1, 3, 640, 640)\n",
      "\n",
      "0: 160x640 1 handwrite, 10.5ms\n",
      "Speed: 0.2ms preprocess, 10.5ms inference, 0.3ms postprocess per image at shape (1, 3, 640, 640)\n",
      "\n",
      "0: 256x640 1 typewritten, 13.1ms\n",
      "Speed: 0.2ms preprocess, 13.1ms inference, 0.3ms postprocess per image at shape (1, 3, 640, 640)\n",
      "\n"
     ]
    },
    {
     "name": "stdout",
     "output_type": "stream",
     "text": [
      "in process: 153/1000\r"
     ]
    },
    {
     "name": "stderr",
     "output_type": "stream",
     "text": [
      "0: 640x480 1 content, 1 date, 1 number, 1 sender, 1 signer, 105.5ms\n",
      "Speed: 0.3ms preprocess, 105.5ms inference, 1.5ms postprocess per image at shape (1, 3, 640, 640)\n",
      "\n",
      "0: 128x640 1 handwrite, 8.7ms\n",
      "Speed: 0.2ms preprocess, 8.7ms inference, 0.3ms postprocess per image at shape (1, 3, 640, 640)\n",
      "\n",
      "0: 224x640 1 handwrite, 1 typewritten, 12.2ms\n",
      "Speed: 0.1ms preprocess, 12.2ms inference, 0.3ms postprocess per image at shape (1, 3, 640, 640)\n"
     ]
    },
    {
     "name": "stdout",
     "output_type": "stream",
     "text": [
      "in process: 154/1000\r"
     ]
    },
    {
     "name": "stderr",
     "output_type": "stream",
     "text": [
      "\n",
      "0: 640x480 1 date, 1 number, 1 sender, 1 signer, 105.3ms\n",
      "Speed: 0.3ms preprocess, 105.3ms inference, 0.4ms postprocess per image at shape (1, 3, 640, 640)\n",
      "\n",
      "0: 160x640 1 handwrite, 10.3ms\n",
      "Speed: 0.1ms preprocess, 10.3ms inference, 0.3ms postprocess per image at shape (1, 3, 640, 640)\n",
      "\n",
      "0: 224x640 1 handwrite, 12.2ms\n",
      "Speed: 0.1ms preprocess, 12.2ms inference, 0.3ms postprocess per image at shape (1, 3, 640, 640)\n",
      "\n"
     ]
    },
    {
     "name": "stdout",
     "output_type": "stream",
     "text": [
      "in process: 155/1000\r"
     ]
    },
    {
     "name": "stderr",
     "output_type": "stream",
     "text": [
      "0: 640x480 1 content, 1 date, 1 number, 1 sender, 1 signer, 105.3ms\n",
      "Speed: 0.3ms preprocess, 105.3ms inference, 1.7ms postprocess per image at shape (1, 3, 640, 640)\n",
      "\n",
      "0: 128x640 1 handwrite, 8.8ms\n",
      "Speed: 0.2ms preprocess, 8.8ms inference, 0.3ms postprocess per image at shape (1, 3, 640, 640)\n",
      "\n",
      "0: 192x640 1 handwrite, 12.6ms\n",
      "Speed: 0.2ms preprocess, 12.6ms inference, 0.3ms postprocess per image at shape (1, 3, 640, 640)\n"
     ]
    },
    {
     "name": "stdout",
     "output_type": "stream",
     "text": [
      "in process: 156/1000\r"
     ]
    },
    {
     "name": "stderr",
     "output_type": "stream",
     "text": [
      "\n",
      "0: 640x480 1 sender, 1 signer, 104.3ms\n",
      "Speed: 0.3ms preprocess, 104.3ms inference, 0.3ms postprocess per image at shape (1, 3, 640, 640)\n"
     ]
    },
    {
     "name": "stdout",
     "output_type": "stream",
     "text": [
      "in process: 157/1000\r"
     ]
    },
    {
     "name": "stderr",
     "output_type": "stream",
     "text": [
      "\n",
      "0: 640x480 1 content, 1 date, 1 number, 1 sender, 104.8ms\n",
      "Speed: 0.3ms preprocess, 104.8ms inference, 1.6ms postprocess per image at shape (1, 3, 640, 640)\n",
      "\n",
      "0: 160x640 1 handwrite, 11.3ms\n",
      "Speed: 0.2ms preprocess, 11.3ms inference, 0.4ms postprocess per image at shape (1, 3, 640, 640)\n",
      "\n",
      "0: 192x640 1 handwrite, 12.0ms\n",
      "Speed: 0.1ms preprocess, 12.0ms inference, 0.4ms postprocess per image at shape (1, 3, 640, 640)\n",
      "\n",
      "0: 640x480 1 sender, 1 signer, 109.2ms\n",
      "Speed: 0.3ms preprocess, 109.2ms inference, 0.7ms postprocess per image at shape (1, 3, 640, 640)\n",
      "\n"
     ]
    },
    {
     "name": "stdout",
     "output_type": "stream",
     "text": [
      "in process: 158/1000\r"
     ]
    },
    {
     "name": "stderr",
     "output_type": "stream",
     "text": [
      "0: 640x480 1 date, 1 number, 2 senders, 102.4ms\n",
      "Speed: 0.3ms preprocess, 102.4ms inference, 1.7ms postprocess per image at shape (1, 3, 640, 640)\n",
      "\n",
      "0: 160x640 1 handwrite, 14.7ms\n",
      "Speed: 0.2ms preprocess, 14.7ms inference, 0.7ms postprocess per image at shape (1, 3, 640, 640)\n",
      "\n",
      "0: 160x640 2 typewrittens, 10.5ms\n",
      "Speed: 0.2ms preprocess, 10.5ms inference, 0.3ms postprocess per image at shape (1, 3, 640, 640)\n",
      "\n",
      "0: 640x480 1 signer, 104.0ms\n",
      "Speed: 0.3ms preprocess, 104.0ms inference, 0.3ms postprocess per image at shape (1, 3, 640, 640)\n",
      "\n"
     ]
    },
    {
     "name": "stdout",
     "output_type": "stream",
     "text": [
      "in process: 159/1000\r"
     ]
    },
    {
     "name": "stderr",
     "output_type": "stream",
     "text": [
      "0: 640x480 1 content, 1 date, 1 number, 1 sender, 102.5ms\n",
      "Speed: 0.3ms preprocess, 102.5ms inference, 1.9ms postprocess per image at shape (1, 3, 640, 640)\n",
      "\n",
      "0: 160x640 1 typewritten, 14.1ms\n",
      "Speed: 0.2ms preprocess, 14.1ms inference, 0.6ms postprocess per image at shape (1, 3, 640, 640)\n",
      "\n",
      "0: 192x640 1 typewritten, 11.2ms\n",
      "Speed: 0.2ms preprocess, 11.2ms inference, 0.3ms postprocess per image at shape (1, 3, 640, 640)\n",
      "\n",
      "0: 640x480 1 signer, 102.2ms\n",
      "Speed: 0.3ms preprocess, 102.2ms inference, 0.3ms postprocess per image at shape (1, 3, 640, 640)\n"
     ]
    },
    {
     "name": "stdout",
     "output_type": "stream",
     "text": [
      "in process: 160/1000\r"
     ]
    },
    {
     "name": "stderr",
     "output_type": "stream",
     "text": [
      "\n",
      "0: 640x480 1 date, 1 number, 1 sender, 1 signer, 104.8ms\n",
      "Speed: 0.3ms preprocess, 104.8ms inference, 2.0ms postprocess per image at shape (1, 3, 640, 640)\n",
      "\n",
      "0: 160x640 1 handwrite, 10.5ms\n",
      "Speed: 0.2ms preprocess, 10.5ms inference, 0.3ms postprocess per image at shape (1, 3, 640, 640)\n",
      "\n",
      "0: 192x640 1 handwrite, 11.4ms\n",
      "Speed: 0.1ms preprocess, 11.4ms inference, 0.3ms postprocess per image at shape (1, 3, 640, 640)\n"
     ]
    },
    {
     "name": "stdout",
     "output_type": "stream",
     "text": [
      "in process: 161/1000\r"
     ]
    },
    {
     "name": "stderr",
     "output_type": "stream",
     "text": [
      "\n",
      "0: 640x480 1 content, 1 date, 1 number, 1 sender, 1 signer, 105.9ms\n",
      "Speed: 0.3ms preprocess, 105.9ms inference, 0.4ms postprocess per image at shape (1, 3, 640, 640)\n",
      "\n",
      "0: 128x640 1 handwrite, 8.8ms\n",
      "Speed: 0.2ms preprocess, 8.8ms inference, 0.3ms postprocess per image at shape (1, 3, 640, 640)\n",
      "\n",
      "0: 192x640 1 handwrite, 21.1ms\n",
      "Speed: 0.2ms preprocess, 21.1ms inference, 0.7ms postprocess per image at shape (1, 3, 640, 640)\n"
     ]
    },
    {
     "name": "stdout",
     "output_type": "stream",
     "text": [
      "in process: 162/1000\r"
     ]
    },
    {
     "name": "stderr",
     "output_type": "stream",
     "text": [
      "\n",
      "0: 640x480 1 number, 1 sender, 1 signer, 105.5ms\n",
      "Speed: 0.3ms preprocess, 105.5ms inference, 0.3ms postprocess per image at shape (1, 3, 640, 640)\n",
      "\n",
      "0: 160x640 1 typewritten, 10.5ms\n",
      "Speed: 0.2ms preprocess, 10.5ms inference, 0.3ms postprocess per image at shape (1, 3, 640, 640)\n"
     ]
    },
    {
     "name": "stdout",
     "output_type": "stream",
     "text": [
      "in process: 163/1000\r"
     ]
    },
    {
     "name": "stderr",
     "output_type": "stream",
     "text": [
      "\n",
      "0: 640x480 1 date, 1 number, 1 sender, 1 signer, 104.0ms\n",
      "Speed: 0.3ms preprocess, 104.0ms inference, 1.8ms postprocess per image at shape (1, 3, 640, 640)\n",
      "\n",
      "0: 128x640 1 handwrite, 8.7ms\n",
      "Speed: 0.2ms preprocess, 8.7ms inference, 0.3ms postprocess per image at shape (1, 3, 640, 640)\n",
      "\n",
      "0: 160x640 1 handwrite, 10.2ms\n",
      "Speed: 0.1ms preprocess, 10.2ms inference, 0.3ms postprocess per image at shape (1, 3, 640, 640)\n",
      "\n"
     ]
    },
    {
     "name": "stdout",
     "output_type": "stream",
     "text": [
      "in process: 164/1000\r"
     ]
    },
    {
     "name": "stderr",
     "output_type": "stream",
     "text": [
      "0: 640x480 1 content, 1 date, 1 number, 1 sender, 1 signer, 102.5ms\n",
      "Speed: 0.3ms preprocess, 102.5ms inference, 0.4ms postprocess per image at shape (1, 3, 640, 640)\n",
      "\n",
      "0: 192x640 1 handwrite, 11.2ms\n",
      "Speed: 0.2ms preprocess, 11.2ms inference, 0.3ms postprocess per image at shape (1, 3, 640, 640)\n",
      "\n",
      "0: 192x640 1 handwrite, 11.1ms\n",
      "Speed: 0.2ms preprocess, 11.1ms inference, 0.3ms postprocess per image at shape (1, 3, 640, 640)\n"
     ]
    },
    {
     "name": "stdout",
     "output_type": "stream",
     "text": [
      "in process: 165/1000\r"
     ]
    },
    {
     "name": "stderr",
     "output_type": "stream",
     "text": [
      "\n",
      "0: 640x480 1 date, 1 sender, 102.7ms\n",
      "Speed: 0.3ms preprocess, 102.7ms inference, 1.8ms postprocess per image at shape (1, 3, 640, 640)\n",
      "\n",
      "0: 224x640 1 handwrite, 12.1ms\n",
      "Speed: 0.2ms preprocess, 12.1ms inference, 0.3ms postprocess per image at shape (1, 3, 640, 640)\n",
      "\n",
      "0: 640x480 1 signer, 106.4ms\n",
      "Speed: 0.3ms preprocess, 106.4ms inference, 0.3ms postprocess per image at shape (1, 3, 640, 640)\n"
     ]
    },
    {
     "name": "stdout",
     "output_type": "stream",
     "text": [
      "in process: 166/1000\r"
     ]
    },
    {
     "name": "stderr",
     "output_type": "stream",
     "text": [
      "\n",
      "0: 640x480 1 content, 104.4ms\n",
      "Speed: 0.3ms preprocess, 104.4ms inference, 1.7ms postprocess per image at shape (1, 3, 640, 640)\n",
      "\n",
      "0: 640x480 1 sender, 1 signer, 104.3ms\n",
      "Speed: 0.3ms preprocess, 104.3ms inference, 0.3ms postprocess per image at shape (1, 3, 640, 640)\n"
     ]
    },
    {
     "name": "stdout",
     "output_type": "stream",
     "text": [
      "in process: 167/1000\r"
     ]
    },
    {
     "name": "stderr",
     "output_type": "stream",
     "text": [
      "\n",
      "0: 640x480 1 date, 1 number, 1 sender, 1 signer, 102.0ms\n",
      "Speed: 0.3ms preprocess, 102.0ms inference, 2.0ms postprocess per image at shape (1, 3, 640, 640)\n",
      "\n",
      "0: 160x640 1 handwrite, 10.3ms\n",
      "Speed: 0.2ms preprocess, 10.3ms inference, 0.3ms postprocess per image at shape (1, 3, 640, 640)\n",
      "\n",
      "0: 192x640 1 handwrite, 17.6ms\n",
      "Speed: 0.2ms preprocess, 17.6ms inference, 0.4ms postprocess per image at shape (1, 3, 640, 640)\n",
      "\n"
     ]
    },
    {
     "name": "stdout",
     "output_type": "stream",
     "text": [
      "in process: 168/1000\r"
     ]
    },
    {
     "name": "stderr",
     "output_type": "stream",
     "text": [
      "0: 640x480 1 date, 1 number, 1 sender, 1 signer, 102.5ms\n",
      "Speed: 0.3ms preprocess, 102.5ms inference, 0.3ms postprocess per image at shape (1, 3, 640, 640)\n",
      "\n",
      "0: 160x640 1 handwrite, 10.4ms\n",
      "Speed: 0.4ms preprocess, 10.4ms inference, 0.3ms postprocess per image at shape (1, 3, 640, 640)\n",
      "\n",
      "0: 192x640 1 handwrite, 13.7ms\n",
      "Speed: 0.2ms preprocess, 13.7ms inference, 0.3ms postprocess per image at shape (1, 3, 640, 640)\n"
     ]
    },
    {
     "name": "stdout",
     "output_type": "stream",
     "text": [
      "in process: 169/1000\r"
     ]
    },
    {
     "name": "stderr",
     "output_type": "stream",
     "text": [
      "\n",
      "0: 640x480 1 content, 1 date, 1 number, 1 sender, 103.3ms\n",
      "Speed: 0.3ms preprocess, 103.3ms inference, 1.9ms postprocess per image at shape (1, 3, 640, 640)\n",
      "\n",
      "0: 160x640 1 handwrite, 10.7ms\n",
      "Speed: 0.2ms preprocess, 10.7ms inference, 0.3ms postprocess per image at shape (1, 3, 640, 640)\n",
      "\n",
      "0: 192x640 1 handwrite, 15.3ms\n",
      "Speed: 0.1ms preprocess, 15.3ms inference, 0.6ms postprocess per image at shape (1, 3, 640, 640)\n",
      "\n",
      "0: 640x480 (no detections), 102.5ms\n",
      "Speed: 0.3ms preprocess, 102.5ms inference, 0.2ms postprocess per image at shape (1, 3, 640, 640)\n",
      "\n",
      "0: 640x480 (no detections), 103.7ms\n",
      "Speed: 0.3ms preprocess, 103.7ms inference, 0.2ms postprocess per image at shape (1, 3, 640, 640)\n",
      "\n",
      "0: 640x480 1 signer, 104.0ms\n",
      "Speed: 0.3ms preprocess, 104.0ms inference, 0.3ms postprocess per image at shape (1, 3, 640, 640)\n"
     ]
    },
    {
     "name": "stdout",
     "output_type": "stream",
     "text": [
      "in process: 170/1000\r"
     ]
    },
    {
     "name": "stderr",
     "output_type": "stream",
     "text": [
      "\n",
      "0: 640x480 1 date, 1 number, 1 sender, 1 signer, 104.6ms\n",
      "Speed: 0.3ms preprocess, 104.6ms inference, 0.4ms postprocess per image at shape (1, 3, 640, 640)\n",
      "\n",
      "0: 160x640 1 handwrite, 10.3ms\n",
      "Speed: 0.2ms preprocess, 10.3ms inference, 0.3ms postprocess per image at shape (1, 3, 640, 640)\n",
      "\n",
      "0: 160x640 1 handwrite, 10.2ms\n",
      "Speed: 0.1ms preprocess, 10.2ms inference, 0.3ms postprocess per image at shape (1, 3, 640, 640)\n",
      "\n"
     ]
    },
    {
     "name": "stdout",
     "output_type": "stream",
     "text": [
      "in process: 171/1000\r"
     ]
    },
    {
     "name": "stderr",
     "output_type": "stream",
     "text": [
      "0: 640x480 1 content, 1 date, 1 number, 2 senders, 104.2ms\n",
      "Speed: 0.3ms preprocess, 104.2ms inference, 0.3ms postprocess per image at shape (1, 3, 640, 640)\n",
      "\n",
      "0: 224x640 2 typewrittens, 16.1ms\n",
      "Speed: 0.2ms preprocess, 16.1ms inference, 0.6ms postprocess per image at shape (1, 3, 640, 640)\n",
      "\n",
      "0: 160x640 1 handwrite, 10.6ms\n",
      "Speed: 0.2ms preprocess, 10.6ms inference, 0.3ms postprocess per image at shape (1, 3, 640, 640)\n",
      "\n",
      "0: 640x480 1 signer, 102.4ms\n",
      "Speed: 0.3ms preprocess, 102.4ms inference, 0.3ms postprocess per image at shape (1, 3, 640, 640)\n"
     ]
    },
    {
     "name": "stdout",
     "output_type": "stream",
     "text": [
      "in process: 172/1000\r"
     ]
    },
    {
     "name": "stderr",
     "output_type": "stream",
     "text": [
      "\n",
      "0: 640x480 1 content, 1 sender, 102.0ms\n",
      "Speed: 0.3ms preprocess, 102.0ms inference, 1.7ms postprocess per image at shape (1, 3, 640, 640)\n",
      "\n",
      "0: 640x480 (no detections), 101.5ms\n",
      "Speed: 0.3ms preprocess, 101.5ms inference, 0.2ms postprocess per image at shape (1, 3, 640, 640)\n",
      "\n",
      "0: 640x480 1 signer, 104.2ms\n",
      "Speed: 0.3ms preprocess, 104.2ms inference, 0.3ms postprocess per image at shape (1, 3, 640, 640)\n"
     ]
    },
    {
     "name": "stdout",
     "output_type": "stream",
     "text": [
      "in process: 173/1000\r"
     ]
    },
    {
     "name": "stderr",
     "output_type": "stream",
     "text": [
      "\n",
      "0: 640x480 1 date, 1 number, 1 sender, 1 signer, 103.7ms\n",
      "Speed: 0.3ms preprocess, 103.7ms inference, 2.8ms postprocess per image at shape (1, 3, 640, 640)\n",
      "\n",
      "0: 224x640 2 typewrittens, 12.2ms\n",
      "Speed: 0.2ms preprocess, 12.2ms inference, 0.3ms postprocess per image at shape (1, 3, 640, 640)\n",
      "\n",
      "0: 128x640 1 handwrite, 8.8ms\n",
      "Speed: 0.2ms preprocess, 8.8ms inference, 0.3ms postprocess per image at shape (1, 3, 640, 640)\n",
      "\n",
      "0: 640x480 1 date, 1 number, 1 sender, 104.5ms\n",
      "Speed: 0.3ms preprocess, 104.5ms inference, 0.3ms postprocess per image at shape (1, 3, 640, 640)\n",
      "\n"
     ]
    },
    {
     "name": "stdout",
     "output_type": "stream",
     "text": [
      "in process: 174/1000\r"
     ]
    },
    {
     "name": "stderr",
     "output_type": "stream",
     "text": [
      "0: 160x640 1 typewritten, 10.7ms\n",
      "Speed: 0.1ms preprocess, 10.7ms inference, 0.3ms postprocess per image at shape (1, 3, 640, 640)\n",
      "\n",
      "0: 160x640 1 typewritten, 10.4ms\n",
      "Speed: 0.2ms preprocess, 10.4ms inference, 0.3ms postprocess per image at shape (1, 3, 640, 640)\n",
      "\n",
      "0: 640x480 1 signer, 108.2ms\n",
      "Speed: 0.3ms preprocess, 108.2ms inference, 0.7ms postprocess per image at shape (1, 3, 640, 640)\n"
     ]
    },
    {
     "name": "stdout",
     "output_type": "stream",
     "text": [
      "in process: 175/1000\r"
     ]
    },
    {
     "name": "stderr",
     "output_type": "stream",
     "text": [
      "\n",
      "0: 640x480 1 content, 1 number, 1 sender, 104.3ms\n",
      "Speed: 0.3ms preprocess, 104.3ms inference, 0.3ms postprocess per image at shape (1, 3, 640, 640)\n",
      "\n",
      "0: 160x640 1 handwrite, 10.3ms\n",
      "Speed: 0.2ms preprocess, 10.3ms inference, 0.3ms postprocess per image at shape (1, 3, 640, 640)\n",
      "\n",
      "0: 640x480 1 signer, 104.0ms\n",
      "Speed: 0.3ms preprocess, 104.0ms inference, 0.3ms postprocess per image at shape (1, 3, 640, 640)\n"
     ]
    },
    {
     "name": "stdout",
     "output_type": "stream",
     "text": [
      "in process: 176/1000\r"
     ]
    },
    {
     "name": "stderr",
     "output_type": "stream",
     "text": [
      "\n",
      "0: 640x480 1 content, 1 date, 1 number, 1 sender, 1 signer, 102.5ms\n",
      "Speed: 0.3ms preprocess, 102.5ms inference, 2.3ms postprocess per image at shape (1, 3, 640, 640)\n",
      "\n",
      "0: 128x640 1 handwrite, 8.7ms\n",
      "Speed: 0.2ms preprocess, 8.7ms inference, 0.3ms postprocess per image at shape (1, 3, 640, 640)\n",
      "\n",
      "0: 192x640 1 handwrite, 11.1ms\n",
      "Speed: 0.1ms preprocess, 11.1ms inference, 0.3ms postprocess per image at shape (1, 3, 640, 640)\n"
     ]
    },
    {
     "name": "stdout",
     "output_type": "stream",
     "text": [
      "in process: 177/1000\r"
     ]
    },
    {
     "name": "stderr",
     "output_type": "stream",
     "text": [
      "\n",
      "0: 640x480 1 date, 1 number, 1 sender, 1 signer, 105.6ms\n",
      "Speed: 0.3ms preprocess, 105.6ms inference, 0.4ms postprocess per image at shape (1, 3, 640, 640)\n",
      "\n",
      "0: 128x640 1 handwrite, 8.7ms\n",
      "Speed: 0.2ms preprocess, 8.7ms inference, 0.3ms postprocess per image at shape (1, 3, 640, 640)\n",
      "\n",
      "0: 160x640 1 handwrite, 10.3ms\n",
      "Speed: 0.1ms preprocess, 10.3ms inference, 0.3ms postprocess per image at shape (1, 3, 640, 640)\n"
     ]
    },
    {
     "name": "stdout",
     "output_type": "stream",
     "text": [
      "in process: 178/1000\r"
     ]
    },
    {
     "name": "stderr",
     "output_type": "stream",
     "text": [
      "\n",
      "0: 640x480 (no detections), 104.6ms\n",
      "Speed: 0.3ms preprocess, 104.6ms inference, 0.2ms postprocess per image at shape (1, 3, 640, 640)\n",
      "\n",
      "0: 640x480 1 sender, 1 signer, 101.9ms\n",
      "Speed: 0.3ms preprocess, 101.9ms inference, 0.3ms postprocess per image at shape (1, 3, 640, 640)\n"
     ]
    },
    {
     "name": "stdout",
     "output_type": "stream",
     "text": [
      "in process: 179/1000\r"
     ]
    },
    {
     "name": "stderr",
     "output_type": "stream",
     "text": [
      "\n",
      "0: 640x480 1 content, 1 date, 1 number, 1 signer, 103.6ms\n",
      "Speed: 0.3ms preprocess, 103.6ms inference, 2.0ms postprocess per image at shape (1, 3, 640, 640)\n",
      "\n",
      "0: 160x640 1 handwrite, 13.0ms\n",
      "Speed: 0.2ms preprocess, 13.0ms inference, 0.3ms postprocess per image at shape (1, 3, 640, 640)\n",
      "\n",
      "0: 224x640 1 typewritten, 12.0ms\n",
      "Speed: 0.1ms preprocess, 12.0ms inference, 0.3ms postprocess per image at shape (1, 3, 640, 640)\n"
     ]
    },
    {
     "name": "stdout",
     "output_type": "stream",
     "text": [
      "in process: 180/1000\r"
     ]
    },
    {
     "name": "stderr",
     "output_type": "stream",
     "text": [
      "\n",
      "0: 640x480 1 date, 1 number, 1 sender, 102.7ms\n",
      "Speed: 0.3ms preprocess, 102.7ms inference, 1.7ms postprocess per image at shape (1, 3, 640, 640)\n",
      "\n",
      "0: 128x640 1 handwrite, 8.7ms\n",
      "Speed: 0.2ms preprocess, 8.7ms inference, 0.3ms postprocess per image at shape (1, 3, 640, 640)\n",
      "\n",
      "0: 192x640 1 handwrite, 11.0ms\n",
      "Speed: 0.1ms preprocess, 11.0ms inference, 0.3ms postprocess per image at shape (1, 3, 640, 640)\n",
      "\n",
      "0: 640x480 (no detections), 104.2ms\n",
      "Speed: 0.3ms preprocess, 104.2ms inference, 0.2ms postprocess per image at shape (1, 3, 640, 640)\n",
      "\n",
      "0: 640x480 (no detections), 104.6ms\n",
      "Speed: 0.3ms preprocess, 104.6ms inference, 0.2ms postprocess per image at shape (1, 3, 640, 640)\n",
      "\n",
      "0: 640x480 (no detections), 104.6ms\n",
      "Speed: 0.3ms preprocess, 104.6ms inference, 0.2ms postprocess per image at shape (1, 3, 640, 640)\n",
      "\n",
      "0: 640x480 (no detections), 102.0ms\n",
      "Speed: 0.3ms preprocess, 102.0ms inference, 0.2ms postprocess per image at shape (1, 3, 640, 640)\n"
     ]
    },
    {
     "name": "stdout",
     "output_type": "stream",
     "text": [
      "in process: 181/1000\r"
     ]
    },
    {
     "name": "stderr",
     "output_type": "stream",
     "text": [
      "\n",
      "0: 640x480 1 content, 1 date, 1 number, 1 signer, 102.2ms\n",
      "Speed: 0.3ms preprocess, 102.2ms inference, 1.8ms postprocess per image at shape (1, 3, 640, 640)\n",
      "\n",
      "0: 128x640 1 handwrite, 9.3ms\n",
      "Speed: 0.1ms preprocess, 9.3ms inference, 0.4ms postprocess per image at shape (1, 3, 640, 640)\n",
      "\n",
      "0: 192x640 1 handwrite, 11.2ms\n",
      "Speed: 0.2ms preprocess, 11.2ms inference, 0.3ms postprocess per image at shape (1, 3, 640, 640)\n",
      "\n"
     ]
    },
    {
     "name": "stdout",
     "output_type": "stream",
     "text": [
      "in process: 182/1000\r"
     ]
    },
    {
     "name": "stderr",
     "output_type": "stream",
     "text": [
      "0: 640x480 1 date, 1 number, 2 senders, 1 signer, 104.6ms\n",
      "Speed: 0.3ms preprocess, 104.6ms inference, 2.3ms postprocess per image at shape (1, 3, 640, 640)\n",
      "\n",
      "0: 256x640 1 handwrite, 12.9ms\n",
      "Speed: 0.2ms preprocess, 12.9ms inference, 0.3ms postprocess per image at shape (1, 3, 640, 640)\n",
      "\n",
      "0: 128x640 1 handwrite, 8.6ms\n",
      "Speed: 0.1ms preprocess, 8.6ms inference, 0.3ms postprocess per image at shape (1, 3, 640, 640)\n"
     ]
    },
    {
     "name": "stdout",
     "output_type": "stream",
     "text": [
      "in process: 183/1000\r"
     ]
    },
    {
     "name": "stderr",
     "output_type": "stream",
     "text": [
      "\n",
      "0: 640x480 1 date, 1 number, 1 sender, 1 signer, 109.0ms\n",
      "Speed: 0.3ms preprocess, 109.0ms inference, 0.7ms postprocess per image at shape (1, 3, 640, 640)\n",
      "\n",
      "0: 192x640 1 handwrite, 11.3ms\n",
      "Speed: 0.2ms preprocess, 11.3ms inference, 0.3ms postprocess per image at shape (1, 3, 640, 640)\n",
      "\n",
      "0: 128x640 1 handwrite, 13.2ms\n",
      "Speed: 0.2ms preprocess, 13.2ms inference, 0.6ms postprocess per image at shape (1, 3, 640, 640)\n"
     ]
    },
    {
     "name": "stdout",
     "output_type": "stream",
     "text": [
      "in process: 184/1000\r"
     ]
    },
    {
     "name": "stderr",
     "output_type": "stream",
     "text": [
      "\n",
      "0: 640x480 1 date, 1 number, 2 senders, 105.3ms\n",
      "Speed: 0.3ms preprocess, 105.3ms inference, 2.2ms postprocess per image at shape (1, 3, 640, 640)\n",
      "\n",
      "0: 160x640 1 typewritten, 14.8ms\n",
      "Speed: 0.2ms preprocess, 14.8ms inference, 0.6ms postprocess per image at shape (1, 3, 640, 640)\n",
      "\n",
      "0: 160x640 2 typewrittens, 12.0ms\n",
      "Speed: 0.2ms preprocess, 12.0ms inference, 0.4ms postprocess per image at shape (1, 3, 640, 640)\n",
      "\n",
      "0: 640x480 1 signer, 109.5ms\n",
      "Speed: 0.3ms preprocess, 109.5ms inference, 0.6ms postprocess per image at shape (1, 3, 640, 640)\n"
     ]
    },
    {
     "name": "stdout",
     "output_type": "stream",
     "text": [
      "in process: 185/1000\r"
     ]
    },
    {
     "name": "stderr",
     "output_type": "stream",
     "text": [
      "\n",
      "0: 480x640 1 sender, 106.2ms\n",
      "Speed: 0.3ms preprocess, 106.2ms inference, 2.7ms postprocess per image at shape (1, 3, 640, 640)\n",
      "\n",
      "0: 640x480 (no detections), 103.6ms\n",
      "Speed: 0.3ms preprocess, 103.6ms inference, 0.2ms postprocess per image at shape (1, 3, 640, 640)\n",
      "\n",
      "0: 640x480 1 sender, 3 signers, 106.5ms\n",
      "Speed: 0.3ms preprocess, 106.5ms inference, 0.3ms postprocess per image at shape (1, 3, 640, 640)\n"
     ]
    },
    {
     "name": "stdout",
     "output_type": "stream",
     "text": [
      "in process: 186/1000\r"
     ]
    },
    {
     "name": "stderr",
     "output_type": "stream",
     "text": [
      "\n",
      "0: 640x480 1 content, 1 date, 1 number, 1 sender, 1 signer, 103.8ms\n",
      "Speed: 0.3ms preprocess, 103.8ms inference, 0.4ms postprocess per image at shape (1, 3, 640, 640)\n",
      "\n",
      "0: 256x640 1 handwrite, 12.9ms\n",
      "Speed: 0.2ms preprocess, 12.9ms inference, 0.3ms postprocess per image at shape (1, 3, 640, 640)\n",
      "\n",
      "0: 128x640 1 handwrite, 8.5ms\n",
      "Speed: 0.1ms preprocess, 8.5ms inference, 0.3ms postprocess per image at shape (1, 3, 640, 640)\n"
     ]
    },
    {
     "name": "stdout",
     "output_type": "stream",
     "text": [
      "in process: 187/1000\r"
     ]
    },
    {
     "name": "stderr",
     "output_type": "stream",
     "text": [
      "\n",
      "0: 640x480 1 date, 1 number, 1 sender, 1 signer, 105.3ms\n",
      "Speed: 0.3ms preprocess, 105.3ms inference, 0.4ms postprocess per image at shape (1, 3, 640, 640)\n",
      "\n",
      "0: 128x640 1 handwrite, 12.3ms\n",
      "Speed: 0.2ms preprocess, 12.3ms inference, 0.6ms postprocess per image at shape (1, 3, 640, 640)\n",
      "\n",
      "0: 192x640 1 handwrite, 15.7ms\n",
      "Speed: 0.1ms preprocess, 15.7ms inference, 0.6ms postprocess per image at shape (1, 3, 640, 640)\n"
     ]
    },
    {
     "name": "stdout",
     "output_type": "stream",
     "text": [
      "in process: 188/1000\r"
     ]
    },
    {
     "name": "stderr",
     "output_type": "stream",
     "text": [
      "\n",
      "0: 640x480 1 date, 1 number, 1 sender, 105.1ms\n",
      "Speed: 0.3ms preprocess, 105.1ms inference, 0.3ms postprocess per image at shape (1, 3, 640, 640)\n",
      "\n",
      "0: 160x640 1 handwrite, 10.5ms\n",
      "Speed: 0.2ms preprocess, 10.5ms inference, 0.3ms postprocess per image at shape (1, 3, 640, 640)\n",
      "\n",
      "0: 192x640 1 typewritten, 12.8ms\n",
      "Speed: 0.1ms preprocess, 12.8ms inference, 0.6ms postprocess per image at shape (1, 3, 640, 640)\n",
      "\n",
      "0: 640x480 1 signer, 101.7ms\n",
      "Speed: 0.3ms preprocess, 101.7ms inference, 0.3ms postprocess per image at shape (1, 3, 640, 640)\n"
     ]
    },
    {
     "name": "stdout",
     "output_type": "stream",
     "text": [
      "in process: 189/1000\r"
     ]
    },
    {
     "name": "stderr",
     "output_type": "stream",
     "text": [
      "\n",
      "0: 640x480 (no detections), 103.6ms\n",
      "Speed: 0.3ms preprocess, 103.6ms inference, 1.8ms postprocess per image at shape (1, 3, 640, 640)\n",
      "\n",
      "0: 640x480 (no detections), 102.5ms\n",
      "Speed: 0.3ms preprocess, 102.5ms inference, 0.2ms postprocess per image at shape (1, 3, 640, 640)\n"
     ]
    },
    {
     "name": "stdout",
     "output_type": "stream",
     "text": [
      "in process: 190/1000\r"
     ]
    },
    {
     "name": "stderr",
     "output_type": "stream",
     "text": [
      "\n",
      "0: 640x480 1 date, 1 number, 1 sender, 1 signer, 104.4ms\n",
      "Speed: 0.3ms preprocess, 104.4ms inference, 1.7ms postprocess per image at shape (1, 3, 640, 640)\n",
      "\n",
      "0: 192x640 1 handwrite, 11.8ms\n",
      "Speed: 0.2ms preprocess, 11.8ms inference, 0.4ms postprocess per image at shape (1, 3, 640, 640)\n",
      "\n",
      "0: 128x640 1 handwrite, 9.2ms\n",
      "Speed: 0.1ms preprocess, 9.2ms inference, 0.3ms postprocess per image at shape (1, 3, 640, 640)\n"
     ]
    },
    {
     "name": "stdout",
     "output_type": "stream",
     "text": [
      "in process: 191/1000\r"
     ]
    },
    {
     "name": "stderr",
     "output_type": "stream",
     "text": [
      "\n",
      "0: 640x480 1 content, 1 date, 1 number, 2 senders, 1 signer, 104.2ms\n",
      "Speed: 0.3ms preprocess, 104.2ms inference, 0.4ms postprocess per image at shape (1, 3, 640, 640)\n",
      "\n",
      "0: 160x640 1 handwrite, 10.5ms\n",
      "Speed: 0.2ms preprocess, 10.5ms inference, 0.3ms postprocess per image at shape (1, 3, 640, 640)\n",
      "\n",
      "0: 192x640 1 typewritten, 11.6ms\n",
      "Speed: 0.1ms preprocess, 11.6ms inference, 0.3ms postprocess per image at shape (1, 3, 640, 640)\n",
      "\n"
     ]
    },
    {
     "name": "stdout",
     "output_type": "stream",
     "text": [
      "in process: 192/1000\r"
     ]
    },
    {
     "name": "stderr",
     "output_type": "stream",
     "text": [
      "0: 640x480 1 date, 1 number, 1 sender, 1 signer, 105.6ms\n",
      "Speed: 0.3ms preprocess, 105.6ms inference, 1.7ms postprocess per image at shape (1, 3, 640, 640)\n",
      "\n",
      "0: 192x640 1 handwrite, 11.1ms\n",
      "Speed: 0.1ms preprocess, 11.1ms inference, 0.3ms postprocess per image at shape (1, 3, 640, 640)\n",
      "\n",
      "0: 192x640 1 handwrite, 11.0ms\n",
      "Speed: 0.1ms preprocess, 11.0ms inference, 0.3ms postprocess per image at shape (1, 3, 640, 640)\n",
      "\n"
     ]
    },
    {
     "name": "stdout",
     "output_type": "stream",
     "text": [
      "in process: 193/1000\r"
     ]
    },
    {
     "name": "stderr",
     "output_type": "stream",
     "text": [
      "0: 640x480 1 sender, 1 signer, 105.7ms\n",
      "Speed: 0.3ms preprocess, 105.7ms inference, 0.3ms postprocess per image at shape (1, 3, 640, 640)\n"
     ]
    },
    {
     "name": "stdout",
     "output_type": "stream",
     "text": [
      "in process: 194/1000\r"
     ]
    },
    {
     "name": "stderr",
     "output_type": "stream",
     "text": [
      "\n",
      "0: 640x480 1 content, 1 date, 1 number, 2 senders, 1 signer, 105.2ms\n",
      "Speed: 0.3ms preprocess, 105.2ms inference, 0.4ms postprocess per image at shape (1, 3, 640, 640)\n",
      "\n",
      "0: 192x640 1 handwrite, 13.3ms\n",
      "Speed: 0.2ms preprocess, 13.3ms inference, 0.3ms postprocess per image at shape (1, 3, 640, 640)\n",
      "\n",
      "0: 224x640 2 handwrites, 16.7ms\n",
      "Speed: 0.2ms preprocess, 16.7ms inference, 0.6ms postprocess per image at shape (1, 3, 640, 640)\n",
      "\n",
      "0: 640x480 1 date, 1 number, 1 sender, 1 signer, 104.5ms\n",
      "Speed: 0.3ms preprocess, 104.5ms inference, 2.0ms postprocess per image at shape (1, 3, 640, 640)\n"
     ]
    },
    {
     "name": "stdout",
     "output_type": "stream",
     "text": [
      "in process: 195/1000\r"
     ]
    },
    {
     "name": "stderr",
     "output_type": "stream",
     "text": [
      "\n",
      "0: 192x640 1 handwrite, 1 typewritten, 11.4ms\n",
      "Speed: 0.2ms preprocess, 11.4ms inference, 0.3ms postprocess per image at shape (1, 3, 640, 640)\n",
      "\n",
      "0: 128x640 1 typewritten, 12.7ms\n",
      "Speed: 0.2ms preprocess, 12.7ms inference, 0.6ms postprocess per image at shape (1, 3, 640, 640)\n",
      "\n"
     ]
    },
    {
     "name": "stdout",
     "output_type": "stream",
     "text": [
      "in process: 196/1000\r"
     ]
    },
    {
     "name": "stderr",
     "output_type": "stream",
     "text": [
      "0: 640x480 1 date, 1 number, 1 sender, 1 signer, 105.3ms\n",
      "Speed: 0.3ms preprocess, 105.3ms inference, 0.4ms postprocess per image at shape (1, 3, 640, 640)\n",
      "\n",
      "0: 128x640 1 handwrite, 1 typewritten, 12.4ms\n",
      "Speed: 0.2ms preprocess, 12.4ms inference, 0.6ms postprocess per image at shape (1, 3, 640, 640)\n",
      "\n",
      "0: 192x640 1 typewritten, 15.7ms\n",
      "Speed: 0.2ms preprocess, 15.7ms inference, 0.6ms postprocess per image at shape (1, 3, 640, 640)\n",
      "\n"
     ]
    },
    {
     "name": "stdout",
     "output_type": "stream",
     "text": [
      "in process: 197/1000\r"
     ]
    },
    {
     "name": "stderr",
     "output_type": "stream",
     "text": [
      "0: 640x480 1 content, 1 date, 1 number, 1 sender, 105.2ms\n",
      "Speed: 0.3ms preprocess, 105.2ms inference, 2.0ms postprocess per image at shape (1, 3, 640, 640)\n",
      "\n",
      "0: 160x640 1 typewritten, 14.9ms\n",
      "Speed: 0.2ms preprocess, 14.9ms inference, 0.6ms postprocess per image at shape (1, 3, 640, 640)\n",
      "\n",
      "0: 96x640 1 handwrite, 1 typewritten, 12.0ms\n",
      "Speed: 0.2ms preprocess, 12.0ms inference, 0.6ms postprocess per image at shape (1, 3, 640, 640)\n",
      "\n",
      "0: 640x480 1 signer, 104.1ms\n",
      "Speed: 0.3ms preprocess, 104.1ms inference, 0.3ms postprocess per image at shape (1, 3, 640, 640)\n",
      "\n",
      "0: 640x480 1 signer, 104.4ms\n",
      "Speed: 0.3ms preprocess, 104.4ms inference, 1.9ms postprocess per image at shape (1, 3, 640, 640)\n"
     ]
    },
    {
     "name": "stdout",
     "output_type": "stream",
     "text": [
      "in process: 199/1000\r"
     ]
    },
    {
     "name": "stderr",
     "output_type": "stream",
     "text": [
      "\n",
      "0: 640x480 1 number, 2 senders, 104.6ms\n",
      "Speed: 0.3ms preprocess, 104.6ms inference, 0.3ms postprocess per image at shape (1, 3, 640, 640)\n",
      "\n",
      "0: 192x640 1 handwrite, 11.3ms\n",
      "Speed: 0.2ms preprocess, 11.3ms inference, 0.3ms postprocess per image at shape (1, 3, 640, 640)\n",
      "\n",
      "0: 640x480 (no detections), 104.6ms\n",
      "Speed: 0.3ms preprocess, 104.6ms inference, 0.2ms postprocess per image at shape (1, 3, 640, 640)\n",
      "\n",
      "0: 640x480 2 senders, 104.1ms\n",
      "Speed: 0.3ms preprocess, 104.1ms inference, 0.3ms postprocess per image at shape (1, 3, 640, 640)\n",
      "\n",
      "0: 640x480 (no detections), 104.9ms\n",
      "Speed: 0.3ms preprocess, 104.9ms inference, 0.2ms postprocess per image at shape (1, 3, 640, 640)\n"
     ]
    },
    {
     "name": "stdout",
     "output_type": "stream",
     "text": [
      "in process: 200/1000\r"
     ]
    },
    {
     "name": "stderr",
     "output_type": "stream",
     "text": [
      "\n",
      "0: 640x480 1 content, 1 date, 1 number, 1 sender, 1 signer, 102.5ms\n",
      "Speed: 0.3ms preprocess, 102.5ms inference, 1.5ms postprocess per image at shape (1, 3, 640, 640)\n",
      "\n",
      "0: 160x640 1 handwrite, 10.5ms\n",
      "Speed: 0.2ms preprocess, 10.5ms inference, 0.3ms postprocess per image at shape (1, 3, 640, 640)\n",
      "\n",
      "0: 224x640 1 handwrite, 16.0ms\n",
      "Speed: 0.1ms preprocess, 16.0ms inference, 0.6ms postprocess per image at shape (1, 3, 640, 640)\n",
      "\n"
     ]
    },
    {
     "name": "stdout",
     "output_type": "stream",
     "text": [
      "in process: 201/1000\r"
     ]
    },
    {
     "name": "stderr",
     "output_type": "stream",
     "text": [
      "0: 640x480 1 date, 2 senders, 1 signer, 104.5ms\n",
      "Speed: 0.3ms preprocess, 104.5ms inference, 0.3ms postprocess per image at shape (1, 3, 640, 640)\n",
      "\n",
      "0: 96x640 2 handwrites, 11.3ms\n",
      "Speed: 0.1ms preprocess, 11.3ms inference, 0.6ms postprocess per image at shape (1, 3, 640, 640)\n"
     ]
    },
    {
     "name": "stdout",
     "output_type": "stream",
     "text": [
      "in process: 202/1000\r"
     ]
    },
    {
     "name": "stderr",
     "output_type": "stream",
     "text": [
      "\n",
      "0: 640x480 1 date, 1 number, 1 sender, 1 signer, 102.6ms\n",
      "Speed: 0.3ms preprocess, 102.6ms inference, 0.4ms postprocess per image at shape (1, 3, 640, 640)\n",
      "\n",
      "0: 160x640 1 handwrite, 10.3ms\n",
      "Speed: 0.1ms preprocess, 10.3ms inference, 0.3ms postprocess per image at shape (1, 3, 640, 640)\n",
      "\n",
      "0: 160x640 1 typewritten, 10.3ms\n",
      "Speed: 0.2ms preprocess, 10.3ms inference, 0.3ms postprocess per image at shape (1, 3, 640, 640)\n",
      "\n"
     ]
    },
    {
     "name": "stdout",
     "output_type": "stream",
     "text": [
      "in process: 203/1000\r"
     ]
    },
    {
     "name": "stderr",
     "output_type": "stream",
     "text": [
      "0: 640x480 1 date, 1 number, 1 sender, 104.8ms\n",
      "Speed: 0.3ms preprocess, 104.8ms inference, 2.1ms postprocess per image at shape (1, 3, 640, 640)\n",
      "\n",
      "0: 160x640 1 typewritten, 10.3ms\n",
      "Speed: 0.2ms preprocess, 10.3ms inference, 0.3ms postprocess per image at shape (1, 3, 640, 640)\n",
      "\n",
      "0: 224x640 1 typewritten, 12.4ms\n",
      "Speed: 0.2ms preprocess, 12.4ms inference, 0.3ms postprocess per image at shape (1, 3, 640, 640)\n",
      "\n"
     ]
    },
    {
     "name": "stdout",
     "output_type": "stream",
     "text": [
      "in process: 204/1000\r"
     ]
    },
    {
     "name": "stderr",
     "output_type": "stream",
     "text": [
      "0: 640x480 1 date, 1 number, 2 senders, 1 signer, 103.5ms\n",
      "Speed: 0.3ms preprocess, 103.5ms inference, 0.3ms postprocess per image at shape (1, 3, 640, 640)\n",
      "\n",
      "0: 160x640 1 handwrite, 10.3ms\n",
      "Speed: 0.1ms preprocess, 10.3ms inference, 0.3ms postprocess per image at shape (1, 3, 640, 640)\n",
      "\n",
      "0: 160x640 1 handwrite, 10.1ms\n",
      "Speed: 0.1ms preprocess, 10.1ms inference, 0.3ms postprocess per image at shape (1, 3, 640, 640)\n",
      "\n"
     ]
    },
    {
     "name": "stdout",
     "output_type": "stream",
     "text": [
      "in process: 205/1000\r"
     ]
    },
    {
     "name": "stderr",
     "output_type": "stream",
     "text": [
      "0: 640x480 1 sender, 1 signer, 105.0ms\n",
      "Speed: 0.3ms preprocess, 105.0ms inference, 0.3ms postprocess per image at shape (1, 3, 640, 640)\n"
     ]
    },
    {
     "name": "stdout",
     "output_type": "stream",
     "text": [
      "in process: 206/1000\r"
     ]
    },
    {
     "name": "stderr",
     "output_type": "stream",
     "text": [
      "\n",
      "0: 640x480 1 date, 1 number, 2 signers, 104.8ms\n",
      "Speed: 0.3ms preprocess, 104.8ms inference, 2.1ms postprocess per image at shape (1, 3, 640, 640)\n",
      "\n",
      "0: 160x640 1 handwrite, 13.0ms\n",
      "Speed: 0.2ms preprocess, 13.0ms inference, 0.6ms postprocess per image at shape (1, 3, 640, 640)\n",
      "\n",
      "0: 192x640 1 handwrite, 15.7ms\n",
      "Speed: 0.1ms preprocess, 15.7ms inference, 0.6ms postprocess per image at shape (1, 3, 640, 640)\n",
      "\n"
     ]
    },
    {
     "name": "stdout",
     "output_type": "stream",
     "text": [
      "in process: 207/1000\r"
     ]
    },
    {
     "name": "stderr",
     "output_type": "stream",
     "text": [
      "0: 640x480 1 content, 1 date, 1 number, 1 sender, 1 signer, 104.7ms\n",
      "Speed: 0.3ms preprocess, 104.7ms inference, 0.4ms postprocess per image at shape (1, 3, 640, 640)\n",
      "\n",
      "0: 160x640 1 handwrite, 10.4ms\n",
      "Speed: 0.1ms preprocess, 10.4ms inference, 0.3ms postprocess per image at shape (1, 3, 640, 640)\n",
      "\n",
      "0: 160x640 1 handwrite, 10.7ms\n",
      "Speed: 0.5ms preprocess, 10.7ms inference, 0.3ms postprocess per image at shape (1, 3, 640, 640)\n"
     ]
    },
    {
     "name": "stdout",
     "output_type": "stream",
     "text": [
      "in process: 208/1000\r"
     ]
    },
    {
     "name": "stderr",
     "output_type": "stream",
     "text": [
      "\n",
      "0: 640x480 1 content, 1 date, 1 number, 2 senders, 1 signer, 105.0ms\n",
      "Speed: 0.3ms preprocess, 105.0ms inference, 1.7ms postprocess per image at shape (1, 3, 640, 640)\n",
      "\n",
      "0: 128x640 1 handwrite, 8.8ms\n",
      "Speed: 0.2ms preprocess, 8.8ms inference, 0.3ms postprocess per image at shape (1, 3, 640, 640)\n",
      "\n",
      "0: 224x640 1 typewritten, 12.3ms\n",
      "Speed: 0.1ms preprocess, 12.3ms inference, 0.3ms postprocess per image at shape (1, 3, 640, 640)\n"
     ]
    },
    {
     "name": "stdout",
     "output_type": "stream",
     "text": [
      "in process: 209/1000\r"
     ]
    },
    {
     "name": "stderr",
     "output_type": "stream",
     "text": [
      "\n",
      "0: 640x480 1 sender, 104.6ms\n",
      "Speed: 0.3ms preprocess, 104.6ms inference, 0.3ms postprocess per image at shape (1, 3, 640, 640)\n",
      "\n",
      "0: 640x480 2 senders, 104.9ms\n",
      "Speed: 0.3ms preprocess, 104.9ms inference, 0.3ms postprocess per image at shape (1, 3, 640, 640)\n",
      "\n",
      "0: 640x480 1 sender, 102.4ms\n",
      "Speed: 0.3ms preprocess, 102.4ms inference, 0.3ms postprocess per image at shape (1, 3, 640, 640)\n",
      "\n",
      "0: 640x480 (no detections), 104.5ms\n",
      "Speed: 0.3ms preprocess, 104.5ms inference, 0.2ms postprocess per image at shape (1, 3, 640, 640)\n",
      "\n",
      "0: 640x480 (no detections), 104.8ms\n",
      "Speed: 0.3ms preprocess, 104.8ms inference, 0.2ms postprocess per image at shape (1, 3, 640, 640)\n",
      "\n",
      "0: 640x480 1 sender, 104.7ms\n",
      "Speed: 0.3ms preprocess, 104.7ms inference, 0.3ms postprocess per image at shape (1, 3, 640, 640)\n",
      "\n",
      "0: 640x480 (no detections), 104.4ms\n",
      "Speed: 0.3ms preprocess, 104.4ms inference, 0.2ms postprocess per image at shape (1, 3, 640, 640)\n",
      "\n",
      "0: 640x480 (no detections), 104.2ms\n",
      "Speed: 0.3ms preprocess, 104.2ms inference, 0.2ms postprocess per image at shape (1, 3, 640, 640)\n",
      "\n",
      "0: 640x480 (no detections), 104.9ms\n",
      "Speed: 0.3ms preprocess, 104.9ms inference, 0.2ms postprocess per image at shape (1, 3, 640, 640)\n",
      "\n",
      "0: 640x480 (no detections), 105.0ms\n",
      "Speed: 0.3ms preprocess, 105.0ms inference, 0.2ms postprocess per image at shape (1, 3, 640, 640)\n",
      "\n"
     ]
    },
    {
     "name": "stdout",
     "output_type": "stream",
     "text": [
      "in process: 210/1000\r"
     ]
    },
    {
     "name": "stderr",
     "output_type": "stream",
     "text": [
      "0: 640x480 1 content, 1 date, 1 number, 1 sender, 1 signer, 102.8ms\n",
      "Speed: 0.3ms preprocess, 102.8ms inference, 0.4ms postprocess per image at shape (1, 3, 640, 640)\n",
      "\n",
      "0: 160x640 1 handwrite, 10.4ms\n",
      "Speed: 0.2ms preprocess, 10.4ms inference, 0.3ms postprocess per image at shape (1, 3, 640, 640)\n",
      "\n",
      "0: 160x640 1 handwrite, 10.3ms\n",
      "Speed: 0.1ms preprocess, 10.3ms inference, 0.3ms postprocess per image at shape (1, 3, 640, 640)\n",
      "\n"
     ]
    },
    {
     "name": "stdout",
     "output_type": "stream",
     "text": [
      "in process: 211/1000\r"
     ]
    },
    {
     "name": "stderr",
     "output_type": "stream",
     "text": [
      "0: 640x480 1 content, 1 sender, 111.2ms\n",
      "Speed: 0.3ms preprocess, 111.2ms inference, 0.7ms postprocess per image at shape (1, 3, 640, 640)\n",
      "\n",
      "0: 640x480 1 signer, 104.4ms\n",
      "Speed: 0.3ms preprocess, 104.4ms inference, 0.3ms postprocess per image at shape (1, 3, 640, 640)\n"
     ]
    },
    {
     "name": "stdout",
     "output_type": "stream",
     "text": [
      "in process: 212/1000\r"
     ]
    },
    {
     "name": "stderr",
     "output_type": "stream",
     "text": [
      "\n",
      "0: 640x480 1 date, 1 number, 1 sender, 105.2ms\n",
      "Speed: 0.3ms preprocess, 105.2ms inference, 0.3ms postprocess per image at shape (1, 3, 640, 640)\n",
      "\n",
      "0: 128x640 1 handwrite, 8.8ms\n",
      "Speed: 0.2ms preprocess, 8.8ms inference, 0.3ms postprocess per image at shape (1, 3, 640, 640)\n",
      "\n",
      "0: 224x640 1 typewritten, 12.2ms\n",
      "Speed: 0.1ms preprocess, 12.2ms inference, 0.3ms postprocess per image at shape (1, 3, 640, 640)\n",
      "\n",
      "0: 640x480 1 signer, 105.6ms\n",
      "Speed: 0.3ms preprocess, 105.6ms inference, 0.3ms postprocess per image at shape (1, 3, 640, 640)\n",
      "\n"
     ]
    },
    {
     "name": "stdout",
     "output_type": "stream",
     "text": [
      "in process: 213/1000\r"
     ]
    },
    {
     "name": "stderr",
     "output_type": "stream",
     "text": [
      "0: 640x480 1 content, 1 date, 2 senders, 1 signer, 105.8ms\n",
      "Speed: 0.3ms preprocess, 105.8ms inference, 3.2ms postprocess per image at shape (1, 3, 640, 640)\n",
      "\n",
      "0: 160x640 1 handwrite, 10.7ms\n",
      "Speed: 0.2ms preprocess, 10.7ms inference, 0.3ms postprocess per image at shape (1, 3, 640, 640)\n"
     ]
    },
    {
     "name": "stdout",
     "output_type": "stream",
     "text": [
      "in process: 214/1000\r"
     ]
    },
    {
     "name": "stderr",
     "output_type": "stream",
     "text": [
      "\n",
      "0: 640x480 1 date, 1 number, 1 sender, 104.5ms\n",
      "Speed: 0.3ms preprocess, 104.5ms inference, 0.3ms postprocess per image at shape (1, 3, 640, 640)\n",
      "\n",
      "0: 256x640 1 handwrite, 13.0ms\n",
      "Speed: 0.1ms preprocess, 13.0ms inference, 0.3ms postprocess per image at shape (1, 3, 640, 640)\n",
      "\n",
      "0: 128x640 1 handwrite, 8.6ms\n",
      "Speed: 0.1ms preprocess, 8.6ms inference, 0.3ms postprocess per image at shape (1, 3, 640, 640)\n",
      "\n",
      "0: 640x480 1 signer, 102.7ms\n",
      "Speed: 0.3ms preprocess, 102.7ms inference, 0.3ms postprocess per image at shape (1, 3, 640, 640)\n"
     ]
    },
    {
     "name": "stdout",
     "output_type": "stream",
     "text": [
      "in process: 215/1000\r"
     ]
    },
    {
     "name": "stderr",
     "output_type": "stream",
     "text": [
      "\n",
      "0: 640x480 1 content, 1 date, 1 number, 1 sender, 1 signer, 104.8ms\n",
      "Speed: 0.3ms preprocess, 104.8ms inference, 0.3ms postprocess per image at shape (1, 3, 640, 640)\n",
      "\n",
      "0: 128x640 1 handwrite, 8.7ms\n",
      "Speed: 0.2ms preprocess, 8.7ms inference, 0.3ms postprocess per image at shape (1, 3, 640, 640)\n",
      "\n",
      "0: 160x640 1 handwrite, 10.4ms\n",
      "Speed: 0.1ms preprocess, 10.4ms inference, 0.3ms postprocess per image at shape (1, 3, 640, 640)\n"
     ]
    },
    {
     "name": "stdout",
     "output_type": "stream",
     "text": [
      "in process: 216/1000\r"
     ]
    },
    {
     "name": "stderr",
     "output_type": "stream",
     "text": [
      "\n",
      "0: 640x480 1 number, 1 sender, 1 signer, 105.1ms\n",
      "Speed: 0.3ms preprocess, 105.1ms inference, 1.6ms postprocess per image at shape (1, 3, 640, 640)\n",
      "\n",
      "0: 160x640 1 handwrite, 10.5ms\n",
      "Speed: 0.2ms preprocess, 10.5ms inference, 0.3ms postprocess per image at shape (1, 3, 640, 640)\n"
     ]
    },
    {
     "name": "stdout",
     "output_type": "stream",
     "text": [
      "in process: 217/1000\r"
     ]
    },
    {
     "name": "stderr",
     "output_type": "stream",
     "text": [
      "\n",
      "0: 640x480 1 signer, 105.2ms\n",
      "Speed: 0.3ms preprocess, 105.2ms inference, 0.3ms postprocess per image at shape (1, 3, 640, 640)\n"
     ]
    },
    {
     "name": "stdout",
     "output_type": "stream",
     "text": [
      "in process: 218/1000\r"
     ]
    },
    {
     "name": "stderr",
     "output_type": "stream",
     "text": [
      "\n",
      "0: 640x480 1 date, 1 number, 2 senders, 1 signer, 102.8ms\n",
      "Speed: 0.3ms preprocess, 102.8ms inference, 0.3ms postprocess per image at shape (1, 3, 640, 640)\n",
      "\n",
      "0: 160x640 1 handwrite, 1 typewritten, 10.2ms\n",
      "Speed: 0.1ms preprocess, 10.2ms inference, 0.3ms postprocess per image at shape (1, 3, 640, 640)\n",
      "\n",
      "0: 192x640 1 handwrite, 11.1ms\n",
      "Speed: 0.2ms preprocess, 11.1ms inference, 0.3ms postprocess per image at shape (1, 3, 640, 640)\n"
     ]
    },
    {
     "name": "stdout",
     "output_type": "stream",
     "text": [
      "in process: 219/1000\r"
     ]
    },
    {
     "name": "stderr",
     "output_type": "stream",
     "text": [
      "\n",
      "0: 640x480 1 content, 1 date, 1 number, 2 senders, 103.3ms\n",
      "Speed: 0.3ms preprocess, 103.3ms inference, 2.1ms postprocess per image at shape (1, 3, 640, 640)\n",
      "\n",
      "0: 160x640 2 handwrites, 10.6ms\n",
      "Speed: 0.2ms preprocess, 10.6ms inference, 0.3ms postprocess per image at shape (1, 3, 640, 640)\n",
      "\n",
      "0: 160x640 1 handwrite, 10.4ms\n",
      "Speed: 0.1ms preprocess, 10.4ms inference, 0.3ms postprocess per image at shape (1, 3, 640, 640)\n",
      "\n",
      "0: 640x480 1 signer, 105.9ms\n",
      "Speed: 0.3ms preprocess, 105.9ms inference, 0.3ms postprocess per image at shape (1, 3, 640, 640)\n"
     ]
    },
    {
     "name": "stdout",
     "output_type": "stream",
     "text": [
      "in process: 220/1000\r"
     ]
    },
    {
     "name": "stderr",
     "output_type": "stream",
     "text": [
      "\n",
      "0: 640x480 1 content, 1 date, 1 number, 1 sender, 102.5ms\n",
      "Speed: 0.3ms preprocess, 102.5ms inference, 2.3ms postprocess per image at shape (1, 3, 640, 640)\n",
      "\n",
      "0: 160x640 1 handwrite, 10.4ms\n",
      "Speed: 0.2ms preprocess, 10.4ms inference, 0.3ms postprocess per image at shape (1, 3, 640, 640)\n",
      "\n",
      "0: 192x640 1 typewritten, 11.3ms\n",
      "Speed: 0.2ms preprocess, 11.3ms inference, 0.3ms postprocess per image at shape (1, 3, 640, 640)\n",
      "\n",
      "0: 640x480 1 signer, 105.5ms\n",
      "Speed: 0.3ms preprocess, 105.5ms inference, 0.3ms postprocess per image at shape (1, 3, 640, 640)\n"
     ]
    },
    {
     "name": "stdout",
     "output_type": "stream",
     "text": [
      "in process: 221/1000\r"
     ]
    },
    {
     "name": "stderr",
     "output_type": "stream",
     "text": [
      "\n",
      "0: 640x480 1 content, 2 senders, 1 signer, 102.3ms\n",
      "Speed: 0.3ms preprocess, 102.3ms inference, 2.2ms postprocess per image at shape (1, 3, 640, 640)\n"
     ]
    },
    {
     "name": "stdout",
     "output_type": "stream",
     "text": [
      "in process: 222/1000\r"
     ]
    },
    {
     "name": "stderr",
     "output_type": "stream",
     "text": [
      "\n",
      "0: 640x480 1 date, 1 number, 2 senders, 1 signer, 105.2ms\n",
      "Speed: 0.3ms preprocess, 105.2ms inference, 0.3ms postprocess per image at shape (1, 3, 640, 640)\n",
      "\n",
      "0: 160x640 1 typewritten, 10.5ms\n",
      "Speed: 0.2ms preprocess, 10.5ms inference, 0.3ms postprocess per image at shape (1, 3, 640, 640)\n",
      "\n",
      "0: 192x640 1 handwrite, 1 typewritten, 11.2ms\n",
      "Speed: 0.2ms preprocess, 11.2ms inference, 0.3ms postprocess per image at shape (1, 3, 640, 640)\n",
      "\n"
     ]
    },
    {
     "name": "stdout",
     "output_type": "stream",
     "text": [
      "in process: 223/1000\r"
     ]
    },
    {
     "name": "stderr",
     "output_type": "stream",
     "text": [
      "0: 640x480 1 signer, 105.2ms\n",
      "Speed: 0.3ms preprocess, 105.2ms inference, 2.0ms postprocess per image at shape (1, 3, 640, 640)\n",
      "\n"
     ]
    },
    {
     "name": "stdout",
     "output_type": "stream",
     "text": [
      "in process: 224/1000\r"
     ]
    },
    {
     "name": "stderr",
     "output_type": "stream",
     "text": [
      "0: 640x480 3 numbers, 1 sender, 1 signer, 105.1ms\n",
      "Speed: 0.3ms preprocess, 105.1ms inference, 0.3ms postprocess per image at shape (1, 3, 640, 640)\n",
      "\n",
      "0: 288x640 1 handwrite, 30.7ms\n",
      "Speed: 0.2ms preprocess, 30.7ms inference, 0.8ms postprocess per image at shape (1, 3, 640, 640)\n",
      "\n",
      "0: 384x640 2 handwrites, 28.0ms\n",
      "Speed: 0.1ms preprocess, 28.0ms inference, 0.7ms postprocess per image at shape (1, 3, 640, 640)\n",
      "\n",
      "0: 224x640 1 handwrite, 16.1ms\n",
      "Speed: 0.1ms preprocess, 16.1ms inference, 0.6ms postprocess per image at shape (1, 3, 640, 640)\n",
      "\n"
     ]
    },
    {
     "name": "stdout",
     "output_type": "stream",
     "text": [
      "in process: 225/1000\r"
     ]
    },
    {
     "name": "stderr",
     "output_type": "stream",
     "text": [
      "0: 640x480 1 date, 1 number, 2 senders, 1 signer, 104.7ms\n",
      "Speed: 0.3ms preprocess, 104.7ms inference, 1.9ms postprocess per image at shape (1, 3, 640, 640)\n",
      "\n",
      "0: 192x640 1 handwrite, 11.1ms\n",
      "Speed: 0.2ms preprocess, 11.1ms inference, 0.3ms postprocess per image at shape (1, 3, 640, 640)\n",
      "\n",
      "0: 224x640 1 handwrite, 19.3ms\n",
      "Speed: 0.2ms preprocess, 19.3ms inference, 0.7ms postprocess per image at shape (1, 3, 640, 640)\n"
     ]
    },
    {
     "name": "stdout",
     "output_type": "stream",
     "text": [
      "in process: 226/1000\r"
     ]
    },
    {
     "name": "stderr",
     "output_type": "stream",
     "text": [
      "\n",
      "0: 640x480 1 date, 1 number, 1 sender, 1 signer, 105.1ms\n",
      "Speed: 0.3ms preprocess, 105.1ms inference, 0.4ms postprocess per image at shape (1, 3, 640, 640)\n",
      "\n",
      "0: 160x640 1 handwrite, 10.5ms\n",
      "Speed: 0.2ms preprocess, 10.5ms inference, 0.3ms postprocess per image at shape (1, 3, 640, 640)\n",
      "\n",
      "0: 160x640 1 handwrite, 10.3ms\n",
      "Speed: 0.1ms preprocess, 10.3ms inference, 0.3ms postprocess per image at shape (1, 3, 640, 640)\n"
     ]
    },
    {
     "name": "stdout",
     "output_type": "stream",
     "text": [
      "in process: 227/1000\r"
     ]
    },
    {
     "name": "stderr",
     "output_type": "stream",
     "text": [
      "\n",
      "0: 640x480 1 date, 1 number, 1 sender, 1 signer, 102.0ms\n",
      "Speed: 0.3ms preprocess, 102.0ms inference, 1.8ms postprocess per image at shape (1, 3, 640, 640)\n",
      "\n",
      "0: 160x640 1 handwrite, 10.5ms\n",
      "Speed: 0.1ms preprocess, 10.5ms inference, 0.3ms postprocess per image at shape (1, 3, 640, 640)\n",
      "\n",
      "0: 192x640 1 handwrite, 11.1ms\n",
      "Speed: 0.2ms preprocess, 11.1ms inference, 0.3ms postprocess per image at shape (1, 3, 640, 640)\n"
     ]
    },
    {
     "name": "stdout",
     "output_type": "stream",
     "text": [
      "in process: 228/1000\r"
     ]
    },
    {
     "name": "stderr",
     "output_type": "stream",
     "text": [
      "\n",
      "0: 640x480 1 content, 1 date, 1 number, 1 sender, 106.2ms\n",
      "Speed: 0.3ms preprocess, 106.2ms inference, 0.3ms postprocess per image at shape (1, 3, 640, 640)\n",
      "\n",
      "0: 224x640 1 typewritten, 12.1ms\n",
      "Speed: 0.1ms preprocess, 12.1ms inference, 0.3ms postprocess per image at shape (1, 3, 640, 640)\n",
      "\n",
      "0: 160x640 1 handwrite, 14.8ms\n",
      "Speed: 0.2ms preprocess, 14.8ms inference, 0.6ms postprocess per image at shape (1, 3, 640, 640)\n",
      "\n",
      "0: 640x480 1 signer, 102.6ms\n",
      "Speed: 0.3ms preprocess, 102.6ms inference, 0.3ms postprocess per image at shape (1, 3, 640, 640)\n"
     ]
    },
    {
     "name": "stdout",
     "output_type": "stream",
     "text": [
      "in process: 229/1000\r"
     ]
    },
    {
     "name": "stderr",
     "output_type": "stream",
     "text": [
      "\n",
      "0: 640x480 1 date, 1 number, 1 sender, 1 signer, 102.6ms\n",
      "Speed: 0.3ms preprocess, 102.6ms inference, 2.7ms postprocess per image at shape (1, 3, 640, 640)\n",
      "\n",
      "0: 128x640 1 handwrite, 8.7ms\n",
      "Speed: 0.2ms preprocess, 8.7ms inference, 0.3ms postprocess per image at shape (1, 3, 640, 640)\n",
      "\n",
      "0: 224x640 1 typewritten, 12.1ms\n",
      "Speed: 0.1ms preprocess, 12.1ms inference, 0.3ms postprocess per image at shape (1, 3, 640, 640)\n"
     ]
    },
    {
     "name": "stdout",
     "output_type": "stream",
     "text": [
      "in process: 230/1000\r"
     ]
    },
    {
     "name": "stderr",
     "output_type": "stream",
     "text": [
      "\n",
      "0: 640x480 1 date, 1 number, 2 senders, 1 signer, 105.2ms\n",
      "Speed: 0.3ms preprocess, 105.2ms inference, 0.4ms postprocess per image at shape (1, 3, 640, 640)\n",
      "\n",
      "0: 160x640 1 handwrite, 14.8ms\n",
      "Speed: 0.2ms preprocess, 14.8ms inference, 0.6ms postprocess per image at shape (1, 3, 640, 640)\n",
      "\n",
      "0: 128x640 2 handwrites, 12.5ms\n",
      "Speed: 0.1ms preprocess, 12.5ms inference, 0.6ms postprocess per image at shape (1, 3, 640, 640)\n",
      "\n"
     ]
    },
    {
     "name": "stdout",
     "output_type": "stream",
     "text": [
      "in process: 231/1000\r"
     ]
    },
    {
     "name": "stderr",
     "output_type": "stream",
     "text": [
      "0: 640x480 1 signer, 105.5ms\n",
      "Speed: 0.3ms preprocess, 105.5ms inference, 1.9ms postprocess per image at shape (1, 3, 640, 640)\n"
     ]
    },
    {
     "name": "stdout",
     "output_type": "stream",
     "text": [
      "in process: 232/1000\r"
     ]
    },
    {
     "name": "stderr",
     "output_type": "stream",
     "text": [
      "\n",
      "0: 640x480 1 date, 1 number, 1 sender, 1 signer, 104.7ms\n",
      "Speed: 0.3ms preprocess, 104.7ms inference, 0.3ms postprocess per image at shape (1, 3, 640, 640)\n",
      "\n",
      "0: 160x640 1 handwrite, 14.8ms\n",
      "Speed: 0.2ms preprocess, 14.8ms inference, 0.6ms postprocess per image at shape (1, 3, 640, 640)\n",
      "\n",
      "0: 160x640 1 handwrite, 14.4ms\n",
      "Speed: 0.1ms preprocess, 14.4ms inference, 0.6ms postprocess per image at shape (1, 3, 640, 640)\n"
     ]
    },
    {
     "name": "stdout",
     "output_type": "stream",
     "text": [
      "in process: 233/1000\r"
     ]
    },
    {
     "name": "stderr",
     "output_type": "stream",
     "text": [
      "\n",
      "0: 640x480 2 contents, 1 date, 1 number, 1 sender, 104.9ms\n",
      "Speed: 0.3ms preprocess, 104.9ms inference, 1.9ms postprocess per image at shape (1, 3, 640, 640)\n",
      "\n",
      "0: 192x640 1 handwrite, 11.2ms\n",
      "Speed: 0.1ms preprocess, 11.2ms inference, 0.3ms postprocess per image at shape (1, 3, 640, 640)\n",
      "\n",
      "0: 192x640 1 handwrite, 10.9ms\n",
      "Speed: 0.1ms preprocess, 10.9ms inference, 0.3ms postprocess per image at shape (1, 3, 640, 640)\n",
      "\n",
      "0: 640x480 1 signer, 104.6ms\n",
      "Speed: 0.3ms preprocess, 104.6ms inference, 0.3ms postprocess per image at shape (1, 3, 640, 640)\n"
     ]
    },
    {
     "name": "stdout",
     "output_type": "stream",
     "text": [
      "in process: 234/1000\r"
     ]
    },
    {
     "name": "stderr",
     "output_type": "stream",
     "text": [
      "\n",
      "0: 640x480 1 content, 1 date, 1 number, 1 sender, 1 signer, 107.1ms\n",
      "Speed: 0.3ms preprocess, 107.1ms inference, 1.5ms postprocess per image at shape (1, 3, 640, 640)\n",
      "\n",
      "0: 128x640 1 handwrite, 8.8ms\n",
      "Speed: 0.2ms preprocess, 8.8ms inference, 0.3ms postprocess per image at shape (1, 3, 640, 640)\n",
      "\n",
      "0: 192x640 1 typewritten, 12.1ms\n",
      "Speed: 0.2ms preprocess, 12.1ms inference, 0.4ms postprocess per image at shape (1, 3, 640, 640)\n",
      "\n"
     ]
    },
    {
     "name": "stdout",
     "output_type": "stream",
     "text": [
      "in process: 235/1000\r"
     ]
    },
    {
     "name": "stderr",
     "output_type": "stream",
     "text": [
      "0: 640x480 2 senders, 102.0ms\n",
      "Speed: 0.3ms preprocess, 102.0ms inference, 0.3ms postprocess per image at shape (1, 3, 640, 640)\n"
     ]
    },
    {
     "name": "stdout",
     "output_type": "stream",
     "text": [
      "in process: 236/1000\r"
     ]
    },
    {
     "name": "stderr",
     "output_type": "stream",
     "text": [
      "\n",
      "0: 640x480 1 date, 1 number, 1 sender, 1 signer, 105.0ms\n",
      "Speed: 0.3ms preprocess, 105.0ms inference, 1.7ms postprocess per image at shape (1, 3, 640, 640)\n",
      "\n",
      "0: 128x640 1 handwrite, 12.6ms\n",
      "Speed: 0.2ms preprocess, 12.6ms inference, 0.6ms postprocess per image at shape (1, 3, 640, 640)\n",
      "\n",
      "0: 128x640 1 handwrite, 13.4ms\n",
      "Speed: 0.2ms preprocess, 13.4ms inference, 0.4ms postprocess per image at shape (1, 3, 640, 640)\n"
     ]
    },
    {
     "name": "stdout",
     "output_type": "stream",
     "text": [
      "in process: 237/1000\r"
     ]
    },
    {
     "name": "stderr",
     "output_type": "stream",
     "text": [
      "\n",
      "0: 640x480 1 date, 1 number, 1 sender, 102.8ms\n",
      "Speed: 0.3ms preprocess, 102.8ms inference, 0.3ms postprocess per image at shape (1, 3, 640, 640)\n",
      "\n",
      "0: 160x640 1 handwrite, 10.6ms\n",
      "Speed: 0.2ms preprocess, 10.6ms inference, 0.3ms postprocess per image at shape (1, 3, 640, 640)\n",
      "\n",
      "0: 160x640 1 handwrite, 10.2ms\n",
      "Speed: 0.1ms preprocess, 10.2ms inference, 0.3ms postprocess per image at shape (1, 3, 640, 640)\n",
      "\n",
      "0: 640x480 (no detections), 105.3ms\n",
      "Speed: 0.3ms preprocess, 105.3ms inference, 0.2ms postprocess per image at shape (1, 3, 640, 640)\n",
      "\n",
      "0: 640x480 2 signers, 103.2ms\n",
      "Speed: 0.3ms preprocess, 103.2ms inference, 0.3ms postprocess per image at shape (1, 3, 640, 640)\n"
     ]
    },
    {
     "name": "stdout",
     "output_type": "stream",
     "text": [
      "in process: 238/1000\r"
     ]
    },
    {
     "name": "stderr",
     "output_type": "stream",
     "text": [
      "\n",
      "0: 640x480 1 content, 1 date, 1 number, 2 senders, 1 signer, 103.0ms\n",
      "Speed: 0.3ms preprocess, 103.0ms inference, 1.5ms postprocess per image at shape (1, 3, 640, 640)\n",
      "\n",
      "0: 128x640 1 handwrite, 8.9ms\n",
      "Speed: 0.2ms preprocess, 8.9ms inference, 0.3ms postprocess per image at shape (1, 3, 640, 640)\n",
      "\n",
      "0: 192x640 1 handwrite, 11.3ms\n",
      "Speed: 0.1ms preprocess, 11.3ms inference, 0.3ms postprocess per image at shape (1, 3, 640, 640)\n",
      "\n"
     ]
    },
    {
     "name": "stdout",
     "output_type": "stream",
     "text": [
      "in process: 239/1000\r"
     ]
    },
    {
     "name": "stderr",
     "output_type": "stream",
     "text": [
      "0: 640x480 1 date, 1 number, 1 sender, 1 signer, 106.3ms\n",
      "Speed: 0.3ms preprocess, 106.3ms inference, 0.4ms postprocess per image at shape (1, 3, 640, 640)\n",
      "\n",
      "0: 160x640 1 handwrite, 14.8ms\n",
      "Speed: 0.2ms preprocess, 14.8ms inference, 0.6ms postprocess per image at shape (1, 3, 640, 640)\n",
      "\n",
      "0: 192x640 1 handwrite, 15.8ms\n",
      "Speed: 0.2ms preprocess, 15.8ms inference, 0.6ms postprocess per image at shape (1, 3, 640, 640)\n"
     ]
    },
    {
     "name": "stdout",
     "output_type": "stream",
     "text": [
      "in process: 240/1000\r"
     ]
    },
    {
     "name": "stderr",
     "output_type": "stream",
     "text": [
      "\n",
      "0: 640x480 1 date, 1 number, 2 senders, 104.8ms\n",
      "Speed: 0.3ms preprocess, 104.8ms inference, 0.3ms postprocess per image at shape (1, 3, 640, 640)\n",
      "\n",
      "0: 128x640 1 handwrite, 8.8ms\n",
      "Speed: 0.2ms preprocess, 8.8ms inference, 0.3ms postprocess per image at shape (1, 3, 640, 640)\n",
      "\n",
      "0: 224x640 1 typewritten, 12.2ms\n",
      "Speed: 0.1ms preprocess, 12.2ms inference, 0.3ms postprocess per image at shape (1, 3, 640, 640)\n",
      "\n",
      "0: 640x480 1 signer, 102.3ms\n",
      "Speed: 0.3ms preprocess, 102.3ms inference, 0.3ms postprocess per image at shape (1, 3, 640, 640)\n",
      "\n"
     ]
    },
    {
     "name": "stdout",
     "output_type": "stream",
     "text": [
      "in process: 241/1000\r"
     ]
    },
    {
     "name": "stderr",
     "output_type": "stream",
     "text": [
      "0: 640x480 1 signer, 103.5ms\n",
      "Speed: 0.3ms preprocess, 103.5ms inference, 0.3ms postprocess per image at shape (1, 3, 640, 640)\n"
     ]
    },
    {
     "name": "stdout",
     "output_type": "stream",
     "text": [
      "in process: 242/1000\r"
     ]
    },
    {
     "name": "stderr",
     "output_type": "stream",
     "text": [
      "\n",
      "0: 640x480 1 date, 1 number, 1 sender, 1 signer, 103.4ms\n",
      "Speed: 0.3ms preprocess, 103.4ms inference, 0.4ms postprocess per image at shape (1, 3, 640, 640)\n",
      "\n",
      "0: 160x640 1 handwrite, 14.8ms\n",
      "Speed: 0.2ms preprocess, 14.8ms inference, 0.6ms postprocess per image at shape (1, 3, 640, 640)\n",
      "\n",
      "0: 160x640 1 typewritten, 14.3ms\n",
      "Speed: 0.1ms preprocess, 14.3ms inference, 0.6ms postprocess per image at shape (1, 3, 640, 640)\n",
      "\n"
     ]
    },
    {
     "name": "stdout",
     "output_type": "stream",
     "text": [
      "in process: 243/1000\r"
     ]
    },
    {
     "name": "stderr",
     "output_type": "stream",
     "text": [
      "0: 640x480 1 content, 1 date, 1 number, 1 sender, 1 signer, 102.5ms\n",
      "Speed: 0.3ms preprocess, 102.5ms inference, 2.4ms postprocess per image at shape (1, 3, 640, 640)\n",
      "\n",
      "0: 160x640 1 handwrite, 14.6ms\n",
      "Speed: 0.2ms preprocess, 14.6ms inference, 0.6ms postprocess per image at shape (1, 3, 640, 640)\n",
      "\n",
      "0: 192x640 1 handwrite, 12.1ms\n",
      "Speed: 0.1ms preprocess, 12.1ms inference, 0.4ms postprocess per image at shape (1, 3, 640, 640)\n",
      "\n"
     ]
    },
    {
     "name": "stdout",
     "output_type": "stream",
     "text": [
      "in process: 244/1000\r"
     ]
    },
    {
     "name": "stderr",
     "output_type": "stream",
     "text": [
      "0: 640x480 1 date, 1 number, 1 sender, 1 signer, 103.3ms\n",
      "Speed: 0.3ms preprocess, 103.3ms inference, 0.4ms postprocess per image at shape (1, 3, 640, 640)\n",
      "\n",
      "0: 128x640 1 handwrite, 8.6ms\n",
      "Speed: 0.1ms preprocess, 8.6ms inference, 0.3ms postprocess per image at shape (1, 3, 640, 640)\n",
      "\n",
      "0: 192x640 1 handwrite, 12.0ms\n",
      "Speed: 0.2ms preprocess, 12.0ms inference, 0.4ms postprocess per image at shape (1, 3, 640, 640)\n",
      "\n"
     ]
    },
    {
     "name": "stdout",
     "output_type": "stream",
     "text": [
      "in process: 245/1000\r"
     ]
    },
    {
     "name": "stderr",
     "output_type": "stream",
     "text": [
      "0: 640x480 1 sender, 1 signer, 102.7ms\n",
      "Speed: 0.3ms preprocess, 102.7ms inference, 1.7ms postprocess per image at shape (1, 3, 640, 640)\n"
     ]
    },
    {
     "name": "stdout",
     "output_type": "stream",
     "text": [
      "in process: 246/1000\r"
     ]
    },
    {
     "name": "stderr",
     "output_type": "stream",
     "text": [
      "\n",
      "0: 640x480 1 content, 1 date, 1 number, 2 senders, 104.8ms\n",
      "Speed: 0.3ms preprocess, 104.8ms inference, 0.4ms postprocess per image at shape (1, 3, 640, 640)\n",
      "\n",
      "0: 192x640 1 handwrite, 11.1ms\n",
      "Speed: 0.2ms preprocess, 11.1ms inference, 0.3ms postprocess per image at shape (1, 3, 640, 640)\n",
      "\n",
      "0: 192x640 1 handwrite, 11.1ms\n",
      "Speed: 0.1ms preprocess, 11.1ms inference, 0.3ms postprocess per image at shape (1, 3, 640, 640)\n",
      "\n",
      "0: 640x480 2 signers, 104.7ms\n",
      "Speed: 0.3ms preprocess, 104.7ms inference, 0.3ms postprocess per image at shape (1, 3, 640, 640)\n"
     ]
    },
    {
     "name": "stdout",
     "output_type": "stream",
     "text": [
      "in process: 247/1000\r"
     ]
    },
    {
     "name": "stderr",
     "output_type": "stream",
     "text": [
      "\n",
      "0: 480x640 1 number, 1 sender, 104.8ms\n",
      "Speed: 0.3ms preprocess, 104.8ms inference, 3.0ms postprocess per image at shape (1, 3, 640, 640)\n",
      "\n",
      "0: 192x640 1 typewritten, 11.9ms\n",
      "Speed: 0.2ms preprocess, 11.9ms inference, 0.4ms postprocess per image at shape (1, 3, 640, 640)\n",
      "\n",
      "0: 640x480 (no detections), 109.9ms\n",
      "Speed: 0.3ms preprocess, 109.9ms inference, 0.2ms postprocess per image at shape (1, 3, 640, 640)\n",
      "\n",
      "0: 640x480 (no detections), 106.3ms\n",
      "Speed: 0.3ms preprocess, 106.3ms inference, 0.2ms postprocess per image at shape (1, 3, 640, 640)\n",
      "\n",
      "0: 640x480 (no detections), 102.4ms\n",
      "Speed: 0.3ms preprocess, 102.4ms inference, 0.2ms postprocess per image at shape (1, 3, 640, 640)\n"
     ]
    },
    {
     "name": "stdout",
     "output_type": "stream",
     "text": [
      "in process: 248/1000\r"
     ]
    },
    {
     "name": "stderr",
     "output_type": "stream",
     "text": [
      "\n",
      "0: 640x480 1 sender, 103.1ms\n",
      "Speed: 0.3ms preprocess, 103.1ms inference, 2.9ms postprocess per image at shape (1, 3, 640, 640)\n",
      "\n",
      "0: 640x480 1 signer, 107.0ms\n",
      "Speed: 0.3ms preprocess, 107.0ms inference, 0.3ms postprocess per image at shape (1, 3, 640, 640)\n"
     ]
    },
    {
     "name": "stdout",
     "output_type": "stream",
     "text": [
      "in process: 249/1000\r"
     ]
    },
    {
     "name": "stderr",
     "output_type": "stream",
     "text": [
      "\n",
      "0: 640x480 1 date, 1 number, 1 sender, 1 signer, 104.7ms\n",
      "Speed: 0.3ms preprocess, 104.7ms inference, 2.2ms postprocess per image at shape (1, 3, 640, 640)\n",
      "\n",
      "0: 160x640 1 handwrite, 1 typewritten, 10.5ms\n",
      "Speed: 7.0ms preprocess, 10.5ms inference, 0.3ms postprocess per image at shape (1, 3, 640, 640)\n",
      "\n",
      "0: 224x640 1 typewritten, 12.1ms\n",
      "Speed: 0.1ms preprocess, 12.1ms inference, 0.3ms postprocess per image at shape (1, 3, 640, 640)\n"
     ]
    },
    {
     "name": "stdout",
     "output_type": "stream",
     "text": [
      "in process: 250/1000\r"
     ]
    },
    {
     "name": "stderr",
     "output_type": "stream",
     "text": [
      "\n",
      "0: 640x480 (no detections), 105.0ms\n",
      "Speed: 0.3ms preprocess, 105.0ms inference, 0.2ms postprocess per image at shape (1, 3, 640, 640)\n",
      "\n",
      "0: 640x480 (no detections), 109.2ms\n",
      "Speed: 0.3ms preprocess, 109.2ms inference, 0.2ms postprocess per image at shape (1, 3, 640, 640)\n",
      "\n",
      "0: 640x480 1 content, 102.7ms\n",
      "Speed: 0.3ms preprocess, 102.7ms inference, 0.3ms postprocess per image at shape (1, 3, 640, 640)\n",
      "\n",
      "0: 640x480 (no detections), 106.0ms\n",
      "Speed: 0.3ms preprocess, 106.0ms inference, 0.3ms postprocess per image at shape (1, 3, 640, 640)\n",
      "\n"
     ]
    },
    {
     "name": "stdout",
     "output_type": "stream",
     "text": [
      "in process: 251/1000\r"
     ]
    },
    {
     "name": "stderr",
     "output_type": "stream",
     "text": [
      "0: 640x480 1 content, 1 date, 1 number, 1 sender, 1 signer, 102.9ms\n",
      "Speed: 0.3ms preprocess, 102.9ms inference, 3.5ms postprocess per image at shape (1, 3, 640, 640)\n",
      "\n",
      "0: 160x640 1 typewritten, 10.2ms\n",
      "Speed: 0.2ms preprocess, 10.2ms inference, 0.3ms postprocess per image at shape (1, 3, 640, 640)\n",
      "\n",
      "0: 192x640 1 typewritten, 15.6ms\n",
      "Speed: 0.3ms preprocess, 15.6ms inference, 0.3ms postprocess per image at shape (1, 3, 640, 640)\n"
     ]
    },
    {
     "name": "stdout",
     "output_type": "stream",
     "text": [
      "in process: 252/1000\r"
     ]
    },
    {
     "name": "stderr",
     "output_type": "stream",
     "text": [
      "\n",
      "0: 640x480 1 content, 1 date, 1 number, 1 sender, 1 signer, 103.0ms\n",
      "Speed: 0.3ms preprocess, 103.0ms inference, 0.4ms postprocess per image at shape (1, 3, 640, 640)\n",
      "\n",
      "0: 192x640 1 handwrite, 11.1ms\n",
      "Speed: 0.2ms preprocess, 11.1ms inference, 0.3ms postprocess per image at shape (1, 3, 640, 640)\n",
      "\n",
      "0: 128x640 1 handwrite, 12.2ms\n",
      "Speed: 0.1ms preprocess, 12.2ms inference, 0.6ms postprocess per image at shape (1, 3, 640, 640)\n",
      "\n"
     ]
    },
    {
     "name": "stdout",
     "output_type": "stream",
     "text": [
      "in process: 253/1000\r"
     ]
    },
    {
     "name": "stderr",
     "output_type": "stream",
     "text": [
      "0: 640x480 1 date, 1 number, 1 sender, 1 signer, 105.6ms\n",
      "Speed: 0.3ms preprocess, 105.6ms inference, 2.0ms postprocess per image at shape (1, 3, 640, 640)\n",
      "\n",
      "0: 128x640 1 handwrite, 12.2ms\n",
      "Speed: 0.2ms preprocess, 12.2ms inference, 0.6ms postprocess per image at shape (1, 3, 640, 640)\n",
      "\n",
      "0: 192x640 1 typewritten, 15.7ms\n",
      "Speed: 0.2ms preprocess, 15.7ms inference, 0.6ms postprocess per image at shape (1, 3, 640, 640)\n"
     ]
    },
    {
     "name": "stdout",
     "output_type": "stream",
     "text": [
      "in process: 254/1000\r"
     ]
    },
    {
     "name": "stderr",
     "output_type": "stream",
     "text": [
      "\n",
      "0: 640x480 (no detections), 105.1ms\n",
      "Speed: 0.3ms preprocess, 105.1ms inference, 0.2ms postprocess per image at shape (1, 3, 640, 640)\n",
      "\n",
      "0: 640x480 (no detections), 109.9ms\n",
      "Speed: 0.3ms preprocess, 109.9ms inference, 0.3ms postprocess per image at shape (1, 3, 640, 640)\n"
     ]
    },
    {
     "name": "stdout",
     "output_type": "stream",
     "text": [
      "in process: 255/1000\r"
     ]
    },
    {
     "name": "stderr",
     "output_type": "stream",
     "text": [
      "\n",
      "0: 640x480 1 date, 1 number, 1 sender, 1 signer, 102.5ms\n",
      "Speed: 0.3ms preprocess, 102.5ms inference, 2.5ms postprocess per image at shape (1, 3, 640, 640)\n",
      "\n",
      "0: 160x640 1 handwrite, 14.6ms\n",
      "Speed: 0.2ms preprocess, 14.6ms inference, 0.6ms postprocess per image at shape (1, 3, 640, 640)\n",
      "\n",
      "0: 160x640 1 handwrite, 14.3ms\n",
      "Speed: 0.2ms preprocess, 14.3ms inference, 0.6ms postprocess per image at shape (1, 3, 640, 640)\n",
      "\n"
     ]
    },
    {
     "name": "stdout",
     "output_type": "stream",
     "text": [
      "in process: 256/1000\r"
     ]
    },
    {
     "name": "stderr",
     "output_type": "stream",
     "text": [
      "0: 640x480 (no detections), 104.9ms\n",
      "Speed: 0.3ms preprocess, 104.9ms inference, 0.2ms postprocess per image at shape (1, 3, 640, 640)\n",
      "\n",
      "0: 640x480 (no detections), 105.3ms\n",
      "Speed: 0.3ms preprocess, 105.3ms inference, 0.2ms postprocess per image at shape (1, 3, 640, 640)\n"
     ]
    },
    {
     "name": "stdout",
     "output_type": "stream",
     "text": [
      "in process: 257/1000\r"
     ]
    },
    {
     "name": "stderr",
     "output_type": "stream",
     "text": [
      "\n",
      "0: 640x480 1 content, 1 date, 1 number, 1 sender, 102.1ms\n",
      "Speed: 0.3ms preprocess, 102.1ms inference, 1.8ms postprocess per image at shape (1, 3, 640, 640)\n",
      "\n",
      "0: 224x640 1 typewritten, 12.3ms\n",
      "Speed: 0.2ms preprocess, 12.3ms inference, 0.3ms postprocess per image at shape (1, 3, 640, 640)\n",
      "\n",
      "0: 128x640 1 handwrite, 8.6ms\n",
      "Speed: 0.2ms preprocess, 8.6ms inference, 0.3ms postprocess per image at shape (1, 3, 640, 640)\n",
      "\n",
      "0: 640x480 1 signer, 105.0ms\n",
      "Speed: 0.3ms preprocess, 105.0ms inference, 0.3ms postprocess per image at shape (1, 3, 640, 640)\n"
     ]
    },
    {
     "name": "stdout",
     "output_type": "stream",
     "text": [
      "in process: 258/1000\r"
     ]
    },
    {
     "name": "stderr",
     "output_type": "stream",
     "text": [
      "\n",
      "0: 640x480 1 date, 1 number, 1 sender, 101.6ms\n",
      "Speed: 0.3ms preprocess, 101.6ms inference, 1.6ms postprocess per image at shape (1, 3, 640, 640)\n",
      "\n",
      "0: 160x640 1 typewritten, 14.3ms\n",
      "Speed: 0.1ms preprocess, 14.3ms inference, 0.6ms postprocess per image at shape (1, 3, 640, 640)\n",
      "\n",
      "0: 160x640 1 typewritten, 10.5ms\n",
      "Speed: 0.2ms preprocess, 10.5ms inference, 0.3ms postprocess per image at shape (1, 3, 640, 640)\n",
      "\n",
      "0: 640x480 1 content, 1 date, 1 number, 1 sender, 106.3ms\n",
      "Speed: 0.3ms preprocess, 106.3ms inference, 0.3ms postprocess per image at shape (1, 3, 640, 640)\n",
      "\n",
      "0: 160x640 1 handwrite, 10.4ms\n",
      "Speed: 0.2ms preprocess, 10.4ms inference, 0.3ms postprocess per image at shape (1, 3, 640, 640)\n",
      "\n",
      "0: 128x640 1 handwrite, 8.8ms\n",
      "Speed: 0.1ms preprocess, 8.8ms inference, 0.3ms postprocess per image at shape (1, 3, 640, 640)\n",
      "\n",
      "0: 640x480 1 signer, 104.3ms\n",
      "Speed: 0.3ms preprocess, 104.3ms inference, 0.3ms postprocess per image at shape (1, 3, 640, 640)\n",
      "\n"
     ]
    },
    {
     "name": "stdout",
     "output_type": "stream",
     "text": [
      "in process: 259/1000\r"
     ]
    },
    {
     "name": "stderr",
     "output_type": "stream",
     "text": [
      "0: 640x480 1 content, 1 date, 1 number, 1 sender, 1 signer, 105.2ms\n",
      "Speed: 0.3ms preprocess, 105.2ms inference, 0.4ms postprocess per image at shape (1, 3, 640, 640)\n",
      "\n",
      "0: 160x640 1 handwrite, 10.4ms\n",
      "Speed: 0.2ms preprocess, 10.4ms inference, 0.3ms postprocess per image at shape (1, 3, 640, 640)\n",
      "\n",
      "0: 224x640 1 handwrite, 12.1ms\n",
      "Speed: 0.2ms preprocess, 12.1ms inference, 0.3ms postprocess per image at shape (1, 3, 640, 640)\n"
     ]
    },
    {
     "name": "stdout",
     "output_type": "stream",
     "text": [
      "in process: 260/1000\r"
     ]
    },
    {
     "name": "stderr",
     "output_type": "stream",
     "text": [
      "\n",
      "0: 640x480 1 content, 1 date, 1 number, 1 sender, 104.7ms\n",
      "Speed: 0.3ms preprocess, 104.7ms inference, 1.8ms postprocess per image at shape (1, 3, 640, 640)\n",
      "\n",
      "0: 160x640 1 typewritten, 10.4ms\n",
      "Speed: 0.2ms preprocess, 10.4ms inference, 0.3ms postprocess per image at shape (1, 3, 640, 640)\n",
      "\n",
      "0: 224x640 1 typewritten, 13.9ms\n",
      "Speed: 0.2ms preprocess, 13.9ms inference, 0.3ms postprocess per image at shape (1, 3, 640, 640)\n",
      "\n",
      "0: 640x480 1 signer, 102.6ms\n",
      "Speed: 0.3ms preprocess, 102.6ms inference, 0.3ms postprocess per image at shape (1, 3, 640, 640)\n",
      "\n"
     ]
    },
    {
     "name": "stdout",
     "output_type": "stream",
     "text": [
      "in process: 261/1000\r"
     ]
    },
    {
     "name": "stderr",
     "output_type": "stream",
     "text": [
      "0: 640x480 1 date, 1 number, 1 sender, 1 signer, 102.9ms\n",
      "Speed: 0.3ms preprocess, 102.9ms inference, 1.7ms postprocess per image at shape (1, 3, 640, 640)\n",
      "\n",
      "0: 192x640 1 typewritten, 11.0ms\n",
      "Speed: 0.1ms preprocess, 11.0ms inference, 0.3ms postprocess per image at shape (1, 3, 640, 640)\n",
      "\n",
      "0: 128x640 1 typewritten, 8.9ms\n",
      "Speed: 0.2ms preprocess, 8.9ms inference, 0.3ms postprocess per image at shape (1, 3, 640, 640)\n",
      "\n"
     ]
    },
    {
     "name": "stdout",
     "output_type": "stream",
     "text": [
      "in process: 262/1000\r"
     ]
    },
    {
     "name": "stderr",
     "output_type": "stream",
     "text": [
      "0: 640x480 1 content, 1 date, 1 number, 2 senders, 1 signer, 105.0ms\n",
      "Speed: 0.3ms preprocess, 105.0ms inference, 0.4ms postprocess per image at shape (1, 3, 640, 640)\n",
      "\n",
      "0: 160x640 1 handwrite, 1 typewritten, 10.8ms\n",
      "Speed: 0.2ms preprocess, 10.8ms inference, 0.3ms postprocess per image at shape (1, 3, 640, 640)\n",
      "\n",
      "0: 192x640 1 handwrite, 11.1ms\n",
      "Speed: 0.2ms preprocess, 11.1ms inference, 0.3ms postprocess per image at shape (1, 3, 640, 640)\n"
     ]
    },
    {
     "name": "stdout",
     "output_type": "stream",
     "text": [
      "in process: 263/1000\r"
     ]
    },
    {
     "name": "stderr",
     "output_type": "stream",
     "text": [
      "\n",
      "0: 640x480 1 sender, 1 signer, 104.3ms\n",
      "Speed: 0.3ms preprocess, 104.3ms inference, 0.3ms postprocess per image at shape (1, 3, 640, 640)\n",
      "\n",
      "0: 640x480 1 signer, 104.5ms\n",
      "Speed: 0.3ms preprocess, 104.5ms inference, 2.4ms postprocess per image at shape (1, 3, 640, 640)\n"
     ]
    },
    {
     "name": "stdout",
     "output_type": "stream",
     "text": [
      "in process: 264/1000\r"
     ]
    },
    {
     "name": "stderr",
     "output_type": "stream",
     "text": [
      "\n"
     ]
    },
    {
     "name": "stdout",
     "output_type": "stream",
     "text": [
      "in process: 265/1000\r"
     ]
    },
    {
     "name": "stderr",
     "output_type": "stream",
     "text": [
      "0: 640x480 1 number, 104.7ms\n",
      "Speed: 0.3ms preprocess, 104.7ms inference, 0.3ms postprocess per image at shape (1, 3, 640, 640)\n",
      "\n",
      "0: 192x640 1 handwrite, 11.1ms\n",
      "Speed: 0.1ms preprocess, 11.1ms inference, 0.3ms postprocess per image at shape (1, 3, 640, 640)\n",
      "\n",
      "0: 640x480 1 signer, 104.6ms\n",
      "Speed: 0.3ms preprocess, 104.6ms inference, 0.3ms postprocess per image at shape (1, 3, 640, 640)\n",
      "\n"
     ]
    },
    {
     "name": "stdout",
     "output_type": "stream",
     "text": [
      "in process: 266/1000\r"
     ]
    },
    {
     "name": "stderr",
     "output_type": "stream",
     "text": [
      "0: 640x480 1 content, 1 date, 1 number, 1 sender, 102.0ms\n",
      "Speed: 0.3ms preprocess, 102.0ms inference, 1.8ms postprocess per image at shape (1, 3, 640, 640)\n",
      "\n",
      "0: 160x640 1 handwrite, 10.4ms\n",
      "Speed: 0.2ms preprocess, 10.4ms inference, 0.3ms postprocess per image at shape (1, 3, 640, 640)\n",
      "\n",
      "0: 160x640 1 handwrite, 10.2ms\n",
      "Speed: 0.1ms preprocess, 10.2ms inference, 0.3ms postprocess per image at shape (1, 3, 640, 640)\n",
      "\n",
      "0: 640x480 1 signer, 107.2ms\n",
      "Speed: 0.3ms preprocess, 107.2ms inference, 0.3ms postprocess per image at shape (1, 3, 640, 640)\n"
     ]
    },
    {
     "name": "stdout",
     "output_type": "stream",
     "text": [
      "in process: 267/1000\r"
     ]
    },
    {
     "name": "stderr",
     "output_type": "stream",
     "text": [
      "\n",
      "0: 640x480 1 date, 1 number, 2 senders, 1 signer, 102.3ms\n",
      "Speed: 0.3ms preprocess, 102.3ms inference, 1.5ms postprocess per image at shape (1, 3, 640, 640)\n",
      "\n",
      "0: 160x640 1 typewritten, 10.5ms\n",
      "Speed: 0.2ms preprocess, 10.5ms inference, 0.3ms postprocess per image at shape (1, 3, 640, 640)\n",
      "\n",
      "0: 224x640 1 handwrite, 1 typewritten, 12.8ms\n",
      "Speed: 0.2ms preprocess, 12.8ms inference, 0.3ms postprocess per image at shape (1, 3, 640, 640)\n"
     ]
    },
    {
     "name": "stdout",
     "output_type": "stream",
     "text": [
      "in process: 268/1000\r"
     ]
    },
    {
     "name": "stderr",
     "output_type": "stream",
     "text": [
      "\n",
      "0: 640x480 1 date, 1 number, 1 sender, 1 signer, 104.5ms\n",
      "Speed: 0.3ms preprocess, 104.5ms inference, 0.4ms postprocess per image at shape (1, 3, 640, 640)\n",
      "\n",
      "0: 96x640 1 handwrite, 11.8ms\n",
      "Speed: 0.2ms preprocess, 11.8ms inference, 0.6ms postprocess per image at shape (1, 3, 640, 640)\n",
      "\n",
      "0: 160x640 1 handwrite, 14.0ms\n",
      "Speed: 0.1ms preprocess, 14.0ms inference, 0.6ms postprocess per image at shape (1, 3, 640, 640)\n"
     ]
    },
    {
     "name": "stdout",
     "output_type": "stream",
     "text": [
      "in process: 269/1000\r"
     ]
    },
    {
     "name": "stderr",
     "output_type": "stream",
     "text": [
      "\n",
      "0: 640x480 1 content, 1 date, 1 number, 1 sender, 1 signer, 104.4ms\n",
      "Speed: 0.3ms preprocess, 104.4ms inference, 0.4ms postprocess per image at shape (1, 3, 640, 640)\n",
      "\n",
      "0: 128x640 1 handwrite, 8.6ms\n",
      "Speed: 0.2ms preprocess, 8.6ms inference, 0.3ms postprocess per image at shape (1, 3, 640, 640)\n",
      "\n",
      "0: 192x640 1 handwrite, 15.4ms\n",
      "Speed: 0.1ms preprocess, 15.4ms inference, 0.6ms postprocess per image at shape (1, 3, 640, 640)\n"
     ]
    },
    {
     "name": "stdout",
     "output_type": "stream",
     "text": [
      "in process: 270/1000\r"
     ]
    },
    {
     "name": "stderr",
     "output_type": "stream",
     "text": [
      "\n",
      "0: 640x480 1 content, 1 date, 1 number, 1 sender, 1 signer, 102.6ms\n",
      "Speed: 0.3ms preprocess, 102.6ms inference, 2.3ms postprocess per image at shape (1, 3, 640, 640)\n",
      "\n",
      "0: 128x640 1 handwrite, 8.6ms\n",
      "Speed: 0.2ms preprocess, 8.6ms inference, 0.3ms postprocess per image at shape (1, 3, 640, 640)\n",
      "\n",
      "0: 192x640 1 typewritten, 13.5ms\n",
      "Speed: 0.2ms preprocess, 13.5ms inference, 0.6ms postprocess per image at shape (1, 3, 640, 640)\n"
     ]
    },
    {
     "name": "stdout",
     "output_type": "stream",
     "text": [
      "in process: 271/1000\r"
     ]
    },
    {
     "name": "stderr",
     "output_type": "stream",
     "text": [
      "\n",
      "0: 640x480 1 content, 1 date, 1 number, 1 sender, 102.3ms\n",
      "Speed: 0.3ms preprocess, 102.3ms inference, 0.4ms postprocess per image at shape (1, 3, 640, 640)\n",
      "\n",
      "0: 224x640 1 handwrite, 12.2ms\n",
      "Speed: 0.2ms preprocess, 12.2ms inference, 0.3ms postprocess per image at shape (1, 3, 640, 640)\n",
      "\n",
      "0: 160x640 1 handwrite, 10.6ms\n",
      "Speed: 0.1ms preprocess, 10.6ms inference, 0.3ms postprocess per image at shape (1, 3, 640, 640)\n",
      "\n",
      "0: 640x480 (no detections), 108.8ms\n",
      "Speed: 0.3ms preprocess, 108.8ms inference, 0.2ms postprocess per image at shape (1, 3, 640, 640)\n",
      "\n",
      "0: 640x480 1 signer, 102.1ms\n",
      "Speed: 0.3ms preprocess, 102.1ms inference, 0.3ms postprocess per image at shape (1, 3, 640, 640)\n"
     ]
    },
    {
     "name": "stdout",
     "output_type": "stream",
     "text": [
      "in process: 272/1000\r"
     ]
    },
    {
     "name": "stderr",
     "output_type": "stream",
     "text": [
      "\n",
      "0: 640x480 1 content, 1 date, 1 number, 1 sender, 1 signer, 102.1ms\n",
      "Speed: 0.3ms preprocess, 102.1ms inference, 1.7ms postprocess per image at shape (1, 3, 640, 640)\n",
      "\n",
      "0: 128x640 1 handwrite, 12.6ms\n",
      "Speed: 11.1ms preprocess, 12.6ms inference, 0.6ms postprocess per image at shape (1, 3, 640, 640)\n",
      "\n",
      "0: 256x640 1 handwrite, 13.6ms\n",
      "Speed: 0.1ms preprocess, 13.6ms inference, 0.4ms postprocess per image at shape (1, 3, 640, 640)\n"
     ]
    },
    {
     "name": "stdout",
     "output_type": "stream",
     "text": [
      "in process: 273/1000\r"
     ]
    },
    {
     "name": "stderr",
     "output_type": "stream",
     "text": [
      "\n",
      "0: 640x416 1 date, 1 number, 1 sender, 1 signer, 89.3ms\n",
      "Speed: 0.3ms preprocess, 89.3ms inference, 0.3ms postprocess per image at shape (1, 3, 640, 640)\n",
      "\n",
      "0: 160x640 1 handwrite, 14.8ms\n",
      "Speed: 0.2ms preprocess, 14.8ms inference, 0.6ms postprocess per image at shape (1, 3, 640, 640)\n",
      "\n",
      "0: 160x640 1 handwrite, 15.1ms\n",
      "Speed: 0.2ms preprocess, 15.1ms inference, 0.6ms postprocess per image at shape (1, 3, 640, 640)\n"
     ]
    },
    {
     "name": "stdout",
     "output_type": "stream",
     "text": [
      "in process: 274/1000\r"
     ]
    },
    {
     "name": "stderr",
     "output_type": "stream",
     "text": [
      "\n",
      "0: 640x480 1 content, 1 date, 1 number, 1 sender, 102.4ms\n",
      "Speed: 0.3ms preprocess, 102.4ms inference, 2.1ms postprocess per image at shape (1, 3, 640, 640)\n",
      "\n",
      "0: 160x640 1 handwrite, 10.3ms\n",
      "Speed: 0.3ms preprocess, 10.3ms inference, 0.3ms postprocess per image at shape (1, 3, 640, 640)\n",
      "\n",
      "0: 160x640 1 handwrite, 10.5ms\n",
      "Speed: 0.1ms preprocess, 10.5ms inference, 0.3ms postprocess per image at shape (1, 3, 640, 640)\n",
      "\n",
      "0: 640x480 (no detections), 102.1ms\n",
      "Speed: 0.3ms preprocess, 102.1ms inference, 0.2ms postprocess per image at shape (1, 3, 640, 640)\n",
      "\n",
      "0: 640x480 (no detections), 104.1ms\n",
      "Speed: 0.3ms preprocess, 104.1ms inference, 0.2ms postprocess per image at shape (1, 3, 640, 640)\n",
      "\n",
      "0: 640x480 1 signer, 104.1ms\n",
      "Speed: 0.3ms preprocess, 104.1ms inference, 0.3ms postprocess per image at shape (1, 3, 640, 640)\n"
     ]
    },
    {
     "name": "stdout",
     "output_type": "stream",
     "text": [
      "in process: 275/1000\r"
     ]
    },
    {
     "name": "stderr",
     "output_type": "stream",
     "text": [
      "\n",
      "0: 640x480 1 date, 1 number, 1 sender, 102.2ms\n",
      "Speed: 0.3ms preprocess, 102.2ms inference, 0.3ms postprocess per image at shape (1, 3, 640, 640)\n",
      "\n",
      "0: 192x640 2 typewrittens, 11.0ms\n",
      "Speed: 0.1ms preprocess, 11.0ms inference, 0.3ms postprocess per image at shape (1, 3, 640, 640)\n",
      "\n",
      "0: 288x640 1 typewritten, 14.3ms\n",
      "Speed: 0.2ms preprocess, 14.3ms inference, 0.3ms postprocess per image at shape (1, 3, 640, 640)\n",
      "\n",
      "0: 640x480 1 signer, 104.8ms\n",
      "Speed: 0.3ms preprocess, 104.8ms inference, 0.3ms postprocess per image at shape (1, 3, 640, 640)\n",
      "\n"
     ]
    },
    {
     "name": "stdout",
     "output_type": "stream",
     "text": [
      "in process: 276/1000\r"
     ]
    },
    {
     "name": "stderr",
     "output_type": "stream",
     "text": [
      "0: 640x480 1 date, 1 number, 1 sender, 102.0ms\n",
      "Speed: 0.3ms preprocess, 102.0ms inference, 2.2ms postprocess per image at shape (1, 3, 640, 640)\n",
      "\n",
      "0: 192x640 1 handwrite, 11.1ms\n",
      "Speed: 0.2ms preprocess, 11.1ms inference, 0.3ms postprocess per image at shape (1, 3, 640, 640)\n",
      "\n",
      "0: 160x640 1 handwrite, 10.4ms\n",
      "Speed: 0.1ms preprocess, 10.4ms inference, 0.3ms postprocess per image at shape (1, 3, 640, 640)\n",
      "\n",
      "0: 640x480 1 signer, 104.4ms\n",
      "Speed: 0.3ms preprocess, 104.4ms inference, 0.3ms postprocess per image at shape (1, 3, 640, 640)\n",
      "\n"
     ]
    },
    {
     "name": "stdout",
     "output_type": "stream",
     "text": [
      "in process: 277/1000\r"
     ]
    },
    {
     "name": "stderr",
     "output_type": "stream",
     "text": [
      "0: 640x480 1 date, 1 number, 2 senders, 104.1ms\n",
      "Speed: 0.3ms preprocess, 104.1ms inference, 2.2ms postprocess per image at shape (1, 3, 640, 640)\n",
      "\n",
      "0: 192x640 1 handwrite, 11.1ms\n",
      "Speed: 0.2ms preprocess, 11.1ms inference, 0.3ms postprocess per image at shape (1, 3, 640, 640)\n",
      "\n",
      "0: 160x640 1 handwrite, 10.1ms\n",
      "Speed: 0.1ms preprocess, 10.1ms inference, 0.3ms postprocess per image at shape (1, 3, 640, 640)\n"
     ]
    },
    {
     "name": "stdout",
     "output_type": "stream",
     "text": [
      "in process: 278/1000\r"
     ]
    },
    {
     "name": "stderr",
     "output_type": "stream",
     "text": [
      "\n",
      "0: 640x480 1 date, 1 number, 1 sender, 112.2ms\n",
      "Speed: 0.3ms preprocess, 112.2ms inference, 0.7ms postprocess per image at shape (1, 3, 640, 640)\n",
      "\n",
      "0: 128x640 1 handwrite, 8.7ms\n",
      "Speed: 0.2ms preprocess, 8.7ms inference, 0.3ms postprocess per image at shape (1, 3, 640, 640)\n",
      "\n",
      "0: 160x640 1 handwrite, 10.2ms\n",
      "Speed: 0.1ms preprocess, 10.2ms inference, 0.3ms postprocess per image at shape (1, 3, 640, 640)\n",
      "\n",
      "0: 640x480 1 signer, 104.7ms\n",
      "Speed: 0.3ms preprocess, 104.7ms inference, 0.3ms postprocess per image at shape (1, 3, 640, 640)\n"
     ]
    },
    {
     "name": "stdout",
     "output_type": "stream",
     "text": [
      "in process: 279/1000\r"
     ]
    },
    {
     "name": "stderr",
     "output_type": "stream",
     "text": [
      "\n",
      "0: 640x480 1 content, 1 sender, 102.8ms\n",
      "Speed: 0.3ms preprocess, 102.8ms inference, 1.9ms postprocess per image at shape (1, 3, 640, 640)\n",
      "\n",
      "0: 640x480 1 signer, 102.5ms\n",
      "Speed: 0.3ms preprocess, 102.5ms inference, 0.3ms postprocess per image at shape (1, 3, 640, 640)\n"
     ]
    },
    {
     "name": "stdout",
     "output_type": "stream",
     "text": [
      "in process: 280/1000\r"
     ]
    },
    {
     "name": "stderr",
     "output_type": "stream",
     "text": [
      "\n",
      "0: 640x480 1 date, 1 number, 1 sender, 1 signer, 102.3ms\n",
      "Speed: 0.3ms preprocess, 102.3ms inference, 1.5ms postprocess per image at shape (1, 3, 640, 640)\n",
      "\n",
      "0: 160x640 1 handwrite, 10.2ms\n",
      "Speed: 0.2ms preprocess, 10.2ms inference, 0.3ms postprocess per image at shape (1, 3, 640, 640)\n",
      "\n",
      "0: 160x640 1 handwrite, 10.1ms\n",
      "Speed: 0.1ms preprocess, 10.1ms inference, 0.3ms postprocess per image at shape (1, 3, 640, 640)\n",
      "\n"
     ]
    },
    {
     "name": "stdout",
     "output_type": "stream",
     "text": [
      "in process: 281/1000\r"
     ]
    },
    {
     "name": "stderr",
     "output_type": "stream",
     "text": [
      "0: 640x480 1 content, 1 date, 1 number, 1 sender, 1 signer, 104.8ms\n",
      "Speed: 0.3ms preprocess, 104.8ms inference, 0.4ms postprocess per image at shape (1, 3, 640, 640)\n",
      "\n",
      "0: 160x640 1 handwrite, 10.6ms\n",
      "Speed: 0.2ms preprocess, 10.6ms inference, 0.3ms postprocess per image at shape (1, 3, 640, 640)\n",
      "\n",
      "0: 128x640 1 handwrite, 8.7ms\n",
      "Speed: 0.2ms preprocess, 8.7ms inference, 0.3ms postprocess per image at shape (1, 3, 640, 640)\n",
      "\n"
     ]
    },
    {
     "name": "stdout",
     "output_type": "stream",
     "text": [
      "in process: 282/1000\r"
     ]
    },
    {
     "name": "stderr",
     "output_type": "stream",
     "text": [
      "0: 640x480 1 date, 1 number, 1 sender, 1 signer, 105.3ms\n",
      "Speed: 0.3ms preprocess, 105.3ms inference, 2.4ms postprocess per image at shape (1, 3, 640, 640)\n",
      "\n",
      "0: 128x640 1 handwrite, 8.5ms\n",
      "Speed: 0.2ms preprocess, 8.5ms inference, 0.3ms postprocess per image at shape (1, 3, 640, 640)\n",
      "\n",
      "0: 224x640 1 handwrite, 12.2ms\n",
      "Speed: 0.1ms preprocess, 12.2ms inference, 0.3ms postprocess per image at shape (1, 3, 640, 640)\n",
      "\n"
     ]
    },
    {
     "name": "stdout",
     "output_type": "stream",
     "text": [
      "in process: 283/1000\r"
     ]
    },
    {
     "name": "stderr",
     "output_type": "stream",
     "text": [
      "0: 640x480 1 content, 1 date, 1 sender, 105.2ms\n",
      "Speed: 0.3ms preprocess, 105.2ms inference, 0.4ms postprocess per image at shape (1, 3, 640, 640)\n",
      "\n",
      "0: 192x640 1 typewritten, 11.2ms\n",
      "Speed: 0.2ms preprocess, 11.2ms inference, 0.3ms postprocess per image at shape (1, 3, 640, 640)\n",
      "\n",
      "0: 640x480 1 signer, 106.2ms\n",
      "Speed: 0.3ms preprocess, 106.2ms inference, 0.3ms postprocess per image at shape (1, 3, 640, 640)\n",
      "\n"
     ]
    },
    {
     "name": "stdout",
     "output_type": "stream",
     "text": [
      "in process: 284/1000\r"
     ]
    },
    {
     "name": "stderr",
     "output_type": "stream",
     "text": [
      "0: 640x480 2 contents, 1 date, 1 number, 1 sender, 103.0ms\n",
      "Speed: 0.3ms preprocess, 103.0ms inference, 0.3ms postprocess per image at shape (1, 3, 640, 640)\n",
      "\n",
      "0: 192x640 1 handwrite, 11.2ms\n",
      "Speed: 0.1ms preprocess, 11.2ms inference, 0.3ms postprocess per image at shape (1, 3, 640, 640)\n",
      "\n",
      "0: 128x640 1 handwrite, 8.5ms\n",
      "Speed: 0.1ms preprocess, 8.5ms inference, 0.3ms postprocess per image at shape (1, 3, 640, 640)\n",
      "\n",
      "0: 640x480 1 signer, 105.1ms\n",
      "Speed: 0.3ms preprocess, 105.1ms inference, 0.3ms postprocess per image at shape (1, 3, 640, 640)\n"
     ]
    },
    {
     "name": "stdout",
     "output_type": "stream",
     "text": [
      "in process: 285/1000\r"
     ]
    },
    {
     "name": "stderr",
     "output_type": "stream",
     "text": [
      "\n",
      "0: 640x480 1 date, 1 number, 102.3ms\n",
      "Speed: 0.3ms preprocess, 102.3ms inference, 2.5ms postprocess per image at shape (1, 3, 640, 640)\n",
      "\n",
      "0: 224x640 1 handwrite, 12.1ms\n",
      "Speed: 0.2ms preprocess, 12.1ms inference, 0.3ms postprocess per image at shape (1, 3, 640, 640)\n",
      "\n",
      "0: 192x640 1 handwrite, 1 typewritten, 11.0ms\n",
      "Speed: 0.1ms preprocess, 11.0ms inference, 0.3ms postprocess per image at shape (1, 3, 640, 640)\n",
      "\n",
      "0: 640x480 2 signers, 105.0ms\n",
      "Speed: 0.3ms preprocess, 105.0ms inference, 0.3ms postprocess per image at shape (1, 3, 640, 640)\n"
     ]
    },
    {
     "name": "stdout",
     "output_type": "stream",
     "text": [
      "in process: 286/1000\r"
     ]
    },
    {
     "name": "stderr",
     "output_type": "stream",
     "text": [
      "\n",
      "0: 640x480 1 date, 1 number, 1 sender, 102.6ms\n",
      "Speed: 0.3ms preprocess, 102.6ms inference, 2.3ms postprocess per image at shape (1, 3, 640, 640)\n",
      "\n",
      "0: 160x640 1 handwrite, 10.4ms\n",
      "Speed: 0.2ms preprocess, 10.4ms inference, 0.3ms postprocess per image at shape (1, 3, 640, 640)\n",
      "\n",
      "0: 128x640 1 typewritten, 8.7ms\n",
      "Speed: 0.1ms preprocess, 8.7ms inference, 0.3ms postprocess per image at shape (1, 3, 640, 640)\n",
      "\n",
      "0: 480x640 (no detections), 107.4ms\n",
      "Speed: 0.3ms preprocess, 107.4ms inference, 0.2ms postprocess per image at shape (1, 3, 640, 640)\n",
      "\n",
      "0: 480x640 (no detections), 104.6ms\n",
      "Speed: 0.3ms preprocess, 104.6ms inference, 0.2ms postprocess per image at shape (1, 3, 640, 640)\n",
      "\n",
      "0: 480x640 (no detections), 106.8ms\n",
      "Speed: 0.3ms preprocess, 106.8ms inference, 0.2ms postprocess per image at shape (1, 3, 640, 640)\n"
     ]
    },
    {
     "name": "stdout",
     "output_type": "stream",
     "text": [
      "in process: 287/1000\r"
     ]
    },
    {
     "name": "stderr",
     "output_type": "stream",
     "text": [
      "\n",
      "0: 640x480 1 content, 1 date, 1 sender, 1 signer, 102.8ms\n",
      "Speed: 0.3ms preprocess, 102.8ms inference, 0.3ms postprocess per image at shape (1, 3, 640, 640)\n",
      "\n",
      "0: 192x640 1 handwrite, 1 typewritten, 11.4ms\n",
      "Speed: 0.2ms preprocess, 11.4ms inference, 0.3ms postprocess per image at shape (1, 3, 640, 640)\n"
     ]
    },
    {
     "name": "stdout",
     "output_type": "stream",
     "text": [
      "in process: 288/1000\r"
     ]
    },
    {
     "name": "stderr",
     "output_type": "stream",
     "text": [
      "\n",
      "0: 640x480 2 numbers, 1 sender, 105.0ms\n",
      "Speed: 0.3ms preprocess, 105.0ms inference, 0.4ms postprocess per image at shape (1, 3, 640, 640)\n",
      "\n",
      "0: 192x640 1 handwrite, 11.1ms\n",
      "Speed: 16.9ms preprocess, 11.1ms inference, 0.3ms postprocess per image at shape (1, 3, 640, 640)\n",
      "\n",
      "0: 160x640 1 typewritten, 10.1ms\n",
      "Speed: 0.1ms preprocess, 10.1ms inference, 0.3ms postprocess per image at shape (1, 3, 640, 640)\n",
      "\n",
      "0: 640x480 (no detections), 105.2ms\n",
      "Speed: 0.3ms preprocess, 105.2ms inference, 0.2ms postprocess per image at shape (1, 3, 640, 640)\n",
      "\n",
      "0: 640x480 1 signer, 103.2ms\n",
      "Speed: 0.3ms preprocess, 103.2ms inference, 0.3ms postprocess per image at shape (1, 3, 640, 640)\n"
     ]
    },
    {
     "name": "stdout",
     "output_type": "stream",
     "text": [
      "in process: 289/1000\r"
     ]
    },
    {
     "name": "stderr",
     "output_type": "stream",
     "text": [
      "\n",
      "0: 640x480 2 senders, 1 signer, 103.3ms\n",
      "Speed: 0.3ms preprocess, 103.3ms inference, 2.9ms postprocess per image at shape (1, 3, 640, 640)\n"
     ]
    },
    {
     "name": "stdout",
     "output_type": "stream",
     "text": [
      "in process: 290/1000\r"
     ]
    },
    {
     "name": "stderr",
     "output_type": "stream",
     "text": [
      "\n",
      "0: 640x480 1 date, 1 number, 2 senders, 105.3ms\n",
      "Speed: 0.3ms preprocess, 105.3ms inference, 0.3ms postprocess per image at shape (1, 3, 640, 640)\n",
      "\n",
      "0: 128x640 1 handwrite, 8.7ms\n",
      "Speed: 0.2ms preprocess, 8.7ms inference, 0.3ms postprocess per image at shape (1, 3, 640, 640)\n",
      "\n",
      "0: 160x640 1 handwrite, 10.3ms\n",
      "Speed: 0.1ms preprocess, 10.3ms inference, 0.3ms postprocess per image at shape (1, 3, 640, 640)\n",
      "\n",
      "0: 640x480 (no detections), 104.9ms\n",
      "Speed: 0.3ms preprocess, 104.9ms inference, 0.2ms postprocess per image at shape (1, 3, 640, 640)\n",
      "\n",
      "0: 640x480 (no detections), 105.4ms\n",
      "Speed: 0.3ms preprocess, 105.4ms inference, 0.2ms postprocess per image at shape (1, 3, 640, 640)\n",
      "\n",
      "0: 640x480 1 signer, 105.3ms\n",
      "Speed: 0.3ms preprocess, 105.3ms inference, 0.3ms postprocess per image at shape (1, 3, 640, 640)\n",
      "\n"
     ]
    },
    {
     "name": "stdout",
     "output_type": "stream",
     "text": [
      "in process: 291/1000\r"
     ]
    },
    {
     "name": "stderr",
     "output_type": "stream",
     "text": [
      "0: 640x480 1 date, 1 number, 1 sender, 1 signer, 103.6ms\n",
      "Speed: 0.3ms preprocess, 103.6ms inference, 1.6ms postprocess per image at shape (1, 3, 640, 640)\n",
      "\n",
      "0: 160x640 1 handwrite, 21.8ms\n",
      "Speed: 0.3ms preprocess, 21.8ms inference, 0.8ms postprocess per image at shape (1, 3, 640, 640)\n",
      "\n",
      "0: 160x640 1 handwrite, 14.5ms\n",
      "Speed: 0.1ms preprocess, 14.5ms inference, 0.6ms postprocess per image at shape (1, 3, 640, 640)\n",
      "\n"
     ]
    },
    {
     "name": "stdout",
     "output_type": "stream",
     "text": [
      "in process: 292/1000\r"
     ]
    },
    {
     "name": "stderr",
     "output_type": "stream",
     "text": [
      "0: 640x480 1 date, 1 number, 1 sender, 1 signer, 103.6ms\n",
      "Speed: 0.3ms preprocess, 103.6ms inference, 0.4ms postprocess per image at shape (1, 3, 640, 640)\n",
      "\n",
      "0: 96x640 3 handwrites, 11.7ms\n",
      "Speed: 0.2ms preprocess, 11.7ms inference, 0.6ms postprocess per image at shape (1, 3, 640, 640)\n",
      "\n",
      "0: 160x640 1 handwrite, 11.5ms\n",
      "Speed: 0.2ms preprocess, 11.5ms inference, 0.4ms postprocess per image at shape (1, 3, 640, 640)\n",
      "\n"
     ]
    },
    {
     "name": "stdout",
     "output_type": "stream",
     "text": [
      "in process: 293/1000\r"
     ]
    },
    {
     "name": "stderr",
     "output_type": "stream",
     "text": [
      "0: 640x480 1 date, 1 number, 1 sender, 102.8ms\n",
      "Speed: 0.3ms preprocess, 102.8ms inference, 2.2ms postprocess per image at shape (1, 3, 640, 640)\n",
      "\n",
      "0: 160x640 1 handwrite, 10.7ms\n",
      "Speed: 0.2ms preprocess, 10.7ms inference, 0.3ms postprocess per image at shape (1, 3, 640, 640)\n",
      "\n",
      "0: 192x640 1 typewritten, 11.3ms\n",
      "Speed: 0.1ms preprocess, 11.3ms inference, 0.3ms postprocess per image at shape (1, 3, 640, 640)\n",
      "\n",
      "0: 640x480 1 signer, 102.9ms\n",
      "Speed: 0.3ms preprocess, 102.9ms inference, 0.3ms postprocess per image at shape (1, 3, 640, 640)\n"
     ]
    },
    {
     "name": "stdout",
     "output_type": "stream",
     "text": [
      "in process: 294/1000\r"
     ]
    },
    {
     "name": "stderr",
     "output_type": "stream",
     "text": [
      "\n",
      "0: 640x480 1 date, 1 number, 1 sender, 1 signer, 102.6ms\n",
      "Speed: 0.3ms preprocess, 102.6ms inference, 2.3ms postprocess per image at shape (1, 3, 640, 640)\n",
      "\n",
      "0: 128x640 1 handwrite, 8.7ms\n",
      "Speed: 0.2ms preprocess, 8.7ms inference, 0.3ms postprocess per image at shape (1, 3, 640, 640)\n",
      "\n",
      "0: 192x640 1 handwrite, 11.3ms\n",
      "Speed: 0.2ms preprocess, 11.3ms inference, 0.3ms postprocess per image at shape (1, 3, 640, 640)\n",
      "\n"
     ]
    },
    {
     "name": "stdout",
     "output_type": "stream",
     "text": [
      "in process: 295/1000\r"
     ]
    },
    {
     "name": "stderr",
     "output_type": "stream",
     "text": [
      "0: 640x480 1 date, 1 number, 1 sender, 1 signer, 105.8ms\n",
      "Speed: 0.3ms preprocess, 105.8ms inference, 0.3ms postprocess per image at shape (1, 3, 640, 640)\n",
      "\n",
      "0: 128x640 1 handwrite, 12.4ms\n",
      "Speed: 0.2ms preprocess, 12.4ms inference, 0.6ms postprocess per image at shape (1, 3, 640, 640)\n",
      "\n",
      "0: 192x640 1 handwrite, 11.3ms\n",
      "Speed: 0.2ms preprocess, 11.3ms inference, 0.3ms postprocess per image at shape (1, 3, 640, 640)\n"
     ]
    },
    {
     "name": "stdout",
     "output_type": "stream",
     "text": [
      "in process: 296/1000\r"
     ]
    },
    {
     "name": "stderr",
     "output_type": "stream",
     "text": [
      "\n",
      "0: 480x640 2 senders, 106.6ms\n",
      "Speed: 0.3ms preprocess, 106.6ms inference, 2.1ms postprocess per image at shape (1, 3, 640, 640)\n",
      "\n",
      "0: 640x480 (no detections), 102.6ms\n",
      "Speed: 0.3ms preprocess, 102.6ms inference, 0.2ms postprocess per image at shape (1, 3, 640, 640)\n",
      "\n",
      "0: 640x480 1 signer, 102.4ms\n",
      "Speed: 0.3ms preprocess, 102.4ms inference, 0.3ms postprocess per image at shape (1, 3, 640, 640)\n",
      "\n"
     ]
    },
    {
     "name": "stdout",
     "output_type": "stream",
     "text": [
      "in process: 297/1000\r"
     ]
    },
    {
     "name": "stderr",
     "output_type": "stream",
     "text": [
      "0: 640x480 1 date, 1 number, 1 sender, 1 signer, 102.7ms\n",
      "Speed: 0.3ms preprocess, 102.7ms inference, 2.6ms postprocess per image at shape (1, 3, 640, 640)\n",
      "\n",
      "0: 160x640 1 handwrite, 14.6ms\n",
      "Speed: 0.2ms preprocess, 14.6ms inference, 0.6ms postprocess per image at shape (1, 3, 640, 640)\n",
      "\n",
      "0: 192x640 1 handwrite, 12.0ms\n",
      "Speed: 0.1ms preprocess, 12.0ms inference, 0.4ms postprocess per image at shape (1, 3, 640, 640)\n",
      "\n"
     ]
    },
    {
     "name": "stdout",
     "output_type": "stream",
     "text": [
      "in process: 298/1000\r"
     ]
    },
    {
     "name": "stderr",
     "output_type": "stream",
     "text": [
      "0: 640x480 1 date, 1 number, 1 sender, 1 signer, 105.3ms\n",
      "Speed: 0.3ms preprocess, 105.3ms inference, 0.4ms postprocess per image at shape (1, 3, 640, 640)\n",
      "\n",
      "0: 192x640 1 handwrite, 17.3ms\n",
      "Speed: 0.2ms preprocess, 17.3ms inference, 0.6ms postprocess per image at shape (1, 3, 640, 640)\n",
      "\n",
      "0: 128x640 1 handwrite, 12.3ms\n",
      "Speed: 0.1ms preprocess, 12.3ms inference, 0.6ms postprocess per image at shape (1, 3, 640, 640)\n",
      "\n"
     ]
    },
    {
     "name": "stdout",
     "output_type": "stream",
     "text": [
      "in process: 299/1000\r"
     ]
    },
    {
     "name": "stderr",
     "output_type": "stream",
     "text": [
      "0: 640x480 1 content, 1 date, 1 number, 104.7ms\n",
      "Speed: 0.3ms preprocess, 104.7ms inference, 1.9ms postprocess per image at shape (1, 3, 640, 640)\n",
      "\n",
      "0: 160x640 1 handwrite, 14.6ms\n",
      "Speed: 0.2ms preprocess, 14.6ms inference, 0.6ms postprocess per image at shape (1, 3, 640, 640)\n",
      "\n",
      "0: 224x640 1 typewritten, 15.9ms\n",
      "Speed: 0.1ms preprocess, 15.9ms inference, 0.6ms postprocess per image at shape (1, 3, 640, 640)\n",
      "\n",
      "0: 640x480 1 signer, 103.5ms\n",
      "Speed: 0.3ms preprocess, 103.5ms inference, 0.3ms postprocess per image at shape (1, 3, 640, 640)\n"
     ]
    },
    {
     "name": "stdout",
     "output_type": "stream",
     "text": [
      "in process: 300/1000\r"
     ]
    },
    {
     "name": "stderr",
     "output_type": "stream",
     "text": [
      "\n",
      "0: 640x480 1 date, 1 number, 1 sender, 1 signer, 103.4ms\n",
      "Speed: 0.3ms preprocess, 103.4ms inference, 1.6ms postprocess per image at shape (1, 3, 640, 640)\n",
      "\n",
      "0: 128x640 1 typewritten, 8.7ms\n",
      "Speed: 0.1ms preprocess, 8.7ms inference, 0.3ms postprocess per image at shape (1, 3, 640, 640)\n",
      "\n",
      "0: 224x640 1 typewritten, 16.1ms\n",
      "Speed: 0.2ms preprocess, 16.1ms inference, 0.6ms postprocess per image at shape (1, 3, 640, 640)\n",
      "\n"
     ]
    },
    {
     "name": "stdout",
     "output_type": "stream",
     "text": [
      "in process: 301/1000\r"
     ]
    },
    {
     "name": "stderr",
     "output_type": "stream",
     "text": [
      "0: 640x480 1 date, 1 number, 1 sender, 102.3ms\n",
      "Speed: 0.3ms preprocess, 102.3ms inference, 0.3ms postprocess per image at shape (1, 3, 640, 640)\n",
      "\n",
      "0: 160x640 1 handwrite, 10.5ms\n",
      "Speed: 0.1ms preprocess, 10.5ms inference, 0.3ms postprocess per image at shape (1, 3, 640, 640)\n",
      "\n",
      "0: 192x640 1 typewritten, 11.0ms\n",
      "Speed: 0.1ms preprocess, 11.0ms inference, 0.3ms postprocess per image at shape (1, 3, 640, 640)\n",
      "\n",
      "0: 640x480 1 signer, 103.0ms\n",
      "Speed: 0.3ms preprocess, 103.0ms inference, 0.3ms postprocess per image at shape (1, 3, 640, 640)\n",
      "\n"
     ]
    },
    {
     "name": "stdout",
     "output_type": "stream",
     "text": [
      "in process: 302/1000\r"
     ]
    },
    {
     "name": "stderr",
     "output_type": "stream",
     "text": [
      "0: 640x448 1 date, 1 number, 1 sender, 1 signer, 97.9ms\n",
      "Speed: 0.3ms preprocess, 97.9ms inference, 1.4ms postprocess per image at shape (1, 3, 640, 640)\n",
      "\n",
      "0: 128x640 1 handwrite, 8.9ms\n",
      "Speed: 0.2ms preprocess, 8.9ms inference, 0.3ms postprocess per image at shape (1, 3, 640, 640)\n",
      "\n",
      "0: 224x640 1 typewritten, 12.2ms\n",
      "Speed: 0.2ms preprocess, 12.2ms inference, 0.3ms postprocess per image at shape (1, 3, 640, 640)\n"
     ]
    },
    {
     "name": "stdout",
     "output_type": "stream",
     "text": [
      "in process: 303/1000\r"
     ]
    },
    {
     "name": "stderr",
     "output_type": "stream",
     "text": [
      "\n",
      "0: 640x480 1 date, 1 number, 1 sender, 105.3ms\n",
      "Speed: 0.3ms preprocess, 105.3ms inference, 0.3ms postprocess per image at shape (1, 3, 640, 640)\n",
      "\n",
      "0: 256x640 1 handwrite, 13.0ms\n",
      "Speed: 0.2ms preprocess, 13.0ms inference, 0.3ms postprocess per image at shape (1, 3, 640, 640)\n",
      "\n",
      "0: 128x640 1 handwrite, 8.5ms\n",
      "Speed: 0.1ms preprocess, 8.5ms inference, 0.3ms postprocess per image at shape (1, 3, 640, 640)\n",
      "\n",
      "0: 640x480 1 signer, 105.0ms\n",
      "Speed: 0.3ms preprocess, 105.0ms inference, 0.3ms postprocess per image at shape (1, 3, 640, 640)\n"
     ]
    },
    {
     "name": "stdout",
     "output_type": "stream",
     "text": [
      "in process: 304/1000\r"
     ]
    },
    {
     "name": "stderr",
     "output_type": "stream",
     "text": [
      "\n",
      "0: 640x480 1 sender, 104.8ms\n",
      "Speed: 0.3ms preprocess, 104.8ms inference, 0.3ms postprocess per image at shape (1, 3, 640, 640)\n",
      "\n",
      "0: 640x480 1 signer, 102.8ms\n",
      "Speed: 0.3ms preprocess, 102.8ms inference, 0.3ms postprocess per image at shape (1, 3, 640, 640)\n"
     ]
    },
    {
     "name": "stdout",
     "output_type": "stream",
     "text": [
      "in process: 305/1000\r"
     ]
    },
    {
     "name": "stderr",
     "output_type": "stream",
     "text": [
      "\n",
      "0: 640x448 1 content, 1 number, 1 sender, 98.0ms\n",
      "Speed: 0.3ms preprocess, 98.0ms inference, 2.4ms postprocess per image at shape (1, 3, 640, 640)\n",
      "\n",
      "0: 128x640 1 handwrite, 8.6ms\n",
      "Speed: 0.2ms preprocess, 8.6ms inference, 0.3ms postprocess per image at shape (1, 3, 640, 640)\n",
      "\n",
      "0: 640x448 1 signer, 97.6ms\n",
      "Speed: 0.3ms preprocess, 97.6ms inference, 0.3ms postprocess per image at shape (1, 3, 640, 640)\n"
     ]
    },
    {
     "name": "stdout",
     "output_type": "stream",
     "text": [
      "in process: 306/1000\r"
     ]
    },
    {
     "name": "stderr",
     "output_type": "stream",
     "text": [
      "\n",
      "0: 640x480 1 date, 1 number, 1 signer, 102.8ms\n",
      "Speed: 0.3ms preprocess, 102.8ms inference, 2.1ms postprocess per image at shape (1, 3, 640, 640)\n",
      "\n",
      "0: 128x640 1 handwrite, 8.7ms\n",
      "Speed: 0.2ms preprocess, 8.7ms inference, 0.3ms postprocess per image at shape (1, 3, 640, 640)\n",
      "\n",
      "0: 192x640 1 handwrite, 12.0ms\n",
      "Speed: 0.1ms preprocess, 12.0ms inference, 0.4ms postprocess per image at shape (1, 3, 640, 640)\n",
      "\n"
     ]
    },
    {
     "name": "stdout",
     "output_type": "stream",
     "text": [
      "in process: 307/1000\r"
     ]
    },
    {
     "name": "stderr",
     "output_type": "stream",
     "text": [
      "0: 640x480 (no detections), 105.3ms\n",
      "Speed: 0.3ms preprocess, 105.3ms inference, 0.2ms postprocess per image at shape (1, 3, 640, 640)\n",
      "\n",
      "0: 640x480 1 signer, 103.3ms\n",
      "Speed: 0.3ms preprocess, 103.3ms inference, 0.3ms postprocess per image at shape (1, 3, 640, 640)\n"
     ]
    },
    {
     "name": "stdout",
     "output_type": "stream",
     "text": [
      "in process: 308/1000\r"
     ]
    },
    {
     "name": "stderr",
     "output_type": "stream",
     "text": [
      "\n",
      "0: 640x480 1 date, 1 number, 1 sender, 1 signer, 106.1ms\n",
      "Speed: 0.3ms preprocess, 106.1ms inference, 0.3ms postprocess per image at shape (1, 3, 640, 640)\n",
      "\n",
      "0: 160x640 1 handwrite, 10.6ms\n",
      "Speed: 0.2ms preprocess, 10.6ms inference, 0.3ms postprocess per image at shape (1, 3, 640, 640)\n",
      "\n",
      "0: 128x640 1 handwrite, 8.8ms\n",
      "Speed: 0.1ms preprocess, 8.8ms inference, 0.3ms postprocess per image at shape (1, 3, 640, 640)\n"
     ]
    },
    {
     "name": "stdout",
     "output_type": "stream",
     "text": [
      "in process: 309/1000\r"
     ]
    },
    {
     "name": "stderr",
     "output_type": "stream",
     "text": [
      "\n",
      "0: 640x480 1 date, 1 number, 1 sender, 2 signers, 105.5ms\n",
      "Speed: 0.3ms preprocess, 105.5ms inference, 0.4ms postprocess per image at shape (1, 3, 640, 640)\n",
      "\n",
      "0: 192x640 1 handwrite, 12.8ms\n",
      "Speed: 0.2ms preprocess, 12.8ms inference, 0.3ms postprocess per image at shape (1, 3, 640, 640)\n",
      "\n",
      "0: 128x640 1 handwrite, 8.7ms\n",
      "Speed: 0.1ms preprocess, 8.7ms inference, 0.3ms postprocess per image at shape (1, 3, 640, 640)\n"
     ]
    },
    {
     "name": "stdout",
     "output_type": "stream",
     "text": [
      "in process: 310/1000\r"
     ]
    },
    {
     "name": "stderr",
     "output_type": "stream",
     "text": [
      "\n",
      "0: 640x480 1 date, 1 number, 2 senders, 1 signer, 104.9ms\n",
      "Speed: 0.3ms preprocess, 104.9ms inference, 2.0ms postprocess per image at shape (1, 3, 640, 640)\n",
      "\n",
      "0: 160x640 1 handwrite, 10.6ms\n",
      "Speed: 0.2ms preprocess, 10.6ms inference, 0.3ms postprocess per image at shape (1, 3, 640, 640)\n",
      "\n",
      "0: 192x640 1 handwrite, 11.3ms\n",
      "Speed: 0.1ms preprocess, 11.3ms inference, 0.3ms postprocess per image at shape (1, 3, 640, 640)\n",
      "\n"
     ]
    },
    {
     "name": "stdout",
     "output_type": "stream",
     "text": [
      "in process: 311/1000\r"
     ]
    },
    {
     "name": "stderr",
     "output_type": "stream",
     "text": [
      "0: 640x480 (no detections), 105.3ms\n",
      "Speed: 0.3ms preprocess, 105.3ms inference, 0.2ms postprocess per image at shape (1, 3, 640, 640)\n",
      "\n",
      "0: 640x480 (no detections), 105.2ms\n",
      "Speed: 0.3ms preprocess, 105.2ms inference, 0.2ms postprocess per image at shape (1, 3, 640, 640)\n",
      "\n"
     ]
    },
    {
     "name": "stdout",
     "output_type": "stream",
     "text": [
      "in process: 312/1000\r"
     ]
    },
    {
     "name": "stderr",
     "output_type": "stream",
     "text": [
      "0: 640x480 1 date, 1 number, 1 sender, 2 signers, 103.0ms\n",
      "Speed: 0.3ms preprocess, 103.0ms inference, 1.8ms postprocess per image at shape (1, 3, 640, 640)\n",
      "\n",
      "0: 224x640 2 typewrittens, 12.6ms\n",
      "Speed: 0.2ms preprocess, 12.6ms inference, 0.3ms postprocess per image at shape (1, 3, 640, 640)\n",
      "\n",
      "0: 192x640 1 typewritten, 11.0ms\n",
      "Speed: 0.3ms preprocess, 11.0ms inference, 0.3ms postprocess per image at shape (1, 3, 640, 640)\n",
      "\n"
     ]
    },
    {
     "name": "stdout",
     "output_type": "stream",
     "text": [
      "in process: 313/1000\r"
     ]
    },
    {
     "name": "stderr",
     "output_type": "stream",
     "text": [
      "0: 480x640 1 number, 1 sender, 106.4ms\n",
      "Speed: 0.3ms preprocess, 106.4ms inference, 0.3ms postprocess per image at shape (1, 3, 640, 640)\n",
      "\n",
      "0: 192x640 1 typewritten, 11.0ms\n",
      "Speed: 0.2ms preprocess, 11.0ms inference, 0.3ms postprocess per image at shape (1, 3, 640, 640)\n",
      "\n",
      "0: 640x480 (no detections), 111.3ms\n",
      "Speed: 0.3ms preprocess, 111.3ms inference, 0.3ms postprocess per image at shape (1, 3, 640, 640)\n"
     ]
    },
    {
     "name": "stdout",
     "output_type": "stream",
     "text": [
      "in process: 314/1000\r"
     ]
    },
    {
     "name": "stderr",
     "output_type": "stream",
     "text": [
      "\n",
      "0: 640x480 1 content, 1 date, 1 signer, 105.2ms\n",
      "Speed: 0.3ms preprocess, 105.2ms inference, 0.3ms postprocess per image at shape (1, 3, 640, 640)\n",
      "\n",
      "0: 256x640 2 handwrites, 14.4ms\n",
      "Speed: 0.2ms preprocess, 14.4ms inference, 0.5ms postprocess per image at shape (1, 3, 640, 640)\n"
     ]
    },
    {
     "name": "stdout",
     "output_type": "stream",
     "text": [
      "in process: 315/1000\r"
     ]
    },
    {
     "name": "stderr",
     "output_type": "stream",
     "text": [
      "\n",
      "0: 640x480 1 sender, 102.2ms\n",
      "Speed: 0.3ms preprocess, 102.2ms inference, 0.3ms postprocess per image at shape (1, 3, 640, 640)\n",
      "\n",
      "0: 640x480 1 signer, 102.4ms\n",
      "Speed: 0.3ms preprocess, 102.4ms inference, 0.3ms postprocess per image at shape (1, 3, 640, 640)\n"
     ]
    },
    {
     "name": "stdout",
     "output_type": "stream",
     "text": [
      "in process: 316/1000\r"
     ]
    },
    {
     "name": "stderr",
     "output_type": "stream",
     "text": [
      "\n",
      "0: 640x480 1 content, 1 date, 1 number, 1 sender, 1 signer, 104.5ms\n",
      "Speed: 0.3ms preprocess, 104.5ms inference, 2.0ms postprocess per image at shape (1, 3, 640, 640)\n",
      "\n",
      "0: 128x640 1 handwrite, 9.0ms\n",
      "Speed: 0.2ms preprocess, 9.0ms inference, 0.3ms postprocess per image at shape (1, 3, 640, 640)\n",
      "\n",
      "0: 192x640 1 typewritten, 11.2ms\n",
      "Speed: 0.2ms preprocess, 11.2ms inference, 0.3ms postprocess per image at shape (1, 3, 640, 640)\n"
     ]
    },
    {
     "name": "stdout",
     "output_type": "stream",
     "text": [
      "in process: 317/1000\r"
     ]
    },
    {
     "name": "stderr",
     "output_type": "stream",
     "text": [
      "\n",
      "0: 640x480 1 date, 1 number, 1 sender, 102.9ms\n",
      "Speed: 0.3ms preprocess, 102.9ms inference, 2.2ms postprocess per image at shape (1, 3, 640, 640)\n",
      "\n",
      "0: 160x640 1 handwrite, 10.7ms\n",
      "Speed: 0.2ms preprocess, 10.7ms inference, 0.3ms postprocess per image at shape (1, 3, 640, 640)\n",
      "\n",
      "0: 160x640 1 handwrite, 10.2ms\n",
      "Speed: 0.1ms preprocess, 10.2ms inference, 0.3ms postprocess per image at shape (1, 3, 640, 640)\n",
      "\n",
      "0: 640x480 1 signer, 103.0ms\n",
      "Speed: 0.3ms preprocess, 103.0ms inference, 0.3ms postprocess per image at shape (1, 3, 640, 640)\n"
     ]
    },
    {
     "name": "stdout",
     "output_type": "stream",
     "text": [
      "in process: 318/1000\r"
     ]
    },
    {
     "name": "stderr",
     "output_type": "stream",
     "text": [
      "\n",
      "0: 640x480 1 signer, 102.4ms\n",
      "Speed: 0.3ms preprocess, 102.4ms inference, 2.2ms postprocess per image at shape (1, 3, 640, 640)\n",
      "\n"
     ]
    },
    {
     "name": "stdout",
     "output_type": "stream",
     "text": [
      "in process: 319/1000\r"
     ]
    },
    {
     "name": "stderr",
     "output_type": "stream",
     "text": [
      "0: 640x480 1 content, 1 date, 1 number, 1 sender, 1 signer, 102.9ms\n",
      "Speed: 0.3ms preprocess, 102.9ms inference, 0.4ms postprocess per image at shape (1, 3, 640, 640)\n",
      "\n",
      "0: 160x640 1 handwrite, 10.4ms\n",
      "Speed: 0.2ms preprocess, 10.4ms inference, 0.3ms postprocess per image at shape (1, 3, 640, 640)\n",
      "\n",
      "0: 160x640 1 handwrite, 10.1ms\n",
      "Speed: 0.1ms preprocess, 10.1ms inference, 0.3ms postprocess per image at shape (1, 3, 640, 640)\n"
     ]
    },
    {
     "name": "stdout",
     "output_type": "stream",
     "text": [
      "in process: 320/1000\r"
     ]
    },
    {
     "name": "stderr",
     "output_type": "stream",
     "text": [
      "\n",
      "0: 640x480 1 signer, 103.1ms\n",
      "Speed: 0.3ms preprocess, 103.1ms inference, 1.7ms postprocess per image at shape (1, 3, 640, 640)\n"
     ]
    },
    {
     "name": "stdout",
     "output_type": "stream",
     "text": [
      "in process: 321/1000\r"
     ]
    },
    {
     "name": "stderr",
     "output_type": "stream",
     "text": [
      "\n",
      "0: 640x480 1 number, 1 sender, 1 signer, 106.3ms\n",
      "Speed: 0.3ms preprocess, 106.3ms inference, 0.3ms postprocess per image at shape (1, 3, 640, 640)\n",
      "\n",
      "0: 288x640 1 handwrite, 1 typewritten, 18.5ms\n",
      "Speed: 0.2ms preprocess, 18.5ms inference, 0.6ms postprocess per image at shape (1, 3, 640, 640)\n"
     ]
    },
    {
     "name": "stdout",
     "output_type": "stream",
     "text": [
      "in process: 322/1000\r"
     ]
    },
    {
     "name": "stderr",
     "output_type": "stream",
     "text": [
      "\n",
      "0: 640x480 1 date, 1 number, 1 sender, 1 signer, 105.0ms\n",
      "Speed: 0.3ms preprocess, 105.0ms inference, 1.7ms postprocess per image at shape (1, 3, 640, 640)\n",
      "\n",
      "0: 160x640 1 handwrite, 10.3ms\n",
      "Speed: 0.1ms preprocess, 10.3ms inference, 0.3ms postprocess per image at shape (1, 3, 640, 640)\n",
      "\n",
      "0: 160x640 1 handwrite, 10.4ms\n",
      "Speed: 0.2ms preprocess, 10.4ms inference, 0.3ms postprocess per image at shape (1, 3, 640, 640)\n",
      "\n"
     ]
    },
    {
     "name": "stdout",
     "output_type": "stream",
     "text": [
      "in process: 323/1000\r"
     ]
    },
    {
     "name": "stderr",
     "output_type": "stream",
     "text": [
      "0: 640x480 1 content, 1 date, 1 number, 1 sender, 103.0ms\n",
      "Speed: 0.3ms preprocess, 103.0ms inference, 0.4ms postprocess per image at shape (1, 3, 640, 640)\n",
      "\n",
      "0: 192x640 1 handwrite, 11.2ms\n",
      "Speed: 0.2ms preprocess, 11.2ms inference, 0.3ms postprocess per image at shape (1, 3, 640, 640)\n",
      "\n",
      "0: 128x640 1 handwrite, 8.5ms\n",
      "Speed: 0.1ms preprocess, 8.5ms inference, 0.3ms postprocess per image at shape (1, 3, 640, 640)\n",
      "\n",
      "0: 640x480 1 signer, 104.8ms\n",
      "Speed: 0.3ms preprocess, 104.8ms inference, 0.3ms postprocess per image at shape (1, 3, 640, 640)\n"
     ]
    },
    {
     "name": "stdout",
     "output_type": "stream",
     "text": [
      "in process: 324/1000\r"
     ]
    },
    {
     "name": "stderr",
     "output_type": "stream",
     "text": [
      "\n",
      "0: 640x480 1 sender, 1 signer, 103.0ms\n",
      "Speed: 0.3ms preprocess, 103.0ms inference, 2.6ms postprocess per image at shape (1, 3, 640, 640)\n",
      "\n"
     ]
    },
    {
     "name": "stdout",
     "output_type": "stream",
     "text": [
      "in process: 325/1000\r"
     ]
    },
    {
     "name": "stderr",
     "output_type": "stream",
     "text": [
      "0: 640x480 1 date, 1 number, 1 sender, 103.4ms\n",
      "Speed: 0.3ms preprocess, 103.4ms inference, 0.4ms postprocess per image at shape (1, 3, 640, 640)\n",
      "\n",
      "0: 160x640 1 handwrite, 10.5ms\n",
      "Speed: 0.2ms preprocess, 10.5ms inference, 0.3ms postprocess per image at shape (1, 3, 640, 640)\n",
      "\n",
      "0: 160x640 1 handwrite, 10.1ms\n",
      "Speed: 0.1ms preprocess, 10.1ms inference, 0.3ms postprocess per image at shape (1, 3, 640, 640)\n",
      "\n",
      "0: 640x480 (no detections), 102.8ms\n",
      "Speed: 0.3ms preprocess, 102.8ms inference, 0.2ms postprocess per image at shape (1, 3, 640, 640)\n",
      "\n"
     ]
    },
    {
     "name": "stdout",
     "output_type": "stream",
     "text": [
      "in process: 326/1000\r"
     ]
    },
    {
     "name": "stderr",
     "output_type": "stream",
     "text": [
      "0: 640x480 1 number, 1 signer, 102.8ms\n",
      "Speed: 0.3ms preprocess, 102.8ms inference, 1.9ms postprocess per image at shape (1, 3, 640, 640)\n",
      "\n",
      "0: 160x640 1 handwrite, 10.2ms\n",
      "Speed: 0.2ms preprocess, 10.2ms inference, 0.3ms postprocess per image at shape (1, 3, 640, 640)\n",
      "\n"
     ]
    },
    {
     "name": "stdout",
     "output_type": "stream",
     "text": [
      "in process: 327/1000\r"
     ]
    },
    {
     "name": "stderr",
     "output_type": "stream",
     "text": [
      "0: 640x480 1 content, 1 date, 1 number, 1 sender, 102.9ms\n",
      "Speed: 0.3ms preprocess, 102.9ms inference, 0.4ms postprocess per image at shape (1, 3, 640, 640)\n",
      "\n",
      "0: 160x640 1 handwrite, 10.3ms\n",
      "Speed: 0.2ms preprocess, 10.3ms inference, 0.3ms postprocess per image at shape (1, 3, 640, 640)\n",
      "\n",
      "0: 160x640 1 handwrite, 10.3ms\n",
      "Speed: 0.2ms preprocess, 10.3ms inference, 0.3ms postprocess per image at shape (1, 3, 640, 640)\n",
      "\n",
      "0: 640x480 1 signer, 104.4ms\n",
      "Speed: 0.3ms preprocess, 104.4ms inference, 0.3ms postprocess per image at shape (1, 3, 640, 640)\n"
     ]
    },
    {
     "name": "stdout",
     "output_type": "stream",
     "text": [
      "in process: 328/1000\r"
     ]
    },
    {
     "name": "stderr",
     "output_type": "stream",
     "text": [
      "\n",
      "0: 640x480 1 date, 1 number, 3 senders, 1 signer, 105.2ms\n",
      "Speed: 0.3ms preprocess, 105.2ms inference, 0.4ms postprocess per image at shape (1, 3, 640, 640)\n",
      "\n",
      "0: 160x640 1 handwrite, 10.3ms\n",
      "Speed: 0.2ms preprocess, 10.3ms inference, 0.3ms postprocess per image at shape (1, 3, 640, 640)\n",
      "\n",
      "0: 192x640 1 handwrite, 11.2ms\n",
      "Speed: 0.2ms preprocess, 11.2ms inference, 0.3ms postprocess per image at shape (1, 3, 640, 640)\n",
      "\n"
     ]
    },
    {
     "name": "stdout",
     "output_type": "stream",
     "text": [
      "in process: 329/1000\r"
     ]
    },
    {
     "name": "stderr",
     "output_type": "stream",
     "text": [
      "0: 640x480 1 content, 1 date, 1 number, 2 senders, 1 signer, 105.5ms\n",
      "Speed: 0.3ms preprocess, 105.5ms inference, 2.2ms postprocess per image at shape (1, 3, 640, 640)\n",
      "\n",
      "0: 192x640 1 typewritten, 10.9ms\n",
      "Speed: 0.2ms preprocess, 10.9ms inference, 0.3ms postprocess per image at shape (1, 3, 640, 640)\n",
      "\n",
      "0: 192x640 1 handwrite, 10.9ms\n",
      "Speed: 0.2ms preprocess, 10.9ms inference, 0.3ms postprocess per image at shape (1, 3, 640, 640)\n"
     ]
    },
    {
     "name": "stdout",
     "output_type": "stream",
     "text": [
      "in process: 330/1000\r"
     ]
    },
    {
     "name": "stderr",
     "output_type": "stream",
     "text": [
      "\n",
      "0: 640x480 1 content, 104.7ms\n",
      "Speed: 0.3ms preprocess, 104.7ms inference, 0.3ms postprocess per image at shape (1, 3, 640, 640)\n",
      "\n",
      "0: 640x480 (no detections), 105.2ms\n",
      "Speed: 0.3ms preprocess, 105.2ms inference, 0.2ms postprocess per image at shape (1, 3, 640, 640)\n",
      "\n",
      "0: 640x480 1 signer, 101.9ms\n",
      "Speed: 0.3ms preprocess, 101.9ms inference, 0.3ms postprocess per image at shape (1, 3, 640, 640)\n"
     ]
    },
    {
     "name": "stdout",
     "output_type": "stream",
     "text": [
      "in process: 331/1000\r"
     ]
    },
    {
     "name": "stderr",
     "output_type": "stream",
     "text": [
      "\n",
      "0: 640x448 1 content, 1 date, 1 number, 1 sender, 97.3ms\n",
      "Speed: 0.3ms preprocess, 97.3ms inference, 0.3ms postprocess per image at shape (1, 3, 640, 640)\n",
      "\n",
      "0: 128x640 1 handwrite, 8.8ms\n",
      "Speed: 0.1ms preprocess, 8.8ms inference, 0.3ms postprocess per image at shape (1, 3, 640, 640)\n",
      "\n",
      "0: 224x640 1 handwrite, 12.4ms\n",
      "Speed: 0.1ms preprocess, 12.4ms inference, 0.3ms postprocess per image at shape (1, 3, 640, 640)\n",
      "\n",
      "0: 640x480 (no detections), 102.8ms\n",
      "Speed: 0.3ms preprocess, 102.8ms inference, 0.2ms postprocess per image at shape (1, 3, 640, 640)\n",
      "\n",
      "0: 640x480 1 signer, 102.5ms\n",
      "Speed: 0.3ms preprocess, 102.5ms inference, 0.3ms postprocess per image at shape (1, 3, 640, 640)\n"
     ]
    },
    {
     "name": "stdout",
     "output_type": "stream",
     "text": [
      "in process: 332/1000\r"
     ]
    },
    {
     "name": "stderr",
     "output_type": "stream",
     "text": [
      "\n",
      "0: 640x480 1 content, 1 date, 1 number, 1 sender, 1 signer, 105.3ms\n",
      "Speed: 0.3ms preprocess, 105.3ms inference, 0.5ms postprocess per image at shape (1, 3, 640, 640)\n",
      "\n",
      "0: 160x640 1 handwrite, 10.4ms\n",
      "Speed: 0.2ms preprocess, 10.4ms inference, 0.3ms postprocess per image at shape (1, 3, 640, 640)\n",
      "\n",
      "0: 192x640 1 handwrite, 11.3ms\n",
      "Speed: 0.2ms preprocess, 11.3ms inference, 0.3ms postprocess per image at shape (1, 3, 640, 640)\n",
      "\n"
     ]
    },
    {
     "name": "stdout",
     "output_type": "stream",
     "text": [
      "in process: 333/1000\r"
     ]
    },
    {
     "name": "stderr",
     "output_type": "stream",
     "text": [
      "0: 640x480 1 content, 1 date, 1 number, 1 sender, 102.1ms\n",
      "Speed: 0.3ms preprocess, 102.1ms inference, 0.4ms postprocess per image at shape (1, 3, 640, 640)\n",
      "\n",
      "0: 128x640 1 handwrite, 9.1ms\n",
      "Speed: 0.2ms preprocess, 9.1ms inference, 0.3ms postprocess per image at shape (1, 3, 640, 640)\n",
      "\n",
      "0: 160x640 1 handwrite, 10.5ms\n",
      "Speed: 0.1ms preprocess, 10.5ms inference, 0.3ms postprocess per image at shape (1, 3, 640, 640)\n",
      "\n",
      "0: 640x480 1 signer, 105.4ms\n",
      "Speed: 0.3ms preprocess, 105.4ms inference, 0.3ms postprocess per image at shape (1, 3, 640, 640)\n",
      "\n"
     ]
    },
    {
     "name": "stdout",
     "output_type": "stream",
     "text": [
      "in process: 334/1000\r"
     ]
    },
    {
     "name": "stderr",
     "output_type": "stream",
     "text": [
      "0: 640x480 1 date, 1 number, 3 senders, 1 signer, 104.7ms\n",
      "Speed: 0.3ms preprocess, 104.7ms inference, 0.4ms postprocess per image at shape (1, 3, 640, 640)\n",
      "\n",
      "0: 160x640 1 handwrite, 14.5ms\n",
      "Speed: 0.2ms preprocess, 14.5ms inference, 0.6ms postprocess per image at shape (1, 3, 640, 640)\n",
      "\n",
      "0: 160x640 1 handwrite, 10.4ms\n",
      "Speed: 0.2ms preprocess, 10.4ms inference, 0.3ms postprocess per image at shape (1, 3, 640, 640)\n",
      "\n"
     ]
    },
    {
     "name": "stdout",
     "output_type": "stream",
     "text": [
      "in process: 335/1000\r"
     ]
    },
    {
     "name": "stderr",
     "output_type": "stream",
     "text": [
      "0: 640x480 1 date, 1 number, 1 sender, 1 signer, 104.9ms\n",
      "Speed: 0.3ms preprocess, 104.9ms inference, 1.9ms postprocess per image at shape (1, 3, 640, 640)\n",
      "\n",
      "0: 192x640 1 handwrite, 11.1ms\n",
      "Speed: 0.2ms preprocess, 11.1ms inference, 0.3ms postprocess per image at shape (1, 3, 640, 640)\n",
      "\n",
      "0: 192x640 1 handwrite, 11.6ms\n",
      "Speed: 0.2ms preprocess, 11.6ms inference, 0.3ms postprocess per image at shape (1, 3, 640, 640)\n"
     ]
    },
    {
     "name": "stdout",
     "output_type": "stream",
     "text": [
      "in process: 336/1000\r"
     ]
    },
    {
     "name": "stderr",
     "output_type": "stream",
     "text": [
      "\n",
      "0: 640x480 1 content, 1 sender, 109.2ms\n",
      "Speed: 0.3ms preprocess, 109.2ms inference, 0.3ms postprocess per image at shape (1, 3, 640, 640)\n",
      "\n",
      "0: 640x480 1 signer, 102.9ms\n",
      "Speed: 0.3ms preprocess, 102.9ms inference, 0.3ms postprocess per image at shape (1, 3, 640, 640)\n"
     ]
    },
    {
     "name": "stdout",
     "output_type": "stream",
     "text": [
      "in process: 337/1000\r"
     ]
    },
    {
     "name": "stderr",
     "output_type": "stream",
     "text": [
      "\n",
      "0: 640x480 1 date, 1 number, 1 sender, 103.2ms\n",
      "Speed: 0.3ms preprocess, 103.2ms inference, 0.3ms postprocess per image at shape (1, 3, 640, 640)\n",
      "\n",
      "0: 96x640 1 handwrite, 7.6ms\n",
      "Speed: 0.2ms preprocess, 7.6ms inference, 0.3ms postprocess per image at shape (1, 3, 640, 640)\n",
      "\n",
      "0: 384x640 1 handwrite, 16.7ms\n",
      "Speed: 0.1ms preprocess, 16.7ms inference, 0.3ms postprocess per image at shape (1, 3, 640, 640)\n",
      "\n",
      "0: 640x480 (no detections), 103.0ms\n",
      "Speed: 0.3ms preprocess, 103.0ms inference, 0.2ms postprocess per image at shape (1, 3, 640, 640)\n",
      "\n",
      "0: 640x480 1 signer, 104.9ms\n",
      "Speed: 0.3ms preprocess, 104.9ms inference, 0.3ms postprocess per image at shape (1, 3, 640, 640)\n"
     ]
    },
    {
     "name": "stdout",
     "output_type": "stream",
     "text": [
      "in process: 338/1000\r"
     ]
    },
    {
     "name": "stderr",
     "output_type": "stream",
     "text": [
      "\n",
      "0: 640x480 1 date, 1 number, 1 sender, 1 signer, 102.4ms\n",
      "Speed: 0.3ms preprocess, 102.4ms inference, 1.7ms postprocess per image at shape (1, 3, 640, 640)\n",
      "\n",
      "0: 224x640 1 handwrite, 12.5ms\n",
      "Speed: 0.2ms preprocess, 12.5ms inference, 0.3ms postprocess per image at shape (1, 3, 640, 640)\n",
      "\n",
      "0: 288x640 1 typewritten, 14.6ms\n",
      "Speed: 0.1ms preprocess, 14.6ms inference, 0.3ms postprocess per image at shape (1, 3, 640, 640)\n"
     ]
    },
    {
     "name": "stdout",
     "output_type": "stream",
     "text": [
      "in process: 339/1000\r"
     ]
    },
    {
     "name": "stderr",
     "output_type": "stream",
     "text": [
      "\n",
      "0: 640x480 1 number, 1 signer, 102.1ms\n",
      "Speed: 0.3ms preprocess, 102.1ms inference, 0.3ms postprocess per image at shape (1, 3, 640, 640)\n",
      "\n",
      "0: 160x640 1 handwrite, 10.4ms\n",
      "Speed: 0.1ms preprocess, 10.4ms inference, 0.3ms postprocess per image at shape (1, 3, 640, 640)\n",
      "\n"
     ]
    },
    {
     "name": "stdout",
     "output_type": "stream",
     "text": [
      "in process: 340/1000\r"
     ]
    },
    {
     "name": "stderr",
     "output_type": "stream",
     "text": [
      "0: 640x480 1 content, 1 date, 1 number, 2 senders, 101.8ms\n",
      "Speed: 0.3ms preprocess, 101.8ms inference, 0.4ms postprocess per image at shape (1, 3, 640, 640)\n",
      "\n",
      "0: 160x640 1 handwrite, 10.4ms\n",
      "Speed: 0.2ms preprocess, 10.4ms inference, 0.3ms postprocess per image at shape (1, 3, 640, 640)\n",
      "\n",
      "0: 160x640 1 handwrite, 10.2ms\n",
      "Speed: 0.1ms preprocess, 10.2ms inference, 0.3ms postprocess per image at shape (1, 3, 640, 640)\n",
      "\n",
      "0: 640x480 1 signer, 104.6ms\n",
      "Speed: 0.3ms preprocess, 104.6ms inference, 0.3ms postprocess per image at shape (1, 3, 640, 640)\n"
     ]
    },
    {
     "name": "stdout",
     "output_type": "stream",
     "text": [
      "in process: 341/1000\r"
     ]
    },
    {
     "name": "stderr",
     "output_type": "stream",
     "text": [
      "\n",
      "0: 640x480 1 date, 1 number, 1 sender, 1 signer, 104.1ms\n",
      "Speed: 0.3ms preprocess, 104.1ms inference, 0.4ms postprocess per image at shape (1, 3, 640, 640)\n",
      "\n",
      "0: 160x640 1 handwrite, 10.3ms\n",
      "Speed: 0.2ms preprocess, 10.3ms inference, 0.3ms postprocess per image at shape (1, 3, 640, 640)\n",
      "\n",
      "0: 128x640 1 handwrite, 8.6ms\n",
      "Speed: 0.1ms preprocess, 8.6ms inference, 0.3ms postprocess per image at shape (1, 3, 640, 640)\n",
      "\n"
     ]
    },
    {
     "name": "stdout",
     "output_type": "stream",
     "text": [
      "in process: 342/1000\r"
     ]
    },
    {
     "name": "stderr",
     "output_type": "stream",
     "text": [
      "0: 640x480 2 dates, 1 number, 1 sender, 1 signer, 105.0ms\n",
      "Speed: 0.3ms preprocess, 105.0ms inference, 1.8ms postprocess per image at shape (1, 3, 640, 640)\n",
      "\n",
      "0: 128x640 1 handwrite, 8.5ms\n",
      "Speed: 0.2ms preprocess, 8.5ms inference, 0.3ms postprocess per image at shape (1, 3, 640, 640)\n",
      "\n",
      "0: 160x640 1 handwrite, 10.3ms\n",
      "Speed: 0.1ms preprocess, 10.3ms inference, 0.3ms postprocess per image at shape (1, 3, 640, 640)\n",
      "\n",
      "0: 128x640 1 handwrite, 8.6ms\n",
      "Speed: 0.1ms preprocess, 8.6ms inference, 0.3ms postprocess per image at shape (1, 3, 640, 640)\n"
     ]
    },
    {
     "name": "stdout",
     "output_type": "stream",
     "text": [
      "in process: 343/1000\r"
     ]
    },
    {
     "name": "stderr",
     "output_type": "stream",
     "text": [
      "\n",
      "0: 640x480 1 date, 1 number, 1 sender, 1 signer, 102.3ms\n",
      "Speed: 0.3ms preprocess, 102.3ms inference, 0.3ms postprocess per image at shape (1, 3, 640, 640)\n",
      "\n",
      "0: 192x640 1 typewritten, 11.1ms\n",
      "Speed: 0.2ms preprocess, 11.1ms inference, 0.3ms postprocess per image at shape (1, 3, 640, 640)\n",
      "\n",
      "0: 128x640 1 typewritten, 8.9ms\n",
      "Speed: 0.2ms preprocess, 8.9ms inference, 0.3ms postprocess per image at shape (1, 3, 640, 640)\n",
      "\n"
     ]
    },
    {
     "name": "stdout",
     "output_type": "stream",
     "text": [
      "in process: 344/1000\r"
     ]
    },
    {
     "name": "stderr",
     "output_type": "stream",
     "text": [
      "0: 640x480 1 content, 1 date, 1 number, 1 sender, 1 signer, 102.5ms\n",
      "Speed: 0.3ms preprocess, 102.5ms inference, 0.4ms postprocess per image at shape (1, 3, 640, 640)\n",
      "\n",
      "0: 160x640 1 handwrite, 10.4ms\n",
      "Speed: 0.2ms preprocess, 10.4ms inference, 0.3ms postprocess per image at shape (1, 3, 640, 640)\n",
      "\n",
      "0: 224x640 2 handwrites, 12.2ms\n",
      "Speed: 0.1ms preprocess, 12.2ms inference, 0.3ms postprocess per image at shape (1, 3, 640, 640)\n",
      "\n"
     ]
    },
    {
     "name": "stdout",
     "output_type": "stream",
     "text": [
      "in process: 345/1000\r"
     ]
    },
    {
     "name": "stderr",
     "output_type": "stream",
     "text": [
      "0: 640x480 1 content, 1 date, 1 number, 1 sender, 1 signer, 104.8ms\n",
      "Speed: 0.3ms preprocess, 104.8ms inference, 0.4ms postprocess per image at shape (1, 3, 640, 640)\n",
      "\n",
      "0: 160x640 1 handwrite, 10.4ms\n",
      "Speed: 0.2ms preprocess, 10.4ms inference, 0.3ms postprocess per image at shape (1, 3, 640, 640)\n",
      "\n",
      "0: 160x640 1 handwrite, 10.1ms\n",
      "Speed: 0.1ms preprocess, 10.1ms inference, 0.3ms postprocess per image at shape (1, 3, 640, 640)\n",
      "\n"
     ]
    },
    {
     "name": "stdout",
     "output_type": "stream",
     "text": [
      "in process: 346/1000\r"
     ]
    },
    {
     "name": "stderr",
     "output_type": "stream",
     "text": [
      "0: 640x480 (no detections), 102.3ms\n",
      "Speed: 0.3ms preprocess, 102.3ms inference, 0.2ms postprocess per image at shape (1, 3, 640, 640)\n",
      "\n",
      "0: 640x480 (no detections), 104.9ms\n",
      "Speed: 0.3ms preprocess, 104.9ms inference, 0.2ms postprocess per image at shape (1, 3, 640, 640)\n"
     ]
    },
    {
     "name": "stdout",
     "output_type": "stream",
     "text": [
      "in process: 347/1000\r"
     ]
    },
    {
     "name": "stderr",
     "output_type": "stream",
     "text": [
      "\n",
      "0: 640x480 1 date, 1 number, 1 sender, 106.1ms\n",
      "Speed: 0.4ms preprocess, 106.1ms inference, 1.5ms postprocess per image at shape (1, 3, 640, 640)\n",
      "\n",
      "0: 96x640 1 typewritten, 7.7ms\n",
      "Speed: 0.2ms preprocess, 7.7ms inference, 0.3ms postprocess per image at shape (1, 3, 640, 640)\n",
      "\n",
      "0: 224x640 1 typewritten, 12.4ms\n",
      "Speed: 0.2ms preprocess, 12.4ms inference, 0.3ms postprocess per image at shape (1, 3, 640, 640)\n",
      "\n",
      "0: 640x480 (no detections), 104.9ms\n",
      "Speed: 0.3ms preprocess, 104.9ms inference, 0.2ms postprocess per image at shape (1, 3, 640, 640)\n",
      "\n",
      "0: 640x480 (no detections), 104.4ms\n",
      "Speed: 0.3ms preprocess, 104.4ms inference, 0.2ms postprocess per image at shape (1, 3, 640, 640)\n",
      "\n",
      "0: 640x480 1 sender, 104.6ms\n",
      "Speed: 0.3ms preprocess, 104.6ms inference, 0.3ms postprocess per image at shape (1, 3, 640, 640)\n",
      "\n",
      "0: 640x480 1 sender, 1 signer, 103.1ms\n",
      "Speed: 0.3ms preprocess, 103.1ms inference, 0.3ms postprocess per image at shape (1, 3, 640, 640)\n"
     ]
    },
    {
     "name": "stdout",
     "output_type": "stream",
     "text": [
      "in process: 348/1000\r"
     ]
    },
    {
     "name": "stderr",
     "output_type": "stream",
     "text": [
      "\n",
      "0: 640x480 1 content, 1 date, 1 sender, 103.1ms\n",
      "Speed: 0.3ms preprocess, 103.1ms inference, 0.3ms postprocess per image at shape (1, 3, 640, 640)\n",
      "\n",
      "0: 128x640 1 handwrite, 8.9ms\n",
      "Speed: 0.2ms preprocess, 8.9ms inference, 0.3ms postprocess per image at shape (1, 3, 640, 640)\n",
      "\n",
      "0: 640x480 1 signer, 105.0ms\n",
      "Speed: 0.3ms preprocess, 105.0ms inference, 0.3ms postprocess per image at shape (1, 3, 640, 640)\n"
     ]
    },
    {
     "name": "stdout",
     "output_type": "stream",
     "text": [
      "in process: 349/1000\r"
     ]
    },
    {
     "name": "stderr",
     "output_type": "stream",
     "text": [
      "\n",
      "0: 640x480 (no detections), 103.1ms\n",
      "Speed: 0.3ms preprocess, 103.1ms inference, 2.2ms postprocess per image at shape (1, 3, 640, 640)\n",
      "\n",
      "0: 640x480 1 signer, 103.0ms\n",
      "Speed: 0.3ms preprocess, 103.0ms inference, 0.3ms postprocess per image at shape (1, 3, 640, 640)\n"
     ]
    },
    {
     "name": "stdout",
     "output_type": "stream",
     "text": [
      "in process: 350/1000\r"
     ]
    },
    {
     "name": "stderr",
     "output_type": "stream",
     "text": [
      "\n",
      "0: 640x480 1 date, 1 number, 1 sender, 1 signer, 104.9ms\n",
      "Speed: 0.3ms preprocess, 104.9ms inference, 2.8ms postprocess per image at shape (1, 3, 640, 640)\n",
      "\n",
      "0: 160x640 1 typewritten, 10.4ms\n",
      "Speed: 0.2ms preprocess, 10.4ms inference, 0.3ms postprocess per image at shape (1, 3, 640, 640)\n",
      "\n",
      "0: 128x640 1 handwrite, 1 typewritten, 12.3ms\n",
      "Speed: 0.2ms preprocess, 12.3ms inference, 0.6ms postprocess per image at shape (1, 3, 640, 640)\n"
     ]
    },
    {
     "name": "stdout",
     "output_type": "stream",
     "text": [
      "in process: 351/1000\r"
     ]
    },
    {
     "name": "stderr",
     "output_type": "stream",
     "text": [
      "\n",
      "0: 640x480 1 signer, 102.7ms\n",
      "Speed: 0.3ms preprocess, 102.7ms inference, 0.3ms postprocess per image at shape (1, 3, 640, 640)\n"
     ]
    },
    {
     "name": "stdout",
     "output_type": "stream",
     "text": [
      "in process: 352/1000\r"
     ]
    },
    {
     "name": "stderr",
     "output_type": "stream",
     "text": [
      "\n",
      "0: 640x480 1 date, 1 number, 1 sender, 103.5ms\n",
      "Speed: 0.3ms preprocess, 103.5ms inference, 2.0ms postprocess per image at shape (1, 3, 640, 640)\n",
      "\n",
      "0: 160x640 1 handwrite, 11.3ms\n",
      "Speed: 0.2ms preprocess, 11.3ms inference, 0.4ms postprocess per image at shape (1, 3, 640, 640)\n",
      "\n",
      "0: 128x640 1 handwrite, 9.3ms\n",
      "Speed: 0.1ms preprocess, 9.3ms inference, 0.4ms postprocess per image at shape (1, 3, 640, 640)\n",
      "\n",
      "0: 640x480 1 signer, 102.2ms\n",
      "Speed: 0.3ms preprocess, 102.2ms inference, 0.3ms postprocess per image at shape (1, 3, 640, 640)\n"
     ]
    },
    {
     "name": "stdout",
     "output_type": "stream",
     "text": [
      "in process: 353/1000\r"
     ]
    },
    {
     "name": "stderr",
     "output_type": "stream",
     "text": [
      "\n",
      "0: 640x480 1 date, 1 number, 1 sender, 103.3ms\n",
      "Speed: 0.3ms preprocess, 103.3ms inference, 1.8ms postprocess per image at shape (1, 3, 640, 640)\n",
      "\n",
      "0: 128x640 1 handwrite, 8.8ms\n",
      "Speed: 0.2ms preprocess, 8.8ms inference, 0.3ms postprocess per image at shape (1, 3, 640, 640)\n",
      "\n",
      "0: 192x640 2 handwrites, 1 typewritten, 11.2ms\n",
      "Speed: 0.1ms preprocess, 11.2ms inference, 0.3ms postprocess per image at shape (1, 3, 640, 640)\n",
      "\n",
      "0: 640x480 (no detections), 103.0ms\n",
      "Speed: 0.3ms preprocess, 103.0ms inference, 0.2ms postprocess per image at shape (1, 3, 640, 640)\n",
      "\n",
      "0: 640x480 1 signer, 104.2ms\n",
      "Speed: 14.3ms preprocess, 104.2ms inference, 0.3ms postprocess per image at shape (1, 3, 640, 640)\n"
     ]
    },
    {
     "name": "stdout",
     "output_type": "stream",
     "text": [
      "in process: 354/1000\r"
     ]
    },
    {
     "name": "stderr",
     "output_type": "stream",
     "text": [
      "\n",
      "0: 640x480 1 content, 1 signer, 102.2ms\n",
      "Speed: 0.3ms preprocess, 102.2ms inference, 1.7ms postprocess per image at shape (1, 3, 640, 640)\n"
     ]
    },
    {
     "name": "stdout",
     "output_type": "stream",
     "text": [
      "in process: 355/1000\r"
     ]
    },
    {
     "name": "stderr",
     "output_type": "stream",
     "text": [
      "\n",
      "0: 640x480 1 date, 1 number, 1 sender, 1 signer, 102.2ms\n",
      "Speed: 0.3ms preprocess, 102.2ms inference, 0.4ms postprocess per image at shape (1, 3, 640, 640)\n",
      "\n",
      "0: 192x640 1 typewritten, 15.2ms\n",
      "Speed: 0.2ms preprocess, 15.2ms inference, 0.6ms postprocess per image at shape (1, 3, 640, 640)\n",
      "\n",
      "0: 128x640 1 typewritten, 9.4ms\n",
      "Speed: 0.2ms preprocess, 9.4ms inference, 0.4ms postprocess per image at shape (1, 3, 640, 640)\n"
     ]
    },
    {
     "name": "stdout",
     "output_type": "stream",
     "text": [
      "in process: 356/1000\r"
     ]
    },
    {
     "name": "stderr",
     "output_type": "stream",
     "text": [
      "\n",
      "0: 640x480 1 content, 1 date, 1 number, 1 sender, 1 signer, 104.8ms\n",
      "Speed: 0.3ms preprocess, 104.8ms inference, 2.1ms postprocess per image at shape (1, 3, 640, 640)\n",
      "\n",
      "0: 160x640 1 handwrite, 10.9ms\n",
      "Speed: 0.2ms preprocess, 10.9ms inference, 0.3ms postprocess per image at shape (1, 3, 640, 640)\n",
      "\n",
      "0: 192x640 1 handwrite, 11.4ms\n",
      "Speed: 0.2ms preprocess, 11.4ms inference, 0.4ms postprocess per image at shape (1, 3, 640, 640)\n",
      "\n"
     ]
    },
    {
     "name": "stdout",
     "output_type": "stream",
     "text": [
      "in process: 357/1000\r"
     ]
    },
    {
     "name": "stderr",
     "output_type": "stream",
     "text": [
      "0: 640x480 1 date, 1 number, 1 sender, 103.1ms\n",
      "Speed: 0.3ms preprocess, 103.1ms inference, 0.4ms postprocess per image at shape (1, 3, 640, 640)\n",
      "\n",
      "0: 160x640 1 handwrite, 14.4ms\n",
      "Speed: 0.2ms preprocess, 14.4ms inference, 0.6ms postprocess per image at shape (1, 3, 640, 640)\n",
      "\n",
      "0: 192x640 1 typewritten, 15.5ms\n",
      "Speed: 0.1ms preprocess, 15.5ms inference, 0.6ms postprocess per image at shape (1, 3, 640, 640)\n",
      "\n",
      "0: 640x480 1 signer, 102.9ms\n",
      "Speed: 0.3ms preprocess, 102.9ms inference, 0.3ms postprocess per image at shape (1, 3, 640, 640)\n",
      "\n"
     ]
    },
    {
     "name": "stdout",
     "output_type": "stream",
     "text": [
      "in process: 358/1000\r"
     ]
    },
    {
     "name": "stderr",
     "output_type": "stream",
     "text": [
      "0: 640x480 1 date, 1 number, 1 sender, 1 signer, 104.8ms\n",
      "Speed: 0.3ms preprocess, 104.8ms inference, 0.3ms postprocess per image at shape (1, 3, 640, 640)\n",
      "\n",
      "0: 128x640 1 handwrite, 8.6ms\n",
      "Speed: 0.2ms preprocess, 8.6ms inference, 0.3ms postprocess per image at shape (1, 3, 640, 640)\n",
      "\n",
      "0: 160x640 1 handwrite, 10.4ms\n",
      "Speed: 0.1ms preprocess, 10.4ms inference, 0.3ms postprocess per image at shape (1, 3, 640, 640)\n",
      "\n"
     ]
    },
    {
     "name": "stdout",
     "output_type": "stream",
     "text": [
      "in process: 359/1000\r"
     ]
    },
    {
     "name": "stderr",
     "output_type": "stream",
     "text": [
      "0: 640x480 (no detections), 104.3ms\n",
      "Speed: 0.3ms preprocess, 104.3ms inference, 1.3ms postprocess per image at shape (1, 3, 640, 640)\n",
      "\n",
      "0: 640x480 1 signer, 107.3ms\n",
      "Speed: 0.3ms preprocess, 107.3ms inference, 0.3ms postprocess per image at shape (1, 3, 640, 640)\n",
      "\n"
     ]
    },
    {
     "name": "stdout",
     "output_type": "stream",
     "text": [
      "in process: 360/1000\r"
     ]
    },
    {
     "name": "stderr",
     "output_type": "stream",
     "text": [
      "0: 640x480 1 content, 1 date, 1 number, 1 sender, 1 signer, 105.4ms\n",
      "Speed: 0.3ms preprocess, 105.4ms inference, 2.0ms postprocess per image at shape (1, 3, 640, 640)\n",
      "\n",
      "0: 160x640 1 handwrite, 10.2ms\n",
      "Speed: 0.2ms preprocess, 10.2ms inference, 0.3ms postprocess per image at shape (1, 3, 640, 640)\n",
      "\n",
      "0: 160x640 1 handwrite, 11.1ms\n",
      "Speed: 0.2ms preprocess, 11.1ms inference, 0.3ms postprocess per image at shape (1, 3, 640, 640)\n"
     ]
    },
    {
     "name": "stdout",
     "output_type": "stream",
     "text": [
      "in process: 361/1000\r"
     ]
    },
    {
     "name": "stderr",
     "output_type": "stream",
     "text": [
      "\n",
      "0: 640x480 1 content, 1 date, 1 number, 1 sender, 1 signer, 104.6ms\n",
      "Speed: 0.3ms preprocess, 104.6ms inference, 0.3ms postprocess per image at shape (1, 3, 640, 640)\n",
      "\n",
      "0: 128x640 1 handwrite, 8.6ms\n",
      "Speed: 0.2ms preprocess, 8.6ms inference, 0.3ms postprocess per image at shape (1, 3, 640, 640)\n",
      "\n",
      "0: 160x640 1 handwrite, 10.3ms\n",
      "Speed: 0.2ms preprocess, 10.3ms inference, 0.3ms postprocess per image at shape (1, 3, 640, 640)\n"
     ]
    },
    {
     "name": "stdout",
     "output_type": "stream",
     "text": [
      "in process: 362/1000\r"
     ]
    },
    {
     "name": "stderr",
     "output_type": "stream",
     "text": [
      "\n",
      "0: 640x480 3 senders, 105.4ms\n",
      "Speed: 0.3ms preprocess, 105.4ms inference, 1.6ms postprocess per image at shape (1, 3, 640, 640)\n",
      "\n",
      "0: 640x480 1 signer, 104.3ms\n",
      "Speed: 0.3ms preprocess, 104.3ms inference, 0.3ms postprocess per image at shape (1, 3, 640, 640)\n",
      "\n"
     ]
    },
    {
     "name": "stdout",
     "output_type": "stream",
     "text": [
      "in process: 363/1000\r"
     ]
    },
    {
     "name": "stderr",
     "output_type": "stream",
     "text": [
      "0: 640x480 1 content, 1 date, 1 number, 1 sender, 1 signer, 102.9ms\n",
      "Speed: 0.3ms preprocess, 102.9ms inference, 1.5ms postprocess per image at shape (1, 3, 640, 640)\n",
      "\n",
      "0: 128x640 1 handwrite, 10.6ms\n",
      "Speed: 0.2ms preprocess, 10.6ms inference, 0.3ms postprocess per image at shape (1, 3, 640, 640)\n",
      "\n",
      "0: 224x640 1 typewritten, 11.9ms\n",
      "Speed: 0.1ms preprocess, 11.9ms inference, 0.3ms postprocess per image at shape (1, 3, 640, 640)\n"
     ]
    },
    {
     "name": "stdout",
     "output_type": "stream",
     "text": [
      "in process: 364/1000\r"
     ]
    },
    {
     "name": "stderr",
     "output_type": "stream",
     "text": [
      "\n",
      "0: 480x640 1 sender, 103.9ms\n",
      "Speed: 0.3ms preprocess, 103.9ms inference, 1.8ms postprocess per image at shape (1, 3, 640, 640)\n",
      "\n",
      "0: 640x480 (no detections), 105.6ms\n",
      "Speed: 0.3ms preprocess, 105.6ms inference, 0.2ms postprocess per image at shape (1, 3, 640, 640)\n",
      "\n",
      "0: 640x480 2 senders, 106.0ms\n",
      "Speed: 0.3ms preprocess, 106.0ms inference, 0.3ms postprocess per image at shape (1, 3, 640, 640)\n",
      "\n",
      "0: 640x480 1 content, 3 senders, 1 signer, 114.1ms\n",
      "Speed: 0.3ms preprocess, 114.1ms inference, 0.4ms postprocess per image at shape (1, 3, 640, 640)\n"
     ]
    },
    {
     "name": "stdout",
     "output_type": "stream",
     "text": [
      "in process: 365/1000\r"
     ]
    },
    {
     "name": "stderr",
     "output_type": "stream",
     "text": [
      "\n",
      "0: 640x480 1 sender, 1 signer, 105.1ms\n",
      "Speed: 0.3ms preprocess, 105.1ms inference, 0.4ms postprocess per image at shape (1, 3, 640, 640)\n"
     ]
    },
    {
     "name": "stdout",
     "output_type": "stream",
     "text": [
      "in process: 366/1000\r"
     ]
    },
    {
     "name": "stderr",
     "output_type": "stream",
     "text": [
      "\n",
      "0: 640x480 1 content, 1 number, 1 signer, 105.0ms\n",
      "Speed: 0.3ms preprocess, 105.0ms inference, 1.6ms postprocess per image at shape (1, 3, 640, 640)\n",
      "\n",
      "0: 256x640 2 handwrites, 12.8ms\n",
      "Speed: 0.1ms preprocess, 12.8ms inference, 0.3ms postprocess per image at shape (1, 3, 640, 640)\n"
     ]
    },
    {
     "name": "stdout",
     "output_type": "stream",
     "text": [
      "in process: 367/1000\r"
     ]
    },
    {
     "name": "stderr",
     "output_type": "stream",
     "text": [
      "\n",
      "0: 640x480 1 content, 1 date, 1 number, 1 sender, 1 signer, 104.1ms\n",
      "Speed: 0.3ms preprocess, 104.1ms inference, 0.4ms postprocess per image at shape (1, 3, 640, 640)\n",
      "\n",
      "0: 256x640 1 handwrite, 14.1ms\n",
      "Speed: 0.2ms preprocess, 14.1ms inference, 0.3ms postprocess per image at shape (1, 3, 640, 640)\n",
      "\n",
      "0: 160x640 1 handwrite, 10.5ms\n",
      "Speed: 0.1ms preprocess, 10.5ms inference, 0.3ms postprocess per image at shape (1, 3, 640, 640)\n",
      "\n",
      "0: 640x480 (no detections), 104.7ms\n",
      "Speed: 0.3ms preprocess, 104.7ms inference, 1.4ms postprocess per image at shape (1, 3, 640, 640)\n"
     ]
    },
    {
     "name": "stdout",
     "output_type": "stream",
     "text": [
      "in process: 368/1000\r",
      "in process: 369/1000\r"
     ]
    },
    {
     "name": "stderr",
     "output_type": "stream",
     "text": [
      "\n",
      "0: 640x480 1 date, 1 number, 1 sender, 104.7ms\n",
      "Speed: 0.3ms preprocess, 104.7ms inference, 0.3ms postprocess per image at shape (1, 3, 640, 640)\n",
      "\n",
      "0: 160x640 1 handwrite, 14.3ms\n",
      "Speed: 0.2ms preprocess, 14.3ms inference, 0.6ms postprocess per image at shape (1, 3, 640, 640)\n",
      "\n",
      "0: 192x640 1 handwrite, 15.6ms\n",
      "Speed: 0.1ms preprocess, 15.6ms inference, 0.6ms postprocess per image at shape (1, 3, 640, 640)\n",
      "\n"
     ]
    },
    {
     "name": "stdout",
     "output_type": "stream",
     "text": [
      "in process: 370/1000\r"
     ]
    },
    {
     "name": "stderr",
     "output_type": "stream",
     "text": [
      "0: 640x480 1 content, 1 date, 1 number, 102.5ms\n",
      "Speed: 0.3ms preprocess, 102.5ms inference, 0.3ms postprocess per image at shape (1, 3, 640, 640)\n",
      "\n",
      "0: 224x640 1 handwrite, 12.2ms\n",
      "Speed: 0.2ms preprocess, 12.2ms inference, 0.3ms postprocess per image at shape (1, 3, 640, 640)\n",
      "\n",
      "0: 96x640 1 handwrite, 7.5ms\n",
      "Speed: 0.1ms preprocess, 7.5ms inference, 0.3ms postprocess per image at shape (1, 3, 640, 640)\n",
      "\n",
      "0: 640x480 1 signer, 105.5ms\n",
      "Speed: 0.3ms preprocess, 105.5ms inference, 0.3ms postprocess per image at shape (1, 3, 640, 640)\n"
     ]
    },
    {
     "name": "stdout",
     "output_type": "stream",
     "text": [
      "in process: 371/1000\r"
     ]
    },
    {
     "name": "stderr",
     "output_type": "stream",
     "text": [
      "\n",
      "0: 640x448 1 content, 1 date, 1 number, 1 sender, 1 signer, 97.2ms\n",
      "Speed: 0.3ms preprocess, 97.2ms inference, 2.3ms postprocess per image at shape (1, 3, 640, 640)\n",
      "\n",
      "0: 160x640 1 handwrite, 11.3ms\n",
      "Speed: 0.2ms preprocess, 11.3ms inference, 0.4ms postprocess per image at shape (1, 3, 640, 640)\n",
      "\n",
      "0: 192x640 1 handwrite, 11.2ms\n",
      "Speed: 0.2ms preprocess, 11.2ms inference, 0.3ms postprocess per image at shape (1, 3, 640, 640)\n"
     ]
    },
    {
     "name": "stdout",
     "output_type": "stream",
     "text": [
      "in process: 372/1000\r"
     ]
    },
    {
     "name": "stderr",
     "output_type": "stream",
     "text": [
      "\n",
      "0: 640x480 1 content, 1 date, 1 number, 2 senders, 1 signer, 105.6ms\n",
      "Speed: 0.3ms preprocess, 105.6ms inference, 0.3ms postprocess per image at shape (1, 3, 640, 640)\n",
      "\n",
      "0: 192x640 1 handwrite, 11.0ms\n",
      "Speed: 0.2ms preprocess, 11.0ms inference, 0.3ms postprocess per image at shape (1, 3, 640, 640)\n",
      "\n",
      "0: 160x640 1 handwrite, 10.5ms\n",
      "Speed: 0.2ms preprocess, 10.5ms inference, 0.3ms postprocess per image at shape (1, 3, 640, 640)\n"
     ]
    },
    {
     "name": "stdout",
     "output_type": "stream",
     "text": [
      "in process: 373/1000\r"
     ]
    },
    {
     "name": "stderr",
     "output_type": "stream",
     "text": [
      "\n",
      "0: 640x480 1 content, 1 date, 1 number, 1 sender, 105.5ms\n",
      "Speed: 0.3ms preprocess, 105.5ms inference, 2.0ms postprocess per image at shape (1, 3, 640, 640)\n",
      "\n",
      "0: 128x640 1 handwrite, 12.5ms\n",
      "Speed: 0.2ms preprocess, 12.5ms inference, 0.6ms postprocess per image at shape (1, 3, 640, 640)\n",
      "\n",
      "0: 160x640 1 handwrite, 9.8ms\n",
      "Speed: 0.1ms preprocess, 9.8ms inference, 0.4ms postprocess per image at shape (1, 3, 640, 640)\n",
      "\n",
      "0: 640x480 1 signer, 107.7ms\n",
      "Speed: 0.3ms preprocess, 107.7ms inference, 0.3ms postprocess per image at shape (1, 3, 640, 640)\n",
      "\n"
     ]
    },
    {
     "name": "stdout",
     "output_type": "stream",
     "text": [
      "in process: 374/1000\r"
     ]
    },
    {
     "name": "stderr",
     "output_type": "stream",
     "text": [
      "0: 640x480 1 sender, 1 signer, 105.0ms\n",
      "Speed: 0.3ms preprocess, 105.0ms inference, 1.8ms postprocess per image at shape (1, 3, 640, 640)\n"
     ]
    },
    {
     "name": "stdout",
     "output_type": "stream",
     "text": [
      "in process: 375/1000\r"
     ]
    },
    {
     "name": "stderr",
     "output_type": "stream",
     "text": [
      "\n",
      "0: 640x480 1 date, 1 number, 1 sender, 1 signer, 104.8ms\n",
      "Speed: 0.3ms preprocess, 104.8ms inference, 0.3ms postprocess per image at shape (1, 3, 640, 640)\n",
      "\n",
      "0: 128x640 1 handwrite, 8.8ms\n",
      "Speed: 0.1ms preprocess, 8.8ms inference, 0.3ms postprocess per image at shape (1, 3, 640, 640)\n",
      "\n",
      "0: 128x640 1 handwrite, 8.7ms\n",
      "Speed: 0.2ms preprocess, 8.7ms inference, 0.3ms postprocess per image at shape (1, 3, 640, 640)\n",
      "\n"
     ]
    },
    {
     "name": "stdout",
     "output_type": "stream",
     "text": [
      "in process: 376/1000\r"
     ]
    },
    {
     "name": "stderr",
     "output_type": "stream",
     "text": [
      "0: 640x480 1 date, 1 number, 1 sender, 1 signer, 104.7ms\n",
      "Speed: 0.3ms preprocess, 104.7ms inference, 1.6ms postprocess per image at shape (1, 3, 640, 640)\n",
      "\n",
      "0: 192x640 1 handwrite, 11.1ms\n",
      "Speed: 0.1ms preprocess, 11.1ms inference, 0.3ms postprocess per image at shape (1, 3, 640, 640)\n",
      "\n",
      "0: 160x640 1 handwrite, 10.3ms\n",
      "Speed: 0.1ms preprocess, 10.3ms inference, 0.3ms postprocess per image at shape (1, 3, 640, 640)\n",
      "\n"
     ]
    },
    {
     "name": "stdout",
     "output_type": "stream",
     "text": [
      "in process: 377/1000\r"
     ]
    },
    {
     "name": "stderr",
     "output_type": "stream",
     "text": [
      "0: 640x448 1 content, 1 date, 1 number, 1 sender, 1 signer, 99.8ms\n",
      "Speed: 0.3ms preprocess, 99.8ms inference, 0.3ms postprocess per image at shape (1, 3, 640, 640)\n",
      "\n",
      "0: 128x640 1 handwrite, 8.8ms\n",
      "Speed: 0.2ms preprocess, 8.8ms inference, 0.3ms postprocess per image at shape (1, 3, 640, 640)\n",
      "\n",
      "0: 192x640 1 handwrite, 11.2ms\n",
      "Speed: 0.1ms preprocess, 11.2ms inference, 0.3ms postprocess per image at shape (1, 3, 640, 640)\n"
     ]
    },
    {
     "name": "stdout",
     "output_type": "stream",
     "text": [
      "in process: 378/1000\r"
     ]
    },
    {
     "name": "stderr",
     "output_type": "stream",
     "text": [
      "\n",
      "0: 640x480 2 dates, 1 number, 1 sender, 1 signer, 103.1ms\n",
      "Speed: 0.3ms preprocess, 103.1ms inference, 0.3ms postprocess per image at shape (1, 3, 640, 640)\n",
      "\n",
      "0: 224x640 1 handwrite, 12.1ms\n",
      "Speed: 0.1ms preprocess, 12.1ms inference, 0.3ms postprocess per image at shape (1, 3, 640, 640)\n",
      "\n",
      "0: 160x640 1 handwrite, 10.4ms\n",
      "Speed: 0.2ms preprocess, 10.4ms inference, 0.3ms postprocess per image at shape (1, 3, 640, 640)\n",
      "\n",
      "0: 224x640 1 handwrite, 12.2ms\n",
      "Speed: 0.2ms preprocess, 12.2ms inference, 0.3ms postprocess per image at shape (1, 3, 640, 640)\n",
      "\n"
     ]
    },
    {
     "name": "stdout",
     "output_type": "stream",
     "text": [
      "in process: 379/1000\r"
     ]
    },
    {
     "name": "stderr",
     "output_type": "stream",
     "text": [
      "0: 640x480 1 date, 1 number, 1 sender, 1 signer, 103.5ms\n",
      "Speed: 0.3ms preprocess, 103.5ms inference, 2.0ms postprocess per image at shape (1, 3, 640, 640)\n",
      "\n",
      "0: 160x640 1 handwrite, 10.4ms\n",
      "Speed: 0.2ms preprocess, 10.4ms inference, 0.3ms postprocess per image at shape (1, 3, 640, 640)\n",
      "\n",
      "0: 160x640 1 handwrite, 10.1ms\n",
      "Speed: 0.1ms preprocess, 10.1ms inference, 0.3ms postprocess per image at shape (1, 3, 640, 640)\n",
      "\n"
     ]
    },
    {
     "name": "stdout",
     "output_type": "stream",
     "text": [
      "in process: 380/1000\r"
     ]
    },
    {
     "name": "stderr",
     "output_type": "stream",
     "text": [
      "0: 640x480 1 date, 1 number, 1 sender, 104.8ms\n",
      "Speed: 0.3ms preprocess, 104.8ms inference, 0.3ms postprocess per image at shape (1, 3, 640, 640)\n",
      "\n",
      "0: 192x640 1 handwrite, 11.1ms\n",
      "Speed: 0.2ms preprocess, 11.1ms inference, 0.3ms postprocess per image at shape (1, 3, 640, 640)\n",
      "\n",
      "0: 160x640 1 handwrite, 10.3ms\n",
      "Speed: 0.1ms preprocess, 10.3ms inference, 0.3ms postprocess per image at shape (1, 3, 640, 640)\n"
     ]
    },
    {
     "name": "stdout",
     "output_type": "stream",
     "text": [
      "in process: 381/1000\r"
     ]
    },
    {
     "name": "stderr",
     "output_type": "stream",
     "text": [
      "\n",
      "0: 640x480 1 content, 3 numbers, 1 sender, 105.0ms\n",
      "Speed: 0.3ms preprocess, 105.0ms inference, 1.6ms postprocess per image at shape (1, 3, 640, 640)\n",
      "\n",
      "0: 128x640 1 handwrite, 8.7ms\n",
      "Speed: 0.2ms preprocess, 8.7ms inference, 0.3ms postprocess per image at shape (1, 3, 640, 640)\n",
      "\n",
      "0: 96x640 1 handwrite, 7.4ms\n",
      "Speed: 0.1ms preprocess, 7.4ms inference, 0.3ms postprocess per image at shape (1, 3, 640, 640)\n",
      "\n",
      "0: 160x640 1 handwrite, 10.3ms\n",
      "Speed: 0.1ms preprocess, 10.3ms inference, 0.3ms postprocess per image at shape (1, 3, 640, 640)\n",
      "\n",
      "0: 640x480 (no detections), 104.1ms\n",
      "Speed: 0.3ms preprocess, 104.1ms inference, 0.2ms postprocess per image at shape (1, 3, 640, 640)\n",
      "\n",
      "0: 640x480 (no detections), 104.0ms\n",
      "Speed: 0.3ms preprocess, 104.0ms inference, 0.2ms postprocess per image at shape (1, 3, 640, 640)\n",
      "\n",
      "0: 640x480 (no detections), 104.1ms\n",
      "Speed: 0.3ms preprocess, 104.1ms inference, 0.2ms postprocess per image at shape (1, 3, 640, 640)\n",
      "\n",
      "0: 640x480 (no detections), 104.0ms\n",
      "Speed: 0.3ms preprocess, 104.0ms inference, 0.2ms postprocess per image at shape (1, 3, 640, 640)\n",
      "\n",
      "0: 640x480 (no detections), 104.5ms\n",
      "Speed: 0.3ms preprocess, 104.5ms inference, 0.2ms postprocess per image at shape (1, 3, 640, 640)\n",
      "\n",
      "0: 640x480 (no detections), 102.7ms\n",
      "Speed: 0.3ms preprocess, 102.7ms inference, 0.2ms postprocess per image at shape (1, 3, 640, 640)\n",
      "\n",
      "0: 640x480 1 sender, 114.8ms\n",
      "Speed: 0.3ms preprocess, 114.8ms inference, 0.3ms postprocess per image at shape (1, 3, 640, 640)\n",
      "\n",
      "0: 640x480 (no detections), 102.5ms\n",
      "Speed: 0.3ms preprocess, 102.5ms inference, 0.2ms postprocess per image at shape (1, 3, 640, 640)\n",
      "\n"
     ]
    },
    {
     "name": "stdout",
     "output_type": "stream",
     "text": [
      "in process: 382/1000\r"
     ]
    },
    {
     "name": "stderr",
     "output_type": "stream",
     "text": [
      "0: 640x480 1 date, 1 number, 1 sender, 102.9ms\n",
      "Speed: 0.3ms preprocess, 102.9ms inference, 2.1ms postprocess per image at shape (1, 3, 640, 640)\n",
      "\n",
      "0: 160x640 1 handwrite, 15.3ms\n",
      "Speed: 0.2ms preprocess, 15.3ms inference, 0.6ms postprocess per image at shape (1, 3, 640, 640)\n",
      "\n",
      "0: 192x640 1 typewritten, 15.8ms\n",
      "Speed: 0.1ms preprocess, 15.8ms inference, 0.6ms postprocess per image at shape (1, 3, 640, 640)\n",
      "\n",
      "0: 640x480 1 signer, 102.9ms\n",
      "Speed: 0.3ms preprocess, 102.9ms inference, 0.3ms postprocess per image at shape (1, 3, 640, 640)\n"
     ]
    },
    {
     "name": "stdout",
     "output_type": "stream",
     "text": [
      "in process: 383/1000\r"
     ]
    },
    {
     "name": "stderr",
     "output_type": "stream",
     "text": [
      "\n",
      "0: 640x480 1 sender, 1 signer, 103.2ms\n",
      "Speed: 0.3ms preprocess, 103.2ms inference, 2.1ms postprocess per image at shape (1, 3, 640, 640)\n"
     ]
    },
    {
     "name": "stdout",
     "output_type": "stream",
     "text": [
      "in process: 384/1000\r"
     ]
    },
    {
     "name": "stderr",
     "output_type": "stream",
     "text": [
      "\n",
      "0: 640x480 1 content, 1 date, 1 number, 1 sender, 1 signer, 106.5ms\n",
      "Speed: 0.3ms preprocess, 106.5ms inference, 0.4ms postprocess per image at shape (1, 3, 640, 640)\n",
      "\n",
      "0: 128x640 1 handwrite, 8.7ms\n",
      "Speed: 0.2ms preprocess, 8.7ms inference, 0.3ms postprocess per image at shape (1, 3, 640, 640)\n",
      "\n",
      "0: 192x640 1 handwrite, 11.1ms\n",
      "Speed: 0.1ms preprocess, 11.1ms inference, 0.3ms postprocess per image at shape (1, 3, 640, 640)\n",
      "\n"
     ]
    },
    {
     "name": "stdout",
     "output_type": "stream",
     "text": [
      "in process: 385/1000\r"
     ]
    },
    {
     "name": "stderr",
     "output_type": "stream",
     "text": [
      "0: 640x480 1 date, 1 number, 1 sender, 1 signer, 103.9ms\n",
      "Speed: 0.3ms preprocess, 103.9ms inference, 1.8ms postprocess per image at shape (1, 3, 640, 640)\n",
      "\n",
      "0: 160x640 1 handwrite, 10.5ms\n",
      "Speed: 0.2ms preprocess, 10.5ms inference, 0.3ms postprocess per image at shape (1, 3, 640, 640)\n",
      "\n",
      "0: 192x640 1 handwrite, 11.2ms\n",
      "Speed: 0.1ms preprocess, 11.2ms inference, 0.3ms postprocess per image at shape (1, 3, 640, 640)\n"
     ]
    },
    {
     "name": "stdout",
     "output_type": "stream",
     "text": [
      "in process: 386/1000\r"
     ]
    },
    {
     "name": "stderr",
     "output_type": "stream",
     "text": [
      "\n",
      "0: 640x512 1 date, 1 number, 1 sender, 1 signer, 113.4ms\n",
      "Speed: 0.3ms preprocess, 113.4ms inference, 0.3ms postprocess per image at shape (1, 3, 640, 640)\n",
      "\n",
      "0: 128x640 1 handwrite, 8.6ms\n",
      "Speed: 0.1ms preprocess, 8.6ms inference, 0.3ms postprocess per image at shape (1, 3, 640, 640)\n",
      "\n",
      "0: 128x640 1 handwrite, 12.2ms\n",
      "Speed: 0.2ms preprocess, 12.2ms inference, 0.6ms postprocess per image at shape (1, 3, 640, 640)\n"
     ]
    },
    {
     "name": "stdout",
     "output_type": "stream",
     "text": [
      "in process: 387/1000\r"
     ]
    },
    {
     "name": "stderr",
     "output_type": "stream",
     "text": [
      "\n",
      "0: 640x480 1 content, 1 date, 1 number, 1 signer, 102.4ms\n",
      "Speed: 0.3ms preprocess, 102.4ms inference, 0.3ms postprocess per image at shape (1, 3, 640, 640)\n",
      "\n",
      "0: 160x640 1 handwrite, 14.6ms\n",
      "Speed: 0.2ms preprocess, 14.6ms inference, 0.6ms postprocess per image at shape (1, 3, 640, 640)\n",
      "\n",
      "0: 128x640 2 handwrites, 12.5ms\n",
      "Speed: 0.2ms preprocess, 12.5ms inference, 0.6ms postprocess per image at shape (1, 3, 640, 640)\n",
      "\n"
     ]
    },
    {
     "name": "stdout",
     "output_type": "stream",
     "text": [
      "in process: 388/1000\r"
     ]
    },
    {
     "name": "stderr",
     "output_type": "stream",
     "text": [
      "0: 640x480 1 content, 1 date, 1 number, 1 sender, 1 signer, 105.5ms\n",
      "Speed: 0.3ms preprocess, 105.5ms inference, 0.4ms postprocess per image at shape (1, 3, 640, 640)\n",
      "\n",
      "0: 192x640 1 handwrite, 15.6ms\n",
      "Speed: 0.2ms preprocess, 15.6ms inference, 0.6ms postprocess per image at shape (1, 3, 640, 640)\n",
      "\n",
      "0: 128x640 1 handwrite, 12.4ms\n",
      "Speed: 0.2ms preprocess, 12.4ms inference, 0.6ms postprocess per image at shape (1, 3, 640, 640)\n"
     ]
    },
    {
     "name": "stdout",
     "output_type": "stream",
     "text": [
      "in process: 389/1000\r"
     ]
    },
    {
     "name": "stderr",
     "output_type": "stream",
     "text": [
      "\n",
      "0: 640x480 (no detections), 105.3ms\n",
      "Speed: 0.3ms preprocess, 105.3ms inference, 1.3ms postprocess per image at shape (1, 3, 640, 640)\n",
      "\n",
      "0: 640x480 (no detections), 109.1ms\n",
      "Speed: 0.3ms preprocess, 109.1ms inference, 0.2ms postprocess per image at shape (1, 3, 640, 640)\n",
      "\n",
      "0: 640x480 (no detections), 104.2ms\n",
      "Speed: 0.3ms preprocess, 104.2ms inference, 0.2ms postprocess per image at shape (1, 3, 640, 640)\n",
      "\n",
      "0: 640x480 (no detections), 103.0ms\n",
      "Speed: 0.3ms preprocess, 103.0ms inference, 0.2ms postprocess per image at shape (1, 3, 640, 640)\n",
      "\n",
      "0: 640x480 (no detections), 104.6ms\n",
      "Speed: 0.3ms preprocess, 104.6ms inference, 0.2ms postprocess per image at shape (1, 3, 640, 640)\n",
      "\n",
      "0: 640x480 (no detections), 104.8ms\n",
      "Speed: 0.3ms preprocess, 104.8ms inference, 0.2ms postprocess per image at shape (1, 3, 640, 640)\n",
      "\n",
      "0: 640x480 (no detections), 103.4ms\n",
      "Speed: 0.3ms preprocess, 103.4ms inference, 0.2ms postprocess per image at shape (1, 3, 640, 640)\n",
      "\n",
      "0: 640x480 2 senders, 103.5ms\n",
      "Speed: 0.3ms preprocess, 103.5ms inference, 0.3ms postprocess per image at shape (1, 3, 640, 640)\n",
      "\n",
      "0: 640x480 1 signer, 104.9ms\n",
      "Speed: 0.3ms preprocess, 104.9ms inference, 0.3ms postprocess per image at shape (1, 3, 640, 640)\n"
     ]
    },
    {
     "name": "stdout",
     "output_type": "stream",
     "text": [
      "in process: 390/1000\r"
     ]
    },
    {
     "name": "stderr",
     "output_type": "stream",
     "text": [
      "\n",
      "0: 640x480 1 date, 1 sender, 103.2ms\n",
      "Speed: 0.3ms preprocess, 103.2ms inference, 0.3ms postprocess per image at shape (1, 3, 640, 640)\n",
      "\n",
      "0: 128x640 1 handwrite, 8.5ms\n",
      "Speed: 0.2ms preprocess, 8.5ms inference, 0.3ms postprocess per image at shape (1, 3, 640, 640)\n",
      "\n",
      "0: 640x480 1 sender, 1 signer, 103.1ms\n",
      "Speed: 0.3ms preprocess, 103.1ms inference, 0.3ms postprocess per image at shape (1, 3, 640, 640)\n",
      "\n"
     ]
    },
    {
     "name": "stdout",
     "output_type": "stream",
     "text": [
      "in process: 391/1000\r"
     ]
    },
    {
     "name": "stderr",
     "output_type": "stream",
     "text": [
      "0: 640x480 1 sender, 1 signer, 102.7ms\n",
      "Speed: 0.3ms preprocess, 102.7ms inference, 2.1ms postprocess per image at shape (1, 3, 640, 640)\n",
      "\n"
     ]
    },
    {
     "name": "stdout",
     "output_type": "stream",
     "text": [
      "in process: 392/1000\r"
     ]
    },
    {
     "name": "stderr",
     "output_type": "stream",
     "text": [
      "0: 640x480 1 date, 1 number, 2 senders, 1 signer, 105.2ms\n",
      "Speed: 0.3ms preprocess, 105.2ms inference, 0.4ms postprocess per image at shape (1, 3, 640, 640)\n",
      "\n",
      "0: 128x640 1 handwrite, 12.9ms\n",
      "Speed: 0.2ms preprocess, 12.9ms inference, 0.6ms postprocess per image at shape (1, 3, 640, 640)\n",
      "\n",
      "0: 192x640 1 handwrite, 15.6ms\n",
      "Speed: 0.1ms preprocess, 15.6ms inference, 0.6ms postprocess per image at shape (1, 3, 640, 640)\n"
     ]
    },
    {
     "name": "stdout",
     "output_type": "stream",
     "text": [
      "in process: 393/1000\r"
     ]
    },
    {
     "name": "stderr",
     "output_type": "stream",
     "text": [
      "\n",
      "0: 640x480 1 content, 1 date, 1 number, 1 sender, 1 signer, 104.2ms\n",
      "Speed: 0.3ms preprocess, 104.2ms inference, 1.6ms postprocess per image at shape (1, 3, 640, 640)\n",
      "\n",
      "0: 96x640 1 typewritten, 7.2ms\n",
      "Speed: 0.2ms preprocess, 7.2ms inference, 0.3ms postprocess per image at shape (1, 3, 640, 640)\n",
      "\n",
      "0: 224x640 1 typewritten, 10.7ms\n",
      "Speed: 0.2ms preprocess, 10.7ms inference, 0.3ms postprocess per image at shape (1, 3, 640, 640)\n"
     ]
    },
    {
     "name": "stdout",
     "output_type": "stream",
     "text": [
      "in process: 394/1000\r"
     ]
    },
    {
     "name": "stderr",
     "output_type": "stream",
     "text": [
      "\n",
      "0: 640x480 1 content, 1 date, 1 number, 2 senders, 104.5ms\n",
      "Speed: 0.3ms preprocess, 104.5ms inference, 0.4ms postprocess per image at shape (1, 3, 640, 640)\n",
      "\n",
      "0: 192x640 1 handwrite, 15.5ms\n",
      "Speed: 0.2ms preprocess, 15.5ms inference, 0.6ms postprocess per image at shape (1, 3, 640, 640)\n",
      "\n",
      "0: 160x640 1 handwrite, 14.4ms\n",
      "Speed: 0.1ms preprocess, 14.4ms inference, 0.6ms postprocess per image at shape (1, 3, 640, 640)\n",
      "\n",
      "0: 640x480 (no detections), 103.0ms\n",
      "Speed: 0.3ms preprocess, 103.0ms inference, 0.2ms postprocess per image at shape (1, 3, 640, 640)\n",
      "\n",
      "0: 640x480 1 sender, 1 signer, 101.9ms\n",
      "Speed: 0.3ms preprocess, 101.9ms inference, 0.3ms postprocess per image at shape (1, 3, 640, 640)\n"
     ]
    },
    {
     "name": "stdout",
     "output_type": "stream",
     "text": [
      "in process: 395/1000\r"
     ]
    },
    {
     "name": "stderr",
     "output_type": "stream",
     "text": [
      "\n",
      "0: 640x480 1 date, 1 number, 1 sender, 1 signer, 114.1ms\n",
      "Speed: 0.3ms preprocess, 114.1ms inference, 2.3ms postprocess per image at shape (1, 3, 640, 640)\n",
      "\n",
      "0: 160x640 1 handwrite, 9.8ms\n",
      "Speed: 0.2ms preprocess, 9.8ms inference, 0.3ms postprocess per image at shape (1, 3, 640, 640)\n",
      "\n",
      "0: 160x640 1 handwrite, 9.6ms\n",
      "Speed: 0.1ms preprocess, 9.6ms inference, 0.3ms postprocess per image at shape (1, 3, 640, 640)\n",
      "\n"
     ]
    },
    {
     "name": "stdout",
     "output_type": "stream",
     "text": [
      "in process: 396/1000\r"
     ]
    },
    {
     "name": "stderr",
     "output_type": "stream",
     "text": [
      "0: 640x480 1 date, 1 number, 1 sender, 1 signer, 104.7ms\n",
      "Speed: 0.3ms preprocess, 104.7ms inference, 0.3ms postprocess per image at shape (1, 3, 640, 640)\n",
      "\n",
      "0: 128x640 1 handwrite, 8.3ms\n",
      "Speed: 0.1ms preprocess, 8.3ms inference, 0.3ms postprocess per image at shape (1, 3, 640, 640)\n",
      "\n",
      "0: 224x640 1 handwrite, 11.5ms\n",
      "Speed: 0.1ms preprocess, 11.5ms inference, 0.3ms postprocess per image at shape (1, 3, 640, 640)\n",
      "\n"
     ]
    },
    {
     "name": "stdout",
     "output_type": "stream",
     "text": [
      "in process: 397/1000\r"
     ]
    },
    {
     "name": "stderr",
     "output_type": "stream",
     "text": [
      "0: 640x480 1 date, 1 number, 1 sender, 1 signer, 105.5ms\n",
      "Speed: 0.3ms preprocess, 105.5ms inference, 1.8ms postprocess per image at shape (1, 3, 640, 640)\n",
      "\n",
      "0: 160x640 1 handwrite, 14.7ms\n",
      "Speed: 0.4ms preprocess, 14.7ms inference, 0.6ms postprocess per image at shape (1, 3, 640, 640)\n",
      "\n",
      "0: 192x640 1 handwrite, 15.7ms\n",
      "Speed: 0.1ms preprocess, 15.7ms inference, 0.6ms postprocess per image at shape (1, 3, 640, 640)\n",
      "\n"
     ]
    },
    {
     "name": "stdout",
     "output_type": "stream",
     "text": [
      "in process: 398/1000\r"
     ]
    },
    {
     "name": "stderr",
     "output_type": "stream",
     "text": [
      "0: 640x480 1 content, 1 date, 1 number, 2 senders, 102.7ms\n",
      "Speed: 0.3ms preprocess, 102.7ms inference, 0.4ms postprocess per image at shape (1, 3, 640, 640)\n",
      "\n",
      "0: 192x640 1 handwrite, 10.4ms\n",
      "Speed: 0.2ms preprocess, 10.4ms inference, 0.3ms postprocess per image at shape (1, 3, 640, 640)\n",
      "\n",
      "0: 224x640 1 handwrite, 11.6ms\n",
      "Speed: 0.1ms preprocess, 11.6ms inference, 0.3ms postprocess per image at shape (1, 3, 640, 640)\n",
      "\n",
      "0: 640x480 1 signer, 104.9ms\n",
      "Speed: 0.3ms preprocess, 104.9ms inference, 0.3ms postprocess per image at shape (1, 3, 640, 640)\n"
     ]
    },
    {
     "name": "stdout",
     "output_type": "stream",
     "text": [
      "in process: 399/1000\r"
     ]
    },
    {
     "name": "stderr",
     "output_type": "stream",
     "text": [
      "\n",
      "0: 640x480 1 content, 1 date, 1 number, 1 sender, 1 signer, 103.0ms\n",
      "Speed: 0.3ms preprocess, 103.0ms inference, 0.4ms postprocess per image at shape (1, 3, 640, 640)\n",
      "\n",
      "0: 160x640 2 typewrittens, 14.8ms\n",
      "Speed: 0.2ms preprocess, 14.8ms inference, 0.6ms postprocess per image at shape (1, 3, 640, 640)\n",
      "\n",
      "0: 224x640 1 typewritten, 14.5ms\n",
      "Speed: 0.2ms preprocess, 14.5ms inference, 0.3ms postprocess per image at shape (1, 3, 640, 640)\n"
     ]
    },
    {
     "name": "stdout",
     "output_type": "stream",
     "text": [
      "in process: 400/1000\r"
     ]
    },
    {
     "name": "stderr",
     "output_type": "stream",
     "text": [
      "\n",
      "0: 640x480 1 date, 1 number, 1 sender, 1 signer, 105.2ms\n",
      "Speed: 0.3ms preprocess, 105.2ms inference, 0.4ms postprocess per image at shape (1, 3, 640, 640)\n",
      "\n",
      "0: 160x640 1 handwrite, 10.0ms\n",
      "Speed: 0.2ms preprocess, 10.0ms inference, 0.3ms postprocess per image at shape (1, 3, 640, 640)\n",
      "\n",
      "0: 160x640 1 handwrite, 10.2ms\n",
      "Speed: 0.2ms preprocess, 10.2ms inference, 0.3ms postprocess per image at shape (1, 3, 640, 640)\n",
      "\n"
     ]
    },
    {
     "name": "stdout",
     "output_type": "stream",
     "text": [
      "in process: 401/1000\r"
     ]
    },
    {
     "name": "stderr",
     "output_type": "stream",
     "text": [
      "0: 640x480 1 content, 1 date, 1 number, 1 sender, 1 signer, 105.8ms\n",
      "Speed: 0.3ms preprocess, 105.8ms inference, 0.4ms postprocess per image at shape (1, 3, 640, 640)\n",
      "\n",
      "0: 192x640 1 handwrite, 10.6ms\n",
      "Speed: 0.2ms preprocess, 10.6ms inference, 0.3ms postprocess per image at shape (1, 3, 640, 640)\n",
      "\n",
      "0: 128x640 1 handwrite, 8.2ms\n",
      "Speed: 0.1ms preprocess, 8.2ms inference, 0.3ms postprocess per image at shape (1, 3, 640, 640)\n"
     ]
    },
    {
     "name": "stdout",
     "output_type": "stream",
     "text": [
      "in process: 402/1000\r"
     ]
    },
    {
     "name": "stderr",
     "output_type": "stream",
     "text": [
      "\n",
      "0: 640x480 1 sender, 1 signer, 106.4ms\n",
      "Speed: 0.3ms preprocess, 106.4ms inference, 1.9ms postprocess per image at shape (1, 3, 640, 640)\n"
     ]
    },
    {
     "name": "stdout",
     "output_type": "stream",
     "text": [
      "in process: 403/1000\r"
     ]
    },
    {
     "name": "stderr",
     "output_type": "stream",
     "text": [
      "\n",
      "0: 640x480 1 content, 1 sender, 105.6ms\n",
      "Speed: 0.3ms preprocess, 105.6ms inference, 0.3ms postprocess per image at shape (1, 3, 640, 640)\n",
      "\n",
      "0: 640x480 1 signer, 105.6ms\n",
      "Speed: 0.3ms preprocess, 105.6ms inference, 0.3ms postprocess per image at shape (1, 3, 640, 640)\n",
      "\n"
     ]
    },
    {
     "name": "stdout",
     "output_type": "stream",
     "text": [
      "in process: 404/1000\r"
     ]
    },
    {
     "name": "stderr",
     "output_type": "stream",
     "text": [
      "0: 640x480 1 content, 1 date, 1 number, 1 signer, 103.7ms\n",
      "Speed: 0.3ms preprocess, 103.7ms inference, 2.3ms postprocess per image at shape (1, 3, 640, 640)\n",
      "\n",
      "0: 192x640 1 handwrite, 10.6ms\n",
      "Speed: 0.2ms preprocess, 10.6ms inference, 0.3ms postprocess per image at shape (1, 3, 640, 640)\n",
      "\n",
      "0: 128x640 1 handwrite, 8.1ms\n",
      "Speed: 0.1ms preprocess, 8.1ms inference, 0.3ms postprocess per image at shape (1, 3, 640, 640)\n"
     ]
    },
    {
     "name": "stdout",
     "output_type": "stream",
     "text": [
      "in process: 405/1000\r"
     ]
    },
    {
     "name": "stderr",
     "output_type": "stream",
     "text": [
      "\n",
      "0: 640x480 1 content, 1 date, 1 number, 1 sender, 1 signer, 103.6ms\n",
      "Speed: 0.3ms preprocess, 103.6ms inference, 0.4ms postprocess per image at shape (1, 3, 640, 640)\n",
      "\n",
      "0: 160x640 1 typewritten, 10.1ms\n",
      "Speed: 0.2ms preprocess, 10.1ms inference, 0.3ms postprocess per image at shape (1, 3, 640, 640)\n",
      "\n",
      "0: 192x640 1 typewritten, 17.5ms\n",
      "Speed: 0.2ms preprocess, 17.5ms inference, 0.6ms postprocess per image at shape (1, 3, 640, 640)\n"
     ]
    },
    {
     "name": "stdout",
     "output_type": "stream",
     "text": [
      "in process: 406/1000\r"
     ]
    },
    {
     "name": "stderr",
     "output_type": "stream",
     "text": [
      "\n",
      "0: 640x480 2 contents, 1 date, 1 number, 1 sender, 105.5ms\n",
      "Speed: 0.3ms preprocess, 105.5ms inference, 0.4ms postprocess per image at shape (1, 3, 640, 640)\n",
      "\n",
      "0: 128x640 1 handwrite, 8.3ms\n",
      "Speed: 0.2ms preprocess, 8.3ms inference, 0.3ms postprocess per image at shape (1, 3, 640, 640)\n",
      "\n",
      "0: 192x640 1 handwrite, 1 typewritten, 10.6ms\n",
      "Speed: 0.1ms preprocess, 10.6ms inference, 0.4ms postprocess per image at shape (1, 3, 640, 640)\n",
      "\n",
      "0: 640x480 1 signer, 102.2ms\n",
      "Speed: 0.3ms preprocess, 102.2ms inference, 0.3ms postprocess per image at shape (1, 3, 640, 640)\n"
     ]
    },
    {
     "name": "stdout",
     "output_type": "stream",
     "text": [
      "in process: 407/1000\r"
     ]
    },
    {
     "name": "stderr",
     "output_type": "stream",
     "text": [
      "\n",
      "0: 640x480 1 content, 1 date, 1 number, 1 sender, 103.1ms\n",
      "Speed: 0.3ms preprocess, 103.1ms inference, 1.8ms postprocess per image at shape (1, 3, 640, 640)\n",
      "\n",
      "0: 128x640 1 handwrite, 8.4ms\n",
      "Speed: 0.2ms preprocess, 8.4ms inference, 0.3ms postprocess per image at shape (1, 3, 640, 640)\n",
      "\n",
      "0: 192x640 1 handwrite, 10.6ms\n",
      "Speed: 0.2ms preprocess, 10.6ms inference, 0.3ms postprocess per image at shape (1, 3, 640, 640)\n",
      "\n",
      "0: 640x480 1 signer, 103.2ms\n",
      "Speed: 0.3ms preprocess, 103.2ms inference, 0.3ms postprocess per image at shape (1, 3, 640, 640)\n"
     ]
    },
    {
     "name": "stdout",
     "output_type": "stream",
     "text": [
      "in process: 408/1000\r"
     ]
    },
    {
     "name": "stderr",
     "output_type": "stream",
     "text": [
      "\n",
      "0: 640x480 1 content, 1 date, 1 number, 1 sender, 107.0ms\n",
      "Speed: 0.3ms preprocess, 107.0ms inference, 2.5ms postprocess per image at shape (1, 3, 640, 640)\n",
      "\n",
      "0: 128x640 1 handwrite, 12.4ms\n",
      "Speed: 0.1ms preprocess, 12.4ms inference, 0.6ms postprocess per image at shape (1, 3, 640, 640)\n",
      "\n",
      "0: 192x640 1 handwrite, 1 typewritten, 10.7ms\n",
      "Speed: 0.2ms preprocess, 10.7ms inference, 0.3ms postprocess per image at shape (1, 3, 640, 640)\n",
      "\n",
      "0: 640x480 1 signer, 103.8ms\n",
      "Speed: 0.3ms preprocess, 103.8ms inference, 0.3ms postprocess per image at shape (1, 3, 640, 640)\n"
     ]
    },
    {
     "name": "stdout",
     "output_type": "stream",
     "text": [
      "in process: 409/1000\r"
     ]
    },
    {
     "name": "stderr",
     "output_type": "stream",
     "text": [
      "\n",
      "0: 640x480 1 date, 1 number, 2 senders, 103.0ms\n",
      "Speed: 0.3ms preprocess, 103.0ms inference, 1.6ms postprocess per image at shape (1, 3, 640, 640)\n",
      "\n",
      "0: 128x640 1 handwrite, 8.5ms\n",
      "Speed: 0.1ms preprocess, 8.5ms inference, 0.3ms postprocess per image at shape (1, 3, 640, 640)\n",
      "\n",
      "0: 224x640 1 typewritten, 11.5ms\n",
      "Speed: 0.1ms preprocess, 11.5ms inference, 0.3ms postprocess per image at shape (1, 3, 640, 640)\n",
      "\n",
      "0: 640x480 (no detections), 106.0ms\n",
      "Speed: 0.3ms preprocess, 106.0ms inference, 0.2ms postprocess per image at shape (1, 3, 640, 640)\n",
      "\n",
      "0: 640x480 (no detections), 103.5ms\n",
      "Speed: 0.3ms preprocess, 103.5ms inference, 0.2ms postprocess per image at shape (1, 3, 640, 640)\n",
      "\n",
      "0: 480x640 (no detections), 106.2ms\n",
      "Speed: 0.3ms preprocess, 106.2ms inference, 0.2ms postprocess per image at shape (1, 3, 640, 640)\n",
      "\n",
      "0: 480x640 (no detections), 108.3ms\n",
      "Speed: 0.3ms preprocess, 108.3ms inference, 0.2ms postprocess per image at shape (1, 3, 640, 640)\n",
      "\n",
      "0: 640x480 (no detections), 103.2ms\n",
      "Speed: 0.3ms preprocess, 103.2ms inference, 0.2ms postprocess per image at shape (1, 3, 640, 640)\n",
      "\n",
      "0: 640x480 (no detections), 105.3ms\n",
      "Speed: 0.3ms preprocess, 105.3ms inference, 0.2ms postprocess per image at shape (1, 3, 640, 640)\n",
      "\n",
      "0: 480x640 (no detections), 106.4ms\n",
      "Speed: 0.3ms preprocess, 106.4ms inference, 0.2ms postprocess per image at shape (1, 3, 640, 640)\n"
     ]
    },
    {
     "name": "stdout",
     "output_type": "stream",
     "text": [
      "in process: 410/1000\r"
     ]
    },
    {
     "name": "stderr",
     "output_type": "stream",
     "text": [
      "\n",
      "0: 640x480 1 date, 1 number, 2 senders, 1 signer, 104.4ms\n",
      "Speed: 0.3ms preprocess, 104.4ms inference, 0.3ms postprocess per image at shape (1, 3, 640, 640)\n",
      "\n",
      "0: 224x640 1 handwrite, 12.0ms\n",
      "Speed: 0.2ms preprocess, 12.0ms inference, 0.3ms postprocess per image at shape (1, 3, 640, 640)\n",
      "\n",
      "0: 224x640 1 handwrite, 11.9ms\n",
      "Speed: 0.2ms preprocess, 11.9ms inference, 0.3ms postprocess per image at shape (1, 3, 640, 640)\n",
      "\n"
     ]
    },
    {
     "name": "stdout",
     "output_type": "stream",
     "text": [
      "in process: 411/1000\r"
     ]
    },
    {
     "name": "stderr",
     "output_type": "stream",
     "text": [
      "0: 640x480 (no detections), 105.2ms\n",
      "Speed: 0.3ms preprocess, 105.2ms inference, 0.2ms postprocess per image at shape (1, 3, 640, 640)\n",
      "\n",
      "0: 480x640 1 date, 1 number, 1 sender, 1 signer, 106.4ms\n",
      "Speed: 0.3ms preprocess, 106.4ms inference, 0.4ms postprocess per image at shape (1, 3, 640, 640)\n",
      "\n",
      "0: 128x640 1 handwrite, 12.5ms\n",
      "Speed: 0.2ms preprocess, 12.5ms inference, 0.6ms postprocess per image at shape (1, 3, 640, 640)\n",
      "\n",
      "0: 192x640 1 handwrite, 15.5ms\n",
      "Speed: 0.1ms preprocess, 15.5ms inference, 0.6ms postprocess per image at shape (1, 3, 640, 640)\n"
     ]
    },
    {
     "name": "stdout",
     "output_type": "stream",
     "text": [
      "in process: 412/1000\r"
     ]
    },
    {
     "name": "stderr",
     "output_type": "stream",
     "text": [
      "\n",
      "0: 640x480 1 date, 1 number, 1 sender, 1 signer, 103.3ms\n",
      "Speed: 0.3ms preprocess, 103.3ms inference, 2.3ms postprocess per image at shape (1, 3, 640, 640)\n",
      "\n",
      "0: 192x640 1 handwrite, 13.3ms\n",
      "Speed: 0.2ms preprocess, 13.3ms inference, 0.6ms postprocess per image at shape (1, 3, 640, 640)\n",
      "\n",
      "0: 224x640 1 typewritten, 12.3ms\n",
      "Speed: 0.2ms preprocess, 12.3ms inference, 0.4ms postprocess per image at shape (1, 3, 640, 640)\n"
     ]
    },
    {
     "name": "stdout",
     "output_type": "stream",
     "text": [
      "in process: 413/1000\r"
     ]
    },
    {
     "name": "stderr",
     "output_type": "stream",
     "text": [
      "\n",
      "0: 640x480 1 date, 1 number, 1 sender, 104.9ms\n",
      "Speed: 0.3ms preprocess, 104.9ms inference, 0.3ms postprocess per image at shape (1, 3, 640, 640)\n",
      "\n",
      "0: 160x640 1 handwrite, 10.8ms\n",
      "Speed: 0.2ms preprocess, 10.8ms inference, 0.4ms postprocess per image at shape (1, 3, 640, 640)\n",
      "\n",
      "0: 128x640 1 handwrite, 1 typewritten, 8.5ms\n",
      "Speed: 0.1ms preprocess, 8.5ms inference, 0.4ms postprocess per image at shape (1, 3, 640, 640)\n",
      "\n",
      "0: 640x480 (no detections), 104.5ms\n",
      "Speed: 0.3ms preprocess, 104.5ms inference, 0.2ms postprocess per image at shape (1, 3, 640, 640)\n",
      "\n",
      "0: 640x480 1 signer, 104.4ms\n",
      "Speed: 0.3ms preprocess, 104.4ms inference, 0.3ms postprocess per image at shape (1, 3, 640, 640)\n"
     ]
    },
    {
     "name": "stdout",
     "output_type": "stream",
     "text": [
      "in process: 414/1000\r"
     ]
    },
    {
     "name": "stderr",
     "output_type": "stream",
     "text": [
      "\n",
      "0: 640x480 1 content, 1 date, 1 number, 1 sender, 1 signer, 103.4ms\n",
      "Speed: 0.3ms preprocess, 103.4ms inference, 1.6ms postprocess per image at shape (1, 3, 640, 640)\n",
      "\n",
      "0: 160x640 2 typewrittens, 10.0ms\n",
      "Speed: 0.2ms preprocess, 10.0ms inference, 0.3ms postprocess per image at shape (1, 3, 640, 640)\n",
      "\n",
      "0: 224x640 1 typewritten, 11.8ms\n",
      "Speed: 0.2ms preprocess, 11.8ms inference, 0.3ms postprocess per image at shape (1, 3, 640, 640)\n"
     ]
    },
    {
     "name": "stdout",
     "output_type": "stream",
     "text": [
      "in process: 415/1000\r"
     ]
    },
    {
     "name": "stderr",
     "output_type": "stream",
     "text": [
      "\n",
      "0: 480x640 1 sender, 105.1ms\n",
      "Speed: 0.3ms preprocess, 105.1ms inference, 2.1ms postprocess per image at shape (1, 3, 640, 640)\n",
      "\n",
      "0: 640x480 (no detections), 103.0ms\n",
      "Speed: 0.3ms preprocess, 103.0ms inference, 0.2ms postprocess per image at shape (1, 3, 640, 640)\n",
      "\n",
      "0: 480x640 1 sender, 105.8ms\n",
      "Speed: 0.3ms preprocess, 105.8ms inference, 0.3ms postprocess per image at shape (1, 3, 640, 640)\n",
      "\n",
      "0: 480x640 (no detections), 106.9ms\n",
      "Speed: 0.3ms preprocess, 106.9ms inference, 0.2ms postprocess per image at shape (1, 3, 640, 640)\n",
      "\n",
      "0: 640x480 (no detections), 104.5ms\n",
      "Speed: 0.3ms preprocess, 104.5ms inference, 0.2ms postprocess per image at shape (1, 3, 640, 640)\n",
      "\n",
      "0: 640x480 (no detections), 104.4ms\n",
      "Speed: 0.3ms preprocess, 104.4ms inference, 0.2ms postprocess per image at shape (1, 3, 640, 640)\n",
      "\n",
      "0: 480x640 (no detections), 105.0ms\n",
      "Speed: 0.3ms preprocess, 105.0ms inference, 0.2ms postprocess per image at shape (1, 3, 640, 640)\n",
      "\n",
      "0: 640x480 1 sender, 104.3ms\n",
      "Speed: 0.3ms preprocess, 104.3ms inference, 0.3ms postprocess per image at shape (1, 3, 640, 640)\n",
      "\n",
      "0: 480x640 (no detections), 106.8ms\n",
      "Speed: 0.3ms preprocess, 106.8ms inference, 0.2ms postprocess per image at shape (1, 3, 640, 640)\n",
      "\n",
      "0: 480x640 1 sender, 106.4ms\n",
      "Speed: 0.3ms preprocess, 106.4ms inference, 0.3ms postprocess per image at shape (1, 3, 640, 640)\n"
     ]
    },
    {
     "name": "stdout",
     "output_type": "stream",
     "text": [
      "in process: 416/1000\r"
     ]
    },
    {
     "name": "stderr",
     "output_type": "stream",
     "text": [
      "\n",
      "0: 640x480 1 content, 1 sender, 103.8ms\n",
      "Speed: 0.3ms preprocess, 103.8ms inference, 0.3ms postprocess per image at shape (1, 3, 640, 640)\n",
      "\n",
      "0: 640x480 (no detections), 105.1ms\n",
      "Speed: 0.3ms preprocess, 105.1ms inference, 0.2ms postprocess per image at shape (1, 3, 640, 640)\n",
      "\n",
      "0: 640x480 1 signer, 105.0ms\n",
      "Speed: 0.3ms preprocess, 105.0ms inference, 0.3ms postprocess per image at shape (1, 3, 640, 640)\n",
      "\n"
     ]
    },
    {
     "name": "stdout",
     "output_type": "stream",
     "text": [
      "in process: 417/1000\r"
     ]
    },
    {
     "name": "stderr",
     "output_type": "stream",
     "text": [
      "0: 640x480 1 content, 1 date, 1 number, 1 sender, 1 signer, 104.2ms\n",
      "Speed: 0.3ms preprocess, 104.2ms inference, 1.7ms postprocess per image at shape (1, 3, 640, 640)\n",
      "\n",
      "0: 160x640 1 handwrite, 11.1ms\n",
      "Speed: 0.2ms preprocess, 11.1ms inference, 0.4ms postprocess per image at shape (1, 3, 640, 640)\n",
      "\n",
      "0: 192x640 1 handwrite, 15.6ms\n",
      "Speed: 0.2ms preprocess, 15.6ms inference, 0.6ms postprocess per image at shape (1, 3, 640, 640)\n"
     ]
    },
    {
     "name": "stdout",
     "output_type": "stream",
     "text": [
      "in process: 418/1000\r"
     ]
    },
    {
     "name": "stderr",
     "output_type": "stream",
     "text": [
      "\n",
      "0: 640x480 1 content, 1 date, 1 number, 1 sender, 105.7ms\n",
      "Speed: 0.3ms preprocess, 105.7ms inference, 0.4ms postprocess per image at shape (1, 3, 640, 640)\n",
      "\n",
      "0: 160x640 1 handwrite, 10.5ms\n",
      "Speed: 0.2ms preprocess, 10.5ms inference, 0.3ms postprocess per image at shape (1, 3, 640, 640)\n",
      "\n",
      "0: 224x640 1 typewritten, 12.1ms\n",
      "Speed: 0.1ms preprocess, 12.1ms inference, 0.3ms postprocess per image at shape (1, 3, 640, 640)\n",
      "\n",
      "0: 640x480 (no detections), 105.9ms\n",
      "Speed: 0.3ms preprocess, 105.9ms inference, 0.2ms postprocess per image at shape (1, 3, 640, 640)\n",
      "\n",
      "0: 640x480 1 sender, 1 signer, 102.0ms\n",
      "Speed: 0.3ms preprocess, 102.0ms inference, 0.3ms postprocess per image at shape (1, 3, 640, 640)\n"
     ]
    },
    {
     "name": "stdout",
     "output_type": "stream",
     "text": [
      "in process: 419/1000\r"
     ]
    },
    {
     "name": "stderr",
     "output_type": "stream",
     "text": [
      "\n",
      "0: 640x480 1 date, 1 number, 1 sender, 1 signer, 102.5ms\n",
      "Speed: 0.3ms preprocess, 102.5ms inference, 2.6ms postprocess per image at shape (1, 3, 640, 640)\n",
      "\n",
      "0: 192x640 1 handwrite, 12.8ms\n",
      "Speed: 0.2ms preprocess, 12.8ms inference, 0.3ms postprocess per image at shape (1, 3, 640, 640)\n",
      "\n",
      "0: 192x640 1 handwrite, 10.2ms\n",
      "Speed: 0.1ms preprocess, 10.2ms inference, 0.3ms postprocess per image at shape (1, 3, 640, 640)\n"
     ]
    },
    {
     "name": "stdout",
     "output_type": "stream",
     "text": [
      "in process: 420/1000\r"
     ]
    },
    {
     "name": "stderr",
     "output_type": "stream",
     "text": [
      "\n",
      "0: 640x480 1 content, 1 date, 1 number, 1 sender, 104.3ms\n",
      "Speed: 0.3ms preprocess, 104.3ms inference, 0.4ms postprocess per image at shape (1, 3, 640, 640)\n",
      "\n",
      "0: 192x640 1 handwrite, 10.7ms\n",
      "Speed: 0.2ms preprocess, 10.7ms inference, 0.3ms postprocess per image at shape (1, 3, 640, 640)\n",
      "\n",
      "0: 160x640 1 handwrite, 10.1ms\n",
      "Speed: 0.1ms preprocess, 10.1ms inference, 0.3ms postprocess per image at shape (1, 3, 640, 640)\n",
      "\n",
      "0: 640x480 1 signer, 104.5ms\n",
      "Speed: 0.3ms preprocess, 104.5ms inference, 0.3ms postprocess per image at shape (1, 3, 640, 640)\n",
      "\n"
     ]
    },
    {
     "name": "stdout",
     "output_type": "stream",
     "text": [
      "in process: 421/1000\r"
     ]
    },
    {
     "name": "stderr",
     "output_type": "stream",
     "text": [
      "0: 640x480 1 date, 1 number, 1 sender, 1 signer, 103.4ms\n",
      "Speed: 0.3ms preprocess, 103.4ms inference, 1.8ms postprocess per image at shape (1, 3, 640, 640)\n",
      "\n",
      "0: 160x640 1 handwrite, 10.1ms\n",
      "Speed: 0.1ms preprocess, 10.1ms inference, 0.3ms postprocess per image at shape (1, 3, 640, 640)\n",
      "\n",
      "0: 160x640 1 handwrite, 9.9ms\n",
      "Speed: 0.2ms preprocess, 9.9ms inference, 0.3ms postprocess per image at shape (1, 3, 640, 640)\n"
     ]
    },
    {
     "name": "stdout",
     "output_type": "stream",
     "text": [
      "in process: 422/1000\r"
     ]
    },
    {
     "name": "stderr",
     "output_type": "stream",
     "text": [
      "\n",
      "0: 640x480 1 date, 1 number, 1 sender, 2 signers, 103.4ms\n",
      "Speed: 0.3ms preprocess, 103.4ms inference, 0.4ms postprocess per image at shape (1, 3, 640, 640)\n",
      "\n",
      "0: 160x640 1 handwrite, 10.2ms\n",
      "Speed: 0.2ms preprocess, 10.2ms inference, 0.3ms postprocess per image at shape (1, 3, 640, 640)\n",
      "\n",
      "0: 128x640 1 handwrite, 8.3ms\n",
      "Speed: 0.1ms preprocess, 8.3ms inference, 0.3ms postprocess per image at shape (1, 3, 640, 640)\n"
     ]
    },
    {
     "name": "stdout",
     "output_type": "stream",
     "text": [
      "in process: 423/1000\r"
     ]
    },
    {
     "name": "stderr",
     "output_type": "stream",
     "text": [
      "\n",
      "0: 640x480 1 content, 1 date, 1 number, 1 sender, 103.5ms\n",
      "Speed: 0.3ms preprocess, 103.5ms inference, 2.5ms postprocess per image at shape (1, 3, 640, 640)\n",
      "\n",
      "0: 192x640 1 handwrite, 10.6ms\n",
      "Speed: 0.2ms preprocess, 10.6ms inference, 0.3ms postprocess per image at shape (1, 3, 640, 640)\n",
      "\n",
      "0: 256x640 1 handwrite, 12.0ms\n",
      "Speed: 0.2ms preprocess, 12.0ms inference, 0.3ms postprocess per image at shape (1, 3, 640, 640)\n",
      "\n",
      "0: 640x480 1 signer, 104.7ms\n",
      "Speed: 0.3ms preprocess, 104.7ms inference, 0.3ms postprocess per image at shape (1, 3, 640, 640)\n"
     ]
    },
    {
     "name": "stdout",
     "output_type": "stream",
     "text": [
      "in process: 424/1000\r"
     ]
    },
    {
     "name": "stderr",
     "output_type": "stream",
     "text": [
      "\n",
      "0: 640x480 1 date, 1 number, 1 sender, 1 signer, 102.1ms\n",
      "Speed: 0.3ms preprocess, 102.1ms inference, 2.3ms postprocess per image at shape (1, 3, 640, 640)\n",
      "\n",
      "0: 192x640 1 handwrite, 10.3ms\n",
      "Speed: 0.2ms preprocess, 10.3ms inference, 0.3ms postprocess per image at shape (1, 3, 640, 640)\n",
      "\n",
      "0: 160x640 1 handwrite, 10.5ms\n",
      "Speed: 0.2ms preprocess, 10.5ms inference, 0.3ms postprocess per image at shape (1, 3, 640, 640)\n"
     ]
    },
    {
     "name": "stdout",
     "output_type": "stream",
     "text": [
      "in process: 425/1000\r"
     ]
    },
    {
     "name": "stderr",
     "output_type": "stream",
     "text": [
      "\n",
      "0: 640x480 1 sender, 102.2ms\n",
      "Speed: 0.3ms preprocess, 102.2ms inference, 0.3ms postprocess per image at shape (1, 3, 640, 640)\n",
      "\n",
      "0: 640x480 (no detections), 102.3ms\n",
      "Speed: 0.3ms preprocess, 102.3ms inference, 0.2ms postprocess per image at shape (1, 3, 640, 640)\n",
      "\n",
      "0: 640x480 1 signer, 102.7ms\n",
      "Speed: 0.3ms preprocess, 102.7ms inference, 0.3ms postprocess per image at shape (1, 3, 640, 640)\n"
     ]
    },
    {
     "name": "stdout",
     "output_type": "stream",
     "text": [
      "in process: 426/1000\r"
     ]
    },
    {
     "name": "stderr",
     "output_type": "stream",
     "text": [
      "\n",
      "0: 640x480 1 content, 1 date, 1 number, 1 sender, 1 signer, 104.1ms\n",
      "Speed: 0.3ms preprocess, 104.1ms inference, 2.0ms postprocess per image at shape (1, 3, 640, 640)\n",
      "\n",
      "0: 128x640 1 handwrite, 7.8ms\n",
      "Speed: 0.2ms preprocess, 7.8ms inference, 0.3ms postprocess per image at shape (1, 3, 640, 640)\n",
      "\n",
      "0: 160x640 1 handwrite, 9.9ms\n",
      "Speed: 0.2ms preprocess, 9.9ms inference, 0.4ms postprocess per image at shape (1, 3, 640, 640)\n"
     ]
    },
    {
     "name": "stdout",
     "output_type": "stream",
     "text": [
      "in process: 427/1000\r"
     ]
    },
    {
     "name": "stderr",
     "output_type": "stream",
     "text": [
      "\n",
      "0: 640x480 1 date, 1 number, 1 sender, 1 signer, 103.7ms\n",
      "Speed: 0.3ms preprocess, 103.7ms inference, 0.4ms postprocess per image at shape (1, 3, 640, 640)\n",
      "\n",
      "0: 160x640 1 handwrite, 9.0ms\n",
      "Speed: 0.2ms preprocess, 9.0ms inference, 0.3ms postprocess per image at shape (1, 3, 640, 640)\n",
      "\n",
      "0: 160x640 1 handwrite, 10.6ms\n",
      "Speed: 0.2ms preprocess, 10.6ms inference, 0.3ms postprocess per image at shape (1, 3, 640, 640)\n"
     ]
    },
    {
     "name": "stdout",
     "output_type": "stream",
     "text": [
      "in process: 428/1000\r"
     ]
    },
    {
     "name": "stderr",
     "output_type": "stream",
     "text": [
      "\n",
      "0: 640x480 1 date, 1 number, 1 sender, 1 signer, 106.5ms\n",
      "Speed: 0.3ms preprocess, 106.5ms inference, 0.4ms postprocess per image at shape (1, 3, 640, 640)\n",
      "\n",
      "0: 160x640 1 handwrite, 8.9ms\n",
      "Speed: 0.1ms preprocess, 8.9ms inference, 0.3ms postprocess per image at shape (1, 3, 640, 640)\n",
      "\n",
      "0: 128x640 1 handwrite, 8.5ms\n",
      "Speed: 0.1ms preprocess, 8.5ms inference, 0.4ms postprocess per image at shape (1, 3, 640, 640)\n"
     ]
    },
    {
     "name": "stdout",
     "output_type": "stream",
     "text": [
      "in process: 429/1000\r"
     ]
    },
    {
     "name": "stderr",
     "output_type": "stream",
     "text": [
      "\n",
      "0: 640x480 1 sender, 103.7ms\n",
      "Speed: 0.3ms preprocess, 103.7ms inference, 0.3ms postprocess per image at shape (1, 3, 640, 640)\n",
      "\n",
      "0: 640x480 (no detections), 103.3ms\n",
      "Speed: 0.3ms preprocess, 103.3ms inference, 0.2ms postprocess per image at shape (1, 3, 640, 640)\n",
      "\n",
      "0: 640x480 1 signer, 104.0ms\n",
      "Speed: 0.3ms preprocess, 104.0ms inference, 0.3ms postprocess per image at shape (1, 3, 640, 640)\n"
     ]
    },
    {
     "name": "stdout",
     "output_type": "stream",
     "text": [
      "in process: 430/1000\r"
     ]
    },
    {
     "name": "stderr",
     "output_type": "stream",
     "text": [
      "\n",
      "0: 640x480 1 content, 1 date, 1 number, 1 sender, 1 signer, 102.4ms\n",
      "Speed: 0.3ms preprocess, 102.4ms inference, 1.4ms postprocess per image at shape (1, 3, 640, 640)\n",
      "\n",
      "0: 192x640 1 handwrite, 10.3ms\n",
      "Speed: 0.2ms preprocess, 10.3ms inference, 0.3ms postprocess per image at shape (1, 3, 640, 640)\n",
      "\n",
      "0: 192x640 1 handwrite, 10.8ms\n",
      "Speed: 0.1ms preprocess, 10.8ms inference, 0.4ms postprocess per image at shape (1, 3, 640, 640)\n"
     ]
    },
    {
     "name": "stdout",
     "output_type": "stream",
     "text": [
      "in process: 431/1000\r"
     ]
    },
    {
     "name": "stderr",
     "output_type": "stream",
     "text": [
      "\n",
      "0: 640x480 1 content, 1 date, 1 number, 1 sender, 104.7ms\n",
      "Speed: 0.3ms preprocess, 104.7ms inference, 0.4ms postprocess per image at shape (1, 3, 640, 640)\n",
      "\n",
      "0: 192x640 1 handwrite, 10.1ms\n",
      "Speed: 0.2ms preprocess, 10.1ms inference, 0.3ms postprocess per image at shape (1, 3, 640, 640)\n",
      "\n",
      "0: 128x640 1 handwrite, 7.9ms\n",
      "Speed: 0.1ms preprocess, 7.9ms inference, 0.3ms postprocess per image at shape (1, 3, 640, 640)\n",
      "\n",
      "0: 640x480 1 signer, 102.9ms\n",
      "Speed: 0.3ms preprocess, 102.9ms inference, 0.3ms postprocess per image at shape (1, 3, 640, 640)\n",
      "\n"
     ]
    },
    {
     "name": "stdout",
     "output_type": "stream",
     "text": [
      "in process: 432/1000\r"
     ]
    },
    {
     "name": "stderr",
     "output_type": "stream",
     "text": [
      "0: 640x480 1 content, 1 date, 1 number, 1 sender, 1 signer, 102.5ms\n",
      "Speed: 0.3ms preprocess, 102.5ms inference, 0.4ms postprocess per image at shape (1, 3, 640, 640)\n",
      "\n",
      "0: 160x640 1 handwrite, 8.9ms\n",
      "Speed: 0.1ms preprocess, 8.9ms inference, 0.3ms postprocess per image at shape (1, 3, 640, 640)\n",
      "\n",
      "0: 160x640 1 handwrite, 8.5ms\n",
      "Speed: 0.1ms preprocess, 8.5ms inference, 0.3ms postprocess per image at shape (1, 3, 640, 640)\n"
     ]
    },
    {
     "name": "stdout",
     "output_type": "stream",
     "text": [
      "in process: 433/1000\r"
     ]
    },
    {
     "name": "stderr",
     "output_type": "stream",
     "text": [
      "\n",
      "0: 640x480 1 content, 1 date, 1 number, 104.2ms\n",
      "Speed: 0.3ms preprocess, 104.2ms inference, 0.3ms postprocess per image at shape (1, 3, 640, 640)\n",
      "\n",
      "0: 160x640 1 handwrite, 8.8ms\n",
      "Speed: 0.1ms preprocess, 8.8ms inference, 0.3ms postprocess per image at shape (1, 3, 640, 640)\n",
      "\n",
      "0: 224x640 1 handwrite, 10.5ms\n",
      "Speed: 0.1ms preprocess, 10.5ms inference, 0.3ms postprocess per image at shape (1, 3, 640, 640)\n",
      "\n",
      "0: 640x480 1 sender, 1 signer, 103.9ms\n",
      "Speed: 0.3ms preprocess, 103.9ms inference, 0.7ms postprocess per image at shape (1, 3, 640, 640)\n",
      "\n"
     ]
    },
    {
     "name": "stdout",
     "output_type": "stream",
     "text": [
      "in process: 434/1000\r"
     ]
    },
    {
     "name": "stderr",
     "output_type": "stream",
     "text": [
      "0: 640x480 1 date, 1 number, 1 sender, 1 signer, 104.1ms\n",
      "Speed: 0.3ms preprocess, 104.1ms inference, 2.1ms postprocess per image at shape (1, 3, 640, 640)\n",
      "\n",
      "0: 224x640 1 typewritten, 11.9ms\n",
      "Speed: 0.2ms preprocess, 11.9ms inference, 0.3ms postprocess per image at shape (1, 3, 640, 640)\n",
      "\n",
      "0: 128x640 1 typewritten, 8.7ms\n",
      "Speed: 0.2ms preprocess, 8.7ms inference, 0.3ms postprocess per image at shape (1, 3, 640, 640)\n"
     ]
    },
    {
     "name": "stdout",
     "output_type": "stream",
     "text": [
      "in process: 435/1000\r"
     ]
    },
    {
     "name": "stderr",
     "output_type": "stream",
     "text": [
      "\n",
      "0: 640x480 1 content, 1 date, 1 number, 1 sender, 1 signer, 105.4ms\n",
      "Speed: 0.3ms preprocess, 105.4ms inference, 1.7ms postprocess per image at shape (1, 3, 640, 640)\n",
      "\n",
      "0: 160x640 1 handwrite, 10.6ms\n",
      "Speed: 0.2ms preprocess, 10.6ms inference, 0.3ms postprocess per image at shape (1, 3, 640, 640)\n",
      "\n",
      "0: 192x640 1 handwrite, 11.2ms\n",
      "Speed: 0.1ms preprocess, 11.2ms inference, 0.3ms postprocess per image at shape (1, 3, 640, 640)\n"
     ]
    },
    {
     "name": "stdout",
     "output_type": "stream",
     "text": [
      "in process: 436/1000\r"
     ]
    },
    {
     "name": "stderr",
     "output_type": "stream",
     "text": [
      "\n",
      "0: 640x480 1 content, 1 date, 1 number, 1 sender, 1 signer, 102.2ms\n",
      "Speed: 0.3ms preprocess, 102.2ms inference, 0.4ms postprocess per image at shape (1, 3, 640, 640)\n",
      "\n",
      "0: 128x640 1 handwrite, 7.8ms\n",
      "Speed: 0.7ms preprocess, 7.8ms inference, 0.3ms postprocess per image at shape (1, 3, 640, 640)\n",
      "\n",
      "0: 192x640 1 handwrite, 15.6ms\n",
      "Speed: 0.2ms preprocess, 15.6ms inference, 0.6ms postprocess per image at shape (1, 3, 640, 640)\n",
      "\n",
      "0: 640x480 (no detections), 104.6ms\n",
      "Speed: 0.3ms preprocess, 104.6ms inference, 2.1ms postprocess per image at shape (1, 3, 640, 640)\n"
     ]
    },
    {
     "name": "stdout",
     "output_type": "stream",
     "text": [
      "in process: 437/1000\r",
      "in process: 438/1000\r"
     ]
    },
    {
     "name": "stderr",
     "output_type": "stream",
     "text": [
      "\n",
      "0: 640x480 1 date, 2 numbers, 1 sender, 1 signer, 104.4ms\n",
      "Speed: 0.3ms preprocess, 104.4ms inference, 0.3ms postprocess per image at shape (1, 3, 640, 640)\n",
      "\n",
      "0: 192x640 1 handwrite, 9.9ms\n",
      "Speed: 0.1ms preprocess, 9.9ms inference, 0.3ms postprocess per image at shape (1, 3, 640, 640)\n",
      "\n",
      "0: 160x640 1 handwrite, 9.2ms\n",
      "Speed: 0.2ms preprocess, 9.2ms inference, 0.3ms postprocess per image at shape (1, 3, 640, 640)\n",
      "\n",
      "0: 128x640 2 handwrites, 7.6ms\n",
      "Speed: 0.1ms preprocess, 7.6ms inference, 0.3ms postprocess per image at shape (1, 3, 640, 640)\n"
     ]
    },
    {
     "name": "stdout",
     "output_type": "stream",
     "text": [
      "in process: 439/1000\r"
     ]
    },
    {
     "name": "stderr",
     "output_type": "stream",
     "text": [
      "\n",
      "0: 640x480 1 signer, 102.2ms\n",
      "Speed: 0.3ms preprocess, 102.2ms inference, 0.3ms postprocess per image at shape (1, 3, 640, 640)\n",
      "\n"
     ]
    },
    {
     "name": "stdout",
     "output_type": "stream",
     "text": [
      "in process: 440/1000\r"
     ]
    },
    {
     "name": "stderr",
     "output_type": "stream",
     "text": [
      "0: 640x480 1 number, 1 sender, 1 signer, 102.4ms\n",
      "Speed: 0.3ms preprocess, 102.4ms inference, 2.0ms postprocess per image at shape (1, 3, 640, 640)\n",
      "\n",
      "0: 160x640 1 handwrite, 9.0ms\n",
      "Speed: 0.2ms preprocess, 9.0ms inference, 0.3ms postprocess per image at shape (1, 3, 640, 640)\n",
      "\n"
     ]
    },
    {
     "name": "stdout",
     "output_type": "stream",
     "text": [
      "in process: 441/1000\r"
     ]
    },
    {
     "name": "stderr",
     "output_type": "stream",
     "text": [
      "0: 640x480 1 content, 1 date, 1 number, 1 sender, 1 signer, 104.7ms\n",
      "Speed: 0.3ms preprocess, 104.7ms inference, 0.4ms postprocess per image at shape (1, 3, 640, 640)\n",
      "\n",
      "0: 160x640 1 handwrite, 8.9ms\n",
      "Speed: 0.2ms preprocess, 8.9ms inference, 0.3ms postprocess per image at shape (1, 3, 640, 640)\n",
      "\n",
      "0: 224x640 1 typewritten, 15.9ms\n",
      "Speed: 0.2ms preprocess, 15.9ms inference, 0.6ms postprocess per image at shape (1, 3, 640, 640)\n"
     ]
    },
    {
     "name": "stdout",
     "output_type": "stream",
     "text": [
      "in process: 442/1000\r"
     ]
    },
    {
     "name": "stderr",
     "output_type": "stream",
     "text": [
      "\n",
      "0: 640x480 1 content, 1 date, 1 number, 1 sender, 111.5ms\n",
      "Speed: 0.3ms preprocess, 111.5ms inference, 2.6ms postprocess per image at shape (1, 3, 640, 640)\n",
      "\n",
      "0: 192x640 1 handwrite, 15.6ms\n",
      "Speed: 0.2ms preprocess, 15.6ms inference, 0.6ms postprocess per image at shape (1, 3, 640, 640)\n",
      "\n",
      "0: 224x640 1 handwrite, 15.7ms\n",
      "Speed: 0.1ms preprocess, 15.7ms inference, 0.6ms postprocess per image at shape (1, 3, 640, 640)\n",
      "\n",
      "0: 640x480 1 signer, 104.9ms\n",
      "Speed: 0.3ms preprocess, 104.9ms inference, 0.3ms postprocess per image at shape (1, 3, 640, 640)\n",
      "\n"
     ]
    },
    {
     "name": "stdout",
     "output_type": "stream",
     "text": [
      "in process: 443/1000\r"
     ]
    },
    {
     "name": "stderr",
     "output_type": "stream",
     "text": [
      "0: 640x480 1 signer, 105.2ms\n",
      "Speed: 0.3ms preprocess, 105.2ms inference, 1.8ms postprocess per image at shape (1, 3, 640, 640)\n"
     ]
    },
    {
     "name": "stdout",
     "output_type": "stream",
     "text": [
      "in process: 444/1000\r"
     ]
    },
    {
     "name": "stderr",
     "output_type": "stream",
     "text": [
      "\n",
      "0: 640x480 1 date, 1 number, 1 signer, 105.1ms\n",
      "Speed: 0.3ms preprocess, 105.1ms inference, 0.3ms postprocess per image at shape (1, 3, 640, 640)\n",
      "\n",
      "0: 160x640 1 handwrite, 10.1ms\n",
      "Speed: 0.1ms preprocess, 10.1ms inference, 0.3ms postprocess per image at shape (1, 3, 640, 640)\n",
      "\n",
      "0: 192x640 1 handwrite, 10.5ms\n",
      "Speed: 0.1ms preprocess, 10.5ms inference, 0.3ms postprocess per image at shape (1, 3, 640, 640)\n"
     ]
    },
    {
     "name": "stdout",
     "output_type": "stream",
     "text": [
      "in process: 445/1000\r"
     ]
    },
    {
     "name": "stderr",
     "output_type": "stream",
     "text": [
      "\n",
      "0: 640x480 1 content, 1 date, 1 number, 2 senders, 1 signer, 105.7ms\n",
      "Speed: 0.3ms preprocess, 105.7ms inference, 1.9ms postprocess per image at shape (1, 3, 640, 640)\n",
      "\n",
      "0: 160x640 1 handwrite, 14.5ms\n",
      "Speed: 0.2ms preprocess, 14.5ms inference, 0.6ms postprocess per image at shape (1, 3, 640, 640)\n",
      "\n",
      "0: 128x640 1 handwrite, 12.4ms\n",
      "Speed: 0.1ms preprocess, 12.4ms inference, 0.6ms postprocess per image at shape (1, 3, 640, 640)\n"
     ]
    },
    {
     "name": "stdout",
     "output_type": "stream",
     "text": [
      "in process: 446/1000\r"
     ]
    },
    {
     "name": "stderr",
     "output_type": "stream",
     "text": [
      "\n",
      "0: 640x480 1 date, 1 number, 1 sender, 1 signer, 105.3ms\n",
      "Speed: 0.3ms preprocess, 105.3ms inference, 0.4ms postprocess per image at shape (1, 3, 640, 640)\n",
      "\n",
      "0: 128x640 1 handwrite, 8.3ms\n",
      "Speed: 0.2ms preprocess, 8.3ms inference, 0.3ms postprocess per image at shape (1, 3, 640, 640)\n",
      "\n",
      "0: 160x640 1 handwrite, 10.1ms\n",
      "Speed: 0.2ms preprocess, 10.1ms inference, 0.3ms postprocess per image at shape (1, 3, 640, 640)\n",
      "\n"
     ]
    },
    {
     "name": "stdout",
     "output_type": "stream",
     "text": [
      "in process: 447/1000\r"
     ]
    },
    {
     "name": "stderr",
     "output_type": "stream",
     "text": [
      "0: 480x640 1 date, 1 number, 1 sender, 104.6ms\n",
      "Speed: 0.3ms preprocess, 104.6ms inference, 2.0ms postprocess per image at shape (1, 3, 640, 640)\n",
      "\n",
      "0: 128x640 1 typewritten, 8.3ms\n",
      "Speed: 0.2ms preprocess, 8.3ms inference, 0.3ms postprocess per image at shape (1, 3, 640, 640)\n",
      "\n",
      "0: 192x640 1 typewritten, 10.6ms\n",
      "Speed: 0.2ms preprocess, 10.6ms inference, 0.3ms postprocess per image at shape (1, 3, 640, 640)\n",
      "\n",
      "0: 640x480 (no detections), 104.3ms\n",
      "Speed: 0.3ms preprocess, 104.3ms inference, 0.2ms postprocess per image at shape (1, 3, 640, 640)\n"
     ]
    },
    {
     "name": "stdout",
     "output_type": "stream",
     "text": [
      "in process: 448/1000\r"
     ]
    },
    {
     "name": "stderr",
     "output_type": "stream",
     "text": [
      "\n",
      "0: 640x480 1 content, 1 date, 1 number, 1 sender, 1 signer, 103.7ms\n",
      "Speed: 0.3ms preprocess, 103.7ms inference, 0.4ms postprocess per image at shape (1, 3, 640, 640)\n",
      "\n",
      "0: 160x640 1 handwrite, 10.0ms\n",
      "Speed: 0.2ms preprocess, 10.0ms inference, 0.3ms postprocess per image at shape (1, 3, 640, 640)\n",
      "\n",
      "0: 192x640 1 handwrite, 10.7ms\n",
      "Speed: 0.2ms preprocess, 10.7ms inference, 0.3ms postprocess per image at shape (1, 3, 640, 640)\n",
      "\n"
     ]
    },
    {
     "name": "stdout",
     "output_type": "stream",
     "text": [
      "in process: 449/1000\r"
     ]
    },
    {
     "name": "stderr",
     "output_type": "stream",
     "text": [
      "0: 640x480 1 date, 1 number, 1 sender, 1 signer, 108.3ms\n",
      "Speed: 0.3ms preprocess, 108.3ms inference, 0.7ms postprocess per image at shape (1, 3, 640, 640)\n",
      "\n",
      "0: 160x640 1 handwrite, 14.9ms\n",
      "Speed: 0.2ms preprocess, 14.9ms inference, 0.6ms postprocess per image at shape (1, 3, 640, 640)\n",
      "\n",
      "0: 192x640 1 handwrite, 15.0ms\n",
      "Speed: 0.1ms preprocess, 15.0ms inference, 0.6ms postprocess per image at shape (1, 3, 640, 640)\n"
     ]
    },
    {
     "name": "stdout",
     "output_type": "stream",
     "text": [
      "in process: 450/1000\r"
     ]
    },
    {
     "name": "stderr",
     "output_type": "stream",
     "text": [
      "\n",
      "0: 640x480 (no detections), 104.9ms\n",
      "Speed: 0.3ms preprocess, 104.9ms inference, 2.0ms postprocess per image at shape (1, 3, 640, 640)\n",
      "\n",
      "0: 640x480 1 signer, 104.5ms\n",
      "Speed: 0.3ms preprocess, 104.5ms inference, 0.3ms postprocess per image at shape (1, 3, 640, 640)\n",
      "\n"
     ]
    },
    {
     "name": "stdout",
     "output_type": "stream",
     "text": [
      "in process: 451/1000\r"
     ]
    },
    {
     "name": "stderr",
     "output_type": "stream",
     "text": [
      "0: 640x480 1 date, 2 numbers, 1 sender, 1 signer, 102.9ms\n",
      "Speed: 10.9ms preprocess, 102.9ms inference, 2.0ms postprocess per image at shape (1, 3, 640, 640)\n",
      "\n",
      "0: 128x640 1 typewritten, 10.4ms\n",
      "Speed: 0.3ms preprocess, 10.4ms inference, 0.3ms postprocess per image at shape (1, 3, 640, 640)\n",
      "\n",
      "0: 128x640 1 typewritten, 8.2ms\n",
      "Speed: 0.2ms preprocess, 8.2ms inference, 0.3ms postprocess per image at shape (1, 3, 640, 640)\n",
      "\n",
      "0: 224x640 1 typewritten, 11.8ms\n",
      "Speed: 0.2ms preprocess, 11.8ms inference, 0.3ms postprocess per image at shape (1, 3, 640, 640)\n"
     ]
    },
    {
     "name": "stdout",
     "output_type": "stream",
     "text": [
      "in process: 452/1000\r"
     ]
    },
    {
     "name": "stderr",
     "output_type": "stream",
     "text": [
      "\n",
      "0: 640x480 1 content, 1 date, 1 number, 1 sender, 1 signer, 104.7ms\n",
      "Speed: 0.3ms preprocess, 104.7ms inference, 0.4ms postprocess per image at shape (1, 3, 640, 640)\n",
      "\n",
      "0: 160x640 1 handwrite, 10.1ms\n",
      "Speed: 0.6ms preprocess, 10.1ms inference, 0.3ms postprocess per image at shape (1, 3, 640, 640)\n",
      "\n",
      "0: 160x640 1 handwrite, 10.0ms\n",
      "Speed: 0.1ms preprocess, 10.0ms inference, 0.3ms postprocess per image at shape (1, 3, 640, 640)\n",
      "\n"
     ]
    },
    {
     "name": "stdout",
     "output_type": "stream",
     "text": [
      "in process: 453/1000\r"
     ]
    },
    {
     "name": "stderr",
     "output_type": "stream",
     "text": [
      "0: 640x448 1 sender, 1 signer, 99.8ms\n",
      "Speed: 0.3ms preprocess, 99.8ms inference, 1.5ms postprocess per image at shape (1, 3, 640, 640)\n"
     ]
    },
    {
     "name": "stdout",
     "output_type": "stream",
     "text": [
      "in process: 454/1000\r"
     ]
    },
    {
     "name": "stderr",
     "output_type": "stream",
     "text": [
      "\n",
      "0: 640x480 1 date, 1 number, 1 sender, 1 signer, 108.5ms\n",
      "Speed: 0.3ms preprocess, 108.5ms inference, 0.3ms postprocess per image at shape (1, 3, 640, 640)\n",
      "\n",
      "0: 160x640 1 handwrite, 9.9ms\n",
      "Speed: 0.2ms preprocess, 9.9ms inference, 0.3ms postprocess per image at shape (1, 3, 640, 640)\n",
      "\n",
      "0: 192x640 1 handwrite, 10.6ms\n",
      "Speed: 0.1ms preprocess, 10.6ms inference, 0.3ms postprocess per image at shape (1, 3, 640, 640)\n"
     ]
    },
    {
     "name": "stdout",
     "output_type": "stream",
     "text": [
      "in process: 455/1000\r"
     ]
    },
    {
     "name": "stderr",
     "output_type": "stream",
     "text": [
      "\n",
      "0: 640x480 (no detections), 103.3ms\n",
      "Speed: 0.3ms preprocess, 103.3ms inference, 0.2ms postprocess per image at shape (1, 3, 640, 640)\n",
      "\n",
      "0: 640x480 (no detections), 101.9ms\n",
      "Speed: 0.3ms preprocess, 101.9ms inference, 0.2ms postprocess per image at shape (1, 3, 640, 640)\n",
      "\n",
      "0: 640x480 (no detections), 108.7ms\n",
      "Speed: 0.3ms preprocess, 108.7ms inference, 0.2ms postprocess per image at shape (1, 3, 640, 640)\n",
      "\n",
      "0: 640x480 (no detections), 104.6ms\n",
      "Speed: 0.3ms preprocess, 104.6ms inference, 0.2ms postprocess per image at shape (1, 3, 640, 640)\n",
      "\n",
      "0: 640x480 (no detections), 102.9ms\n",
      "Speed: 0.3ms preprocess, 102.9ms inference, 0.2ms postprocess per image at shape (1, 3, 640, 640)\n",
      "\n",
      "0: 640x480 (no detections), 109.1ms\n",
      "Speed: 0.3ms preprocess, 109.1ms inference, 0.2ms postprocess per image at shape (1, 3, 640, 640)\n",
      "\n",
      "0: 640x480 (no detections), 102.3ms\n",
      "Speed: 0.3ms preprocess, 102.3ms inference, 0.2ms postprocess per image at shape (1, 3, 640, 640)\n",
      "\n",
      "0: 640x480 (no detections), 102.7ms\n",
      "Speed: 0.3ms preprocess, 102.7ms inference, 0.2ms postprocess per image at shape (1, 3, 640, 640)\n",
      "\n",
      "0: 640x480 (no detections), 104.4ms\n",
      "Speed: 0.3ms preprocess, 104.4ms inference, 0.2ms postprocess per image at shape (1, 3, 640, 640)\n",
      "\n",
      "0: 640x480 (no detections), 104.5ms\n",
      "Speed: 0.3ms preprocess, 104.5ms inference, 0.2ms postprocess per image at shape (1, 3, 640, 640)\n"
     ]
    },
    {
     "name": "stdout",
     "output_type": "stream",
     "text": [
      "in process: 456/1000\r"
     ]
    },
    {
     "name": "stderr",
     "output_type": "stream",
     "text": [
      "\n",
      "0: 640x480 1 date, 1 number, 1 sender, 1 signer, 102.3ms\n",
      "Speed: 0.3ms preprocess, 102.3ms inference, 0.3ms postprocess per image at shape (1, 3, 640, 640)\n",
      "\n",
      "0: 128x640 2 typewrittens, 8.4ms\n",
      "Speed: 0.6ms preprocess, 8.4ms inference, 0.3ms postprocess per image at shape (1, 3, 640, 640)\n",
      "\n",
      "0: 192x640 1 typewritten, 11.7ms\n",
      "Speed: 0.2ms preprocess, 11.7ms inference, 0.4ms postprocess per image at shape (1, 3, 640, 640)\n",
      "\n"
     ]
    },
    {
     "name": "stdout",
     "output_type": "stream",
     "text": [
      "in process: 457/1000\r"
     ]
    },
    {
     "name": "stderr",
     "output_type": "stream",
     "text": [
      "0: 640x480 1 date, 1 number, 1 sender, 1 signer, 104.8ms\n",
      "Speed: 0.3ms preprocess, 104.8ms inference, 0.3ms postprocess per image at shape (1, 3, 640, 640)\n",
      "\n",
      "0: 192x640 2 typewrittens, 10.7ms\n",
      "Speed: 0.2ms preprocess, 10.7ms inference, 0.3ms postprocess per image at shape (1, 3, 640, 640)\n",
      "\n",
      "0: 224x640 1 typewritten, 11.8ms\n",
      "Speed: 0.2ms preprocess, 11.8ms inference, 0.3ms postprocess per image at shape (1, 3, 640, 640)\n"
     ]
    },
    {
     "name": "stdout",
     "output_type": "stream",
     "text": [
      "in process: 458/1000\r"
     ]
    },
    {
     "name": "stderr",
     "output_type": "stream",
     "text": [
      "\n",
      "0: 640x480 1 content, 1 date, 1 number, 1 sender, 1 signer, 104.7ms\n",
      "Speed: 0.3ms preprocess, 104.7ms inference, 1.8ms postprocess per image at shape (1, 3, 640, 640)\n",
      "\n",
      "0: 128x640 1 handwrite, 11.0ms\n",
      "Speed: 0.2ms preprocess, 11.0ms inference, 0.6ms postprocess per image at shape (1, 3, 640, 640)\n",
      "\n",
      "0: 192x640 1 handwrite, 15.7ms\n",
      "Speed: 0.1ms preprocess, 15.7ms inference, 0.6ms postprocess per image at shape (1, 3, 640, 640)\n"
     ]
    },
    {
     "name": "stdout",
     "output_type": "stream",
     "text": [
      "in process: 459/1000\r"
     ]
    },
    {
     "name": "stderr",
     "output_type": "stream",
     "text": [
      "\n",
      "0: 640x480 1 content, 1 date, 1 number, 1 sender, 102.9ms\n",
      "Speed: 0.3ms preprocess, 102.9ms inference, 0.4ms postprocess per image at shape (1, 3, 640, 640)\n",
      "\n",
      "0: 160x640 1 handwrite, 10.0ms\n",
      "Speed: 0.2ms preprocess, 10.0ms inference, 0.3ms postprocess per image at shape (1, 3, 640, 640)\n",
      "\n",
      "0: 192x640 1 typewritten, 10.6ms\n",
      "Speed: 0.2ms preprocess, 10.6ms inference, 0.3ms postprocess per image at shape (1, 3, 640, 640)\n",
      "\n",
      "0: 640x480 1 signer, 104.5ms\n",
      "Speed: 0.3ms preprocess, 104.5ms inference, 0.3ms postprocess per image at shape (1, 3, 640, 640)\n"
     ]
    },
    {
     "name": "stdout",
     "output_type": "stream",
     "text": [
      "in process: 460/1000\r"
     ]
    },
    {
     "name": "stderr",
     "output_type": "stream",
     "text": [
      "\n",
      "0: 640x480 1 content, 1 date, 1 number, 1 sender, 1 signer, 103.2ms\n",
      "Speed: 0.3ms preprocess, 103.2ms inference, 2.6ms postprocess per image at shape (1, 3, 640, 640)\n",
      "\n",
      "0: 224x640 1 handwrite, 1 typewritten, 13.3ms\n",
      "Speed: 0.2ms preprocess, 13.3ms inference, 0.3ms postprocess per image at shape (1, 3, 640, 640)\n",
      "\n",
      "0: 192x640 1 handwrite, 10.7ms\n",
      "Speed: 0.1ms preprocess, 10.7ms inference, 0.3ms postprocess per image at shape (1, 3, 640, 640)\n"
     ]
    },
    {
     "name": "stdout",
     "output_type": "stream",
     "text": [
      "in process: 461/1000\r"
     ]
    },
    {
     "name": "stderr",
     "output_type": "stream",
     "text": [
      "\n",
      "0: 640x480 1 date, 1 number, 1 signer, 106.3ms\n",
      "Speed: 0.3ms preprocess, 106.3ms inference, 0.4ms postprocess per image at shape (1, 3, 640, 640)\n",
      "\n",
      "0: 160x640 1 handwrite, 9.9ms\n",
      "Speed: 0.1ms preprocess, 9.9ms inference, 0.3ms postprocess per image at shape (1, 3, 640, 640)\n",
      "\n",
      "0: 96x640 1 handwrite, 7.1ms\n",
      "Speed: 0.1ms preprocess, 7.1ms inference, 0.3ms postprocess per image at shape (1, 3, 640, 640)\n"
     ]
    },
    {
     "name": "stdout",
     "output_type": "stream",
     "text": [
      "in process: 462/1000\r"
     ]
    },
    {
     "name": "stderr",
     "output_type": "stream",
     "text": [
      "\n",
      "0: 640x480 2 contents, 1 date, 1 number, 1 sender, 1 signer, 104.7ms\n",
      "Speed: 0.3ms preprocess, 104.7ms inference, 1.7ms postprocess per image at shape (1, 3, 640, 640)\n",
      "\n",
      "0: 192x640 1 handwrite, 10.6ms\n",
      "Speed: 0.2ms preprocess, 10.6ms inference, 0.3ms postprocess per image at shape (1, 3, 640, 640)\n",
      "\n",
      "0: 192x640 1 handwrite, 21.5ms\n",
      "Speed: 0.2ms preprocess, 21.5ms inference, 0.3ms postprocess per image at shape (1, 3, 640, 640)\n"
     ]
    },
    {
     "name": "stdout",
     "output_type": "stream",
     "text": [
      "in process: 463/1000\r"
     ]
    },
    {
     "name": "stderr",
     "output_type": "stream",
     "text": [
      "\n",
      "0: 640x480 1 date, 1 number, 1 sender, 1 signer, 102.6ms\n",
      "Speed: 0.3ms preprocess, 102.6ms inference, 0.4ms postprocess per image at shape (1, 3, 640, 640)\n",
      "\n",
      "0: 160x640 1 handwrite, 14.8ms\n",
      "Speed: 0.2ms preprocess, 14.8ms inference, 0.6ms postprocess per image at shape (1, 3, 640, 640)\n",
      "\n",
      "0: 192x640 1 handwrite, 15.7ms\n",
      "Speed: 0.1ms preprocess, 15.7ms inference, 0.6ms postprocess per image at shape (1, 3, 640, 640)\n"
     ]
    },
    {
     "name": "stdout",
     "output_type": "stream",
     "text": [
      "in process: 464/1000\r"
     ]
    },
    {
     "name": "stderr",
     "output_type": "stream",
     "text": [
      "\n",
      "0: 640x480 1 date, 1 number, 2 senders, 104.6ms\n",
      "Speed: 0.3ms preprocess, 104.6ms inference, 0.3ms postprocess per image at shape (1, 3, 640, 640)\n",
      "\n",
      "0: 128x640 1 handwrite, 8.3ms\n",
      "Speed: 0.1ms preprocess, 8.3ms inference, 0.3ms postprocess per image at shape (1, 3, 640, 640)\n",
      "\n",
      "0: 288x640 1 handwrite, 13.7ms\n",
      "Speed: 0.1ms preprocess, 13.7ms inference, 0.3ms postprocess per image at shape (1, 3, 640, 640)\n",
      "\n",
      "0: 640x480 (no detections), 101.7ms\n",
      "Speed: 0.3ms preprocess, 101.7ms inference, 0.2ms postprocess per image at shape (1, 3, 640, 640)\n",
      "\n",
      "0: 640x480 1 date, 1 sender, 102.9ms\n",
      "Speed: 0.3ms preprocess, 102.9ms inference, 0.3ms postprocess per image at shape (1, 3, 640, 640)\n",
      "\n",
      "0: 160x640 1 typewritten, 10.1ms\n",
      "Speed: 0.2ms preprocess, 10.1ms inference, 0.3ms postprocess per image at shape (1, 3, 640, 640)\n",
      "\n",
      "0: 640x480 1 sender, 104.5ms\n",
      "Speed: 0.3ms preprocess, 104.5ms inference, 0.3ms postprocess per image at shape (1, 3, 640, 640)\n",
      "\n",
      "0: 640x480 (no detections), 104.9ms\n",
      "Speed: 0.3ms preprocess, 104.9ms inference, 0.2ms postprocess per image at shape (1, 3, 640, 640)\n",
      "\n",
      "0: 640x480 (no detections), 104.2ms\n",
      "Speed: 0.3ms preprocess, 104.2ms inference, 0.2ms postprocess per image at shape (1, 3, 640, 640)\n",
      "\n",
      "0: 640x480 (no detections), 116.3ms\n",
      "Speed: 0.3ms preprocess, 116.3ms inference, 0.2ms postprocess per image at shape (1, 3, 640, 640)\n",
      "\n",
      "0: 640x480 (no detections), 104.9ms\n",
      "Speed: 0.3ms preprocess, 104.9ms inference, 0.2ms postprocess per image at shape (1, 3, 640, 640)\n",
      "\n",
      "0: 640x480 (no detections), 104.7ms\n",
      "Speed: 0.3ms preprocess, 104.7ms inference, 0.2ms postprocess per image at shape (1, 3, 640, 640)\n",
      "\n",
      "0: 640x480 (no detections), 104.8ms\n",
      "Speed: 0.3ms preprocess, 104.8ms inference, 0.2ms postprocess per image at shape (1, 3, 640, 640)\n"
     ]
    },
    {
     "name": "stdout",
     "output_type": "stream",
     "text": [
      "in process: 465/1000\r"
     ]
    },
    {
     "name": "stderr",
     "output_type": "stream",
     "text": [
      "\n",
      "0: 640x512 1 content, 1 date, 1 number, 1 sender, 110.2ms\n",
      "Speed: 0.3ms preprocess, 110.2ms inference, 4.6ms postprocess per image at shape (1, 3, 640, 640)\n",
      "\n",
      "0: 160x640 1 handwrite, 1 typewritten, 9.9ms\n",
      "Speed: 0.2ms preprocess, 9.9ms inference, 0.3ms postprocess per image at shape (1, 3, 640, 640)\n",
      "\n",
      "0: 224x640 1 typewritten, 11.8ms\n",
      "Speed: 0.1ms preprocess, 11.8ms inference, 0.3ms postprocess per image at shape (1, 3, 640, 640)\n",
      "\n",
      "0: 640x512 1 signer, 115.5ms\n",
      "Speed: 0.3ms preprocess, 115.5ms inference, 0.3ms postprocess per image at shape (1, 3, 640, 640)\n"
     ]
    },
    {
     "name": "stdout",
     "output_type": "stream",
     "text": [
      "in process: 466/1000\r"
     ]
    },
    {
     "name": "stderr",
     "output_type": "stream",
     "text": [
      "\n",
      "0: 640x480 1 date, 2 senders, 107.2ms\n",
      "Speed: 0.3ms preprocess, 107.2ms inference, 2.2ms postprocess per image at shape (1, 3, 640, 640)\n",
      "\n",
      "0: 160x640 1 typewritten, 10.1ms\n",
      "Speed: 0.2ms preprocess, 10.1ms inference, 0.3ms postprocess per image at shape (1, 3, 640, 640)\n",
      "\n",
      "0: 640x480 1 sender, 1 signer, 102.8ms\n",
      "Speed: 0.3ms preprocess, 102.8ms inference, 0.3ms postprocess per image at shape (1, 3, 640, 640)\n"
     ]
    },
    {
     "name": "stdout",
     "output_type": "stream",
     "text": [
      "in process: 467/1000\r"
     ]
    },
    {
     "name": "stderr",
     "output_type": "stream",
     "text": [
      "\n",
      "0: 640x480 1 content, 1 date, 1 number, 1 sender, 102.3ms\n",
      "Speed: 0.3ms preprocess, 102.3ms inference, 2.3ms postprocess per image at shape (1, 3, 640, 640)\n",
      "\n",
      "0: 192x640 1 handwrite, 15.8ms\n",
      "Speed: 0.3ms preprocess, 15.8ms inference, 0.6ms postprocess per image at shape (1, 3, 640, 640)\n",
      "\n",
      "0: 128x640 1 handwrite, 12.4ms\n",
      "Speed: 0.1ms preprocess, 12.4ms inference, 0.6ms postprocess per image at shape (1, 3, 640, 640)\n",
      "\n",
      "0: 640x480 (no detections), 104.6ms\n",
      "Speed: 0.3ms preprocess, 104.6ms inference, 0.2ms postprocess per image at shape (1, 3, 640, 640)\n",
      "\n",
      "0: 640x480 1 signer, 105.1ms\n",
      "Speed: 0.3ms preprocess, 105.1ms inference, 0.3ms postprocess per image at shape (1, 3, 640, 640)\n"
     ]
    },
    {
     "name": "stdout",
     "output_type": "stream",
     "text": [
      "in process: 468/1000\r"
     ]
    },
    {
     "name": "stderr",
     "output_type": "stream",
     "text": [
      "\n",
      "0: 640x480 1 date, 1 number, 1 sender, 1 signer, 103.3ms\n",
      "Speed: 0.3ms preprocess, 103.3ms inference, 1.7ms postprocess per image at shape (1, 3, 640, 640)\n",
      "\n",
      "0: 224x640 1 handwrite, 16.3ms\n",
      "Speed: 0.2ms preprocess, 16.3ms inference, 0.6ms postprocess per image at shape (1, 3, 640, 640)\n",
      "\n",
      "0: 160x640 1 handwrite, 14.9ms\n",
      "Speed: 0.2ms preprocess, 14.9ms inference, 0.6ms postprocess per image at shape (1, 3, 640, 640)\n"
     ]
    },
    {
     "name": "stdout",
     "output_type": "stream",
     "text": [
      "in process: 469/1000\r"
     ]
    },
    {
     "name": "stderr",
     "output_type": "stream",
     "text": [
      "\n",
      "0: 640x480 1 content, 1 date, 1 number, 2 senders, 106.0ms\n",
      "Speed: 0.3ms preprocess, 106.0ms inference, 0.4ms postprocess per image at shape (1, 3, 640, 640)\n",
      "\n",
      "0: 192x640 1 handwrite, 10.9ms\n",
      "Speed: 0.2ms preprocess, 10.9ms inference, 0.3ms postprocess per image at shape (1, 3, 640, 640)\n",
      "\n",
      "0: 128x640 1 handwrite, 8.7ms\n",
      "Speed: 0.2ms preprocess, 8.7ms inference, 0.3ms postprocess per image at shape (1, 3, 640, 640)\n",
      "\n",
      "0: 640x480 1 signer, 102.7ms\n",
      "Speed: 0.3ms preprocess, 102.7ms inference, 0.3ms postprocess per image at shape (1, 3, 640, 640)\n"
     ]
    },
    {
     "name": "stdout",
     "output_type": "stream",
     "text": [
      "in process: 470/1000\r"
     ]
    },
    {
     "name": "stderr",
     "output_type": "stream",
     "text": [
      "\n",
      "0: 640x480 2 senders, 2 signers, 103.2ms\n",
      "Speed: 0.3ms preprocess, 103.2ms inference, 0.5ms postprocess per image at shape (1, 3, 640, 640)\n"
     ]
    },
    {
     "name": "stdout",
     "output_type": "stream",
     "text": [
      "in process: 471/1000\r"
     ]
    },
    {
     "name": "stderr",
     "output_type": "stream",
     "text": [
      "\n",
      "0: 640x480 1 content, 1 date, 1 number, 1 sender, 1 signer, 104.8ms\n",
      "Speed: 0.3ms preprocess, 104.8ms inference, 0.4ms postprocess per image at shape (1, 3, 640, 640)\n",
      "\n",
      "0: 192x640 1 handwrite, 15.8ms\n",
      "Speed: 0.2ms preprocess, 15.8ms inference, 0.6ms postprocess per image at shape (1, 3, 640, 640)\n",
      "\n",
      "0: 160x640 1 handwrite, 14.8ms\n",
      "Speed: 0.2ms preprocess, 14.8ms inference, 0.6ms postprocess per image at shape (1, 3, 640, 640)\n"
     ]
    },
    {
     "name": "stdout",
     "output_type": "stream",
     "text": [
      "in process: 472/1000\r"
     ]
    },
    {
     "name": "stderr",
     "output_type": "stream",
     "text": [
      "\n",
      "0: 640x480 1 number, 1 sender, 1 signer, 105.4ms\n",
      "Speed: 0.3ms preprocess, 105.4ms inference, 2.4ms postprocess per image at shape (1, 3, 640, 640)\n",
      "\n",
      "0: 160x640 1 handwrite, 14.5ms\n",
      "Speed: 0.2ms preprocess, 14.5ms inference, 0.6ms postprocess per image at shape (1, 3, 640, 640)\n",
      "\n"
     ]
    },
    {
     "name": "stdout",
     "output_type": "stream",
     "text": [
      "in process: 473/1000\r"
     ]
    },
    {
     "name": "stderr",
     "output_type": "stream",
     "text": [
      "0: 640x480 1 date, 1 number, 2 senders, 1 signer, 104.4ms\n",
      "Speed: 0.3ms preprocess, 104.4ms inference, 0.4ms postprocess per image at shape (1, 3, 640, 640)\n",
      "\n",
      "0: 128x640 1 handwrite, 8.4ms\n",
      "Speed: 0.1ms preprocess, 8.4ms inference, 0.3ms postprocess per image at shape (1, 3, 640, 640)\n",
      "\n",
      "0: 128x640 1 handwrite, 7.9ms\n",
      "Speed: 0.1ms preprocess, 7.9ms inference, 0.3ms postprocess per image at shape (1, 3, 640, 640)\n"
     ]
    },
    {
     "name": "stdout",
     "output_type": "stream",
     "text": [
      "in process: 474/1000\r"
     ]
    },
    {
     "name": "stderr",
     "output_type": "stream",
     "text": [
      "\n",
      "0: 640x480 1 sender, 1 signer, 105.1ms\n",
      "Speed: 0.3ms preprocess, 105.1ms inference, 0.3ms postprocess per image at shape (1, 3, 640, 640)\n"
     ]
    },
    {
     "name": "stdout",
     "output_type": "stream",
     "text": [
      "in process: 475/1000\r"
     ]
    },
    {
     "name": "stderr",
     "output_type": "stream",
     "text": [
      "\n",
      "0: 640x480 1 content, 1 date, 1 number, 1 sender, 1 signer, 105.3ms\n",
      "Speed: 0.3ms preprocess, 105.3ms inference, 2.1ms postprocess per image at shape (1, 3, 640, 640)\n",
      "\n",
      "0: 160x640 1 handwrite, 10.2ms\n",
      "Speed: 0.2ms preprocess, 10.2ms inference, 0.3ms postprocess per image at shape (1, 3, 640, 640)\n",
      "\n",
      "0: 160x640 1 handwrite, 9.7ms\n",
      "Speed: 0.1ms preprocess, 9.7ms inference, 0.3ms postprocess per image at shape (1, 3, 640, 640)\n"
     ]
    },
    {
     "name": "stdout",
     "output_type": "stream",
     "text": [
      "in process: 476/1000\r"
     ]
    },
    {
     "name": "stderr",
     "output_type": "stream",
     "text": [
      "\n",
      "0: 640x480 1 content, 1 date, 1 number, 1 sender, 1 signer, 105.2ms\n",
      "Speed: 0.3ms preprocess, 105.2ms inference, 0.4ms postprocess per image at shape (1, 3, 640, 640)\n",
      "\n",
      "0: 128x640 1 handwrite, 9.3ms\n",
      "Speed: 0.2ms preprocess, 9.3ms inference, 0.4ms postprocess per image at shape (1, 3, 640, 640)\n",
      "\n",
      "0: 192x640 1 handwrite, 11.7ms\n",
      "Speed: 0.1ms preprocess, 11.7ms inference, 0.4ms postprocess per image at shape (1, 3, 640, 640)\n"
     ]
    },
    {
     "name": "stdout",
     "output_type": "stream",
     "text": [
      "in process: 477/1000\r"
     ]
    },
    {
     "name": "stderr",
     "output_type": "stream",
     "text": [
      "\n",
      "0: 640x480 1 sender, 105.9ms\n",
      "Speed: 0.3ms preprocess, 105.9ms inference, 1.8ms postprocess per image at shape (1, 3, 640, 640)\n",
      "\n",
      "0: 640x480 1 signer, 104.4ms\n",
      "Speed: 0.3ms preprocess, 104.4ms inference, 0.3ms postprocess per image at shape (1, 3, 640, 640)\n",
      "\n"
     ]
    },
    {
     "name": "stdout",
     "output_type": "stream",
     "text": [
      "in process: 478/1000\r"
     ]
    },
    {
     "name": "stderr",
     "output_type": "stream",
     "text": [
      "0: 640x480 1 date, 1 number, 1 sender, 2 signers, 106.5ms\n",
      "Speed: 0.3ms preprocess, 106.5ms inference, 1.8ms postprocess per image at shape (1, 3, 640, 640)\n",
      "\n",
      "0: 128x640 1 handwrite, 8.4ms\n",
      "Speed: 0.2ms preprocess, 8.4ms inference, 0.3ms postprocess per image at shape (1, 3, 640, 640)\n",
      "\n",
      "0: 192x640 2 handwrites, 10.6ms\n",
      "Speed: 0.1ms preprocess, 10.6ms inference, 0.3ms postprocess per image at shape (1, 3, 640, 640)\n",
      "\n"
     ]
    },
    {
     "name": "stdout",
     "output_type": "stream",
     "text": [
      "in process: 479/1000\r"
     ]
    },
    {
     "name": "stderr",
     "output_type": "stream",
     "text": [
      "0: 640x480 1 date, 1 number, 1 sender, 1 signer, 104.9ms\n",
      "Speed: 0.3ms preprocess, 104.9ms inference, 0.4ms postprocess per image at shape (1, 3, 640, 640)\n",
      "\n",
      "0: 224x640 1 typewritten, 11.8ms\n",
      "Speed: 0.2ms preprocess, 11.8ms inference, 0.3ms postprocess per image at shape (1, 3, 640, 640)\n",
      "\n",
      "0: 192x640 3 handwrites, 12.6ms\n",
      "Speed: 0.2ms preprocess, 12.6ms inference, 0.3ms postprocess per image at shape (1, 3, 640, 640)\n"
     ]
    },
    {
     "name": "stdout",
     "output_type": "stream",
     "text": [
      "in process: 480/1000\r"
     ]
    },
    {
     "name": "stderr",
     "output_type": "stream",
     "text": [
      "\n",
      "0: 640x480 1 date, 1 number, 1 sender, 1 signer, 105.2ms\n",
      "Speed: 0.3ms preprocess, 105.2ms inference, 1.6ms postprocess per image at shape (1, 3, 640, 640)\n",
      "\n",
      "0: 128x640 1 handwrite, 8.4ms\n",
      "Speed: 0.1ms preprocess, 8.4ms inference, 0.3ms postprocess per image at shape (1, 3, 640, 640)\n",
      "\n",
      "0: 128x640 1 handwrite, 12.5ms\n",
      "Speed: 0.2ms preprocess, 12.5ms inference, 0.6ms postprocess per image at shape (1, 3, 640, 640)\n",
      "\n",
      "0: 640x480 1 date, 1 number, 1 sender, 1 signer, 103.6ms\n",
      "Speed: 0.3ms preprocess, 103.6ms inference, 0.4ms postprocess per image at shape (1, 3, 640, 640)\n"
     ]
    },
    {
     "name": "stdout",
     "output_type": "stream",
     "text": [
      "in process: 481/1000\r"
     ]
    },
    {
     "name": "stderr",
     "output_type": "stream",
     "text": [
      "\n",
      "0: 192x640 1 typewritten, 15.7ms\n",
      "Speed: 0.2ms preprocess, 15.7ms inference, 0.6ms postprocess per image at shape (1, 3, 640, 640)\n",
      "\n",
      "0: 224x640 1 typewritten, 16.3ms\n",
      "Speed: 0.2ms preprocess, 16.3ms inference, 0.6ms postprocess per image at shape (1, 3, 640, 640)\n"
     ]
    },
    {
     "name": "stdout",
     "output_type": "stream",
     "text": [
      "in process: 482/1000\r"
     ]
    },
    {
     "name": "stderr",
     "output_type": "stream",
     "text": [
      "\n",
      "0: 640x480 1 date, 1 number, 1 sender, 102.3ms\n",
      "Speed: 0.3ms preprocess, 102.3ms inference, 1.7ms postprocess per image at shape (1, 3, 640, 640)\n",
      "\n",
      "0: 224x640 1 handwrite, 11.6ms\n",
      "Speed: 0.1ms preprocess, 11.6ms inference, 0.3ms postprocess per image at shape (1, 3, 640, 640)\n",
      "\n",
      "0: 128x640 1 handwrite, 8.2ms\n",
      "Speed: 0.1ms preprocess, 8.2ms inference, 0.3ms postprocess per image at shape (1, 3, 640, 640)\n",
      "\n",
      "0: 640x480 1 signer, 105.5ms\n",
      "Speed: 0.3ms preprocess, 105.5ms inference, 0.3ms postprocess per image at shape (1, 3, 640, 640)\n"
     ]
    },
    {
     "name": "stdout",
     "output_type": "stream",
     "text": [
      "in process: 483/1000\r"
     ]
    },
    {
     "name": "stderr",
     "output_type": "stream",
     "text": [
      "\n",
      "0: 640x480 2 senders, 103.5ms\n",
      "Speed: 0.3ms preprocess, 103.5ms inference, 1.5ms postprocess per image at shape (1, 3, 640, 640)\n",
      "\n",
      "0: 640x480 1 signer, 105.3ms\n",
      "Speed: 0.3ms preprocess, 105.3ms inference, 0.3ms postprocess per image at shape (1, 3, 640, 640)\n",
      "\n"
     ]
    },
    {
     "name": "stdout",
     "output_type": "stream",
     "text": [
      "in process: 484/1000\r"
     ]
    },
    {
     "name": "stderr",
     "output_type": "stream",
     "text": [
      "0: 640x480 1 date, 2 numbers, 1 sender, 1 signer, 103.4ms\n",
      "Speed: 0.3ms preprocess, 103.4ms inference, 1.6ms postprocess per image at shape (1, 3, 640, 640)\n",
      "\n",
      "0: 128x640 1 handwrite, 1 typewritten, 9.1ms\n",
      "Speed: 0.2ms preprocess, 9.1ms inference, 0.4ms postprocess per image at shape (1, 3, 640, 640)\n",
      "\n",
      "0: 128x640 2 typewrittens, 8.4ms\n",
      "Speed: 0.2ms preprocess, 8.4ms inference, 0.3ms postprocess per image at shape (1, 3, 640, 640)\n",
      "\n",
      "0: 160x640 2 typewrittens, 10.2ms\n",
      "Speed: 0.2ms preprocess, 10.2ms inference, 0.3ms postprocess per image at shape (1, 3, 640, 640)\n"
     ]
    },
    {
     "name": "stdout",
     "output_type": "stream",
     "text": [
      "in process: 485/1000\r"
     ]
    },
    {
     "name": "stderr",
     "output_type": "stream",
     "text": [
      "\n",
      "0: 480x640 1 sender, 104.5ms\n",
      "Speed: 0.3ms preprocess, 104.5ms inference, 1.5ms postprocess per image at shape (1, 3, 640, 640)\n",
      "\n",
      "0: 640x480 (no detections), 105.6ms\n",
      "Speed: 0.3ms preprocess, 105.6ms inference, 0.2ms postprocess per image at shape (1, 3, 640, 640)\n",
      "\n",
      "0: 640x480 (no detections), 106.3ms\n",
      "Speed: 0.3ms preprocess, 106.3ms inference, 0.2ms postprocess per image at shape (1, 3, 640, 640)\n",
      "\n",
      "0: 640x480 (no detections), 103.5ms\n",
      "Speed: 0.3ms preprocess, 103.5ms inference, 0.2ms postprocess per image at shape (1, 3, 640, 640)\n",
      "\n",
      "0: 640x480 (no detections), 102.8ms\n",
      "Speed: 0.3ms preprocess, 102.8ms inference, 0.2ms postprocess per image at shape (1, 3, 640, 640)\n",
      "\n",
      "0: 640x480 (no detections), 103.0ms\n",
      "Speed: 0.3ms preprocess, 103.0ms inference, 0.2ms postprocess per image at shape (1, 3, 640, 640)\n",
      "\n",
      "0: 640x480 (no detections), 103.3ms\n",
      "Speed: 0.3ms preprocess, 103.3ms inference, 0.2ms postprocess per image at shape (1, 3, 640, 640)\n",
      "\n",
      "0: 640x480 (no detections), 105.6ms\n",
      "Speed: 0.3ms preprocess, 105.6ms inference, 0.2ms postprocess per image at shape (1, 3, 640, 640)\n",
      "\n",
      "0: 640x480 1 content, 1 date, 1 number, 2 senders, 1 signer, 103.8ms\n",
      "Speed: 0.3ms preprocess, 103.8ms inference, 0.3ms postprocess per image at shape (1, 3, 640, 640)\n",
      "\n",
      "0: 224x640 1 typewritten, 12.5ms\n",
      "Speed: 0.2ms preprocess, 12.5ms inference, 0.3ms postprocess per image at shape (1, 3, 640, 640)\n",
      "\n",
      "0: 160x640 4 handwrites, 1 typewritten, 10.7ms\n",
      "Speed: 0.2ms preprocess, 10.7ms inference, 0.3ms postprocess per image at shape (1, 3, 640, 640)\n",
      "\n"
     ]
    },
    {
     "name": "stdout",
     "output_type": "stream",
     "text": [
      "in process: 486/1000\r"
     ]
    },
    {
     "name": "stderr",
     "output_type": "stream",
     "text": [
      "0: 640x480 1 content, 1 number, 1 signer, 103.8ms\n",
      "Speed: 0.3ms preprocess, 103.8ms inference, 1.5ms postprocess per image at shape (1, 3, 640, 640)\n",
      "\n",
      "0: 192x640 1 handwrite, 11.2ms\n",
      "Speed: 0.2ms preprocess, 11.2ms inference, 0.3ms postprocess per image at shape (1, 3, 640, 640)\n"
     ]
    },
    {
     "name": "stdout",
     "output_type": "stream",
     "text": [
      "in process: 487/1000\r"
     ]
    },
    {
     "name": "stderr",
     "output_type": "stream",
     "text": [
      "\n",
      "0: 640x480 1 date, 1 sender, 1 signer, 103.4ms\n",
      "Speed: 0.3ms preprocess, 103.4ms inference, 0.3ms postprocess per image at shape (1, 3, 640, 640)\n",
      "\n",
      "0: 192x640 1 handwrite, 11.2ms\n",
      "Speed: 0.2ms preprocess, 11.2ms inference, 0.3ms postprocess per image at shape (1, 3, 640, 640)\n"
     ]
    },
    {
     "name": "stdout",
     "output_type": "stream",
     "text": [
      "in process: 488/1000\r"
     ]
    },
    {
     "name": "stderr",
     "output_type": "stream",
     "text": [
      "\n",
      "0: 640x480 1 content, 1 date, 1 number, 1 sender, 103.4ms\n",
      "Speed: 0.3ms preprocess, 103.4ms inference, 0.4ms postprocess per image at shape (1, 3, 640, 640)\n",
      "\n",
      "0: 128x640 1 handwrite, 8.9ms\n",
      "Speed: 0.2ms preprocess, 8.9ms inference, 0.3ms postprocess per image at shape (1, 3, 640, 640)\n",
      "\n",
      "0: 192x640 1 handwrite, 11.3ms\n",
      "Speed: 0.1ms preprocess, 11.3ms inference, 0.3ms postprocess per image at shape (1, 3, 640, 640)\n",
      "\n",
      "0: 640x480 1 signer, 102.1ms\n",
      "Speed: 0.3ms preprocess, 102.1ms inference, 0.3ms postprocess per image at shape (1, 3, 640, 640)\n"
     ]
    },
    {
     "name": "stdout",
     "output_type": "stream",
     "text": [
      "in process: 489/1000\r"
     ]
    },
    {
     "name": "stderr",
     "output_type": "stream",
     "text": [
      "\n",
      "0: 640x480 1 date, 1 number, 103.6ms\n",
      "Speed: 0.3ms preprocess, 103.6ms inference, 1.9ms postprocess per image at shape (1, 3, 640, 640)\n",
      "\n",
      "0: 128x640 1 handwrite, 9.0ms\n",
      "Speed: 0.1ms preprocess, 9.0ms inference, 0.3ms postprocess per image at shape (1, 3, 640, 640)\n",
      "\n",
      "0: 160x640 1 handwrite, 11.2ms\n",
      "Speed: 0.1ms preprocess, 11.2ms inference, 0.3ms postprocess per image at shape (1, 3, 640, 640)\n",
      "\n",
      "0: 640x480 (no detections), 103.6ms\n",
      "Speed: 0.3ms preprocess, 103.6ms inference, 0.2ms postprocess per image at shape (1, 3, 640, 640)\n",
      "\n",
      "0: 640x480 (no detections), 103.7ms\n",
      "Speed: 0.3ms preprocess, 103.7ms inference, 0.2ms postprocess per image at shape (1, 3, 640, 640)\n",
      "\n",
      "0: 640x480 (no detections), 104.9ms\n",
      "Speed: 0.3ms preprocess, 104.9ms inference, 0.2ms postprocess per image at shape (1, 3, 640, 640)\n",
      "\n",
      "0: 640x480 (no detections), 105.2ms\n",
      "Speed: 0.3ms preprocess, 105.2ms inference, 0.2ms postprocess per image at shape (1, 3, 640, 640)\n",
      "\n",
      "0: 640x480 (no detections), 104.8ms\n",
      "Speed: 0.3ms preprocess, 104.8ms inference, 0.2ms postprocess per image at shape (1, 3, 640, 640)\n",
      "\n",
      "0: 640x480 1 content, 1 number, 1 signer, 104.8ms\n",
      "Speed: 0.3ms preprocess, 104.8ms inference, 0.3ms postprocess per image at shape (1, 3, 640, 640)\n",
      "\n",
      "0: 320x640 1 typewritten, 24.0ms\n",
      "Speed: 0.2ms preprocess, 24.0ms inference, 0.6ms postprocess per image at shape (1, 3, 640, 640)\n"
     ]
    },
    {
     "name": "stdout",
     "output_type": "stream",
     "text": [
      "in process: 490/1000\r"
     ]
    },
    {
     "name": "stderr",
     "output_type": "stream",
     "text": [
      "\n",
      "0: 640x480 1 content, 1 date, 1 number, 2 senders, 1 signer, 102.9ms\n",
      "Speed: 0.3ms preprocess, 102.9ms inference, 4.5ms postprocess per image at shape (1, 3, 640, 640)\n",
      "\n",
      "0: 192x640 1 handwrite, 10.8ms\n",
      "Speed: 0.2ms preprocess, 10.8ms inference, 0.3ms postprocess per image at shape (1, 3, 640, 640)\n",
      "\n",
      "0: 128x640 1 handwrite, 8.5ms\n",
      "Speed: 0.2ms preprocess, 8.5ms inference, 0.3ms postprocess per image at shape (1, 3, 640, 640)\n",
      "\n"
     ]
    },
    {
     "name": "stdout",
     "output_type": "stream",
     "text": [
      "in process: 491/1000\r"
     ]
    },
    {
     "name": "stderr",
     "output_type": "stream",
     "text": [
      "0: 640x480 1 date, 1 number, 1 signer, 105.0ms\n",
      "Speed: 0.3ms preprocess, 105.0ms inference, 0.4ms postprocess per image at shape (1, 3, 640, 640)\n",
      "\n",
      "0: 224x640 1 typewritten, 15.7ms\n",
      "Speed: 0.1ms preprocess, 15.7ms inference, 0.6ms postprocess per image at shape (1, 3, 640, 640)\n",
      "\n",
      "0: 224x640 1 handwrite, 17.8ms\n",
      "Speed: 0.2ms preprocess, 17.8ms inference, 0.6ms postprocess per image at shape (1, 3, 640, 640)\n",
      "\n"
     ]
    },
    {
     "name": "stdout",
     "output_type": "stream",
     "text": [
      "in process: 492/1000\r"
     ]
    },
    {
     "name": "stderr",
     "output_type": "stream",
     "text": [
      "0: 480x640 1 date, 1 number, 1 sender, 105.5ms\n",
      "Speed: 0.3ms preprocess, 105.5ms inference, 2.1ms postprocess per image at shape (1, 3, 640, 640)\n",
      "\n",
      "0: 192x640 1 handwrite, 1 typewritten, 15.4ms\n",
      "Speed: 0.2ms preprocess, 15.4ms inference, 0.6ms postprocess per image at shape (1, 3, 640, 640)\n",
      "\n",
      "0: 128x640 1 typewritten, 12.6ms\n",
      "Speed: 0.2ms preprocess, 12.6ms inference, 0.6ms postprocess per image at shape (1, 3, 640, 640)\n",
      "\n",
      "0: 640x480 (no detections), 107.0ms\n",
      "Speed: 0.3ms preprocess, 107.0ms inference, 0.2ms postprocess per image at shape (1, 3, 640, 640)\n"
     ]
    },
    {
     "name": "stdout",
     "output_type": "stream",
     "text": [
      "in process: 493/1000\r"
     ]
    },
    {
     "name": "stderr",
     "output_type": "stream",
     "text": [
      "\n",
      "0: 640x480 1 content, 1 date, 1 number, 2 senders, 1 signer, 103.1ms\n",
      "Speed: 0.3ms preprocess, 103.1ms inference, 0.4ms postprocess per image at shape (1, 3, 640, 640)\n",
      "\n",
      "0: 128x640 1 handwrite, 8.3ms\n",
      "Speed: 0.2ms preprocess, 8.3ms inference, 0.3ms postprocess per image at shape (1, 3, 640, 640)\n",
      "\n",
      "0: 192x640 1 handwrite, 14.7ms\n",
      "Speed: 0.2ms preprocess, 14.7ms inference, 0.3ms postprocess per image at shape (1, 3, 640, 640)\n"
     ]
    },
    {
     "name": "stdout",
     "output_type": "stream",
     "text": [
      "in process: 494/1000\r"
     ]
    },
    {
     "name": "stderr",
     "output_type": "stream",
     "text": [
      "\n",
      "0: 640x512 1 date, 1 number, 1 sender, 1 signer, 109.5ms\n",
      "Speed: 0.3ms preprocess, 109.5ms inference, 2.0ms postprocess per image at shape (1, 3, 640, 640)\n",
      "\n",
      "0: 160x640 1 handwrite, 10.5ms\n",
      "Speed: 0.1ms preprocess, 10.5ms inference, 0.3ms postprocess per image at shape (1, 3, 640, 640)\n",
      "\n",
      "0: 160x640 1 handwrite, 10.2ms\n",
      "Speed: 0.1ms preprocess, 10.2ms inference, 0.3ms postprocess per image at shape (1, 3, 640, 640)\n"
     ]
    },
    {
     "name": "stdout",
     "output_type": "stream",
     "text": [
      "in process: 495/1000\r"
     ]
    },
    {
     "name": "stderr",
     "output_type": "stream",
     "text": [
      "\n",
      "0: 640x480 1 sender, 102.6ms\n",
      "Speed: 0.3ms preprocess, 102.6ms inference, 0.3ms postprocess per image at shape (1, 3, 640, 640)\n",
      "\n",
      "0: 640x448 (no detections), 101.2ms\n",
      "Speed: 0.2ms preprocess, 101.2ms inference, 0.2ms postprocess per image at shape (1, 3, 640, 640)\n",
      "\n",
      "0: 640x480 1 sender, 103.4ms\n",
      "Speed: 0.3ms preprocess, 103.4ms inference, 0.3ms postprocess per image at shape (1, 3, 640, 640)\n",
      "\n",
      "0: 640x480 (no detections), 102.9ms\n",
      "Speed: 0.3ms preprocess, 102.9ms inference, 0.2ms postprocess per image at shape (1, 3, 640, 640)\n",
      "\n",
      "0: 640x480 2 senders, 1 signer, 104.8ms\n",
      "Speed: 0.3ms preprocess, 104.8ms inference, 0.3ms postprocess per image at shape (1, 3, 640, 640)\n",
      "\n"
     ]
    },
    {
     "name": "stdout",
     "output_type": "stream",
     "text": [
      "in process: 496/1000\r"
     ]
    },
    {
     "name": "stderr",
     "output_type": "stream",
     "text": [
      "0: 640x480 1 content, 1 date, 1 number, 1 sender, 1 signer, 104.0ms\n",
      "Speed: 0.3ms preprocess, 104.0ms inference, 0.4ms postprocess per image at shape (1, 3, 640, 640)\n",
      "\n",
      "0: 160x640 2 handwrites, 10.0ms\n",
      "Speed: 0.2ms preprocess, 10.0ms inference, 0.3ms postprocess per image at shape (1, 3, 640, 640)\n",
      "\n",
      "0: 192x640 1 handwrite, 13.7ms\n",
      "Speed: 0.2ms preprocess, 13.7ms inference, 0.3ms postprocess per image at shape (1, 3, 640, 640)\n",
      "\n"
     ]
    },
    {
     "name": "stdout",
     "output_type": "stream",
     "text": [
      "in process: 497/1000\r"
     ]
    },
    {
     "name": "stderr",
     "output_type": "stream",
     "text": [
      "0: 640x480 1 date, 1 number, 2 senders, 1 signer, 105.1ms\n",
      "Speed: 0.3ms preprocess, 105.1ms inference, 0.4ms postprocess per image at shape (1, 3, 640, 640)\n",
      "\n",
      "0: 192x640 1 handwrite, 10.5ms\n",
      "Speed: 0.1ms preprocess, 10.5ms inference, 0.3ms postprocess per image at shape (1, 3, 640, 640)\n",
      "\n",
      "0: 128x640 1 handwrite, 8.4ms\n",
      "Speed: 0.2ms preprocess, 8.4ms inference, 0.3ms postprocess per image at shape (1, 3, 640, 640)\n"
     ]
    },
    {
     "name": "stdout",
     "output_type": "stream",
     "text": [
      "in process: 498/1000\r"
     ]
    },
    {
     "name": "stderr",
     "output_type": "stream",
     "text": [
      "\n",
      "0: 640x480 1 date, 1 number, 2 senders, 106.0ms\n",
      "Speed: 0.3ms preprocess, 106.0ms inference, 1.9ms postprocess per image at shape (1, 3, 640, 640)\n",
      "\n",
      "0: 128x640 1 typewritten, 12.4ms\n",
      "Speed: 0.2ms preprocess, 12.4ms inference, 0.6ms postprocess per image at shape (1, 3, 640, 640)\n",
      "\n",
      "0: 224x640 1 typewritten, 12.4ms\n",
      "Speed: 4.1ms preprocess, 12.4ms inference, 0.5ms postprocess per image at shape (1, 3, 640, 640)\n",
      "\n",
      "0: 640x480 1 sender, 105.1ms\n",
      "Speed: 0.3ms preprocess, 105.1ms inference, 0.3ms postprocess per image at shape (1, 3, 640, 640)\n",
      "\n",
      "0: 640x480 1 sender, 1 signer, 105.4ms\n",
      "Speed: 0.3ms preprocess, 105.4ms inference, 0.3ms postprocess per image at shape (1, 3, 640, 640)\n"
     ]
    },
    {
     "name": "stdout",
     "output_type": "stream",
     "text": [
      "in process: 499/1000\r"
     ]
    },
    {
     "name": "stderr",
     "output_type": "stream",
     "text": [
      "\n",
      "0: 640x480 1 content, 1 date, 1 number, 1 sender, 102.8ms\n",
      "Speed: 0.3ms preprocess, 102.8ms inference, 1.7ms postprocess per image at shape (1, 3, 640, 640)\n",
      "\n",
      "0: 192x640 1 handwrite, 15.8ms\n",
      "Speed: 0.2ms preprocess, 15.8ms inference, 0.6ms postprocess per image at shape (1, 3, 640, 640)\n",
      "\n",
      "0: 128x640 1 handwrite, 12.0ms\n",
      "Speed: 0.1ms preprocess, 12.0ms inference, 0.6ms postprocess per image at shape (1, 3, 640, 640)\n",
      "\n",
      "0: 640x480 (no detections), 103.8ms\n",
      "Speed: 0.3ms preprocess, 103.8ms inference, 0.2ms postprocess per image at shape (1, 3, 640, 640)\n",
      "\n",
      "0: 640x480 1 signer, 105.2ms\n",
      "Speed: 0.3ms preprocess, 105.2ms inference, 0.3ms postprocess per image at shape (1, 3, 640, 640)\n",
      "\n"
     ]
    },
    {
     "name": "stdout",
     "output_type": "stream",
     "text": [
      "in process: 500/1000\r"
     ]
    },
    {
     "name": "stderr",
     "output_type": "stream",
     "text": [
      "0: 640x480 1 date, 1 number, 1 sender, 103.3ms\n",
      "Speed: 0.3ms preprocess, 103.3ms inference, 2.8ms postprocess per image at shape (1, 3, 640, 640)\n",
      "\n",
      "0: 160x640 1 handwrite, 14.9ms\n",
      "Speed: 0.2ms preprocess, 14.9ms inference, 0.6ms postprocess per image at shape (1, 3, 640, 640)\n",
      "\n",
      "0: 192x640 1 typewritten, 15.3ms\n",
      "Speed: 0.1ms preprocess, 15.3ms inference, 0.6ms postprocess per image at shape (1, 3, 640, 640)\n",
      "\n",
      "0: 640x480 1 signer, 105.2ms\n",
      "Speed: 0.3ms preprocess, 105.2ms inference, 0.3ms postprocess per image at shape (1, 3, 640, 640)\n",
      "\n"
     ]
    },
    {
     "name": "stdout",
     "output_type": "stream",
     "text": [
      "in process: 501/1000\r"
     ]
    },
    {
     "name": "stderr",
     "output_type": "stream",
     "text": [
      "0: 640x480 1 content, 1 date, 1 number, 2 senders, 1 signer, 103.1ms\n",
      "Speed: 0.3ms preprocess, 103.1ms inference, 2.1ms postprocess per image at shape (1, 3, 640, 640)\n",
      "\n",
      "0: 192x640 1 handwrite, 11.2ms\n",
      "Speed: 0.1ms preprocess, 11.2ms inference, 0.3ms postprocess per image at shape (1, 3, 640, 640)\n",
      "\n",
      "0: 192x640 1 handwrite, 11.3ms\n",
      "Speed: 0.1ms preprocess, 11.3ms inference, 0.3ms postprocess per image at shape (1, 3, 640, 640)\n"
     ]
    },
    {
     "name": "stdout",
     "output_type": "stream",
     "text": [
      "in process: 502/1000\r"
     ]
    },
    {
     "name": "stderr",
     "output_type": "stream",
     "text": [
      "\n",
      "0: 640x480 (no detections), 103.1ms\n",
      "Speed: 0.3ms preprocess, 103.1ms inference, 0.2ms postprocess per image at shape (1, 3, 640, 640)\n",
      "\n",
      "0: 640x480 (no detections), 105.9ms\n",
      "Speed: 0.3ms preprocess, 105.9ms inference, 0.2ms postprocess per image at shape (1, 3, 640, 640)\n",
      "\n",
      "0: 640x512 (no detections), 109.6ms\n",
      "Speed: 0.3ms preprocess, 109.6ms inference, 0.2ms postprocess per image at shape (1, 3, 640, 640)\n"
     ]
    },
    {
     "name": "stdout",
     "output_type": "stream",
     "text": [
      "in process: 503/1000\r"
     ]
    },
    {
     "name": "stderr",
     "output_type": "stream",
     "text": [
      "\n",
      "0: 640x480 1 date, 1 signer, 103.6ms\n",
      "Speed: 0.3ms preprocess, 103.6ms inference, 2.8ms postprocess per image at shape (1, 3, 640, 640)\n",
      "\n",
      "0: 224x640 1 typewritten, 12.4ms\n",
      "Speed: 0.2ms preprocess, 12.4ms inference, 0.3ms postprocess per image at shape (1, 3, 640, 640)\n"
     ]
    },
    {
     "name": "stdout",
     "output_type": "stream",
     "text": [
      "in process: 504/1000\r"
     ]
    },
    {
     "name": "stderr",
     "output_type": "stream",
     "text": [
      "\n",
      "0: 640x480 1 content, 1 date, 1 number, 1 signer, 104.6ms\n",
      "Speed: 0.3ms preprocess, 104.6ms inference, 0.3ms postprocess per image at shape (1, 3, 640, 640)\n",
      "\n",
      "0: 160x640 1 handwrite, 10.5ms\n",
      "Speed: 0.1ms preprocess, 10.5ms inference, 0.3ms postprocess per image at shape (1, 3, 640, 640)\n",
      "\n",
      "0: 160x640 1 handwrite, 10.6ms\n",
      "Speed: 2.0ms preprocess, 10.6ms inference, 0.3ms postprocess per image at shape (1, 3, 640, 640)\n",
      "\n"
     ]
    },
    {
     "name": "stdout",
     "output_type": "stream",
     "text": [
      "in process: 505/1000\r"
     ]
    },
    {
     "name": "stderr",
     "output_type": "stream",
     "text": [
      "0: 640x480 1 number, 1 sender, 102.5ms\n",
      "Speed: 0.3ms preprocess, 102.5ms inference, 0.3ms postprocess per image at shape (1, 3, 640, 640)\n",
      "\n",
      "0: 160x640 2 typewrittens, 10.6ms\n",
      "Speed: 0.2ms preprocess, 10.6ms inference, 0.3ms postprocess per image at shape (1, 3, 640, 640)\n",
      "\n",
      "0: 640x480 1 signer, 105.3ms\n",
      "Speed: 0.3ms preprocess, 105.3ms inference, 0.3ms postprocess per image at shape (1, 3, 640, 640)\n",
      "\n"
     ]
    },
    {
     "name": "stdout",
     "output_type": "stream",
     "text": [
      "in process: 506/1000\r"
     ]
    },
    {
     "name": "stderr",
     "output_type": "stream",
     "text": [
      "0: 640x480 1 content, 1 date, 1 number, 1 sender, 1 signer, 104.1ms\n",
      "Speed: 0.3ms preprocess, 104.1ms inference, 1.5ms postprocess per image at shape (1, 3, 640, 640)\n",
      "\n",
      "0: 192x640 1 handwrite, 11.2ms\n",
      "Speed: 0.2ms preprocess, 11.2ms inference, 0.3ms postprocess per image at shape (1, 3, 640, 640)\n",
      "\n",
      "0: 128x640 1 handwrite, 8.6ms\n",
      "Speed: 0.1ms preprocess, 8.6ms inference, 0.3ms postprocess per image at shape (1, 3, 640, 640)\n"
     ]
    },
    {
     "name": "stdout",
     "output_type": "stream",
     "text": [
      "in process: 507/1000\r"
     ]
    },
    {
     "name": "stderr",
     "output_type": "stream",
     "text": [
      "\n",
      "0: 640x480 1 content, 1 date, 1 number, 1 sender, 1 signer, 104.2ms\n",
      "Speed: 0.3ms preprocess, 104.2ms inference, 0.4ms postprocess per image at shape (1, 3, 640, 640)\n",
      "\n",
      "0: 288x640 1 handwrite, 14.6ms\n",
      "Speed: 0.1ms preprocess, 14.6ms inference, 0.3ms postprocess per image at shape (1, 3, 640, 640)\n",
      "\n",
      "0: 128x640 1 handwrite, 8.8ms\n",
      "Speed: 0.1ms preprocess, 8.8ms inference, 0.3ms postprocess per image at shape (1, 3, 640, 640)\n",
      "\n"
     ]
    },
    {
     "name": "stdout",
     "output_type": "stream",
     "text": [
      "in process: 508/1000\r"
     ]
    },
    {
     "name": "stderr",
     "output_type": "stream",
     "text": [
      "0: 640x480 1 date, 1 number, 2 senders, 103.4ms\n",
      "Speed: 0.3ms preprocess, 103.4ms inference, 0.4ms postprocess per image at shape (1, 3, 640, 640)\n",
      "\n",
      "0: 160x640 1 handwrite, 10.6ms\n",
      "Speed: 0.2ms preprocess, 10.6ms inference, 0.3ms postprocess per image at shape (1, 3, 640, 640)\n",
      "\n",
      "0: 256x640 1 handwrite, 13.1ms\n",
      "Speed: 0.1ms preprocess, 13.1ms inference, 0.3ms postprocess per image at shape (1, 3, 640, 640)\n",
      "\n",
      "0: 640x480 1 signer, 102.4ms\n",
      "Speed: 0.3ms preprocess, 102.4ms inference, 0.3ms postprocess per image at shape (1, 3, 640, 640)\n",
      "\n"
     ]
    },
    {
     "name": "stdout",
     "output_type": "stream",
     "text": [
      "in process: 509/1000\r"
     ]
    },
    {
     "name": "stderr",
     "output_type": "stream",
     "text": [
      "0: 640x480 1 date, 1 number, 1 sender, 103.5ms\n",
      "Speed: 0.4ms preprocess, 103.5ms inference, 1.8ms postprocess per image at shape (1, 3, 640, 640)\n",
      "\n",
      "0: 192x640 1 handwrite, 11.8ms\n",
      "Speed: 0.2ms preprocess, 11.8ms inference, 0.3ms postprocess per image at shape (1, 3, 640, 640)\n",
      "\n",
      "0: 160x640 1 handwrite, 10.7ms\n",
      "Speed: 0.1ms preprocess, 10.7ms inference, 0.3ms postprocess per image at shape (1, 3, 640, 640)\n",
      "\n"
     ]
    },
    {
     "name": "stdout",
     "output_type": "stream",
     "text": [
      "in process: 510/1000\r"
     ]
    },
    {
     "name": "stderr",
     "output_type": "stream",
     "text": [
      "0: 640x480 2 dates, 1 signer, 105.9ms\n",
      "Speed: 0.3ms preprocess, 105.9ms inference, 1.7ms postprocess per image at shape (1, 3, 640, 640)\n",
      "\n",
      "0: 192x640 1 handwrite, 11.3ms\n",
      "Speed: 0.2ms preprocess, 11.3ms inference, 0.3ms postprocess per image at shape (1, 3, 640, 640)\n",
      "\n",
      "0: 128x640 1 handwrite, 9.5ms\n",
      "Speed: 0.1ms preprocess, 9.5ms inference, 0.3ms postprocess per image at shape (1, 3, 640, 640)\n"
     ]
    },
    {
     "name": "stdout",
     "output_type": "stream",
     "text": [
      "in process: 511/1000\r"
     ]
    },
    {
     "name": "stderr",
     "output_type": "stream",
     "text": [
      "\n",
      "0: 640x480 1 date, 1 number, 2 senders, 104.5ms\n",
      "Speed: 0.3ms preprocess, 104.5ms inference, 0.3ms postprocess per image at shape (1, 3, 640, 640)\n",
      "\n",
      "0: 96x640 1 typewritten, 12.0ms\n",
      "Speed: 0.2ms preprocess, 12.0ms inference, 0.6ms postprocess per image at shape (1, 3, 640, 640)\n",
      "\n",
      "0: 192x640 2 typewrittens, 12.3ms\n",
      "Speed: 0.2ms preprocess, 12.3ms inference, 0.4ms postprocess per image at shape (1, 3, 640, 640)\n",
      "\n",
      "0: 640x480 1 signer, 103.3ms\n",
      "Speed: 0.3ms preprocess, 103.3ms inference, 0.3ms postprocess per image at shape (1, 3, 640, 640)\n"
     ]
    },
    {
     "name": "stdout",
     "output_type": "stream",
     "text": [
      "in process: 512/1000\r"
     ]
    },
    {
     "name": "stderr",
     "output_type": "stream",
     "text": [
      "\n",
      "0: 640x480 1 content, 1 date, 1 number, 1 sender, 1 signer, 103.3ms\n",
      "Speed: 0.3ms preprocess, 103.3ms inference, 1.9ms postprocess per image at shape (1, 3, 640, 640)\n",
      "\n",
      "0: 224x640 1 typewritten, 14.4ms\n",
      "Speed: 0.2ms preprocess, 14.4ms inference, 0.3ms postprocess per image at shape (1, 3, 640, 640)\n",
      "\n",
      "0: 128x640 2 typewrittens, 10.5ms\n",
      "Speed: 0.2ms preprocess, 10.5ms inference, 0.3ms postprocess per image at shape (1, 3, 640, 640)\n"
     ]
    },
    {
     "name": "stdout",
     "output_type": "stream",
     "text": [
      "in process: 513/1000\r"
     ]
    },
    {
     "name": "stderr",
     "output_type": "stream",
     "text": [
      "\n",
      "0: 640x480 1 date, 1 number, 1 sender, 105.8ms\n",
      "Speed: 0.3ms preprocess, 105.8ms inference, 0.4ms postprocess per image at shape (1, 3, 640, 640)\n",
      "\n",
      "0: 96x640 1 handwrite, 1 typewritten, 11.8ms\n",
      "Speed: 0.2ms preprocess, 11.8ms inference, 0.6ms postprocess per image at shape (1, 3, 640, 640)\n",
      "\n",
      "0: 192x640 1 typewritten, 15.7ms\n",
      "Speed: 0.1ms preprocess, 15.7ms inference, 0.6ms postprocess per image at shape (1, 3, 640, 640)\n",
      "\n",
      "0: 640x480 1 signer, 107.1ms\n",
      "Speed: 0.3ms preprocess, 107.1ms inference, 0.3ms postprocess per image at shape (1, 3, 640, 640)\n",
      "\n"
     ]
    },
    {
     "name": "stdout",
     "output_type": "stream",
     "text": [
      "in process: 514/1000\r"
     ]
    },
    {
     "name": "stderr",
     "output_type": "stream",
     "text": [
      "0: 640x480 1 date, 1 number, 1 sender, 103.5ms\n",
      "Speed: 0.3ms preprocess, 103.5ms inference, 2.5ms postprocess per image at shape (1, 3, 640, 640)\n",
      "\n",
      "0: 128x640 1 typewritten, 9.6ms\n",
      "Speed: 0.2ms preprocess, 9.6ms inference, 0.4ms postprocess per image at shape (1, 3, 640, 640)\n",
      "\n",
      "0: 160x640 1 handwrite, 10.7ms\n",
      "Speed: 1.5ms preprocess, 10.7ms inference, 0.3ms postprocess per image at shape (1, 3, 640, 640)\n",
      "\n"
     ]
    },
    {
     "name": "stdout",
     "output_type": "stream",
     "text": [
      "in process: 515/1000\r"
     ]
    },
    {
     "name": "stderr",
     "output_type": "stream",
     "text": [
      "0: 640x480 1 content, 3 numbers, 2 senders, 105.3ms\n",
      "Speed: 0.3ms preprocess, 105.3ms inference, 0.4ms postprocess per image at shape (1, 3, 640, 640)\n",
      "\n",
      "0: 192x640 1 handwrite, 11.4ms\n",
      "Speed: 0.2ms preprocess, 11.4ms inference, 0.3ms postprocess per image at shape (1, 3, 640, 640)\n",
      "\n",
      "0: 224x640 1 handwrite, 16.2ms\n",
      "Speed: 0.1ms preprocess, 16.2ms inference, 0.6ms postprocess per image at shape (1, 3, 640, 640)\n",
      "\n",
      "0: 160x640 1 handwrite, 11.5ms\n",
      "Speed: 0.2ms preprocess, 11.5ms inference, 0.4ms postprocess per image at shape (1, 3, 640, 640)\n"
     ]
    },
    {
     "name": "stdout",
     "output_type": "stream",
     "text": [
      "in process: 516/1000\r"
     ]
    },
    {
     "name": "stderr",
     "output_type": "stream",
     "text": [
      "\n",
      "0: 640x480 1 content, 1 date, 1 number, 2 senders, 105.5ms\n",
      "Speed: 0.3ms preprocess, 105.5ms inference, 1.6ms postprocess per image at shape (1, 3, 640, 640)\n",
      "\n",
      "0: 128x640 1 handwrite, 8.8ms\n",
      "Speed: 0.2ms preprocess, 8.8ms inference, 0.3ms postprocess per image at shape (1, 3, 640, 640)\n",
      "\n",
      "0: 192x640 1 handwrite, 11.2ms\n",
      "Speed: 0.1ms preprocess, 11.2ms inference, 0.3ms postprocess per image at shape (1, 3, 640, 640)\n",
      "\n",
      "0: 640x480 1 signer, 103.9ms\n",
      "Speed: 0.3ms preprocess, 103.9ms inference, 0.3ms postprocess per image at shape (1, 3, 640, 640)\n"
     ]
    },
    {
     "name": "stdout",
     "output_type": "stream",
     "text": [
      "in process: 517/1000\r"
     ]
    },
    {
     "name": "stderr",
     "output_type": "stream",
     "text": [
      "\n",
      "0: 640x480 1 content, 1 date, 1 number, 1 sender, 1 signer, 104.8ms\n",
      "Speed: 0.3ms preprocess, 104.8ms inference, 1.6ms postprocess per image at shape (1, 3, 640, 640)\n",
      "\n",
      "0: 160x640 1 handwrite, 11.4ms\n",
      "Speed: 0.1ms preprocess, 11.4ms inference, 0.4ms postprocess per image at shape (1, 3, 640, 640)\n",
      "\n",
      "0: 192x640 1 handwrite, 12.2ms\n",
      "Speed: 0.2ms preprocess, 12.2ms inference, 0.4ms postprocess per image at shape (1, 3, 640, 640)\n"
     ]
    },
    {
     "name": "stdout",
     "output_type": "stream",
     "text": [
      "in process: 518/1000\r"
     ]
    },
    {
     "name": "stderr",
     "output_type": "stream",
     "text": [
      "\n",
      "0: 640x480 1 content, 1 sender, 1 signer, 104.9ms\n",
      "Speed: 0.3ms preprocess, 104.9ms inference, 0.4ms postprocess per image at shape (1, 3, 640, 640)\n"
     ]
    },
    {
     "name": "stdout",
     "output_type": "stream",
     "text": [
      "in process: 519/1000\r"
     ]
    },
    {
     "name": "stderr",
     "output_type": "stream",
     "text": [
      "\n",
      "0: 640x480 1 content, 1 date, 1 number, 1 sender, 1 signer, 106.0ms\n",
      "Speed: 0.3ms preprocess, 106.0ms inference, 2.4ms postprocess per image at shape (1, 3, 640, 640)\n",
      "\n",
      "0: 192x640 1 typewritten, 11.2ms\n",
      "Speed: 0.2ms preprocess, 11.2ms inference, 0.3ms postprocess per image at shape (1, 3, 640, 640)\n",
      "\n",
      "0: 128x640 1 handwrite, 8.8ms\n",
      "Speed: 0.2ms preprocess, 8.8ms inference, 0.3ms postprocess per image at shape (1, 3, 640, 640)\n"
     ]
    },
    {
     "name": "stdout",
     "output_type": "stream",
     "text": [
      "in process: 520/1000\r"
     ]
    },
    {
     "name": "stderr",
     "output_type": "stream",
     "text": [
      "\n",
      "0: 640x480 1 sender, 106.7ms\n",
      "Speed: 0.3ms preprocess, 106.7ms inference, 0.3ms postprocess per image at shape (1, 3, 640, 640)\n",
      "\n",
      "0: 640x480 (no detections), 105.1ms\n",
      "Speed: 0.3ms preprocess, 105.1ms inference, 0.2ms postprocess per image at shape (1, 3, 640, 640)\n",
      "\n",
      "0: 640x480 1 signer, 105.3ms\n",
      "Speed: 0.3ms preprocess, 105.3ms inference, 0.3ms postprocess per image at shape (1, 3, 640, 640)\n"
     ]
    },
    {
     "name": "stdout",
     "output_type": "stream",
     "text": [
      "in process: 521/1000\r"
     ]
    },
    {
     "name": "stderr",
     "output_type": "stream",
     "text": [
      "\n",
      "0: 640x480 1 content, 1 date, 1 number, 1 sender, 1 signer, 103.6ms\n",
      "Speed: 0.3ms preprocess, 103.6ms inference, 2.9ms postprocess per image at shape (1, 3, 640, 640)\n",
      "\n",
      "0: 160x640 1 handwrite, 10.6ms\n",
      "Speed: 0.2ms preprocess, 10.6ms inference, 0.3ms postprocess per image at shape (1, 3, 640, 640)\n",
      "\n",
      "0: 192x640 1 typewritten, 11.3ms\n",
      "Speed: 0.1ms preprocess, 11.3ms inference, 0.3ms postprocess per image at shape (1, 3, 640, 640)\n",
      "\n"
     ]
    },
    {
     "name": "stdout",
     "output_type": "stream",
     "text": [
      "in process: 522/1000\r"
     ]
    },
    {
     "name": "stderr",
     "output_type": "stream",
     "text": [
      "0: 640x480 1 date, 1 number, 1 sender, 1 signer, 104.8ms\n",
      "Speed: 0.3ms preprocess, 104.8ms inference, 0.3ms postprocess per image at shape (1, 3, 640, 640)\n",
      "\n",
      "0: 192x640 1 handwrite, 11.3ms\n",
      "Speed: 0.2ms preprocess, 11.3ms inference, 0.3ms postprocess per image at shape (1, 3, 640, 640)\n",
      "\n",
      "0: 160x640 1 handwrite, 14.5ms\n",
      "Speed: 0.1ms preprocess, 14.5ms inference, 0.6ms postprocess per image at shape (1, 3, 640, 640)\n",
      "\n"
     ]
    },
    {
     "name": "stdout",
     "output_type": "stream",
     "text": [
      "in process: 523/1000\r"
     ]
    },
    {
     "name": "stderr",
     "output_type": "stream",
     "text": [
      "0: 640x480 2 dates, 1 number, 1 sender, 1 signer, 102.7ms\n",
      "Speed: 0.3ms preprocess, 102.7ms inference, 0.4ms postprocess per image at shape (1, 3, 640, 640)\n",
      "\n",
      "0: 160x640 1 handwrite, 10.5ms\n",
      "Speed: 0.2ms preprocess, 10.5ms inference, 0.3ms postprocess per image at shape (1, 3, 640, 640)\n",
      "\n",
      "0: 160x640 2 handwrites, 14.6ms\n",
      "Speed: 0.2ms preprocess, 14.6ms inference, 0.6ms postprocess per image at shape (1, 3, 640, 640)\n",
      "\n",
      "0: 192x640 2 handwrites, 16.0ms\n",
      "Speed: 0.1ms preprocess, 16.0ms inference, 0.7ms postprocess per image at shape (1, 3, 640, 640)\n"
     ]
    },
    {
     "name": "stdout",
     "output_type": "stream",
     "text": [
      "in process: 524/1000\r"
     ]
    },
    {
     "name": "stderr",
     "output_type": "stream",
     "text": [
      "\n",
      "0: 640x480 1 content, 1 date, 1 number, 1 sender, 1 signer, 106.0ms\n",
      "Speed: 0.3ms preprocess, 106.0ms inference, 0.4ms postprocess per image at shape (1, 3, 640, 640)\n",
      "\n",
      "0: 160x640 1 handwrite, 14.9ms\n",
      "Speed: 0.2ms preprocess, 14.9ms inference, 0.6ms postprocess per image at shape (1, 3, 640, 640)\n",
      "\n",
      "0: 160x640 2 handwrites, 15.2ms\n",
      "Speed: 0.2ms preprocess, 15.2ms inference, 0.6ms postprocess per image at shape (1, 3, 640, 640)\n",
      "\n"
     ]
    },
    {
     "name": "stdout",
     "output_type": "stream",
     "text": [
      "in process: 525/1000\r"
     ]
    },
    {
     "name": "stderr",
     "output_type": "stream",
     "text": [
      "0: 640x480 1 date, 1 number, 2 senders, 1 signer, 102.9ms\n",
      "Speed: 0.3ms preprocess, 102.9ms inference, 0.4ms postprocess per image at shape (1, 3, 640, 640)\n",
      "\n",
      "0: 160x640 1 handwrite, 14.4ms\n",
      "Speed: 0.3ms preprocess, 14.4ms inference, 0.6ms postprocess per image at shape (1, 3, 640, 640)\n",
      "\n",
      "0: 128x640 1 handwrite, 12.3ms\n",
      "Speed: 0.1ms preprocess, 12.3ms inference, 0.6ms postprocess per image at shape (1, 3, 640, 640)\n"
     ]
    },
    {
     "name": "stdout",
     "output_type": "stream",
     "text": [
      "in process: 526/1000\r"
     ]
    },
    {
     "name": "stderr",
     "output_type": "stream",
     "text": [
      "\n",
      "0: 640x480 1 content, 1 date, 1 number, 1 sender, 1 signer, 105.7ms\n",
      "Speed: 0.3ms preprocess, 105.7ms inference, 0.4ms postprocess per image at shape (1, 3, 640, 640)\n",
      "\n",
      "0: 160x640 1 handwrite, 10.8ms\n",
      "Speed: 0.2ms preprocess, 10.8ms inference, 0.3ms postprocess per image at shape (1, 3, 640, 640)\n",
      "\n",
      "0: 128x640 1 handwrite, 8.8ms\n",
      "Speed: 0.1ms preprocess, 8.8ms inference, 0.3ms postprocess per image at shape (1, 3, 640, 640)\n",
      "\n"
     ]
    },
    {
     "name": "stdout",
     "output_type": "stream",
     "text": [
      "in process: 527/1000\r"
     ]
    },
    {
     "name": "stderr",
     "output_type": "stream",
     "text": [
      "0: 640x480 1 date, 1 number, 1 sender, 107.3ms\n",
      "Speed: 0.3ms preprocess, 107.3ms inference, 1.4ms postprocess per image at shape (1, 3, 640, 640)\n",
      "\n",
      "0: 224x640 1 handwrite, 12.3ms\n",
      "Speed: 0.1ms preprocess, 12.3ms inference, 0.3ms postprocess per image at shape (1, 3, 640, 640)\n",
      "\n",
      "0: 128x640 1 handwrite, 8.8ms\n",
      "Speed: 0.1ms preprocess, 8.8ms inference, 0.3ms postprocess per image at shape (1, 3, 640, 640)\n",
      "\n",
      "0: 640x480 1 signer, 105.5ms\n",
      "Speed: 0.3ms preprocess, 105.5ms inference, 0.3ms postprocess per image at shape (1, 3, 640, 640)\n",
      "\n"
     ]
    },
    {
     "name": "stdout",
     "output_type": "stream",
     "text": [
      "in process: 528/1000\r"
     ]
    },
    {
     "name": "stderr",
     "output_type": "stream",
     "text": [
      "0: 640x480 (no detections), 103.4ms\n",
      "Speed: 0.3ms preprocess, 103.4ms inference, 1.3ms postprocess per image at shape (1, 3, 640, 640)\n"
     ]
    },
    {
     "name": "stdout",
     "output_type": "stream",
     "text": [
      "in process: 529/1000\r"
     ]
    },
    {
     "name": "stderr",
     "output_type": "stream",
     "text": [
      "\n",
      "0: 480x640 1 sender, 105.0ms\n",
      "Speed: 0.3ms preprocess, 105.0ms inference, 2.1ms postprocess per image at shape (1, 3, 640, 640)\n",
      "\n",
      "0: 640x480 (no detections), 106.2ms\n",
      "Speed: 0.3ms preprocess, 106.2ms inference, 0.2ms postprocess per image at shape (1, 3, 640, 640)\n",
      "\n",
      "0: 640x480 (no detections), 109.9ms\n",
      "Speed: 0.3ms preprocess, 109.9ms inference, 0.2ms postprocess per image at shape (1, 3, 640, 640)\n",
      "\n",
      "0: 640x480 1 sender, 104.9ms\n",
      "Speed: 0.3ms preprocess, 104.9ms inference, 0.3ms postprocess per image at shape (1, 3, 640, 640)\n",
      "\n",
      "0: 640x480 (no detections), 105.3ms\n",
      "Speed: 0.3ms preprocess, 105.3ms inference, 0.2ms postprocess per image at shape (1, 3, 640, 640)\n",
      "\n",
      "0: 640x480 (no detections), 103.6ms\n",
      "Speed: 0.3ms preprocess, 103.6ms inference, 0.2ms postprocess per image at shape (1, 3, 640, 640)\n",
      "\n",
      "0: 640x480 (no detections), 115.5ms\n",
      "Speed: 0.3ms preprocess, 115.5ms inference, 0.2ms postprocess per image at shape (1, 3, 640, 640)\n",
      "\n",
      "0: 640x480 1 sender, 1 signer, 103.5ms\n",
      "Speed: 0.3ms preprocess, 103.5ms inference, 0.3ms postprocess per image at shape (1, 3, 640, 640)\n"
     ]
    },
    {
     "name": "stdout",
     "output_type": "stream",
     "text": [
      "in process: 530/1000\r"
     ]
    },
    {
     "name": "stderr",
     "output_type": "stream",
     "text": [
      "\n",
      "0: 640x480 1 content, 1 date, 1 number, 1 sender, 103.6ms\n",
      "Speed: 0.3ms preprocess, 103.6ms inference, 0.4ms postprocess per image at shape (1, 3, 640, 640)\n",
      "\n",
      "0: 192x640 1 handwrite, 11.4ms\n",
      "Speed: 0.2ms preprocess, 11.4ms inference, 0.3ms postprocess per image at shape (1, 3, 640, 640)\n",
      "\n",
      "0: 128x640 1 handwrite, 8.8ms\n",
      "Speed: 0.1ms preprocess, 8.8ms inference, 0.3ms postprocess per image at shape (1, 3, 640, 640)\n",
      "\n",
      "0: 640x480 1 signer, 105.3ms\n",
      "Speed: 0.3ms preprocess, 105.3ms inference, 0.3ms postprocess per image at shape (1, 3, 640, 640)\n"
     ]
    },
    {
     "name": "stdout",
     "output_type": "stream",
     "text": [
      "in process: 531/1000\r"
     ]
    },
    {
     "name": "stderr",
     "output_type": "stream",
     "text": [
      "\n",
      "0: 640x480 1 date, 1 number, 1 sender, 104.0ms\n",
      "Speed: 0.3ms preprocess, 104.0ms inference, 2.1ms postprocess per image at shape (1, 3, 640, 640)\n",
      "\n",
      "0: 160x640 1 handwrite, 10.8ms\n",
      "Speed: 0.2ms preprocess, 10.8ms inference, 0.3ms postprocess per image at shape (1, 3, 640, 640)\n",
      "\n",
      "0: 192x640 1 handwrite, 11.6ms\n",
      "Speed: 0.1ms preprocess, 11.6ms inference, 0.3ms postprocess per image at shape (1, 3, 640, 640)\n",
      "\n",
      "0: 640x480 1 signer, 102.9ms\n",
      "Speed: 0.3ms preprocess, 102.9ms inference, 0.3ms postprocess per image at shape (1, 3, 640, 640)\n",
      "\n"
     ]
    },
    {
     "name": "stdout",
     "output_type": "stream",
     "text": [
      "in process: 532/1000\r"
     ]
    },
    {
     "name": "stderr",
     "output_type": "stream",
     "text": [
      "0: 640x480 1 content, 1 date, 1 number, 1 sender, 1 signer, 102.5ms\n",
      "Speed: 0.3ms preprocess, 102.5ms inference, 2.2ms postprocess per image at shape (1, 3, 640, 640)\n",
      "\n",
      "0: 128x640 1 handwrite, 8.9ms\n",
      "Speed: 0.2ms preprocess, 8.9ms inference, 0.3ms postprocess per image at shape (1, 3, 640, 640)\n",
      "\n",
      "0: 160x640 1 handwrite, 10.4ms\n",
      "Speed: 0.1ms preprocess, 10.4ms inference, 0.3ms postprocess per image at shape (1, 3, 640, 640)\n",
      "\n"
     ]
    },
    {
     "name": "stdout",
     "output_type": "stream",
     "text": [
      "in process: 533/1000\r"
     ]
    },
    {
     "name": "stderr",
     "output_type": "stream",
     "text": [
      "0: 640x480 1 content, 1 date, 1 number, 104.9ms\n",
      "Speed: 0.3ms preprocess, 104.9ms inference, 0.3ms postprocess per image at shape (1, 3, 640, 640)\n",
      "\n",
      "0: 192x640 1 handwrite, 11.3ms\n",
      "Speed: 0.1ms preprocess, 11.3ms inference, 0.3ms postprocess per image at shape (1, 3, 640, 640)\n",
      "\n",
      "0: 160x640 1 handwrite, 10.6ms\n",
      "Speed: 0.2ms preprocess, 10.6ms inference, 0.3ms postprocess per image at shape (1, 3, 640, 640)\n",
      "\n",
      "0: 640x480 1 signer, 105.5ms\n",
      "Speed: 0.3ms preprocess, 105.5ms inference, 0.3ms postprocess per image at shape (1, 3, 640, 640)\n",
      "\n"
     ]
    },
    {
     "name": "stdout",
     "output_type": "stream",
     "text": [
      "in process: 534/1000\r"
     ]
    },
    {
     "name": "stderr",
     "output_type": "stream",
     "text": [
      "0: 640x480 1 date, 1 number, 1 sender, 103.3ms\n",
      "Speed: 0.3ms preprocess, 103.3ms inference, 1.8ms postprocess per image at shape (1, 3, 640, 640)\n",
      "\n",
      "0: 160x640 1 handwrite, 10.4ms\n",
      "Speed: 0.2ms preprocess, 10.4ms inference, 0.3ms postprocess per image at shape (1, 3, 640, 640)\n",
      "\n",
      "0: 192x640 1 handwrite, 11.2ms\n",
      "Speed: 0.2ms preprocess, 11.2ms inference, 0.3ms postprocess per image at shape (1, 3, 640, 640)\n",
      "\n",
      "0: 640x480 1 signer, 105.5ms\n",
      "Speed: 0.3ms preprocess, 105.5ms inference, 0.3ms postprocess per image at shape (1, 3, 640, 640)\n"
     ]
    },
    {
     "name": "stdout",
     "output_type": "stream",
     "text": [
      "in process: 535/1000\r"
     ]
    },
    {
     "name": "stderr",
     "output_type": "stream",
     "text": [
      "\n",
      "0: 640x480 1 content, 1 date, 1 number, 2 senders, 1 signer, 108.5ms\n",
      "Speed: 0.3ms preprocess, 108.5ms inference, 0.7ms postprocess per image at shape (1, 3, 640, 640)\n",
      "\n",
      "0: 160x640 1 handwrite, 11.4ms\n",
      "Speed: 0.2ms preprocess, 11.4ms inference, 0.4ms postprocess per image at shape (1, 3, 640, 640)\n",
      "\n",
      "0: 224x640 1 handwrite, 12.6ms\n",
      "Speed: 0.2ms preprocess, 12.6ms inference, 0.3ms postprocess per image at shape (1, 3, 640, 640)\n",
      "\n"
     ]
    },
    {
     "name": "stdout",
     "output_type": "stream",
     "text": [
      "in process: 536/1000\r"
     ]
    },
    {
     "name": "stderr",
     "output_type": "stream",
     "text": [
      "0: 640x480 1 date, 1 number, 1 sender, 1 signer, 105.4ms\n",
      "Speed: 0.3ms preprocess, 105.4ms inference, 0.4ms postprocess per image at shape (1, 3, 640, 640)\n",
      "\n",
      "0: 96x640 1 handwrite, 7.9ms\n",
      "Speed: 0.2ms preprocess, 7.9ms inference, 0.3ms postprocess per image at shape (1, 3, 640, 640)\n",
      "\n",
      "0: 128x640 1 handwrite, 10.7ms\n",
      "Speed: 0.2ms preprocess, 10.7ms inference, 0.3ms postprocess per image at shape (1, 3, 640, 640)\n"
     ]
    },
    {
     "name": "stdout",
     "output_type": "stream",
     "text": [
      "in process: 537/1000\r"
     ]
    },
    {
     "name": "stderr",
     "output_type": "stream",
     "text": [
      "\n",
      "0: 640x480 1 date, 1 sender, 105.0ms\n",
      "Speed: 0.3ms preprocess, 105.0ms inference, 0.3ms postprocess per image at shape (1, 3, 640, 640)\n",
      "\n",
      "0: 160x640 1 typewritten, 10.5ms\n",
      "Speed: 0.2ms preprocess, 10.5ms inference, 0.3ms postprocess per image at shape (1, 3, 640, 640)\n",
      "\n",
      "0: 480x640 (no detections), 105.3ms\n",
      "Speed: 0.3ms preprocess, 105.3ms inference, 0.2ms postprocess per image at shape (1, 3, 640, 640)\n",
      "\n"
     ]
    },
    {
     "name": "stdout",
     "output_type": "stream",
     "text": [
      "in process: 538/1000\r"
     ]
    },
    {
     "name": "stderr",
     "output_type": "stream",
     "text": [
      "0: 640x480 1 date, 1 number, 1 sender, 1 signer, 103.1ms\n",
      "Speed: 0.3ms preprocess, 103.1ms inference, 1.8ms postprocess per image at shape (1, 3, 640, 640)\n",
      "\n",
      "0: 192x640 1 handwrite, 12.3ms\n",
      "Speed: 0.2ms preprocess, 12.3ms inference, 0.4ms postprocess per image at shape (1, 3, 640, 640)\n",
      "\n",
      "0: 128x640 1 handwrite, 9.5ms\n",
      "Speed: 0.1ms preprocess, 9.5ms inference, 0.4ms postprocess per image at shape (1, 3, 640, 640)\n"
     ]
    },
    {
     "name": "stdout",
     "output_type": "stream",
     "text": [
      "in process: 539/1000\r"
     ]
    },
    {
     "name": "stderr",
     "output_type": "stream",
     "text": [
      "\n",
      "0: 640x480 (no detections), 105.2ms\n",
      "Speed: 0.3ms preprocess, 105.2ms inference, 0.2ms postprocess per image at shape (1, 3, 640, 640)\n",
      "\n",
      "0: 640x480 (no detections), 104.5ms\n",
      "Speed: 0.3ms preprocess, 104.5ms inference, 0.2ms postprocess per image at shape (1, 3, 640, 640)\n",
      "\n"
     ]
    },
    {
     "name": "stdout",
     "output_type": "stream",
     "text": [
      "in process: 540/1000\r"
     ]
    },
    {
     "name": "stderr",
     "output_type": "stream",
     "text": [
      "0: 640x480 1 date, 1 number, 1 sender, 1 signer, 105.2ms\n",
      "Speed: 0.3ms preprocess, 105.2ms inference, 0.4ms postprocess per image at shape (1, 3, 640, 640)\n",
      "\n",
      "0: 160x640 1 typewritten, 10.6ms\n",
      "Speed: 0.2ms preprocess, 10.6ms inference, 0.3ms postprocess per image at shape (1, 3, 640, 640)\n",
      "\n",
      "0: 192x640 1 typewritten, 11.3ms\n",
      "Speed: 0.2ms preprocess, 11.3ms inference, 0.3ms postprocess per image at shape (1, 3, 640, 640)\n"
     ]
    },
    {
     "name": "stdout",
     "output_type": "stream",
     "text": [
      "in process: 541/1000\r"
     ]
    },
    {
     "name": "stderr",
     "output_type": "stream",
     "text": [
      "\n",
      "0: 640x480 1 date, 1 number, 1 sender, 104.7ms\n",
      "Speed: 0.3ms preprocess, 104.7ms inference, 2.2ms postprocess per image at shape (1, 3, 640, 640)\n",
      "\n",
      "0: 192x640 1 typewritten, 11.1ms\n",
      "Speed: 0.2ms preprocess, 11.1ms inference, 0.3ms postprocess per image at shape (1, 3, 640, 640)\n",
      "\n",
      "0: 96x640 1 typewritten, 7.8ms\n",
      "Speed: 0.2ms preprocess, 7.8ms inference, 0.3ms postprocess per image at shape (1, 3, 640, 640)\n",
      "\n",
      "0: 640x480 1 signer, 105.6ms\n",
      "Speed: 0.3ms preprocess, 105.6ms inference, 0.3ms postprocess per image at shape (1, 3, 640, 640)\n"
     ]
    },
    {
     "name": "stdout",
     "output_type": "stream",
     "text": [
      "in process: 542/1000\r"
     ]
    },
    {
     "name": "stderr",
     "output_type": "stream",
     "text": [
      "\n",
      "0: 640x480 1 content, 1 date, 1 number, 1 sender, 105.5ms\n",
      "Speed: 0.3ms preprocess, 105.5ms inference, 2.1ms postprocess per image at shape (1, 3, 640, 640)\n",
      "\n",
      "0: 96x640 1 handwrite, 1 typewritten, 7.9ms\n",
      "Speed: 0.2ms preprocess, 7.9ms inference, 0.3ms postprocess per image at shape (1, 3, 640, 640)\n",
      "\n",
      "0: 160x640 1 typewritten, 10.6ms\n",
      "Speed: 0.2ms preprocess, 10.6ms inference, 0.3ms postprocess per image at shape (1, 3, 640, 640)\n",
      "\n",
      "0: 640x480 (no detections), 105.0ms\n",
      "Speed: 0.3ms preprocess, 105.0ms inference, 0.2ms postprocess per image at shape (1, 3, 640, 640)\n",
      "\n",
      "0: 640x480 1 signer, 102.6ms\n",
      "Speed: 0.3ms preprocess, 102.6ms inference, 0.3ms postprocess per image at shape (1, 3, 640, 640)\n"
     ]
    },
    {
     "name": "stdout",
     "output_type": "stream",
     "text": [
      "in process: 543/1000\r"
     ]
    },
    {
     "name": "stderr",
     "output_type": "stream",
     "text": [
      "\n",
      "0: 640x480 1 date, 1 number, 105.5ms\n",
      "Speed: 0.3ms preprocess, 105.5ms inference, 0.4ms postprocess per image at shape (1, 3, 640, 640)\n",
      "\n",
      "0: 160x640 1 handwrite, 10.3ms\n",
      "Speed: 0.1ms preprocess, 10.3ms inference, 0.3ms postprocess per image at shape (1, 3, 640, 640)\n",
      "\n",
      "0: 192x640 1 handwrite, 11.2ms\n",
      "Speed: 0.1ms preprocess, 11.2ms inference, 0.3ms postprocess per image at shape (1, 3, 640, 640)\n",
      "\n",
      "0: 640x480 1 date, 1 number, 103.3ms\n",
      "Speed: 0.3ms preprocess, 103.3ms inference, 0.3ms postprocess per image at shape (1, 3, 640, 640)\n",
      "\n",
      "0: 160x640 1 handwrite, 10.5ms\n",
      "Speed: 0.1ms preprocess, 10.5ms inference, 0.3ms postprocess per image at shape (1, 3, 640, 640)\n",
      "\n",
      "0: 192x640 1 handwrite, 11.2ms\n",
      "Speed: 0.1ms preprocess, 11.2ms inference, 0.3ms postprocess per image at shape (1, 3, 640, 640)\n",
      "\n"
     ]
    },
    {
     "name": "stdout",
     "output_type": "stream",
     "text": [
      "in process: 544/1000\r"
     ]
    },
    {
     "name": "stderr",
     "output_type": "stream",
     "text": [
      "0: 640x480 (no detections), 105.8ms\n",
      "Speed: 0.3ms preprocess, 105.8ms inference, 0.2ms postprocess per image at shape (1, 3, 640, 640)\n"
     ]
    },
    {
     "name": "stdout",
     "output_type": "stream",
     "text": [
      "in process: 545/1000\r"
     ]
    },
    {
     "name": "stderr",
     "output_type": "stream",
     "text": [
      "\n",
      "0: 640x480 1 content, 1 date, 1 number, 1 sender, 103.3ms\n",
      "Speed: 0.3ms preprocess, 103.3ms inference, 0.4ms postprocess per image at shape (1, 3, 640, 640)\n",
      "\n",
      "0: 192x640 1 handwrite, 11.2ms\n",
      "Speed: 0.2ms preprocess, 11.2ms inference, 0.3ms postprocess per image at shape (1, 3, 640, 640)\n",
      "\n",
      "0: 96x640 1 handwrite, 7.7ms\n",
      "Speed: 0.2ms preprocess, 7.7ms inference, 0.3ms postprocess per image at shape (1, 3, 640, 640)\n",
      "\n",
      "0: 640x480 (no detections), 102.2ms\n",
      "Speed: 0.3ms preprocess, 102.2ms inference, 0.2ms postprocess per image at shape (1, 3, 640, 640)\n",
      "\n",
      "0: 640x480 1 signer, 103.0ms\n",
      "Speed: 0.3ms preprocess, 103.0ms inference, 0.3ms postprocess per image at shape (1, 3, 640, 640)\n",
      "\n"
     ]
    },
    {
     "name": "stdout",
     "output_type": "stream",
     "text": [
      "in process: 546/1000\r"
     ]
    },
    {
     "name": "stderr",
     "output_type": "stream",
     "text": [
      "0: 640x480 1 number, 1 sender, 1 signer, 104.3ms\n",
      "Speed: 0.3ms preprocess, 104.3ms inference, 2.6ms postprocess per image at shape (1, 3, 640, 640)\n",
      "\n",
      "0: 160x640 1 handwrite, 10.5ms\n",
      "Speed: 0.2ms preprocess, 10.5ms inference, 0.3ms postprocess per image at shape (1, 3, 640, 640)\n"
     ]
    },
    {
     "name": "stdout",
     "output_type": "stream",
     "text": [
      "in process: 547/1000\r"
     ]
    },
    {
     "name": "stderr",
     "output_type": "stream",
     "text": [
      "\n",
      "0: 640x448 (no detections), 99.1ms\n",
      "Speed: 0.3ms preprocess, 99.1ms inference, 0.2ms postprocess per image at shape (1, 3, 640, 640)\n",
      "\n",
      "0: 640x448 (no detections), 97.3ms\n",
      "Speed: 0.3ms preprocess, 97.3ms inference, 0.2ms postprocess per image at shape (1, 3, 640, 640)\n",
      "\n",
      "0: 480x640 (no detections), 106.2ms\n",
      "Speed: 0.3ms preprocess, 106.2ms inference, 0.2ms postprocess per image at shape (1, 3, 640, 640)\n"
     ]
    },
    {
     "name": "stdout",
     "output_type": "stream",
     "text": [
      "in process: 548/1000\r"
     ]
    },
    {
     "name": "stderr",
     "output_type": "stream",
     "text": [
      "\n",
      "0: 640x480 1 content, 1 date, 1 number, 1 sender, 1 signer, 103.1ms\n",
      "Speed: 0.3ms preprocess, 103.1ms inference, 1.7ms postprocess per image at shape (1, 3, 640, 640)\n",
      "\n",
      "0: 192x640 1 handwrite, 11.3ms\n",
      "Speed: 0.2ms preprocess, 11.3ms inference, 0.3ms postprocess per image at shape (1, 3, 640, 640)\n",
      "\n",
      "0: 192x640 1 handwrite, 10.9ms\n",
      "Speed: 0.1ms preprocess, 10.9ms inference, 0.3ms postprocess per image at shape (1, 3, 640, 640)\n",
      "\n"
     ]
    },
    {
     "name": "stdout",
     "output_type": "stream",
     "text": [
      "in process: 549/1000\r"
     ]
    },
    {
     "name": "stderr",
     "output_type": "stream",
     "text": [
      "0: 640x480 1 number, 2 senders, 1 signer, 103.5ms\n",
      "Speed: 0.3ms preprocess, 103.5ms inference, 0.4ms postprocess per image at shape (1, 3, 640, 640)\n",
      "\n",
      "0: 96x640 1 handwrite, 8.0ms\n",
      "Speed: 0.2ms preprocess, 8.0ms inference, 0.3ms postprocess per image at shape (1, 3, 640, 640)\n"
     ]
    },
    {
     "name": "stdout",
     "output_type": "stream",
     "text": [
      "in process: 550/1000\r"
     ]
    },
    {
     "name": "stderr",
     "output_type": "stream",
     "text": [
      "\n",
      "0: 640x480 1 date, 1 sender, 102.9ms\n",
      "Speed: 0.3ms preprocess, 102.9ms inference, 2.2ms postprocess per image at shape (1, 3, 640, 640)\n",
      "\n",
      "0: 192x640 2 typewrittens, 11.3ms\n",
      "Speed: 0.2ms preprocess, 11.3ms inference, 0.3ms postprocess per image at shape (1, 3, 640, 640)\n",
      "\n",
      "0: 640x480 1 signer, 105.0ms\n",
      "Speed: 0.3ms preprocess, 105.0ms inference, 0.3ms postprocess per image at shape (1, 3, 640, 640)\n"
     ]
    },
    {
     "name": "stdout",
     "output_type": "stream",
     "text": [
      "in process: 551/1000\r"
     ]
    },
    {
     "name": "stderr",
     "output_type": "stream",
     "text": [
      "\n",
      "0: 640x480 1 date, 1 number, 1 sender, 1 signer, 103.0ms\n",
      "Speed: 0.3ms preprocess, 103.0ms inference, 1.5ms postprocess per image at shape (1, 3, 640, 640)\n",
      "\n",
      "0: 160x640 1 handwrite, 10.6ms\n",
      "Speed: 0.2ms preprocess, 10.6ms inference, 0.3ms postprocess per image at shape (1, 3, 640, 640)\n",
      "\n",
      "0: 192x640 1 typewritten, 11.3ms\n",
      "Speed: 0.1ms preprocess, 11.3ms inference, 0.3ms postprocess per image at shape (1, 3, 640, 640)\n",
      "\n"
     ]
    },
    {
     "name": "stdout",
     "output_type": "stream",
     "text": [
      "in process: 552/1000\r"
     ]
    },
    {
     "name": "stderr",
     "output_type": "stream",
     "text": [
      "0: 640x480 1 sender, 1 signer, 105.4ms\n",
      "Speed: 0.3ms preprocess, 105.4ms inference, 0.3ms postprocess per image at shape (1, 3, 640, 640)\n"
     ]
    },
    {
     "name": "stdout",
     "output_type": "stream",
     "text": [
      "in process: 553/1000\r"
     ]
    },
    {
     "name": "stderr",
     "output_type": "stream",
     "text": [
      "\n",
      "0: 640x480 1 date, 1 number, 1 sender, 1 signer, 105.5ms\n",
      "Speed: 0.3ms preprocess, 105.5ms inference, 2.2ms postprocess per image at shape (1, 3, 640, 640)\n",
      "\n",
      "0: 128x640 1 handwrite, 8.9ms\n",
      "Speed: 0.2ms preprocess, 8.9ms inference, 0.3ms postprocess per image at shape (1, 3, 640, 640)\n",
      "\n",
      "0: 192x640 1 handwrite, 11.3ms\n",
      "Speed: 0.2ms preprocess, 11.3ms inference, 0.3ms postprocess per image at shape (1, 3, 640, 640)\n"
     ]
    },
    {
     "name": "stdout",
     "output_type": "stream",
     "text": [
      "in process: 554/1000\r"
     ]
    },
    {
     "name": "stderr",
     "output_type": "stream",
     "text": [
      "\n",
      "0: 640x480 1 date, 1 number, 2 senders, 1 signer, 102.6ms\n",
      "Speed: 0.3ms preprocess, 102.6ms inference, 0.4ms postprocess per image at shape (1, 3, 640, 640)\n",
      "\n",
      "0: 256x640 1 handwrite, 13.3ms\n",
      "Speed: 0.2ms preprocess, 13.3ms inference, 0.3ms postprocess per image at shape (1, 3, 640, 640)\n",
      "\n",
      "0: 160x640 1 handwrite, 11.4ms\n",
      "Speed: 0.2ms preprocess, 11.4ms inference, 0.4ms postprocess per image at shape (1, 3, 640, 640)\n",
      "\n"
     ]
    },
    {
     "name": "stdout",
     "output_type": "stream",
     "text": [
      "in process: 555/1000\r"
     ]
    },
    {
     "name": "stderr",
     "output_type": "stream",
     "text": [
      "0: 640x480 1 content, 1 date, 1 sender, 1 signer, 106.1ms\n",
      "Speed: 0.3ms preprocess, 106.1ms inference, 1.8ms postprocess per image at shape (1, 3, 640, 640)\n",
      "\n",
      "0: 192x640 1 typewritten, 12.5ms\n",
      "Speed: 0.2ms preprocess, 12.5ms inference, 0.6ms postprocess per image at shape (1, 3, 640, 640)\n",
      "\n"
     ]
    },
    {
     "name": "stdout",
     "output_type": "stream",
     "text": [
      "in process: 556/1000\r"
     ]
    },
    {
     "name": "stderr",
     "output_type": "stream",
     "text": [
      "0: 640x480 (no detections), 105.7ms\n",
      "Speed: 0.3ms preprocess, 105.7ms inference, 0.2ms postprocess per image at shape (1, 3, 640, 640)\n",
      "\n"
     ]
    },
    {
     "name": "stdout",
     "output_type": "stream",
     "text": [
      "in process: 557/1000\r"
     ]
    },
    {
     "name": "stderr",
     "output_type": "stream",
     "text": [
      "0: 640x480 1 content, 1 date, 1 number, 1 sender, 1 signer, 104.6ms\n",
      "Speed: 0.3ms preprocess, 104.6ms inference, 1.9ms postprocess per image at shape (1, 3, 640, 640)\n",
      "\n",
      "0: 192x640 1 handwrite, 1 typewritten, 15.6ms\n",
      "Speed: 0.2ms preprocess, 15.6ms inference, 0.6ms postprocess per image at shape (1, 3, 640, 640)\n",
      "\n",
      "0: 224x640 1 handwrite, 16.5ms\n",
      "Speed: 0.2ms preprocess, 16.5ms inference, 0.6ms postprocess per image at shape (1, 3, 640, 640)\n",
      "\n"
     ]
    },
    {
     "name": "stdout",
     "output_type": "stream",
     "text": [
      "in process: 558/1000\r"
     ]
    },
    {
     "name": "stderr",
     "output_type": "stream",
     "text": [
      "0: 640x480 1 date, 1 number, 1 sender, 103.6ms\n",
      "Speed: 0.3ms preprocess, 103.6ms inference, 0.4ms postprocess per image at shape (1, 3, 640, 640)\n",
      "\n",
      "0: 160x640 1 handwrite, 10.7ms\n",
      "Speed: 0.2ms preprocess, 10.7ms inference, 0.3ms postprocess per image at shape (1, 3, 640, 640)\n",
      "\n",
      "0: 192x640 1 typewritten, 11.3ms\n",
      "Speed: 0.1ms preprocess, 11.3ms inference, 0.3ms postprocess per image at shape (1, 3, 640, 640)\n",
      "\n",
      "0: 640x480 (no detections), 105.6ms\n",
      "Speed: 0.3ms preprocess, 105.6ms inference, 0.2ms postprocess per image at shape (1, 3, 640, 640)\n",
      "\n"
     ]
    },
    {
     "name": "stdout",
     "output_type": "stream",
     "text": [
      "in process: 559/1000\r"
     ]
    },
    {
     "name": "stderr",
     "output_type": "stream",
     "text": [
      "0: 640x480 2 contents, 1 date, 1 number, 3 senders, 1 signer, 103.7ms\n",
      "Speed: 0.3ms preprocess, 103.7ms inference, 2.5ms postprocess per image at shape (1, 3, 640, 640)\n",
      "\n",
      "0: 160x640 1 handwrite, 10.6ms\n",
      "Speed: 0.2ms preprocess, 10.6ms inference, 0.3ms postprocess per image at shape (1, 3, 640, 640)\n",
      "\n",
      "0: 128x640 1 handwrite, 8.7ms\n",
      "Speed: 0.1ms preprocess, 8.7ms inference, 0.3ms postprocess per image at shape (1, 3, 640, 640)\n",
      "\n"
     ]
    },
    {
     "name": "stdout",
     "output_type": "stream",
     "text": [
      "in process: 560/1000\r"
     ]
    },
    {
     "name": "stderr",
     "output_type": "stream",
     "text": [
      "0: 640x448 1 date, 2 numbers, 1 sender, 1 signer, 99.0ms\n",
      "Speed: 0.3ms preprocess, 99.0ms inference, 0.3ms postprocess per image at shape (1, 3, 640, 640)\n",
      "\n",
      "0: 160x640 1 handwrite, 10.7ms\n",
      "Speed: 0.2ms preprocess, 10.7ms inference, 0.3ms postprocess per image at shape (1, 3, 640, 640)\n",
      "\n",
      "0: 128x640 1 handwrite, 8.8ms\n",
      "Speed: 0.1ms preprocess, 8.8ms inference, 0.3ms postprocess per image at shape (1, 3, 640, 640)\n",
      "\n",
      "0: 128x640 1 handwrite, 8.5ms\n",
      "Speed: 0.1ms preprocess, 8.5ms inference, 0.3ms postprocess per image at shape (1, 3, 640, 640)\n"
     ]
    },
    {
     "name": "stdout",
     "output_type": "stream",
     "text": [
      "in process: 561/1000\r"
     ]
    },
    {
     "name": "stderr",
     "output_type": "stream",
     "text": [
      "\n",
      "0: 640x480 1 date, 1 sender, 1 signer, 103.1ms\n",
      "Speed: 0.3ms preprocess, 103.1ms inference, 1.8ms postprocess per image at shape (1, 3, 640, 640)\n",
      "\n",
      "0: 128x640 1 handwrite, 13.3ms\n",
      "Speed: 0.2ms preprocess, 13.3ms inference, 0.4ms postprocess per image at shape (1, 3, 640, 640)\n",
      "\n"
     ]
    },
    {
     "name": "stdout",
     "output_type": "stream",
     "text": [
      "in process: 562/1000\r"
     ]
    },
    {
     "name": "stderr",
     "output_type": "stream",
     "text": [
      "0: 640x480 1 content, 1 date, 1 number, 1 sender, 1 signer, 103.6ms\n",
      "Speed: 0.3ms preprocess, 103.6ms inference, 0.4ms postprocess per image at shape (1, 3, 640, 640)\n",
      "\n",
      "0: 128x640 1 handwrite, 8.8ms\n",
      "Speed: 0.2ms preprocess, 8.8ms inference, 0.3ms postprocess per image at shape (1, 3, 640, 640)\n",
      "\n",
      "0: 192x640 1 handwrite, 12.1ms\n",
      "Speed: 0.1ms preprocess, 12.1ms inference, 0.4ms postprocess per image at shape (1, 3, 640, 640)\n"
     ]
    },
    {
     "name": "stdout",
     "output_type": "stream",
     "text": [
      "in process: 563/1000\r"
     ]
    },
    {
     "name": "stderr",
     "output_type": "stream",
     "text": [
      "\n",
      "0: 640x480 1 content, 1 date, 1 number, 1 sender, 1 signer, 105.1ms\n",
      "Speed: 0.3ms preprocess, 105.1ms inference, 0.4ms postprocess per image at shape (1, 3, 640, 640)\n",
      "\n",
      "0: 128x640 1 handwrite, 9.0ms\n",
      "Speed: 0.2ms preprocess, 9.0ms inference, 0.3ms postprocess per image at shape (1, 3, 640, 640)\n",
      "\n",
      "0: 192x640 1 handwrite, 11.3ms\n",
      "Speed: 0.2ms preprocess, 11.3ms inference, 0.3ms postprocess per image at shape (1, 3, 640, 640)\n"
     ]
    },
    {
     "name": "stdout",
     "output_type": "stream",
     "text": [
      "in process: 564/1000\r"
     ]
    },
    {
     "name": "stderr",
     "output_type": "stream",
     "text": [
      "\n",
      "0: 640x480 1 content, 1 date, 1 number, 1 sender, 1 signer, 105.5ms\n",
      "Speed: 0.4ms preprocess, 105.5ms inference, 2.1ms postprocess per image at shape (1, 3, 640, 640)\n",
      "\n",
      "0: 192x640 1 handwrite, 11.2ms\n",
      "Speed: 0.3ms preprocess, 11.2ms inference, 0.3ms postprocess per image at shape (1, 3, 640, 640)\n",
      "\n",
      "0: 192x640 1 handwrite, 11.0ms\n",
      "Speed: 0.1ms preprocess, 11.0ms inference, 0.3ms postprocess per image at shape (1, 3, 640, 640)\n"
     ]
    },
    {
     "name": "stdout",
     "output_type": "stream",
     "text": [
      "in process: 565/1000\r"
     ]
    },
    {
     "name": "stderr",
     "output_type": "stream",
     "text": [
      "\n",
      "0: 640x480 1 sender, 1 signer, 105.2ms\n",
      "Speed: 0.3ms preprocess, 105.2ms inference, 0.3ms postprocess per image at shape (1, 3, 640, 640)\n"
     ]
    },
    {
     "name": "stdout",
     "output_type": "stream",
     "text": [
      "in process: 566/1000\r"
     ]
    },
    {
     "name": "stderr",
     "output_type": "stream",
     "text": [
      "\n",
      "0: 640x480 4 senders, 1 signer, 102.5ms\n",
      "Speed: 0.3ms preprocess, 102.5ms inference, 0.4ms postprocess per image at shape (1, 3, 640, 640)\n"
     ]
    },
    {
     "name": "stdout",
     "output_type": "stream",
     "text": [
      "in process: 567/1000\r"
     ]
    },
    {
     "name": "stderr",
     "output_type": "stream",
     "text": [
      "\n",
      "0: 640x480 (no detections), 105.3ms\n",
      "Speed: 0.3ms preprocess, 105.3ms inference, 1.9ms postprocess per image at shape (1, 3, 640, 640)\n",
      "\n",
      "0: 640x480 (no detections), 105.6ms\n",
      "Speed: 0.3ms preprocess, 105.6ms inference, 0.2ms postprocess per image at shape (1, 3, 640, 640)\n",
      "\n"
     ]
    },
    {
     "name": "stdout",
     "output_type": "stream",
     "text": [
      "in process: 568/1000\r"
     ]
    },
    {
     "name": "stderr",
     "output_type": "stream",
     "text": [
      "0: 640x480 1 date, 2 numbers, 2 senders, 109.9ms\n",
      "Speed: 0.4ms preprocess, 109.9ms inference, 2.0ms postprocess per image at shape (1, 3, 640, 640)\n",
      "\n",
      "0: 224x640 1 handwrite, 12.5ms\n",
      "Speed: 0.2ms preprocess, 12.5ms inference, 0.3ms postprocess per image at shape (1, 3, 640, 640)\n",
      "\n",
      "0: 160x640 1 handwrite, 10.6ms\n",
      "Speed: 0.1ms preprocess, 10.6ms inference, 0.3ms postprocess per image at shape (1, 3, 640, 640)\n",
      "\n",
      "0: 96x640 1 handwrite, 7.7ms\n",
      "Speed: 0.1ms preprocess, 7.7ms inference, 0.3ms postprocess per image at shape (1, 3, 640, 640)\n",
      "\n"
     ]
    },
    {
     "name": "stdout",
     "output_type": "stream",
     "text": [
      "in process: 569/1000\r"
     ]
    },
    {
     "name": "stderr",
     "output_type": "stream",
     "text": [
      "0: 640x480 3 senders, 105.7ms\n",
      "Speed: 0.3ms preprocess, 105.7ms inference, 0.3ms postprocess per image at shape (1, 3, 640, 640)\n",
      "\n",
      "0: 640x480 2 senders, 105.0ms\n",
      "Speed: 0.3ms preprocess, 105.0ms inference, 0.3ms postprocess per image at shape (1, 3, 640, 640)\n"
     ]
    },
    {
     "name": "stdout",
     "output_type": "stream",
     "text": [
      "in process: 570/1000\r"
     ]
    },
    {
     "name": "stderr",
     "output_type": "stream",
     "text": [
      "\n",
      "0: 640x480 1 date, 1 number, 1 sender, 1 signer, 102.8ms\n",
      "Speed: 0.3ms preprocess, 102.8ms inference, 2.7ms postprocess per image at shape (1, 3, 640, 640)\n",
      "\n",
      "0: 192x640 1 handwrite, 1 typewritten, 15.9ms\n",
      "Speed: 0.2ms preprocess, 15.9ms inference, 0.6ms postprocess per image at shape (1, 3, 640, 640)\n",
      "\n",
      "0: 192x640 1 typewritten, 15.7ms\n",
      "Speed: 0.2ms preprocess, 15.7ms inference, 0.6ms postprocess per image at shape (1, 3, 640, 640)\n",
      "\n"
     ]
    },
    {
     "name": "stdout",
     "output_type": "stream",
     "text": [
      "in process: 571/1000\r"
     ]
    },
    {
     "name": "stderr",
     "output_type": "stream",
     "text": [
      "0: 640x480 1 date, 1 number, 1 sender, 1 signer, 105.2ms\n",
      "Speed: 0.3ms preprocess, 105.2ms inference, 0.4ms postprocess per image at shape (1, 3, 640, 640)\n",
      "\n",
      "0: 128x640 1 handwrite, 12.8ms\n",
      "Speed: 0.2ms preprocess, 12.8ms inference, 0.6ms postprocess per image at shape (1, 3, 640, 640)\n",
      "\n",
      "0: 192x640 1 handwrite, 1 typewritten, 12.3ms\n",
      "Speed: 0.2ms preprocess, 12.3ms inference, 0.4ms postprocess per image at shape (1, 3, 640, 640)\n"
     ]
    },
    {
     "name": "stdout",
     "output_type": "stream",
     "text": [
      "in process: 572/1000\r"
     ]
    },
    {
     "name": "stderr",
     "output_type": "stream",
     "text": [
      "\n",
      "0: 640x480 1 date, 1 number, 1 sender, 1 signer, 105.7ms\n",
      "Speed: 0.3ms preprocess, 105.7ms inference, 0.4ms postprocess per image at shape (1, 3, 640, 640)\n",
      "\n",
      "0: 128x640 2 typewrittens, 8.8ms\n",
      "Speed: 0.1ms preprocess, 8.8ms inference, 0.3ms postprocess per image at shape (1, 3, 640, 640)\n",
      "\n",
      "0: 224x640 1 typewritten, 12.5ms\n",
      "Speed: 0.2ms preprocess, 12.5ms inference, 0.3ms postprocess per image at shape (1, 3, 640, 640)\n"
     ]
    },
    {
     "name": "stdout",
     "output_type": "stream",
     "text": [
      "in process: 573/1000\r"
     ]
    },
    {
     "name": "stderr",
     "output_type": "stream",
     "text": [
      "\n",
      "0: 640x480 1 date, 1 number, 1 sender, 1 signer, 104.9ms\n",
      "Speed: 0.3ms preprocess, 104.9ms inference, 2.0ms postprocess per image at shape (1, 3, 640, 640)\n",
      "\n",
      "0: 160x640 1 handwrite, 18.8ms\n",
      "Speed: 0.2ms preprocess, 18.8ms inference, 0.3ms postprocess per image at shape (1, 3, 640, 640)\n",
      "\n",
      "0: 160x640 1 handwrite, 10.5ms\n",
      "Speed: 0.1ms preprocess, 10.5ms inference, 0.3ms postprocess per image at shape (1, 3, 640, 640)\n",
      "\n"
     ]
    },
    {
     "name": "stdout",
     "output_type": "stream",
     "text": [
      "in process: 574/1000\r"
     ]
    },
    {
     "name": "stderr",
     "output_type": "stream",
     "text": [
      "0: 640x480 1 content, 1 date, 1 number, 1 sender, 1 signer, 105.6ms\n",
      "Speed: 0.3ms preprocess, 105.6ms inference, 0.4ms postprocess per image at shape (1, 3, 640, 640)\n",
      "\n",
      "0: 192x640 1 typewritten, 11.4ms\n",
      "Speed: 0.2ms preprocess, 11.4ms inference, 0.3ms postprocess per image at shape (1, 3, 640, 640)\n",
      "\n",
      "0: 128x640 1 handwrite, 1 typewritten, 8.7ms\n",
      "Speed: 0.8ms preprocess, 8.7ms inference, 0.3ms postprocess per image at shape (1, 3, 640, 640)\n",
      "\n"
     ]
    },
    {
     "name": "stdout",
     "output_type": "stream",
     "text": [
      "in process: 575/1000\r"
     ]
    },
    {
     "name": "stderr",
     "output_type": "stream",
     "text": [
      "0: 640x480 1 date, 1 number, 1 signer, 105.0ms\n",
      "Speed: 0.3ms preprocess, 105.0ms inference, 0.3ms postprocess per image at shape (1, 3, 640, 640)\n",
      "\n",
      "0: 160x640 1 handwrite, 10.5ms\n",
      "Speed: 0.2ms preprocess, 10.5ms inference, 0.3ms postprocess per image at shape (1, 3, 640, 640)\n",
      "\n",
      "0: 192x640 1 handwrite, 11.4ms\n",
      "Speed: 0.1ms preprocess, 11.4ms inference, 0.3ms postprocess per image at shape (1, 3, 640, 640)\n"
     ]
    },
    {
     "name": "stdout",
     "output_type": "stream",
     "text": [
      "in process: 576/1000\r"
     ]
    },
    {
     "name": "stderr",
     "output_type": "stream",
     "text": [
      "\n",
      "0: 640x480 (no detections), 105.1ms\n",
      "Speed: 0.3ms preprocess, 105.1ms inference, 1.9ms postprocess per image at shape (1, 3, 640, 640)\n",
      "\n",
      "0: 640x480 (no detections), 102.8ms\n",
      "Speed: 0.3ms preprocess, 102.8ms inference, 0.2ms postprocess per image at shape (1, 3, 640, 640)\n",
      "\n",
      "0: 640x480 (no detections), 105.0ms\n",
      "Speed: 0.3ms preprocess, 105.0ms inference, 0.2ms postprocess per image at shape (1, 3, 640, 640)\n",
      "\n",
      "0: 640x480 (no detections), 105.0ms\n",
      "Speed: 0.3ms preprocess, 105.0ms inference, 0.2ms postprocess per image at shape (1, 3, 640, 640)\n",
      "\n",
      "0: 640x480 1 signer, 102.1ms\n",
      "Speed: 0.3ms preprocess, 102.1ms inference, 0.3ms postprocess per image at shape (1, 3, 640, 640)\n"
     ]
    },
    {
     "name": "stdout",
     "output_type": "stream",
     "text": [
      "in process: 577/1000\r"
     ]
    },
    {
     "name": "stderr",
     "output_type": "stream",
     "text": [
      "\n",
      "0: 640x480 1 content, 1 date, 1 number, 1 sender, 1 signer, 102.5ms\n",
      "Speed: 0.3ms preprocess, 102.5ms inference, 1.8ms postprocess per image at shape (1, 3, 640, 640)\n",
      "\n",
      "0: 160x640 1 handwrite, 10.5ms\n",
      "Speed: 0.2ms preprocess, 10.5ms inference, 0.3ms postprocess per image at shape (1, 3, 640, 640)\n",
      "\n",
      "0: 224x640 1 typewritten, 12.5ms\n",
      "Speed: 0.2ms preprocess, 12.5ms inference, 0.3ms postprocess per image at shape (1, 3, 640, 640)\n"
     ]
    },
    {
     "name": "stdout",
     "output_type": "stream",
     "text": [
      "in process: 578/1000\r"
     ]
    },
    {
     "name": "stderr",
     "output_type": "stream",
     "text": [
      "\n",
      "0: 640x480 1 number, 1 sender, 1 signer, 110.6ms\n",
      "Speed: 0.3ms preprocess, 110.6ms inference, 2.8ms postprocess per image at shape (1, 3, 640, 640)\n",
      "\n",
      "0: 96x640 1 typewritten, 8.0ms\n",
      "Speed: 0.2ms preprocess, 8.0ms inference, 0.3ms postprocess per image at shape (1, 3, 640, 640)\n"
     ]
    },
    {
     "name": "stdout",
     "output_type": "stream",
     "text": [
      "in process: 579/1000\r"
     ]
    },
    {
     "name": "stderr",
     "output_type": "stream",
     "text": [
      "\n",
      "0: 640x480 (no detections), 105.3ms\n",
      "Speed: 0.3ms preprocess, 105.3ms inference, 0.2ms postprocess per image at shape (1, 3, 640, 640)\n",
      "\n",
      "0: 640x480 (no detections), 110.9ms\n",
      "Speed: 0.3ms preprocess, 110.9ms inference, 0.3ms postprocess per image at shape (1, 3, 640, 640)\n"
     ]
    },
    {
     "name": "stdout",
     "output_type": "stream",
     "text": [
      "in process: 580/1000\r"
     ]
    },
    {
     "name": "stderr",
     "output_type": "stream",
     "text": [
      "\n",
      "0: 640x480 1 date, 1 number, 2 senders, 103.0ms\n",
      "Speed: 0.3ms preprocess, 103.0ms inference, 2.6ms postprocess per image at shape (1, 3, 640, 640)\n",
      "\n",
      "0: 192x640 1 handwrite, 11.3ms\n",
      "Speed: 0.2ms preprocess, 11.3ms inference, 0.3ms postprocess per image at shape (1, 3, 640, 640)\n",
      "\n",
      "0: 128x640 1 handwrite, 8.9ms\n",
      "Speed: 0.1ms preprocess, 8.9ms inference, 0.3ms postprocess per image at shape (1, 3, 640, 640)\n",
      "\n",
      "0: 640x480 (no detections), 104.8ms\n",
      "Speed: 0.3ms preprocess, 104.8ms inference, 0.2ms postprocess per image at shape (1, 3, 640, 640)\n",
      "\n",
      "0: 640x480 1 sender, 1 signer, 104.9ms\n",
      "Speed: 0.3ms preprocess, 104.9ms inference, 0.3ms postprocess per image at shape (1, 3, 640, 640)\n"
     ]
    },
    {
     "name": "stdout",
     "output_type": "stream",
     "text": [
      "in process: 581/1000\r"
     ]
    },
    {
     "name": "stderr",
     "output_type": "stream",
     "text": [
      "\n",
      "0: 640x480 1 date, 1 number, 1 sender, 102.9ms\n",
      "Speed: 0.3ms preprocess, 102.9ms inference, 1.7ms postprocess per image at shape (1, 3, 640, 640)\n",
      "\n",
      "0: 192x640 1 handwrite, 11.3ms\n",
      "Speed: 0.2ms preprocess, 11.3ms inference, 0.3ms postprocess per image at shape (1, 3, 640, 640)\n",
      "\n",
      "0: 160x640 1 handwrite, 10.6ms\n",
      "Speed: 0.1ms preprocess, 10.6ms inference, 0.3ms postprocess per image at shape (1, 3, 640, 640)\n",
      "\n",
      "0: 640x480 (no detections), 104.8ms\n",
      "Speed: 0.3ms preprocess, 104.8ms inference, 0.2ms postprocess per image at shape (1, 3, 640, 640)\n",
      "\n",
      "0: 640x480 1 signer, 105.0ms\n",
      "Speed: 0.3ms preprocess, 105.0ms inference, 0.3ms postprocess per image at shape (1, 3, 640, 640)\n"
     ]
    },
    {
     "name": "stdout",
     "output_type": "stream",
     "text": [
      "in process: 582/1000\r"
     ]
    },
    {
     "name": "stderr",
     "output_type": "stream",
     "text": [
      "\n",
      "0: 640x480 1 sender, 1 signer, 106.4ms\n",
      "Speed: 0.3ms preprocess, 106.4ms inference, 0.4ms postprocess per image at shape (1, 3, 640, 640)\n"
     ]
    },
    {
     "name": "stdout",
     "output_type": "stream",
     "text": [
      "in process: 583/1000\r"
     ]
    },
    {
     "name": "stderr",
     "output_type": "stream",
     "text": [
      "\n",
      "0: 640x480 (no detections), 102.7ms\n",
      "Speed: 0.3ms preprocess, 102.7ms inference, 0.2ms postprocess per image at shape (1, 3, 640, 640)\n",
      "\n",
      "0: 640x480 (no detections), 102.1ms\n",
      "Speed: 0.3ms preprocess, 102.1ms inference, 0.2ms postprocess per image at shape (1, 3, 640, 640)\n",
      "\n",
      "0: 480x640 1 signer, 105.3ms\n",
      "Speed: 0.3ms preprocess, 105.3ms inference, 0.3ms postprocess per image at shape (1, 3, 640, 640)\n",
      "\n"
     ]
    },
    {
     "name": "stdout",
     "output_type": "stream",
     "text": [
      "in process: 584/1000\r"
     ]
    },
    {
     "name": "stderr",
     "output_type": "stream",
     "text": [
      "0: 640x480 2 dates, 2 senders, 1 signer, 103.1ms\n",
      "Speed: 0.3ms preprocess, 103.1ms inference, 2.6ms postprocess per image at shape (1, 3, 640, 640)\n",
      "\n",
      "0: 160x640 1 handwrite, 10.3ms\n",
      "Speed: 0.2ms preprocess, 10.3ms inference, 0.3ms postprocess per image at shape (1, 3, 640, 640)\n",
      "\n",
      "0: 96x640 1 handwrite, 7.7ms\n",
      "Speed: 0.2ms preprocess, 7.7ms inference, 0.3ms postprocess per image at shape (1, 3, 640, 640)\n"
     ]
    },
    {
     "name": "stdout",
     "output_type": "stream",
     "text": [
      "in process: 585/1000\r"
     ]
    },
    {
     "name": "stderr",
     "output_type": "stream",
     "text": [
      "\n",
      "0: 640x448 1 content, 1 date, 1 number, 1 sender, 1 signer, 97.4ms\n",
      "Speed: 0.3ms preprocess, 97.4ms inference, 0.3ms postprocess per image at shape (1, 3, 640, 640)\n",
      "\n",
      "0: 160x640 1 handwrite, 14.9ms\n",
      "Speed: 0.2ms preprocess, 14.9ms inference, 0.6ms postprocess per image at shape (1, 3, 640, 640)\n",
      "\n",
      "0: 160x640 1 handwrite, 11.1ms\n",
      "Speed: 0.1ms preprocess, 11.1ms inference, 0.6ms postprocess per image at shape (1, 3, 640, 640)\n"
     ]
    },
    {
     "name": "stdout",
     "output_type": "stream",
     "text": [
      "in process: 586/1000\r"
     ]
    },
    {
     "name": "stderr",
     "output_type": "stream",
     "text": [
      "\n",
      "0: 640x480 1 content, 1 date, 1 number, 2 senders, 1 signer, 105.3ms\n",
      "Speed: 0.3ms preprocess, 105.3ms inference, 0.3ms postprocess per image at shape (1, 3, 640, 640)\n",
      "\n",
      "0: 160x640 1 handwrite, 10.4ms\n",
      "Speed: 0.2ms preprocess, 10.4ms inference, 0.3ms postprocess per image at shape (1, 3, 640, 640)\n",
      "\n",
      "0: 160x640 1 handwrite, 10.2ms\n",
      "Speed: 0.1ms preprocess, 10.2ms inference, 0.3ms postprocess per image at shape (1, 3, 640, 640)\n"
     ]
    },
    {
     "name": "stdout",
     "output_type": "stream",
     "text": [
      "in process: 587/1000\r"
     ]
    },
    {
     "name": "stderr",
     "output_type": "stream",
     "text": [
      "\n",
      "0: 640x480 1 content, 1 date, 2 numbers, 1 signer, 105.4ms\n",
      "Speed: 0.3ms preprocess, 105.4ms inference, 1.9ms postprocess per image at shape (1, 3, 640, 640)\n",
      "\n",
      "0: 256x640 1 handwrite, 13.1ms\n",
      "Speed: 0.2ms preprocess, 13.1ms inference, 0.3ms postprocess per image at shape (1, 3, 640, 640)\n",
      "\n",
      "0: 224x640 1 handwrite, 12.3ms\n",
      "Speed: 0.2ms preprocess, 12.3ms inference, 0.3ms postprocess per image at shape (1, 3, 640, 640)\n",
      "\n",
      "0: 256x640 1 handwrite, 13.1ms\n",
      "Speed: 0.1ms preprocess, 13.1ms inference, 0.3ms postprocess per image at shape (1, 3, 640, 640)\n"
     ]
    },
    {
     "name": "stdout",
     "output_type": "stream",
     "text": [
      "in process: 588/1000\r"
     ]
    },
    {
     "name": "stderr",
     "output_type": "stream",
     "text": [
      "\n",
      "0: 640x480 1 sender, 1 signer, 105.4ms\n",
      "Speed: 0.3ms preprocess, 105.4ms inference, 0.3ms postprocess per image at shape (1, 3, 640, 640)\n",
      "\n"
     ]
    },
    {
     "name": "stdout",
     "output_type": "stream",
     "text": [
      "in process: 589/1000\r"
     ]
    },
    {
     "name": "stderr",
     "output_type": "stream",
     "text": [
      "0: 640x448 1 date, 1 number, 2 senders, 1 signer, 100.5ms\n",
      "Speed: 0.2ms preprocess, 100.5ms inference, 1.8ms postprocess per image at shape (1, 3, 640, 640)\n",
      "\n",
      "0: 128x640 1 handwrite, 8.7ms\n",
      "Speed: 0.2ms preprocess, 8.7ms inference, 0.3ms postprocess per image at shape (1, 3, 640, 640)\n",
      "\n",
      "0: 160x640 2 handwrites, 10.4ms\n",
      "Speed: 0.1ms preprocess, 10.4ms inference, 0.3ms postprocess per image at shape (1, 3, 640, 640)\n",
      "\n"
     ]
    },
    {
     "name": "stdout",
     "output_type": "stream",
     "text": [
      "in process: 590/1000\r"
     ]
    },
    {
     "name": "stderr",
     "output_type": "stream",
     "text": [
      "0: 640x480 1 content, 1 date, 1 number, 1 sender, 1 signer, 105.2ms\n",
      "Speed: 0.3ms preprocess, 105.2ms inference, 0.3ms postprocess per image at shape (1, 3, 640, 640)\n",
      "\n",
      "0: 96x640 1 handwrite, 7.8ms\n",
      "Speed: 0.2ms preprocess, 7.8ms inference, 0.3ms postprocess per image at shape (1, 3, 640, 640)\n",
      "\n",
      "0: 160x640 1 handwrite, 10.9ms\n",
      "Speed: 0.2ms preprocess, 10.9ms inference, 0.3ms postprocess per image at shape (1, 3, 640, 640)\n",
      "\n"
     ]
    },
    {
     "name": "stdout",
     "output_type": "stream",
     "text": [
      "in process: 591/1000\r"
     ]
    },
    {
     "name": "stderr",
     "output_type": "stream",
     "text": [
      "0: 640x480 1 date, 1 number, 1 sender, 1 signer, 105.4ms\n",
      "Speed: 0.3ms preprocess, 105.4ms inference, 0.4ms postprocess per image at shape (1, 3, 640, 640)\n",
      "\n",
      "0: 160x640 1 typewritten, 10.5ms\n",
      "Speed: 0.2ms preprocess, 10.5ms inference, 0.3ms postprocess per image at shape (1, 3, 640, 640)\n",
      "\n",
      "0: 160x640 1 handwrite, 1 typewritten, 10.4ms\n",
      "Speed: 0.2ms preprocess, 10.4ms inference, 0.3ms postprocess per image at shape (1, 3, 640, 640)\n",
      "\n"
     ]
    },
    {
     "name": "stdout",
     "output_type": "stream",
     "text": [
      "in process: 592/1000\r"
     ]
    },
    {
     "name": "stderr",
     "output_type": "stream",
     "text": [
      "0: 640x480 1 content, 1 date, 1 number, 1 sender, 105.4ms\n",
      "Speed: 0.3ms preprocess, 105.4ms inference, 2.0ms postprocess per image at shape (1, 3, 640, 640)\n",
      "\n",
      "0: 192x640 1 handwrite, 11.3ms\n",
      "Speed: 0.2ms preprocess, 11.3ms inference, 0.3ms postprocess per image at shape (1, 3, 640, 640)\n",
      "\n",
      "0: 256x640 2 handwrites, 13.1ms\n",
      "Speed: 0.1ms preprocess, 13.1ms inference, 0.3ms postprocess per image at shape (1, 3, 640, 640)\n",
      "\n",
      "0: 640x480 1 signer, 103.7ms\n",
      "Speed: 0.3ms preprocess, 103.7ms inference, 0.3ms postprocess per image at shape (1, 3, 640, 640)\n"
     ]
    },
    {
     "name": "stdout",
     "output_type": "stream",
     "text": [
      "in process: 593/1000\r"
     ]
    },
    {
     "name": "stderr",
     "output_type": "stream",
     "text": [
      "\n",
      "0: 640x480 1 date, 1 number, 1 sender, 102.6ms\n",
      "Speed: 0.3ms preprocess, 102.6ms inference, 1.6ms postprocess per image at shape (1, 3, 640, 640)\n",
      "\n",
      "0: 128x640 1 handwrite, 12.7ms\n",
      "Speed: 0.2ms preprocess, 12.7ms inference, 0.6ms postprocess per image at shape (1, 3, 640, 640)\n",
      "\n",
      "0: 192x640 1 handwrite, 15.8ms\n",
      "Speed: 0.1ms preprocess, 15.8ms inference, 0.7ms postprocess per image at shape (1, 3, 640, 640)\n",
      "\n",
      "0: 640x480 1 signer, 105.3ms\n",
      "Speed: 0.3ms preprocess, 105.3ms inference, 0.3ms postprocess per image at shape (1, 3, 640, 640)\n"
     ]
    },
    {
     "name": "stdout",
     "output_type": "stream",
     "text": [
      "in process: 594/1000\r"
     ]
    },
    {
     "name": "stderr",
     "output_type": "stream",
     "text": [
      "\n",
      "0: 640x480 1 content, 1 date, 1 number, 1 sender, 1 signer, 103.0ms\n",
      "Speed: 0.3ms preprocess, 103.0ms inference, 1.6ms postprocess per image at shape (1, 3, 640, 640)\n",
      "\n",
      "0: 160x640 1 handwrite, 12.8ms\n",
      "Speed: 0.2ms preprocess, 12.8ms inference, 0.3ms postprocess per image at shape (1, 3, 640, 640)\n",
      "\n",
      "0: 224x640 1 typewritten, 12.2ms\n",
      "Speed: 0.1ms preprocess, 12.2ms inference, 0.3ms postprocess per image at shape (1, 3, 640, 640)\n",
      "\n"
     ]
    },
    {
     "name": "stdout",
     "output_type": "stream",
     "text": [
      "in process: 595/1000\r"
     ]
    },
    {
     "name": "stderr",
     "output_type": "stream",
     "text": [
      "0: 640x480 1 content, 1 date, 2 numbers, 1 sender, 1 signer, 103.5ms\n",
      "Speed: 0.3ms preprocess, 103.5ms inference, 0.4ms postprocess per image at shape (1, 3, 640, 640)\n",
      "\n",
      "0: 160x640 1 handwrite, 10.7ms\n",
      "Speed: 0.2ms preprocess, 10.7ms inference, 0.3ms postprocess per image at shape (1, 3, 640, 640)\n",
      "\n",
      "0: 128x640 1 handwrite, 8.7ms\n",
      "Speed: 0.1ms preprocess, 8.7ms inference, 0.3ms postprocess per image at shape (1, 3, 640, 640)\n",
      "\n",
      "0: 128x640 1 handwrite, 8.3ms\n",
      "Speed: 0.1ms preprocess, 8.3ms inference, 0.3ms postprocess per image at shape (1, 3, 640, 640)\n",
      "\n"
     ]
    },
    {
     "name": "stdout",
     "output_type": "stream",
     "text": [
      "in process: 596/1000\r"
     ]
    },
    {
     "name": "stderr",
     "output_type": "stream",
     "text": [
      "0: 640x480 1 content, 1 date, 1 number, 1 sender, 1 signer, 106.2ms\n",
      "Speed: 0.3ms preprocess, 106.2ms inference, 0.4ms postprocess per image at shape (1, 3, 640, 640)\n",
      "\n",
      "0: 160x640 1 handwrite, 14.7ms\n",
      "Speed: 0.2ms preprocess, 14.7ms inference, 0.6ms postprocess per image at shape (1, 3, 640, 640)\n",
      "\n",
      "0: 192x640 1 handwrite, 11.3ms\n",
      "Speed: 0.2ms preprocess, 11.3ms inference, 0.3ms postprocess per image at shape (1, 3, 640, 640)\n"
     ]
    },
    {
     "name": "stdout",
     "output_type": "stream",
     "text": [
      "in process: 597/1000\r"
     ]
    },
    {
     "name": "stderr",
     "output_type": "stream",
     "text": [
      "\n",
      "0: 640x480 1 content, 1 date, 1 number, 1 sender, 105.3ms\n",
      "Speed: 0.3ms preprocess, 105.3ms inference, 2.3ms postprocess per image at shape (1, 3, 640, 640)\n",
      "\n",
      "0: 192x640 1 handwrite, 11.2ms\n",
      "Speed: 0.2ms preprocess, 11.2ms inference, 0.3ms postprocess per image at shape (1, 3, 640, 640)\n",
      "\n",
      "0: 224x640 1 handwrite, 12.2ms\n",
      "Speed: 0.1ms preprocess, 12.2ms inference, 0.3ms postprocess per image at shape (1, 3, 640, 640)\n",
      "\n",
      "0: 640x480 2 senders, 1 signer, 110.0ms\n",
      "Speed: 0.3ms preprocess, 110.0ms inference, 0.7ms postprocess per image at shape (1, 3, 640, 640)\n"
     ]
    },
    {
     "name": "stdout",
     "output_type": "stream",
     "text": [
      "in process: 598/1000\r"
     ]
    },
    {
     "name": "stderr",
     "output_type": "stream",
     "text": [
      "\n",
      "0: 640x480 1 content, 1 date, 1 number, 1 sender, 1 signer, 103.4ms\n",
      "Speed: 0.3ms preprocess, 103.4ms inference, 2.2ms postprocess per image at shape (1, 3, 640, 640)\n",
      "\n",
      "0: 224x640 1 typewritten, 16.0ms\n",
      "Speed: 0.2ms preprocess, 16.0ms inference, 0.6ms postprocess per image at shape (1, 3, 640, 640)\n",
      "\n",
      "0: 192x640 1 typewritten, 18.4ms\n",
      "Speed: 0.2ms preprocess, 18.4ms inference, 0.6ms postprocess per image at shape (1, 3, 640, 640)\n"
     ]
    },
    {
     "name": "stdout",
     "output_type": "stream",
     "text": [
      "in process: 599/1000\r"
     ]
    },
    {
     "name": "stderr",
     "output_type": "stream",
     "text": [
      "\n",
      "0: 640x480 1 number, 1 sender, 103.4ms\n",
      "Speed: 0.3ms preprocess, 103.4ms inference, 0.3ms postprocess per image at shape (1, 3, 640, 640)\n",
      "\n",
      "0: 192x640 1 handwrite, 11.1ms\n",
      "Speed: 0.1ms preprocess, 11.1ms inference, 0.3ms postprocess per image at shape (1, 3, 640, 640)\n",
      "\n",
      "0: 640x480 2 signers, 103.1ms\n",
      "Speed: 0.3ms preprocess, 103.1ms inference, 0.3ms postprocess per image at shape (1, 3, 640, 640)\n",
      "\n"
     ]
    },
    {
     "name": "stdout",
     "output_type": "stream",
     "text": [
      "in process: 600/1000\r"
     ]
    },
    {
     "name": "stderr",
     "output_type": "stream",
     "text": [
      "0: 640x480 1 date, 1 number, 1 sender, 1 signer, 103.5ms\n",
      "Speed: 0.3ms preprocess, 103.5ms inference, 2.0ms postprocess per image at shape (1, 3, 640, 640)\n",
      "\n",
      "0: 160x640 1 handwrite, 10.4ms\n",
      "Speed: 0.2ms preprocess, 10.4ms inference, 0.3ms postprocess per image at shape (1, 3, 640, 640)\n",
      "\n",
      "0: 128x640 1 handwrite, 13.4ms\n",
      "Speed: 0.2ms preprocess, 13.4ms inference, 0.4ms postprocess per image at shape (1, 3, 640, 640)\n"
     ]
    },
    {
     "name": "stdout",
     "output_type": "stream",
     "text": [
      "in process: 601/1000\r"
     ]
    },
    {
     "name": "stderr",
     "output_type": "stream",
     "text": [
      "\n",
      "0: 640x480 1 content, 1 date, 1 number, 1 signer, 105.8ms\n",
      "Speed: 0.3ms preprocess, 105.8ms inference, 0.4ms postprocess per image at shape (1, 3, 640, 640)\n",
      "\n",
      "0: 160x640 1 handwrite, 10.5ms\n",
      "Speed: 0.1ms preprocess, 10.5ms inference, 0.3ms postprocess per image at shape (1, 3, 640, 640)\n",
      "\n",
      "0: 192x640 1 handwrite, 15.9ms\n",
      "Speed: 0.2ms preprocess, 15.9ms inference, 0.6ms postprocess per image at shape (1, 3, 640, 640)\n"
     ]
    },
    {
     "name": "stdout",
     "output_type": "stream",
     "text": [
      "in process: 602/1000\r"
     ]
    },
    {
     "name": "stderr",
     "output_type": "stream",
     "text": [
      "\n",
      "0: 640x480 1 sender, 103.5ms\n",
      "Speed: 0.3ms preprocess, 103.5ms inference, 0.3ms postprocess per image at shape (1, 3, 640, 640)\n",
      "\n",
      "0: 640x480 1 signer, 102.5ms\n",
      "Speed: 0.3ms preprocess, 102.5ms inference, 0.3ms postprocess per image at shape (1, 3, 640, 640)\n",
      "\n"
     ]
    },
    {
     "name": "stdout",
     "output_type": "stream",
     "text": [
      "in process: 603/1000\r"
     ]
    },
    {
     "name": "stderr",
     "output_type": "stream",
     "text": [
      "0: 640x480 1 content, 1 date, 1 number, 1 sender, 1 signer, 104.0ms\n",
      "Speed: 0.3ms preprocess, 104.0ms inference, 2.1ms postprocess per image at shape (1, 3, 640, 640)\n",
      "\n",
      "0: 128x640 1 handwrite, 12.7ms\n",
      "Speed: 0.2ms preprocess, 12.7ms inference, 0.6ms postprocess per image at shape (1, 3, 640, 640)\n",
      "\n",
      "0: 192x640 1 handwrite, 15.8ms\n",
      "Speed: 0.2ms preprocess, 15.8ms inference, 0.6ms postprocess per image at shape (1, 3, 640, 640)\n"
     ]
    },
    {
     "name": "stdout",
     "output_type": "stream",
     "text": [
      "in process: 604/1000\r"
     ]
    },
    {
     "name": "stderr",
     "output_type": "stream",
     "text": [
      "\n",
      "0: 640x480 1 content, 1 date, 1 number, 103.6ms\n",
      "Speed: 0.3ms preprocess, 103.6ms inference, 1.7ms postprocess per image at shape (1, 3, 640, 640)\n",
      "\n",
      "0: 192x640 1 handwrite, 11.1ms\n",
      "Speed: 0.2ms preprocess, 11.1ms inference, 0.3ms postprocess per image at shape (1, 3, 640, 640)\n",
      "\n",
      "0: 224x640 2 typewrittens, 12.3ms\n",
      "Speed: 0.1ms preprocess, 12.3ms inference, 0.3ms postprocess per image at shape (1, 3, 640, 640)\n",
      "\n",
      "0: 640x480 (no detections), 105.6ms\n",
      "Speed: 0.3ms preprocess, 105.6ms inference, 0.2ms postprocess per image at shape (1, 3, 640, 640)\n",
      "\n",
      "0: 640x480 (no detections), 109.3ms\n",
      "Speed: 0.3ms preprocess, 109.3ms inference, 0.2ms postprocess per image at shape (1, 3, 640, 640)\n",
      "\n",
      "0: 640x480 1 signer, 103.2ms\n",
      "Speed: 0.3ms preprocess, 103.2ms inference, 0.3ms postprocess per image at shape (1, 3, 640, 640)\n",
      "\n"
     ]
    },
    {
     "name": "stdout",
     "output_type": "stream",
     "text": [
      "in process: 605/1000\r"
     ]
    },
    {
     "name": "stderr",
     "output_type": "stream",
     "text": [
      "0: 640x480 1 date, 1 number, 1 sender, 1 signer, 103.1ms\n",
      "Speed: 0.3ms preprocess, 103.1ms inference, 0.4ms postprocess per image at shape (1, 3, 640, 640)\n",
      "\n",
      "0: 192x640 1 typewritten, 26.9ms\n",
      "Speed: 0.2ms preprocess, 26.9ms inference, 0.6ms postprocess per image at shape (1, 3, 640, 640)\n",
      "\n",
      "0: 192x640 2 typewrittens, 15.5ms\n",
      "Speed: 0.2ms preprocess, 15.5ms inference, 0.6ms postprocess per image at shape (1, 3, 640, 640)\n",
      "\n"
     ]
    },
    {
     "name": "stdout",
     "output_type": "stream",
     "text": [
      "in process: 606/1000\r"
     ]
    },
    {
     "name": "stderr",
     "output_type": "stream",
     "text": [
      "0: 640x480 1 date, 1 number, 1 sender, 1 signer, 105.8ms\n",
      "Speed: 0.3ms preprocess, 105.8ms inference, 0.3ms postprocess per image at shape (1, 3, 640, 640)\n",
      "\n",
      "0: 160x640 1 handwrite, 13.7ms\n",
      "Speed: 0.2ms preprocess, 13.7ms inference, 0.6ms postprocess per image at shape (1, 3, 640, 640)\n",
      "\n",
      "0: 160x640 3 handwrites, 10.3ms\n",
      "Speed: 0.1ms preprocess, 10.3ms inference, 0.3ms postprocess per image at shape (1, 3, 640, 640)\n"
     ]
    },
    {
     "name": "stdout",
     "output_type": "stream",
     "text": [
      "in process: 607/1000\r"
     ]
    },
    {
     "name": "stderr",
     "output_type": "stream",
     "text": [
      "\n",
      "0: 640x480 1 date, 1 number, 1 sender, 106.0ms\n",
      "Speed: 0.3ms preprocess, 106.0ms inference, 1.9ms postprocess per image at shape (1, 3, 640, 640)\n",
      "\n",
      "0: 128x640 1 handwrite, 12.7ms\n",
      "Speed: 0.2ms preprocess, 12.7ms inference, 0.6ms postprocess per image at shape (1, 3, 640, 640)\n",
      "\n",
      "0: 192x640 1 typewritten, 15.9ms\n",
      "Speed: 0.1ms preprocess, 15.9ms inference, 0.6ms postprocess per image at shape (1, 3, 640, 640)\n",
      "\n",
      "0: 640x480 1 signer, 104.9ms\n",
      "Speed: 0.3ms preprocess, 104.9ms inference, 0.3ms postprocess per image at shape (1, 3, 640, 640)\n",
      "\n"
     ]
    },
    {
     "name": "stdout",
     "output_type": "stream",
     "text": [
      "in process: 608/1000\r"
     ]
    },
    {
     "name": "stderr",
     "output_type": "stream",
     "text": [
      "0: 640x480 1 date, 1 number, 1 sender, 105.7ms\n",
      "Speed: 0.3ms preprocess, 105.7ms inference, 1.9ms postprocess per image at shape (1, 3, 640, 640)\n",
      "\n",
      "0: 192x640 2 handwrites, 1 typewritten, 11.2ms\n",
      "Speed: 0.2ms preprocess, 11.2ms inference, 0.3ms postprocess per image at shape (1, 3, 640, 640)\n",
      "\n",
      "0: 192x640 1 handwrite, 11.3ms\n",
      "Speed: 0.2ms preprocess, 11.3ms inference, 0.3ms postprocess per image at shape (1, 3, 640, 640)\n"
     ]
    },
    {
     "name": "stdout",
     "output_type": "stream",
     "text": [
      "in process: 609/1000\r"
     ]
    },
    {
     "name": "stderr",
     "output_type": "stream",
     "text": [
      "\n",
      "0: 480x640 1 sender, 105.5ms\n",
      "Speed: 0.3ms preprocess, 105.5ms inference, 1.8ms postprocess per image at shape (1, 3, 640, 640)\n",
      "\n",
      "0: 640x480 (no detections), 103.1ms\n",
      "Speed: 0.3ms preprocess, 103.1ms inference, 0.2ms postprocess per image at shape (1, 3, 640, 640)\n",
      "\n",
      "0: 640x480 (no detections), 104.7ms\n",
      "Speed: 0.3ms preprocess, 104.7ms inference, 0.2ms postprocess per image at shape (1, 3, 640, 640)\n",
      "\n",
      "0: 640x480 (no detections), 105.4ms\n",
      "Speed: 0.3ms preprocess, 105.4ms inference, 0.2ms postprocess per image at shape (1, 3, 640, 640)\n",
      "\n",
      "0: 640x480 (no detections), 103.2ms\n",
      "Speed: 0.3ms preprocess, 103.2ms inference, 0.2ms postprocess per image at shape (1, 3, 640, 640)\n",
      "\n",
      "0: 640x480 (no detections), 102.5ms\n",
      "Speed: 0.3ms preprocess, 102.5ms inference, 0.2ms postprocess per image at shape (1, 3, 640, 640)\n",
      "\n",
      "0: 640x480 1 sender, 105.6ms\n",
      "Speed: 0.3ms preprocess, 105.6ms inference, 0.3ms postprocess per image at shape (1, 3, 640, 640)\n",
      "\n",
      "0: 640x480 (no detections), 105.4ms\n",
      "Speed: 0.3ms preprocess, 105.4ms inference, 0.2ms postprocess per image at shape (1, 3, 640, 640)\n",
      "\n",
      "0: 640x480 (no detections), 103.3ms\n",
      "Speed: 0.3ms preprocess, 103.3ms inference, 0.2ms postprocess per image at shape (1, 3, 640, 640)\n",
      "\n",
      "0: 640x480 (no detections), 103.4ms\n",
      "Speed: 0.3ms preprocess, 103.4ms inference, 0.2ms postprocess per image at shape (1, 3, 640, 640)\n",
      "\n"
     ]
    },
    {
     "name": "stdout",
     "output_type": "stream",
     "text": [
      "in process: 610/1000\r"
     ]
    },
    {
     "name": "stderr",
     "output_type": "stream",
     "text": [
      "0: 640x480 1 date, 1 number, 1 sender, 103.6ms\n",
      "Speed: 0.3ms preprocess, 103.6ms inference, 1.3ms postprocess per image at shape (1, 3, 640, 640)\n",
      "\n",
      "0: 160x640 1 handwrite, 10.5ms\n",
      "Speed: 0.2ms preprocess, 10.5ms inference, 0.3ms postprocess per image at shape (1, 3, 640, 640)\n",
      "\n",
      "0: 288x640 1 handwrite, 18.9ms\n",
      "Speed: 0.1ms preprocess, 18.9ms inference, 0.3ms postprocess per image at shape (1, 3, 640, 640)\n",
      "\n",
      "0: 640x480 1 signer, 105.7ms\n",
      "Speed: 0.3ms preprocess, 105.7ms inference, 0.3ms postprocess per image at shape (1, 3, 640, 640)\n"
     ]
    },
    {
     "name": "stdout",
     "output_type": "stream",
     "text": [
      "in process: 611/1000\r"
     ]
    },
    {
     "name": "stderr",
     "output_type": "stream",
     "text": [
      "\n",
      "0: 640x480 1 content, 1 date, 1 number, 1 sender, 1 signer, 105.8ms\n",
      "Speed: 0.3ms preprocess, 105.8ms inference, 1.5ms postprocess per image at shape (1, 3, 640, 640)\n",
      "\n",
      "0: 192x640 1 handwrite, 15.8ms\n",
      "Speed: 0.2ms preprocess, 15.8ms inference, 0.6ms postprocess per image at shape (1, 3, 640, 640)\n",
      "\n",
      "0: 192x640 1 typewritten, 15.3ms\n",
      "Speed: 0.2ms preprocess, 15.3ms inference, 0.6ms postprocess per image at shape (1, 3, 640, 640)\n",
      "\n"
     ]
    },
    {
     "name": "stdout",
     "output_type": "stream",
     "text": [
      "in process: 612/1000\r"
     ]
    },
    {
     "name": "stderr",
     "output_type": "stream",
     "text": [
      "0: 640x480 1 date, 1 number, 2 senders, 105.8ms\n",
      "Speed: 0.3ms preprocess, 105.8ms inference, 0.3ms postprocess per image at shape (1, 3, 640, 640)\n",
      "\n",
      "0: 160x640 1 handwrite, 10.5ms\n",
      "Speed: 0.2ms preprocess, 10.5ms inference, 0.3ms postprocess per image at shape (1, 3, 640, 640)\n",
      "\n",
      "0: 192x640 1 handwrite, 11.2ms\n",
      "Speed: 0.1ms preprocess, 11.2ms inference, 0.3ms postprocess per image at shape (1, 3, 640, 640)\n"
     ]
    },
    {
     "name": "stdout",
     "output_type": "stream",
     "text": [
      "in process: 613/1000\r"
     ]
    },
    {
     "name": "stderr",
     "output_type": "stream",
     "text": [
      "\n",
      "0: 640x480 1 content, 1 date, 1 number, 1 sender, 105.5ms\n",
      "Speed: 0.3ms preprocess, 105.5ms inference, 2.4ms postprocess per image at shape (1, 3, 640, 640)\n",
      "\n",
      "0: 224x640 1 handwrite, 12.4ms\n",
      "Speed: 0.2ms preprocess, 12.4ms inference, 0.3ms postprocess per image at shape (1, 3, 640, 640)\n",
      "\n",
      "0: 224x640 1 handwrite, 12.1ms\n",
      "Speed: 0.1ms preprocess, 12.1ms inference, 0.3ms postprocess per image at shape (1, 3, 640, 640)\n",
      "\n",
      "0: 640x480 (no detections), 103.7ms\n",
      "Speed: 0.3ms preprocess, 103.7ms inference, 0.2ms postprocess per image at shape (1, 3, 640, 640)\n",
      "\n",
      "0: 640x480 1 signer, 109.2ms\n",
      "Speed: 0.3ms preprocess, 109.2ms inference, 0.4ms postprocess per image at shape (1, 3, 640, 640)\n"
     ]
    },
    {
     "name": "stdout",
     "output_type": "stream",
     "text": [
      "in process: 614/1000\r"
     ]
    },
    {
     "name": "stderr",
     "output_type": "stream",
     "text": [
      "\n",
      "0: 640x480 1 content, 1 date, 1 number, 2 senders, 105.8ms\n",
      "Speed: 0.3ms preprocess, 105.8ms inference, 0.4ms postprocess per image at shape (1, 3, 640, 640)\n",
      "\n",
      "0: 160x640 1 handwrite, 10.9ms\n",
      "Speed: 0.2ms preprocess, 10.9ms inference, 0.3ms postprocess per image at shape (1, 3, 640, 640)\n",
      "\n",
      "0: 224x640 1 typewritten, 12.5ms\n",
      "Speed: 0.1ms preprocess, 12.5ms inference, 0.3ms postprocess per image at shape (1, 3, 640, 640)\n",
      "\n",
      "0: 640x480 1 signer, 105.5ms\n",
      "Speed: 0.3ms preprocess, 105.5ms inference, 0.3ms postprocess per image at shape (1, 3, 640, 640)\n"
     ]
    },
    {
     "name": "stdout",
     "output_type": "stream",
     "text": [
      "in process: 615/1000\r"
     ]
    },
    {
     "name": "stderr",
     "output_type": "stream",
     "text": [
      "\n",
      "0: 640x480 1 date, 1 number, 1 sender, 103.4ms\n",
      "Speed: 0.3ms preprocess, 103.4ms inference, 2.4ms postprocess per image at shape (1, 3, 640, 640)\n",
      "\n",
      "0: 160x640 1 handwrite, 14.8ms\n",
      "Speed: 0.2ms preprocess, 14.8ms inference, 0.6ms postprocess per image at shape (1, 3, 640, 640)\n",
      "\n",
      "0: 192x640 1 typewritten, 14.2ms\n",
      "Speed: 0.1ms preprocess, 14.2ms inference, 0.6ms postprocess per image at shape (1, 3, 640, 640)\n",
      "\n",
      "0: 640x480 1 signer, 105.3ms\n",
      "Speed: 0.3ms preprocess, 105.3ms inference, 0.3ms postprocess per image at shape (1, 3, 640, 640)\n"
     ]
    },
    {
     "name": "stdout",
     "output_type": "stream",
     "text": [
      "in process: 616/1000\r"
     ]
    },
    {
     "name": "stderr",
     "output_type": "stream",
     "text": [
      "\n",
      "0: 640x480 1 content, 1 date, 1 number, 1 sender, 104.8ms\n",
      "Speed: 0.3ms preprocess, 104.8ms inference, 2.0ms postprocess per image at shape (1, 3, 640, 640)\n",
      "\n",
      "0: 192x640 1 handwrite, 11.2ms\n",
      "Speed: 0.2ms preprocess, 11.2ms inference, 0.3ms postprocess per image at shape (1, 3, 640, 640)\n",
      "\n",
      "0: 128x640 1 handwrite, 8.7ms\n",
      "Speed: 0.1ms preprocess, 8.7ms inference, 0.3ms postprocess per image at shape (1, 3, 640, 640)\n",
      "\n",
      "0: 640x480 1 signer, 105.0ms\n",
      "Speed: 0.3ms preprocess, 105.0ms inference, 0.3ms postprocess per image at shape (1, 3, 640, 640)\n"
     ]
    },
    {
     "name": "stdout",
     "output_type": "stream",
     "text": [
      "in process: 617/1000\r"
     ]
    },
    {
     "name": "stderr",
     "output_type": "stream",
     "text": [
      "\n",
      "0: 480x640 1 date, 1 number, 1 sender, 105.7ms\n",
      "Speed: 0.3ms preprocess, 105.7ms inference, 1.4ms postprocess per image at shape (1, 3, 640, 640)\n",
      "\n",
      "0: 160x640 1 typewritten, 10.5ms\n",
      "Speed: 0.2ms preprocess, 10.5ms inference, 0.3ms postprocess per image at shape (1, 3, 640, 640)\n",
      "\n",
      "0: 128x640 1 typewritten, 23.5ms\n",
      "Speed: 0.2ms preprocess, 23.5ms inference, 0.7ms postprocess per image at shape (1, 3, 640, 640)\n",
      "\n",
      "0: 640x416 (no detections), 99.1ms\n",
      "Speed: 0.3ms preprocess, 99.1ms inference, 0.2ms postprocess per image at shape (1, 3, 640, 640)\n",
      "\n",
      "0: 640x480 (no detections), 104.6ms\n",
      "Speed: 0.3ms preprocess, 104.6ms inference, 0.2ms postprocess per image at shape (1, 3, 640, 640)\n"
     ]
    },
    {
     "name": "stdout",
     "output_type": "stream",
     "text": [
      "in process: 618/1000\r"
     ]
    },
    {
     "name": "stderr",
     "output_type": "stream",
     "text": [
      "\n",
      "0: 640x480 1 number, 1 sender, 1 signer, 103.2ms\n",
      "Speed: 0.3ms preprocess, 103.2ms inference, 2.5ms postprocess per image at shape (1, 3, 640, 640)\n",
      "\n",
      "0: 128x640 1 handwrite, 12.4ms\n",
      "Speed: 0.2ms preprocess, 12.4ms inference, 0.6ms postprocess per image at shape (1, 3, 640, 640)\n",
      "\n"
     ]
    },
    {
     "name": "stdout",
     "output_type": "stream",
     "text": [
      "in process: 619/1000\r"
     ]
    },
    {
     "name": "stderr",
     "output_type": "stream",
     "text": [
      "0: 640x480 1 date, 1 number, 1 sender, 1 signer, 110.7ms\n",
      "Speed: 0.3ms preprocess, 110.7ms inference, 0.7ms postprocess per image at shape (1, 3, 640, 640)\n",
      "\n",
      "0: 128x640 1 handwrite, 12.4ms\n",
      "Speed: 0.2ms preprocess, 12.4ms inference, 0.6ms postprocess per image at shape (1, 3, 640, 640)\n",
      "\n",
      "0: 256x640 1 handwrite, 17.1ms\n",
      "Speed: 0.1ms preprocess, 17.1ms inference, 0.6ms postprocess per image at shape (1, 3, 640, 640)\n"
     ]
    },
    {
     "name": "stdout",
     "output_type": "stream",
     "text": [
      "in process: 620/1000\r"
     ]
    },
    {
     "name": "stderr",
     "output_type": "stream",
     "text": [
      "\n",
      "0: 640x480 1 content, 1 date, 1 number, 1 sender, 1 signer, 104.8ms\n",
      "Speed: 0.3ms preprocess, 104.8ms inference, 0.4ms postprocess per image at shape (1, 3, 640, 640)\n",
      "\n",
      "0: 160x640 1 handwrite, 10.5ms\n",
      "Speed: 0.2ms preprocess, 10.5ms inference, 0.3ms postprocess per image at shape (1, 3, 640, 640)\n",
      "\n",
      "0: 160x640 1 handwrite, 10.5ms\n",
      "Speed: 0.2ms preprocess, 10.5ms inference, 0.3ms postprocess per image at shape (1, 3, 640, 640)\n",
      "\n"
     ]
    },
    {
     "name": "stdout",
     "output_type": "stream",
     "text": [
      "in process: 621/1000\r"
     ]
    },
    {
     "name": "stderr",
     "output_type": "stream",
     "text": [
      "0: 640x480 1 date, 1 number, 1 sender, 1 signer, 105.2ms\n",
      "Speed: 0.3ms preprocess, 105.2ms inference, 2.0ms postprocess per image at shape (1, 3, 640, 640)\n",
      "\n",
      "0: 192x640 2 handwrites, 11.4ms\n",
      "Speed: 0.2ms preprocess, 11.4ms inference, 0.3ms postprocess per image at shape (1, 3, 640, 640)\n",
      "\n",
      "0: 192x640 1 handwrite, 11.1ms\n",
      "Speed: 0.1ms preprocess, 11.1ms inference, 0.3ms postprocess per image at shape (1, 3, 640, 640)\n"
     ]
    },
    {
     "name": "stdout",
     "output_type": "stream",
     "text": [
      "in process: 622/1000\r"
     ]
    },
    {
     "name": "stderr",
     "output_type": "stream",
     "text": [
      "\n",
      "0: 640x480 1 content, 1 sender, 1 signer, 107.8ms\n",
      "Speed: 0.3ms preprocess, 107.8ms inference, 0.3ms postprocess per image at shape (1, 3, 640, 640)\n"
     ]
    },
    {
     "name": "stdout",
     "output_type": "stream",
     "text": [
      "in process: 623/1000\r"
     ]
    },
    {
     "name": "stderr",
     "output_type": "stream",
     "text": [
      "\n",
      "0: 640x480 2 contents, 1 date, 1 number, 1 sender, 1 signer, 105.5ms\n",
      "Speed: 0.3ms preprocess, 105.5ms inference, 1.7ms postprocess per image at shape (1, 3, 640, 640)\n",
      "\n",
      "0: 192x640 1 handwrite, 11.1ms\n",
      "Speed: 0.2ms preprocess, 11.1ms inference, 0.3ms postprocess per image at shape (1, 3, 640, 640)\n",
      "\n",
      "0: 128x640 1 handwrite, 8.7ms\n",
      "Speed: 0.1ms preprocess, 8.7ms inference, 0.3ms postprocess per image at shape (1, 3, 640, 640)\n",
      "\n"
     ]
    },
    {
     "name": "stdout",
     "output_type": "stream",
     "text": [
      "in process: 624/1000\r"
     ]
    },
    {
     "name": "stderr",
     "output_type": "stream",
     "text": [
      "0: 640x480 1 date, 1 number, 1 sender, 105.5ms\n",
      "Speed: 0.3ms preprocess, 105.5ms inference, 0.3ms postprocess per image at shape (1, 3, 640, 640)\n",
      "\n",
      "0: 192x640 1 typewritten, 11.2ms\n",
      "Speed: 0.1ms preprocess, 11.2ms inference, 0.3ms postprocess per image at shape (1, 3, 640, 640)\n",
      "\n",
      "0: 192x640 1 typewritten, 11.4ms\n",
      "Speed: 0.2ms preprocess, 11.4ms inference, 0.3ms postprocess per image at shape (1, 3, 640, 640)\n",
      "\n",
      "0: 640x480 1 signer, 102.9ms\n",
      "Speed: 0.3ms preprocess, 102.9ms inference, 0.3ms postprocess per image at shape (1, 3, 640, 640)\n"
     ]
    },
    {
     "name": "stdout",
     "output_type": "stream",
     "text": [
      "in process: 625/1000\r"
     ]
    },
    {
     "name": "stderr",
     "output_type": "stream",
     "text": [
      "\n",
      "0: 640x480 1 date, 1 number, 1 sender, 1 signer, 105.4ms\n",
      "Speed: 0.3ms preprocess, 105.4ms inference, 0.4ms postprocess per image at shape (1, 3, 640, 640)\n",
      "\n",
      "0: 160x640 1 handwrite, 10.6ms\n",
      "Speed: 0.2ms preprocess, 10.6ms inference, 0.3ms postprocess per image at shape (1, 3, 640, 640)\n",
      "\n",
      "0: 160x640 1 handwrite, 10.3ms\n",
      "Speed: 0.1ms preprocess, 10.3ms inference, 0.3ms postprocess per image at shape (1, 3, 640, 640)\n",
      "\n"
     ]
    },
    {
     "name": "stdout",
     "output_type": "stream",
     "text": [
      "in process: 626/1000\r"
     ]
    },
    {
     "name": "stderr",
     "output_type": "stream",
     "text": [
      "0: 640x480 1 date, 1 number, 1 sender, 105.5ms\n",
      "Speed: 0.3ms preprocess, 105.5ms inference, 0.4ms postprocess per image at shape (1, 3, 640, 640)\n",
      "\n",
      "0: 96x640 1 typewritten, 7.7ms\n",
      "Speed: 0.2ms preprocess, 7.7ms inference, 0.3ms postprocess per image at shape (1, 3, 640, 640)\n",
      "\n",
      "0: 192x640 2 typewrittens, 15.7ms\n",
      "Speed: 0.2ms preprocess, 15.7ms inference, 0.6ms postprocess per image at shape (1, 3, 640, 640)\n",
      "\n",
      "0: 640x480 1 signer, 102.3ms\n",
      "Speed: 0.3ms preprocess, 102.3ms inference, 0.3ms postprocess per image at shape (1, 3, 640, 640)\n",
      "\n"
     ]
    },
    {
     "name": "stdout",
     "output_type": "stream",
     "text": [
      "in process: 627/1000\r"
     ]
    },
    {
     "name": "stderr",
     "output_type": "stream",
     "text": [
      "0: 640x480 1 content, 1 date, 1 number, 1 sender, 2 signers, 103.2ms\n",
      "Speed: 0.3ms preprocess, 103.2ms inference, 2.0ms postprocess per image at shape (1, 3, 640, 640)\n",
      "\n",
      "0: 192x640 1 handwrite, 11.4ms\n",
      "Speed: 0.2ms preprocess, 11.4ms inference, 0.3ms postprocess per image at shape (1, 3, 640, 640)\n",
      "\n",
      "0: 128x640 1 handwrite, 9.7ms\n",
      "Speed: 0.2ms preprocess, 9.7ms inference, 0.3ms postprocess per image at shape (1, 3, 640, 640)\n"
     ]
    },
    {
     "name": "stdout",
     "output_type": "stream",
     "text": [
      "in process: 628/1000\r"
     ]
    },
    {
     "name": "stderr",
     "output_type": "stream",
     "text": [
      "\n",
      "0: 640x480 1 date, 1 number, 2 senders, 1 signer, 105.1ms\n",
      "Speed: 0.3ms preprocess, 105.1ms inference, 1.6ms postprocess per image at shape (1, 3, 640, 640)\n",
      "\n",
      "0: 192x640 1 handwrite, 11.6ms\n",
      "Speed: 0.2ms preprocess, 11.6ms inference, 0.3ms postprocess per image at shape (1, 3, 640, 640)\n",
      "\n",
      "0: 96x640 1 handwrite, 7.7ms\n",
      "Speed: 0.1ms preprocess, 7.7ms inference, 0.3ms postprocess per image at shape (1, 3, 640, 640)\n",
      "\n"
     ]
    },
    {
     "name": "stdout",
     "output_type": "stream",
     "text": [
      "in process: 629/1000\r"
     ]
    },
    {
     "name": "stderr",
     "output_type": "stream",
     "text": [
      "0: 640x480 1 date, 1 number, 2 senders, 105.0ms\n",
      "Speed: 0.3ms preprocess, 105.0ms inference, 0.4ms postprocess per image at shape (1, 3, 640, 640)\n",
      "\n",
      "0: 128x640 1 handwrite, 8.8ms\n",
      "Speed: 0.2ms preprocess, 8.8ms inference, 0.3ms postprocess per image at shape (1, 3, 640, 640)\n",
      "\n",
      "0: 224x640 1 handwrite, 12.4ms\n",
      "Speed: 0.1ms preprocess, 12.4ms inference, 0.3ms postprocess per image at shape (1, 3, 640, 640)\n",
      "\n",
      "0: 640x480 1 signer, 104.6ms\n",
      "Speed: 0.3ms preprocess, 104.6ms inference, 0.3ms postprocess per image at shape (1, 3, 640, 640)\n"
     ]
    },
    {
     "name": "stdout",
     "output_type": "stream",
     "text": [
      "in process: 630/1000\r"
     ]
    },
    {
     "name": "stderr",
     "output_type": "stream",
     "text": [
      "\n",
      "0: 640x480 1 content, 1 date, 1 number, 1 sender, 104.0ms\n",
      "Speed: 0.3ms preprocess, 104.0ms inference, 2.4ms postprocess per image at shape (1, 3, 640, 640)\n",
      "\n",
      "0: 192x640 1 handwrite, 11.3ms\n",
      "Speed: 0.2ms preprocess, 11.3ms inference, 0.3ms postprocess per image at shape (1, 3, 640, 640)\n",
      "\n",
      "0: 160x640 1 handwrite, 10.5ms\n",
      "Speed: 0.1ms preprocess, 10.5ms inference, 0.3ms postprocess per image at shape (1, 3, 640, 640)\n",
      "\n",
      "0: 640x480 1 sender, 1 signer, 102.9ms\n",
      "Speed: 0.3ms preprocess, 102.9ms inference, 0.3ms postprocess per image at shape (1, 3, 640, 640)\n"
     ]
    },
    {
     "name": "stdout",
     "output_type": "stream",
     "text": [
      "in process: 631/1000\r"
     ]
    },
    {
     "name": "stderr",
     "output_type": "stream",
     "text": [
      "\n",
      "0: 640x480 1 date, 1 number, 1 sender, 1 signer, 102.5ms\n",
      "Speed: 0.3ms preprocess, 102.5ms inference, 2.1ms postprocess per image at shape (1, 3, 640, 640)\n",
      "\n",
      "0: 160x640 1 typewritten, 10.4ms\n",
      "Speed: 0.2ms preprocess, 10.4ms inference, 0.3ms postprocess per image at shape (1, 3, 640, 640)\n",
      "\n",
      "0: 192x640 1 handwrite, 11.3ms\n",
      "Speed: 0.2ms preprocess, 11.3ms inference, 0.3ms postprocess per image at shape (1, 3, 640, 640)\n"
     ]
    },
    {
     "name": "stdout",
     "output_type": "stream",
     "text": [
      "in process: 632/1000\r"
     ]
    },
    {
     "name": "stderr",
     "output_type": "stream",
     "text": [
      "\n",
      "0: 640x480 1 date, 1 number, 2 senders, 1 signer, 102.8ms\n",
      "Speed: 0.3ms preprocess, 102.8ms inference, 0.4ms postprocess per image at shape (1, 3, 640, 640)\n",
      "\n",
      "0: 128x640 2 typewrittens, 8.8ms\n",
      "Speed: 11.0ms preprocess, 8.8ms inference, 0.3ms postprocess per image at shape (1, 3, 640, 640)\n",
      "\n",
      "0: 192x640 1 typewritten, 11.2ms\n",
      "Speed: 0.2ms preprocess, 11.2ms inference, 0.3ms postprocess per image at shape (1, 3, 640, 640)\n"
     ]
    },
    {
     "name": "stdout",
     "output_type": "stream",
     "text": [
      "in process: 633/1000\r"
     ]
    },
    {
     "name": "stderr",
     "output_type": "stream",
     "text": [
      "\n",
      "0: 640x480 (no detections), 103.8ms\n",
      "Speed: 0.3ms preprocess, 103.8ms inference, 0.2ms postprocess per image at shape (1, 3, 640, 640)\n",
      "\n",
      "0: 640x480 1 signer, 105.0ms\n",
      "Speed: 0.3ms preprocess, 105.0ms inference, 0.3ms postprocess per image at shape (1, 3, 640, 640)\n"
     ]
    },
    {
     "name": "stdout",
     "output_type": "stream",
     "text": [
      "in process: 634/1000\r"
     ]
    },
    {
     "name": "stderr",
     "output_type": "stream",
     "text": [
      "\n",
      "0: 640x480 1 content, 1 date, 1 number, 1 sender, 1 signer, 103.1ms\n",
      "Speed: 0.3ms preprocess, 103.1ms inference, 2.2ms postprocess per image at shape (1, 3, 640, 640)\n",
      "\n",
      "0: 224x640 1 handwrite, 12.4ms\n",
      "Speed: 0.2ms preprocess, 12.4ms inference, 0.3ms postprocess per image at shape (1, 3, 640, 640)\n",
      "\n",
      "0: 192x640 1 handwrite, 1 typewritten, 11.3ms\n",
      "Speed: 0.2ms preprocess, 11.3ms inference, 0.3ms postprocess per image at shape (1, 3, 640, 640)\n"
     ]
    },
    {
     "name": "stdout",
     "output_type": "stream",
     "text": [
      "in process: 635/1000\r"
     ]
    },
    {
     "name": "stderr",
     "output_type": "stream",
     "text": [
      "\n",
      "0: 640x480 1 date, 1 number, 1 sender, 102.5ms\n",
      "Speed: 0.3ms preprocess, 102.5ms inference, 0.3ms postprocess per image at shape (1, 3, 640, 640)\n",
      "\n",
      "0: 128x640 1 handwrite, 8.8ms\n",
      "Speed: 0.2ms preprocess, 8.8ms inference, 0.3ms postprocess per image at shape (1, 3, 640, 640)\n",
      "\n",
      "0: 192x640 1 handwrite, 1 typewritten, 11.3ms\n",
      "Speed: 0.1ms preprocess, 11.3ms inference, 0.3ms postprocess per image at shape (1, 3, 640, 640)\n",
      "\n",
      "0: 640x480 1 signer, 104.9ms\n",
      "Speed: 0.3ms preprocess, 104.9ms inference, 0.3ms postprocess per image at shape (1, 3, 640, 640)\n"
     ]
    },
    {
     "name": "stdout",
     "output_type": "stream",
     "text": [
      "in process: 636/1000\r"
     ]
    },
    {
     "name": "stderr",
     "output_type": "stream",
     "text": [
      "\n",
      "0: 640x480 1 date, 1 number, 1 sender, 1 signer, 102.8ms\n",
      "Speed: 0.3ms preprocess, 102.8ms inference, 1.7ms postprocess per image at shape (1, 3, 640, 640)\n",
      "\n",
      "0: 192x640 1 handwrite, 13.6ms\n",
      "Speed: 0.2ms preprocess, 13.6ms inference, 0.3ms postprocess per image at shape (1, 3, 640, 640)\n",
      "\n",
      "0: 128x640 1 handwrite, 9.5ms\n",
      "Speed: 0.1ms preprocess, 9.5ms inference, 0.3ms postprocess per image at shape (1, 3, 640, 640)\n"
     ]
    },
    {
     "name": "stdout",
     "output_type": "stream",
     "text": [
      "in process: 637/1000\r"
     ]
    },
    {
     "name": "stderr",
     "output_type": "stream",
     "text": [
      "\n",
      "0: 640x480 1 content, 1 date, 1 number, 1 sender, 105.1ms\n",
      "Speed: 0.3ms preprocess, 105.1ms inference, 0.4ms postprocess per image at shape (1, 3, 640, 640)\n",
      "\n",
      "0: 160x640 1 handwrite, 10.6ms\n",
      "Speed: 0.1ms preprocess, 10.6ms inference, 0.3ms postprocess per image at shape (1, 3, 640, 640)\n",
      "\n",
      "0: 128x640 1 handwrite, 8.6ms\n",
      "Speed: 0.1ms preprocess, 8.6ms inference, 0.3ms postprocess per image at shape (1, 3, 640, 640)\n",
      "\n",
      "0: 640x480 (no detections), 106.2ms\n",
      "Speed: 0.3ms preprocess, 106.2ms inference, 0.2ms postprocess per image at shape (1, 3, 640, 640)\n",
      "\n",
      "0: 640x480 1 signer, 105.0ms\n",
      "Speed: 0.3ms preprocess, 105.0ms inference, 0.3ms postprocess per image at shape (1, 3, 640, 640)\n",
      "\n"
     ]
    },
    {
     "name": "stdout",
     "output_type": "stream",
     "text": [
      "in process: 638/1000\r"
     ]
    },
    {
     "name": "stderr",
     "output_type": "stream",
     "text": [
      "0: 640x480 1 date, 1 number, 1 sender, 1 signer, 106.1ms\n",
      "Speed: 0.3ms preprocess, 106.1ms inference, 2.0ms postprocess per image at shape (1, 3, 640, 640)\n",
      "\n",
      "0: 160x640 1 handwrite, 1 typewritten, 10.7ms\n",
      "Speed: 0.2ms preprocess, 10.7ms inference, 0.3ms postprocess per image at shape (1, 3, 640, 640)\n",
      "\n",
      "0: 224x640 2 typewrittens, 12.5ms\n",
      "Speed: 0.2ms preprocess, 12.5ms inference, 0.3ms postprocess per image at shape (1, 3, 640, 640)\n"
     ]
    },
    {
     "name": "stdout",
     "output_type": "stream",
     "text": [
      "in process: 639/1000\r"
     ]
    },
    {
     "name": "stderr",
     "output_type": "stream",
     "text": [
      "\n",
      "0: 640x480 (no detections), 107.7ms\n",
      "Speed: 0.3ms preprocess, 107.7ms inference, 0.2ms postprocess per image at shape (1, 3, 640, 640)\n",
      "\n",
      "0: 640x480 (no detections), 105.1ms\n",
      "Speed: 0.3ms preprocess, 105.1ms inference, 0.2ms postprocess per image at shape (1, 3, 640, 640)\n",
      "\n",
      "0: 640x480 (no detections), 102.2ms\n",
      "Speed: 0.3ms preprocess, 102.2ms inference, 0.2ms postprocess per image at shape (1, 3, 640, 640)\n"
     ]
    },
    {
     "name": "stdout",
     "output_type": "stream",
     "text": [
      "in process: 640/1000\r"
     ]
    },
    {
     "name": "stderr",
     "output_type": "stream",
     "text": [
      "\n",
      "0: 640x480 1 content, 1 date, 1 number, 1 sender, 103.0ms\n",
      "Speed: 0.3ms preprocess, 103.0ms inference, 0.4ms postprocess per image at shape (1, 3, 640, 640)\n",
      "\n",
      "0: 192x640 1 handwrite, 11.6ms\n",
      "Speed: 0.2ms preprocess, 11.6ms inference, 0.3ms postprocess per image at shape (1, 3, 640, 640)\n",
      "\n",
      "0: 128x640 1 handwrite, 8.7ms\n",
      "Speed: 0.1ms preprocess, 8.7ms inference, 0.4ms postprocess per image at shape (1, 3, 640, 640)\n",
      "\n",
      "0: 640x480 (no detections), 105.3ms\n",
      "Speed: 0.3ms preprocess, 105.3ms inference, 0.2ms postprocess per image at shape (1, 3, 640, 640)\n",
      "\n",
      "0: 640x480 (no detections), 102.5ms\n",
      "Speed: 0.3ms preprocess, 102.5ms inference, 0.2ms postprocess per image at shape (1, 3, 640, 640)\n",
      "\n",
      "0: 640x480 1 signer, 103.2ms\n",
      "Speed: 0.3ms preprocess, 103.2ms inference, 0.3ms postprocess per image at shape (1, 3, 640, 640)\n",
      "\n"
     ]
    },
    {
     "name": "stdout",
     "output_type": "stream",
     "text": [
      "in process: 641/1000\r"
     ]
    },
    {
     "name": "stderr",
     "output_type": "stream",
     "text": [
      "0: 640x480 1 date, 1 number, 1 sender, 103.3ms\n",
      "Speed: 0.3ms preprocess, 103.3ms inference, 1.6ms postprocess per image at shape (1, 3, 640, 640)\n",
      "\n",
      "0: 160x640 1 handwrite, 10.5ms\n",
      "Speed: 0.2ms preprocess, 10.5ms inference, 0.3ms postprocess per image at shape (1, 3, 640, 640)\n",
      "\n",
      "0: 192x640 1 handwrite, 11.3ms\n",
      "Speed: 0.1ms preprocess, 11.3ms inference, 0.3ms postprocess per image at shape (1, 3, 640, 640)\n",
      "\n",
      "0: 640x480 1 signer, 104.3ms\n",
      "Speed: 0.3ms preprocess, 104.3ms inference, 0.3ms postprocess per image at shape (1, 3, 640, 640)\n"
     ]
    },
    {
     "name": "stdout",
     "output_type": "stream",
     "text": [
      "in process: 642/1000\r"
     ]
    },
    {
     "name": "stderr",
     "output_type": "stream",
     "text": [
      "\n",
      "0: 640x480 1 date, 1 sender, 102.6ms\n",
      "Speed: 0.3ms preprocess, 102.6ms inference, 1.5ms postprocess per image at shape (1, 3, 640, 640)\n",
      "\n",
      "0: 192x640 1 typewritten, 11.2ms\n",
      "Speed: 0.2ms preprocess, 11.2ms inference, 0.3ms postprocess per image at shape (1, 3, 640, 640)\n",
      "\n",
      "0: 640x480 (no detections), 103.3ms\n",
      "Speed: 0.3ms preprocess, 103.3ms inference, 0.2ms postprocess per image at shape (1, 3, 640, 640)\n",
      "\n",
      "0: 640x480 (no detections), 105.4ms\n",
      "Speed: 0.3ms preprocess, 105.4ms inference, 0.2ms postprocess per image at shape (1, 3, 640, 640)\n",
      "\n",
      "0: 640x480 (no detections), 102.9ms\n",
      "Speed: 0.3ms preprocess, 102.9ms inference, 0.2ms postprocess per image at shape (1, 3, 640, 640)\n"
     ]
    },
    {
     "name": "stdout",
     "output_type": "stream",
     "text": [
      "in process: 643/1000\r"
     ]
    },
    {
     "name": "stderr",
     "output_type": "stream",
     "text": [
      "\n",
      "0: 640x480 1 sender, 1 signer, 103.0ms\n",
      "Speed: 0.3ms preprocess, 103.0ms inference, 1.4ms postprocess per image at shape (1, 3, 640, 640)\n"
     ]
    },
    {
     "name": "stdout",
     "output_type": "stream",
     "text": [
      "in process: 644/1000\r"
     ]
    },
    {
     "name": "stderr",
     "output_type": "stream",
     "text": [
      "\n",
      "0: 640x480 (no detections), 105.1ms\n",
      "Speed: 0.3ms preprocess, 105.1ms inference, 0.2ms postprocess per image at shape (1, 3, 640, 640)\n",
      "\n",
      "0: 640x480 2 senders, 105.1ms\n",
      "Speed: 0.3ms preprocess, 105.1ms inference, 0.3ms postprocess per image at shape (1, 3, 640, 640)\n",
      "\n",
      "0: 640x480 (no detections), 103.8ms\n",
      "Speed: 0.3ms preprocess, 103.8ms inference, 0.2ms postprocess per image at shape (1, 3, 640, 640)\n",
      "\n",
      "0: 640x480 (no detections), 102.8ms\n",
      "Speed: 0.3ms preprocess, 102.8ms inference, 0.2ms postprocess per image at shape (1, 3, 640, 640)\n"
     ]
    },
    {
     "name": "stdout",
     "output_type": "stream",
     "text": [
      "in process: 645/1000\r"
     ]
    },
    {
     "name": "stderr",
     "output_type": "stream",
     "text": [
      "\n",
      "0: 640x480 1 date, 1 number, 1 sender, 1 signer, 103.0ms\n",
      "Speed: 0.3ms preprocess, 103.0ms inference, 3.0ms postprocess per image at shape (1, 3, 640, 640)\n",
      "\n",
      "0: 160x640 1 typewritten, 10.7ms\n",
      "Speed: 0.2ms preprocess, 10.7ms inference, 0.3ms postprocess per image at shape (1, 3, 640, 640)\n",
      "\n",
      "0: 160x640 1 typewritten, 10.5ms\n",
      "Speed: 0.2ms preprocess, 10.5ms inference, 0.3ms postprocess per image at shape (1, 3, 640, 640)\n"
     ]
    },
    {
     "name": "stdout",
     "output_type": "stream",
     "text": [
      "in process: 646/1000\r"
     ]
    },
    {
     "name": "stderr",
     "output_type": "stream",
     "text": [
      "\n",
      "0: 640x480 1 date, 109.2ms\n",
      "Speed: 0.3ms preprocess, 109.2ms inference, 0.3ms postprocess per image at shape (1, 3, 640, 640)\n",
      "\n",
      "0: 256x640 1 handwrite, 2 typewrittens, 13.2ms\n",
      "Speed: 0.1ms preprocess, 13.2ms inference, 0.3ms postprocess per image at shape (1, 3, 640, 640)\n"
     ]
    },
    {
     "name": "stdout",
     "output_type": "stream",
     "text": [
      "in process: 647/1000\r"
     ]
    },
    {
     "name": "stderr",
     "output_type": "stream",
     "text": [
      "\n",
      "0: 640x480 1 signer, 105.1ms\n",
      "Speed: 0.3ms preprocess, 105.1ms inference, 1.5ms postprocess per image at shape (1, 3, 640, 640)\n"
     ]
    },
    {
     "name": "stdout",
     "output_type": "stream",
     "text": [
      "in process: 648/1000\r"
     ]
    },
    {
     "name": "stderr",
     "output_type": "stream",
     "text": [
      "\n",
      "0: 640x480 1 content, 103.1ms\n",
      "Speed: 0.3ms preprocess, 103.1ms inference, 0.3ms postprocess per image at shape (1, 3, 640, 640)\n",
      "\n",
      "0: 640x480 1 sender, 111.8ms\n",
      "Speed: 0.3ms preprocess, 111.8ms inference, 0.3ms postprocess per image at shape (1, 3, 640, 640)\n",
      "\n",
      "0: 640x480 2 signers, 102.5ms\n",
      "Speed: 0.3ms preprocess, 102.5ms inference, 0.3ms postprocess per image at shape (1, 3, 640, 640)\n",
      "\n"
     ]
    },
    {
     "name": "stdout",
     "output_type": "stream",
     "text": [
      "in process: 649/1000\r"
     ]
    },
    {
     "name": "stderr",
     "output_type": "stream",
     "text": [
      "0: 640x480 1 date, 1 number, 1 sender, 1 signer, 102.9ms\n",
      "Speed: 0.3ms preprocess, 102.9ms inference, 2.7ms postprocess per image at shape (1, 3, 640, 640)\n",
      "\n",
      "0: 160x640 1 handwrite, 10.6ms\n",
      "Speed: 0.2ms preprocess, 10.6ms inference, 0.6ms postprocess per image at shape (1, 3, 640, 640)\n",
      "\n",
      "0: 160x640 1 handwrite, 10.2ms\n",
      "Speed: 0.1ms preprocess, 10.2ms inference, 0.3ms postprocess per image at shape (1, 3, 640, 640)\n",
      "\n"
     ]
    },
    {
     "name": "stdout",
     "output_type": "stream",
     "text": [
      "in process: 650/1000\r"
     ]
    },
    {
     "name": "stderr",
     "output_type": "stream",
     "text": [
      "0: 640x480 1 date, 1 number, 4 senders, 1 signer, 102.7ms\n",
      "Speed: 0.3ms preprocess, 102.7ms inference, 0.4ms postprocess per image at shape (1, 3, 640, 640)\n",
      "\n",
      "0: 160x640 1 handwrite, 10.5ms\n",
      "Speed: 0.2ms preprocess, 10.5ms inference, 0.3ms postprocess per image at shape (1, 3, 640, 640)\n",
      "\n",
      "0: 160x640 1 handwrite, 10.5ms\n",
      "Speed: 0.2ms preprocess, 10.5ms inference, 0.3ms postprocess per image at shape (1, 3, 640, 640)\n",
      "\n"
     ]
    },
    {
     "name": "stdout",
     "output_type": "stream",
     "text": [
      "in process: 651/1000\r"
     ]
    },
    {
     "name": "stderr",
     "output_type": "stream",
     "text": [
      "0: 640x480 1 date, 1 number, 1 sender, 1 signer, 102.1ms\n",
      "Speed: 0.3ms preprocess, 102.1ms inference, 1.9ms postprocess per image at shape (1, 3, 640, 640)\n",
      "\n",
      "0: 160x640 1 handwrite, 10.5ms\n",
      "Speed: 0.2ms preprocess, 10.5ms inference, 0.3ms postprocess per image at shape (1, 3, 640, 640)\n",
      "\n",
      "0: 160x640 1 handwrite, 10.2ms\n",
      "Speed: 0.1ms preprocess, 10.2ms inference, 0.3ms postprocess per image at shape (1, 3, 640, 640)\n"
     ]
    },
    {
     "name": "stdout",
     "output_type": "stream",
     "text": [
      "in process: 652/1000\r"
     ]
    },
    {
     "name": "stderr",
     "output_type": "stream",
     "text": [
      "\n",
      "0: 640x480 1 content, 1 date, 1 number, 1 sender, 105.0ms\n",
      "Speed: 0.3ms preprocess, 105.0ms inference, 0.4ms postprocess per image at shape (1, 3, 640, 640)\n",
      "\n",
      "0: 192x640 1 handwrite, 11.3ms\n",
      "Speed: 0.2ms preprocess, 11.3ms inference, 0.3ms postprocess per image at shape (1, 3, 640, 640)\n",
      "\n",
      "0: 128x640 1 handwrite, 8.7ms\n",
      "Speed: 0.1ms preprocess, 8.7ms inference, 0.3ms postprocess per image at shape (1, 3, 640, 640)\n",
      "\n",
      "0: 640x480 (no detections), 104.4ms\n",
      "Speed: 0.3ms preprocess, 104.4ms inference, 0.2ms postprocess per image at shape (1, 3, 640, 640)\n",
      "\n",
      "0: 640x480 (no detections), 106.3ms\n",
      "Speed: 0.3ms preprocess, 106.3ms inference, 0.2ms postprocess per image at shape (1, 3, 640, 640)\n",
      "\n",
      "0: 640x480 1 signer, 104.8ms\n",
      "Speed: 0.3ms preprocess, 104.8ms inference, 0.3ms postprocess per image at shape (1, 3, 640, 640)\n",
      "\n"
     ]
    },
    {
     "name": "stdout",
     "output_type": "stream",
     "text": [
      "in process: 653/1000\r"
     ]
    },
    {
     "name": "stderr",
     "output_type": "stream",
     "text": [
      "0: 640x480 1 date, 1 number, 1 sender, 1 signer, 103.5ms\n",
      "Speed: 0.3ms preprocess, 103.5ms inference, 0.4ms postprocess per image at shape (1, 3, 640, 640)\n",
      "\n",
      "0: 128x640 1 handwrite, 8.7ms\n",
      "Speed: 0.1ms preprocess, 8.7ms inference, 0.3ms postprocess per image at shape (1, 3, 640, 640)\n",
      "\n",
      "0: 128x640 1 handwrite, 8.8ms\n",
      "Speed: 0.2ms preprocess, 8.8ms inference, 0.3ms postprocess per image at shape (1, 3, 640, 640)\n",
      "\n"
     ]
    },
    {
     "name": "stdout",
     "output_type": "stream",
     "text": [
      "in process: 654/1000\r"
     ]
    },
    {
     "name": "stderr",
     "output_type": "stream",
     "text": [
      "0: 640x480 1 number, 1 sender, 1 signer, 105.7ms\n",
      "Speed: 0.3ms preprocess, 105.7ms inference, 1.4ms postprocess per image at shape (1, 3, 640, 640)\n",
      "\n",
      "0: 160x640 1 handwrite, 10.6ms\n",
      "Speed: 0.2ms preprocess, 10.6ms inference, 0.3ms postprocess per image at shape (1, 3, 640, 640)\n"
     ]
    },
    {
     "name": "stdout",
     "output_type": "stream",
     "text": [
      "in process: 655/1000\r"
     ]
    },
    {
     "name": "stderr",
     "output_type": "stream",
     "text": [
      "\n",
      "0: 640x480 1 signer, 105.7ms\n",
      "Speed: 0.3ms preprocess, 105.7ms inference, 0.3ms postprocess per image at shape (1, 3, 640, 640)\n",
      "\n"
     ]
    },
    {
     "name": "stdout",
     "output_type": "stream",
     "text": [
      "in process: 656/1000\r"
     ]
    },
    {
     "name": "stderr",
     "output_type": "stream",
     "text": [
      "0: 640x480 1 date, 1 sender, 1 signer, 105.8ms\n",
      "Speed: 0.3ms preprocess, 105.8ms inference, 2.1ms postprocess per image at shape (1, 3, 640, 640)\n",
      "\n",
      "0: 160x640 1 typewritten, 10.6ms\n",
      "Speed: 0.2ms preprocess, 10.6ms inference, 0.3ms postprocess per image at shape (1, 3, 640, 640)\n"
     ]
    },
    {
     "name": "stdout",
     "output_type": "stream",
     "text": [
      "in process: 657/1000\r"
     ]
    },
    {
     "name": "stderr",
     "output_type": "stream",
     "text": [
      "\n",
      "0: 640x480 1 signer, 104.8ms\n",
      "Speed: 0.3ms preprocess, 104.8ms inference, 0.3ms postprocess per image at shape (1, 3, 640, 640)\n",
      "\n"
     ]
    },
    {
     "name": "stdout",
     "output_type": "stream",
     "text": [
      "in process: 658/1000\r"
     ]
    },
    {
     "name": "stderr",
     "output_type": "stream",
     "text": [
      "0: 640x480 1 number, 1 sender, 1 signer, 104.7ms\n",
      "Speed: 0.3ms preprocess, 104.7ms inference, 1.5ms postprocess per image at shape (1, 3, 640, 640)\n",
      "\n",
      "0: 160x640 1 handwrite, 10.4ms\n",
      "Speed: 0.1ms preprocess, 10.4ms inference, 0.3ms postprocess per image at shape (1, 3, 640, 640)\n",
      "\n"
     ]
    },
    {
     "name": "stdout",
     "output_type": "stream",
     "text": [
      "in process: 659/1000\r"
     ]
    },
    {
     "name": "stderr",
     "output_type": "stream",
     "text": [
      "0: 640x480 1 content, 1 date, 1 number, 1 sender, 1 signer, 105.0ms\n",
      "Speed: 0.3ms preprocess, 105.0ms inference, 0.4ms postprocess per image at shape (1, 3, 640, 640)\n",
      "\n",
      "0: 192x640 1 typewritten, 11.3ms\n",
      "Speed: 0.2ms preprocess, 11.3ms inference, 0.3ms postprocess per image at shape (1, 3, 640, 640)\n",
      "\n",
      "0: 160x640 1 handwrite, 10.6ms\n",
      "Speed: 0.2ms preprocess, 10.6ms inference, 0.3ms postprocess per image at shape (1, 3, 640, 640)\n"
     ]
    },
    {
     "name": "stdout",
     "output_type": "stream",
     "text": [
      "in process: 660/1000\r"
     ]
    },
    {
     "name": "stderr",
     "output_type": "stream",
     "text": [
      "\n",
      "0: 640x480 1 content, 1 date, 1 number, 1 sender, 1 signer, 102.6ms\n",
      "Speed: 0.3ms preprocess, 102.6ms inference, 0.4ms postprocess per image at shape (1, 3, 640, 640)\n",
      "\n",
      "0: 128x640 1 handwrite, 10.6ms\n",
      "Speed: 0.2ms preprocess, 10.6ms inference, 0.3ms postprocess per image at shape (1, 3, 640, 640)\n",
      "\n",
      "0: 192x640 1 handwrite, 11.3ms\n",
      "Speed: 0.1ms preprocess, 11.3ms inference, 0.3ms postprocess per image at shape (1, 3, 640, 640)\n"
     ]
    },
    {
     "name": "stdout",
     "output_type": "stream",
     "text": [
      "in process: 661/1000\r"
     ]
    },
    {
     "name": "stderr",
     "output_type": "stream",
     "text": [
      "\n",
      "0: 640x480 (no detections), 104.7ms\n",
      "Speed: 0.3ms preprocess, 104.7ms inference, 0.2ms postprocess per image at shape (1, 3, 640, 640)\n",
      "\n",
      "0: 640x480 (no detections), 108.5ms\n",
      "Speed: 0.3ms preprocess, 108.5ms inference, 0.3ms postprocess per image at shape (1, 3, 640, 640)\n",
      "\n",
      "0: 640x480 (no detections), 105.6ms\n",
      "Speed: 0.3ms preprocess, 105.6ms inference, 0.2ms postprocess per image at shape (1, 3, 640, 640)\n"
     ]
    },
    {
     "name": "stdout",
     "output_type": "stream",
     "text": [
      "in process: 662/1000\r"
     ]
    },
    {
     "name": "stderr",
     "output_type": "stream",
     "text": [
      "\n",
      "0: 640x480 (no detections), 103.7ms\n",
      "Speed: 0.3ms preprocess, 103.7ms inference, 1.2ms postprocess per image at shape (1, 3, 640, 640)\n",
      "\n",
      "0: 640x480 (no detections), 105.7ms\n",
      "Speed: 0.3ms preprocess, 105.7ms inference, 0.2ms postprocess per image at shape (1, 3, 640, 640)\n",
      "\n",
      "0: 640x480 1 signer, 105.3ms\n",
      "Speed: 0.3ms preprocess, 105.3ms inference, 0.3ms postprocess per image at shape (1, 3, 640, 640)\n",
      "\n"
     ]
    },
    {
     "name": "stdout",
     "output_type": "stream",
     "text": [
      "in process: 663/1000\r"
     ]
    },
    {
     "name": "stderr",
     "output_type": "stream",
     "text": [
      "0: 640x480 1 sender, 104.8ms\n",
      "Speed: 0.3ms preprocess, 104.8ms inference, 2.7ms postprocess per image at shape (1, 3, 640, 640)\n"
     ]
    },
    {
     "name": "stdout",
     "output_type": "stream",
     "text": [
      "in process: 664/1000\r"
     ]
    },
    {
     "name": "stderr",
     "output_type": "stream",
     "text": [
      "\n",
      "0: 640x480 (no detections), 112.7ms\n",
      "Speed: 0.3ms preprocess, 112.7ms inference, 0.3ms postprocess per image at shape (1, 3, 640, 640)\n",
      "\n",
      "0: 640x480 1 signer, 103.1ms\n",
      "Speed: 0.3ms preprocess, 103.1ms inference, 0.3ms postprocess per image at shape (1, 3, 640, 640)\n",
      "\n"
     ]
    },
    {
     "name": "stdout",
     "output_type": "stream",
     "text": [
      "in process: 665/1000\r"
     ]
    },
    {
     "name": "stderr",
     "output_type": "stream",
     "text": [
      "0: 640x480 1 date, 1 number, 1 sender, 1 signer, 105.8ms\n",
      "Speed: 0.3ms preprocess, 105.8ms inference, 0.3ms postprocess per image at shape (1, 3, 640, 640)\n",
      "\n",
      "0: 160x640 1 handwrite, 10.7ms\n",
      "Speed: 0.2ms preprocess, 10.7ms inference, 0.3ms postprocess per image at shape (1, 3, 640, 640)\n",
      "\n",
      "0: 160x640 1 handwrite, 12.1ms\n",
      "Speed: 0.2ms preprocess, 12.1ms inference, 0.3ms postprocess per image at shape (1, 3, 640, 640)\n"
     ]
    },
    {
     "name": "stdout",
     "output_type": "stream",
     "text": [
      "in process: 666/1000\r"
     ]
    },
    {
     "name": "stderr",
     "output_type": "stream",
     "text": [
      "\n",
      "0: 640x480 (no detections), 105.4ms\n",
      "Speed: 0.3ms preprocess, 105.4ms inference, 0.2ms postprocess per image at shape (1, 3, 640, 640)\n",
      "\n",
      "0: 640x480 (no detections), 105.2ms\n",
      "Speed: 0.3ms preprocess, 105.2ms inference, 0.2ms postprocess per image at shape (1, 3, 640, 640)\n",
      "\n",
      "0: 640x480 (no detections), 104.7ms\n",
      "Speed: 0.3ms preprocess, 104.7ms inference, 0.2ms postprocess per image at shape (1, 3, 640, 640)\n",
      "\n",
      "0: 640x480 (no detections), 102.9ms\n",
      "Speed: 0.3ms preprocess, 102.9ms inference, 0.2ms postprocess per image at shape (1, 3, 640, 640)\n",
      "\n"
     ]
    },
    {
     "name": "stdout",
     "output_type": "stream",
     "text": [
      "in process: 667/1000\r"
     ]
    },
    {
     "name": "stderr",
     "output_type": "stream",
     "text": [
      "0: 640x480 1 content, 1 date, 1 number, 1 sender, 103.4ms\n",
      "Speed: 0.3ms preprocess, 103.4ms inference, 3.2ms postprocess per image at shape (1, 3, 640, 640)\n",
      "\n",
      "0: 160x640 1 handwrite, 10.5ms\n",
      "Speed: 0.2ms preprocess, 10.5ms inference, 0.3ms postprocess per image at shape (1, 3, 640, 640)\n",
      "\n",
      "0: 160x640 1 handwrite, 10.2ms\n",
      "Speed: 0.1ms preprocess, 10.2ms inference, 0.3ms postprocess per image at shape (1, 3, 640, 640)\n"
     ]
    },
    {
     "name": "stdout",
     "output_type": "stream",
     "text": [
      "in process: 668/1000\r"
     ]
    },
    {
     "name": "stderr",
     "output_type": "stream",
     "text": [
      "\n",
      "0: 640x480 1 date, 1 number, 2 senders, 105.5ms\n",
      "Speed: 0.3ms preprocess, 105.5ms inference, 0.4ms postprocess per image at shape (1, 3, 640, 640)\n",
      "\n",
      "0: 160x640 1 handwrite, 14.6ms\n",
      "Speed: 0.2ms preprocess, 14.6ms inference, 0.6ms postprocess per image at shape (1, 3, 640, 640)\n",
      "\n",
      "0: 224x640 1 handwrite, 16.2ms\n",
      "Speed: 0.1ms preprocess, 16.2ms inference, 0.6ms postprocess per image at shape (1, 3, 640, 640)\n",
      "\n",
      "0: 640x480 (no detections), 105.1ms\n",
      "Speed: 0.3ms preprocess, 105.1ms inference, 0.2ms postprocess per image at shape (1, 3, 640, 640)\n",
      "\n",
      "0: 640x480 1 signer, 105.7ms\n",
      "Speed: 0.3ms preprocess, 105.7ms inference, 0.3ms postprocess per image at shape (1, 3, 640, 640)\n"
     ]
    },
    {
     "name": "stdout",
     "output_type": "stream",
     "text": [
      "in process: 669/1000\r"
     ]
    },
    {
     "name": "stderr",
     "output_type": "stream",
     "text": [
      "\n",
      "0: 640x480 1 signer, 103.0ms\n",
      "Speed: 0.3ms preprocess, 103.0ms inference, 2.5ms postprocess per image at shape (1, 3, 640, 640)\n",
      "\n"
     ]
    },
    {
     "name": "stdout",
     "output_type": "stream",
     "text": [
      "in process: 670/1000\r"
     ]
    },
    {
     "name": "stderr",
     "output_type": "stream",
     "text": [
      "0: 640x480 1 content, 1 date, 1 number, 1 sender, 1 signer, 102.9ms\n",
      "Speed: 0.3ms preprocess, 102.9ms inference, 0.4ms postprocess per image at shape (1, 3, 640, 640)\n",
      "\n",
      "0: 128x640 1 handwrite, 8.8ms\n",
      "Speed: 0.2ms preprocess, 8.8ms inference, 0.3ms postprocess per image at shape (1, 3, 640, 640)\n",
      "\n",
      "0: 192x640 1 handwrite, 11.2ms\n",
      "Speed: 0.1ms preprocess, 11.2ms inference, 0.3ms postprocess per image at shape (1, 3, 640, 640)\n"
     ]
    },
    {
     "name": "stdout",
     "output_type": "stream",
     "text": [
      "in process: 671/1000\r"
     ]
    },
    {
     "name": "stderr",
     "output_type": "stream",
     "text": [
      "\n",
      "0: 640x512 1 date, 1 number, 2 senders, 111.8ms\n",
      "Speed: 0.3ms preprocess, 111.8ms inference, 0.3ms postprocess per image at shape (1, 3, 640, 640)\n",
      "\n",
      "0: 160x640 1 handwrite, 10.8ms\n",
      "Speed: 0.2ms preprocess, 10.8ms inference, 0.3ms postprocess per image at shape (1, 3, 640, 640)\n",
      "\n",
      "0: 160x640 1 handwrite, 10.2ms\n",
      "Speed: 0.1ms preprocess, 10.2ms inference, 0.3ms postprocess per image at shape (1, 3, 640, 640)\n",
      "\n",
      "0: 640x512 1 signer, 114.1ms\n",
      "Speed: 0.3ms preprocess, 114.1ms inference, 0.3ms postprocess per image at shape (1, 3, 640, 640)\n",
      "\n"
     ]
    },
    {
     "name": "stdout",
     "output_type": "stream",
     "text": [
      "in process: 672/1000\r"
     ]
    },
    {
     "name": "stderr",
     "output_type": "stream",
     "text": [
      "0: 640x480 1 date, 1 number, 1 sender, 1 signer, 105.6ms\n",
      "Speed: 0.3ms preprocess, 105.6ms inference, 1.4ms postprocess per image at shape (1, 3, 640, 640)\n",
      "\n",
      "0: 256x640 1 handwrite, 13.1ms\n",
      "Speed: 0.2ms preprocess, 13.1ms inference, 0.3ms postprocess per image at shape (1, 3, 640, 640)\n",
      "\n",
      "0: 192x640 1 handwrite, 12.2ms\n",
      "Speed: 0.1ms preprocess, 12.2ms inference, 0.4ms postprocess per image at shape (1, 3, 640, 640)\n"
     ]
    },
    {
     "name": "stdout",
     "output_type": "stream",
     "text": [
      "in process: 673/1000\r"
     ]
    },
    {
     "name": "stderr",
     "output_type": "stream",
     "text": [
      "\n",
      "0: 640x480 1 date, 1 number, 1 sender, 1 signer, 105.2ms\n",
      "Speed: 0.3ms preprocess, 105.2ms inference, 0.4ms postprocess per image at shape (1, 3, 640, 640)\n",
      "\n",
      "0: 192x640 1 handwrite, 11.1ms\n",
      "Speed: 0.2ms preprocess, 11.1ms inference, 0.3ms postprocess per image at shape (1, 3, 640, 640)\n",
      "\n",
      "0: 96x640 1 handwrite, 9.4ms\n",
      "Speed: 0.1ms preprocess, 9.4ms inference, 0.6ms postprocess per image at shape (1, 3, 640, 640)\n"
     ]
    },
    {
     "name": "stdout",
     "output_type": "stream",
     "text": [
      "in process: 674/1000\r"
     ]
    },
    {
     "name": "stderr",
     "output_type": "stream",
     "text": [
      "\n",
      "0: 640x480 1 content, 1 date, 1 number, 1 sender, 1 signer, 105.2ms\n",
      "Speed: 0.3ms preprocess, 105.2ms inference, 0.4ms postprocess per image at shape (1, 3, 640, 640)\n",
      "\n",
      "0: 128x640 1 handwrite, 8.9ms\n",
      "Speed: 0.2ms preprocess, 8.9ms inference, 0.3ms postprocess per image at shape (1, 3, 640, 640)\n",
      "\n",
      "0: 192x640 1 handwrite, 11.3ms\n",
      "Speed: 0.2ms preprocess, 11.3ms inference, 0.3ms postprocess per image at shape (1, 3, 640, 640)\n"
     ]
    },
    {
     "name": "stdout",
     "output_type": "stream",
     "text": [
      "in process: 675/1000\r"
     ]
    },
    {
     "name": "stderr",
     "output_type": "stream",
     "text": [
      "\n",
      "0: 640x480 1 content, 1 date, 1 number, 1 sender, 105.4ms\n",
      "Speed: 0.3ms preprocess, 105.4ms inference, 2.2ms postprocess per image at shape (1, 3, 640, 640)\n",
      "\n",
      "0: 224x640 1 typewritten, 12.4ms\n",
      "Speed: 0.2ms preprocess, 12.4ms inference, 0.3ms postprocess per image at shape (1, 3, 640, 640)\n",
      "\n",
      "0: 128x640 1 handwrite, 8.9ms\n",
      "Speed: 0.2ms preprocess, 8.9ms inference, 0.3ms postprocess per image at shape (1, 3, 640, 640)\n",
      "\n",
      "0: 640x480 1 signer, 105.0ms\n",
      "Speed: 0.3ms preprocess, 105.0ms inference, 0.3ms postprocess per image at shape (1, 3, 640, 640)\n",
      "\n"
     ]
    },
    {
     "name": "stdout",
     "output_type": "stream",
     "text": [
      "in process: 676/1000\r"
     ]
    },
    {
     "name": "stderr",
     "output_type": "stream",
     "text": [
      "0: 640x480 1 date, 1 number, 1 sender, 1 signer, 103.1ms\n",
      "Speed: 0.3ms preprocess, 103.1ms inference, 2.0ms postprocess per image at shape (1, 3, 640, 640)\n",
      "\n",
      "0: 160x640 1 handwrite, 10.5ms\n",
      "Speed: 0.2ms preprocess, 10.5ms inference, 0.3ms postprocess per image at shape (1, 3, 640, 640)\n",
      "\n",
      "0: 160x640 1 handwrite, 11.2ms\n",
      "Speed: 0.2ms preprocess, 11.2ms inference, 0.4ms postprocess per image at shape (1, 3, 640, 640)\n"
     ]
    },
    {
     "name": "stdout",
     "output_type": "stream",
     "text": [
      "in process: 677/1000\r"
     ]
    },
    {
     "name": "stderr",
     "output_type": "stream",
     "text": [
      "\n",
      "0: 640x480 1 date, 1 number, 2 senders, 104.6ms\n",
      "Speed: 0.3ms preprocess, 104.6ms inference, 0.3ms postprocess per image at shape (1, 3, 640, 640)\n",
      "\n",
      "0: 128x640 1 handwrite, 8.8ms\n",
      "Speed: 0.1ms preprocess, 8.8ms inference, 0.3ms postprocess per image at shape (1, 3, 640, 640)\n",
      "\n",
      "0: 192x640 1 handwrite, 11.2ms\n",
      "Speed: 0.1ms preprocess, 11.2ms inference, 0.3ms postprocess per image at shape (1, 3, 640, 640)\n",
      "\n",
      "0: 640x480 1 sender, 1 signer, 102.9ms\n",
      "Speed: 0.3ms preprocess, 102.9ms inference, 0.3ms postprocess per image at shape (1, 3, 640, 640)\n"
     ]
    },
    {
     "name": "stdout",
     "output_type": "stream",
     "text": [
      "in process: 678/1000\r"
     ]
    },
    {
     "name": "stderr",
     "output_type": "stream",
     "text": [
      "\n",
      "0: 640x480 2 dates, 1 number, 1 sender, 1 signer, 105.8ms\n",
      "Speed: 0.3ms preprocess, 105.8ms inference, 0.3ms postprocess per image at shape (1, 3, 640, 640)\n",
      "\n",
      "0: 96x640 1 handwrite, 7.8ms\n",
      "Speed: 0.2ms preprocess, 7.8ms inference, 0.3ms postprocess per image at shape (1, 3, 640, 640)\n",
      "\n",
      "0: 192x640 1 handwrite, 11.2ms\n",
      "Speed: 0.1ms preprocess, 11.2ms inference, 0.3ms postprocess per image at shape (1, 3, 640, 640)\n",
      "\n",
      "0: 128x640 1 handwrite, 8.7ms\n",
      "Speed: 0.1ms preprocess, 8.7ms inference, 0.3ms postprocess per image at shape (1, 3, 640, 640)\n",
      "\n"
     ]
    },
    {
     "name": "stdout",
     "output_type": "stream",
     "text": [
      "in process: 679/1000\r"
     ]
    },
    {
     "name": "stderr",
     "output_type": "stream",
     "text": [
      "0: 640x480 1 date, 1 number, 1 sender, 1 signer, 105.1ms\n",
      "Speed: 0.3ms preprocess, 105.1ms inference, 0.4ms postprocess per image at shape (1, 3, 640, 640)\n",
      "\n",
      "0: 128x640 1 typewritten, 8.8ms\n",
      "Speed: 0.2ms preprocess, 8.8ms inference, 0.3ms postprocess per image at shape (1, 3, 640, 640)\n",
      "\n",
      "0: 224x640 1 handwrite, 1 typewritten, 12.3ms\n",
      "Speed: 0.2ms preprocess, 12.3ms inference, 0.3ms postprocess per image at shape (1, 3, 640, 640)\n"
     ]
    },
    {
     "name": "stdout",
     "output_type": "stream",
     "text": [
      "in process: 680/1000\r"
     ]
    },
    {
     "name": "stderr",
     "output_type": "stream",
     "text": [
      "\n",
      "0: 640x480 (no detections), 105.0ms\n",
      "Speed: 0.3ms preprocess, 105.0ms inference, 1.8ms postprocess per image at shape (1, 3, 640, 640)\n",
      "\n",
      "0: 640x480 1 signer, 104.8ms\n",
      "Speed: 0.3ms preprocess, 104.8ms inference, 0.3ms postprocess per image at shape (1, 3, 640, 640)\n"
     ]
    },
    {
     "name": "stdout",
     "output_type": "stream",
     "text": [
      "in process: 681/1000\r"
     ]
    },
    {
     "name": "stderr",
     "output_type": "stream",
     "text": [
      "\n",
      "0: 480x640 1 sender, 104.9ms\n",
      "Speed: 0.3ms preprocess, 104.9ms inference, 3.0ms postprocess per image at shape (1, 3, 640, 640)\n",
      "\n",
      "0: 640x480 (no detections), 103.8ms\n",
      "Speed: 0.3ms preprocess, 103.8ms inference, 0.2ms postprocess per image at shape (1, 3, 640, 640)\n",
      "\n",
      "0: 640x480 1 date, 1 number, 1 sender, 106.2ms\n",
      "Speed: 0.3ms preprocess, 106.2ms inference, 0.3ms postprocess per image at shape (1, 3, 640, 640)\n",
      "\n",
      "0: 192x640 1 typewritten, 11.3ms\n",
      "Speed: 0.1ms preprocess, 11.3ms inference, 0.3ms postprocess per image at shape (1, 3, 640, 640)\n",
      "\n",
      "0: 160x640 1 typewritten, 15.0ms\n",
      "Speed: 0.2ms preprocess, 15.0ms inference, 0.6ms postprocess per image at shape (1, 3, 640, 640)\n",
      "\n",
      "0: 640x480 1 signer, 110.1ms\n",
      "Speed: 0.3ms preprocess, 110.1ms inference, 0.7ms postprocess per image at shape (1, 3, 640, 640)\n"
     ]
    },
    {
     "name": "stdout",
     "output_type": "stream",
     "text": [
      "in process: 682/1000\r"
     ]
    },
    {
     "name": "stderr",
     "output_type": "stream",
     "text": [
      "\n",
      "0: 640x480 1 content, 1 date, 1 number, 1 sender, 104.3ms\n",
      "Speed: 0.3ms preprocess, 104.3ms inference, 2.7ms postprocess per image at shape (1, 3, 640, 640)\n",
      "\n",
      "0: 160x640 1 handwrite, 10.3ms\n",
      "Speed: 0.2ms preprocess, 10.3ms inference, 0.3ms postprocess per image at shape (1, 3, 640, 640)\n",
      "\n",
      "0: 160x640 1 handwrite, 15.0ms\n",
      "Speed: 0.1ms preprocess, 15.0ms inference, 0.4ms postprocess per image at shape (1, 3, 640, 640)\n",
      "\n",
      "0: 640x480 1 signer, 107.1ms\n",
      "Speed: 0.3ms preprocess, 107.1ms inference, 0.3ms postprocess per image at shape (1, 3, 640, 640)\n"
     ]
    },
    {
     "name": "stdout",
     "output_type": "stream",
     "text": [
      "in process: 683/1000\r"
     ]
    },
    {
     "name": "stderr",
     "output_type": "stream",
     "text": [
      "\n",
      "0: 640x480 1 date, 1 number, 2 senders, 104.6ms\n",
      "Speed: 0.3ms preprocess, 104.6ms inference, 2.2ms postprocess per image at shape (1, 3, 640, 640)\n",
      "\n",
      "0: 128x640 1 handwrite, 8.9ms\n",
      "Speed: 0.2ms preprocess, 8.9ms inference, 0.3ms postprocess per image at shape (1, 3, 640, 640)\n",
      "\n",
      "0: 160x640 1 handwrite, 10.6ms\n",
      "Speed: 0.1ms preprocess, 10.6ms inference, 0.3ms postprocess per image at shape (1, 3, 640, 640)\n",
      "\n",
      "0: 640x480 (no detections), 103.5ms\n",
      "Speed: 0.3ms preprocess, 103.5ms inference, 0.2ms postprocess per image at shape (1, 3, 640, 640)\n",
      "\n",
      "0: 640x480 (no detections), 105.3ms\n",
      "Speed: 0.3ms preprocess, 105.3ms inference, 0.2ms postprocess per image at shape (1, 3, 640, 640)\n",
      "\n",
      "0: 640x480 1 signer, 105.2ms\n",
      "Speed: 0.3ms preprocess, 105.2ms inference, 0.3ms postprocess per image at shape (1, 3, 640, 640)\n",
      "\n"
     ]
    },
    {
     "name": "stdout",
     "output_type": "stream",
     "text": [
      "in process: 684/1000\r"
     ]
    },
    {
     "name": "stderr",
     "output_type": "stream",
     "text": [
      "0: 640x480 1 date, 1 number, 1 sender, 1 signer, 106.9ms\n",
      "Speed: 0.3ms preprocess, 106.9ms inference, 0.4ms postprocess per image at shape (1, 3, 640, 640)\n",
      "\n",
      "0: 160x640 2 typewrittens, 10.3ms\n",
      "Speed: 0.1ms preprocess, 10.3ms inference, 0.3ms postprocess per image at shape (1, 3, 640, 640)\n",
      "\n",
      "0: 160x640 1 handwrite, 10.7ms\n",
      "Speed: 0.2ms preprocess, 10.7ms inference, 0.3ms postprocess per image at shape (1, 3, 640, 640)\n"
     ]
    },
    {
     "name": "stdout",
     "output_type": "stream",
     "text": [
      "in process: 685/1000\r"
     ]
    },
    {
     "name": "stderr",
     "output_type": "stream",
     "text": [
      "\n",
      "0: 640x480 1 date, 1 number, 1 sender, 106.0ms\n",
      "Speed: 0.3ms preprocess, 106.0ms inference, 0.4ms postprocess per image at shape (1, 3, 640, 640)\n",
      "\n",
      "0: 192x640 1 handwrite, 16.9ms\n",
      "Speed: 0.4ms preprocess, 16.9ms inference, 0.8ms postprocess per image at shape (1, 3, 640, 640)\n",
      "\n",
      "0: 224x640 1 handwrite, 16.2ms\n",
      "Speed: 0.1ms preprocess, 16.2ms inference, 0.6ms postprocess per image at shape (1, 3, 640, 640)\n",
      "\n",
      "0: 640x480 (no detections), 106.1ms\n",
      "Speed: 0.3ms preprocess, 106.1ms inference, 0.2ms postprocess per image at shape (1, 3, 640, 640)\n",
      "\n",
      "0: 640x480 1 signer, 105.4ms\n",
      "Speed: 0.3ms preprocess, 105.4ms inference, 0.3ms postprocess per image at shape (1, 3, 640, 640)\n",
      "\n"
     ]
    },
    {
     "name": "stdout",
     "output_type": "stream",
     "text": [
      "in process: 686/1000\r"
     ]
    },
    {
     "name": "stderr",
     "output_type": "stream",
     "text": [
      "0: 640x480 1 content, 1 date, 1 number, 1 sender, 1 signer, 107.7ms\n",
      "Speed: 0.4ms preprocess, 107.7ms inference, 2.3ms postprocess per image at shape (1, 3, 640, 640)\n",
      "\n",
      "0: 128x640 1 handwrite, 8.7ms\n",
      "Speed: 0.2ms preprocess, 8.7ms inference, 0.3ms postprocess per image at shape (1, 3, 640, 640)\n",
      "\n",
      "0: 192x640 1 handwrite, 11.2ms\n",
      "Speed: 0.1ms preprocess, 11.2ms inference, 0.3ms postprocess per image at shape (1, 3, 640, 640)\n",
      "\n"
     ]
    },
    {
     "name": "stdout",
     "output_type": "stream",
     "text": [
      "in process: 687/1000\r"
     ]
    },
    {
     "name": "stderr",
     "output_type": "stream",
     "text": [
      "0: 640x480 1 content, 1 date, 1 number, 2 senders, 1 signer, 109.8ms\n",
      "Speed: 0.3ms preprocess, 109.8ms inference, 0.4ms postprocess per image at shape (1, 3, 640, 640)\n",
      "\n",
      "0: 160x640 1 handwrite, 10.5ms\n",
      "Speed: 0.2ms preprocess, 10.5ms inference, 0.3ms postprocess per image at shape (1, 3, 640, 640)\n",
      "\n",
      "0: 224x640 1 typewritten, 12.4ms\n",
      "Speed: 0.2ms preprocess, 12.4ms inference, 0.3ms postprocess per image at shape (1, 3, 640, 640)\n"
     ]
    },
    {
     "name": "stdout",
     "output_type": "stream",
     "text": [
      "in process: 688/1000\r"
     ]
    },
    {
     "name": "stderr",
     "output_type": "stream",
     "text": [
      "\n",
      "0: 640x480 1 date, 1 number, 1 sender, 1 signer, 105.8ms\n",
      "Speed: 0.3ms preprocess, 105.8ms inference, 2.1ms postprocess per image at shape (1, 3, 640, 640)\n",
      "\n",
      "0: 160x640 1 handwrite, 10.7ms\n",
      "Speed: 0.2ms preprocess, 10.7ms inference, 0.3ms postprocess per image at shape (1, 3, 640, 640)\n",
      "\n",
      "0: 128x640 1 handwrite, 8.6ms\n",
      "Speed: 0.1ms preprocess, 8.6ms inference, 0.3ms postprocess per image at shape (1, 3, 640, 640)\n"
     ]
    },
    {
     "name": "stdout",
     "output_type": "stream",
     "text": [
      "in process: 689/1000\r"
     ]
    },
    {
     "name": "stderr",
     "output_type": "stream",
     "text": [
      "\n",
      "0: 640x480 1 content, 1 date, 1 number, 1 sender, 1 signer, 106.0ms\n",
      "Speed: 0.3ms preprocess, 106.0ms inference, 0.4ms postprocess per image at shape (1, 3, 640, 640)\n",
      "\n",
      "0: 160x640 1 handwrite, 12.2ms\n",
      "Speed: 0.2ms preprocess, 12.2ms inference, 0.3ms postprocess per image at shape (1, 3, 640, 640)\n",
      "\n",
      "0: 160x640 1 handwrite, 10.2ms\n",
      "Speed: 0.1ms preprocess, 10.2ms inference, 0.3ms postprocess per image at shape (1, 3, 640, 640)\n"
     ]
    },
    {
     "name": "stdout",
     "output_type": "stream",
     "text": [
      "in process: 690/1000\r"
     ]
    },
    {
     "name": "stderr",
     "output_type": "stream",
     "text": [
      "\n",
      "0: 640x480 1 sender, 1 signer, 105.4ms\n",
      "Speed: 0.3ms preprocess, 105.4ms inference, 1.6ms postprocess per image at shape (1, 3, 640, 640)\n"
     ]
    },
    {
     "name": "stdout",
     "output_type": "stream",
     "text": [
      "in process: 691/1000\r"
     ]
    },
    {
     "name": "stderr",
     "output_type": "stream",
     "text": [
      "\n",
      "0: 640x480 1 content, 1 sender, 1 signer, 105.9ms\n",
      "Speed: 0.3ms preprocess, 105.9ms inference, 0.3ms postprocess per image at shape (1, 3, 640, 640)\n"
     ]
    },
    {
     "name": "stdout",
     "output_type": "stream",
     "text": [
      "in process: 692/1000\r"
     ]
    },
    {
     "name": "stderr",
     "output_type": "stream",
     "text": [
      "\n",
      "0: 640x480 1 date, 1 number, 1 sender, 105.0ms\n",
      "Speed: 0.3ms preprocess, 105.0ms inference, 1.5ms postprocess per image at shape (1, 3, 640, 640)\n",
      "\n",
      "0: 160x640 2 handwrites, 14.5ms\n",
      "Speed: 0.2ms preprocess, 14.5ms inference, 0.6ms postprocess per image at shape (1, 3, 640, 640)\n",
      "\n",
      "0: 160x640 1 handwrite, 14.4ms\n",
      "Speed: 0.1ms preprocess, 14.4ms inference, 0.6ms postprocess per image at shape (1, 3, 640, 640)\n",
      "\n",
      "0: 640x480 1 signer, 105.0ms\n",
      "Speed: 0.3ms preprocess, 105.0ms inference, 0.3ms postprocess per image at shape (1, 3, 640, 640)\n"
     ]
    },
    {
     "name": "stdout",
     "output_type": "stream",
     "text": [
      "in process: 693/1000\r"
     ]
    },
    {
     "name": "stderr",
     "output_type": "stream",
     "text": [
      "\n",
      "0: 640x480 1 sender, 106.1ms\n",
      "Speed: 0.3ms preprocess, 106.1ms inference, 1.7ms postprocess per image at shape (1, 3, 640, 640)\n",
      "\n",
      "0: 640x480 1 content, 2 dates, 1 number, 1 sender, 1 signer, 104.6ms\n",
      "Speed: 0.3ms preprocess, 104.6ms inference, 0.3ms postprocess per image at shape (1, 3, 640, 640)\n",
      "\n",
      "0: 128x640 2 typewrittens, 8.8ms\n",
      "Speed: 0.2ms preprocess, 8.8ms inference, 0.3ms postprocess per image at shape (1, 3, 640, 640)\n",
      "\n",
      "0: 128x640 1 typewritten, 8.8ms\n",
      "Speed: 0.2ms preprocess, 8.8ms inference, 0.3ms postprocess per image at shape (1, 3, 640, 640)\n",
      "\n",
      "0: 192x640 1 typewritten, 11.2ms\n",
      "Speed: 0.2ms preprocess, 11.2ms inference, 0.3ms postprocess per image at shape (1, 3, 640, 640)\n"
     ]
    },
    {
     "name": "stdout",
     "output_type": "stream",
     "text": [
      "in process: 694/1000\r"
     ]
    },
    {
     "name": "stderr",
     "output_type": "stream",
     "text": [
      "\n",
      "0: 640x480 1 content, 1 number, 1 signer, 102.7ms\n",
      "Speed: 0.3ms preprocess, 102.7ms inference, 2.1ms postprocess per image at shape (1, 3, 640, 640)\n",
      "\n",
      "0: 160x640 1 typewritten, 10.6ms\n",
      "Speed: 0.2ms preprocess, 10.6ms inference, 0.3ms postprocess per image at shape (1, 3, 640, 640)\n"
     ]
    },
    {
     "name": "stdout",
     "output_type": "stream",
     "text": [
      "in process: 695/1000\r"
     ]
    },
    {
     "name": "stderr",
     "output_type": "stream",
     "text": [
      "\n",
      "0: 640x480 1 content, 1 date, 1 number, 1 sender, 105.6ms\n",
      "Speed: 0.3ms preprocess, 105.6ms inference, 0.4ms postprocess per image at shape (1, 3, 640, 640)\n",
      "\n",
      "0: 192x640 1 handwrite, 11.3ms\n",
      "Speed: 0.2ms preprocess, 11.3ms inference, 0.3ms postprocess per image at shape (1, 3, 640, 640)\n",
      "\n",
      "0: 192x640 1 handwrite, 11.0ms\n",
      "Speed: 0.1ms preprocess, 11.0ms inference, 0.3ms postprocess per image at shape (1, 3, 640, 640)\n",
      "\n",
      "0: 640x480 1 signer, 105.5ms\n",
      "Speed: 0.3ms preprocess, 105.5ms inference, 0.3ms postprocess per image at shape (1, 3, 640, 640)\n"
     ]
    },
    {
     "name": "stdout",
     "output_type": "stream",
     "text": [
      "in process: 696/1000\r"
     ]
    },
    {
     "name": "stderr",
     "output_type": "stream",
     "text": [
      "\n",
      "0: 640x480 1 date, 1 number, 1 sender, 1 signer, 103.3ms\n",
      "Speed: 0.3ms preprocess, 103.3ms inference, 1.7ms postprocess per image at shape (1, 3, 640, 640)\n",
      "\n",
      "0: 160x640 1 handwrite, 10.6ms\n",
      "Speed: 0.2ms preprocess, 10.6ms inference, 0.3ms postprocess per image at shape (1, 3, 640, 640)\n",
      "\n",
      "0: 128x640 3 handwrites, 8.7ms\n",
      "Speed: 0.1ms preprocess, 8.7ms inference, 0.3ms postprocess per image at shape (1, 3, 640, 640)\n"
     ]
    },
    {
     "name": "stdout",
     "output_type": "stream",
     "text": [
      "in process: 697/1000\r"
     ]
    },
    {
     "name": "stderr",
     "output_type": "stream",
     "text": [
      "\n",
      "0: 640x480 1 sender, 1 signer, 103.7ms\n",
      "Speed: 0.3ms preprocess, 103.7ms inference, 0.3ms postprocess per image at shape (1, 3, 640, 640)\n"
     ]
    },
    {
     "name": "stdout",
     "output_type": "stream",
     "text": [
      "in process: 698/1000\r"
     ]
    },
    {
     "name": "stderr",
     "output_type": "stream",
     "text": [
      "\n",
      "0: 640x480 1 content, 1 date, 1 number, 1 sender, 1 signer, 103.4ms\n",
      "Speed: 0.3ms preprocess, 103.4ms inference, 0.4ms postprocess per image at shape (1, 3, 640, 640)\n",
      "\n",
      "0: 128x640 1 handwrite, 9.0ms\n",
      "Speed: 0.2ms preprocess, 9.0ms inference, 0.3ms postprocess per image at shape (1, 3, 640, 640)\n",
      "\n",
      "0: 192x640 1 handwrite, 11.2ms\n",
      "Speed: 0.2ms preprocess, 11.2ms inference, 0.3ms postprocess per image at shape (1, 3, 640, 640)\n"
     ]
    },
    {
     "name": "stdout",
     "output_type": "stream",
     "text": [
      "in process: 699/1000\r"
     ]
    },
    {
     "name": "stderr",
     "output_type": "stream",
     "text": [
      "\n",
      "0: 640x480 1 date, 1 number, 1 sender, 1 signer, 103.2ms\n",
      "Speed: 0.3ms preprocess, 103.2ms inference, 2.0ms postprocess per image at shape (1, 3, 640, 640)\n",
      "\n",
      "0: 128x640 1 handwrite, 8.8ms\n",
      "Speed: 0.2ms preprocess, 8.8ms inference, 0.3ms postprocess per image at shape (1, 3, 640, 640)\n",
      "\n",
      "0: 192x640 1 handwrite, 11.1ms\n",
      "Speed: 0.1ms preprocess, 11.1ms inference, 0.3ms postprocess per image at shape (1, 3, 640, 640)\n"
     ]
    },
    {
     "name": "stdout",
     "output_type": "stream",
     "text": [
      "in process: 700/1000\r"
     ]
    },
    {
     "name": "stderr",
     "output_type": "stream",
     "text": [
      "\n",
      "0: 640x480 1 content, 1 date, 1 number, 1 sender, 1 signer, 105.6ms\n",
      "Speed: 0.3ms preprocess, 105.6ms inference, 0.4ms postprocess per image at shape (1, 3, 640, 640)\n",
      "\n",
      "0: 192x640 1 typewritten, 11.2ms\n",
      "Speed: 0.2ms preprocess, 11.2ms inference, 0.3ms postprocess per image at shape (1, 3, 640, 640)\n",
      "\n",
      "0: 128x640 1 handwrite, 13.4ms\n",
      "Speed: 0.2ms preprocess, 13.4ms inference, 0.4ms postprocess per image at shape (1, 3, 640, 640)\n"
     ]
    },
    {
     "name": "stdout",
     "output_type": "stream",
     "text": [
      "in process: 701/1000\r"
     ]
    },
    {
     "name": "stderr",
     "output_type": "stream",
     "text": [
      "\n",
      "0: 640x480 1 content, 1 date, 1 number, 1 sender, 105.2ms\n",
      "Speed: 0.3ms preprocess, 105.2ms inference, 1.6ms postprocess per image at shape (1, 3, 640, 640)\n",
      "\n",
      "0: 192x640 1 handwrite, 11.2ms\n",
      "Speed: 0.2ms preprocess, 11.2ms inference, 0.3ms postprocess per image at shape (1, 3, 640, 640)\n",
      "\n",
      "0: 128x640 1 handwrite, 1 typewritten, 8.6ms\n",
      "Speed: 0.1ms preprocess, 8.6ms inference, 0.3ms postprocess per image at shape (1, 3, 640, 640)\n",
      "\n",
      "0: 640x480 (no detections), 105.8ms\n",
      "Speed: 0.3ms preprocess, 105.8ms inference, 0.2ms postprocess per image at shape (1, 3, 640, 640)\n",
      "\n",
      "0: 640x480 1 signer, 105.4ms\n",
      "Speed: 0.3ms preprocess, 105.4ms inference, 0.3ms postprocess per image at shape (1, 3, 640, 640)\n"
     ]
    },
    {
     "name": "stdout",
     "output_type": "stream",
     "text": [
      "in process: 702/1000\r"
     ]
    },
    {
     "name": "stderr",
     "output_type": "stream",
     "text": [
      "\n",
      "0: 640x480 1 date, 2 senders, 107.4ms\n",
      "Speed: 0.3ms preprocess, 107.4ms inference, 0.7ms postprocess per image at shape (1, 3, 640, 640)\n",
      "\n",
      "0: 128x640 1 handwrite, 12.2ms\n",
      "Speed: 0.1ms preprocess, 12.2ms inference, 0.6ms postprocess per image at shape (1, 3, 640, 640)\n",
      "\n",
      "0: 640x480 1 signer, 105.6ms\n",
      "Speed: 0.3ms preprocess, 105.6ms inference, 0.3ms postprocess per image at shape (1, 3, 640, 640)\n",
      "\n"
     ]
    },
    {
     "name": "stdout",
     "output_type": "stream",
     "text": [
      "in process: 703/1000\r"
     ]
    },
    {
     "name": "stderr",
     "output_type": "stream",
     "text": [
      "0: 640x480 1 content, 1 date, 1 number, 2 senders, 1 signer, 103.7ms\n",
      "Speed: 0.3ms preprocess, 103.7ms inference, 2.4ms postprocess per image at shape (1, 3, 640, 640)\n",
      "\n",
      "0: 128x640 1 handwrite, 8.7ms\n",
      "Speed: 0.2ms preprocess, 8.7ms inference, 0.3ms postprocess per image at shape (1, 3, 640, 640)\n",
      "\n",
      "0: 192x640 1 typewritten, 15.8ms\n",
      "Speed: 0.2ms preprocess, 15.8ms inference, 0.6ms postprocess per image at shape (1, 3, 640, 640)\n",
      "\n"
     ]
    },
    {
     "name": "stdout",
     "output_type": "stream",
     "text": [
      "in process: 704/1000\r"
     ]
    },
    {
     "name": "stderr",
     "output_type": "stream",
     "text": [
      "0: 640x480 1 date, 1 number, 1 sender, 1 signer, 109.2ms\n",
      "Speed: 0.3ms preprocess, 109.2ms inference, 0.4ms postprocess per image at shape (1, 3, 640, 640)\n",
      "\n",
      "0: 128x640 1 handwrite, 8.7ms\n",
      "Speed: 0.2ms preprocess, 8.7ms inference, 0.3ms postprocess per image at shape (1, 3, 640, 640)\n",
      "\n",
      "0: 224x640 1 typewritten, 12.3ms\n",
      "Speed: 0.2ms preprocess, 12.3ms inference, 0.3ms postprocess per image at shape (1, 3, 640, 640)\n"
     ]
    },
    {
     "name": "stdout",
     "output_type": "stream",
     "text": [
      "in process: 705/1000\r"
     ]
    },
    {
     "name": "stderr",
     "output_type": "stream",
     "text": [
      "\n",
      "0: 640x480 1 content, 1 date, 1 number, 1 sender, 1 signer, 105.2ms\n",
      "Speed: 0.3ms preprocess, 105.2ms inference, 1.6ms postprocess per image at shape (1, 3, 640, 640)\n",
      "\n",
      "0: 128x640 1 handwrite, 8.7ms\n",
      "Speed: 0.2ms preprocess, 8.7ms inference, 0.3ms postprocess per image at shape (1, 3, 640, 640)\n",
      "\n",
      "0: 192x640 1 typewritten, 12.3ms\n",
      "Speed: 0.2ms preprocess, 12.3ms inference, 0.3ms postprocess per image at shape (1, 3, 640, 640)\n",
      "\n"
     ]
    },
    {
     "name": "stdout",
     "output_type": "stream",
     "text": [
      "in process: 706/1000\r"
     ]
    },
    {
     "name": "stderr",
     "output_type": "stream",
     "text": [
      "0: 640x480 1 content, 1 date, 1 number, 1 sender, 1 signer, 106.0ms\n",
      "Speed: 0.3ms preprocess, 106.0ms inference, 0.4ms postprocess per image at shape (1, 3, 640, 640)\n",
      "\n",
      "0: 160x640 1 handwrite, 10.5ms\n",
      "Speed: 0.2ms preprocess, 10.5ms inference, 0.3ms postprocess per image at shape (1, 3, 640, 640)\n",
      "\n",
      "0: 192x640 1 handwrite, 11.2ms\n",
      "Speed: 0.1ms preprocess, 11.2ms inference, 0.3ms postprocess per image at shape (1, 3, 640, 640)\n"
     ]
    },
    {
     "name": "stdout",
     "output_type": "stream",
     "text": [
      "in process: 707/1000\r"
     ]
    },
    {
     "name": "stderr",
     "output_type": "stream",
     "text": [
      "\n",
      "0: 640x480 1 content, 105.1ms\n",
      "Speed: 0.3ms preprocess, 105.1ms inference, 1.5ms postprocess per image at shape (1, 3, 640, 640)\n",
      "\n",
      "0: 640x480 1 signer, 105.5ms\n",
      "Speed: 0.3ms preprocess, 105.5ms inference, 0.3ms postprocess per image at shape (1, 3, 640, 640)\n"
     ]
    },
    {
     "name": "stdout",
     "output_type": "stream",
     "text": [
      "in process: 708/1000\r"
     ]
    },
    {
     "name": "stderr",
     "output_type": "stream",
     "text": [
      "\n",
      "0: 640x480 1 content, 1 date, 1 number, 1 sender, 1 signer, 103.1ms\n",
      "Speed: 0.3ms preprocess, 103.1ms inference, 1.4ms postprocess per image at shape (1, 3, 640, 640)\n",
      "\n",
      "0: 128x640 1 typewritten, 8.8ms\n",
      "Speed: 0.2ms preprocess, 8.8ms inference, 0.3ms postprocess per image at shape (1, 3, 640, 640)\n",
      "\n",
      "0: 192x640 1 typewritten, 20.0ms\n",
      "Speed: 0.2ms preprocess, 20.0ms inference, 0.5ms postprocess per image at shape (1, 3, 640, 640)\n"
     ]
    },
    {
     "name": "stdout",
     "output_type": "stream",
     "text": [
      "in process: 709/1000\r"
     ]
    },
    {
     "name": "stderr",
     "output_type": "stream",
     "text": [
      "\n",
      "0: 640x480 1 date, 1 number, 1 sender, 1 signer, 105.7ms\n",
      "Speed: 0.3ms preprocess, 105.7ms inference, 0.3ms postprocess per image at shape (1, 3, 640, 640)\n",
      "\n",
      "0: 192x640 1 typewritten, 11.1ms\n",
      "Speed: 0.2ms preprocess, 11.1ms inference, 0.3ms postprocess per image at shape (1, 3, 640, 640)\n",
      "\n",
      "0: 128x640 1 typewritten, 10.0ms\n",
      "Speed: 0.2ms preprocess, 10.0ms inference, 0.3ms postprocess per image at shape (1, 3, 640, 640)\n",
      "\n"
     ]
    },
    {
     "name": "stdout",
     "output_type": "stream",
     "text": [
      "in process: 710/1000\r"
     ]
    },
    {
     "name": "stderr",
     "output_type": "stream",
     "text": [
      "0: 640x480 1 content, 2 dates, 1 number, 3 senders, 1 signer, 106.0ms\n",
      "Speed: 0.3ms preprocess, 106.0ms inference, 0.4ms postprocess per image at shape (1, 3, 640, 640)\n",
      "\n",
      "0: 160x640 1 handwrite, 10.5ms\n",
      "Speed: 0.2ms preprocess, 10.5ms inference, 0.3ms postprocess per image at shape (1, 3, 640, 640)\n",
      "\n",
      "0: 192x640 1 handwrite, 11.2ms\n",
      "Speed: 0.2ms preprocess, 11.2ms inference, 0.3ms postprocess per image at shape (1, 3, 640, 640)\n",
      "\n",
      "0: 224x640 1 handwrite, 12.2ms\n",
      "Speed: 0.1ms preprocess, 12.2ms inference, 0.3ms postprocess per image at shape (1, 3, 640, 640)\n"
     ]
    },
    {
     "name": "stdout",
     "output_type": "stream",
     "text": [
      "in process: 711/1000\r"
     ]
    },
    {
     "name": "stderr",
     "output_type": "stream",
     "text": [
      "\n",
      "0: 640x480 1 number, 1 sender, 105.2ms\n",
      "Speed: 0.3ms preprocess, 105.2ms inference, 2.2ms postprocess per image at shape (1, 3, 640, 640)\n",
      "\n",
      "0: 128x640 1 handwrite, 1 typewritten, 8.8ms\n",
      "Speed: 0.2ms preprocess, 8.8ms inference, 0.3ms postprocess per image at shape (1, 3, 640, 640)\n",
      "\n",
      "0: 480x640 (no detections), 107.8ms\n",
      "Speed: 0.3ms preprocess, 107.8ms inference, 0.2ms postprocess per image at shape (1, 3, 640, 640)\n",
      "\n",
      "0: 640x480 1 number, 1 sender, 1 signer, 105.6ms\n",
      "Speed: 0.3ms preprocess, 105.6ms inference, 0.3ms postprocess per image at shape (1, 3, 640, 640)\n",
      "\n",
      "0: 160x640 1 handwrite, 10.5ms\n",
      "Speed: 0.2ms preprocess, 10.5ms inference, 0.3ms postprocess per image at shape (1, 3, 640, 640)\n"
     ]
    },
    {
     "name": "stdout",
     "output_type": "stream",
     "text": [
      "in process: 712/1000\r"
     ]
    },
    {
     "name": "stderr",
     "output_type": "stream",
     "text": [
      "\n",
      "0: 640x480 1 date, 1 number, 1 sender, 1 signer, 102.9ms\n",
      "Speed: 0.3ms preprocess, 102.9ms inference, 1.6ms postprocess per image at shape (1, 3, 640, 640)\n",
      "\n",
      "0: 160x640 1 typewritten, 10.4ms\n",
      "Speed: 0.2ms preprocess, 10.4ms inference, 0.3ms postprocess per image at shape (1, 3, 640, 640)\n",
      "\n",
      "0: 192x640 1 typewritten, 11.2ms\n",
      "Speed: 0.2ms preprocess, 11.2ms inference, 0.3ms postprocess per image at shape (1, 3, 640, 640)\n"
     ]
    },
    {
     "name": "stdout",
     "output_type": "stream",
     "text": [
      "in process: 713/1000\r"
     ]
    },
    {
     "name": "stderr",
     "output_type": "stream",
     "text": [
      "\n",
      "0: 480x640 1 number, 1 sender, 106.3ms\n",
      "Speed: 0.3ms preprocess, 106.3ms inference, 2.0ms postprocess per image at shape (1, 3, 640, 640)\n",
      "\n",
      "0: 192x640 1 typewritten, 11.3ms\n",
      "Speed: 0.2ms preprocess, 11.3ms inference, 0.3ms postprocess per image at shape (1, 3, 640, 640)\n",
      "\n",
      "0: 640x480 (no detections), 106.6ms\n",
      "Speed: 0.3ms preprocess, 106.6ms inference, 0.2ms postprocess per image at shape (1, 3, 640, 640)\n",
      "\n",
      "0: 640x480 (no detections), 104.9ms\n",
      "Speed: 0.3ms preprocess, 104.9ms inference, 0.2ms postprocess per image at shape (1, 3, 640, 640)\n",
      "\n",
      "0: 640x480 1 signer, 105.0ms\n",
      "Speed: 0.3ms preprocess, 105.0ms inference, 0.3ms postprocess per image at shape (1, 3, 640, 640)\n",
      "\n"
     ]
    },
    {
     "name": "stdout",
     "output_type": "stream",
     "text": [
      "in process: 714/1000\r"
     ]
    },
    {
     "name": "stderr",
     "output_type": "stream",
     "text": [
      "0: 640x480 1 content, 1 date, 1 number, 1 sender, 1 signer, 106.4ms\n",
      "Speed: 0.3ms preprocess, 106.4ms inference, 0.4ms postprocess per image at shape (1, 3, 640, 640)\n",
      "\n",
      "0: 224x640 1 handwrite, 1 typewritten, 12.4ms\n",
      "Speed: 0.2ms preprocess, 12.4ms inference, 0.3ms postprocess per image at shape (1, 3, 640, 640)\n",
      "\n",
      "0: 224x640 1 typewritten, 13.6ms\n",
      "Speed: 0.2ms preprocess, 13.6ms inference, 0.3ms postprocess per image at shape (1, 3, 640, 640)\n"
     ]
    },
    {
     "name": "stdout",
     "output_type": "stream",
     "text": [
      "in process: 715/1000\r"
     ]
    },
    {
     "name": "stderr",
     "output_type": "stream",
     "text": [
      "\n",
      "0: 640x480 1 content, 1 date, 1 number, 1 sender, 106.0ms\n",
      "Speed: 5.5ms preprocess, 106.0ms inference, 0.4ms postprocess per image at shape (1, 3, 640, 640)\n",
      "\n",
      "0: 160x640 1 handwrite, 10.5ms\n",
      "Speed: 0.1ms preprocess, 10.5ms inference, 0.3ms postprocess per image at shape (1, 3, 640, 640)\n",
      "\n",
      "0: 192x640 1 handwrite, 11.3ms\n",
      "Speed: 0.2ms preprocess, 11.3ms inference, 0.3ms postprocess per image at shape (1, 3, 640, 640)\n",
      "\n",
      "0: 640x480 1 signer, 102.8ms\n",
      "Speed: 0.3ms preprocess, 102.8ms inference, 0.3ms postprocess per image at shape (1, 3, 640, 640)\n",
      "\n"
     ]
    },
    {
     "name": "stdout",
     "output_type": "stream",
     "text": [
      "in process: 716/1000\r"
     ]
    },
    {
     "name": "stderr",
     "output_type": "stream",
     "text": [
      "0: 640x480 1 sender, 1 signer, 104.0ms\n",
      "Speed: 0.3ms preprocess, 104.0ms inference, 2.0ms postprocess per image at shape (1, 3, 640, 640)\n"
     ]
    },
    {
     "name": "stdout",
     "output_type": "stream",
     "text": [
      "in process: 717/1000\r"
     ]
    },
    {
     "name": "stderr",
     "output_type": "stream",
     "text": [
      "\n",
      "0: 640x480 1 date, 1 number, 103.1ms\n",
      "Speed: 0.3ms preprocess, 103.1ms inference, 0.3ms postprocess per image at shape (1, 3, 640, 640)\n",
      "\n",
      "0: 224x640 1 handwrite, 12.3ms\n",
      "Speed: 0.1ms preprocess, 12.3ms inference, 0.3ms postprocess per image at shape (1, 3, 640, 640)\n",
      "\n",
      "0: 160x640 1 handwrite, 10.4ms\n",
      "Speed: 0.1ms preprocess, 10.4ms inference, 0.3ms postprocess per image at shape (1, 3, 640, 640)\n",
      "\n",
      "0: 640x480 1 sender, 1 signer, 105.8ms\n",
      "Speed: 0.3ms preprocess, 105.8ms inference, 0.3ms postprocess per image at shape (1, 3, 640, 640)\n"
     ]
    },
    {
     "name": "stdout",
     "output_type": "stream",
     "text": [
      "in process: 718/1000\r"
     ]
    },
    {
     "name": "stderr",
     "output_type": "stream",
     "text": [
      "\n",
      "0: 640x480 (no detections), 103.0ms\n",
      "Speed: 0.3ms preprocess, 103.0ms inference, 0.2ms postprocess per image at shape (1, 3, 640, 640)\n",
      "\n",
      "0: 640x480 1 signer, 105.6ms\n",
      "Speed: 0.3ms preprocess, 105.6ms inference, 0.3ms postprocess per image at shape (1, 3, 640, 640)\n"
     ]
    },
    {
     "name": "stdout",
     "output_type": "stream",
     "text": [
      "in process: 719/1000\r"
     ]
    },
    {
     "name": "stderr",
     "output_type": "stream",
     "text": [
      "\n",
      "0: 640x480 1 date, 2 senders, 1 signer, 103.2ms\n",
      "Speed: 0.3ms preprocess, 103.2ms inference, 2.3ms postprocess per image at shape (1, 3, 640, 640)\n",
      "\n",
      "0: 128x640 1 typewritten, 8.8ms\n",
      "Speed: 0.2ms preprocess, 8.8ms inference, 0.3ms postprocess per image at shape (1, 3, 640, 640)\n"
     ]
    },
    {
     "name": "stdout",
     "output_type": "stream",
     "text": [
      "in process: 720/1000\r"
     ]
    },
    {
     "name": "stderr",
     "output_type": "stream",
     "text": [
      "\n",
      "0: 640x480 1 date, 1 number, 105.6ms\n",
      "Speed: 0.3ms preprocess, 105.6ms inference, 0.3ms postprocess per image at shape (1, 3, 640, 640)\n",
      "\n",
      "0: 192x640 1 handwrite, 12.1ms\n",
      "Speed: 0.1ms preprocess, 12.1ms inference, 0.4ms postprocess per image at shape (1, 3, 640, 640)\n",
      "\n",
      "0: 160x640 1 handwrite, 11.3ms\n",
      "Speed: 0.1ms preprocess, 11.3ms inference, 0.4ms postprocess per image at shape (1, 3, 640, 640)\n",
      "\n",
      "0: 640x480 1 signer, 105.8ms\n",
      "Speed: 0.3ms preprocess, 105.8ms inference, 0.3ms postprocess per image at shape (1, 3, 640, 640)\n"
     ]
    },
    {
     "name": "stdout",
     "output_type": "stream",
     "text": [
      "in process: 721/1000\r"
     ]
    },
    {
     "name": "stderr",
     "output_type": "stream",
     "text": [
      "\n",
      "0: 640x480 1 sender, 1 signer, 106.0ms\n",
      "Speed: 0.3ms preprocess, 106.0ms inference, 0.3ms postprocess per image at shape (1, 3, 640, 640)\n"
     ]
    },
    {
     "name": "stdout",
     "output_type": "stream",
     "text": [
      "in process: 722/1000\r"
     ]
    },
    {
     "name": "stderr",
     "output_type": "stream",
     "text": [
      "\n",
      "0: 640x480 1 date, 1 number, 1 sender, 110.5ms\n",
      "Speed: 0.3ms preprocess, 110.5ms inference, 0.7ms postprocess per image at shape (1, 3, 640, 640)\n",
      "\n",
      "0: 160x640 1 handwrite, 10.6ms\n",
      "Speed: 0.2ms preprocess, 10.6ms inference, 0.3ms postprocess per image at shape (1, 3, 640, 640)\n",
      "\n",
      "0: 224x640 1 handwrite, 12.2ms\n",
      "Speed: 0.1ms preprocess, 12.2ms inference, 0.3ms postprocess per image at shape (1, 3, 640, 640)\n",
      "\n",
      "0: 640x480 (no detections), 106.7ms\n",
      "Speed: 0.3ms preprocess, 106.7ms inference, 0.2ms postprocess per image at shape (1, 3, 640, 640)\n",
      "\n",
      "0: 640x480 (no detections), 102.5ms\n",
      "Speed: 0.3ms preprocess, 102.5ms inference, 0.2ms postprocess per image at shape (1, 3, 640, 640)\n",
      "\n",
      "0: 640x480 1 signer, 105.2ms\n",
      "Speed: 0.3ms preprocess, 105.2ms inference, 0.3ms postprocess per image at shape (1, 3, 640, 640)\n",
      "\n"
     ]
    },
    {
     "name": "stdout",
     "output_type": "stream",
     "text": [
      "in process: 723/1000\r"
     ]
    },
    {
     "name": "stderr",
     "output_type": "stream",
     "text": [
      "0: 640x480 1 date, 1 number, 1 sender, 1 signer, 103.0ms\n",
      "Speed: 0.3ms preprocess, 103.0ms inference, 3.0ms postprocess per image at shape (1, 3, 640, 640)\n",
      "\n",
      "0: 160x640 2 handwrites, 10.8ms\n",
      "Speed: 0.2ms preprocess, 10.8ms inference, 0.3ms postprocess per image at shape (1, 3, 640, 640)\n",
      "\n",
      "0: 192x640 1 handwrite, 13.1ms\n",
      "Speed: 1.4ms preprocess, 13.1ms inference, 0.3ms postprocess per image at shape (1, 3, 640, 640)\n",
      "\n",
      "0: 480x640 1 sender, 1 signer, 105.8ms\n",
      "Speed: 0.3ms preprocess, 105.8ms inference, 1.8ms postprocess per image at shape (1, 3, 640, 640)\n"
     ]
    },
    {
     "name": "stdout",
     "output_type": "stream",
     "text": [
      "in process: 724/1000\r"
     ]
    },
    {
     "name": "stderr",
     "output_type": "stream",
     "text": [
      "\n"
     ]
    },
    {
     "name": "stdout",
     "output_type": "stream",
     "text": [
      "in process: 725/1000\r"
     ]
    },
    {
     "name": "stderr",
     "output_type": "stream",
     "text": [
      "0: 640x480 1 content, 2 dates, 3 numbers, 1 sender, 1 signer, 105.6ms\n",
      "Speed: 0.3ms preprocess, 105.6ms inference, 0.3ms postprocess per image at shape (1, 3, 640, 640)\n",
      "\n",
      "0: 192x640 2 handwrites, 2 typewrittens, 15.6ms\n",
      "Speed: 0.4ms preprocess, 15.6ms inference, 0.6ms postprocess per image at shape (1, 3, 640, 640)\n",
      "\n",
      "0: 192x640 1 typewritten, 15.4ms\n",
      "Speed: 0.1ms preprocess, 15.4ms inference, 0.6ms postprocess per image at shape (1, 3, 640, 640)\n",
      "\n",
      "0: 160x640 1 handwrite, 1 typewritten, 14.9ms\n",
      "Speed: 0.2ms preprocess, 14.9ms inference, 0.7ms postprocess per image at shape (1, 3, 640, 640)\n",
      "\n",
      "0: 224x640 1 handwrite, 1 typewritten, 16.2ms\n",
      "Speed: 0.1ms preprocess, 16.2ms inference, 0.6ms postprocess per image at shape (1, 3, 640, 640)\n",
      "\n",
      "0: 320x640 1 typewritten, 19.6ms\n",
      "Speed: 0.2ms preprocess, 19.6ms inference, 0.6ms postprocess per image at shape (1, 3, 640, 640)\n",
      "\n"
     ]
    },
    {
     "name": "stdout",
     "output_type": "stream",
     "text": [
      "in process: 726/1000\r"
     ]
    },
    {
     "name": "stderr",
     "output_type": "stream",
     "text": [
      "0: 640x480 1 content, 1 date, 1 number, 1 sender, 1 signer, 108.5ms\n",
      "Speed: 0.3ms preprocess, 108.5ms inference, 0.4ms postprocess per image at shape (1, 3, 640, 640)\n",
      "\n",
      "0: 128x640 1 handwrite, 12.7ms\n",
      "Speed: 0.2ms preprocess, 12.7ms inference, 0.6ms postprocess per image at shape (1, 3, 640, 640)\n",
      "\n",
      "0: 192x640 1 handwrite, 17.4ms\n",
      "Speed: 0.2ms preprocess, 17.4ms inference, 0.6ms postprocess per image at shape (1, 3, 640, 640)\n"
     ]
    },
    {
     "name": "stdout",
     "output_type": "stream",
     "text": [
      "in process: 727/1000\r"
     ]
    },
    {
     "name": "stderr",
     "output_type": "stream",
     "text": [
      "\n",
      "0: 640x480 1 date, 1 number, 1 sender, 1 signer, 106.9ms\n",
      "Speed: 0.3ms preprocess, 106.9ms inference, 2.1ms postprocess per image at shape (1, 3, 640, 640)\n",
      "\n",
      "0: 128x640 1 handwrite, 8.8ms\n",
      "Speed: 0.2ms preprocess, 8.8ms inference, 0.3ms postprocess per image at shape (1, 3, 640, 640)\n",
      "\n",
      "0: 224x640 1 handwrite, 1 typewritten, 12.2ms\n",
      "Speed: 0.1ms preprocess, 12.2ms inference, 0.3ms postprocess per image at shape (1, 3, 640, 640)\n",
      "\n"
     ]
    },
    {
     "name": "stdout",
     "output_type": "stream",
     "text": [
      "in process: 728/1000\r"
     ]
    },
    {
     "name": "stderr",
     "output_type": "stream",
     "text": [
      "0: 640x480 1 content, 1 date, 1 number, 1 sender, 1 signer, 103.0ms\n",
      "Speed: 0.3ms preprocess, 103.0ms inference, 0.3ms postprocess per image at shape (1, 3, 640, 640)\n",
      "\n",
      "0: 160x640 1 handwrite, 10.6ms\n",
      "Speed: 0.2ms preprocess, 10.6ms inference, 0.3ms postprocess per image at shape (1, 3, 640, 640)\n",
      "\n",
      "0: 160x640 1 handwrite, 10.6ms\n",
      "Speed: 0.1ms preprocess, 10.6ms inference, 0.3ms postprocess per image at shape (1, 3, 640, 640)\n"
     ]
    },
    {
     "name": "stdout",
     "output_type": "stream",
     "text": [
      "in process: 729/1000\r"
     ]
    },
    {
     "name": "stderr",
     "output_type": "stream",
     "text": [
      "\n",
      "0: 640x480 1 content, 1 date, 1 number, 1 sender, 1 signer, 105.6ms\n",
      "Speed: 0.3ms preprocess, 105.6ms inference, 0.4ms postprocess per image at shape (1, 3, 640, 640)\n",
      "\n",
      "0: 192x640 1 handwrite, 11.6ms\n",
      "Speed: 0.2ms preprocess, 11.6ms inference, 0.3ms postprocess per image at shape (1, 3, 640, 640)\n",
      "\n",
      "0: 96x640 1 typewritten, 7.8ms\n",
      "Speed: 0.2ms preprocess, 7.8ms inference, 0.3ms postprocess per image at shape (1, 3, 640, 640)\n"
     ]
    },
    {
     "name": "stdout",
     "output_type": "stream",
     "text": [
      "in process: 730/1000\r"
     ]
    },
    {
     "name": "stderr",
     "output_type": "stream",
     "text": [
      "\n",
      "0: 640x480 1 content, 1 date, 1 number, 1 sender, 1 signer, 105.9ms\n",
      "Speed: 0.3ms preprocess, 105.9ms inference, 0.4ms postprocess per image at shape (1, 3, 640, 640)\n",
      "\n",
      "0: 192x640 1 handwrite, 11.4ms\n",
      "Speed: 0.2ms preprocess, 11.4ms inference, 0.3ms postprocess per image at shape (1, 3, 640, 640)\n",
      "\n",
      "0: 160x640 1 handwrite, 10.6ms\n",
      "Speed: 0.2ms preprocess, 10.6ms inference, 0.3ms postprocess per image at shape (1, 3, 640, 640)\n"
     ]
    },
    {
     "name": "stdout",
     "output_type": "stream",
     "text": [
      "in process: 731/1000\r"
     ]
    },
    {
     "name": "stderr",
     "output_type": "stream",
     "text": [
      "\n",
      "0: 640x480 1 date, 1 number, 1 sender, 1 signer, 105.9ms\n",
      "Speed: 0.3ms preprocess, 105.9ms inference, 2.1ms postprocess per image at shape (1, 3, 640, 640)\n",
      "\n",
      "0: 224x640 1 handwrite, 12.5ms\n",
      "Speed: 0.2ms preprocess, 12.5ms inference, 0.4ms postprocess per image at shape (1, 3, 640, 640)\n",
      "\n",
      "0: 128x640 1 handwrite, 8.7ms\n",
      "Speed: 0.1ms preprocess, 8.7ms inference, 0.3ms postprocess per image at shape (1, 3, 640, 640)\n",
      "\n"
     ]
    },
    {
     "name": "stdout",
     "output_type": "stream",
     "text": [
      "in process: 732/1000\r"
     ]
    },
    {
     "name": "stderr",
     "output_type": "stream",
     "text": [
      "0: 640x480 1 date, 1 number, 1 sender, 1 signer, 108.5ms\n",
      "Speed: 0.3ms preprocess, 108.5ms inference, 0.3ms postprocess per image at shape (1, 3, 640, 640)\n",
      "\n",
      "0: 192x640 1 handwrite, 15.9ms\n",
      "Speed: 0.2ms preprocess, 15.9ms inference, 0.6ms postprocess per image at shape (1, 3, 640, 640)\n",
      "\n",
      "0: 160x640 1 handwrite, 14.8ms\n",
      "Speed: 0.1ms preprocess, 14.8ms inference, 0.6ms postprocess per image at shape (1, 3, 640, 640)\n",
      "\n"
     ]
    },
    {
     "name": "stdout",
     "output_type": "stream",
     "text": [
      "in process: 733/1000\r"
     ]
    },
    {
     "name": "stderr",
     "output_type": "stream",
     "text": [
      "0: 640x480 1 sender, 106.4ms\n",
      "Speed: 0.3ms preprocess, 106.4ms inference, 1.8ms postprocess per image at shape (1, 3, 640, 640)\n",
      "\n",
      "0: 640x480 (no detections), 105.0ms\n",
      "Speed: 0.3ms preprocess, 105.0ms inference, 0.2ms postprocess per image at shape (1, 3, 640, 640)\n"
     ]
    },
    {
     "name": "stdout",
     "output_type": "stream",
     "text": [
      "in process: 734/1000\r"
     ]
    },
    {
     "name": "stderr",
     "output_type": "stream",
     "text": [
      "\n",
      "0: 640x480 1 content, 1 date, 1 number, 1 sender, 102.9ms\n",
      "Speed: 0.3ms preprocess, 102.9ms inference, 1.4ms postprocess per image at shape (1, 3, 640, 640)\n",
      "\n",
      "0: 192x640 2 typewrittens, 16.0ms\n",
      "Speed: 0.2ms preprocess, 16.0ms inference, 0.6ms postprocess per image at shape (1, 3, 640, 640)\n",
      "\n",
      "0: 224x640 1 typewritten, 16.4ms\n",
      "Speed: 0.2ms preprocess, 16.4ms inference, 0.6ms postprocess per image at shape (1, 3, 640, 640)\n",
      "\n",
      "0: 640x480 (no detections), 103.7ms\n",
      "Speed: 0.3ms preprocess, 103.7ms inference, 0.3ms postprocess per image at shape (1, 3, 640, 640)\n",
      "\n",
      "0: 480x640 (no detections), 106.4ms\n",
      "Speed: 0.3ms preprocess, 106.4ms inference, 0.2ms postprocess per image at shape (1, 3, 640, 640)\n",
      "\n",
      "0: 480x640 2 signers, 105.4ms\n",
      "Speed: 0.3ms preprocess, 105.4ms inference, 0.3ms postprocess per image at shape (1, 3, 640, 640)\n"
     ]
    },
    {
     "name": "stdout",
     "output_type": "stream",
     "text": [
      "in process: 735/1000\r"
     ]
    },
    {
     "name": "stderr",
     "output_type": "stream",
     "text": [
      "\n",
      "0: 640x480 1 signer, 102.6ms\n",
      "Speed: 0.3ms preprocess, 102.6ms inference, 1.6ms postprocess per image at shape (1, 3, 640, 640)\n"
     ]
    },
    {
     "name": "stdout",
     "output_type": "stream",
     "text": [
      "in process: 736/1000\r"
     ]
    },
    {
     "name": "stderr",
     "output_type": "stream",
     "text": [
      "\n",
      "0: 640x480 1 content, 1 date, 1 number, 1 sender, 1 signer, 103.3ms\n",
      "Speed: 0.3ms preprocess, 103.3ms inference, 0.4ms postprocess per image at shape (1, 3, 640, 640)\n",
      "\n",
      "0: 128x640 1 handwrite, 8.8ms\n",
      "Speed: 0.2ms preprocess, 8.8ms inference, 0.3ms postprocess per image at shape (1, 3, 640, 640)\n",
      "\n",
      "0: 192x640 1 handwrite, 15.9ms\n",
      "Speed: 0.2ms preprocess, 15.9ms inference, 0.6ms postprocess per image at shape (1, 3, 640, 640)\n"
     ]
    },
    {
     "name": "stdout",
     "output_type": "stream",
     "text": [
      "in process: 737/1000\r"
     ]
    },
    {
     "name": "stderr",
     "output_type": "stream",
     "text": [
      "\n",
      "0: 640x480 1 date, 1 number, 1 sender, 1 signer, 105.4ms\n",
      "Speed: 0.3ms preprocess, 105.4ms inference, 2.2ms postprocess per image at shape (1, 3, 640, 640)\n",
      "\n",
      "0: 96x640 1 handwrite, 7.8ms\n",
      "Speed: 0.2ms preprocess, 7.8ms inference, 0.3ms postprocess per image at shape (1, 3, 640, 640)\n",
      "\n",
      "0: 128x640 1 handwrite, 8.8ms\n",
      "Speed: 0.1ms preprocess, 8.8ms inference, 0.3ms postprocess per image at shape (1, 3, 640, 640)\n",
      "\n"
     ]
    },
    {
     "name": "stdout",
     "output_type": "stream",
     "text": [
      "in process: 738/1000\r"
     ]
    },
    {
     "name": "stderr",
     "output_type": "stream",
     "text": [
      "0: 640x480 1 date, 1 number, 1 sender, 1 signer, 105.3ms\n",
      "Speed: 0.3ms preprocess, 105.3ms inference, 0.4ms postprocess per image at shape (1, 3, 640, 640)\n",
      "\n",
      "0: 96x640 1 handwrite, 12.0ms\n",
      "Speed: 0.2ms preprocess, 12.0ms inference, 0.6ms postprocess per image at shape (1, 3, 640, 640)\n",
      "\n",
      "0: 128x640 1 handwrite, 12.6ms\n",
      "Speed: 0.1ms preprocess, 12.6ms inference, 0.6ms postprocess per image at shape (1, 3, 640, 640)\n"
     ]
    },
    {
     "name": "stdout",
     "output_type": "stream",
     "text": [
      "in process: 739/1000\r"
     ]
    },
    {
     "name": "stderr",
     "output_type": "stream",
     "text": [
      "\n",
      "0: 640x480 1 content, 1 date, 1 number, 1 sender, 1 signer, 105.2ms\n",
      "Speed: 0.3ms preprocess, 105.2ms inference, 1.6ms postprocess per image at shape (1, 3, 640, 640)\n",
      "\n",
      "0: 224x640 1 handwrite, 12.4ms\n",
      "Speed: 0.2ms preprocess, 12.4ms inference, 0.3ms postprocess per image at shape (1, 3, 640, 640)\n",
      "\n",
      "0: 192x640 1 handwrite, 11.5ms\n",
      "Speed: 0.1ms preprocess, 11.5ms inference, 0.3ms postprocess per image at shape (1, 3, 640, 640)\n"
     ]
    },
    {
     "name": "stdout",
     "output_type": "stream",
     "text": [
      "in process: 740/1000\r"
     ]
    },
    {
     "name": "stderr",
     "output_type": "stream",
     "text": [
      "\n",
      "0: 640x480 1 content, 1 date, 1 number, 1 sender, 105.6ms\n",
      "Speed: 0.3ms preprocess, 105.6ms inference, 0.3ms postprocess per image at shape (1, 3, 640, 640)\n",
      "\n",
      "0: 160x640 1 handwrite, 10.6ms\n",
      "Speed: 0.2ms preprocess, 10.6ms inference, 0.3ms postprocess per image at shape (1, 3, 640, 640)\n",
      "\n",
      "0: 192x640 1 handwrite, 11.5ms\n",
      "Speed: 0.2ms preprocess, 11.5ms inference, 0.3ms postprocess per image at shape (1, 3, 640, 640)\n",
      "\n",
      "0: 640x480 1 signer, 104.3ms\n",
      "Speed: 0.3ms preprocess, 104.3ms inference, 0.3ms postprocess per image at shape (1, 3, 640, 640)\n"
     ]
    },
    {
     "name": "stdout",
     "output_type": "stream",
     "text": [
      "in process: 741/1000\r"
     ]
    },
    {
     "name": "stderr",
     "output_type": "stream",
     "text": [
      "\n",
      "0: 640x480 1 date, 1 number, 1 sender, 105.2ms\n",
      "Speed: 0.3ms preprocess, 105.2ms inference, 0.3ms postprocess per image at shape (1, 3, 640, 640)\n",
      "\n",
      "0: 128x640 1 handwrite, 2 typewrittens, 8.8ms\n",
      "Speed: 0.2ms preprocess, 8.8ms inference, 0.3ms postprocess per image at shape (1, 3, 640, 640)\n",
      "\n",
      "0: 160x640 1 typewritten, 10.6ms\n",
      "Speed: 0.2ms preprocess, 10.6ms inference, 0.3ms postprocess per image at shape (1, 3, 640, 640)\n",
      "\n",
      "0: 640x480 1 signer, 102.5ms\n",
      "Speed: 0.3ms preprocess, 102.5ms inference, 0.3ms postprocess per image at shape (1, 3, 640, 640)\n"
     ]
    },
    {
     "name": "stdout",
     "output_type": "stream",
     "text": [
      "in process: 742/1000\r"
     ]
    },
    {
     "name": "stderr",
     "output_type": "stream",
     "text": [
      "\n",
      "0: 640x480 1 date, 1 number, 1 sender, 1 signer, 102.9ms\n",
      "Speed: 0.3ms preprocess, 102.9ms inference, 2.0ms postprocess per image at shape (1, 3, 640, 640)\n",
      "\n",
      "0: 160x640 1 handwrite, 15.7ms\n",
      "Speed: 0.2ms preprocess, 15.7ms inference, 1.0ms postprocess per image at shape (1, 3, 640, 640)\n",
      "\n",
      "0: 160x640 1 handwrite, 16.7ms\n",
      "Speed: 0.1ms preprocess, 16.7ms inference, 0.7ms postprocess per image at shape (1, 3, 640, 640)\n"
     ]
    },
    {
     "name": "stdout",
     "output_type": "stream",
     "text": [
      "in process: 743/1000\r"
     ]
    },
    {
     "name": "stderr",
     "output_type": "stream",
     "text": [
      "\n",
      "0: 640x480 1 date, 1 number, 1 sender, 1 signer, 105.2ms\n",
      "Speed: 0.3ms preprocess, 105.2ms inference, 0.4ms postprocess per image at shape (1, 3, 640, 640)\n",
      "\n",
      "0: 224x640 1 handwrite, 12.4ms\n",
      "Speed: 0.2ms preprocess, 12.4ms inference, 0.3ms postprocess per image at shape (1, 3, 640, 640)\n",
      "\n",
      "0: 192x640 1 typewritten, 11.3ms\n",
      "Speed: 0.2ms preprocess, 11.3ms inference, 0.3ms postprocess per image at shape (1, 3, 640, 640)\n"
     ]
    },
    {
     "name": "stdout",
     "output_type": "stream",
     "text": [
      "in process: 744/1000\r"
     ]
    },
    {
     "name": "stderr",
     "output_type": "stream",
     "text": [
      "\n",
      "0: 640x480 1 date, 1 number, 1 sender, 1 signer, 102.7ms\n",
      "Speed: 0.3ms preprocess, 102.7ms inference, 0.4ms postprocess per image at shape (1, 3, 640, 640)\n",
      "\n",
      "0: 128x640 1 handwrite, 8.8ms\n",
      "Speed: 0.2ms preprocess, 8.8ms inference, 0.3ms postprocess per image at shape (1, 3, 640, 640)\n",
      "\n",
      "0: 160x640 1 handwrite, 1 typewritten, 10.6ms\n",
      "Speed: 0.1ms preprocess, 10.6ms inference, 0.3ms postprocess per image at shape (1, 3, 640, 640)\n",
      "\n"
     ]
    },
    {
     "name": "stdout",
     "output_type": "stream",
     "text": [
      "in process: 745/1000\r"
     ]
    },
    {
     "name": "stderr",
     "output_type": "stream",
     "text": [
      "0: 640x480 1 date, 1 number, 1 sender, 1 signer, 103.0ms\n",
      "Speed: 0.3ms preprocess, 103.0ms inference, 1.9ms postprocess per image at shape (1, 3, 640, 640)\n",
      "\n",
      "0: 160x640 1 handwrite, 1 typewritten, 10.8ms\n",
      "Speed: 0.2ms preprocess, 10.8ms inference, 0.3ms postprocess per image at shape (1, 3, 640, 640)\n",
      "\n",
      "0: 192x640 1 typewritten, 11.4ms\n",
      "Speed: 0.1ms preprocess, 11.4ms inference, 0.3ms postprocess per image at shape (1, 3, 640, 640)\n",
      "\n"
     ]
    },
    {
     "name": "stdout",
     "output_type": "stream",
     "text": [
      "in process: 746/1000\r"
     ]
    },
    {
     "name": "stderr",
     "output_type": "stream",
     "text": [
      "0: 640x416 1 content, 1 date, 1 number, 1 sender, 1 signer, 90.4ms\n",
      "Speed: 0.3ms preprocess, 90.4ms inference, 0.3ms postprocess per image at shape (1, 3, 640, 640)\n",
      "\n",
      "0: 160x640 1 handwrite, 1 typewritten, 10.6ms\n",
      "Speed: 0.2ms preprocess, 10.6ms inference, 0.3ms postprocess per image at shape (1, 3, 640, 640)\n",
      "\n",
      "0: 224x640 1 handwrite, 1 typewritten, 12.3ms\n",
      "Speed: 0.2ms preprocess, 12.3ms inference, 0.3ms postprocess per image at shape (1, 3, 640, 640)\n",
      "\n"
     ]
    },
    {
     "name": "stdout",
     "output_type": "stream",
     "text": [
      "in process: 747/1000\r"
     ]
    },
    {
     "name": "stderr",
     "output_type": "stream",
     "text": [
      "0: 640x480 1 date, 1 number, 1 sender, 104.8ms\n",
      "Speed: 0.3ms preprocess, 104.8ms inference, 1.5ms postprocess per image at shape (1, 3, 640, 640)\n",
      "\n",
      "0: 288x640 1 typewritten, 14.6ms\n",
      "Speed: 0.2ms preprocess, 14.6ms inference, 0.3ms postprocess per image at shape (1, 3, 640, 640)\n",
      "\n",
      "0: 160x640 1 typewritten, 10.8ms\n",
      "Speed: 0.2ms preprocess, 10.8ms inference, 0.3ms postprocess per image at shape (1, 3, 640, 640)\n",
      "\n",
      "0: 640x480 1 sender, 1 signer, 110.4ms\n",
      "Speed: 0.3ms preprocess, 110.4ms inference, 0.5ms postprocess per image at shape (1, 3, 640, 640)\n"
     ]
    },
    {
     "name": "stdout",
     "output_type": "stream",
     "text": [
      "in process: 748/1000\r"
     ]
    },
    {
     "name": "stderr",
     "output_type": "stream",
     "text": [
      "\n",
      "0: 640x480 1 content, 1 date, 1 number, 1 sender, 105.0ms\n",
      "Speed: 0.3ms preprocess, 105.0ms inference, 1.7ms postprocess per image at shape (1, 3, 640, 640)\n",
      "\n",
      "0: 128x640 1 handwrite, 8.8ms\n",
      "Speed: 0.2ms preprocess, 8.8ms inference, 0.3ms postprocess per image at shape (1, 3, 640, 640)\n",
      "\n",
      "0: 160x640 1 handwrite, 10.6ms\n",
      "Speed: 0.2ms preprocess, 10.6ms inference, 0.3ms postprocess per image at shape (1, 3, 640, 640)\n",
      "\n",
      "0: 640x480 1 signer, 103.3ms\n",
      "Speed: 0.3ms preprocess, 103.3ms inference, 0.3ms postprocess per image at shape (1, 3, 640, 640)\n"
     ]
    },
    {
     "name": "stdout",
     "output_type": "stream",
     "text": [
      "in process: 749/1000\r"
     ]
    },
    {
     "name": "stderr",
     "output_type": "stream",
     "text": [
      "\n",
      "0: 640x480 1 date, 1 number, 1 sender, 1 signer, 103.1ms\n",
      "Speed: 0.3ms preprocess, 103.1ms inference, 2.1ms postprocess per image at shape (1, 3, 640, 640)\n",
      "\n",
      "0: 160x640 2 typewrittens, 10.9ms\n",
      "Speed: 0.2ms preprocess, 10.9ms inference, 0.3ms postprocess per image at shape (1, 3, 640, 640)\n",
      "\n",
      "0: 160x640 1 typewritten, 10.7ms\n",
      "Speed: 0.2ms preprocess, 10.7ms inference, 0.3ms postprocess per image at shape (1, 3, 640, 640)\n"
     ]
    },
    {
     "name": "stdout",
     "output_type": "stream",
     "text": [
      "in process: 750/1000\r"
     ]
    },
    {
     "name": "stderr",
     "output_type": "stream",
     "text": [
      "\n",
      "0: 640x480 1 content, 1 date, 1 number, 1 sender, 104.8ms\n",
      "Speed: 0.3ms preprocess, 104.8ms inference, 0.3ms postprocess per image at shape (1, 3, 640, 640)\n",
      "\n",
      "0: 160x640 1 handwrite, 1 typewritten, 10.4ms\n",
      "Speed: 0.2ms preprocess, 10.4ms inference, 0.3ms postprocess per image at shape (1, 3, 640, 640)\n",
      "\n",
      "0: 192x640 1 handwrite, 11.3ms\n",
      "Speed: 0.2ms preprocess, 11.3ms inference, 0.3ms postprocess per image at shape (1, 3, 640, 640)\n",
      "\n",
      "0: 640x480 (no detections), 103.4ms\n",
      "Speed: 0.3ms preprocess, 103.4ms inference, 0.2ms postprocess per image at shape (1, 3, 640, 640)\n",
      "\n",
      "0: 640x480 1 signer, 103.0ms\n",
      "Speed: 0.3ms preprocess, 103.0ms inference, 0.3ms postprocess per image at shape (1, 3, 640, 640)\n",
      "\n"
     ]
    },
    {
     "name": "stdout",
     "output_type": "stream",
     "text": [
      "in process: 751/1000\r"
     ]
    },
    {
     "name": "stderr",
     "output_type": "stream",
     "text": [
      "0: 640x480 1 number, 1 sender, 102.7ms\n",
      "Speed: 0.3ms preprocess, 102.7ms inference, 1.5ms postprocess per image at shape (1, 3, 640, 640)\n",
      "\n",
      "0: 160x640 1 handwrite, 10.5ms\n",
      "Speed: 0.2ms preprocess, 10.5ms inference, 0.3ms postprocess per image at shape (1, 3, 640, 640)\n",
      "\n",
      "0: 640x480 1 signer, 103.4ms\n",
      "Speed: 0.3ms preprocess, 103.4ms inference, 0.3ms postprocess per image at shape (1, 3, 640, 640)\n",
      "\n"
     ]
    },
    {
     "name": "stdout",
     "output_type": "stream",
     "text": [
      "in process: 752/1000\r"
     ]
    },
    {
     "name": "stderr",
     "output_type": "stream",
     "text": [
      "0: 640x480 1 date, 1 number, 1 sender, 102.5ms\n",
      "Speed: 0.3ms preprocess, 102.5ms inference, 1.5ms postprocess per image at shape (1, 3, 640, 640)\n",
      "\n",
      "0: 128x640 1 handwrite, 8.9ms\n",
      "Speed: 0.2ms preprocess, 8.9ms inference, 0.3ms postprocess per image at shape (1, 3, 640, 640)\n",
      "\n",
      "0: 128x640 1 handwrite, 11.4ms\n",
      "Speed: 0.2ms preprocess, 11.4ms inference, 0.6ms postprocess per image at shape (1, 3, 640, 640)\n",
      "\n",
      "0: 640x480 (no detections), 104.7ms\n",
      "Speed: 0.3ms preprocess, 104.7ms inference, 0.2ms postprocess per image at shape (1, 3, 640, 640)\n",
      "\n"
     ]
    },
    {
     "name": "stdout",
     "output_type": "stream",
     "text": [
      "in process: 753/1000\r"
     ]
    },
    {
     "name": "stderr",
     "output_type": "stream",
     "text": [
      "0: 640x480 1 content, 1 date, 1 number, 1 sender, 1 signer, 102.9ms\n",
      "Speed: 0.3ms preprocess, 102.9ms inference, 1.5ms postprocess per image at shape (1, 3, 640, 640)\n",
      "\n",
      "0: 160x640 1 handwrite, 15.0ms\n",
      "Speed: 0.2ms preprocess, 15.0ms inference, 0.6ms postprocess per image at shape (1, 3, 640, 640)\n",
      "\n",
      "0: 128x640 1 handwrite, 12.6ms\n",
      "Speed: 0.1ms preprocess, 12.6ms inference, 0.6ms postprocess per image at shape (1, 3, 640, 640)\n",
      "\n"
     ]
    },
    {
     "name": "stdout",
     "output_type": "stream",
     "text": [
      "in process: 754/1000\r"
     ]
    },
    {
     "name": "stderr",
     "output_type": "stream",
     "text": [
      "0: 640x480 1 content, 1 date, 1 number, 1 sender, 1 signer, 105.0ms\n",
      "Speed: 0.3ms preprocess, 105.0ms inference, 0.4ms postprocess per image at shape (1, 3, 640, 640)\n",
      "\n",
      "0: 128x640 1 handwrite, 8.8ms\n",
      "Speed: 0.2ms preprocess, 8.8ms inference, 0.3ms postprocess per image at shape (1, 3, 640, 640)\n",
      "\n",
      "0: 192x640 1 handwrite, 11.6ms\n",
      "Speed: 0.1ms preprocess, 11.6ms inference, 0.3ms postprocess per image at shape (1, 3, 640, 640)\n"
     ]
    },
    {
     "name": "stdout",
     "output_type": "stream",
     "text": [
      "in process: 755/1000\r"
     ]
    },
    {
     "name": "stderr",
     "output_type": "stream",
     "text": [
      "\n",
      "0: 480x640 1 number, 1 sender, 106.3ms\n",
      "Speed: 0.3ms preprocess, 106.3ms inference, 1.9ms postprocess per image at shape (1, 3, 640, 640)\n",
      "\n",
      "0: 192x640 1 typewritten, 11.3ms\n",
      "Speed: 0.2ms preprocess, 11.3ms inference, 0.3ms postprocess per image at shape (1, 3, 640, 640)\n",
      "\n",
      "0: 640x480 (no detections), 108.1ms\n",
      "Speed: 0.3ms preprocess, 108.1ms inference, 0.2ms postprocess per image at shape (1, 3, 640, 640)\n",
      "\n",
      "0: 640x480 (no detections), 102.5ms\n",
      "Speed: 0.3ms preprocess, 102.5ms inference, 0.2ms postprocess per image at shape (1, 3, 640, 640)\n",
      "\n",
      "0: 640x480 1 sender, 107.5ms\n",
      "Speed: 0.3ms preprocess, 107.5ms inference, 0.3ms postprocess per image at shape (1, 3, 640, 640)\n",
      "\n",
      "0: 640x480 (no detections), 105.2ms\n",
      "Speed: 0.3ms preprocess, 105.2ms inference, 0.2ms postprocess per image at shape (1, 3, 640, 640)\n",
      "\n",
      "0: 640x480 (no detections), 102.8ms\n",
      "Speed: 0.3ms preprocess, 102.8ms inference, 0.2ms postprocess per image at shape (1, 3, 640, 640)\n",
      "\n",
      "0: 640x480 (no detections), 105.6ms\n",
      "Speed: 0.3ms preprocess, 105.6ms inference, 0.2ms postprocess per image at shape (1, 3, 640, 640)\n",
      "\n",
      "0: 640x480 (no detections), 105.5ms\n",
      "Speed: 0.3ms preprocess, 105.5ms inference, 0.2ms postprocess per image at shape (1, 3, 640, 640)\n"
     ]
    },
    {
     "name": "stdout",
     "output_type": "stream",
     "text": [
      "in process: 756/1000\r"
     ]
    },
    {
     "name": "stderr",
     "output_type": "stream",
     "text": [
      "\n",
      "0: 480x640 1 sender, 1 signer, 112.9ms\n",
      "Speed: 0.3ms preprocess, 112.9ms inference, 0.7ms postprocess per image at shape (1, 3, 640, 640)\n"
     ]
    },
    {
     "name": "stdout",
     "output_type": "stream",
     "text": [
      "in process: 757/1000\r"
     ]
    },
    {
     "name": "stderr",
     "output_type": "stream",
     "text": [
      "\n",
      "0: 640x480 1 date, 1 number, 2 senders, 1 signer, 105.3ms\n",
      "Speed: 0.3ms preprocess, 105.3ms inference, 0.3ms postprocess per image at shape (1, 3, 640, 640)\n",
      "\n",
      "0: 160x640 1 handwrite, 10.8ms\n",
      "Speed: 0.2ms preprocess, 10.8ms inference, 0.3ms postprocess per image at shape (1, 3, 640, 640)\n",
      "\n",
      "0: 160x640 1 handwrite, 14.7ms\n",
      "Speed: 0.2ms preprocess, 14.7ms inference, 0.6ms postprocess per image at shape (1, 3, 640, 640)\n"
     ]
    },
    {
     "name": "stdout",
     "output_type": "stream",
     "text": [
      "in process: 758/1000\r"
     ]
    },
    {
     "name": "stderr",
     "output_type": "stream",
     "text": [
      "\n",
      "0: 640x480 1 content, 1 date, 1 number, 1 sender, 105.2ms\n",
      "Speed: 0.3ms preprocess, 105.2ms inference, 1.8ms postprocess per image at shape (1, 3, 640, 640)\n",
      "\n",
      "0: 192x640 1 handwrite, 11.4ms\n",
      "Speed: 0.2ms preprocess, 11.4ms inference, 0.3ms postprocess per image at shape (1, 3, 640, 640)\n",
      "\n",
      "0: 160x640 1 handwrite, 10.4ms\n",
      "Speed: 0.1ms preprocess, 10.4ms inference, 0.3ms postprocess per image at shape (1, 3, 640, 640)\n",
      "\n",
      "0: 640x480 1 sender, 1 signer, 105.5ms\n",
      "Speed: 0.3ms preprocess, 105.5ms inference, 0.3ms postprocess per image at shape (1, 3, 640, 640)\n"
     ]
    },
    {
     "name": "stdout",
     "output_type": "stream",
     "text": [
      "in process: 759/1000\r"
     ]
    },
    {
     "name": "stderr",
     "output_type": "stream",
     "text": [
      "\n",
      "0: 640x480 2 senders, 105.7ms\n",
      "Speed: 0.3ms preprocess, 105.7ms inference, 1.6ms postprocess per image at shape (1, 3, 640, 640)\n",
      "\n",
      "0: 640x480 (no detections), 107.6ms\n",
      "Speed: 0.3ms preprocess, 107.6ms inference, 0.2ms postprocess per image at shape (1, 3, 640, 640)\n",
      "\n",
      "0: 640x480 1 signer, 105.3ms\n",
      "Speed: 0.3ms preprocess, 105.3ms inference, 0.3ms postprocess per image at shape (1, 3, 640, 640)\n"
     ]
    },
    {
     "name": "stdout",
     "output_type": "stream",
     "text": [
      "in process: 760/1000\r"
     ]
    },
    {
     "name": "stderr",
     "output_type": "stream",
     "text": [
      "\n",
      "0: 640x480 1 content, 1 date, 1 sender, 105.5ms\n",
      "Speed: 0.3ms preprocess, 105.5ms inference, 1.6ms postprocess per image at shape (1, 3, 640, 640)\n",
      "\n",
      "0: 160x640 2 typewrittens, 10.5ms\n",
      "Speed: 0.2ms preprocess, 10.5ms inference, 0.3ms postprocess per image at shape (1, 3, 640, 640)\n",
      "\n",
      "0: 640x480 2 signers, 102.5ms\n",
      "Speed: 0.3ms preprocess, 102.5ms inference, 0.3ms postprocess per image at shape (1, 3, 640, 640)\n"
     ]
    },
    {
     "name": "stdout",
     "output_type": "stream",
     "text": [
      "in process: 761/1000\r"
     ]
    },
    {
     "name": "stderr",
     "output_type": "stream",
     "text": [
      "\n",
      "0: 640x480 1 date, 1 number, 2 senders, 103.1ms\n",
      "Speed: 0.3ms preprocess, 103.1ms inference, 1.6ms postprocess per image at shape (1, 3, 640, 640)\n",
      "\n",
      "0: 128x640 1 handwrite, 8.9ms\n",
      "Speed: 0.1ms preprocess, 8.9ms inference, 0.3ms postprocess per image at shape (1, 3, 640, 640)\n",
      "\n",
      "0: 256x640 1 handwrite, 17.6ms\n",
      "Speed: 0.1ms preprocess, 17.6ms inference, 0.4ms postprocess per image at shape (1, 3, 640, 640)\n",
      "\n",
      "0: 640x480 1 signer, 106.1ms\n",
      "Speed: 0.3ms preprocess, 106.1ms inference, 0.3ms postprocess per image at shape (1, 3, 640, 640)\n"
     ]
    },
    {
     "name": "stdout",
     "output_type": "stream",
     "text": [
      "in process: 762/1000\r"
     ]
    },
    {
     "name": "stderr",
     "output_type": "stream",
     "text": [
      "\n",
      "0: 480x640 1 number, 1 sender, 107.3ms\n",
      "Speed: 0.3ms preprocess, 107.3ms inference, 1.5ms postprocess per image at shape (1, 3, 640, 640)\n",
      "\n",
      "0: 192x640 1 typewritten, 13.0ms\n",
      "Speed: 0.2ms preprocess, 13.0ms inference, 0.3ms postprocess per image at shape (1, 3, 640, 640)\n",
      "\n",
      "0: 640x480 (no detections), 103.0ms\n",
      "Speed: 0.3ms preprocess, 103.0ms inference, 0.2ms postprocess per image at shape (1, 3, 640, 640)\n",
      "\n",
      "0: 640x480 (no detections), 105.2ms\n",
      "Speed: 0.3ms preprocess, 105.2ms inference, 0.2ms postprocess per image at shape (1, 3, 640, 640)\n",
      "\n",
      "0: 640x480 (no detections), 104.9ms\n",
      "Speed: 0.3ms preprocess, 104.9ms inference, 0.2ms postprocess per image at shape (1, 3, 640, 640)\n",
      "\n",
      "0: 640x480 (no detections), 103.7ms\n",
      "Speed: 0.3ms preprocess, 103.7ms inference, 0.2ms postprocess per image at shape (1, 3, 640, 640)\n",
      "\n",
      "0: 640x480 (no detections), 102.3ms\n",
      "Speed: 0.3ms preprocess, 102.3ms inference, 0.2ms postprocess per image at shape (1, 3, 640, 640)\n",
      "\n",
      "0: 640x480 (no detections), 103.9ms\n",
      "Speed: 0.3ms preprocess, 103.9ms inference, 0.2ms postprocess per image at shape (1, 3, 640, 640)\n"
     ]
    },
    {
     "name": "stdout",
     "output_type": "stream",
     "text": [
      "in process: 763/1000\r"
     ]
    },
    {
     "name": "stderr",
     "output_type": "stream",
     "text": [
      "\n",
      "0: 640x480 1 date, 1 number, 1 sender, 1 signer, 104.3ms\n",
      "Speed: 0.3ms preprocess, 104.3ms inference, 0.3ms postprocess per image at shape (1, 3, 640, 640)\n",
      "\n",
      "0: 160x640 1 typewritten, 11.5ms\n",
      "Speed: 0.2ms preprocess, 11.5ms inference, 0.4ms postprocess per image at shape (1, 3, 640, 640)\n",
      "\n",
      "0: 192x640 1 typewritten, 11.4ms\n",
      "Speed: 0.2ms preprocess, 11.4ms inference, 0.3ms postprocess per image at shape (1, 3, 640, 640)\n",
      "\n"
     ]
    },
    {
     "name": "stdout",
     "output_type": "stream",
     "text": [
      "in process: 764/1000\r"
     ]
    },
    {
     "name": "stderr",
     "output_type": "stream",
     "text": [
      "0: 640x480 (no detections), 105.6ms\n",
      "Speed: 0.3ms preprocess, 105.6ms inference, 0.2ms postprocess per image at shape (1, 3, 640, 640)\n",
      "\n",
      "0: 640x480 (no detections), 105.4ms\n",
      "Speed: 0.3ms preprocess, 105.4ms inference, 0.2ms postprocess per image at shape (1, 3, 640, 640)\n"
     ]
    },
    {
     "name": "stdout",
     "output_type": "stream",
     "text": [
      "in process: 765/1000\r"
     ]
    },
    {
     "name": "stderr",
     "output_type": "stream",
     "text": [
      "\n",
      "0: 640x480 1 date, 1 number, 1 sender, 2 signers, 105.5ms\n",
      "Speed: 0.3ms preprocess, 105.5ms inference, 1.8ms postprocess per image at shape (1, 3, 640, 640)\n",
      "\n",
      "0: 128x640 1 handwrite, 8.9ms\n",
      "Speed: 0.2ms preprocess, 8.9ms inference, 0.3ms postprocess per image at shape (1, 3, 640, 640)\n",
      "\n",
      "0: 160x640 1 handwrite, 10.7ms\n",
      "Speed: 0.2ms preprocess, 10.7ms inference, 0.3ms postprocess per image at shape (1, 3, 640, 640)\n"
     ]
    },
    {
     "name": "stdout",
     "output_type": "stream",
     "text": [
      "in process: 766/1000\r"
     ]
    },
    {
     "name": "stderr",
     "output_type": "stream",
     "text": [
      "\n",
      "0: 640x480 1 content, 2 numbers, 1 signer, 105.9ms\n",
      "Speed: 0.3ms preprocess, 105.9ms inference, 0.4ms postprocess per image at shape (1, 3, 640, 640)\n",
      "\n",
      "0: 160x640 1 handwrite, 13.7ms\n",
      "Speed: 0.1ms preprocess, 13.7ms inference, 0.6ms postprocess per image at shape (1, 3, 640, 640)\n",
      "\n",
      "0: 160x640 1 handwrite, 12.0ms\n",
      "Speed: 0.2ms preprocess, 12.0ms inference, 0.5ms postprocess per image at shape (1, 3, 640, 640)\n",
      "\n"
     ]
    },
    {
     "name": "stdout",
     "output_type": "stream",
     "text": [
      "in process: 767/1000\r"
     ]
    },
    {
     "name": "stderr",
     "output_type": "stream",
     "text": [
      "0: 640x480 1 content, 1 date, 1 number, 1 sender, 1 signer, 106.0ms\n",
      "Speed: 0.3ms preprocess, 106.0ms inference, 2.0ms postprocess per image at shape (1, 3, 640, 640)\n",
      "\n",
      "0: 192x640 1 handwrite, 11.5ms\n",
      "Speed: 0.2ms preprocess, 11.5ms inference, 0.3ms postprocess per image at shape (1, 3, 640, 640)\n",
      "\n",
      "0: 224x640 1 handwrite, 12.4ms\n",
      "Speed: 0.2ms preprocess, 12.4ms inference, 0.3ms postprocess per image at shape (1, 3, 640, 640)\n"
     ]
    },
    {
     "name": "stdout",
     "output_type": "stream",
     "text": [
      "in process: 768/1000\r"
     ]
    },
    {
     "name": "stderr",
     "output_type": "stream",
     "text": [
      "\n",
      "0: 640x480 1 date, 1 number, 1 sender, 1 signer, 105.8ms\n",
      "Speed: 0.3ms preprocess, 105.8ms inference, 0.4ms postprocess per image at shape (1, 3, 640, 640)\n",
      "\n",
      "0: 160x640 1 handwrite, 10.7ms\n",
      "Speed: 0.2ms preprocess, 10.7ms inference, 0.3ms postprocess per image at shape (1, 3, 640, 640)\n",
      "\n",
      "0: 256x640 1 handwrite, 13.1ms\n",
      "Speed: 0.1ms preprocess, 13.1ms inference, 0.3ms postprocess per image at shape (1, 3, 640, 640)\n"
     ]
    },
    {
     "name": "stdout",
     "output_type": "stream",
     "text": [
      "in process: 769/1000\r"
     ]
    },
    {
     "name": "stderr",
     "output_type": "stream",
     "text": [
      "\n",
      "0: 640x480 1 date, 1 number, 1 sender, 1 signer, 107.8ms\n",
      "Speed: 0.3ms preprocess, 107.8ms inference, 1.5ms postprocess per image at shape (1, 3, 640, 640)\n",
      "\n",
      "0: 128x640 1 handwrite, 8.8ms\n",
      "Speed: 0.2ms preprocess, 8.8ms inference, 0.3ms postprocess per image at shape (1, 3, 640, 640)\n",
      "\n",
      "0: 192x640 1 typewritten, 11.4ms\n",
      "Speed: 0.2ms preprocess, 11.4ms inference, 0.3ms postprocess per image at shape (1, 3, 640, 640)\n"
     ]
    },
    {
     "name": "stdout",
     "output_type": "stream",
     "text": [
      "in process: 770/1000\r"
     ]
    },
    {
     "name": "stderr",
     "output_type": "stream",
     "text": [
      "\n",
      "0: 640x480 1 number, 1 signer, 102.7ms\n",
      "Speed: 0.3ms preprocess, 102.7ms inference, 0.3ms postprocess per image at shape (1, 3, 640, 640)\n",
      "\n",
      "0: 224x640 1 handwrite, 12.3ms\n",
      "Speed: 0.2ms preprocess, 12.3ms inference, 0.3ms postprocess per image at shape (1, 3, 640, 640)\n"
     ]
    },
    {
     "name": "stdout",
     "output_type": "stream",
     "text": [
      "in process: 771/1000\r"
     ]
    },
    {
     "name": "stderr",
     "output_type": "stream",
     "text": [
      "\n",
      "0: 480x640 2 senders, 1 signer, 105.2ms\n",
      "Speed: 0.3ms preprocess, 105.2ms inference, 0.3ms postprocess per image at shape (1, 3, 640, 640)\n"
     ]
    },
    {
     "name": "stdout",
     "output_type": "stream",
     "text": [
      "in process: 772/1000\r"
     ]
    },
    {
     "name": "stderr",
     "output_type": "stream",
     "text": [
      "\n",
      "0: 640x480 1 date, 1 number, 1 sender, 1 signer, 103.8ms\n",
      "Speed: 0.3ms preprocess, 103.8ms inference, 0.3ms postprocess per image at shape (1, 3, 640, 640)\n",
      "\n",
      "0: 192x640 1 typewritten, 11.4ms\n",
      "Speed: 0.2ms preprocess, 11.4ms inference, 0.3ms postprocess per image at shape (1, 3, 640, 640)\n",
      "\n",
      "0: 128x640 1 handwrite, 8.7ms\n",
      "Speed: 0.2ms preprocess, 8.7ms inference, 0.3ms postprocess per image at shape (1, 3, 640, 640)\n"
     ]
    },
    {
     "name": "stdout",
     "output_type": "stream",
     "text": [
      "in process: 773/1000\r"
     ]
    },
    {
     "name": "stderr",
     "output_type": "stream",
     "text": [
      "\n",
      "0: 640x480 1 content, 1 date, 1 number, 1 sender, 103.3ms\n",
      "Speed: 0.3ms preprocess, 103.3ms inference, 1.6ms postprocess per image at shape (1, 3, 640, 640)\n",
      "\n",
      "0: 128x640 2 handwrites, 13.1ms\n",
      "Speed: 0.2ms preprocess, 13.1ms inference, 0.6ms postprocess per image at shape (1, 3, 640, 640)\n",
      "\n",
      "0: 160x640 1 handwrite, 14.9ms\n",
      "Speed: 0.1ms preprocess, 14.9ms inference, 0.6ms postprocess per image at shape (1, 3, 640, 640)\n",
      "\n",
      "0: 640x480 (no detections), 103.2ms\n",
      "Speed: 0.3ms preprocess, 103.2ms inference, 0.2ms postprocess per image at shape (1, 3, 640, 640)\n",
      "\n",
      "0: 640x480 1 signer, 105.3ms\n",
      "Speed: 0.3ms preprocess, 105.3ms inference, 0.3ms postprocess per image at shape (1, 3, 640, 640)\n",
      "\n"
     ]
    },
    {
     "name": "stdout",
     "output_type": "stream",
     "text": [
      "in process: 774/1000\r"
     ]
    },
    {
     "name": "stderr",
     "output_type": "stream",
     "text": [
      "0: 640x480 1 content, 1 date, 1 number, 1 sender, 1 signer, 104.1ms\n",
      "Speed: 0.3ms preprocess, 104.1ms inference, 0.4ms postprocess per image at shape (1, 3, 640, 640)\n",
      "\n",
      "0: 192x640 1 typewritten, 11.4ms\n",
      "Speed: 0.2ms preprocess, 11.4ms inference, 0.3ms postprocess per image at shape (1, 3, 640, 640)\n",
      "\n",
      "0: 224x640 1 handwrite, 1 typewritten, 12.4ms\n",
      "Speed: 0.2ms preprocess, 12.4ms inference, 0.3ms postprocess per image at shape (1, 3, 640, 640)\n"
     ]
    },
    {
     "name": "stdout",
     "output_type": "stream",
     "text": [
      "in process: 775/1000\r"
     ]
    },
    {
     "name": "stderr",
     "output_type": "stream",
     "text": [
      "\n",
      "0: 640x480 1 date, 1 number, 1 sender, 1 signer, 103.6ms\n",
      "Speed: 0.3ms preprocess, 103.6ms inference, 1.6ms postprocess per image at shape (1, 3, 640, 640)\n",
      "\n",
      "0: 128x640 1 typewritten, 8.8ms\n",
      "Speed: 0.7ms preprocess, 8.8ms inference, 0.3ms postprocess per image at shape (1, 3, 640, 640)\n",
      "\n",
      "0: 128x640 1 handwrite, 11.8ms\n",
      "Speed: 0.2ms preprocess, 11.8ms inference, 0.8ms postprocess per image at shape (1, 3, 640, 640)\n",
      "\n"
     ]
    },
    {
     "name": "stdout",
     "output_type": "stream",
     "text": [
      "in process: 776/1000\r"
     ]
    },
    {
     "name": "stderr",
     "output_type": "stream",
     "text": [
      "0: 640x480 1 date, 1 number, 1 sender, 1 signer, 107.0ms\n",
      "Speed: 0.3ms preprocess, 107.0ms inference, 0.3ms postprocess per image at shape (1, 3, 640, 640)\n",
      "\n",
      "0: 160x640 1 handwrite, 10.7ms\n",
      "Speed: 0.2ms preprocess, 10.7ms inference, 0.3ms postprocess per image at shape (1, 3, 640, 640)\n",
      "\n",
      "0: 128x640 1 handwrite, 8.8ms\n",
      "Speed: 0.1ms preprocess, 8.8ms inference, 0.3ms postprocess per image at shape (1, 3, 640, 640)\n"
     ]
    },
    {
     "name": "stdout",
     "output_type": "stream",
     "text": [
      "in process: 777/1000\r"
     ]
    },
    {
     "name": "stderr",
     "output_type": "stream",
     "text": [
      "\n",
      "0: 640x480 1 sender, 1 signer, 105.3ms\n",
      "Speed: 0.3ms preprocess, 105.3ms inference, 0.3ms postprocess per image at shape (1, 3, 640, 640)\n"
     ]
    },
    {
     "name": "stdout",
     "output_type": "stream",
     "text": [
      "in process: 778/1000\r"
     ]
    },
    {
     "name": "stderr",
     "output_type": "stream",
     "text": [
      "\n",
      "0: 640x480 1 date, 2 senders, 105.1ms\n",
      "Speed: 0.3ms preprocess, 105.1ms inference, 2.0ms postprocess per image at shape (1, 3, 640, 640)\n",
      "\n",
      "0: 160x640 1 handwrite, 10.6ms\n",
      "Speed: 0.2ms preprocess, 10.6ms inference, 0.3ms postprocess per image at shape (1, 3, 640, 640)\n",
      "\n",
      "0: 640x480 1 sender, 105.6ms\n",
      "Speed: 0.3ms preprocess, 105.6ms inference, 0.3ms postprocess per image at shape (1, 3, 640, 640)\n",
      "\n",
      "0: 640x480 1 signer, 108.4ms\n",
      "Speed: 0.3ms preprocess, 108.4ms inference, 0.4ms postprocess per image at shape (1, 3, 640, 640)\n"
     ]
    },
    {
     "name": "stdout",
     "output_type": "stream",
     "text": [
      "in process: 779/1000\r"
     ]
    },
    {
     "name": "stderr",
     "output_type": "stream",
     "text": [
      "\n",
      "0: 640x480 2 contents, 1 date, 1 number, 1 sender, 103.5ms\n",
      "Speed: 0.3ms preprocess, 103.5ms inference, 1.6ms postprocess per image at shape (1, 3, 640, 640)\n",
      "\n",
      "0: 160x640 1 handwrite, 10.5ms\n",
      "Speed: 0.2ms preprocess, 10.5ms inference, 0.3ms postprocess per image at shape (1, 3, 640, 640)\n",
      "\n",
      "0: 192x640 1 handwrite, 11.5ms\n",
      "Speed: 0.1ms preprocess, 11.5ms inference, 0.3ms postprocess per image at shape (1, 3, 640, 640)\n",
      "\n",
      "0: 640x480 1 signer, 105.5ms\n",
      "Speed: 0.3ms preprocess, 105.5ms inference, 0.3ms postprocess per image at shape (1, 3, 640, 640)\n",
      "\n"
     ]
    },
    {
     "name": "stdout",
     "output_type": "stream",
     "text": [
      "in process: 780/1000\r"
     ]
    },
    {
     "name": "stderr",
     "output_type": "stream",
     "text": [
      "0: 640x480 1 date, 1 number, 1 sender, 1 signer, 103.1ms\n",
      "Speed: 0.3ms preprocess, 103.1ms inference, 1.5ms postprocess per image at shape (1, 3, 640, 640)\n",
      "\n",
      "0: 224x640 1 handwrite, 12.4ms\n",
      "Speed: 0.3ms preprocess, 12.4ms inference, 0.3ms postprocess per image at shape (1, 3, 640, 640)\n",
      "\n",
      "0: 192x640 3 handwrites, 11.5ms\n",
      "Speed: 0.1ms preprocess, 11.5ms inference, 0.3ms postprocess per image at shape (1, 3, 640, 640)\n"
     ]
    },
    {
     "name": "stdout",
     "output_type": "stream",
     "text": [
      "in process: 781/1000\r"
     ]
    },
    {
     "name": "stderr",
     "output_type": "stream",
     "text": [
      "\n",
      "0: 640x480 1 content, 1 date, 1 number, 105.9ms\n",
      "Speed: 0.3ms preprocess, 105.9ms inference, 0.3ms postprocess per image at shape (1, 3, 640, 640)\n",
      "\n",
      "0: 224x640 1 handwrite, 12.3ms\n",
      "Speed: 0.1ms preprocess, 12.3ms inference, 0.3ms postprocess per image at shape (1, 3, 640, 640)\n",
      "\n",
      "0: 128x640 1 typewritten, 9.0ms\n",
      "Speed: 0.2ms preprocess, 9.0ms inference, 0.3ms postprocess per image at shape (1, 3, 640, 640)\n",
      "\n",
      "0: 640x480 1 signer, 105.2ms\n",
      "Speed: 0.3ms preprocess, 105.2ms inference, 0.3ms postprocess per image at shape (1, 3, 640, 640)\n",
      "\n",
      "0: 640x480 1 date, 1 number, 104.2ms\n",
      "Speed: 0.3ms preprocess, 104.2ms inference, 2.6ms postprocess per image at shape (1, 3, 640, 640)\n",
      "\n"
     ]
    },
    {
     "name": "stdout",
     "output_type": "stream",
     "text": [
      "in process: 782/1000\r"
     ]
    },
    {
     "name": "stderr",
     "output_type": "stream",
     "text": [
      "0: 320x640 1 handwrite, 1 typewritten, 15.8ms\n",
      "Speed: 0.2ms preprocess, 15.8ms inference, 0.4ms postprocess per image at shape (1, 3, 640, 640)\n",
      "\n",
      "0: 128x640 1 typewritten, 11.6ms\n",
      "Speed: 0.2ms preprocess, 11.6ms inference, 0.4ms postprocess per image at shape (1, 3, 640, 640)\n"
     ]
    },
    {
     "name": "stdout",
     "output_type": "stream",
     "text": [
      "in process: 783/1000\r"
     ]
    },
    {
     "name": "stderr",
     "output_type": "stream",
     "text": [
      "\n",
      "0: 640x480 1 content, 1 date, 1 number, 1 sender, 1 signer, 103.4ms\n",
      "Speed: 0.3ms preprocess, 103.4ms inference, 0.4ms postprocess per image at shape (1, 3, 640, 640)\n",
      "\n",
      "0: 128x640 1 handwrite, 8.8ms\n",
      "Speed: 0.2ms preprocess, 8.8ms inference, 0.3ms postprocess per image at shape (1, 3, 640, 640)\n",
      "\n",
      "0: 192x640 2 typewrittens, 11.5ms\n",
      "Speed: 0.1ms preprocess, 11.5ms inference, 0.3ms postprocess per image at shape (1, 3, 640, 640)\n",
      "\n"
     ]
    },
    {
     "name": "stdout",
     "output_type": "stream",
     "text": [
      "in process: 784/1000\r"
     ]
    },
    {
     "name": "stderr",
     "output_type": "stream",
     "text": [
      "0: 640x480 1 date, 1 number, 1 sender, 106.1ms\n",
      "Speed: 0.3ms preprocess, 106.1ms inference, 1.8ms postprocess per image at shape (1, 3, 640, 640)\n",
      "\n",
      "0: 96x640 1 handwrite, 1 typewritten, 8.6ms\n",
      "Speed: 0.2ms preprocess, 8.6ms inference, 0.3ms postprocess per image at shape (1, 3, 640, 640)\n",
      "\n",
      "0: 160x640 2 typewrittens, 10.7ms\n",
      "Speed: 0.2ms preprocess, 10.7ms inference, 0.3ms postprocess per image at shape (1, 3, 640, 640)\n",
      "\n",
      "0: 640x480 1 signer, 105.0ms\n",
      "Speed: 0.3ms preprocess, 105.0ms inference, 0.3ms postprocess per image at shape (1, 3, 640, 640)\n"
     ]
    },
    {
     "name": "stdout",
     "output_type": "stream",
     "text": [
      "in process: 785/1000\r"
     ]
    },
    {
     "name": "stderr",
     "output_type": "stream",
     "text": [
      "\n",
      "0: 640x480 1 content, 1 date, 1 number, 1 sender, 1 signer, 105.4ms\n",
      "Speed: 0.3ms preprocess, 105.4ms inference, 1.8ms postprocess per image at shape (1, 3, 640, 640)\n",
      "\n",
      "0: 128x640 1 handwrite, 9.0ms\n",
      "Speed: 0.2ms preprocess, 9.0ms inference, 0.3ms postprocess per image at shape (1, 3, 640, 640)\n",
      "\n",
      "0: 160x640 1 handwrite, 10.7ms\n",
      "Speed: 0.2ms preprocess, 10.7ms inference, 0.3ms postprocess per image at shape (1, 3, 640, 640)\n",
      "\n"
     ]
    },
    {
     "name": "stdout",
     "output_type": "stream",
     "text": [
      "in process: 786/1000\r"
     ]
    },
    {
     "name": "stderr",
     "output_type": "stream",
     "text": [
      "0: 640x480 1 content, 1 date, 1 number, 1 sender, 1 signer, 106.2ms\n",
      "Speed: 0.3ms preprocess, 106.2ms inference, 0.4ms postprocess per image at shape (1, 3, 640, 640)\n",
      "\n",
      "0: 160x640 1 handwrite, 10.6ms\n",
      "Speed: 0.2ms preprocess, 10.6ms inference, 0.3ms postprocess per image at shape (1, 3, 640, 640)\n",
      "\n",
      "0: 224x640 1 handwrite, 12.3ms\n",
      "Speed: 0.1ms preprocess, 12.3ms inference, 0.3ms postprocess per image at shape (1, 3, 640, 640)\n"
     ]
    },
    {
     "name": "stdout",
     "output_type": "stream",
     "text": [
      "in process: 787/1000\r"
     ]
    },
    {
     "name": "stderr",
     "output_type": "stream",
     "text": [
      "\n",
      "0: 640x480 1 content, 1 date, 1 number, 1 sender, 1 signer, 103.5ms\n",
      "Speed: 0.3ms preprocess, 103.5ms inference, 1.7ms postprocess per image at shape (1, 3, 640, 640)\n",
      "\n",
      "0: 192x640 1 handwrite, 11.5ms\n",
      "Speed: 0.2ms preprocess, 11.5ms inference, 0.3ms postprocess per image at shape (1, 3, 640, 640)\n",
      "\n",
      "0: 160x640 1 handwrite, 10.8ms\n",
      "Speed: 0.1ms preprocess, 10.8ms inference, 0.4ms postprocess per image at shape (1, 3, 640, 640)\n"
     ]
    },
    {
     "name": "stdout",
     "output_type": "stream",
     "text": [
      "in process: 788/1000\r"
     ]
    },
    {
     "name": "stderr",
     "output_type": "stream",
     "text": [
      "\n",
      "0: 640x480 1 date, 1 number, 2 senders, 1 signer, 106.1ms\n",
      "Speed: 0.3ms preprocess, 106.1ms inference, 0.4ms postprocess per image at shape (1, 3, 640, 640)\n",
      "\n",
      "0: 160x640 1 handwrite, 10.5ms\n",
      "Speed: 0.1ms preprocess, 10.5ms inference, 0.3ms postprocess per image at shape (1, 3, 640, 640)\n",
      "\n",
      "0: 96x640 2 typewrittens, 8.1ms\n",
      "Speed: 0.2ms preprocess, 8.1ms inference, 0.3ms postprocess per image at shape (1, 3, 640, 640)\n",
      "\n"
     ]
    },
    {
     "name": "stdout",
     "output_type": "stream",
     "text": [
      "in process: 789/1000\r"
     ]
    },
    {
     "name": "stderr",
     "output_type": "stream",
     "text": [
      "0: 640x512 1 sender, 112.5ms\n",
      "Speed: 0.3ms preprocess, 112.5ms inference, 1.7ms postprocess per image at shape (1, 3, 640, 640)\n",
      "\n"
     ]
    },
    {
     "name": "stdout",
     "output_type": "stream",
     "text": [
      "in process: 790/1000\r"
     ]
    },
    {
     "name": "stderr",
     "output_type": "stream",
     "text": [
      "0: 640x480 1 date, 1 number, 2 senders, 1 signer, 106.0ms\n",
      "Speed: 0.3ms preprocess, 106.0ms inference, 0.3ms postprocess per image at shape (1, 3, 640, 640)\n",
      "\n",
      "0: 160x640 1 handwrite, 10.8ms\n",
      "Speed: 0.2ms preprocess, 10.8ms inference, 0.3ms postprocess per image at shape (1, 3, 640, 640)\n",
      "\n",
      "0: 128x640 1 handwrite, 8.9ms\n",
      "Speed: 0.1ms preprocess, 8.9ms inference, 0.3ms postprocess per image at shape (1, 3, 640, 640)\n"
     ]
    },
    {
     "name": "stdout",
     "output_type": "stream",
     "text": [
      "in process: 791/1000\r"
     ]
    },
    {
     "name": "stderr",
     "output_type": "stream",
     "text": [
      "\n",
      "0: 640x480 1 date, 2 senders, 105.1ms\n",
      "Speed: 0.3ms preprocess, 105.1ms inference, 0.3ms postprocess per image at shape (1, 3, 640, 640)\n",
      "\n",
      "0: 224x640 1 handwrite, 12.6ms\n",
      "Speed: 0.1ms preprocess, 12.6ms inference, 0.3ms postprocess per image at shape (1, 3, 640, 640)\n",
      "\n",
      "0: 640x480 (no detections), 102.7ms\n",
      "Speed: 0.3ms preprocess, 102.7ms inference, 0.2ms postprocess per image at shape (1, 3, 640, 640)\n",
      "\n",
      "0: 640x480 1 signer, 103.0ms\n",
      "Speed: 0.3ms preprocess, 103.0ms inference, 0.3ms postprocess per image at shape (1, 3, 640, 640)\n",
      "\n"
     ]
    },
    {
     "name": "stdout",
     "output_type": "stream",
     "text": [
      "in process: 792/1000\r"
     ]
    },
    {
     "name": "stderr",
     "output_type": "stream",
     "text": [
      "0: 640x480 1 date, 1 number, 1 sender, 1 signer, 103.8ms\n",
      "Speed: 0.3ms preprocess, 103.8ms inference, 2.6ms postprocess per image at shape (1, 3, 640, 640)\n",
      "\n",
      "0: 160x640 1 handwrite, 10.6ms\n",
      "Speed: 0.2ms preprocess, 10.6ms inference, 0.3ms postprocess per image at shape (1, 3, 640, 640)\n",
      "\n",
      "0: 128x640 1 handwrite, 8.9ms\n",
      "Speed: 0.2ms preprocess, 8.9ms inference, 0.3ms postprocess per image at shape (1, 3, 640, 640)\n"
     ]
    },
    {
     "name": "stdout",
     "output_type": "stream",
     "text": [
      "in process: 793/1000\r"
     ]
    },
    {
     "name": "stderr",
     "output_type": "stream",
     "text": [
      "\n",
      "0: 640x480 1 number, 1 sender, 1 signer, 103.1ms\n",
      "Speed: 0.3ms preprocess, 103.1ms inference, 0.3ms postprocess per image at shape (1, 3, 640, 640)\n",
      "\n",
      "0: 160x640 1 handwrite, 1 typewritten, 10.7ms\n",
      "Speed: 0.1ms preprocess, 10.7ms inference, 0.3ms postprocess per image at shape (1, 3, 640, 640)\n"
     ]
    },
    {
     "name": "stdout",
     "output_type": "stream",
     "text": [
      "in process: 794/1000\r"
     ]
    },
    {
     "name": "stderr",
     "output_type": "stream",
     "text": [
      "\n",
      "0: 640x480 1 sender, 1 signer, 103.4ms\n",
      "Speed: 0.3ms preprocess, 103.4ms inference, 1.6ms postprocess per image at shape (1, 3, 640, 640)\n"
     ]
    },
    {
     "name": "stdout",
     "output_type": "stream",
     "text": [
      "in process: 795/1000\r"
     ]
    },
    {
     "name": "stderr",
     "output_type": "stream",
     "text": [
      "\n",
      "0: 640x480 1 signer, 103.5ms\n",
      "Speed: 0.3ms preprocess, 103.5ms inference, 0.3ms postprocess per image at shape (1, 3, 640, 640)\n"
     ]
    },
    {
     "name": "stdout",
     "output_type": "stream",
     "text": [
      "in process: 796/1000\r"
     ]
    },
    {
     "name": "stderr",
     "output_type": "stream",
     "text": [
      "\n",
      "0: 640x480 1 content, 1 date, 1 number, 1 sender, 1 signer, 102.8ms\n",
      "Speed: 0.3ms preprocess, 102.8ms inference, 2.1ms postprocess per image at shape (1, 3, 640, 640)\n",
      "\n",
      "0: 160x640 1 handwrite, 10.6ms\n",
      "Speed: 0.2ms preprocess, 10.6ms inference, 0.3ms postprocess per image at shape (1, 3, 640, 640)\n",
      "\n",
      "0: 192x640 1 handwrite, 11.6ms\n",
      "Speed: 0.1ms preprocess, 11.6ms inference, 0.3ms postprocess per image at shape (1, 3, 640, 640)\n"
     ]
    },
    {
     "name": "stdout",
     "output_type": "stream",
     "text": [
      "in process: 797/1000\r"
     ]
    },
    {
     "name": "stderr",
     "output_type": "stream",
     "text": [
      "\n",
      "0: 640x480 1 content, 1 date, 1 number, 1 sender, 1 signer, 103.2ms\n",
      "Speed: 0.3ms preprocess, 103.2ms inference, 0.4ms postprocess per image at shape (1, 3, 640, 640)\n",
      "\n",
      "0: 128x640 1 handwrite, 9.0ms\n",
      "Speed: 0.1ms preprocess, 9.0ms inference, 0.3ms postprocess per image at shape (1, 3, 640, 640)\n",
      "\n",
      "0: 160x640 1 handwrite, 15.0ms\n",
      "Speed: 0.2ms preprocess, 15.0ms inference, 0.6ms postprocess per image at shape (1, 3, 640, 640)\n"
     ]
    },
    {
     "name": "stdout",
     "output_type": "stream",
     "text": [
      "in process: 798/1000\r"
     ]
    },
    {
     "name": "stderr",
     "output_type": "stream",
     "text": [
      "\n",
      "0: 640x480 1 content, 1 date, 1 number, 1 sender, 103.5ms\n",
      "Speed: 0.3ms preprocess, 103.5ms inference, 1.5ms postprocess per image at shape (1, 3, 640, 640)\n",
      "\n",
      "0: 160x640 1 handwrite, 15.3ms\n",
      "Speed: 0.2ms preprocess, 15.3ms inference, 0.8ms postprocess per image at shape (1, 3, 640, 640)\n",
      "\n",
      "0: 192x640 1 handwrite, 16.4ms\n",
      "Speed: 0.1ms preprocess, 16.4ms inference, 0.6ms postprocess per image at shape (1, 3, 640, 640)\n",
      "\n",
      "0: 640x480 (no detections), 105.8ms\n",
      "Speed: 0.3ms preprocess, 105.8ms inference, 0.2ms postprocess per image at shape (1, 3, 640, 640)\n",
      "\n",
      "0: 640x480 (no detections), 105.5ms\n",
      "Speed: 0.3ms preprocess, 105.5ms inference, 0.2ms postprocess per image at shape (1, 3, 640, 640)\n",
      "\n",
      "0: 640x480 1 signer, 105.0ms\n",
      "Speed: 0.3ms preprocess, 105.0ms inference, 0.3ms postprocess per image at shape (1, 3, 640, 640)\n",
      "\n"
     ]
    },
    {
     "name": "stdout",
     "output_type": "stream",
     "text": [
      "in process: 799/1000\r"
     ]
    },
    {
     "name": "stderr",
     "output_type": "stream",
     "text": [
      "0: 640x480 1 content, 1 date, 1 number, 1 sender, 1 signer, 103.8ms\n",
      "Speed: 0.3ms preprocess, 103.8ms inference, 3.4ms postprocess per image at shape (1, 3, 640, 640)\n",
      "\n",
      "0: 160x640 1 handwrite, 11.5ms\n",
      "Speed: 0.2ms preprocess, 11.5ms inference, 0.3ms postprocess per image at shape (1, 3, 640, 640)\n",
      "\n",
      "0: 96x640 1 typewritten, 11.1ms\n",
      "Speed: 0.1ms preprocess, 11.1ms inference, 0.6ms postprocess per image at shape (1, 3, 640, 640)\n"
     ]
    },
    {
     "name": "stdout",
     "output_type": "stream",
     "text": [
      "in process: 800/1000\r"
     ]
    },
    {
     "name": "stderr",
     "output_type": "stream",
     "text": [
      "\n",
      "0: 640x480 1 content, 1 date, 1 number, 1 sender, 1 signer, 102.7ms\n",
      "Speed: 0.3ms preprocess, 102.7ms inference, 0.4ms postprocess per image at shape (1, 3, 640, 640)\n",
      "\n",
      "0: 160x640 1 handwrite, 14.9ms\n",
      "Speed: 0.2ms preprocess, 14.9ms inference, 0.6ms postprocess per image at shape (1, 3, 640, 640)\n",
      "\n",
      "0: 160x640 1 handwrite, 11.1ms\n",
      "Speed: 0.1ms preprocess, 11.1ms inference, 0.4ms postprocess per image at shape (1, 3, 640, 640)\n",
      "\n"
     ]
    },
    {
     "name": "stdout",
     "output_type": "stream",
     "text": [
      "in process: 801/1000\r"
     ]
    },
    {
     "name": "stderr",
     "output_type": "stream",
     "text": [
      "0: 640x480 1 date, 1 number, 1 sender, 1 signer, 107.3ms\n",
      "Speed: 0.3ms preprocess, 107.3ms inference, 0.3ms postprocess per image at shape (1, 3, 640, 640)\n",
      "\n",
      "0: 160x640 1 handwrite, 10.7ms\n",
      "Speed: 0.2ms preprocess, 10.7ms inference, 0.3ms postprocess per image at shape (1, 3, 640, 640)\n",
      "\n",
      "0: 128x640 1 handwrite, 8.8ms\n",
      "Speed: 0.1ms preprocess, 8.8ms inference, 0.3ms postprocess per image at shape (1, 3, 640, 640)\n",
      "\n"
     ]
    },
    {
     "name": "stdout",
     "output_type": "stream",
     "text": [
      "in process: 802/1000\r"
     ]
    },
    {
     "name": "stderr",
     "output_type": "stream",
     "text": [
      "0: 640x480 1 signer, 105.4ms\n",
      "Speed: 0.3ms preprocess, 105.4ms inference, 2.0ms postprocess per image at shape (1, 3, 640, 640)\n"
     ]
    },
    {
     "name": "stdout",
     "output_type": "stream",
     "text": [
      "in process: 803/1000\r"
     ]
    },
    {
     "name": "stderr",
     "output_type": "stream",
     "text": [
      "\n",
      "0: 640x480 1 date, 1 number, 2 senders, 1 signer, 105.9ms\n",
      "Speed: 0.3ms preprocess, 105.9ms inference, 0.4ms postprocess per image at shape (1, 3, 640, 640)\n",
      "\n",
      "0: 192x640 1 handwrite, 11.5ms\n",
      "Speed: 0.2ms preprocess, 11.5ms inference, 0.3ms postprocess per image at shape (1, 3, 640, 640)\n",
      "\n",
      "0: 160x640 1 handwrite, 14.8ms\n",
      "Speed: 0.1ms preprocess, 14.8ms inference, 0.3ms postprocess per image at shape (1, 3, 640, 640)\n"
     ]
    },
    {
     "name": "stdout",
     "output_type": "stream",
     "text": [
      "in process: 804/1000\r"
     ]
    },
    {
     "name": "stderr",
     "output_type": "stream",
     "text": [
      "\n",
      "0: 640x480 1 number, 1 sender, 1 signer, 105.6ms\n",
      "Speed: 0.3ms preprocess, 105.6ms inference, 1.7ms postprocess per image at shape (1, 3, 640, 640)\n",
      "\n",
      "0: 160x640 1 handwrite, 10.5ms\n",
      "Speed: 0.2ms preprocess, 10.5ms inference, 0.3ms postprocess per image at shape (1, 3, 640, 640)\n"
     ]
    },
    {
     "name": "stdout",
     "output_type": "stream",
     "text": [
      "in process: 805/1000\r"
     ]
    },
    {
     "name": "stderr",
     "output_type": "stream",
     "text": [
      "\n",
      "0: 640x480 1 sender, 105.6ms\n",
      "Speed: 0.3ms preprocess, 105.6ms inference, 0.3ms postprocess per image at shape (1, 3, 640, 640)\n",
      "\n",
      "0: 640x480 1 signer, 111.0ms\n",
      "Speed: 0.3ms preprocess, 111.0ms inference, 0.3ms postprocess per image at shape (1, 3, 640, 640)\n",
      "\n"
     ]
    },
    {
     "name": "stdout",
     "output_type": "stream",
     "text": [
      "in process: 806/1000\r"
     ]
    },
    {
     "name": "stderr",
     "output_type": "stream",
     "text": [
      "0: 480x640 1 number, 1 sender, 104.8ms\n",
      "Speed: 0.3ms preprocess, 104.8ms inference, 3.2ms postprocess per image at shape (1, 3, 640, 640)\n",
      "\n",
      "0: 192x640 1 typewritten, 16.1ms\n",
      "Speed: 0.2ms preprocess, 16.1ms inference, 0.6ms postprocess per image at shape (1, 3, 640, 640)\n",
      "\n",
      "0: 640x480 (no detections), 105.8ms\n",
      "Speed: 0.3ms preprocess, 105.8ms inference, 0.2ms postprocess per image at shape (1, 3, 640, 640)\n"
     ]
    },
    {
     "name": "stdout",
     "output_type": "stream",
     "text": [
      "in process: 807/1000\r"
     ]
    },
    {
     "name": "stderr",
     "output_type": "stream",
     "text": [
      "\n",
      "0: 640x480 (no detections), 105.3ms\n",
      "Speed: 0.3ms preprocess, 105.3ms inference, 0.2ms postprocess per image at shape (1, 3, 640, 640)\n",
      "\n",
      "0: 640x480 (no detections), 103.4ms\n",
      "Speed: 0.3ms preprocess, 103.4ms inference, 0.2ms postprocess per image at shape (1, 3, 640, 640)\n",
      "\n",
      "0: 640x480 (no detections), 102.2ms\n",
      "Speed: 0.3ms preprocess, 102.2ms inference, 0.2ms postprocess per image at shape (1, 3, 640, 640)\n",
      "\n",
      "0: 640x480 (no detections), 105.2ms\n",
      "Speed: 0.3ms preprocess, 105.2ms inference, 0.2ms postprocess per image at shape (1, 3, 640, 640)\n",
      "\n",
      "0: 640x480 1 sender, 108.3ms\n",
      "Speed: 0.3ms preprocess, 108.3ms inference, 0.3ms postprocess per image at shape (1, 3, 640, 640)\n",
      "\n",
      "0: 640x480 (no detections), 105.1ms\n",
      "Speed: 0.3ms preprocess, 105.1ms inference, 0.2ms postprocess per image at shape (1, 3, 640, 640)\n",
      "\n",
      "0: 640x480 (no detections), 103.3ms\n",
      "Speed: 0.3ms preprocess, 103.3ms inference, 0.2ms postprocess per image at shape (1, 3, 640, 640)\n"
     ]
    },
    {
     "name": "stdout",
     "output_type": "stream",
     "text": [
      "in process: 808/1000\r"
     ]
    },
    {
     "name": "stderr",
     "output_type": "stream",
     "text": [
      "\n",
      "0: 640x480 1 date, 1 number, 1 sender, 1 signer, 102.7ms\n",
      "Speed: 0.3ms preprocess, 102.7ms inference, 2.7ms postprocess per image at shape (1, 3, 640, 640)\n",
      "\n",
      "0: 160x640 1 handwrite, 11.1ms\n",
      "Speed: 0.2ms preprocess, 11.1ms inference, 0.3ms postprocess per image at shape (1, 3, 640, 640)\n",
      "\n",
      "0: 160x640 1 handwrite, 10.4ms\n",
      "Speed: 0.1ms preprocess, 10.4ms inference, 0.3ms postprocess per image at shape (1, 3, 640, 640)\n"
     ]
    },
    {
     "name": "stdout",
     "output_type": "stream",
     "text": [
      "in process: 809/1000\r"
     ]
    },
    {
     "name": "stderr",
     "output_type": "stream",
     "text": [
      "\n",
      "0: 640x480 1 content, 1 date, 1 number, 1 sender, 1 signer, 102.7ms\n",
      "Speed: 0.3ms preprocess, 102.7ms inference, 2.7ms postprocess per image at shape (1, 3, 640, 640)\n",
      "\n",
      "0: 160x640 1 handwrite, 10.5ms\n",
      "Speed: 0.2ms preprocess, 10.5ms inference, 0.3ms postprocess per image at shape (1, 3, 640, 640)\n",
      "\n",
      "0: 160x640 1 handwrite, 10.3ms\n",
      "Speed: 0.1ms preprocess, 10.3ms inference, 0.3ms postprocess per image at shape (1, 3, 640, 640)\n"
     ]
    },
    {
     "name": "stdout",
     "output_type": "stream",
     "text": [
      "in process: 810/1000\r"
     ]
    },
    {
     "name": "stderr",
     "output_type": "stream",
     "text": [
      "\n",
      "0: 640x480 1 date, 1 number, 1 sender, 102.9ms\n",
      "Speed: 0.3ms preprocess, 102.9ms inference, 0.3ms postprocess per image at shape (1, 3, 640, 640)\n",
      "\n",
      "0: 128x640 2 handwrites, 8.7ms\n",
      "Speed: 0.2ms preprocess, 8.7ms inference, 0.3ms postprocess per image at shape (1, 3, 640, 640)\n",
      "\n",
      "0: 256x640 1 handwrite, 13.0ms\n",
      "Speed: 0.1ms preprocess, 13.0ms inference, 0.3ms postprocess per image at shape (1, 3, 640, 640)\n",
      "\n",
      "0: 640x480 (no detections), 106.6ms\n",
      "Speed: 0.3ms preprocess, 106.6ms inference, 0.2ms postprocess per image at shape (1, 3, 640, 640)\n",
      "\n",
      "0: 640x480 1 date, 1 number, 1 sender, 1 signer, 102.8ms\n",
      "Speed: 0.3ms preprocess, 102.8ms inference, 0.3ms postprocess per image at shape (1, 3, 640, 640)\n",
      "\n",
      "0: 128x640 1 handwrite, 8.7ms\n",
      "Speed: 0.2ms preprocess, 8.7ms inference, 0.3ms postprocess per image at shape (1, 3, 640, 640)\n",
      "\n",
      "0: 160x640 1 handwrite, 10.4ms\n",
      "Speed: 0.1ms preprocess, 10.4ms inference, 0.3ms postprocess per image at shape (1, 3, 640, 640)\n"
     ]
    },
    {
     "name": "stdout",
     "output_type": "stream",
     "text": [
      "in process: 811/1000\r"
     ]
    },
    {
     "name": "stderr",
     "output_type": "stream",
     "text": [
      "\n",
      "0: 640x480 1 content, 1 date, 2 senders, 103.1ms\n",
      "Speed: 0.3ms preprocess, 103.1ms inference, 2.7ms postprocess per image at shape (1, 3, 640, 640)\n",
      "\n",
      "0: 224x640 1 typewritten, 13.4ms\n",
      "Speed: 0.2ms preprocess, 13.4ms inference, 0.3ms postprocess per image at shape (1, 3, 640, 640)\n",
      "\n",
      "0: 640x480 1 signer, 103.3ms\n",
      "Speed: 0.3ms preprocess, 103.3ms inference, 0.3ms postprocess per image at shape (1, 3, 640, 640)\n",
      "\n"
     ]
    },
    {
     "name": "stdout",
     "output_type": "stream",
     "text": [
      "in process: 812/1000\r"
     ]
    },
    {
     "name": "stderr",
     "output_type": "stream",
     "text": [
      "0: 640x512 1 date, 1 number, 1 sender, 1 signer, 109.0ms\n",
      "Speed: 0.3ms preprocess, 109.0ms inference, 2.2ms postprocess per image at shape (1, 3, 640, 640)\n",
      "\n",
      "0: 192x640 1 handwrite, 11.3ms\n",
      "Speed: 0.2ms preprocess, 11.3ms inference, 0.3ms postprocess per image at shape (1, 3, 640, 640)\n",
      "\n",
      "0: 192x640 1 handwrite, 11.0ms\n",
      "Speed: 0.1ms preprocess, 11.0ms inference, 0.3ms postprocess per image at shape (1, 3, 640, 640)\n",
      "\n"
     ]
    },
    {
     "name": "stdout",
     "output_type": "stream",
     "text": [
      "in process: 813/1000\r"
     ]
    },
    {
     "name": "stderr",
     "output_type": "stream",
     "text": [
      "0: 640x480 1 content, 1 date, 1 number, 1 sender, 1 signer, 105.4ms\n",
      "Speed: 0.3ms preprocess, 105.4ms inference, 0.3ms postprocess per image at shape (1, 3, 640, 640)\n",
      "\n",
      "0: 160x640 1 handwrite, 1 typewritten, 11.0ms\n",
      "Speed: 0.2ms preprocess, 11.0ms inference, 0.3ms postprocess per image at shape (1, 3, 640, 640)\n",
      "\n",
      "0: 224x640 1 typewritten, 12.4ms\n",
      "Speed: 0.2ms preprocess, 12.4ms inference, 0.3ms postprocess per image at shape (1, 3, 640, 640)\n"
     ]
    },
    {
     "name": "stdout",
     "output_type": "stream",
     "text": [
      "in process: 814/1000\r"
     ]
    },
    {
     "name": "stderr",
     "output_type": "stream",
     "text": [
      "\n",
      "0: 640x480 1 date, 1 number, 1 sender, 1 signer, 104.8ms\n",
      "Speed: 0.3ms preprocess, 104.8ms inference, 2.0ms postprocess per image at shape (1, 3, 640, 640)\n",
      "\n",
      "0: 160x640 1 typewritten, 10.6ms\n",
      "Speed: 0.2ms preprocess, 10.6ms inference, 0.3ms postprocess per image at shape (1, 3, 640, 640)\n",
      "\n",
      "0: 192x640 1 typewritten, 12.6ms\n",
      "Speed: 0.2ms preprocess, 12.6ms inference, 0.3ms postprocess per image at shape (1, 3, 640, 640)\n",
      "\n"
     ]
    },
    {
     "name": "stdout",
     "output_type": "stream",
     "text": [
      "in process: 815/1000\r"
     ]
    },
    {
     "name": "stderr",
     "output_type": "stream",
     "text": [
      "0: 640x480 1 number, 1 sender, 1 signer, 105.1ms\n",
      "Speed: 0.3ms preprocess, 105.1ms inference, 0.3ms postprocess per image at shape (1, 3, 640, 640)\n",
      "\n",
      "0: 160x640 2 handwrites, 10.6ms\n",
      "Speed: 0.2ms preprocess, 10.6ms inference, 0.3ms postprocess per image at shape (1, 3, 640, 640)\n"
     ]
    },
    {
     "name": "stdout",
     "output_type": "stream",
     "text": [
      "in process: 816/1000\r"
     ]
    },
    {
     "name": "stderr",
     "output_type": "stream",
     "text": [
      "\n",
      "0: 640x480 1 signer, 104.7ms\n",
      "Speed: 0.3ms preprocess, 104.7ms inference, 0.3ms postprocess per image at shape (1, 3, 640, 640)\n",
      "\n"
     ]
    },
    {
     "name": "stdout",
     "output_type": "stream",
     "text": [
      "in process: 817/1000\r"
     ]
    },
    {
     "name": "stderr",
     "output_type": "stream",
     "text": [
      "0: 640x480 1 date, 1 number, 1 sender, 104.7ms\n",
      "Speed: 0.3ms preprocess, 104.7ms inference, 2.0ms postprocess per image at shape (1, 3, 640, 640)\n",
      "\n",
      "0: 160x640 1 handwrite, 10.4ms\n",
      "Speed: 0.2ms preprocess, 10.4ms inference, 0.3ms postprocess per image at shape (1, 3, 640, 640)\n",
      "\n",
      "0: 192x640 1 typewritten, 11.4ms\n",
      "Speed: 0.1ms preprocess, 11.4ms inference, 0.3ms postprocess per image at shape (1, 3, 640, 640)\n",
      "\n",
      "0: 640x480 1 signer, 104.5ms\n",
      "Speed: 0.3ms preprocess, 104.5ms inference, 0.3ms postprocess per image at shape (1, 3, 640, 640)\n"
     ]
    },
    {
     "name": "stdout",
     "output_type": "stream",
     "text": [
      "in process: 818/1000\r"
     ]
    },
    {
     "name": "stderr",
     "output_type": "stream",
     "text": [
      "\n",
      "0: 640x480 1 date, 1 number, 2 senders, 1 signer, 105.0ms\n",
      "Speed: 0.3ms preprocess, 105.0ms inference, 1.8ms postprocess per image at shape (1, 3, 640, 640)\n",
      "\n",
      "0: 160x640 1 typewritten, 14.3ms\n",
      "Speed: 0.1ms preprocess, 14.3ms inference, 0.6ms postprocess per image at shape (1, 3, 640, 640)\n",
      "\n",
      "0: 160x640 1 typewritten, 14.2ms\n",
      "Speed: 0.2ms preprocess, 14.2ms inference, 0.6ms postprocess per image at shape (1, 3, 640, 640)\n",
      "\n"
     ]
    },
    {
     "name": "stdout",
     "output_type": "stream",
     "text": [
      "in process: 819/1000\r"
     ]
    },
    {
     "name": "stderr",
     "output_type": "stream",
     "text": [
      "0: 480x640 1 date, 1 sender, 105.0ms\n",
      "Speed: 0.3ms preprocess, 105.0ms inference, 1.5ms postprocess per image at shape (1, 3, 640, 640)\n",
      "\n",
      "0: 128x640 1 typewritten, 12.4ms\n",
      "Speed: 0.2ms preprocess, 12.4ms inference, 0.6ms postprocess per image at shape (1, 3, 640, 640)\n",
      "\n",
      "0: 640x480 (no detections), 102.3ms\n",
      "Speed: 0.3ms preprocess, 102.3ms inference, 0.2ms postprocess per image at shape (1, 3, 640, 640)\n"
     ]
    },
    {
     "name": "stdout",
     "output_type": "stream",
     "text": [
      "in process: 820/1000\r"
     ]
    },
    {
     "name": "stderr",
     "output_type": "stream",
     "text": [
      "\n",
      "0: 640x480 1 date, 1 number, 1 sender, 103.0ms\n",
      "Speed: 3.2ms preprocess, 103.0ms inference, 0.3ms postprocess per image at shape (1, 3, 640, 640)\n",
      "\n",
      "0: 128x640 1 handwrite, 8.6ms\n",
      "Speed: 0.2ms preprocess, 8.6ms inference, 0.3ms postprocess per image at shape (1, 3, 640, 640)\n",
      "\n",
      "0: 192x640 1 handwrite, 11.3ms\n",
      "Speed: 0.1ms preprocess, 11.3ms inference, 0.3ms postprocess per image at shape (1, 3, 640, 640)\n",
      "\n",
      "0: 640x480 (no detections), 102.8ms\n",
      "Speed: 0.3ms preprocess, 102.8ms inference, 0.2ms postprocess per image at shape (1, 3, 640, 640)\n",
      "\n",
      "0: 640x480 1 signer, 104.5ms\n",
      "Speed: 0.3ms preprocess, 104.5ms inference, 0.3ms postprocess per image at shape (1, 3, 640, 640)\n"
     ]
    },
    {
     "name": "stdout",
     "output_type": "stream",
     "text": [
      "in process: 821/1000\r"
     ]
    },
    {
     "name": "stderr",
     "output_type": "stream",
     "text": [
      "\n",
      "0: 640x480 2 dates, 2 numbers, 1 sender, 1 signer, 103.1ms\n",
      "Speed: 0.3ms preprocess, 103.1ms inference, 3.1ms postprocess per image at shape (1, 3, 640, 640)\n",
      "\n",
      "0: 160x640 1 handwrite, 10.8ms\n",
      "Speed: 0.2ms preprocess, 10.8ms inference, 0.3ms postprocess per image at shape (1, 3, 640, 640)\n",
      "\n",
      "0: 192x640 1 handwrite, 11.3ms\n",
      "Speed: 0.1ms preprocess, 11.3ms inference, 0.3ms postprocess per image at shape (1, 3, 640, 640)\n",
      "\n",
      "0: 160x640 1 handwrite, 10.4ms\n",
      "Speed: 0.1ms preprocess, 10.4ms inference, 0.3ms postprocess per image at shape (1, 3, 640, 640)\n",
      "\n",
      "0: 128x640 1 handwrite, 8.5ms\n",
      "Speed: 0.1ms preprocess, 8.5ms inference, 0.4ms postprocess per image at shape (1, 3, 640, 640)\n"
     ]
    },
    {
     "name": "stdout",
     "output_type": "stream",
     "text": [
      "in process: 822/1000\r"
     ]
    },
    {
     "name": "stderr",
     "output_type": "stream",
     "text": [
      "\n",
      "0: 640x480 1 date, 1 number, 2 senders, 1 signer, 104.9ms\n",
      "Speed: 0.3ms preprocess, 104.9ms inference, 0.4ms postprocess per image at shape (1, 3, 640, 640)\n",
      "\n",
      "0: 128x640 1 handwrite, 10.3ms\n",
      "Speed: 0.2ms preprocess, 10.3ms inference, 0.3ms postprocess per image at shape (1, 3, 640, 640)\n",
      "\n",
      "0: 160x640 1 handwrite, 10.5ms\n",
      "Speed: 0.1ms preprocess, 10.5ms inference, 0.3ms postprocess per image at shape (1, 3, 640, 640)\n"
     ]
    },
    {
     "name": "stdout",
     "output_type": "stream",
     "text": [
      "in process: 823/1000\r"
     ]
    },
    {
     "name": "stderr",
     "output_type": "stream",
     "text": [
      "\n",
      "0: 640x480 1 number, 1 sender, 105.3ms\n",
      "Speed: 0.3ms preprocess, 105.3ms inference, 1.8ms postprocess per image at shape (1, 3, 640, 640)\n",
      "\n",
      "0: 192x640 1 typewritten, 11.4ms\n",
      "Speed: 0.2ms preprocess, 11.4ms inference, 0.6ms postprocess per image at shape (1, 3, 640, 640)\n",
      "\n",
      "0: 640x480 1 signer, 105.3ms\n",
      "Speed: 0.3ms preprocess, 105.3ms inference, 0.3ms postprocess per image at shape (1, 3, 640, 640)\n",
      "\n"
     ]
    },
    {
     "name": "stdout",
     "output_type": "stream",
     "text": [
      "in process: 824/1000\r"
     ]
    },
    {
     "name": "stderr",
     "output_type": "stream",
     "text": [
      "0: 640x480 1 date, 1 number, 1 sender, 105.2ms\n",
      "Speed: 0.3ms preprocess, 105.2ms inference, 1.9ms postprocess per image at shape (1, 3, 640, 640)\n",
      "\n",
      "0: 192x640 1 typewritten, 11.9ms\n",
      "Speed: 0.2ms preprocess, 11.9ms inference, 0.4ms postprocess per image at shape (1, 3, 640, 640)\n",
      "\n",
      "0: 256x640 1 handwrite, 1 typewritten, 16.2ms\n",
      "Speed: 0.2ms preprocess, 16.2ms inference, 0.6ms postprocess per image at shape (1, 3, 640, 640)\n",
      "\n",
      "0: 640x480 (no detections), 102.8ms\n",
      "Speed: 0.3ms preprocess, 102.8ms inference, 0.2ms postprocess per image at shape (1, 3, 640, 640)\n",
      "\n",
      "0: 640x480 (no detections), 103.2ms\n",
      "Speed: 0.3ms preprocess, 103.2ms inference, 0.2ms postprocess per image at shape (1, 3, 640, 640)\n",
      "\n",
      "0: 640x480 (no detections), 104.7ms\n",
      "Speed: 0.3ms preprocess, 104.7ms inference, 0.2ms postprocess per image at shape (1, 3, 640, 640)\n",
      "\n",
      "0: 640x480 1 signer, 104.8ms\n",
      "Speed: 0.3ms preprocess, 104.8ms inference, 0.3ms postprocess per image at shape (1, 3, 640, 640)\n"
     ]
    },
    {
     "name": "stdout",
     "output_type": "stream",
     "text": [
      "in process: 825/1000\r"
     ]
    },
    {
     "name": "stderr",
     "output_type": "stream",
     "text": [
      "\n",
      "0: 640x480 1 content, 1 date, 1 number, 3 senders, 1 signer, 103.1ms\n",
      "Speed: 0.3ms preprocess, 103.1ms inference, 1.5ms postprocess per image at shape (1, 3, 640, 640)\n",
      "\n",
      "0: 224x640 1 typewritten, 12.3ms\n",
      "Speed: 0.4ms preprocess, 12.3ms inference, 0.3ms postprocess per image at shape (1, 3, 640, 640)\n",
      "\n",
      "0: 128x640 1 handwrite, 8.8ms\n",
      "Speed: 0.2ms preprocess, 8.8ms inference, 0.3ms postprocess per image at shape (1, 3, 640, 640)\n",
      "\n"
     ]
    },
    {
     "name": "stdout",
     "output_type": "stream",
     "text": [
      "in process: 826/1000\r"
     ]
    },
    {
     "name": "stderr",
     "output_type": "stream",
     "text": [
      "0: 640x480 1 date, 1 number, 1 sender, 1 signer, 105.2ms\n",
      "Speed: 0.3ms preprocess, 105.2ms inference, 0.4ms postprocess per image at shape (1, 3, 640, 640)\n",
      "\n",
      "0: 160x640 1 handwrite, 10.7ms\n",
      "Speed: 0.2ms preprocess, 10.7ms inference, 0.3ms postprocess per image at shape (1, 3, 640, 640)\n",
      "\n",
      "0: 192x640 1 handwrite, 11.3ms\n",
      "Speed: 0.2ms preprocess, 11.3ms inference, 0.3ms postprocess per image at shape (1, 3, 640, 640)\n"
     ]
    },
    {
     "name": "stdout",
     "output_type": "stream",
     "text": [
      "in process: 827/1000\r"
     ]
    },
    {
     "name": "stderr",
     "output_type": "stream",
     "text": [
      "\n",
      "0: 640x480 1 signer, 106.1ms\n",
      "Speed: 0.3ms preprocess, 106.1ms inference, 2.1ms postprocess per image at shape (1, 3, 640, 640)\n"
     ]
    },
    {
     "name": "stdout",
     "output_type": "stream",
     "text": [
      "in process: 828/1000\r"
     ]
    },
    {
     "name": "stderr",
     "output_type": "stream",
     "text": [
      "\n",
      "0: 640x480 1 number, 2 senders, 1 signer, 105.4ms\n",
      "Speed: 0.3ms preprocess, 105.4ms inference, 0.3ms postprocess per image at shape (1, 3, 640, 640)\n",
      "\n",
      "0: 256x640 1 handwrite, 13.0ms\n",
      "Speed: 0.2ms preprocess, 13.0ms inference, 0.3ms postprocess per image at shape (1, 3, 640, 640)\n"
     ]
    },
    {
     "name": "stdout",
     "output_type": "stream",
     "text": [
      "in process: 829/1000\r"
     ]
    },
    {
     "name": "stderr",
     "output_type": "stream",
     "text": [
      "\n",
      "0: 640x480 1 sender, 104.8ms\n",
      "Speed: 0.3ms preprocess, 104.8ms inference, 1.5ms postprocess per image at shape (1, 3, 640, 640)\n",
      "\n",
      "0: 640x480 (no detections), 102.3ms\n",
      "Speed: 0.3ms preprocess, 102.3ms inference, 0.2ms postprocess per image at shape (1, 3, 640, 640)\n",
      "\n",
      "0: 640x480 2 signers, 105.0ms\n",
      "Speed: 0.3ms preprocess, 105.0ms inference, 0.3ms postprocess per image at shape (1, 3, 640, 640)\n",
      "\n"
     ]
    },
    {
     "name": "stdout",
     "output_type": "stream",
     "text": [
      "in process: 830/1000\r"
     ]
    },
    {
     "name": "stderr",
     "output_type": "stream",
     "text": [
      "0: 640x480 1 content, 1 date, 1 number, 1 signer, 103.5ms\n",
      "Speed: 0.3ms preprocess, 103.5ms inference, 1.8ms postprocess per image at shape (1, 3, 640, 640)\n",
      "\n",
      "0: 224x640 1 handwrite, 12.4ms\n",
      "Speed: 0.2ms preprocess, 12.4ms inference, 0.3ms postprocess per image at shape (1, 3, 640, 640)\n",
      "\n",
      "0: 224x640 1 typewritten, 12.3ms\n",
      "Speed: 0.2ms preprocess, 12.3ms inference, 0.3ms postprocess per image at shape (1, 3, 640, 640)\n"
     ]
    },
    {
     "name": "stdout",
     "output_type": "stream",
     "text": [
      "in process: 831/1000\r"
     ]
    },
    {
     "name": "stderr",
     "output_type": "stream",
     "text": [
      "\n",
      "0: 640x480 1 content, 1 date, 1 number, 1 sender, 1 signer, 105.7ms\n",
      "Speed: 0.3ms preprocess, 105.7ms inference, 0.3ms postprocess per image at shape (1, 3, 640, 640)\n",
      "\n",
      "0: 224x640 1 handwrite, 12.1ms\n",
      "Speed: 0.2ms preprocess, 12.1ms inference, 0.3ms postprocess per image at shape (1, 3, 640, 640)\n",
      "\n",
      "0: 128x640 1 handwrite, 8.8ms\n",
      "Speed: 0.2ms preprocess, 8.8ms inference, 0.3ms postprocess per image at shape (1, 3, 640, 640)\n",
      "\n"
     ]
    },
    {
     "name": "stdout",
     "output_type": "stream",
     "text": [
      "in process: 832/1000\r"
     ]
    },
    {
     "name": "stderr",
     "output_type": "stream",
     "text": [
      "0: 640x480 1 date, 1 number, 1 sender, 1 signer, 103.4ms\n",
      "Speed: 0.3ms preprocess, 103.4ms inference, 0.4ms postprocess per image at shape (1, 3, 640, 640)\n",
      "\n",
      "0: 128x640 1 handwrite, 12.3ms\n",
      "Speed: 0.2ms preprocess, 12.3ms inference, 0.6ms postprocess per image at shape (1, 3, 640, 640)\n",
      "\n",
      "0: 160x640 1 handwrite, 14.8ms\n",
      "Speed: 0.1ms preprocess, 14.8ms inference, 0.6ms postprocess per image at shape (1, 3, 640, 640)\n",
      "\n"
     ]
    },
    {
     "name": "stdout",
     "output_type": "stream",
     "text": [
      "in process: 833/1000\r"
     ]
    },
    {
     "name": "stderr",
     "output_type": "stream",
     "text": [
      "0: 640x480 1 number, 1 signer, 103.5ms\n",
      "Speed: 0.3ms preprocess, 103.5ms inference, 2.1ms postprocess per image at shape (1, 3, 640, 640)\n",
      "\n",
      "0: 192x640 1 handwrite, 11.2ms\n",
      "Speed: 0.2ms preprocess, 11.2ms inference, 0.3ms postprocess per image at shape (1, 3, 640, 640)\n"
     ]
    },
    {
     "name": "stdout",
     "output_type": "stream",
     "text": [
      "in process: 834/1000\r"
     ]
    },
    {
     "name": "stderr",
     "output_type": "stream",
     "text": [
      "\n",
      "0: 640x480 1 date, 1 number, 1 sender, 1 signer, 105.3ms\n",
      "Speed: 0.3ms preprocess, 105.3ms inference, 0.4ms postprocess per image at shape (1, 3, 640, 640)\n",
      "\n",
      "0: 160x640 1 handwrite, 10.8ms\n",
      "Speed: 0.2ms preprocess, 10.8ms inference, 0.3ms postprocess per image at shape (1, 3, 640, 640)\n",
      "\n",
      "0: 192x640 1 handwrite, 11.2ms\n",
      "Speed: 0.1ms preprocess, 11.2ms inference, 0.3ms postprocess per image at shape (1, 3, 640, 640)\n",
      "\n"
     ]
    },
    {
     "name": "stdout",
     "output_type": "stream",
     "text": [
      "in process: 835/1000\r"
     ]
    },
    {
     "name": "stderr",
     "output_type": "stream",
     "text": [
      "0: 640x480 1 date, 1 number, 2 senders, 1 signer, 105.2ms\n",
      "Speed: 0.3ms preprocess, 105.2ms inference, 1.7ms postprocess per image at shape (1, 3, 640, 640)\n",
      "\n",
      "0: 160x640 1 handwrite, 15.0ms\n",
      "Speed: 0.2ms preprocess, 15.0ms inference, 0.6ms postprocess per image at shape (1, 3, 640, 640)\n",
      "\n",
      "0: 192x640 1 handwrite, 15.9ms\n",
      "Speed: 0.1ms preprocess, 15.9ms inference, 0.6ms postprocess per image at shape (1, 3, 640, 640)\n",
      "\n"
     ]
    },
    {
     "name": "stdout",
     "output_type": "stream",
     "text": [
      "in process: 836/1000\r"
     ]
    },
    {
     "name": "stderr",
     "output_type": "stream",
     "text": [
      "0: 640x480 1 date, 1 number, 1 signer, 105.1ms\n",
      "Speed: 0.3ms preprocess, 105.1ms inference, 0.4ms postprocess per image at shape (1, 3, 640, 640)\n",
      "\n",
      "0: 128x640 1 handwrite, 1 typewritten, 8.8ms\n",
      "Speed: 0.1ms preprocess, 8.8ms inference, 0.3ms postprocess per image at shape (1, 3, 640, 640)\n",
      "\n",
      "0: 160x640 1 typewritten, 10.5ms\n",
      "Speed: 0.2ms preprocess, 10.5ms inference, 0.3ms postprocess per image at shape (1, 3, 640, 640)\n"
     ]
    },
    {
     "name": "stdout",
     "output_type": "stream",
     "text": [
      "in process: 837/1000\r"
     ]
    },
    {
     "name": "stderr",
     "output_type": "stream",
     "text": [
      "\n",
      "0: 640x480 1 date, 1 number, 1 sender, 1 signer, 104.4ms\n",
      "Speed: 0.3ms preprocess, 104.4ms inference, 1.8ms postprocess per image at shape (1, 3, 640, 640)\n",
      "\n",
      "0: 128x640 1 typewritten, 8.8ms\n",
      "Speed: 0.2ms preprocess, 8.8ms inference, 0.3ms postprocess per image at shape (1, 3, 640, 640)\n",
      "\n",
      "0: 224x640 1 typewritten, 15.2ms\n",
      "Speed: 0.2ms preprocess, 15.2ms inference, 0.3ms postprocess per image at shape (1, 3, 640, 640)\n"
     ]
    },
    {
     "name": "stdout",
     "output_type": "stream",
     "text": [
      "in process: 838/1000\r"
     ]
    },
    {
     "name": "stderr",
     "output_type": "stream",
     "text": [
      "\n",
      "0: 640x480 1 content, 1 date, 2 numbers, 1 sender, 105.4ms\n",
      "Speed: 0.3ms preprocess, 105.4ms inference, 0.4ms postprocess per image at shape (1, 3, 640, 640)\n",
      "\n",
      "0: 160x640 1 handwrite, 10.5ms\n",
      "Speed: 0.2ms preprocess, 10.5ms inference, 0.3ms postprocess per image at shape (1, 3, 640, 640)\n",
      "\n",
      "0: 128x640 1 handwrite, 8.7ms\n",
      "Speed: 0.1ms preprocess, 8.7ms inference, 0.3ms postprocess per image at shape (1, 3, 640, 640)\n",
      "\n",
      "0: 96x640 1 handwrite, 7.4ms\n",
      "Speed: 0.1ms preprocess, 7.4ms inference, 0.3ms postprocess per image at shape (1, 3, 640, 640)\n",
      "\n",
      "0: 640x480 1 signer, 104.6ms\n",
      "Speed: 0.3ms preprocess, 104.6ms inference, 0.3ms postprocess per image at shape (1, 3, 640, 640)\n"
     ]
    },
    {
     "name": "stdout",
     "output_type": "stream",
     "text": [
      "in process: 839/1000\r"
     ]
    },
    {
     "name": "stderr",
     "output_type": "stream",
     "text": [
      "\n",
      "0: 640x480 1 content, 1 date, 1 number, 1 signer, 102.7ms\n",
      "Speed: 0.3ms preprocess, 102.7ms inference, 2.7ms postprocess per image at shape (1, 3, 640, 640)\n",
      "\n",
      "0: 192x640 1 handwrite, 11.4ms\n",
      "Speed: 0.2ms preprocess, 11.4ms inference, 0.3ms postprocess per image at shape (1, 3, 640, 640)\n",
      "\n",
      "0: 192x640 1 handwrite, 11.1ms\n",
      "Speed: 0.2ms preprocess, 11.1ms inference, 0.3ms postprocess per image at shape (1, 3, 640, 640)\n",
      "\n"
     ]
    },
    {
     "name": "stdout",
     "output_type": "stream",
     "text": [
      "in process: 840/1000\r"
     ]
    },
    {
     "name": "stderr",
     "output_type": "stream",
     "text": [
      "0: 640x480 1 date, 1 number, 2 senders, 1 signer, 103.1ms\n",
      "Speed: 0.3ms preprocess, 103.1ms inference, 0.3ms postprocess per image at shape (1, 3, 640, 640)\n",
      "\n",
      "0: 128x640 1 handwrite, 8.7ms\n",
      "Speed: 0.1ms preprocess, 8.7ms inference, 0.3ms postprocess per image at shape (1, 3, 640, 640)\n",
      "\n",
      "0: 160x640 1 handwrite, 10.3ms\n",
      "Speed: 0.1ms preprocess, 10.3ms inference, 0.3ms postprocess per image at shape (1, 3, 640, 640)\n"
     ]
    },
    {
     "name": "stdout",
     "output_type": "stream",
     "text": [
      "in process: 841/1000\r"
     ]
    },
    {
     "name": "stderr",
     "output_type": "stream",
     "text": [
      "\n",
      "0: 640x480 1 content, 1 date, 1 number, 1 sender, 1 signer, 105.8ms\n",
      "Speed: 0.5ms preprocess, 105.8ms inference, 0.4ms postprocess per image at shape (1, 3, 640, 640)\n",
      "\n",
      "0: 160x640 1 handwrite, 14.3ms\n",
      "Speed: 0.1ms preprocess, 14.3ms inference, 0.6ms postprocess per image at shape (1, 3, 640, 640)\n",
      "\n",
      "0: 160x640 1 handwrite, 14.3ms\n",
      "Speed: 0.1ms preprocess, 14.3ms inference, 0.6ms postprocess per image at shape (1, 3, 640, 640)\n"
     ]
    },
    {
     "name": "stdout",
     "output_type": "stream",
     "text": [
      "in process: 842/1000\r"
     ]
    },
    {
     "name": "stderr",
     "output_type": "stream",
     "text": [
      "\n",
      "0: 640x480 1 content, 1 date, 1 number, 1 sender, 1 signer, 106.4ms\n",
      "Speed: 0.3ms preprocess, 106.4ms inference, 2.1ms postprocess per image at shape (1, 3, 640, 640)\n",
      "\n",
      "0: 224x640 1 typewritten, 16.2ms\n",
      "Speed: 0.2ms preprocess, 16.2ms inference, 0.6ms postprocess per image at shape (1, 3, 640, 640)\n",
      "\n",
      "0: 128x640 1 handwrite, 12.3ms\n",
      "Speed: 0.2ms preprocess, 12.3ms inference, 0.6ms postprocess per image at shape (1, 3, 640, 640)\n",
      "\n"
     ]
    },
    {
     "name": "stdout",
     "output_type": "stream",
     "text": [
      "in process: 843/1000\r"
     ]
    },
    {
     "name": "stderr",
     "output_type": "stream",
     "text": [
      "0: 640x480 1 date, 2 senders, 1 signer, 105.7ms\n",
      "Speed: 0.3ms preprocess, 105.7ms inference, 0.4ms postprocess per image at shape (1, 3, 640, 640)\n",
      "\n",
      "0: 192x640 1 handwrite, 22.2ms\n",
      "Speed: 0.2ms preprocess, 22.2ms inference, 0.3ms postprocess per image at shape (1, 3, 640, 640)\n"
     ]
    },
    {
     "name": "stdout",
     "output_type": "stream",
     "text": [
      "in process: 844/1000\r"
     ]
    },
    {
     "name": "stderr",
     "output_type": "stream",
     "text": [
      "\n",
      "0: 640x480 2 dates, 1 number, 1 sender, 105.8ms\n",
      "Speed: 0.3ms preprocess, 105.8ms inference, 1.8ms postprocess per image at shape (1, 3, 640, 640)\n",
      "\n",
      "0: 224x640 1 typewritten, 12.4ms\n",
      "Speed: 0.1ms preprocess, 12.4ms inference, 0.3ms postprocess per image at shape (1, 3, 640, 640)\n",
      "\n",
      "0: 352x640 1 handwrite, 27.3ms\n",
      "Speed: 0.2ms preprocess, 27.3ms inference, 0.6ms postprocess per image at shape (1, 3, 640, 640)\n",
      "\n",
      "0: 480x640 1 typewritten, 28.9ms\n",
      "Speed: 0.3ms preprocess, 28.9ms inference, 0.6ms postprocess per image at shape (1, 3, 640, 640)\n",
      "\n",
      "0: 640x480 1 signer, 105.6ms\n",
      "Speed: 0.3ms preprocess, 105.6ms inference, 0.3ms postprocess per image at shape (1, 3, 640, 640)\n"
     ]
    },
    {
     "name": "stdout",
     "output_type": "stream",
     "text": [
      "in process: 845/1000\r"
     ]
    },
    {
     "name": "stderr",
     "output_type": "stream",
     "text": [
      "\n",
      "0: 640x480 1 content, 1 date, 1 number, 1 sender, 1 signer, 106.8ms\n",
      "Speed: 0.3ms preprocess, 106.8ms inference, 1.6ms postprocess per image at shape (1, 3, 640, 640)\n",
      "\n",
      "0: 192x640 1 handwrite, 11.3ms\n",
      "Speed: 0.2ms preprocess, 11.3ms inference, 0.3ms postprocess per image at shape (1, 3, 640, 640)\n",
      "\n",
      "0: 160x640 1 handwrite, 11.3ms\n",
      "Speed: 0.1ms preprocess, 11.3ms inference, 0.4ms postprocess per image at shape (1, 3, 640, 640)\n",
      "\n"
     ]
    },
    {
     "name": "stdout",
     "output_type": "stream",
     "text": [
      "in process: 846/1000\r"
     ]
    },
    {
     "name": "stderr",
     "output_type": "stream",
     "text": [
      "0: 640x480 1 content, 1 date, 1 number, 1 sender, 1 signer, 105.3ms\n",
      "Speed: 0.3ms preprocess, 105.3ms inference, 0.3ms postprocess per image at shape (1, 3, 640, 640)\n",
      "\n",
      "0: 160x640 1 typewritten, 10.4ms\n",
      "Speed: 0.1ms preprocess, 10.4ms inference, 0.3ms postprocess per image at shape (1, 3, 640, 640)\n",
      "\n",
      "0: 160x640 1 typewritten, 10.6ms\n",
      "Speed: 0.2ms preprocess, 10.6ms inference, 0.3ms postprocess per image at shape (1, 3, 640, 640)\n"
     ]
    },
    {
     "name": "stdout",
     "output_type": "stream",
     "text": [
      "in process: 847/1000\r"
     ]
    },
    {
     "name": "stderr",
     "output_type": "stream",
     "text": [
      "\n",
      "0: 640x480 1 content, 1 date, 1 number, 1 sender, 1 signer, 105.4ms\n",
      "Speed: 0.3ms preprocess, 105.4ms inference, 1.5ms postprocess per image at shape (1, 3, 640, 640)\n",
      "\n",
      "0: 192x640 1 handwrite, 11.3ms\n",
      "Speed: 0.2ms preprocess, 11.3ms inference, 0.3ms postprocess per image at shape (1, 3, 640, 640)\n",
      "\n",
      "0: 160x640 1 handwrite, 10.6ms\n",
      "Speed: 0.1ms preprocess, 10.6ms inference, 0.3ms postprocess per image at shape (1, 3, 640, 640)\n"
     ]
    },
    {
     "name": "stdout",
     "output_type": "stream",
     "text": [
      "in process: 848/1000\r"
     ]
    },
    {
     "name": "stderr",
     "output_type": "stream",
     "text": [
      "\n",
      "0: 640x480 1 content, 1 date, 1 number, 1 sender, 1 signer, 104.3ms\n",
      "Speed: 0.3ms preprocess, 104.3ms inference, 0.3ms postprocess per image at shape (1, 3, 640, 640)\n",
      "\n",
      "0: 160x640 1 handwrite, 10.6ms\n",
      "Speed: 0.2ms preprocess, 10.6ms inference, 0.3ms postprocess per image at shape (1, 3, 640, 640)\n",
      "\n",
      "0: 224x640 1 handwrite, 12.8ms\n",
      "Speed: 0.2ms preprocess, 12.8ms inference, 0.3ms postprocess per image at shape (1, 3, 640, 640)\n"
     ]
    },
    {
     "name": "stdout",
     "output_type": "stream",
     "text": [
      "in process: 849/1000\r"
     ]
    },
    {
     "name": "stderr",
     "output_type": "stream",
     "text": [
      "\n",
      "0: 640x480 1 date, 1 sender, 1 signer, 103.7ms\n",
      "Speed: 0.3ms preprocess, 103.7ms inference, 0.3ms postprocess per image at shape (1, 3, 640, 640)\n",
      "\n",
      "0: 96x640 1 handwrite, 8.0ms\n",
      "Speed: 0.2ms preprocess, 8.0ms inference, 0.3ms postprocess per image at shape (1, 3, 640, 640)\n"
     ]
    },
    {
     "name": "stdout",
     "output_type": "stream",
     "text": [
      "in process: 850/1000\r"
     ]
    },
    {
     "name": "stderr",
     "output_type": "stream",
     "text": [
      "\n",
      "0: 640x512 1 sender, 114.3ms\n",
      "Speed: 0.3ms preprocess, 114.3ms inference, 0.5ms postprocess per image at shape (1, 3, 640, 640)\n",
      "\n",
      "0: 640x512 1 signer, 112.6ms\n",
      "Speed: 0.3ms preprocess, 112.6ms inference, 0.4ms postprocess per image at shape (1, 3, 640, 640)\n"
     ]
    },
    {
     "name": "stdout",
     "output_type": "stream",
     "text": [
      "in process: 851/1000\r"
     ]
    },
    {
     "name": "stderr",
     "output_type": "stream",
     "text": [
      "\n",
      "0: 640x480 1 content, 1 date, 1 number, 1 sender, 103.4ms\n",
      "Speed: 0.3ms preprocess, 103.4ms inference, 2.6ms postprocess per image at shape (1, 3, 640, 640)\n",
      "\n",
      "0: 128x640 1 handwrite, 8.8ms\n",
      "Speed: 0.2ms preprocess, 8.8ms inference, 0.3ms postprocess per image at shape (1, 3, 640, 640)\n",
      "\n",
      "0: 160x640 1 handwrite, 10.7ms\n",
      "Speed: 0.2ms preprocess, 10.7ms inference, 0.3ms postprocess per image at shape (1, 3, 640, 640)\n",
      "\n",
      "0: 640x480 1 signer, 106.3ms\n",
      "Speed: 0.3ms preprocess, 106.3ms inference, 0.3ms postprocess per image at shape (1, 3, 640, 640)\n",
      "\n"
     ]
    },
    {
     "name": "stdout",
     "output_type": "stream",
     "text": [
      "in process: 852/1000\r"
     ]
    },
    {
     "name": "stderr",
     "output_type": "stream",
     "text": [
      "0: 640x480 1 date, 1 number, 2 senders, 103.8ms\n",
      "Speed: 0.3ms preprocess, 103.8ms inference, 0.3ms postprocess per image at shape (1, 3, 640, 640)\n",
      "\n",
      "0: 128x640 1 handwrite, 9.0ms\n",
      "Speed: 0.1ms preprocess, 9.0ms inference, 0.3ms postprocess per image at shape (1, 3, 640, 640)\n",
      "\n",
      "0: 192x640 1 handwrite, 11.0ms\n",
      "Speed: 0.1ms preprocess, 11.0ms inference, 0.3ms postprocess per image at shape (1, 3, 640, 640)\n",
      "\n",
      "0: 640x480 1 signer, 110.2ms\n",
      "Speed: 0.3ms preprocess, 110.2ms inference, 0.7ms postprocess per image at shape (1, 3, 640, 640)\n"
     ]
    },
    {
     "name": "stdout",
     "output_type": "stream",
     "text": [
      "in process: 853/1000\r"
     ]
    },
    {
     "name": "stderr",
     "output_type": "stream",
     "text": [
      "\n",
      "0: 640x480 (no detections), 103.9ms\n",
      "Speed: 0.3ms preprocess, 103.9ms inference, 0.2ms postprocess per image at shape (1, 3, 640, 640)\n",
      "\n",
      "0: 640x480 (no detections), 103.5ms\n",
      "Speed: 0.3ms preprocess, 103.5ms inference, 0.2ms postprocess per image at shape (1, 3, 640, 640)\n",
      "\n",
      "0: 640x480 1 content, 1 date, 1 number, 1 sender, 102.4ms\n",
      "Speed: 0.3ms preprocess, 102.4ms inference, 0.3ms postprocess per image at shape (1, 3, 640, 640)\n",
      "\n",
      "0: 224x640 1 handwrite, 12.3ms\n",
      "Speed: 0.1ms preprocess, 12.3ms inference, 0.3ms postprocess per image at shape (1, 3, 640, 640)\n",
      "\n",
      "0: 192x640 1 handwrite, 15.6ms\n",
      "Speed: 0.1ms preprocess, 15.6ms inference, 0.6ms postprocess per image at shape (1, 3, 640, 640)\n",
      "\n",
      "0: 640x480 1 signer, 103.5ms\n",
      "Speed: 0.3ms preprocess, 103.5ms inference, 0.3ms postprocess per image at shape (1, 3, 640, 640)\n",
      "\n"
     ]
    },
    {
     "name": "stdout",
     "output_type": "stream",
     "text": [
      "in process: 854/1000\r"
     ]
    },
    {
     "name": "stderr",
     "output_type": "stream",
     "text": [
      "0: 640x480 2 numbers, 1 sender, 1 signer, 104.2ms\n",
      "Speed: 0.3ms preprocess, 104.2ms inference, 0.3ms postprocess per image at shape (1, 3, 640, 640)\n",
      "\n",
      "0: 160x640 1 handwrite, 10.6ms\n",
      "Speed: 0.2ms preprocess, 10.6ms inference, 0.3ms postprocess per image at shape (1, 3, 640, 640)\n",
      "\n",
      "0: 96x640 1 handwrite, 7.6ms\n",
      "Speed: 0.1ms preprocess, 7.6ms inference, 0.3ms postprocess per image at shape (1, 3, 640, 640)\n",
      "\n"
     ]
    },
    {
     "name": "stdout",
     "output_type": "stream",
     "text": [
      "in process: 855/1000\r"
     ]
    },
    {
     "name": "stderr",
     "output_type": "stream",
     "text": [
      "0: 640x480 1 date, 1 sender, 1 signer, 103.5ms\n",
      "Speed: 0.3ms preprocess, 103.5ms inference, 0.3ms postprocess per image at shape (1, 3, 640, 640)\n",
      "\n",
      "0: 128x640 1 handwrite, 9.6ms\n",
      "Speed: 0.2ms preprocess, 9.6ms inference, 0.4ms postprocess per image at shape (1, 3, 640, 640)\n"
     ]
    },
    {
     "name": "stdout",
     "output_type": "stream",
     "text": [
      "in process: 856/1000\r"
     ]
    },
    {
     "name": "stderr",
     "output_type": "stream",
     "text": [
      "\n",
      "0: 480x640 1 number, 1 sender, 108.0ms\n",
      "Speed: 0.3ms preprocess, 108.0ms inference, 1.6ms postprocess per image at shape (1, 3, 640, 640)\n",
      "\n",
      "0: 160x640 1 typewritten, 10.8ms\n",
      "Speed: 0.2ms preprocess, 10.8ms inference, 0.3ms postprocess per image at shape (1, 3, 640, 640)\n",
      "\n",
      "0: 640x480 (no detections), 107.3ms\n",
      "Speed: 0.3ms preprocess, 107.3ms inference, 0.2ms postprocess per image at shape (1, 3, 640, 640)\n",
      "\n",
      "0: 640x480 1 date, 1 number, 1 sender, 1 signer, 106.8ms\n",
      "Speed: 0.3ms preprocess, 106.8ms inference, 0.3ms postprocess per image at shape (1, 3, 640, 640)\n",
      "\n",
      "0: 160x640 1 handwrite, 12.3ms\n",
      "Speed: 0.2ms preprocess, 12.3ms inference, 0.3ms postprocess per image at shape (1, 3, 640, 640)\n",
      "\n",
      "0: 224x640 1 handwrite, 12.4ms\n",
      "Speed: 0.1ms preprocess, 12.4ms inference, 0.3ms postprocess per image at shape (1, 3, 640, 640)\n"
     ]
    },
    {
     "name": "stdout",
     "output_type": "stream",
     "text": [
      "in process: 857/1000\r"
     ]
    },
    {
     "name": "stderr",
     "output_type": "stream",
     "text": [
      "\n",
      "0: 640x480 1 content, 1 date, 1 number, 1 sender, 1 signer, 103.3ms\n",
      "Speed: 0.3ms preprocess, 103.3ms inference, 1.7ms postprocess per image at shape (1, 3, 640, 640)\n",
      "\n",
      "0: 128x640 1 handwrite, 8.8ms\n",
      "Speed: 0.2ms preprocess, 8.8ms inference, 0.3ms postprocess per image at shape (1, 3, 640, 640)\n",
      "\n",
      "0: 192x640 1 handwrite, 11.4ms\n",
      "Speed: 0.1ms preprocess, 11.4ms inference, 0.3ms postprocess per image at shape (1, 3, 640, 640)\n"
     ]
    },
    {
     "name": "stdout",
     "output_type": "stream",
     "text": [
      "in process: 858/1000\r"
     ]
    },
    {
     "name": "stderr",
     "output_type": "stream",
     "text": [
      "\n",
      "0: 640x480 1 sender, 103.4ms\n",
      "Speed: 0.3ms preprocess, 103.4ms inference, 0.3ms postprocess per image at shape (1, 3, 640, 640)\n",
      "\n",
      "0: 640x480 1 signer, 103.3ms\n",
      "Speed: 0.3ms preprocess, 103.3ms inference, 0.3ms postprocess per image at shape (1, 3, 640, 640)\n",
      "\n"
     ]
    },
    {
     "name": "stdout",
     "output_type": "stream",
     "text": [
      "in process: 859/1000\r"
     ]
    },
    {
     "name": "stderr",
     "output_type": "stream",
     "text": [
      "0: 640x448 1 date, 1 number, 1 sender, 1 signer, 107.2ms\n",
      "Speed: 0.3ms preprocess, 107.2ms inference, 0.3ms postprocess per image at shape (1, 3, 640, 640)\n",
      "\n",
      "0: 192x640 1 handwrite, 11.4ms\n",
      "Speed: 0.2ms preprocess, 11.4ms inference, 0.3ms postprocess per image at shape (1, 3, 640, 640)\n",
      "\n",
      "0: 128x640 1 handwrite, 8.7ms\n",
      "Speed: 0.1ms preprocess, 8.7ms inference, 0.3ms postprocess per image at shape (1, 3, 640, 640)\n"
     ]
    },
    {
     "name": "stdout",
     "output_type": "stream",
     "text": [
      "in process: 860/1000\r"
     ]
    },
    {
     "name": "stderr",
     "output_type": "stream",
     "text": [
      "\n",
      "0: 640x480 (no detections), 106.4ms\n",
      "Speed: 0.3ms preprocess, 106.4ms inference, 0.2ms postprocess per image at shape (1, 3, 640, 640)\n",
      "\n",
      "0: 640x480 2 senders, 103.5ms\n",
      "Speed: 0.3ms preprocess, 103.5ms inference, 0.3ms postprocess per image at shape (1, 3, 640, 640)\n",
      "\n",
      "0: 640x480 1 sender, 103.1ms\n",
      "Speed: 0.3ms preprocess, 103.1ms inference, 0.3ms postprocess per image at shape (1, 3, 640, 640)\n",
      "\n",
      "0: 640x480 (no detections), 104.4ms\n",
      "Speed: 0.3ms preprocess, 104.4ms inference, 0.2ms postprocess per image at shape (1, 3, 640, 640)\n",
      "\n",
      "0: 640x480 (no detections), 103.8ms\n",
      "Speed: 0.3ms preprocess, 103.8ms inference, 0.2ms postprocess per image at shape (1, 3, 640, 640)\n",
      "\n",
      "0: 640x480 (no detections), 105.0ms\n",
      "Speed: 0.3ms preprocess, 105.0ms inference, 0.2ms postprocess per image at shape (1, 3, 640, 640)\n",
      "\n",
      "0: 640x480 1 signer, 103.4ms\n",
      "Speed: 0.3ms preprocess, 103.4ms inference, 0.3ms postprocess per image at shape (1, 3, 640, 640)\n"
     ]
    },
    {
     "name": "stdout",
     "output_type": "stream",
     "text": [
      "in process: 861/1000\r"
     ]
    },
    {
     "name": "stderr",
     "output_type": "stream",
     "text": [
      "\n",
      "0: 640x480 1 content, 1 date, 1 number, 1 sender, 1 signer, 102.1ms\n",
      "Speed: 0.3ms preprocess, 102.1ms inference, 1.4ms postprocess per image at shape (1, 3, 640, 640)\n",
      "\n",
      "0: 160x640 2 handwrites, 10.7ms\n",
      "Speed: 0.4ms preprocess, 10.7ms inference, 0.3ms postprocess per image at shape (1, 3, 640, 640)\n",
      "\n",
      "0: 192x640 1 handwrite, 11.3ms\n",
      "Speed: 0.1ms preprocess, 11.3ms inference, 0.3ms postprocess per image at shape (1, 3, 640, 640)\n"
     ]
    },
    {
     "name": "stdout",
     "output_type": "stream",
     "text": [
      "in process: 862/1000\r"
     ]
    },
    {
     "name": "stderr",
     "output_type": "stream",
     "text": [
      "\n",
      "0: 640x480 1 date, 1 number, 2 senders, 2 signers, 104.3ms\n",
      "Speed: 0.3ms preprocess, 104.3ms inference, 0.4ms postprocess per image at shape (1, 3, 640, 640)\n",
      "\n",
      "0: 96x640 1 handwrite, 8.5ms\n",
      "Speed: 0.1ms preprocess, 8.5ms inference, 0.4ms postprocess per image at shape (1, 3, 640, 640)\n",
      "\n",
      "0: 192x640 1 typewritten, 11.2ms\n",
      "Speed: 0.2ms preprocess, 11.2ms inference, 0.3ms postprocess per image at shape (1, 3, 640, 640)\n"
     ]
    },
    {
     "name": "stdout",
     "output_type": "stream",
     "text": [
      "in process: 863/1000\r"
     ]
    },
    {
     "name": "stderr",
     "output_type": "stream",
     "text": [
      "\n",
      "0: 640x480 1 date, 1 number, 1 sender, 2 signers, 106.0ms\n",
      "Speed: 0.3ms preprocess, 106.0ms inference, 1.6ms postprocess per image at shape (1, 3, 640, 640)\n",
      "\n",
      "0: 160x640 1 handwrite, 10.7ms\n",
      "Speed: 0.4ms preprocess, 10.7ms inference, 0.3ms postprocess per image at shape (1, 3, 640, 640)\n",
      "\n",
      "0: 192x640 1 handwrite, 11.3ms\n",
      "Speed: 0.1ms preprocess, 11.3ms inference, 0.3ms postprocess per image at shape (1, 3, 640, 640)\n"
     ]
    },
    {
     "name": "stdout",
     "output_type": "stream",
     "text": [
      "in process: 864/1000\r"
     ]
    },
    {
     "name": "stderr",
     "output_type": "stream",
     "text": [
      "\n",
      "0: 480x640 1 number, 1 sender, 105.8ms\n",
      "Speed: 0.3ms preprocess, 105.8ms inference, 0.3ms postprocess per image at shape (1, 3, 640, 640)\n",
      "\n",
      "0: 160x640 1 typewritten, 10.6ms\n",
      "Speed: 0.2ms preprocess, 10.6ms inference, 0.3ms postprocess per image at shape (1, 3, 640, 640)\n",
      "\n",
      "0: 640x480 (no detections), 106.4ms\n",
      "Speed: 0.3ms preprocess, 106.4ms inference, 0.2ms postprocess per image at shape (1, 3, 640, 640)\n",
      "\n",
      "0: 640x480 (no detections), 103.3ms\n",
      "Speed: 0.3ms preprocess, 103.3ms inference, 0.2ms postprocess per image at shape (1, 3, 640, 640)\n",
      "\n",
      "0: 640x480 (no detections), 104.0ms\n",
      "Speed: 0.3ms preprocess, 104.0ms inference, 0.2ms postprocess per image at shape (1, 3, 640, 640)\n",
      "\n",
      "0: 640x480 2 signers, 106.1ms\n",
      "Speed: 0.3ms preprocess, 106.1ms inference, 0.3ms postprocess per image at shape (1, 3, 640, 640)\n",
      "\n"
     ]
    },
    {
     "name": "stdout",
     "output_type": "stream",
     "text": [
      "in process: 865/1000\r"
     ]
    },
    {
     "name": "stderr",
     "output_type": "stream",
     "text": [
      "0: 480x640 1 number, 1 sender, 105.2ms\n",
      "Speed: 0.3ms preprocess, 105.2ms inference, 0.3ms postprocess per image at shape (1, 3, 640, 640)\n",
      "\n",
      "0: 192x640 1 typewritten, 15.7ms\n",
      "Speed: 0.2ms preprocess, 15.7ms inference, 0.6ms postprocess per image at shape (1, 3, 640, 640)\n",
      "\n",
      "0: 640x480 (no detections), 103.9ms\n",
      "Speed: 0.3ms preprocess, 103.9ms inference, 0.2ms postprocess per image at shape (1, 3, 640, 640)\n"
     ]
    },
    {
     "name": "stdout",
     "output_type": "stream",
     "text": [
      "in process: 866/1000\r"
     ]
    },
    {
     "name": "stderr",
     "output_type": "stream",
     "text": [
      "\n",
      "0: 640x480 1 date, 1 number, 1 sender, 1 signer, 104.5ms\n",
      "Speed: 0.3ms preprocess, 104.5ms inference, 0.4ms postprocess per image at shape (1, 3, 640, 640)\n",
      "\n",
      "0: 192x640 1 handwrite, 1 typewritten, 11.0ms\n",
      "Speed: 0.1ms preprocess, 11.0ms inference, 0.3ms postprocess per image at shape (1, 3, 640, 640)\n",
      "\n",
      "0: 128x640 1 typewritten, 8.7ms\n",
      "Speed: 0.2ms preprocess, 8.7ms inference, 0.3ms postprocess per image at shape (1, 3, 640, 640)\n"
     ]
    },
    {
     "name": "stdout",
     "output_type": "stream",
     "text": [
      "in process: 867/1000\r"
     ]
    },
    {
     "name": "stderr",
     "output_type": "stream",
     "text": [
      "\n",
      "0: 640x480 1 date, 1 number, 1 sender, 1 signer, 107.7ms\n",
      "Speed: 0.3ms preprocess, 107.7ms inference, 0.4ms postprocess per image at shape (1, 3, 640, 640)\n",
      "\n",
      "0: 192x640 1 handwrite, 15.8ms\n",
      "Speed: 0.2ms preprocess, 15.8ms inference, 0.6ms postprocess per image at shape (1, 3, 640, 640)\n",
      "\n",
      "0: 192x640 1 handwrite, 15.3ms\n",
      "Speed: 0.1ms preprocess, 15.3ms inference, 0.6ms postprocess per image at shape (1, 3, 640, 640)\n",
      "\n"
     ]
    },
    {
     "name": "stdout",
     "output_type": "stream",
     "text": [
      "in process: 868/1000\r"
     ]
    },
    {
     "name": "stderr",
     "output_type": "stream",
     "text": [
      "0: 640x480 1 date, 1 number, 1 sender, 1 signer, 104.2ms\n",
      "Speed: 0.3ms preprocess, 104.2ms inference, 0.4ms postprocess per image at shape (1, 3, 640, 640)\n",
      "\n",
      "0: 160x640 1 handwrite, 14.9ms\n",
      "Speed: 0.4ms preprocess, 14.9ms inference, 0.6ms postprocess per image at shape (1, 3, 640, 640)\n",
      "\n",
      "0: 192x640 1 handwrite, 15.9ms\n",
      "Speed: 0.2ms preprocess, 15.9ms inference, 0.6ms postprocess per image at shape (1, 3, 640, 640)\n"
     ]
    },
    {
     "name": "stdout",
     "output_type": "stream",
     "text": [
      "in process: 869/1000\r"
     ]
    },
    {
     "name": "stderr",
     "output_type": "stream",
     "text": [
      "\n",
      "0: 640x480 1 content, 1 date, 1 number, 1 sender, 1 signer, 103.3ms\n",
      "Speed: 0.3ms preprocess, 103.3ms inference, 0.4ms postprocess per image at shape (1, 3, 640, 640)\n",
      "\n",
      "0: 160x640 1 typewritten, 11.9ms\n",
      "Speed: 0.2ms preprocess, 11.9ms inference, 0.3ms postprocess per image at shape (1, 3, 640, 640)\n",
      "\n",
      "0: 160x640 1 typewritten, 11.0ms\n",
      "Speed: 0.2ms preprocess, 11.0ms inference, 0.3ms postprocess per image at shape (1, 3, 640, 640)\n"
     ]
    },
    {
     "name": "stdout",
     "output_type": "stream",
     "text": [
      "in process: 870/1000\r"
     ]
    },
    {
     "name": "stderr",
     "output_type": "stream",
     "text": [
      "\n",
      "0: 640x480 1 content, 1 date, 1 number, 1 sender, 1 signer, 106.3ms\n",
      "Speed: 0.3ms preprocess, 106.3ms inference, 0.3ms postprocess per image at shape (1, 3, 640, 640)\n",
      "\n",
      "0: 160x640 1 handwrite, 11.5ms\n",
      "Speed: 0.2ms preprocess, 11.5ms inference, 0.3ms postprocess per image at shape (1, 3, 640, 640)\n",
      "\n",
      "0: 160x640 1 handwrite, 10.3ms\n",
      "Speed: 0.1ms preprocess, 10.3ms inference, 0.3ms postprocess per image at shape (1, 3, 640, 640)\n"
     ]
    },
    {
     "name": "stdout",
     "output_type": "stream",
     "text": [
      "in process: 871/1000\r"
     ]
    },
    {
     "name": "stderr",
     "output_type": "stream",
     "text": [
      "\n",
      "0: 640x480 1 date, 1 sender, 1 signer, 103.9ms\n",
      "Speed: 0.3ms preprocess, 103.9ms inference, 0.4ms postprocess per image at shape (1, 3, 640, 640)\n",
      "\n",
      "0: 160x640 2 handwrites, 12.8ms\n",
      "Speed: 0.2ms preprocess, 12.8ms inference, 0.3ms postprocess per image at shape (1, 3, 640, 640)\n"
     ]
    },
    {
     "name": "stdout",
     "output_type": "stream",
     "text": [
      "in process: 872/1000\r"
     ]
    },
    {
     "name": "stderr",
     "output_type": "stream",
     "text": [
      "\n",
      "0: 640x480 1 date, 1 number, 1 sender, 1 signer, 102.4ms\n",
      "Speed: 0.3ms preprocess, 102.4ms inference, 0.4ms postprocess per image at shape (1, 3, 640, 640)\n",
      "\n",
      "0: 96x640 1 typewritten, 7.7ms\n",
      "Speed: 0.2ms preprocess, 7.7ms inference, 0.3ms postprocess per image at shape (1, 3, 640, 640)\n",
      "\n",
      "0: 160x640 1 typewritten, 10.8ms\n",
      "Speed: 0.2ms preprocess, 10.8ms inference, 0.3ms postprocess per image at shape (1, 3, 640, 640)\n"
     ]
    },
    {
     "name": "stdout",
     "output_type": "stream",
     "text": [
      "in process: 873/1000\r"
     ]
    },
    {
     "name": "stderr",
     "output_type": "stream",
     "text": [
      "\n",
      "0: 640x480 1 content, 1 date, 1 number, 1 sender, 1 signer, 104.0ms\n",
      "Speed: 0.3ms preprocess, 104.0ms inference, 0.4ms postprocess per image at shape (1, 3, 640, 640)\n",
      "\n",
      "0: 160x640 1 handwrite, 10.7ms\n",
      "Speed: 0.2ms preprocess, 10.7ms inference, 0.3ms postprocess per image at shape (1, 3, 640, 640)\n",
      "\n",
      "0: 128x640 1 handwrite, 8.6ms\n",
      "Speed: 0.1ms preprocess, 8.6ms inference, 0.3ms postprocess per image at shape (1, 3, 640, 640)\n"
     ]
    },
    {
     "name": "stdout",
     "output_type": "stream",
     "text": [
      "in process: 874/1000\r"
     ]
    },
    {
     "name": "stderr",
     "output_type": "stream",
     "text": [
      "\n",
      "0: 640x480 1 date, 2 numbers, 2 senders, 1 signer, 106.4ms\n",
      "Speed: 0.3ms preprocess, 106.4ms inference, 0.4ms postprocess per image at shape (1, 3, 640, 640)\n",
      "\n",
      "0: 160x640 1 handwrite, 10.9ms\n",
      "Speed: 0.2ms preprocess, 10.9ms inference, 0.3ms postprocess per image at shape (1, 3, 640, 640)\n",
      "\n",
      "0: 160x640 1 handwrite, 10.3ms\n",
      "Speed: 0.1ms preprocess, 10.3ms inference, 0.3ms postprocess per image at shape (1, 3, 640, 640)\n",
      "\n",
      "0: 96x640 1 handwrite, 7.5ms\n",
      "Speed: 0.1ms preprocess, 7.5ms inference, 0.3ms postprocess per image at shape (1, 3, 640, 640)\n",
      "\n"
     ]
    },
    {
     "name": "stdout",
     "output_type": "stream",
     "text": [
      "in process: 875/1000\r"
     ]
    },
    {
     "name": "stderr",
     "output_type": "stream",
     "text": [
      "0: 640x480 (no detections), 106.0ms\n",
      "Speed: 0.3ms preprocess, 106.0ms inference, 0.2ms postprocess per image at shape (1, 3, 640, 640)\n",
      "\n"
     ]
    },
    {
     "name": "stdout",
     "output_type": "stream",
     "text": [
      "in process: 876/1000\r"
     ]
    },
    {
     "name": "stderr",
     "output_type": "stream",
     "text": [
      "0: 640x480 1 content, 1 date, 1 number, 1 signer, 103.1ms\n",
      "Speed: 0.3ms preprocess, 103.1ms inference, 0.3ms postprocess per image at shape (1, 3, 640, 640)\n",
      "\n",
      "0: 192x640 1 typewritten, 11.1ms\n",
      "Speed: 0.1ms preprocess, 11.1ms inference, 0.3ms postprocess per image at shape (1, 3, 640, 640)\n",
      "\n",
      "0: 160x640 1 typewritten, 11.5ms\n",
      "Speed: 0.2ms preprocess, 11.5ms inference, 0.4ms postprocess per image at shape (1, 3, 640, 640)\n",
      "\n"
     ]
    },
    {
     "name": "stdout",
     "output_type": "stream",
     "text": [
      "in process: 877/1000\r"
     ]
    },
    {
     "name": "stderr",
     "output_type": "stream",
     "text": [
      "0: 640x480 1 date, 1 number, 1 sender, 2 signers, 104.0ms\n",
      "Speed: 0.3ms preprocess, 104.0ms inference, 2.0ms postprocess per image at shape (1, 3, 640, 640)\n",
      "\n",
      "0: 128x640 1 handwrite, 12.5ms\n",
      "Speed: 0.2ms preprocess, 12.5ms inference, 0.6ms postprocess per image at shape (1, 3, 640, 640)\n",
      "\n",
      "0: 192x640 1 handwrite, 11.2ms\n",
      "Speed: 0.2ms preprocess, 11.2ms inference, 0.3ms postprocess per image at shape (1, 3, 640, 640)\n"
     ]
    },
    {
     "name": "stdout",
     "output_type": "stream",
     "text": [
      "in process: 878/1000\r"
     ]
    },
    {
     "name": "stderr",
     "output_type": "stream",
     "text": [
      "\n",
      "0: 640x480 1 date, 2 senders, 1 signer, 102.8ms\n",
      "Speed: 0.3ms preprocess, 102.8ms inference, 0.3ms postprocess per image at shape (1, 3, 640, 640)\n",
      "\n",
      "0: 160x640 1 handwrite, 14.9ms\n",
      "Speed: 0.3ms preprocess, 14.9ms inference, 0.6ms postprocess per image at shape (1, 3, 640, 640)\n"
     ]
    },
    {
     "name": "stdout",
     "output_type": "stream",
     "text": [
      "in process: 879/1000\r"
     ]
    },
    {
     "name": "stderr",
     "output_type": "stream",
     "text": [
      "\n",
      "0: 640x480 1 date, 2 numbers, 1 sender, 1 signer, 105.9ms\n",
      "Speed: 0.3ms preprocess, 105.9ms inference, 0.3ms postprocess per image at shape (1, 3, 640, 640)\n",
      "\n",
      "0: 160x640 1 handwrite, 14.5ms\n",
      "Speed: 0.2ms preprocess, 14.5ms inference, 0.6ms postprocess per image at shape (1, 3, 640, 640)\n",
      "\n",
      "0: 128x640 1 handwrite, 12.7ms\n",
      "Speed: 0.1ms preprocess, 12.7ms inference, 0.6ms postprocess per image at shape (1, 3, 640, 640)\n",
      "\n",
      "0: 320x640 3 handwrites, 19.1ms\n",
      "Speed: 0.1ms preprocess, 19.1ms inference, 0.6ms postprocess per image at shape (1, 3, 640, 640)\n"
     ]
    },
    {
     "name": "stdout",
     "output_type": "stream",
     "text": [
      "in process: 880/1000\r"
     ]
    },
    {
     "name": "stderr",
     "output_type": "stream",
     "text": [
      "\n",
      "0: 640x480 1 date, 1 number, 1 sender, 1 signer, 105.7ms\n",
      "Speed: 0.3ms preprocess, 105.7ms inference, 0.4ms postprocess per image at shape (1, 3, 640, 640)\n",
      "\n",
      "0: 192x640 1 handwrite, 15.7ms\n",
      "Speed: 0.2ms preprocess, 15.7ms inference, 0.6ms postprocess per image at shape (1, 3, 640, 640)\n",
      "\n",
      "0: 192x640 1 typewritten, 15.3ms\n",
      "Speed: 0.1ms preprocess, 15.3ms inference, 0.6ms postprocess per image at shape (1, 3, 640, 640)\n",
      "\n"
     ]
    },
    {
     "name": "stdout",
     "output_type": "stream",
     "text": [
      "in process: 881/1000\r"
     ]
    },
    {
     "name": "stderr",
     "output_type": "stream",
     "text": [
      "0: 640x480 1 date, 1 number, 1 sender, 1 signer, 106.4ms\n",
      "Speed: 0.3ms preprocess, 106.4ms inference, 0.4ms postprocess per image at shape (1, 3, 640, 640)\n",
      "\n",
      "0: 192x640 1 typewritten, 11.4ms\n",
      "Speed: 0.2ms preprocess, 11.4ms inference, 0.3ms postprocess per image at shape (1, 3, 640, 640)\n",
      "\n",
      "0: 128x640 1 handwrite, 1 typewritten, 9.7ms\n",
      "Speed: 0.2ms preprocess, 9.7ms inference, 0.3ms postprocess per image at shape (1, 3, 640, 640)\n"
     ]
    },
    {
     "name": "stdout",
     "output_type": "stream",
     "text": [
      "in process: 882/1000\r"
     ]
    },
    {
     "name": "stderr",
     "output_type": "stream",
     "text": [
      "\n",
      "0: 640x480 2 dates, 1 number, 1 sender, 1 signer, 104.5ms\n",
      "Speed: 0.3ms preprocess, 104.5ms inference, 0.4ms postprocess per image at shape (1, 3, 640, 640)\n",
      "\n",
      "0: 224x640 1 handwrite, 12.4ms\n",
      "Speed: 0.2ms preprocess, 12.4ms inference, 0.3ms postprocess per image at shape (1, 3, 640, 640)\n",
      "\n",
      "0: 128x640 1 handwrite, 8.6ms\n",
      "Speed: 0.7ms preprocess, 8.6ms inference, 0.3ms postprocess per image at shape (1, 3, 640, 640)\n",
      "\n",
      "0: 128x640 1 handwrite, 8.3ms\n",
      "Speed: 0.1ms preprocess, 8.3ms inference, 0.3ms postprocess per image at shape (1, 3, 640, 640)\n",
      "\n"
     ]
    },
    {
     "name": "stdout",
     "output_type": "stream",
     "text": [
      "in process: 883/1000\r"
     ]
    },
    {
     "name": "stderr",
     "output_type": "stream",
     "text": [
      "0: 640x480 1 date, 1 number, 1 sender, 107.3ms\n",
      "Speed: 0.3ms preprocess, 107.3ms inference, 0.3ms postprocess per image at shape (1, 3, 640, 640)\n",
      "\n",
      "0: 192x640 1 typewritten, 11.3ms\n",
      "Speed: 0.2ms preprocess, 11.3ms inference, 0.3ms postprocess per image at shape (1, 3, 640, 640)\n",
      "\n",
      "0: 256x640 1 handwrite, 1 typewritten, 13.1ms\n",
      "Speed: 0.2ms preprocess, 13.1ms inference, 0.3ms postprocess per image at shape (1, 3, 640, 640)\n",
      "\n",
      "0: 640x480 (no detections), 104.0ms\n",
      "Speed: 0.3ms preprocess, 104.0ms inference, 0.2ms postprocess per image at shape (1, 3, 640, 640)\n",
      "\n",
      "0: 640x480 (no detections), 103.6ms\n",
      "Speed: 0.3ms preprocess, 103.6ms inference, 0.2ms postprocess per image at shape (1, 3, 640, 640)\n",
      "\n",
      "0: 640x480 (no detections), 106.3ms\n",
      "Speed: 0.3ms preprocess, 106.3ms inference, 0.2ms postprocess per image at shape (1, 3, 640, 640)\n",
      "\n",
      "0: 640x480 1 signer, 103.4ms\n",
      "Speed: 0.3ms preprocess, 103.4ms inference, 0.3ms postprocess per image at shape (1, 3, 640, 640)\n",
      "\n"
     ]
    },
    {
     "name": "stdout",
     "output_type": "stream",
     "text": [
      "in process: 884/1000\r"
     ]
    },
    {
     "name": "stderr",
     "output_type": "stream",
     "text": [
      "0: 640x480 2 dates, 1 number, 1 sender, 102.9ms\n",
      "Speed: 0.3ms preprocess, 102.9ms inference, 1.8ms postprocess per image at shape (1, 3, 640, 640)\n",
      "\n",
      "0: 128x640 1 handwrite, 8.8ms\n",
      "Speed: 0.2ms preprocess, 8.8ms inference, 0.3ms postprocess per image at shape (1, 3, 640, 640)\n",
      "\n",
      "0: 160x640 1 handwrite, 10.5ms\n",
      "Speed: 0.1ms preprocess, 10.5ms inference, 0.3ms postprocess per image at shape (1, 3, 640, 640)\n",
      "\n",
      "0: 160x640 1 handwrite, 10.6ms\n",
      "Speed: 0.2ms preprocess, 10.6ms inference, 0.3ms postprocess per image at shape (1, 3, 640, 640)\n",
      "\n",
      "0: 640x480 1 signer, 105.7ms\n",
      "Speed: 0.3ms preprocess, 105.7ms inference, 0.3ms postprocess per image at shape (1, 3, 640, 640)\n"
     ]
    },
    {
     "name": "stdout",
     "output_type": "stream",
     "text": [
      "in process: 885/1000\r"
     ]
    },
    {
     "name": "stderr",
     "output_type": "stream",
     "text": [
      "\n",
      "0: 640x480 1 date, 1 number, 102.3ms\n",
      "Speed: 0.3ms preprocess, 102.3ms inference, 1.2ms postprocess per image at shape (1, 3, 640, 640)\n",
      "\n",
      "0: 160x640 1 handwrite, 10.5ms\n",
      "Speed: 0.1ms preprocess, 10.5ms inference, 0.3ms postprocess per image at shape (1, 3, 640, 640)\n",
      "\n",
      "0: 192x640 1 handwrite, 15.5ms\n",
      "Speed: 0.1ms preprocess, 15.5ms inference, 0.6ms postprocess per image at shape (1, 3, 640, 640)\n",
      "\n",
      "0: 640x480 1 signer, 106.1ms\n",
      "Speed: 0.3ms preprocess, 106.1ms inference, 0.3ms postprocess per image at shape (1, 3, 640, 640)\n",
      "\n"
     ]
    },
    {
     "name": "stdout",
     "output_type": "stream",
     "text": [
      "in process: 886/1000\r"
     ]
    },
    {
     "name": "stderr",
     "output_type": "stream",
     "text": [
      "0: 640x480 2 senders, 1 signer, 104.0ms\n",
      "Speed: 0.3ms preprocess, 104.0ms inference, 0.3ms postprocess per image at shape (1, 3, 640, 640)\n"
     ]
    },
    {
     "name": "stdout",
     "output_type": "stream",
     "text": [
      "in process: 887/1000\r"
     ]
    },
    {
     "name": "stderr",
     "output_type": "stream",
     "text": [
      "\n",
      "0: 640x480 1 date, 1 number, 1 sender, 1 signer, 103.3ms\n",
      "Speed: 0.3ms preprocess, 103.3ms inference, 0.4ms postprocess per image at shape (1, 3, 640, 640)\n",
      "\n",
      "0: 128x640 1 handwrite, 8.8ms\n",
      "Speed: 0.2ms preprocess, 8.8ms inference, 0.3ms postprocess per image at shape (1, 3, 640, 640)\n",
      "\n",
      "0: 160x640 1 handwrite, 10.8ms\n",
      "Speed: 0.1ms preprocess, 10.8ms inference, 0.3ms postprocess per image at shape (1, 3, 640, 640)\n"
     ]
    },
    {
     "name": "stdout",
     "output_type": "stream",
     "text": [
      "in process: 888/1000\r"
     ]
    },
    {
     "name": "stderr",
     "output_type": "stream",
     "text": [
      "\n",
      "0: 640x480 1 content, 1 date, 1 number, 1 signer, 104.5ms\n",
      "Speed: 0.3ms preprocess, 104.5ms inference, 0.4ms postprocess per image at shape (1, 3, 640, 640)\n",
      "\n",
      "0: 160x640 1 handwrite, 10.6ms\n",
      "Speed: 0.2ms preprocess, 10.6ms inference, 0.3ms postprocess per image at shape (1, 3, 640, 640)\n",
      "\n",
      "0: 192x640 1 handwrite, 11.1ms\n",
      "Speed: 0.2ms preprocess, 11.1ms inference, 0.3ms postprocess per image at shape (1, 3, 640, 640)\n",
      "\n"
     ]
    },
    {
     "name": "stdout",
     "output_type": "stream",
     "text": [
      "in process: 889/1000\r"
     ]
    },
    {
     "name": "stderr",
     "output_type": "stream",
     "text": [
      "0: 640x480 1 date, 1 number, 1 sender, 1 signer, 103.6ms\n",
      "Speed: 0.3ms preprocess, 103.6ms inference, 1.3ms postprocess per image at shape (1, 3, 640, 640)\n",
      "\n",
      "0: 160x640 1 handwrite, 10.9ms\n",
      "Speed: 0.2ms preprocess, 10.9ms inference, 0.3ms postprocess per image at shape (1, 3, 640, 640)\n",
      "\n",
      "0: 128x640 2 handwrites, 11.3ms\n",
      "Speed: 0.1ms preprocess, 11.3ms inference, 0.6ms postprocess per image at shape (1, 3, 640, 640)\n",
      "\n"
     ]
    },
    {
     "name": "stdout",
     "output_type": "stream",
     "text": [
      "in process: 890/1000\r"
     ]
    },
    {
     "name": "stderr",
     "output_type": "stream",
     "text": [
      "0: 640x480 1 date, 1 number, 2 senders, 1 signer, 104.4ms\n",
      "Speed: 0.3ms preprocess, 104.4ms inference, 0.4ms postprocess per image at shape (1, 3, 640, 640)\n",
      "\n",
      "0: 192x640 1 handwrite, 11.3ms\n",
      "Speed: 0.2ms preprocess, 11.3ms inference, 0.3ms postprocess per image at shape (1, 3, 640, 640)\n",
      "\n",
      "0: 288x640 1 handwrite, 14.6ms\n",
      "Speed: 0.1ms preprocess, 14.6ms inference, 0.3ms postprocess per image at shape (1, 3, 640, 640)\n",
      "\n"
     ]
    },
    {
     "name": "stdout",
     "output_type": "stream",
     "text": [
      "in process: 891/1000\r"
     ]
    },
    {
     "name": "stderr",
     "output_type": "stream",
     "text": [
      "0: 640x480 1 content, 1 date, 1 number, 1 sender, 1 signer, 102.4ms\n",
      "Speed: 0.3ms preprocess, 102.4ms inference, 0.4ms postprocess per image at shape (1, 3, 640, 640)\n",
      "\n",
      "0: 160x640 1 handwrite, 11.5ms\n",
      "Speed: 0.2ms preprocess, 11.5ms inference, 0.4ms postprocess per image at shape (1, 3, 640, 640)\n",
      "\n",
      "0: 160x640 1 handwrite, 10.7ms\n",
      "Speed: 0.1ms preprocess, 10.7ms inference, 0.3ms postprocess per image at shape (1, 3, 640, 640)\n",
      "\n"
     ]
    },
    {
     "name": "stdout",
     "output_type": "stream",
     "text": [
      "in process: 892/1000\r"
     ]
    },
    {
     "name": "stderr",
     "output_type": "stream",
     "text": [
      "0: 640x480 1 content, 1 date, 1 number, 1 sender, 1 signer, 106.2ms\n",
      "Speed: 0.3ms preprocess, 106.2ms inference, 0.4ms postprocess per image at shape (1, 3, 640, 640)\n",
      "\n",
      "0: 160x640 1 handwrite, 10.6ms\n",
      "Speed: 0.2ms preprocess, 10.6ms inference, 0.3ms postprocess per image at shape (1, 3, 640, 640)\n",
      "\n",
      "0: 192x640 1 typewritten, 11.3ms\n",
      "Speed: 0.2ms preprocess, 11.3ms inference, 0.3ms postprocess per image at shape (1, 3, 640, 640)\n",
      "\n"
     ]
    },
    {
     "name": "stdout",
     "output_type": "stream",
     "text": [
      "in process: 893/1000\r"
     ]
    },
    {
     "name": "stderr",
     "output_type": "stream",
     "text": [
      "0: 640x480 1 content, 2 dates, 1 number, 1 sender, 106.0ms\n",
      "Speed: 0.3ms preprocess, 106.0ms inference, 0.7ms postprocess per image at shape (1, 3, 640, 640)\n",
      "\n",
      "0: 288x640 1 typewritten, 14.8ms\n",
      "Speed: 0.2ms preprocess, 14.8ms inference, 0.3ms postprocess per image at shape (1, 3, 640, 640)\n",
      "\n",
      "0: 224x640 1 typewritten, 12.3ms\n",
      "Speed: 0.2ms preprocess, 12.3ms inference, 0.3ms postprocess per image at shape (1, 3, 640, 640)\n",
      "\n",
      "0: 160x640 1 typewritten, 10.6ms\n",
      "Speed: 0.2ms preprocess, 10.6ms inference, 0.3ms postprocess per image at shape (1, 3, 640, 640)\n",
      "\n"
     ]
    },
    {
     "name": "stdout",
     "output_type": "stream",
     "text": [
      "in process: 894/1000\r"
     ]
    },
    {
     "name": "stderr",
     "output_type": "stream",
     "text": [
      "0: 640x480 1 content, 1 date, 1 number, 1 sender, 1 signer, 104.1ms\n",
      "Speed: 0.3ms preprocess, 104.1ms inference, 0.4ms postprocess per image at shape (1, 3, 640, 640)\n",
      "\n",
      "0: 128x640 1 handwrite, 8.7ms\n",
      "Speed: 0.1ms preprocess, 8.7ms inference, 0.3ms postprocess per image at shape (1, 3, 640, 640)\n",
      "\n",
      "0: 160x640 1 handwrite, 10.7ms\n",
      "Speed: 0.1ms preprocess, 10.7ms inference, 0.3ms postprocess per image at shape (1, 3, 640, 640)\n"
     ]
    },
    {
     "name": "stdout",
     "output_type": "stream",
     "text": [
      "in process: 895/1000\r"
     ]
    },
    {
     "name": "stderr",
     "output_type": "stream",
     "text": [
      "\n",
      "0: 640x480 1 content, 1 date, 1 number, 1 sender, 104.0ms\n",
      "Speed: 0.3ms preprocess, 104.0ms inference, 0.3ms postprocess per image at shape (1, 3, 640, 640)\n",
      "\n",
      "0: 160x640 1 handwrite, 10.6ms\n",
      "Speed: 0.2ms preprocess, 10.6ms inference, 0.3ms postprocess per image at shape (1, 3, 640, 640)\n",
      "\n",
      "0: 192x640 1 handwrite, 11.4ms\n",
      "Speed: 0.1ms preprocess, 11.4ms inference, 0.3ms postprocess per image at shape (1, 3, 640, 640)\n",
      "\n",
      "0: 640x480 (no detections), 103.9ms\n",
      "Speed: 0.3ms preprocess, 103.9ms inference, 0.2ms postprocess per image at shape (1, 3, 640, 640)\n",
      "\n",
      "0: 640x480 1 signer, 104.5ms\n",
      "Speed: 0.3ms preprocess, 104.5ms inference, 0.3ms postprocess per image at shape (1, 3, 640, 640)\n"
     ]
    },
    {
     "name": "stdout",
     "output_type": "stream",
     "text": [
      "in process: 896/1000\r"
     ]
    },
    {
     "name": "stderr",
     "output_type": "stream",
     "text": [
      "\n",
      "0: 640x480 1 content, 1 date, 1 number, 1 sender, 105.8ms\n",
      "Speed: 0.3ms preprocess, 105.8ms inference, 0.3ms postprocess per image at shape (1, 3, 640, 640)\n",
      "\n",
      "0: 128x640 1 handwrite, 8.7ms\n",
      "Speed: 0.1ms preprocess, 8.7ms inference, 0.3ms postprocess per image at shape (1, 3, 640, 640)\n",
      "\n",
      "0: 288x640 2 handwrites, 14.5ms\n",
      "Speed: 0.1ms preprocess, 14.5ms inference, 0.3ms postprocess per image at shape (1, 3, 640, 640)\n",
      "\n",
      "0: 640x480 1 signer, 105.6ms\n",
      "Speed: 0.3ms preprocess, 105.6ms inference, 0.3ms postprocess per image at shape (1, 3, 640, 640)\n"
     ]
    },
    {
     "name": "stdout",
     "output_type": "stream",
     "text": [
      "in process: 897/1000\r"
     ]
    },
    {
     "name": "stderr",
     "output_type": "stream",
     "text": [
      "\n",
      "0: 640x480 1 date, 1 number, 1 sender, 105.8ms\n",
      "Speed: 0.3ms preprocess, 105.8ms inference, 0.3ms postprocess per image at shape (1, 3, 640, 640)\n",
      "\n",
      "0: 224x640 2 handwrites, 12.4ms\n",
      "Speed: 0.1ms preprocess, 12.4ms inference, 0.3ms postprocess per image at shape (1, 3, 640, 640)\n",
      "\n",
      "0: 128x640 1 handwrite, 12.6ms\n",
      "Speed: 0.2ms preprocess, 12.6ms inference, 0.6ms postprocess per image at shape (1, 3, 640, 640)\n",
      "\n",
      "0: 640x480 (no detections), 105.9ms\n",
      "Speed: 0.3ms preprocess, 105.9ms inference, 0.2ms postprocess per image at shape (1, 3, 640, 640)\n",
      "\n",
      "0: 640x480 1 number, 1 sender, 1 signer, 106.6ms\n",
      "Speed: 0.3ms preprocess, 106.6ms inference, 0.3ms postprocess per image at shape (1, 3, 640, 640)\n",
      "\n",
      "0: 128x640 1 handwrite, 12.3ms\n",
      "Speed: 0.2ms preprocess, 12.3ms inference, 0.6ms postprocess per image at shape (1, 3, 640, 640)\n"
     ]
    },
    {
     "name": "stdout",
     "output_type": "stream",
     "text": [
      "in process: 898/1000\r"
     ]
    },
    {
     "name": "stderr",
     "output_type": "stream",
     "text": [
      "\n",
      "0: 640x480 1 content, 1 date, 1 number, 1 sender, 103.1ms\n",
      "Speed: 0.3ms preprocess, 103.1ms inference, 0.3ms postprocess per image at shape (1, 3, 640, 640)\n",
      "\n",
      "0: 192x640 1 handwrite, 11.3ms\n",
      "Speed: 0.2ms preprocess, 11.3ms inference, 0.3ms postprocess per image at shape (1, 3, 640, 640)\n",
      "\n",
      "0: 160x640 1 handwrite, 10.4ms\n",
      "Speed: 0.1ms preprocess, 10.4ms inference, 0.3ms postprocess per image at shape (1, 3, 640, 640)\n",
      "\n",
      "0: 640x480 1 signer, 105.8ms\n",
      "Speed: 0.3ms preprocess, 105.8ms inference, 0.3ms postprocess per image at shape (1, 3, 640, 640)\n",
      "\n"
     ]
    },
    {
     "name": "stdout",
     "output_type": "stream",
     "text": [
      "in process: 899/1000\r"
     ]
    },
    {
     "name": "stderr",
     "output_type": "stream",
     "text": [
      "0: 480x640 1 number, 1 sender, 104.8ms\n",
      "Speed: 0.3ms preprocess, 104.8ms inference, 0.3ms postprocess per image at shape (1, 3, 640, 640)\n",
      "\n",
      "0: 160x640 1 typewritten, 11.2ms\n",
      "Speed: 0.2ms preprocess, 11.2ms inference, 0.4ms postprocess per image at shape (1, 3, 640, 640)\n",
      "\n",
      "0: 640x480 (no detections), 104.0ms\n",
      "Speed: 0.3ms preprocess, 104.0ms inference, 0.2ms postprocess per image at shape (1, 3, 640, 640)\n"
     ]
    },
    {
     "name": "stdout",
     "output_type": "stream",
     "text": [
      "in process: 900/1000\r"
     ]
    },
    {
     "name": "stderr",
     "output_type": "stream",
     "text": [
      "\n",
      "0: 640x480 1 date, 1 number, 2 senders, 105.8ms\n",
      "Speed: 0.3ms preprocess, 105.8ms inference, 0.3ms postprocess per image at shape (1, 3, 640, 640)\n",
      "\n",
      "0: 160x640 1 handwrite, 1 typewritten, 10.5ms\n",
      "Speed: 0.1ms preprocess, 10.5ms inference, 0.3ms postprocess per image at shape (1, 3, 640, 640)\n",
      "\n",
      "0: 256x640 2 typewrittens, 13.0ms\n",
      "Speed: 0.1ms preprocess, 13.0ms inference, 0.3ms postprocess per image at shape (1, 3, 640, 640)\n",
      "\n",
      "0: 640x480 (no detections), 106.4ms\n",
      "Speed: 0.3ms preprocess, 106.4ms inference, 0.2ms postprocess per image at shape (1, 3, 640, 640)\n",
      "\n",
      "0: 640x480 (no detections), 104.6ms\n",
      "Speed: 0.3ms preprocess, 104.6ms inference, 0.2ms postprocess per image at shape (1, 3, 640, 640)\n",
      "\n",
      "0: 640x480 (no detections), 105.0ms\n",
      "Speed: 0.3ms preprocess, 105.0ms inference, 0.2ms postprocess per image at shape (1, 3, 640, 640)\n",
      "\n",
      "0: 640x480 2 senders, 1 signer, 113.2ms\n",
      "Speed: 0.3ms preprocess, 113.2ms inference, 0.3ms postprocess per image at shape (1, 3, 640, 640)\n"
     ]
    },
    {
     "name": "stdout",
     "output_type": "stream",
     "text": [
      "in process: 901/1000\r"
     ]
    },
    {
     "name": "stderr",
     "output_type": "stream",
     "text": [
      "\n",
      "0: 640x480 1 content, 2 dates, 1 number, 1 sender, 1 signer, 102.6ms\n",
      "Speed: 0.3ms preprocess, 102.6ms inference, 1.4ms postprocess per image at shape (1, 3, 640, 640)\n",
      "\n",
      "0: 160x640 1 handwrite, 10.7ms\n",
      "Speed: 0.2ms preprocess, 10.7ms inference, 0.3ms postprocess per image at shape (1, 3, 640, 640)\n",
      "\n",
      "0: 128x640 1 handwrite, 8.6ms\n",
      "Speed: 0.1ms preprocess, 8.6ms inference, 0.3ms postprocess per image at shape (1, 3, 640, 640)\n",
      "\n",
      "0: 224x640 2 handwrites, 16.9ms\n",
      "Speed: 0.1ms preprocess, 16.9ms inference, 0.4ms postprocess per image at shape (1, 3, 640, 640)\n"
     ]
    },
    {
     "name": "stdout",
     "output_type": "stream",
     "text": [
      "in process: 902/1000\r"
     ]
    },
    {
     "name": "stderr",
     "output_type": "stream",
     "text": [
      "\n",
      "0: 640x480 1 date, 1 number, 1 sender, 1 signer, 106.1ms\n",
      "Speed: 0.3ms preprocess, 106.1ms inference, 0.4ms postprocess per image at shape (1, 3, 640, 640)\n",
      "\n",
      "0: 160x640 1 handwrite, 10.7ms\n",
      "Speed: 0.2ms preprocess, 10.7ms inference, 0.3ms postprocess per image at shape (1, 3, 640, 640)\n",
      "\n",
      "0: 96x640 1 handwrite, 7.7ms\n",
      "Speed: 0.2ms preprocess, 7.7ms inference, 0.3ms postprocess per image at shape (1, 3, 640, 640)\n",
      "\n"
     ]
    },
    {
     "name": "stdout",
     "output_type": "stream",
     "text": [
      "in process: 903/1000\r"
     ]
    },
    {
     "name": "stderr",
     "output_type": "stream",
     "text": [
      "0: 640x480 1 signer, 105.8ms\n",
      "Speed: 0.3ms preprocess, 105.8ms inference, 0.3ms postprocess per image at shape (1, 3, 640, 640)\n",
      "\n"
     ]
    },
    {
     "name": "stdout",
     "output_type": "stream",
     "text": [
      "in process: 904/1000\r"
     ]
    },
    {
     "name": "stderr",
     "output_type": "stream",
     "text": [
      "0: 640x480 1 content, 1 date, 1 number, 1 sender, 1 signer, 102.7ms\n",
      "Speed: 0.3ms preprocess, 102.7ms inference, 0.3ms postprocess per image at shape (1, 3, 640, 640)\n",
      "\n",
      "0: 160x640 1 handwrite, 10.7ms\n",
      "Speed: 0.2ms preprocess, 10.7ms inference, 0.3ms postprocess per image at shape (1, 3, 640, 640)\n",
      "\n",
      "0: 192x640 1 handwrite, 11.3ms\n",
      "Speed: 0.1ms preprocess, 11.3ms inference, 0.3ms postprocess per image at shape (1, 3, 640, 640)\n"
     ]
    },
    {
     "name": "stdout",
     "output_type": "stream",
     "text": [
      "in process: 905/1000\r"
     ]
    },
    {
     "name": "stderr",
     "output_type": "stream",
     "text": [
      "\n",
      "0: 640x480 1 number, 102.3ms\n",
      "Speed: 0.3ms preprocess, 102.3ms inference, 0.3ms postprocess per image at shape (1, 3, 640, 640)\n",
      "\n",
      "0: 224x640 1 handwrite, 12.4ms\n",
      "Speed: 0.1ms preprocess, 12.4ms inference, 0.3ms postprocess per image at shape (1, 3, 640, 640)\n",
      "\n",
      "0: 640x480 (no detections), 103.3ms\n",
      "Speed: 0.3ms preprocess, 103.3ms inference, 0.2ms postprocess per image at shape (1, 3, 640, 640)\n",
      "\n",
      "0: 640x480 (no detections), 106.2ms\n",
      "Speed: 0.3ms preprocess, 106.2ms inference, 0.2ms postprocess per image at shape (1, 3, 640, 640)\n",
      "\n",
      "0: 640x480 (no detections), 107.4ms\n",
      "Speed: 0.3ms preprocess, 107.4ms inference, 0.2ms postprocess per image at shape (1, 3, 640, 640)\n",
      "\n",
      "0: 640x480 (no detections), 105.9ms\n",
      "Speed: 0.3ms preprocess, 105.9ms inference, 0.2ms postprocess per image at shape (1, 3, 640, 640)\n",
      "\n",
      "0: 640x480 (no detections), 104.6ms\n",
      "Speed: 0.3ms preprocess, 104.6ms inference, 0.2ms postprocess per image at shape (1, 3, 640, 640)\n"
     ]
    },
    {
     "name": "stdout",
     "output_type": "stream",
     "text": [
      "in process: 906/1000\r"
     ]
    },
    {
     "name": "stderr",
     "output_type": "stream",
     "text": [
      "\n",
      "0: 640x480 1 content, 1 date, 1 number, 1 sender, 1 signer, 102.0ms\n",
      "Speed: 0.3ms preprocess, 102.0ms inference, 1.3ms postprocess per image at shape (1, 3, 640, 640)\n",
      "\n",
      "0: 160x640 1 handwrite, 10.9ms\n",
      "Speed: 0.2ms preprocess, 10.9ms inference, 0.3ms postprocess per image at shape (1, 3, 640, 640)\n",
      "\n",
      "0: 192x640 1 handwrite, 11.4ms\n",
      "Speed: 0.1ms preprocess, 11.4ms inference, 0.3ms postprocess per image at shape (1, 3, 640, 640)\n",
      "\n",
      "0: 640x480 1 date, 1 number, 1 sender, 106.7ms\n",
      "Speed: 0.3ms preprocess, 106.7ms inference, 0.3ms postprocess per image at shape (1, 3, 640, 640)\n",
      "\n",
      "0: 192x640 1 typewritten, 11.2ms\n",
      "Speed: 0.1ms preprocess, 11.2ms inference, 0.3ms postprocess per image at shape (1, 3, 640, 640)\n"
     ]
    },
    {
     "name": "stdout",
     "output_type": "stream",
     "text": [
      "in process: 907/1000\r"
     ]
    },
    {
     "name": "stderr",
     "output_type": "stream",
     "text": [
      "\n",
      "0: 160x640 1 typewritten, 10.8ms\n",
      "Speed: 0.3ms preprocess, 10.8ms inference, 0.3ms postprocess per image at shape (1, 3, 640, 640)\n",
      "\n"
     ]
    },
    {
     "name": "stdout",
     "output_type": "stream",
     "text": [
      "in process: 908/1000\r"
     ]
    },
    {
     "name": "stderr",
     "output_type": "stream",
     "text": [
      "0: 640x480 1 date, 1 number, 3 senders, 1 signer, 105.0ms\n",
      "Speed: 0.3ms preprocess, 105.0ms inference, 0.4ms postprocess per image at shape (1, 3, 640, 640)\n",
      "\n",
      "0: 160x640 1 typewritten, 10.5ms\n",
      "Speed: 0.2ms preprocess, 10.5ms inference, 0.3ms postprocess per image at shape (1, 3, 640, 640)\n",
      "\n",
      "0: 288x640 1 handwrite, 14.7ms\n",
      "Speed: 0.2ms preprocess, 14.7ms inference, 0.3ms postprocess per image at shape (1, 3, 640, 640)\n",
      "\n"
     ]
    },
    {
     "name": "stdout",
     "output_type": "stream",
     "text": [
      "in process: 909/1000\r"
     ]
    },
    {
     "name": "stderr",
     "output_type": "stream",
     "text": [
      "0: 640x480 1 content, 1 date, 1 number, 1 sender, 1 signer, 105.8ms\n",
      "Speed: 0.3ms preprocess, 105.8ms inference, 0.4ms postprocess per image at shape (1, 3, 640, 640)\n",
      "\n",
      "0: 160x640 1 handwrite, 10.8ms\n",
      "Speed: 0.2ms preprocess, 10.8ms inference, 0.3ms postprocess per image at shape (1, 3, 640, 640)\n",
      "\n",
      "0: 96x640 1 handwrite, 12.1ms\n",
      "Speed: 0.2ms preprocess, 12.1ms inference, 0.6ms postprocess per image at shape (1, 3, 640, 640)\n",
      "\n"
     ]
    },
    {
     "name": "stdout",
     "output_type": "stream",
     "text": [
      "in process: 910/1000\r"
     ]
    },
    {
     "name": "stderr",
     "output_type": "stream",
     "text": [
      "0: 640x480 1 date, 1 number, 1 sender, 1 signer, 105.7ms\n",
      "Speed: 0.3ms preprocess, 105.7ms inference, 0.4ms postprocess per image at shape (1, 3, 640, 640)\n",
      "\n",
      "0: 128x640 1 handwrite, 12.6ms\n",
      "Speed: 0.2ms preprocess, 12.6ms inference, 0.6ms postprocess per image at shape (1, 3, 640, 640)\n",
      "\n",
      "0: 128x640 1 handwrite, 12.1ms\n",
      "Speed: 0.2ms preprocess, 12.1ms inference, 0.6ms postprocess per image at shape (1, 3, 640, 640)\n"
     ]
    },
    {
     "name": "stdout",
     "output_type": "stream",
     "text": [
      "in process: 911/1000\r"
     ]
    },
    {
     "name": "stderr",
     "output_type": "stream",
     "text": [
      "\n",
      "0: 640x480 1 number, 1 signer, 106.0ms\n",
      "Speed: 0.3ms preprocess, 106.0ms inference, 0.3ms postprocess per image at shape (1, 3, 640, 640)\n",
      "\n",
      "0: 160x640 1 handwrite, 14.9ms\n",
      "Speed: 0.3ms preprocess, 14.9ms inference, 0.6ms postprocess per image at shape (1, 3, 640, 640)\n",
      "\n"
     ]
    },
    {
     "name": "stdout",
     "output_type": "stream",
     "text": [
      "in process: 912/1000\r"
     ]
    },
    {
     "name": "stderr",
     "output_type": "stream",
     "text": [
      "0: 640x480 1 date, 2 numbers, 1 sender, 106.8ms\n",
      "Speed: 0.3ms preprocess, 106.8ms inference, 0.3ms postprocess per image at shape (1, 3, 640, 640)\n",
      "\n",
      "0: 96x640 1 handwrite, 11.8ms\n",
      "Speed: 0.2ms preprocess, 11.8ms inference, 0.6ms postprocess per image at shape (1, 3, 640, 640)\n",
      "\n",
      "0: 192x640 1 handwrite, 15.7ms\n",
      "Speed: 0.1ms preprocess, 15.7ms inference, 0.6ms postprocess per image at shape (1, 3, 640, 640)\n",
      "\n",
      "0: 128x640 1 handwrite, 12.4ms\n",
      "Speed: 0.1ms preprocess, 12.4ms inference, 0.6ms postprocess per image at shape (1, 3, 640, 640)\n"
     ]
    },
    {
     "name": "stdout",
     "output_type": "stream",
     "text": [
      "in process: 913/1000\r"
     ]
    },
    {
     "name": "stderr",
     "output_type": "stream",
     "text": [
      "\n",
      "0: 640x480 2 dates, 1 number, 1 sender, 102.9ms\n",
      "Speed: 0.3ms preprocess, 102.9ms inference, 0.4ms postprocess per image at shape (1, 3, 640, 640)\n",
      "\n",
      "0: 128x640 1 typewritten, 8.7ms\n",
      "Speed: 0.2ms preprocess, 8.7ms inference, 0.3ms postprocess per image at shape (1, 3, 640, 640)\n",
      "\n",
      "0: 224x640 1 handwrite, 1 typewritten, 12.3ms\n",
      "Speed: 0.2ms preprocess, 12.3ms inference, 0.3ms postprocess per image at shape (1, 3, 640, 640)\n",
      "\n",
      "0: 416x640 4 typewrittens, 22.3ms\n",
      "Speed: 0.3ms preprocess, 22.3ms inference, 0.3ms postprocess per image at shape (1, 3, 640, 640)\n",
      "\n",
      "0: 640x480 1 signer, 104.9ms\n",
      "Speed: 0.4ms preprocess, 104.9ms inference, 0.3ms postprocess per image at shape (1, 3, 640, 640)\n"
     ]
    },
    {
     "name": "stdout",
     "output_type": "stream",
     "text": [
      "in process: 914/1000\r"
     ]
    },
    {
     "name": "stderr",
     "output_type": "stream",
     "text": [
      "\n",
      "0: 640x480 1 date, 1 number, 1 sender, 1 signer, 102.1ms\n",
      "Speed: 0.3ms preprocess, 102.1ms inference, 2.2ms postprocess per image at shape (1, 3, 640, 640)\n",
      "\n",
      "0: 160x640 1 handwrite, 10.8ms\n",
      "Speed: 0.2ms preprocess, 10.8ms inference, 0.3ms postprocess per image at shape (1, 3, 640, 640)\n",
      "\n",
      "0: 160x640 1 handwrite, 10.3ms\n",
      "Speed: 0.1ms preprocess, 10.3ms inference, 0.3ms postprocess per image at shape (1, 3, 640, 640)\n"
     ]
    },
    {
     "name": "stdout",
     "output_type": "stream",
     "text": [
      "in process: 915/1000\r"
     ]
    },
    {
     "name": "stderr",
     "output_type": "stream",
     "text": [
      "\n",
      "0: 640x480 1 content, 1 date, 1 number, 1 sender, 1 signer, 103.2ms\n",
      "Speed: 0.3ms preprocess, 103.2ms inference, 0.4ms postprocess per image at shape (1, 3, 640, 640)\n",
      "\n",
      "0: 160x640 1 handwrite, 10.6ms\n",
      "Speed: 0.2ms preprocess, 10.6ms inference, 0.3ms postprocess per image at shape (1, 3, 640, 640)\n",
      "\n",
      "0: 96x640 1 handwrite, 9.7ms\n",
      "Speed: 0.2ms preprocess, 9.7ms inference, 0.3ms postprocess per image at shape (1, 3, 640, 640)\n",
      "\n"
     ]
    },
    {
     "name": "stdout",
     "output_type": "stream",
     "text": [
      "in process: 916/1000\r"
     ]
    },
    {
     "name": "stderr",
     "output_type": "stream",
     "text": [
      "0: 640x480 1 content, 1 date, 1 number, 1 sender, 1 signer, 103.6ms\n",
      "Speed: 0.3ms preprocess, 103.6ms inference, 0.4ms postprocess per image at shape (1, 3, 640, 640)\n",
      "\n",
      "0: 192x640 1 handwrite, 16.0ms\n",
      "Speed: 0.2ms preprocess, 16.0ms inference, 0.6ms postprocess per image at shape (1, 3, 640, 640)\n",
      "\n",
      "0: 224x640 2 handwrites, 16.3ms\n",
      "Speed: 0.2ms preprocess, 16.3ms inference, 0.6ms postprocess per image at shape (1, 3, 640, 640)\n"
     ]
    },
    {
     "name": "stdout",
     "output_type": "stream",
     "text": [
      "in process: 917/1000\r"
     ]
    },
    {
     "name": "stderr",
     "output_type": "stream",
     "text": [
      "\n",
      "0: 640x480 1 sender, 103.5ms\n",
      "Speed: 0.3ms preprocess, 103.5ms inference, 0.3ms postprocess per image at shape (1, 3, 640, 640)\n"
     ]
    },
    {
     "name": "stdout",
     "output_type": "stream",
     "text": [
      "in process: 918/1000\r"
     ]
    },
    {
     "name": "stderr",
     "output_type": "stream",
     "text": [
      "\n",
      "0: 640x480 1 content, 1 date, 1 number, 1 sender, 1 signer, 102.4ms\n",
      "Speed: 0.3ms preprocess, 102.4ms inference, 0.4ms postprocess per image at shape (1, 3, 640, 640)\n",
      "\n",
      "0: 192x640 1 handwrite, 1 typewritten, 11.4ms\n",
      "Speed: 0.2ms preprocess, 11.4ms inference, 0.3ms postprocess per image at shape (1, 3, 640, 640)\n",
      "\n",
      "0: 192x640 1 handwrite, 13.3ms\n",
      "Speed: 0.2ms preprocess, 13.3ms inference, 0.3ms postprocess per image at shape (1, 3, 640, 640)\n",
      "\n"
     ]
    },
    {
     "name": "stdout",
     "output_type": "stream",
     "text": [
      "in process: 919/1000\r"
     ]
    },
    {
     "name": "stderr",
     "output_type": "stream",
     "text": [
      "0: 640x480 1 date, 1 number, 1 sender, 1 signer, 107.7ms\n",
      "Speed: 0.3ms preprocess, 107.7ms inference, 0.4ms postprocess per image at shape (1, 3, 640, 640)\n",
      "\n",
      "0: 160x640 1 typewritten, 14.9ms\n",
      "Speed: 0.2ms preprocess, 14.9ms inference, 0.6ms postprocess per image at shape (1, 3, 640, 640)\n",
      "\n",
      "0: 192x640 1 typewritten, 11.2ms\n",
      "Speed: 0.2ms preprocess, 11.2ms inference, 0.3ms postprocess per image at shape (1, 3, 640, 640)\n"
     ]
    },
    {
     "name": "stdout",
     "output_type": "stream",
     "text": [
      "in process: 920/1000\r"
     ]
    },
    {
     "name": "stderr",
     "output_type": "stream",
     "text": [
      "\n",
      "0: 640x480 1 content, 1 date, 1 number, 1 sender, 105.8ms\n",
      "Speed: 0.3ms preprocess, 105.8ms inference, 1.8ms postprocess per image at shape (1, 3, 640, 640)\n",
      "\n",
      "0: 192x640 1 handwrite, 11.2ms\n",
      "Speed: 0.2ms preprocess, 11.2ms inference, 0.3ms postprocess per image at shape (1, 3, 640, 640)\n",
      "\n",
      "0: 160x640 1 handwrite, 10.8ms\n",
      "Speed: 0.1ms preprocess, 10.8ms inference, 0.3ms postprocess per image at shape (1, 3, 640, 640)\n",
      "\n",
      "0: 640x480 1 signer, 109.3ms\n",
      "Speed: 0.3ms preprocess, 109.3ms inference, 0.3ms postprocess per image at shape (1, 3, 640, 640)\n"
     ]
    },
    {
     "name": "stdout",
     "output_type": "stream",
     "text": [
      "in process: 921/1000\r"
     ]
    },
    {
     "name": "stderr",
     "output_type": "stream",
     "text": [
      "\n",
      "0: 640x480 1 content, 2 numbers, 1 sender, 103.3ms\n",
      "Speed: 0.3ms preprocess, 103.3ms inference, 0.4ms postprocess per image at shape (1, 3, 640, 640)\n",
      "\n",
      "0: 224x640 1 handwrite, 12.4ms\n",
      "Speed: 0.2ms preprocess, 12.4ms inference, 0.3ms postprocess per image at shape (1, 3, 640, 640)\n",
      "\n",
      "0: 192x640 1 handwrite, 11.6ms\n",
      "Speed: 0.1ms preprocess, 11.6ms inference, 0.3ms postprocess per image at shape (1, 3, 640, 640)\n",
      "\n",
      "0: 640x480 (no detections), 104.3ms\n",
      "Speed: 0.3ms preprocess, 104.3ms inference, 0.2ms postprocess per image at shape (1, 3, 640, 640)\n",
      "\n",
      "0: 640x480 (no detections), 104.3ms\n",
      "Speed: 0.3ms preprocess, 104.3ms inference, 0.2ms postprocess per image at shape (1, 3, 640, 640)\n",
      "\n",
      "0: 640x480 (no detections), 105.1ms\n",
      "Speed: 0.3ms preprocess, 105.1ms inference, 0.2ms postprocess per image at shape (1, 3, 640, 640)\n",
      "\n",
      "0: 640x480 (no detections), 109.3ms\n",
      "Speed: 0.3ms preprocess, 109.3ms inference, 0.2ms postprocess per image at shape (1, 3, 640, 640)\n",
      "\n",
      "0: 640x480 1 signer, 104.1ms\n",
      "Speed: 0.3ms preprocess, 104.1ms inference, 0.3ms postprocess per image at shape (1, 3, 640, 640)\n"
     ]
    },
    {
     "name": "stdout",
     "output_type": "stream",
     "text": [
      "in process: 922/1000\r"
     ]
    },
    {
     "name": "stderr",
     "output_type": "stream",
     "text": [
      "\n",
      "0: 640x480 1 date, 1 number, 1 sender, 1 signer, 102.4ms\n",
      "Speed: 0.3ms preprocess, 102.4ms inference, 1.4ms postprocess per image at shape (1, 3, 640, 640)\n",
      "\n",
      "0: 96x640 1 handwrite, 7.9ms\n",
      "Speed: 1.4ms preprocess, 7.9ms inference, 0.3ms postprocess per image at shape (1, 3, 640, 640)\n",
      "\n",
      "0: 192x640 1 handwrite, 13.8ms\n",
      "Speed: 0.2ms preprocess, 13.8ms inference, 0.3ms postprocess per image at shape (1, 3, 640, 640)\n"
     ]
    },
    {
     "name": "stdout",
     "output_type": "stream",
     "text": [
      "in process: 923/1000\r"
     ]
    },
    {
     "name": "stderr",
     "output_type": "stream",
     "text": [
      "\n",
      "0: 640x480 1 date, 1 number, 2 senders, 1 signer, 105.2ms\n",
      "Speed: 0.3ms preprocess, 105.2ms inference, 0.4ms postprocess per image at shape (1, 3, 640, 640)\n",
      "\n",
      "0: 192x640 1 handwrite, 11.1ms\n",
      "Speed: 0.1ms preprocess, 11.1ms inference, 0.3ms postprocess per image at shape (1, 3, 640, 640)\n",
      "\n",
      "0: 192x640 1 handwrite, 10.8ms\n",
      "Speed: 0.1ms preprocess, 10.8ms inference, 0.3ms postprocess per image at shape (1, 3, 640, 640)\n",
      "\n"
     ]
    },
    {
     "name": "stdout",
     "output_type": "stream",
     "text": [
      "in process: 924/1000\r"
     ]
    },
    {
     "name": "stderr",
     "output_type": "stream",
     "text": [
      "0: 640x480 1 date, 1 number, 1 sender, 1 signer, 105.7ms\n",
      "Speed: 0.3ms preprocess, 105.7ms inference, 0.4ms postprocess per image at shape (1, 3, 640, 640)\n",
      "\n",
      "0: 192x640 1 handwrite, 11.1ms\n",
      "Speed: 0.2ms preprocess, 11.1ms inference, 0.3ms postprocess per image at shape (1, 3, 640, 640)\n",
      "\n",
      "0: 128x640 1 handwrite, 8.6ms\n",
      "Speed: 0.1ms preprocess, 8.6ms inference, 0.3ms postprocess per image at shape (1, 3, 640, 640)\n",
      "\n"
     ]
    },
    {
     "name": "stdout",
     "output_type": "stream",
     "text": [
      "in process: 925/1000\r"
     ]
    },
    {
     "name": "stderr",
     "output_type": "stream",
     "text": [
      "0: 640x480 2 signers, 106.2ms\n",
      "Speed: 0.3ms preprocess, 106.2ms inference, 0.4ms postprocess per image at shape (1, 3, 640, 640)\n"
     ]
    },
    {
     "name": "stdout",
     "output_type": "stream",
     "text": [
      "in process: 926/1000\r"
     ]
    },
    {
     "name": "stderr",
     "output_type": "stream",
     "text": [
      "\n",
      "0: 640x480 1 signer, 107.1ms\n",
      "Speed: 0.3ms preprocess, 107.1ms inference, 0.3ms postprocess per image at shape (1, 3, 640, 640)\n",
      "\n"
     ]
    },
    {
     "name": "stdout",
     "output_type": "stream",
     "text": [
      "in process: 927/1000\r"
     ]
    },
    {
     "name": "stderr",
     "output_type": "stream",
     "text": [
      "0: 640x480 1 content, 1 date, 1 number, 1 sender, 1 signer, 106.1ms\n",
      "Speed: 0.3ms preprocess, 106.1ms inference, 0.4ms postprocess per image at shape (1, 3, 640, 640)\n",
      "\n",
      "0: 160x640 1 handwrite, 10.5ms\n",
      "Speed: 0.2ms preprocess, 10.5ms inference, 0.3ms postprocess per image at shape (1, 3, 640, 640)\n",
      "\n",
      "0: 192x640 1 handwrite, 11.4ms\n",
      "Speed: 0.1ms preprocess, 11.4ms inference, 0.3ms postprocess per image at shape (1, 3, 640, 640)\n",
      "\n"
     ]
    },
    {
     "name": "stdout",
     "output_type": "stream",
     "text": [
      "in process: 928/1000\r"
     ]
    },
    {
     "name": "stderr",
     "output_type": "stream",
     "text": [
      "0: 640x480 1 date, 1 number, 1 sender, 1 signer, 101.7ms\n",
      "Speed: 0.3ms preprocess, 101.7ms inference, 0.4ms postprocess per image at shape (1, 3, 640, 640)\n",
      "\n",
      "0: 192x640 1 handwrite, 11.2ms\n",
      "Speed: 0.2ms preprocess, 11.2ms inference, 0.3ms postprocess per image at shape (1, 3, 640, 640)\n",
      "\n",
      "0: 192x640 1 handwrite, 11.1ms\n",
      "Speed: 0.1ms preprocess, 11.1ms inference, 0.4ms postprocess per image at shape (1, 3, 640, 640)\n",
      "\n"
     ]
    },
    {
     "name": "stdout",
     "output_type": "stream",
     "text": [
      "in process: 929/1000\r"
     ]
    },
    {
     "name": "stderr",
     "output_type": "stream",
     "text": [
      "0: 640x480 1 content, 1 date, 1 number, 2 senders, 1 signer, 105.9ms\n",
      "Speed: 0.3ms preprocess, 105.9ms inference, 0.4ms postprocess per image at shape (1, 3, 640, 640)\n",
      "\n",
      "0: 160x640 1 handwrite, 10.5ms\n",
      "Speed: 0.2ms preprocess, 10.5ms inference, 0.3ms postprocess per image at shape (1, 3, 640, 640)\n",
      "\n",
      "0: 192x640 1 handwrite, 11.3ms\n",
      "Speed: 0.1ms preprocess, 11.3ms inference, 0.3ms postprocess per image at shape (1, 3, 640, 640)\n"
     ]
    },
    {
     "name": "stdout",
     "output_type": "stream",
     "text": [
      "in process: 930/1000\r"
     ]
    },
    {
     "name": "stderr",
     "output_type": "stream",
     "text": [
      "\n",
      "0: 640x480 1 date, 1 number, 1 sender, 1 signer, 106.0ms\n",
      "Speed: 0.3ms preprocess, 106.0ms inference, 1.9ms postprocess per image at shape (1, 3, 640, 640)\n",
      "\n",
      "0: 160x640 1 handwrite, 10.5ms\n",
      "Speed: 0.2ms preprocess, 10.5ms inference, 0.3ms postprocess per image at shape (1, 3, 640, 640)\n",
      "\n",
      "0: 192x640 1 handwrite, 11.4ms\n",
      "Speed: 0.1ms preprocess, 11.4ms inference, 0.3ms postprocess per image at shape (1, 3, 640, 640)\n"
     ]
    },
    {
     "name": "stdout",
     "output_type": "stream",
     "text": [
      "in process: 931/1000\r"
     ]
    },
    {
     "name": "stderr",
     "output_type": "stream",
     "text": [
      "\n",
      "0: 640x480 1 date, 1 number, 1 sender, 1 signer, 103.1ms\n",
      "Speed: 0.3ms preprocess, 103.1ms inference, 0.4ms postprocess per image at shape (1, 3, 640, 640)\n",
      "\n",
      "0: 160x640 1 handwrite, 10.8ms\n",
      "Speed: 0.2ms preprocess, 10.8ms inference, 0.3ms postprocess per image at shape (1, 3, 640, 640)\n",
      "\n",
      "0: 128x640 1 handwrite, 8.7ms\n",
      "Speed: 0.1ms preprocess, 8.7ms inference, 0.3ms postprocess per image at shape (1, 3, 640, 640)\n"
     ]
    },
    {
     "name": "stdout",
     "output_type": "stream",
     "text": [
      "in process: 932/1000\r"
     ]
    },
    {
     "name": "stderr",
     "output_type": "stream",
     "text": [
      "\n",
      "0: 480x640 1 number, 1 sender, 104.1ms\n",
      "Speed: 0.3ms preprocess, 104.1ms inference, 2.4ms postprocess per image at shape (1, 3, 640, 640)\n",
      "\n",
      "0: 160x640 1 handwrite, 1 typewritten, 14.8ms\n",
      "Speed: 0.2ms preprocess, 14.8ms inference, 0.6ms postprocess per image at shape (1, 3, 640, 640)\n",
      "\n",
      "0: 640x480 1 date, 1 number, 1 sender, 1 signer, 103.6ms\n",
      "Speed: 0.3ms preprocess, 103.6ms inference, 0.3ms postprocess per image at shape (1, 3, 640, 640)\n",
      "\n",
      "0: 128x640 1 handwrite, 8.7ms\n",
      "Speed: 0.1ms preprocess, 8.7ms inference, 0.3ms postprocess per image at shape (1, 3, 640, 640)\n",
      "\n",
      "0: 128x640 3 handwrites, 8.4ms\n",
      "Speed: 0.1ms preprocess, 8.4ms inference, 0.3ms postprocess per image at shape (1, 3, 640, 640)\n"
     ]
    },
    {
     "name": "stdout",
     "output_type": "stream",
     "text": [
      "in process: 933/1000\r"
     ]
    },
    {
     "name": "stderr",
     "output_type": "stream",
     "text": [
      "\n",
      "0: 640x480 2 senders, 1 signer, 102.3ms\n",
      "Speed: 0.3ms preprocess, 102.3ms inference, 0.3ms postprocess per image at shape (1, 3, 640, 640)\n"
     ]
    },
    {
     "name": "stdout",
     "output_type": "stream",
     "text": [
      "in process: 934/1000\r"
     ]
    },
    {
     "name": "stderr",
     "output_type": "stream",
     "text": [
      "\n",
      "0: 640x480 1 date, 1 number, 1 sender, 1 signer, 105.5ms\n",
      "Speed: 0.3ms preprocess, 105.5ms inference, 1.7ms postprocess per image at shape (1, 3, 640, 640)\n",
      "\n",
      "0: 192x640 1 typewritten, 13.1ms\n",
      "Speed: 0.2ms preprocess, 13.1ms inference, 0.3ms postprocess per image at shape (1, 3, 640, 640)\n",
      "\n",
      "0: 128x640 1 typewritten, 8.7ms\n",
      "Speed: 0.2ms preprocess, 8.7ms inference, 0.3ms postprocess per image at shape (1, 3, 640, 640)\n"
     ]
    },
    {
     "name": "stdout",
     "output_type": "stream",
     "text": [
      "in process: 935/1000\r"
     ]
    },
    {
     "name": "stderr",
     "output_type": "stream",
     "text": [
      "\n",
      "0: 640x480 1 content, 1 date, 1 number, 1 sender, 103.4ms\n",
      "Speed: 0.4ms preprocess, 103.4ms inference, 0.4ms postprocess per image at shape (1, 3, 640, 640)\n",
      "\n",
      "0: 192x640 1 handwrite, 11.3ms\n",
      "Speed: 0.2ms preprocess, 11.3ms inference, 0.3ms postprocess per image at shape (1, 3, 640, 640)\n",
      "\n",
      "0: 160x640 1 handwrite, 10.6ms\n",
      "Speed: 0.1ms preprocess, 10.6ms inference, 0.3ms postprocess per image at shape (1, 3, 640, 640)\n",
      "\n",
      "0: 640x480 (no detections), 106.0ms\n",
      "Speed: 0.3ms preprocess, 106.0ms inference, 0.2ms postprocess per image at shape (1, 3, 640, 640)\n",
      "\n",
      "0: 640x480 1 signer, 102.0ms\n",
      "Speed: 0.3ms preprocess, 102.0ms inference, 0.3ms postprocess per image at shape (1, 3, 640, 640)\n"
     ]
    },
    {
     "name": "stdout",
     "output_type": "stream",
     "text": [
      "in process: 936/1000\r"
     ]
    },
    {
     "name": "stderr",
     "output_type": "stream",
     "text": [
      "\n",
      "0: 640x480 1 date, 1 number, 1 sender, 103.0ms\n",
      "Speed: 18.0ms preprocess, 103.0ms inference, 2.7ms postprocess per image at shape (1, 3, 640, 640)\n",
      "\n",
      "0: 160x640 1 handwrite, 10.3ms\n",
      "Speed: 0.2ms preprocess, 10.3ms inference, 0.3ms postprocess per image at shape (1, 3, 640, 640)\n",
      "\n",
      "0: 192x640 1 typewritten, 12.2ms\n",
      "Speed: 0.2ms preprocess, 12.2ms inference, 0.4ms postprocess per image at shape (1, 3, 640, 640)\n",
      "\n",
      "0: 640x480 1 sender, 1 signer, 103.1ms\n",
      "Speed: 0.3ms preprocess, 103.1ms inference, 0.3ms postprocess per image at shape (1, 3, 640, 640)\n",
      "\n"
     ]
    },
    {
     "name": "stdout",
     "output_type": "stream",
     "text": [
      "in process: 937/1000\r"
     ]
    },
    {
     "name": "stderr",
     "output_type": "stream",
     "text": [
      "0: 640x480 1 content, 1 date, 1 number, 1 sender, 1 signer, 101.8ms\n",
      "Speed: 0.3ms preprocess, 101.8ms inference, 2.0ms postprocess per image at shape (1, 3, 640, 640)\n",
      "\n",
      "0: 192x640 1 handwrite, 11.7ms\n",
      "Speed: 0.2ms preprocess, 11.7ms inference, 0.3ms postprocess per image at shape (1, 3, 640, 640)\n",
      "\n",
      "0: 128x640 1 handwrite, 8.6ms\n",
      "Speed: 0.1ms preprocess, 8.6ms inference, 0.3ms postprocess per image at shape (1, 3, 640, 640)\n",
      "\n"
     ]
    },
    {
     "name": "stdout",
     "output_type": "stream",
     "text": [
      "in process: 938/1000\r"
     ]
    },
    {
     "name": "stderr",
     "output_type": "stream",
     "text": [
      "0: 640x480 1 date, 1 number, 2 senders, 1 signer, 102.7ms\n",
      "Speed: 0.3ms preprocess, 102.7ms inference, 0.4ms postprocess per image at shape (1, 3, 640, 640)\n",
      "\n",
      "0: 160x640 1 handwrite, 10.5ms\n",
      "Speed: 0.1ms preprocess, 10.5ms inference, 0.3ms postprocess per image at shape (1, 3, 640, 640)\n",
      "\n",
      "0: 192x640 1 handwrite, 12.1ms\n",
      "Speed: 0.2ms preprocess, 12.1ms inference, 0.4ms postprocess per image at shape (1, 3, 640, 640)\n"
     ]
    },
    {
     "name": "stdout",
     "output_type": "stream",
     "text": [
      "in process: 939/1000\r"
     ]
    },
    {
     "name": "stderr",
     "output_type": "stream",
     "text": [
      "\n",
      "0: 640x480 1 content, 1 date, 1 number, 1 signer, 110.7ms\n",
      "Speed: 0.3ms preprocess, 110.7ms inference, 0.3ms postprocess per image at shape (1, 3, 640, 640)\n",
      "\n",
      "0: 352x640 1 typewritten, 20.0ms\n",
      "Speed: 0.2ms preprocess, 20.0ms inference, 0.3ms postprocess per image at shape (1, 3, 640, 640)\n",
      "\n",
      "0: 128x640 1 typewritten, 9.2ms\n",
      "Speed: 0.2ms preprocess, 9.2ms inference, 0.3ms postprocess per image at shape (1, 3, 640, 640)\n",
      "\n"
     ]
    },
    {
     "name": "stdout",
     "output_type": "stream",
     "text": [
      "in process: 940/1000\r"
     ]
    },
    {
     "name": "stderr",
     "output_type": "stream",
     "text": [
      "0: 640x480 1 content, 1 date, 1 number, 2 senders, 1 signer, 106.6ms\n",
      "Speed: 0.3ms preprocess, 106.6ms inference, 1.8ms postprocess per image at shape (1, 3, 640, 640)\n",
      "\n",
      "0: 192x640 1 handwrite, 11.3ms\n",
      "Speed: 0.2ms preprocess, 11.3ms inference, 0.3ms postprocess per image at shape (1, 3, 640, 640)\n",
      "\n",
      "0: 192x640 1 handwrite, 11.2ms\n",
      "Speed: 0.2ms preprocess, 11.2ms inference, 0.3ms postprocess per image at shape (1, 3, 640, 640)\n"
     ]
    },
    {
     "name": "stdout",
     "output_type": "stream",
     "text": [
      "in process: 941/1000\r"
     ]
    },
    {
     "name": "stderr",
     "output_type": "stream",
     "text": [
      "\n",
      "0: 640x480 1 date, 1 number, 1 sender, 1 signer, 102.9ms\n",
      "Speed: 0.3ms preprocess, 102.9ms inference, 0.4ms postprocess per image at shape (1, 3, 640, 640)\n",
      "\n",
      "0: 224x640 1 handwrite, 12.3ms\n",
      "Speed: 0.2ms preprocess, 12.3ms inference, 0.3ms postprocess per image at shape (1, 3, 640, 640)\n",
      "\n",
      "0: 128x640 1 handwrite, 8.7ms\n",
      "Speed: 0.2ms preprocess, 8.7ms inference, 0.3ms postprocess per image at shape (1, 3, 640, 640)\n"
     ]
    },
    {
     "name": "stdout",
     "output_type": "stream",
     "text": [
      "in process: 942/1000\r"
     ]
    },
    {
     "name": "stderr",
     "output_type": "stream",
     "text": [
      "\n",
      "0: 640x480 1 content, 1 date, 1 number, 1 sender, 103.1ms\n",
      "Speed: 0.3ms preprocess, 103.1ms inference, 0.4ms postprocess per image at shape (1, 3, 640, 640)\n",
      "\n",
      "0: 224x640 1 handwrite, 12.1ms\n",
      "Speed: 0.1ms preprocess, 12.1ms inference, 0.3ms postprocess per image at shape (1, 3, 640, 640)\n",
      "\n",
      "0: 160x640 1 handwrite, 1 typewritten, 10.6ms\n",
      "Speed: 0.2ms preprocess, 10.6ms inference, 0.3ms postprocess per image at shape (1, 3, 640, 640)\n",
      "\n",
      "0: 640x480 1 signer, 106.7ms\n",
      "Speed: 0.3ms preprocess, 106.7ms inference, 0.3ms postprocess per image at shape (1, 3, 640, 640)\n"
     ]
    },
    {
     "name": "stdout",
     "output_type": "stream",
     "text": [
      "in process: 943/1000\r"
     ]
    },
    {
     "name": "stderr",
     "output_type": "stream",
     "text": [
      "\n",
      "0: 640x480 1 content, 1 date, 1 number, 1 signer, 104.9ms\n",
      "Speed: 0.3ms preprocess, 104.9ms inference, 0.4ms postprocess per image at shape (1, 3, 640, 640)\n",
      "\n",
      "0: 160x640 1 handwrite, 10.3ms\n",
      "Speed: 0.1ms preprocess, 10.3ms inference, 0.3ms postprocess per image at shape (1, 3, 640, 640)\n",
      "\n",
      "0: 192x640 1 handwrite, 14.2ms\n",
      "Speed: 0.1ms preprocess, 14.2ms inference, 0.6ms postprocess per image at shape (1, 3, 640, 640)\n",
      "\n"
     ]
    },
    {
     "name": "stdout",
     "output_type": "stream",
     "text": [
      "in process: 944/1000\r"
     ]
    },
    {
     "name": "stderr",
     "output_type": "stream",
     "text": [
      "0: 640x480 1 sender, 1 signer, 103.0ms\n",
      "Speed: 0.3ms preprocess, 103.0ms inference, 0.3ms postprocess per image at shape (1, 3, 640, 640)\n"
     ]
    },
    {
     "name": "stdout",
     "output_type": "stream",
     "text": [
      "in process: 945/1000\r"
     ]
    },
    {
     "name": "stderr",
     "output_type": "stream",
     "text": [
      "\n",
      "0: 640x480 1 date, 1 number, 1 sender, 107.4ms\n",
      "Speed: 0.3ms preprocess, 107.4ms inference, 0.3ms postprocess per image at shape (1, 3, 640, 640)\n",
      "\n",
      "0: 192x640 1 handwrite, 11.3ms\n",
      "Speed: 0.2ms preprocess, 11.3ms inference, 0.3ms postprocess per image at shape (1, 3, 640, 640)\n",
      "\n",
      "0: 160x640 1 handwrite, 10.6ms\n",
      "Speed: 0.1ms preprocess, 10.6ms inference, 0.3ms postprocess per image at shape (1, 3, 640, 640)\n",
      "\n"
     ]
    },
    {
     "name": "stdout",
     "output_type": "stream",
     "text": [
      "in process: 946/1000\r"
     ]
    },
    {
     "name": "stderr",
     "output_type": "stream",
     "text": [
      "0: 640x480 1 date, 1 number, 2 senders, 1 signer, 106.7ms\n",
      "Speed: 0.3ms preprocess, 106.7ms inference, 1.4ms postprocess per image at shape (1, 3, 640, 640)\n",
      "\n",
      "0: 160x640 1 handwrite, 10.6ms\n",
      "Speed: 0.2ms preprocess, 10.6ms inference, 0.3ms postprocess per image at shape (1, 3, 640, 640)\n",
      "\n",
      "0: 192x640 1 handwrite, 1 typewritten, 11.3ms\n",
      "Speed: 0.2ms preprocess, 11.3ms inference, 0.3ms postprocess per image at shape (1, 3, 640, 640)\n"
     ]
    },
    {
     "name": "stdout",
     "output_type": "stream",
     "text": [
      "in process: 947/1000\r"
     ]
    },
    {
     "name": "stderr",
     "output_type": "stream",
     "text": [
      "\n",
      "0: 640x480 1 sender, 1 signer, 107.2ms\n",
      "Speed: 10.9ms preprocess, 107.2ms inference, 0.4ms postprocess per image at shape (1, 3, 640, 640)\n"
     ]
    },
    {
     "name": "stdout",
     "output_type": "stream",
     "text": [
      "in process: 948/1000\r"
     ]
    },
    {
     "name": "stderr",
     "output_type": "stream",
     "text": [
      "\n",
      "0: 640x480 (no detections), 102.5ms\n",
      "Speed: 0.3ms preprocess, 102.5ms inference, 0.2ms postprocess per image at shape (1, 3, 640, 640)\n",
      "\n",
      "0: 640x480 (no detections), 102.6ms\n",
      "Speed: 0.3ms preprocess, 102.6ms inference, 0.2ms postprocess per image at shape (1, 3, 640, 640)\n",
      "\n",
      "0: 640x480 (no detections), 103.3ms\n",
      "Speed: 0.3ms preprocess, 103.3ms inference, 0.2ms postprocess per image at shape (1, 3, 640, 640)\n",
      "\n",
      "0: 640x512 (no detections), 109.1ms\n",
      "Speed: 0.3ms preprocess, 109.1ms inference, 0.2ms postprocess per image at shape (1, 3, 640, 640)\n",
      "\n",
      "0: 640x480 (no detections), 103.7ms\n",
      "Speed: 0.3ms preprocess, 103.7ms inference, 0.2ms postprocess per image at shape (1, 3, 640, 640)\n",
      "\n",
      "0: 640x544 (no detections), 125.2ms\n",
      "Speed: 0.3ms preprocess, 125.2ms inference, 0.2ms postprocess per image at shape (1, 3, 640, 640)\n",
      "\n",
      "0: 480x640 (no detections), 105.9ms\n",
      "Speed: 0.3ms preprocess, 105.9ms inference, 0.2ms postprocess per image at shape (1, 3, 640, 640)\n",
      "\n",
      "0: 640x480 (no detections), 106.3ms\n",
      "Speed: 0.3ms preprocess, 106.3ms inference, 0.2ms postprocess per image at shape (1, 3, 640, 640)\n",
      "\n",
      "0: 640x480 (no detections), 106.0ms\n",
      "Speed: 0.3ms preprocess, 106.0ms inference, 0.2ms postprocess per image at shape (1, 3, 640, 640)\n",
      "\n",
      "0: 640x480 (no detections), 104.0ms\n",
      "Speed: 0.3ms preprocess, 104.0ms inference, 0.2ms postprocess per image at shape (1, 3, 640, 640)\n"
     ]
    },
    {
     "name": "stdout",
     "output_type": "stream",
     "text": [
      "in process: 949/1000\r"
     ]
    },
    {
     "name": "stderr",
     "output_type": "stream",
     "text": [
      "\n",
      "0: 640x480 1 date, 1 number, 1 sender, 1 signer, 104.0ms\n",
      "Speed: 0.3ms preprocess, 104.0ms inference, 1.2ms postprocess per image at shape (1, 3, 640, 640)\n",
      "\n",
      "0: 256x640 1 handwrite, 17.0ms\n",
      "Speed: 0.2ms preprocess, 17.0ms inference, 0.6ms postprocess per image at shape (1, 3, 640, 640)\n",
      "\n",
      "0: 128x640 1 handwrite, 11.1ms\n",
      "Speed: 0.1ms preprocess, 11.1ms inference, 0.6ms postprocess per image at shape (1, 3, 640, 640)\n"
     ]
    },
    {
     "name": "stdout",
     "output_type": "stream",
     "text": [
      "in process: 950/1000\r"
     ]
    },
    {
     "name": "stderr",
     "output_type": "stream",
     "text": [
      "\n",
      "0: 640x480 1 sender, 103.7ms\n",
      "Speed: 0.3ms preprocess, 103.7ms inference, 0.3ms postprocess per image at shape (1, 3, 640, 640)\n",
      "\n",
      "0: 640x480 (no detections), 103.9ms\n",
      "Speed: 0.3ms preprocess, 103.9ms inference, 0.2ms postprocess per image at shape (1, 3, 640, 640)\n",
      "\n"
     ]
    },
    {
     "name": "stdout",
     "output_type": "stream",
     "text": [
      "in process: 951/1000\r"
     ]
    },
    {
     "name": "stderr",
     "output_type": "stream",
     "text": [
      "0: 640x480 1 content, 1 date, 1 number, 1 sender, 1 signer, 104.5ms\n",
      "Speed: 0.3ms preprocess, 104.5ms inference, 0.4ms postprocess per image at shape (1, 3, 640, 640)\n",
      "\n",
      "0: 192x640 1 handwrite, 11.5ms\n",
      "Speed: 0.2ms preprocess, 11.5ms inference, 0.3ms postprocess per image at shape (1, 3, 640, 640)\n",
      "\n",
      "0: 128x640 1 handwrite, 9.8ms\n",
      "Speed: 0.2ms preprocess, 9.8ms inference, 0.3ms postprocess per image at shape (1, 3, 640, 640)\n",
      "\n"
     ]
    },
    {
     "name": "stdout",
     "output_type": "stream",
     "text": [
      "in process: 952/1000\r"
     ]
    },
    {
     "name": "stderr",
     "output_type": "stream",
     "text": [
      "0: 640x480 1 date, 1 number, 1 sender, 1 signer, 104.5ms\n",
      "Speed: 0.3ms preprocess, 104.5ms inference, 0.3ms postprocess per image at shape (1, 3, 640, 640)\n",
      "\n",
      "0: 192x640 1 typewritten, 11.2ms\n",
      "Speed: 0.2ms preprocess, 11.2ms inference, 0.3ms postprocess per image at shape (1, 3, 640, 640)\n",
      "\n",
      "0: 160x640 1 typewritten, 12.0ms\n",
      "Speed: 0.2ms preprocess, 12.0ms inference, 0.3ms postprocess per image at shape (1, 3, 640, 640)\n",
      "\n"
     ]
    },
    {
     "name": "stdout",
     "output_type": "stream",
     "text": [
      "in process: 953/1000\r"
     ]
    },
    {
     "name": "stderr",
     "output_type": "stream",
     "text": [
      "0: 640x480 1 date, 2 senders, 1 signer, 103.2ms\n",
      "Speed: 0.3ms preprocess, 103.2ms inference, 0.3ms postprocess per image at shape (1, 3, 640, 640)\n",
      "\n",
      "0: 192x640 1 typewritten, 11.9ms\n",
      "Speed: 0.2ms preprocess, 11.9ms inference, 0.6ms postprocess per image at shape (1, 3, 640, 640)\n",
      "\n"
     ]
    },
    {
     "name": "stdout",
     "output_type": "stream",
     "text": [
      "in process: 954/1000\r"
     ]
    },
    {
     "name": "stderr",
     "output_type": "stream",
     "text": [
      "0: 640x480 1 date, 1 number, 1 sender, 1 signer, 106.3ms\n",
      "Speed: 0.3ms preprocess, 106.3ms inference, 0.7ms postprocess per image at shape (1, 3, 640, 640)\n",
      "\n",
      "0: 128x640 1 handwrite, 8.6ms\n",
      "Speed: 0.2ms preprocess, 8.6ms inference, 0.3ms postprocess per image at shape (1, 3, 640, 640)\n",
      "\n",
      "0: 160x640 1 handwrite, 1 typewritten, 10.5ms\n",
      "Speed: 0.2ms preprocess, 10.5ms inference, 0.3ms postprocess per image at shape (1, 3, 640, 640)\n"
     ]
    },
    {
     "name": "stdout",
     "output_type": "stream",
     "text": [
      "in process: 955/1000\r"
     ]
    },
    {
     "name": "stderr",
     "output_type": "stream",
     "text": [
      "\n",
      "0: 640x480 (no detections), 103.8ms\n",
      "Speed: 0.3ms preprocess, 103.8ms inference, 0.2ms postprocess per image at shape (1, 3, 640, 640)\n",
      "\n",
      "0: 640x480 (no detections), 103.3ms\n",
      "Speed: 0.3ms preprocess, 103.3ms inference, 0.2ms postprocess per image at shape (1, 3, 640, 640)\n",
      "\n",
      "0: 640x480 (no detections), 104.5ms\n",
      "Speed: 0.3ms preprocess, 104.5ms inference, 0.2ms postprocess per image at shape (1, 3, 640, 640)\n",
      "\n",
      "0: 640x480 (no detections), 103.9ms\n",
      "Speed: 0.3ms preprocess, 103.9ms inference, 0.2ms postprocess per image at shape (1, 3, 640, 640)\n",
      "\n",
      "0: 640x480 (no detections), 105.6ms\n",
      "Speed: 0.3ms preprocess, 105.6ms inference, 0.2ms postprocess per image at shape (1, 3, 640, 640)\n",
      "\n",
      "0: 640x480 (no detections), 104.2ms\n",
      "Speed: 0.3ms preprocess, 104.2ms inference, 0.2ms postprocess per image at shape (1, 3, 640, 640)\n",
      "\n",
      "0: 640x480 (no detections), 105.9ms\n",
      "Speed: 0.3ms preprocess, 105.9ms inference, 0.2ms postprocess per image at shape (1, 3, 640, 640)\n",
      "\n",
      "0: 480x640 1 signer, 108.5ms\n",
      "Speed: 0.3ms preprocess, 108.5ms inference, 0.3ms postprocess per image at shape (1, 3, 640, 640)\n"
     ]
    },
    {
     "name": "stdout",
     "output_type": "stream",
     "text": [
      "in process: 956/1000\r"
     ]
    },
    {
     "name": "stderr",
     "output_type": "stream",
     "text": [
      "\n",
      "0: 640x480 1 content, 1 date, 1 number, 1 sender, 107.0ms\n",
      "Speed: 0.3ms preprocess, 107.0ms inference, 0.3ms postprocess per image at shape (1, 3, 640, 640)\n",
      "\n",
      "0: 160x640 1 handwrite, 10.3ms\n",
      "Speed: 0.3ms preprocess, 10.3ms inference, 0.3ms postprocess per image at shape (1, 3, 640, 640)\n",
      "\n",
      "0: 160x640 1 handwrite, 10.4ms\n",
      "Speed: 0.1ms preprocess, 10.4ms inference, 0.3ms postprocess per image at shape (1, 3, 640, 640)\n",
      "\n",
      "0: 640x480 1 signer, 104.8ms\n",
      "Speed: 0.3ms preprocess, 104.8ms inference, 0.3ms postprocess per image at shape (1, 3, 640, 640)\n"
     ]
    },
    {
     "name": "stdout",
     "output_type": "stream",
     "text": [
      "in process: 957/1000\r"
     ]
    },
    {
     "name": "stderr",
     "output_type": "stream",
     "text": [
      "\n",
      "0: 640x480 1 date, 1 number, 3 senders, 104.7ms\n",
      "Speed: 0.3ms preprocess, 104.7ms inference, 0.4ms postprocess per image at shape (1, 3, 640, 640)\n",
      "\n",
      "0: 96x640 3 handwrites, 7.6ms\n",
      "Speed: 0.1ms preprocess, 7.6ms inference, 0.3ms postprocess per image at shape (1, 3, 640, 640)\n",
      "\n",
      "0: 128x640 1 handwrite, 8.5ms\n",
      "Speed: 0.1ms preprocess, 8.5ms inference, 0.3ms postprocess per image at shape (1, 3, 640, 640)\n",
      "\n",
      "0: 640x480 (no detections), 103.8ms\n",
      "Speed: 0.3ms preprocess, 103.8ms inference, 0.2ms postprocess per image at shape (1, 3, 640, 640)\n",
      "\n",
      "0: 640x480 1 sender, 103.6ms\n",
      "Speed: 0.3ms preprocess, 103.6ms inference, 0.3ms postprocess per image at shape (1, 3, 640, 640)\n",
      "\n",
      "0: 640x480 1 content, 1 signer, 103.0ms\n",
      "Speed: 0.3ms preprocess, 103.0ms inference, 0.3ms postprocess per image at shape (1, 3, 640, 640)\n"
     ]
    },
    {
     "name": "stdout",
     "output_type": "stream",
     "text": [
      "in process: 958/1000\r"
     ]
    },
    {
     "name": "stderr",
     "output_type": "stream",
     "text": [
      "\n",
      "0: 640x480 1 content, 1 date, 1 number, 1 sender, 1 signer, 103.7ms\n",
      "Speed: 0.3ms preprocess, 103.7ms inference, 0.4ms postprocess per image at shape (1, 3, 640, 640)\n",
      "\n",
      "0: 192x640 1 handwrite, 11.1ms\n",
      "Speed: 0.2ms preprocess, 11.1ms inference, 0.3ms postprocess per image at shape (1, 3, 640, 640)\n",
      "\n",
      "0: 192x640 1 handwrite, 10.9ms\n",
      "Speed: 0.1ms preprocess, 10.9ms inference, 0.3ms postprocess per image at shape (1, 3, 640, 640)\n",
      "\n"
     ]
    },
    {
     "name": "stdout",
     "output_type": "stream",
     "text": [
      "in process: 959/1000\r"
     ]
    },
    {
     "name": "stderr",
     "output_type": "stream",
     "text": [
      "0: 640x480 1 date, 1 number, 1 sender, 1 signer, 103.2ms\n",
      "Speed: 0.3ms preprocess, 103.2ms inference, 0.4ms postprocess per image at shape (1, 3, 640, 640)\n",
      "\n",
      "0: 160x640 1 handwrite, 1 typewritten, 10.4ms\n",
      "Speed: 0.2ms preprocess, 10.4ms inference, 0.3ms postprocess per image at shape (1, 3, 640, 640)\n",
      "\n",
      "0: 192x640 1 typewritten, 11.2ms\n",
      "Speed: 0.2ms preprocess, 11.2ms inference, 0.3ms postprocess per image at shape (1, 3, 640, 640)\n"
     ]
    },
    {
     "name": "stdout",
     "output_type": "stream",
     "text": [
      "in process: 960/1000\r"
     ]
    },
    {
     "name": "stderr",
     "output_type": "stream",
     "text": [
      "\n",
      "0: 640x480 1 date, 1 number, 1 sender, 104.2ms\n",
      "Speed: 0.3ms preprocess, 104.2ms inference, 0.3ms postprocess per image at shape (1, 3, 640, 640)\n",
      "\n",
      "0: 192x640 1 handwrite, 11.0ms\n",
      "Speed: 0.2ms preprocess, 11.0ms inference, 0.3ms postprocess per image at shape (1, 3, 640, 640)\n",
      "\n",
      "0: 128x640 1 handwrite, 8.7ms\n",
      "Speed: 0.1ms preprocess, 8.7ms inference, 0.3ms postprocess per image at shape (1, 3, 640, 640)\n",
      "\n",
      "0: 640x480 (no detections), 104.1ms\n",
      "Speed: 0.3ms preprocess, 104.1ms inference, 0.2ms postprocess per image at shape (1, 3, 640, 640)\n",
      "\n",
      "0: 640x480 1 signer, 109.0ms\n",
      "Speed: 0.3ms preprocess, 109.0ms inference, 0.7ms postprocess per image at shape (1, 3, 640, 640)\n",
      "\n"
     ]
    },
    {
     "name": "stdout",
     "output_type": "stream",
     "text": [
      "in process: 961/1000\r"
     ]
    },
    {
     "name": "stderr",
     "output_type": "stream",
     "text": [
      "0: 640x480 2 numbers, 1 sender, 1 signer, 109.6ms\n",
      "Speed: 0.3ms preprocess, 109.6ms inference, 0.7ms postprocess per image at shape (1, 3, 640, 640)\n",
      "\n",
      "0: 128x640 1 handwrite, 10.5ms\n",
      "Speed: 0.2ms preprocess, 10.5ms inference, 0.3ms postprocess per image at shape (1, 3, 640, 640)\n",
      "\n",
      "0: 320x640 2 handwrites, 15.0ms\n",
      "Speed: 0.1ms preprocess, 15.0ms inference, 0.3ms postprocess per image at shape (1, 3, 640, 640)\n",
      "\n",
      "0: 640x480 1 content, 1 date, 1 number, 1 sender, 1 signer, 106.7ms\n"
     ]
    },
    {
     "name": "stdout",
     "output_type": "stream",
     "text": [
      "in process: 962/1000\r"
     ]
    },
    {
     "name": "stderr",
     "output_type": "stream",
     "text": [
      "Speed: 0.3ms preprocess, 106.7ms inference, 0.4ms postprocess per image at shape (1, 3, 640, 640)\n",
      "\n",
      "0: 128x640 2 typewrittens, 8.8ms\n",
      "Speed: 0.2ms preprocess, 8.8ms inference, 0.3ms postprocess per image at shape (1, 3, 640, 640)\n",
      "\n",
      "0: 224x640 1 typewritten, 12.2ms\n",
      "Speed: 0.2ms preprocess, 12.2ms inference, 0.3ms postprocess per image at shape (1, 3, 640, 640)\n"
     ]
    },
    {
     "name": "stdout",
     "output_type": "stream",
     "text": [
      "in process: 963/1000\r"
     ]
    },
    {
     "name": "stderr",
     "output_type": "stream",
     "text": [
      "\n",
      "0: 640x480 1 content, 1 date, 1 number, 1 sender, 104.6ms\n",
      "Speed: 0.3ms preprocess, 104.6ms inference, 0.4ms postprocess per image at shape (1, 3, 640, 640)\n",
      "\n",
      "0: 224x640 2 handwrites, 12.1ms\n",
      "Speed: 0.2ms preprocess, 12.1ms inference, 0.3ms postprocess per image at shape (1, 3, 640, 640)\n",
      "\n",
      "0: 224x640 1 handwrite, 12.1ms\n",
      "Speed: 0.1ms preprocess, 12.1ms inference, 0.3ms postprocess per image at shape (1, 3, 640, 640)\n",
      "\n",
      "0: 640x480 1 signer, 103.9ms\n",
      "Speed: 0.3ms preprocess, 103.9ms inference, 0.3ms postprocess per image at shape (1, 3, 640, 640)\n"
     ]
    },
    {
     "name": "stdout",
     "output_type": "stream",
     "text": [
      "in process: 964/1000\r"
     ]
    },
    {
     "name": "stderr",
     "output_type": "stream",
     "text": [
      "\n",
      "0: 640x480 1 date, 1 number, 2 senders, 1 signer, 103.7ms\n",
      "Speed: 0.3ms preprocess, 103.7ms inference, 0.4ms postprocess per image at shape (1, 3, 640, 640)\n",
      "\n",
      "0: 160x640 1 handwrite, 1 typewritten, 10.6ms\n",
      "Speed: 0.1ms preprocess, 10.6ms inference, 0.3ms postprocess per image at shape (1, 3, 640, 640)\n",
      "\n",
      "0: 96x640 1 typewritten, 7.7ms\n",
      "Speed: 0.2ms preprocess, 7.7ms inference, 0.3ms postprocess per image at shape (1, 3, 640, 640)\n"
     ]
    },
    {
     "name": "stdout",
     "output_type": "stream",
     "text": [
      "in process: 965/1000\r"
     ]
    },
    {
     "name": "stderr",
     "output_type": "stream",
     "text": [
      "\n",
      "0: 640x480 (no detections), 104.2ms\n",
      "Speed: 0.3ms preprocess, 104.2ms inference, 0.2ms postprocess per image at shape (1, 3, 640, 640)\n",
      "\n",
      "0: 640x480 1 signer, 105.8ms\n",
      "Speed: 0.3ms preprocess, 105.8ms inference, 0.3ms postprocess per image at shape (1, 3, 640, 640)\n"
     ]
    },
    {
     "name": "stdout",
     "output_type": "stream",
     "text": [
      "in process: 966/1000\r"
     ]
    },
    {
     "name": "stderr",
     "output_type": "stream",
     "text": [
      "\n",
      "0: 640x480 1 date, 1 number, 1 sender, 1 signer, 104.2ms\n",
      "Speed: 0.3ms preprocess, 104.2ms inference, 0.4ms postprocess per image at shape (1, 3, 640, 640)\n",
      "\n",
      "0: 128x640 2 handwrites, 8.8ms\n",
      "Speed: 0.2ms preprocess, 8.8ms inference, 0.3ms postprocess per image at shape (1, 3, 640, 640)\n",
      "\n",
      "0: 192x640 1 handwrite, 12.3ms\n",
      "Speed: 0.2ms preprocess, 12.3ms inference, 0.4ms postprocess per image at shape (1, 3, 640, 640)\n",
      "\n"
     ]
    },
    {
     "name": "stdout",
     "output_type": "stream",
     "text": [
      "in process: 967/1000\r"
     ]
    },
    {
     "name": "stderr",
     "output_type": "stream",
     "text": [
      "0: 640x480 1 content, 1 date, 1 number, 1 sender, 108.4ms\n",
      "Speed: 0.3ms preprocess, 108.4ms inference, 0.3ms postprocess per image at shape (1, 3, 640, 640)\n",
      "\n",
      "0: 192x640 1 handwrite, 11.0ms\n",
      "Speed: 0.2ms preprocess, 11.0ms inference, 0.3ms postprocess per image at shape (1, 3, 640, 640)\n",
      "\n",
      "0: 128x640 1 handwrite, 8.5ms\n",
      "Speed: 0.1ms preprocess, 8.5ms inference, 0.3ms postprocess per image at shape (1, 3, 640, 640)\n",
      "\n",
      "0: 640x480 1 signer, 104.1ms\n",
      "Speed: 0.3ms preprocess, 104.1ms inference, 0.3ms postprocess per image at shape (1, 3, 640, 640)\n"
     ]
    },
    {
     "name": "stdout",
     "output_type": "stream",
     "text": [
      "in process: 968/1000\r"
     ]
    },
    {
     "name": "stderr",
     "output_type": "stream",
     "text": [
      "\n",
      "0: 640x480 1 content, 1 date, 1 number, 1 sender, 103.8ms\n",
      "Speed: 0.3ms preprocess, 103.8ms inference, 0.4ms postprocess per image at shape (1, 3, 640, 640)\n",
      "\n",
      "0: 192x640 1 handwrite, 11.2ms\n",
      "Speed: 0.2ms preprocess, 11.2ms inference, 0.3ms postprocess per image at shape (1, 3, 640, 640)\n",
      "\n",
      "0: 160x640 1 handwrite, 10.4ms\n",
      "Speed: 0.1ms preprocess, 10.4ms inference, 0.3ms postprocess per image at shape (1, 3, 640, 640)\n",
      "\n",
      "0: 640x480 1 sender, 103.9ms\n",
      "Speed: 0.3ms preprocess, 103.9ms inference, 0.3ms postprocess per image at shape (1, 3, 640, 640)\n",
      "\n",
      "0: 640x480 2 senders, 1 signer, 103.5ms\n",
      "Speed: 0.3ms preprocess, 103.5ms inference, 0.3ms postprocess per image at shape (1, 3, 640, 640)\n"
     ]
    },
    {
     "name": "stdout",
     "output_type": "stream",
     "text": [
      "in process: 969/1000\r"
     ]
    },
    {
     "name": "stderr",
     "output_type": "stream",
     "text": [
      "\n",
      "0: 640x480 1 sender, 104.4ms\n",
      "Speed: 0.3ms preprocess, 104.4ms inference, 0.3ms postprocess per image at shape (1, 3, 640, 640)\n",
      "\n",
      "0: 640x480 1 number, 104.0ms\n",
      "Speed: 0.3ms preprocess, 104.0ms inference, 0.3ms postprocess per image at shape (1, 3, 640, 640)\n",
      "\n",
      "0: 224x640 2 handwrites, 12.1ms\n",
      "Speed: 0.1ms preprocess, 12.1ms inference, 0.3ms postprocess per image at shape (1, 3, 640, 640)\n",
      "\n",
      "0: 640x480 (no detections), 103.5ms\n",
      "Speed: 0.3ms preprocess, 103.5ms inference, 0.2ms postprocess per image at shape (1, 3, 640, 640)\n",
      "\n",
      "0: 640x480 (no detections), 104.3ms\n",
      "Speed: 0.3ms preprocess, 104.3ms inference, 0.2ms postprocess per image at shape (1, 3, 640, 640)\n",
      "\n",
      "0: 640x480 (no detections), 103.4ms\n",
      "Speed: 0.3ms preprocess, 103.4ms inference, 0.2ms postprocess per image at shape (1, 3, 640, 640)\n",
      "\n",
      "0: 640x480 (no detections), 105.8ms\n",
      "Speed: 0.3ms preprocess, 105.8ms inference, 0.2ms postprocess per image at shape (1, 3, 640, 640)\n",
      "\n",
      "0: 640x480 (no detections), 104.3ms\n",
      "Speed: 0.3ms preprocess, 104.3ms inference, 0.2ms postprocess per image at shape (1, 3, 640, 640)\n",
      "\n",
      "0: 640x480 (no detections), 102.7ms\n",
      "Speed: 0.3ms preprocess, 102.7ms inference, 0.2ms postprocess per image at shape (1, 3, 640, 640)\n",
      "\n",
      "0: 640x480 (no detections), 106.8ms\n",
      "Speed: 0.3ms preprocess, 106.8ms inference, 0.2ms postprocess per image at shape (1, 3, 640, 640)\n",
      "\n",
      "0: 640x480 (no detections), 107.5ms\n",
      "Speed: 0.3ms preprocess, 107.5ms inference, 0.2ms postprocess per image at shape (1, 3, 640, 640)\n",
      "\n"
     ]
    },
    {
     "name": "stdout",
     "output_type": "stream",
     "text": [
      "in process: 970/1000\r"
     ]
    },
    {
     "name": "stderr",
     "output_type": "stream",
     "text": [
      "0: 640x480 1 date, 1 number, 1 sender, 104.1ms\n",
      "Speed: 0.3ms preprocess, 104.1ms inference, 0.3ms postprocess per image at shape (1, 3, 640, 640)\n",
      "\n",
      "0: 128x640 1 typewritten, 8.8ms\n",
      "Speed: 0.2ms preprocess, 8.8ms inference, 0.3ms postprocess per image at shape (1, 3, 640, 640)\n",
      "\n",
      "0: 192x640 1 typewritten, 11.1ms\n",
      "Speed: 0.2ms preprocess, 11.1ms inference, 0.3ms postprocess per image at shape (1, 3, 640, 640)\n",
      "\n",
      "0: 640x480 2 signers, 103.5ms\n",
      "Speed: 0.3ms preprocess, 103.5ms inference, 0.3ms postprocess per image at shape (1, 3, 640, 640)\n",
      "\n"
     ]
    },
    {
     "name": "stdout",
     "output_type": "stream",
     "text": [
      "in process: 971/1000\r"
     ]
    },
    {
     "name": "stderr",
     "output_type": "stream",
     "text": [
      "0: 640x480 1 date, 1 number, 1 sender, 1 signer, 104.2ms\n",
      "Speed: 0.3ms preprocess, 104.2ms inference, 0.4ms postprocess per image at shape (1, 3, 640, 640)\n",
      "\n",
      "0: 128x640 2 handwrites, 8.6ms\n",
      "Speed: 0.1ms preprocess, 8.6ms inference, 0.3ms postprocess per image at shape (1, 3, 640, 640)\n",
      "\n",
      "0: 192x640 1 handwrite, 11.0ms\n",
      "Speed: 0.1ms preprocess, 11.0ms inference, 0.3ms postprocess per image at shape (1, 3, 640, 640)\n",
      "\n"
     ]
    },
    {
     "name": "stdout",
     "output_type": "stream",
     "text": [
      "in process: 972/1000\r"
     ]
    },
    {
     "name": "stderr",
     "output_type": "stream",
     "text": [
      "0: 640x480 1 date, 1 number, 1 sender, 1 signer, 103.4ms\n",
      "Speed: 0.3ms preprocess, 103.4ms inference, 0.4ms postprocess per image at shape (1, 3, 640, 640)\n",
      "\n",
      "0: 160x640 1 handwrite, 19.0ms\n",
      "Speed: 0.2ms preprocess, 19.0ms inference, 0.3ms postprocess per image at shape (1, 3, 640, 640)\n",
      "\n",
      "0: 160x640 1 handwrite, 11.3ms\n",
      "Speed: 0.1ms preprocess, 11.3ms inference, 0.4ms postprocess per image at shape (1, 3, 640, 640)\n",
      "\n"
     ]
    },
    {
     "name": "stdout",
     "output_type": "stream",
     "text": [
      "in process: 973/1000\r"
     ]
    },
    {
     "name": "stderr",
     "output_type": "stream",
     "text": [
      "0: 640x480 1 date, 1 number, 1 sender, 105.1ms\n",
      "Speed: 0.3ms preprocess, 105.1ms inference, 0.4ms postprocess per image at shape (1, 3, 640, 640)\n",
      "\n",
      "0: 160x640 1 typewritten, 10.3ms\n",
      "Speed: 0.1ms preprocess, 10.3ms inference, 0.3ms postprocess per image at shape (1, 3, 640, 640)\n",
      "\n",
      "0: 160x640 1 typewritten, 10.5ms\n",
      "Speed: 0.2ms preprocess, 10.5ms inference, 0.3ms postprocess per image at shape (1, 3, 640, 640)\n",
      "\n",
      "0: 640x480 1 signer, 104.2ms\n",
      "Speed: 0.3ms preprocess, 104.2ms inference, 0.3ms postprocess per image at shape (1, 3, 640, 640)\n"
     ]
    },
    {
     "name": "stdout",
     "output_type": "stream",
     "text": [
      "in process: 974/1000\r"
     ]
    },
    {
     "name": "stderr",
     "output_type": "stream",
     "text": [
      "\n",
      "0: 640x480 1 date, 1 number, 1 sender, 1 signer, 104.4ms\n",
      "Speed: 0.3ms preprocess, 104.4ms inference, 0.4ms postprocess per image at shape (1, 3, 640, 640)\n",
      "\n",
      "0: 160x640 1 handwrite, 14.4ms\n",
      "Speed: 0.2ms preprocess, 14.4ms inference, 0.6ms postprocess per image at shape (1, 3, 640, 640)\n",
      "\n",
      "0: 160x640 1 handwrite, 14.4ms\n",
      "Speed: 0.2ms preprocess, 14.4ms inference, 0.6ms postprocess per image at shape (1, 3, 640, 640)\n"
     ]
    },
    {
     "name": "stdout",
     "output_type": "stream",
     "text": [
      "in process: 975/1000\r"
     ]
    },
    {
     "name": "stderr",
     "output_type": "stream",
     "text": [
      "\n",
      "0: 640x480 1 date, 1 number, 1 sender, 1 signer, 104.0ms\n",
      "Speed: 0.3ms preprocess, 104.0ms inference, 0.4ms postprocess per image at shape (1, 3, 640, 640)\n",
      "\n",
      "0: 160x640 1 handwrite, 10.3ms\n",
      "Speed: 0.1ms preprocess, 10.3ms inference, 0.3ms postprocess per image at shape (1, 3, 640, 640)\n",
      "\n",
      "0: 160x640 1 handwrite, 10.3ms\n",
      "Speed: 0.2ms preprocess, 10.3ms inference, 0.3ms postprocess per image at shape (1, 3, 640, 640)\n",
      "\n"
     ]
    },
    {
     "name": "stdout",
     "output_type": "stream",
     "text": [
      "in process: 976/1000\r"
     ]
    },
    {
     "name": "stderr",
     "output_type": "stream",
     "text": [
      "0: 640x480 1 content, 1 signer, 104.3ms\n",
      "Speed: 0.3ms preprocess, 104.3ms inference, 0.4ms postprocess per image at shape (1, 3, 640, 640)\n"
     ]
    },
    {
     "name": "stdout",
     "output_type": "stream",
     "text": [
      "in process: 977/1000\r"
     ]
    },
    {
     "name": "stderr",
     "output_type": "stream",
     "text": [
      "\n",
      "0: 640x480 1 content, 1 date, 1 number, 1 sender, 1 signer, 104.4ms\n",
      "Speed: 0.3ms preprocess, 104.4ms inference, 0.4ms postprocess per image at shape (1, 3, 640, 640)\n",
      "\n",
      "0: 160x640 1 handwrite, 10.5ms\n",
      "Speed: 0.2ms preprocess, 10.5ms inference, 0.3ms postprocess per image at shape (1, 3, 640, 640)\n",
      "\n",
      "0: 192x640 1 handwrite, 11.4ms\n",
      "Speed: 0.1ms preprocess, 11.4ms inference, 0.3ms postprocess per image at shape (1, 3, 640, 640)\n",
      "\n"
     ]
    },
    {
     "name": "stdout",
     "output_type": "stream",
     "text": [
      "in process: 978/1000\r"
     ]
    },
    {
     "name": "stderr",
     "output_type": "stream",
     "text": [
      "0: 640x480 1 date, 1 number, 2 senders, 1 signer, 109.4ms\n",
      "Speed: 0.3ms preprocess, 109.4ms inference, 0.7ms postprocess per image at shape (1, 3, 640, 640)\n",
      "\n",
      "0: 160x640 1 handwrite, 10.5ms\n",
      "Speed: 0.2ms preprocess, 10.5ms inference, 0.3ms postprocess per image at shape (1, 3, 640, 640)\n",
      "\n",
      "0: 192x640 1 handwrite, 11.1ms\n",
      "Speed: 0.2ms preprocess, 11.1ms inference, 0.3ms postprocess per image at shape (1, 3, 640, 640)\n"
     ]
    },
    {
     "name": "stdout",
     "output_type": "stream",
     "text": [
      "in process: 979/1000\r"
     ]
    },
    {
     "name": "stderr",
     "output_type": "stream",
     "text": [
      "\n",
      "0: 640x480 1 content, 1 date, 1 number, 1 sender, 103.9ms\n",
      "Speed: 0.3ms preprocess, 103.9ms inference, 0.4ms postprocess per image at shape (1, 3, 640, 640)\n",
      "\n",
      "0: 160x640 1 handwrite, 10.5ms\n",
      "Speed: 0.2ms preprocess, 10.5ms inference, 0.3ms postprocess per image at shape (1, 3, 640, 640)\n",
      "\n",
      "0: 160x640 1 handwrite, 10.4ms\n",
      "Speed: 0.1ms preprocess, 10.4ms inference, 0.3ms postprocess per image at shape (1, 3, 640, 640)\n",
      "\n",
      "0: 640x480 (no detections), 104.3ms\n",
      "Speed: 0.3ms preprocess, 104.3ms inference, 0.2ms postprocess per image at shape (1, 3, 640, 640)\n",
      "\n",
      "0: 640x480 1 signer, 103.5ms\n",
      "Speed: 0.3ms preprocess, 103.5ms inference, 0.3ms postprocess per image at shape (1, 3, 640, 640)\n"
     ]
    },
    {
     "name": "stdout",
     "output_type": "stream",
     "text": [
      "in process: 980/1000\r"
     ]
    },
    {
     "name": "stderr",
     "output_type": "stream",
     "text": [
      "\n",
      "0: 640x480 1 date, 1 number, 1 sender, 109.2ms\n",
      "Speed: 0.3ms preprocess, 109.2ms inference, 0.7ms postprocess per image at shape (1, 3, 640, 640)\n",
      "\n",
      "0: 192x640 1 handwrite, 11.2ms\n",
      "Speed: 0.2ms preprocess, 11.2ms inference, 0.3ms postprocess per image at shape (1, 3, 640, 640)\n",
      "\n",
      "0: 128x640 1 handwrite, 8.6ms\n",
      "Speed: 0.1ms preprocess, 8.6ms inference, 0.3ms postprocess per image at shape (1, 3, 640, 640)\n",
      "\n",
      "0: 640x480 1 signer, 104.3ms\n",
      "Speed: 0.3ms preprocess, 104.3ms inference, 0.3ms postprocess per image at shape (1, 3, 640, 640)\n",
      "\n"
     ]
    },
    {
     "name": "stdout",
     "output_type": "stream",
     "text": [
      "in process: 981/1000\r"
     ]
    },
    {
     "name": "stderr",
     "output_type": "stream",
     "text": [
      "0: 640x480 1 date, 1 number, 1 sender, 1 signer, 105.6ms\n",
      "Speed: 0.3ms preprocess, 105.6ms inference, 0.4ms postprocess per image at shape (1, 3, 640, 640)\n",
      "\n",
      "0: 128x640 1 handwrite, 8.6ms\n",
      "Speed: 0.2ms preprocess, 8.6ms inference, 0.3ms postprocess per image at shape (1, 3, 640, 640)\n",
      "\n",
      "0: 160x640 1 handwrite, 10.5ms\n",
      "Speed: 0.1ms preprocess, 10.5ms inference, 0.3ms postprocess per image at shape (1, 3, 640, 640)\n"
     ]
    },
    {
     "name": "stdout",
     "output_type": "stream",
     "text": [
      "in process: 982/1000\r"
     ]
    },
    {
     "name": "stderr",
     "output_type": "stream",
     "text": [
      "\n",
      "0: 640x512 1 content, 1 date, 1 number, 1 sender, 111.3ms\n",
      "Speed: 0.3ms preprocess, 111.3ms inference, 0.3ms postprocess per image at shape (1, 3, 640, 640)\n",
      "\n",
      "0: 160x640 1 typewritten, 10.4ms\n",
      "Speed: 0.2ms preprocess, 10.4ms inference, 0.3ms postprocess per image at shape (1, 3, 640, 640)\n",
      "\n",
      "0: 256x640 1 handwrite, 1 typewritten, 13.1ms\n",
      "Speed: 0.2ms preprocess, 13.1ms inference, 0.3ms postprocess per image at shape (1, 3, 640, 640)\n",
      "\n",
      "0: 640x512 1 signer, 110.5ms\n",
      "Speed: 0.3ms preprocess, 110.5ms inference, 0.3ms postprocess per image at shape (1, 3, 640, 640)\n"
     ]
    },
    {
     "name": "stdout",
     "output_type": "stream",
     "text": [
      "in process: 983/1000\r"
     ]
    },
    {
     "name": "stderr",
     "output_type": "stream",
     "text": [
      "\n",
      "0: 640x480 1 date, 1 number, 1 sender, 1 signer, 104.3ms\n",
      "Speed: 0.3ms preprocess, 104.3ms inference, 0.3ms postprocess per image at shape (1, 3, 640, 640)\n",
      "\n",
      "0: 160x640 1 handwrite, 15.2ms\n",
      "Speed: 0.2ms preprocess, 15.2ms inference, 0.6ms postprocess per image at shape (1, 3, 640, 640)\n",
      "\n",
      "0: 192x640 1 handwrite, 11.2ms\n",
      "Speed: 0.2ms preprocess, 11.2ms inference, 0.3ms postprocess per image at shape (1, 3, 640, 640)\n",
      "\n"
     ]
    },
    {
     "name": "stdout",
     "output_type": "stream",
     "text": [
      "in process: 984/1000\r"
     ]
    },
    {
     "name": "stderr",
     "output_type": "stream",
     "text": [
      "0: 640x480 1 date, 2 senders, 103.8ms\n",
      "Speed: 0.3ms preprocess, 103.8ms inference, 0.3ms postprocess per image at shape (1, 3, 640, 640)\n",
      "\n",
      "0: 224x640 1 typewritten, 12.1ms\n",
      "Speed: 0.1ms preprocess, 12.1ms inference, 0.3ms postprocess per image at shape (1, 3, 640, 640)\n"
     ]
    },
    {
     "name": "stdout",
     "output_type": "stream",
     "text": [
      "in process: 985/1000\r"
     ]
    },
    {
     "name": "stderr",
     "output_type": "stream",
     "text": [
      "\n",
      "0: 640x480 1 content, 1 date, 1 number, 1 sender, 105.0ms\n",
      "Speed: 0.3ms preprocess, 105.0ms inference, 0.4ms postprocess per image at shape (1, 3, 640, 640)\n",
      "\n",
      "0: 128x640 1 handwrite, 9.0ms\n",
      "Speed: 0.2ms preprocess, 9.0ms inference, 0.3ms postprocess per image at shape (1, 3, 640, 640)\n",
      "\n",
      "0: 192x640 1 handwrite, 11.1ms\n",
      "Speed: 0.2ms preprocess, 11.1ms inference, 0.3ms postprocess per image at shape (1, 3, 640, 640)\n",
      "\n",
      "0: 640x480 1 signer, 104.4ms\n",
      "Speed: 0.3ms preprocess, 104.4ms inference, 0.3ms postprocess per image at shape (1, 3, 640, 640)\n"
     ]
    },
    {
     "name": "stdout",
     "output_type": "stream",
     "text": [
      "in process: 986/1000\r"
     ]
    },
    {
     "name": "stderr",
     "output_type": "stream",
     "text": [
      "\n",
      "0: 640x480 2 dates, 1 number, 1 sender, 1 signer, 104.2ms\n",
      "Speed: 0.3ms preprocess, 104.2ms inference, 0.4ms postprocess per image at shape (1, 3, 640, 640)\n",
      "\n",
      "0: 128x640 1 typewritten, 8.7ms\n",
      "Speed: 0.2ms preprocess, 8.7ms inference, 0.3ms postprocess per image at shape (1, 3, 640, 640)\n",
      "\n",
      "0: 192x640 1 typewritten, 12.3ms\n",
      "Speed: 0.2ms preprocess, 12.3ms inference, 0.3ms postprocess per image at shape (1, 3, 640, 640)\n",
      "\n",
      "0: 128x640 1 typewritten, 8.8ms\n",
      "Speed: 0.2ms preprocess, 8.8ms inference, 0.3ms postprocess per image at shape (1, 3, 640, 640)\n"
     ]
    },
    {
     "name": "stdout",
     "output_type": "stream",
     "text": [
      "in process: 987/1000\r"
     ]
    },
    {
     "name": "stderr",
     "output_type": "stream",
     "text": [
      "\n",
      "0: 640x480 1 number, 104.0ms\n",
      "Speed: 0.3ms preprocess, 104.0ms inference, 0.3ms postprocess per image at shape (1, 3, 640, 640)\n",
      "\n",
      "0: 256x640 1 handwrite, 13.0ms\n",
      "Speed: 0.1ms preprocess, 13.0ms inference, 0.3ms postprocess per image at shape (1, 3, 640, 640)\n",
      "\n",
      "0: 640x480 (no detections), 104.4ms\n",
      "Speed: 0.3ms preprocess, 104.4ms inference, 0.2ms postprocess per image at shape (1, 3, 640, 640)\n",
      "\n",
      "0: 640x480 (no detections), 104.8ms\n",
      "Speed: 0.3ms preprocess, 104.8ms inference, 0.2ms postprocess per image at shape (1, 3, 640, 640)\n",
      "\n",
      "0: 640x480 (no detections), 104.7ms\n",
      "Speed: 0.3ms preprocess, 104.7ms inference, 0.2ms postprocess per image at shape (1, 3, 640, 640)\n",
      "\n",
      "0: 640x480 (no detections), 104.3ms\n",
      "Speed: 0.3ms preprocess, 104.3ms inference, 0.2ms postprocess per image at shape (1, 3, 640, 640)\n",
      "\n",
      "0: 640x480 (no detections), 106.2ms\n",
      "Speed: 0.3ms preprocess, 106.2ms inference, 0.2ms postprocess per image at shape (1, 3, 640, 640)\n",
      "\n",
      "0: 640x480 1 number, 104.3ms\n",
      "Speed: 0.3ms preprocess, 104.3ms inference, 0.3ms postprocess per image at shape (1, 3, 640, 640)\n",
      "\n",
      "0: 256x640 2 handwrites, 12.8ms\n",
      "Speed: 0.1ms preprocess, 12.8ms inference, 0.3ms postprocess per image at shape (1, 3, 640, 640)\n",
      "\n",
      "0: 640x480 (no detections), 107.2ms\n",
      "Speed: 0.3ms preprocess, 107.2ms inference, 0.2ms postprocess per image at shape (1, 3, 640, 640)\n",
      "\n",
      "0: 640x480 (no detections), 104.7ms\n",
      "Speed: 0.3ms preprocess, 104.7ms inference, 0.2ms postprocess per image at shape (1, 3, 640, 640)\n",
      "\n",
      "0: 640x480 (no detections), 104.3ms\n",
      "Speed: 0.3ms preprocess, 104.3ms inference, 0.2ms postprocess per image at shape (1, 3, 640, 640)\n",
      "\n"
     ]
    },
    {
     "name": "stdout",
     "output_type": "stream",
     "text": [
      "in process: 988/1000\r"
     ]
    },
    {
     "name": "stderr",
     "output_type": "stream",
     "text": [
      "0: 640x448 1 date, 1 number, 2 senders, 1 signer, 104.5ms\n",
      "Speed: 0.3ms preprocess, 104.5ms inference, 0.3ms postprocess per image at shape (1, 3, 640, 640)\n",
      "\n",
      "0: 256x640 2 typewrittens, 16.8ms\n",
      "Speed: 0.2ms preprocess, 16.8ms inference, 0.6ms postprocess per image at shape (1, 3, 640, 640)\n",
      "\n",
      "0: 160x640 1 typewritten, 10.5ms\n",
      "Speed: 0.3ms preprocess, 10.5ms inference, 0.3ms postprocess per image at shape (1, 3, 640, 640)\n",
      "\n"
     ]
    },
    {
     "name": "stdout",
     "output_type": "stream",
     "text": [
      "in process: 989/1000\r"
     ]
    },
    {
     "name": "stderr",
     "output_type": "stream",
     "text": [
      "0: 640x480 (no detections), 103.7ms\n",
      "Speed: 0.3ms preprocess, 103.7ms inference, 0.2ms postprocess per image at shape (1, 3, 640, 640)\n",
      "\n",
      "0: 640x480 1 sender, 103.9ms\n",
      "Speed: 0.3ms preprocess, 103.9ms inference, 0.3ms postprocess per image at shape (1, 3, 640, 640)\n",
      "\n",
      "0: 640x480 (no detections), 103.5ms\n",
      "Speed: 0.3ms preprocess, 103.5ms inference, 0.2ms postprocess per image at shape (1, 3, 640, 640)\n",
      "\n",
      "0: 640x480 (no detections), 104.1ms\n",
      "Speed: 0.3ms preprocess, 104.1ms inference, 0.2ms postprocess per image at shape (1, 3, 640, 640)\n"
     ]
    },
    {
     "name": "stdout",
     "output_type": "stream",
     "text": [
      "in process: 990/1000\r"
     ]
    },
    {
     "name": "stderr",
     "output_type": "stream",
     "text": [
      "\n",
      "0: 640x480 2 dates, 1 number, 1 sender, 1 signer, 103.6ms\n",
      "Speed: 0.3ms preprocess, 103.6ms inference, 0.4ms postprocess per image at shape (1, 3, 640, 640)\n",
      "\n",
      "0: 160x640 1 handwrite, 10.2ms\n",
      "Speed: 0.2ms preprocess, 10.2ms inference, 0.3ms postprocess per image at shape (1, 3, 640, 640)\n",
      "\n",
      "0: 160x640 1 handwrite, 10.2ms\n",
      "Speed: 0.1ms preprocess, 10.2ms inference, 0.3ms postprocess per image at shape (1, 3, 640, 640)\n",
      "\n",
      "0: 128x640 1 handwrite, 12.6ms\n",
      "Speed: 0.2ms preprocess, 12.6ms inference, 0.6ms postprocess per image at shape (1, 3, 640, 640)\n"
     ]
    },
    {
     "name": "stdout",
     "output_type": "stream",
     "text": [
      "in process: 991/1000\r"
     ]
    },
    {
     "name": "stderr",
     "output_type": "stream",
     "text": [
      "\n",
      "0: 640x480 1 number, 1 signer, 104.0ms\n",
      "Speed: 0.3ms preprocess, 104.0ms inference, 0.4ms postprocess per image at shape (1, 3, 640, 640)\n",
      "\n",
      "0: 224x640 1 handwrite, 12.1ms\n",
      "Speed: 1.7ms preprocess, 12.1ms inference, 0.3ms postprocess per image at shape (1, 3, 640, 640)\n"
     ]
    },
    {
     "name": "stdout",
     "output_type": "stream",
     "text": [
      "in process: 992/1000\r"
     ]
    },
    {
     "name": "stderr",
     "output_type": "stream",
     "text": [
      "\n",
      "0: 640x512 1 content, 1 date, 1 number, 1 sender, 1 signer, 110.8ms\n",
      "Speed: 0.3ms preprocess, 110.8ms inference, 0.3ms postprocess per image at shape (1, 3, 640, 640)\n",
      "\n",
      "0: 160x640 1 handwrite, 10.4ms\n",
      "Speed: 0.1ms preprocess, 10.4ms inference, 0.3ms postprocess per image at shape (1, 3, 640, 640)\n",
      "\n",
      "0: 160x640 1 handwrite, 10.1ms\n",
      "Speed: 0.1ms preprocess, 10.1ms inference, 0.3ms postprocess per image at shape (1, 3, 640, 640)\n"
     ]
    },
    {
     "name": "stdout",
     "output_type": "stream",
     "text": [
      "in process: 993/1000\r"
     ]
    },
    {
     "name": "stderr",
     "output_type": "stream",
     "text": [
      "\n",
      "0: 640x480 2 contents, 1 date, 1 number, 1 sender, 1 signer, 102.8ms\n",
      "Speed: 0.3ms preprocess, 102.8ms inference, 0.3ms postprocess per image at shape (1, 3, 640, 640)\n",
      "\n",
      "0: 128x640 1 typewritten, 8.7ms\n",
      "Speed: 0.2ms preprocess, 8.7ms inference, 0.3ms postprocess per image at shape (1, 3, 640, 640)\n",
      "\n",
      "0: 224x640 1 handwrite, 1 typewritten, 13.7ms\n",
      "Speed: 0.2ms preprocess, 13.7ms inference, 0.3ms postprocess per image at shape (1, 3, 640, 640)\n"
     ]
    },
    {
     "name": "stdout",
     "output_type": "stream",
     "text": [
      "in process: 994/1000\r"
     ]
    },
    {
     "name": "stderr",
     "output_type": "stream",
     "text": [
      "\n",
      "0: 640x480 1 content, 3 senders, 1 signer, 104.4ms\n",
      "Speed: 0.3ms preprocess, 104.4ms inference, 0.4ms postprocess per image at shape (1, 3, 640, 640)\n"
     ]
    },
    {
     "name": "stdout",
     "output_type": "stream",
     "text": [
      "in process: 995/1000\r"
     ]
    },
    {
     "name": "stderr",
     "output_type": "stream",
     "text": [
      "\n",
      "0: 640x480 1 date, 1 sender, 1 signer, 106.5ms\n",
      "Speed: 0.2ms preprocess, 106.5ms inference, 0.7ms postprocess per image at shape (1, 3, 640, 640)\n",
      "\n",
      "0: 160x640 1 typewritten, 13.8ms\n",
      "Speed: 0.2ms preprocess, 13.8ms inference, 0.3ms postprocess per image at shape (1, 3, 640, 640)\n"
     ]
    },
    {
     "name": "stdout",
     "output_type": "stream",
     "text": [
      "in process: 996/1000\r"
     ]
    },
    {
     "name": "stderr",
     "output_type": "stream",
     "text": [
      "\n",
      "0: 640x480 1 content, 1 date, 2 numbers, 1 sender, 103.6ms\n",
      "Speed: 0.3ms preprocess, 103.6ms inference, 0.3ms postprocess per image at shape (1, 3, 640, 640)\n",
      "\n",
      "0: 288x640 1 handwrite, 1 typewritten, 19.0ms\n",
      "Speed: 0.2ms preprocess, 19.0ms inference, 0.3ms postprocess per image at shape (1, 3, 640, 640)\n",
      "\n",
      "0: 320x640 1 typewritten, 15.1ms\n",
      "Speed: 0.2ms preprocess, 15.1ms inference, 0.3ms postprocess per image at shape (1, 3, 640, 640)\n",
      "\n",
      "0: 128x640 1 typewritten, 8.9ms\n",
      "Speed: 0.2ms preprocess, 8.9ms inference, 0.3ms postprocess per image at shape (1, 3, 640, 640)\n",
      "\n",
      "0: 640x480 1 signer, 103.9ms\n",
      "Speed: 0.3ms preprocess, 103.9ms inference, 0.3ms postprocess per image at shape (1, 3, 640, 640)\n"
     ]
    },
    {
     "name": "stdout",
     "output_type": "stream",
     "text": [
      "in process: 997/1000\r"
     ]
    },
    {
     "name": "stderr",
     "output_type": "stream",
     "text": [
      "\n",
      "0: 640x480 1 signer, 103.7ms\n",
      "Speed: 0.3ms preprocess, 103.7ms inference, 0.3ms postprocess per image at shape (1, 3, 640, 640)\n",
      "\n"
     ]
    },
    {
     "name": "stdout",
     "output_type": "stream",
     "text": [
      "in process: 998/1000\r"
     ]
    },
    {
     "name": "stderr",
     "output_type": "stream",
     "text": [
      "0: 640x480 1 content, 1 date, 1 number, 2 senders, 1 signer, 104.2ms\n",
      "Speed: 0.3ms preprocess, 104.2ms inference, 0.4ms postprocess per image at shape (1, 3, 640, 640)\n",
      "\n",
      "0: 160x640 2 handwrites, 10.3ms\n",
      "Speed: 0.1ms preprocess, 10.3ms inference, 0.3ms postprocess per image at shape (1, 3, 640, 640)\n",
      "\n",
      "0: 192x640 2 handwrites, 11.2ms\n",
      "Speed: 0.2ms preprocess, 11.2ms inference, 0.3ms postprocess per image at shape (1, 3, 640, 640)\n",
      "\n"
     ]
    },
    {
     "name": "stdout",
     "output_type": "stream",
     "text": [
      "in process: 999/1000\r"
     ]
    },
    {
     "name": "stderr",
     "output_type": "stream",
     "text": [
      "0: 640x480 1 content, 1 date, 1 number, 1 sender, 103.9ms\n",
      "Speed: 0.3ms preprocess, 103.9ms inference, 0.4ms postprocess per image at shape (1, 3, 640, 640)\n",
      "\n",
      "0: 160x640 1 handwrite, 10.5ms\n",
      "Speed: 0.2ms preprocess, 10.5ms inference, 0.3ms postprocess per image at shape (1, 3, 640, 640)\n",
      "\n",
      "0: 192x640 1 handwrite, 11.2ms\n",
      "Speed: 0.1ms preprocess, 11.2ms inference, 0.3ms postprocess per image at shape (1, 3, 640, 640)\n",
      "\n",
      "0: 640x480 1 sender, 103.6ms\n",
      "Speed: 0.3ms preprocess, 103.6ms inference, 0.3ms postprocess per image at shape (1, 3, 640, 640)\n"
     ]
    },
    {
     "name": "stdout",
     "output_type": "stream",
     "text": [
      "in process: 1000/1000\r",
      "CPU times: user 59min 4s, sys: 36.4 s, total: 59min 41s\n",
      "Wall time: 14min 18s\n"
     ]
    }
   ],
   "source": [
    "%%time\n",
    "pred = {}\n",
    "c = 0\n",
    "for path in paths:\n",
    "    try:\n",
    "        pred.update(yolo.get_yolo_autocomplete(path, model_predict_classes, model_handwrite, comparison, \n",
    "                                          partners, partners_employees, CLASSES))\n",
    "        c += 1\n",
    "        print(f'in process: {c}/{len(paths)}', end='\\r')\n",
    "    except Exception as ex:\n",
    "        print(path)\n",
    "        print(ex)\n",
    "        "
   ]
  },
  {
   "cell_type": "code",
   "execution_count": 66,
   "id": "9678b565",
   "metadata": {},
   "outputs": [],
   "source": [
    "predicts = pd.DataFrame.from_dict(pred, orient='index').reset_index()\n",
    "predicts.rename(columns={'index':'doc_id'}, inplace=True)"
   ]
  },
  {
   "cell_type": "code",
   "execution_count": 67,
   "id": "fd2e8a92",
   "metadata": {},
   "outputs": [],
   "source": [
    "predicts.to_pickle('/local_data/data/df_yolo_1000.pickle')\n",
    "\n",
    "# МЭР\n",
    "# predicts.to_csv('./data/df_yolo_feb_new.csv')\n",
    "# predicts.to_pickle('./data/df_yolo_latest_new.pickle')"
   ]
  },
  {
   "cell_type": "markdown",
   "id": "75bbaeff",
   "metadata": {},
   "source": [
    "# metrics"
   ]
  },
  {
   "cell_type": "code",
   "execution_count": 68,
   "id": "beed6d4e",
   "metadata": {},
   "outputs": [
    {
     "name": "stderr",
     "output_type": "stream",
     "text": [
      "  4%|▎         | 334/9528 [00:00<00:05, 1684.41it/s]Error occurred while loading file /local_data/clear_full/1bc6d4bb-8840-4bbc-80d6-760d4a2c28e8/resolution.json. [Errno 2] No such file or directory: '/local_data/clear_full/1bc6d4bb-8840-4bbc-80d6-760d4a2c28e8/resolution.json'\n",
      "100%|██████████| 9528/9528 [00:05<00:00, 1735.51it/s]\n"
     ]
    }
   ],
   "source": [
    "df_meta = yolo.get_meta(PATH_TO_DETECT_PDF)\n",
    "df_meta['out_reg_date'] = df_meta['out_reg_date'].apply(lambda row: row.date())\n",
    "df_meta['sender'] = df_meta['sender'].apply(lambda row: yolo.clear_sender(row))\n",
    "df_meta['signer'] = df_meta['signer'].apply(lambda row: yolo.clear_signer(row))"
   ]
  },
  {
   "cell_type": "code",
   "execution_count": 69,
   "id": "e8b0bf2b",
   "metadata": {},
   "outputs": [
    {
     "name": "stdout",
     "output_type": "stream",
     "text": [
      "\n",
      "    date accuracy: 0.06528835690968444\n",
      "    number accuracy: 0.0544069640914037\n",
      "    content accuracy: 0.09902067464635474\n",
      "    signer_accuracy: 0.0\n",
      "    sender_accuracy: 0.0\n"
     ]
    }
   ],
   "source": [
    "metrics = yolo.get_metrics(predicts, df_meta)"
   ]
  },
  {
   "cell_type": "code",
   "execution_count": 13,
   "id": "9c966150",
   "metadata": {},
   "outputs": [
    {
     "name": "stdout",
     "output_type": "stream",
     "text": [
      "\n",
      "    date accuracy: 0.41445294912201713\n",
      "    number accuracy: 0.34117514633048174\n",
      "    content accuracy: 0.06483565961278703\n",
      "    signer_accuracy: 0.7083520936515083\n",
      "    sender_accuracy: 0.784894191805493\n"
     ]
    }
   ],
   "source": []
  },
  {
   "cell_type": "code",
   "execution_count": 47,
   "id": "05f3282d",
   "metadata": {},
   "outputs": [],
   "source": [
    "# df_predict = df_predict[df_predict.kind == 'Письмо']"
   ]
  }
 ],
 "metadata": {
  "kernelspec": {
   "display_name": "Python 3 (ipykernel)",
   "language": "python",
   "name": "python3"
  },
  "language_info": {
   "codemirror_mode": {
    "name": "ipython",
    "version": 3
   },
   "file_extension": ".py",
   "mimetype": "text/x-python",
   "name": "python",
   "nbconvert_exporter": "python",
   "pygments_lexer": "ipython3",
   "version": "3.10.9"
  }
 },
 "nbformat": 4,
 "nbformat_minor": 5
}
