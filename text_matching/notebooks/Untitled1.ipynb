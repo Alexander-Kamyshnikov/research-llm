{
 "cells": [
  {
   "cell_type": "code",
   "execution_count": 1,
   "id": "e63d64b4-b15f-4878-90e9-e8b99fca2b70",
   "metadata": {},
   "outputs": [],
   "source": [
    "from datasets import load_dataset"
   ]
  },
  {
   "cell_type": "markdown",
   "id": "5e250f5e-b3ec-4faf-bf9f-73b9c437751d",
   "metadata": {},
   "source": [
    "# 5.1"
   ]
  },
  {
   "cell_type": "markdown",
   "id": "328c9d66-cc40-40cc-b26e-8b56b8168646",
   "metadata": {},
   "source": [
    "## Load local data"
   ]
  },
  {
   "cell_type": "code",
   "execution_count": 22,
   "id": "f4d07cba-5ee2-4563-b430-7d957fae4a7c",
   "metadata": {},
   "outputs": [],
   "source": [
    "train_data = '/local_data/summarization/data/train_set_reg_dep.csv'\n",
    "test_data = '/local_data/summarization/data/test_set_reg_dep.csv'\n",
    "valid_data = '/local_data/summarization/data/test_set_reg_dep.csv'\n",
    "data = {'train':train_data, 'test':test_data, 'valid':valid_data}\n",
    "squad_it_dataset = load_dataset(\"csv\", data_files=data)"
   ]
  },
  {
   "cell_type": "code",
   "execution_count": 23,
   "id": "05854845-0f09-43fd-acea-3f0c4285f3f0",
   "metadata": {},
   "outputs": [
    {
     "data": {
      "text/plain": [
       "DatasetDict({\n",
       "    train: Dataset({\n",
       "        features: ['Unnamed: 0', 'doc_id', 'responsible_dep', 'responsible_dep_id', 'label', 'text', 'predict_summary'],\n",
       "        num_rows: 6200\n",
       "    })\n",
       "    test: Dataset({\n",
       "        features: ['Unnamed: 0', 'doc_id', 'responsible_dep', 'responsible_dep_id', 'label', 'text', 'predict_summary'],\n",
       "        num_rows: 1257\n",
       "    })\n",
       "    valid: Dataset({\n",
       "        features: ['Unnamed: 0', 'doc_id', 'responsible_dep', 'responsible_dep_id', 'label', 'text', 'predict_summary'],\n",
       "        num_rows: 1257\n",
       "    })\n",
       "})"
      ]
     },
     "execution_count": 23,
     "metadata": {},
     "output_type": "execute_result"
    }
   ],
   "source": [
    "squad_it_dataset"
   ]
  },
  {
   "cell_type": "markdown",
   "id": "0ca55ee5-1ddb-4587-b448-36684a2c229c",
   "metadata": {},
   "source": [
    "## load remote data"
   ]
  },
  {
   "cell_type": "code",
   "execution_count": 2,
   "id": "5eefeacd-a842-4c36-8900-f3708b29f79e",
   "metadata": {
    "scrolled": true
   },
   "outputs": [
    {
     "name": "stdout",
     "output_type": "stream",
     "text": [
      "Downloading and preparing dataset json/default to C:/Users/79282/.cache/huggingface/datasets/json/default-57dcee3ea6992346/0.0.0/e347ab1c932092252e717ff3f949105a4dd28b27e842dd53157d2f72e276c2e4...\n"
     ]
    },
    {
     "data": {
      "application/vnd.jupyter.widget-view+json": {
       "model_id": "5c3a795988f040f7b644d98f1707d290",
       "version_major": 2,
       "version_minor": 0
      },
      "text/plain": [
       "Downloading data files:   0%|          | 0/2 [00:00<?, ?it/s]"
      ]
     },
     "metadata": {},
     "output_type": "display_data"
    },
    {
     "data": {
      "application/vnd.jupyter.widget-view+json": {
       "model_id": "fd011f1e48054b47979e5d0cac23b4d4",
       "version_major": 2,
       "version_minor": 0
      },
      "text/plain": [
       "Downloading data:   0%|          | 0.00/7.73M [00:00<?, ?B/s]"
      ]
     },
     "metadata": {},
     "output_type": "display_data"
    },
    {
     "data": {
      "application/vnd.jupyter.widget-view+json": {
       "model_id": "647db716ea0e4b8a9e34310b9579407b",
       "version_major": 2,
       "version_minor": 0
      },
      "text/plain": [
       "Downloading data:   0%|          | 0.00/1.05M [00:00<?, ?B/s]"
      ]
     },
     "metadata": {},
     "output_type": "display_data"
    },
    {
     "data": {
      "application/vnd.jupyter.widget-view+json": {
       "model_id": "88691dc818b2487a81602551a877af34",
       "version_major": 2,
       "version_minor": 0
      },
      "text/plain": [
       "Extracting data files:   0%|          | 0/2 [00:00<?, ?it/s]"
      ]
     },
     "metadata": {},
     "output_type": "display_data"
    },
    {
     "data": {
      "application/vnd.jupyter.widget-view+json": {
       "model_id": "",
       "version_major": 2,
       "version_minor": 0
      },
      "text/plain": [
       "Generating train split: 0 examples [00:00, ? examples/s]"
      ]
     },
     "metadata": {},
     "output_type": "display_data"
    },
    {
     "data": {
      "application/vnd.jupyter.widget-view+json": {
       "model_id": "",
       "version_major": 2,
       "version_minor": 0
      },
      "text/plain": [
       "Generating test split: 0 examples [00:00, ? examples/s]"
      ]
     },
     "metadata": {},
     "output_type": "display_data"
    },
    {
     "name": "stdout",
     "output_type": "stream",
     "text": [
      "Dataset json downloaded and prepared to C:/Users/79282/.cache/huggingface/datasets/json/default-57dcee3ea6992346/0.0.0/e347ab1c932092252e717ff3f949105a4dd28b27e842dd53157d2f72e276c2e4. Subsequent calls will reuse this data.\n"
     ]
    },
    {
     "data": {
      "application/vnd.jupyter.widget-view+json": {
       "model_id": "a1c8ec8afcc043ab9c3eb55aa731c53f",
       "version_major": 2,
       "version_minor": 0
      },
      "text/plain": [
       "  0%|          | 0/2 [00:00<?, ?it/s]"
      ]
     },
     "metadata": {},
     "output_type": "display_data"
    }
   ],
   "source": [
    "url = \"https://github.com/crux82/squad-it/raw/master/\"\n",
    "data_files = {\n",
    "    \"train\": url + \"SQuAD_it-train.json.gz\",\n",
    "    \"test\": url + \"SQuAD_it-test.json.gz\",\n",
    "}\n",
    "squad_it_dataset = load_dataset(\"json\", data_files=data_files, field=\"data\")"
   ]
  },
  {
   "cell_type": "markdown",
   "id": "047a8095-7c08-4b14-9a27-612fcd0e8e13",
   "metadata": {},
   "source": [
    "# 5.2"
   ]
  },
  {
   "cell_type": "code",
   "execution_count": 3,
   "id": "4a936bf5-0c65-4468-81f8-7efeedc359d7",
   "metadata": {},
   "outputs": [],
   "source": [
    "url = \"https://archive.ics.uci.edu/ml/machine-learning-databases/00462/drugsCom_raw.zip\""
   ]
  },
  {
   "cell_type": "code",
   "execution_count": null,
   "id": "d6cc1588-0c32-4eca-820a-513fbbefaac1",
   "metadata": {},
   "outputs": [],
   "source": []
  },
  {
   "cell_type": "code",
   "execution_count": null,
   "id": "37c8db40-b308-4de3-ac4e-d5e30689472e",
   "metadata": {},
   "outputs": [],
   "source": []
  },
  {
   "cell_type": "code",
   "execution_count": null,
   "id": "f1af228e-4fa4-401a-b193-6621db43ef19",
   "metadata": {},
   "outputs": [],
   "source": []
  },
  {
   "cell_type": "code",
   "execution_count": null,
   "id": "5f7a04c9-f79b-43c3-8164-2f222f92f837",
   "metadata": {},
   "outputs": [],
   "source": []
  }
 ],
 "metadata": {
  "kernelspec": {
   "display_name": "Python 3 (ipykernel)",
   "language": "python",
   "name": "python3"
  },
  "language_info": {
   "codemirror_mode": {
    "name": "ipython",
    "version": 3
   },
   "file_extension": ".py",
   "mimetype": "text/x-python",
   "name": "python",
   "nbconvert_exporter": "python",
   "pygments_lexer": "ipython3",
   "version": "3.8.10"
  }
 },
 "nbformat": 4,
 "nbformat_minor": 5
}
