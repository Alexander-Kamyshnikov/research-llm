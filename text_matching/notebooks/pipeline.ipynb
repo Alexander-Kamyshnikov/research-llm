{
 "cells": [
  {
   "cell_type": "code",
   "execution_count": 66,
   "id": "6267cbc5-1fc9-48ee-acca-a5cbbd0df4b9",
   "metadata": {},
   "outputs": [],
   "source": [
    "from sentence_transformers import SentenceTransformer\n",
    "from sentence_transformers.util import semantic_search, cos_sim\n",
    "\n",
    "from transformers import AutoTokenizer\n",
    "from transformers import AutoModelForSeq2SeqLM\n",
    "\n",
    "from sklearn.cluster import AgglomerativeClustering\n",
    "from sklearn.model_selection import train_test_split\n",
    "from sklearn.metrics import precision_score, recall_score\n",
    "import pandas as pd\n",
    "import numpy as np\n",
    "from catboost import CatBoostClassifier\n",
    "\n",
    "\n",
    "from utils.operate_data import load_dataset as dd_load_dataset\n",
    "from utils.autocomplete import yolo_utils as yolo\n",
    "\n",
    "from tqdm import tqdm\n",
    "tqdm.pandas()\n",
    "\n",
    "%matplotlib inline"
   ]
  },
  {
   "cell_type": "markdown",
   "id": "030602d5-5e31-4125-a324-49fb74805990",
   "metadata": {},
   "source": [
    "# get data"
   ]
  },
  {
   "cell_type": "code",
   "execution_count": 2,
   "id": "a2ab9a0a-6706-4599-ad62-112af811e8dd",
   "metadata": {},
   "outputs": [],
   "source": [
    "df_meta, _ = dd_load_dataset('/local_data/meta_data/', df_name = 'meta.pickle', files_df_name=None)\n",
    "df_meta.reset_index(inplace=True)\n",
    "\n",
    "df_prepared = pd.read_pickle('/local_data/meta_data/prepared_files.pickle')\n",
    "df_prepared = df_prepared[df_prepared.extension == '.pdf']\n",
    "df_prepared = df_prepared[df_prepared.content.agg(len) != 0]\n",
    "df_prepared = df_prepared.loc[df_prepared.groupby('doc_id')['order'].idxmax()]\n",
    "df_prepared.rename(columns={'content': 'text'}, inplace=True)\n",
    "\n",
    "df_content = df_prepared.merge(df_meta, on='doc_id')\n",
    "df_content = df_content[['doc_id', 'text', 'content']]"
   ]
  },
  {
   "cell_type": "code",
   "execution_count": 3,
   "id": "96d37ee9-a11d-4d20-a350-6fe5291aeb7c",
   "metadata": {},
   "outputs": [],
   "source": [
    "# sentence model 'bert-base-nli-mean-tokens'\n",
    "model_sentence = SentenceTransformer('/local_data/models/text_matching/')\n",
    "\n",
    "model_summarization = AutoModelForSeq2SeqLM.from_pretrained( '/local_data/summarization/models/csebuetnlp_mT5_m2o_russian_crossSum/')\n",
    "tokenizer = AutoTokenizer.from_pretrained('/local_data/summarization/data/csebuetnlp_mT5_m2o_russian_crossSum')"
   ]
  },
  {
   "cell_type": "markdown",
   "id": "0c52cd9d-d289-4dbf-bac4-803613ae5721",
   "metadata": {},
   "source": [
    "# Train"
   ]
  },
  {
   "cell_type": "markdown",
   "id": "731be5d6-d58b-4b0d-8cb1-66648e34ac82",
   "metadata": {},
   "source": [
    "## get summarization"
   ]
  },
  {
   "cell_type": "code",
   "execution_count": 4,
   "id": "0ff7d770-9a0d-412b-b27a-56fcfc437717",
   "metadata": {},
   "outputs": [],
   "source": [
    "def summarizer(text: str, tokenizer: AutoTokenizer, model = AutoModelForSeq2SeqLM) -> str:\n",
    "    \n",
    "    inputs = tokenizer(text, max_length=1024, truncation=True, return_tensors=\"pt\").input_ids\n",
    "    outputs = model.generate(inputs, max_new_tokens=200, do_sample=False)\n",
    "    \n",
    "    return tokenizer.decode(outputs[0], skip_special_tokens=True)"
   ]
  },
  {
   "cell_type": "code",
   "execution_count": null,
   "id": "c20e6c6a-cc2b-457f-9f87-88b651fbde00",
   "metadata": {},
   "outputs": [],
   "source": [
    "# при необходимости получить суммаризацию. для экспериментов достаточно пользоваться фичёй content\n",
    "\n",
    "# df_content['predict_summary'] = df_content['text'].progress_apply(lambda row: summarizer(row, tokenizer, model_summarization))"
   ]
  },
  {
   "cell_type": "markdown",
   "id": "70b3bb37-b61b-435f-964c-f74d2d9d4284",
   "metadata": {},
   "source": [
    "## get embeddings"
   ]
  },
  {
   "cell_type": "code",
   "execution_count": 115,
   "id": "b2b0fac8-dba5-41d7-a90e-d422d55f809b",
   "metadata": {},
   "outputs": [
    {
     "name": "stdout",
     "output_type": "stream",
     "text": [
      "CPU times: user 2h 40min 36s, sys: 1min 43s, total: 2h 42min 19s\n",
      "Wall time: 10min 13s\n"
     ]
    }
   ],
   "source": [
    "%%time\n",
    "corpus = df_content['content'].to_list()\n",
    "# корпус эмбедингов для обучения модели\n",
    "corpus_embeddings = model_sentence.encode(corpus, convert_to_tensor=True)\n",
    "# для каждого документа создадим эмбединг и сохраним его в df формате torch.tensor\n",
    "df_content['embedding'] = df_content['content'].apply(lambda row: model_sentence.encode([row], convert_to_tensor=True))"
   ]
  },
  {
   "cell_type": "code",
   "execution_count": 81,
   "id": "bce9f754-22b5-4456-ace4-e073c740909d",
   "metadata": {},
   "outputs": [
    {
     "data": {
      "text/plain": [
       "torch.Size([8058, 768])"
      ]
     },
     "execution_count": 81,
     "metadata": {},
     "output_type": "execute_result"
    }
   ],
   "source": [
    "corpus_embeddings.shape"
   ]
  },
  {
   "cell_type": "markdown",
   "id": "b09719dd-0e09-4f60-8cc0-7b2c39f930af",
   "metadata": {},
   "source": [
    "## set clusters"
   ]
  },
  {
   "cell_type": "code",
   "execution_count": 6,
   "id": "f951c478-67f4-4a44-8593-e43f04dfaff3",
   "metadata": {},
   "outputs": [
    {
     "name": "stdout",
     "output_type": "stream",
     "text": [
      "CPU times: user 3.85 ms, sys: 3.69 ms, total: 7.55 ms\n",
      "Wall time: 6.65 ms\n"
     ]
    }
   ],
   "source": [
    "%%time\n",
    "# изменить фичу content на predict_summary при необходимости\n",
    "\n",
    "# Normalize the embeddings to unit length\n",
    "np_corpus_embeddings = corpus_embeddings / np.linalg.norm(corpus_embeddings, axis=1, keepdims=True)"
   ]
  },
  {
   "cell_type": "code",
   "execution_count": 7,
   "id": "2a5126dd-4a80-48d0-a2bb-0ae02265fad4",
   "metadata": {},
   "outputs": [
    {
     "name": "stdout",
     "output_type": "stream",
     "text": [
      "CPU times: user 6.48 s, sys: 95.9 ms, total: 6.58 s\n",
      "Wall time: 6.58 s\n"
     ]
    }
   ],
   "source": [
    "%%time\n",
    "# Perform kmean clustering\n",
    "clustering_model = AgglomerativeClustering(n_clusters=None, distance_threshold=0.04,  \n",
    "                                           affinity = 'cosine', linkage ='average')\n",
    "clustering_model.fit(np_corpus_embeddings)\n",
    "cluster_assignment = clustering_model.labels_"
   ]
  },
  {
   "cell_type": "code",
   "execution_count": 10,
   "id": "21ffd351-ec3d-4155-b662-cd70a9a3aa41",
   "metadata": {},
   "outputs": [],
   "source": [
    "clustered_sentences = {}\n",
    "for sentence_id, cluster_id in enumerate(cluster_assignment):\n",
    "    if cluster_id not in clustered_sentences:\n",
    "        clustered_sentences[cluster_id] = []\n",
    "\n",
    "    clustered_sentences[cluster_id].append(corpus[sentence_id])"
   ]
  },
  {
   "cell_type": "code",
   "execution_count": 11,
   "id": "f4a0e5d6-3d4c-46bb-baef-3ac0f5325807",
   "metadata": {},
   "outputs": [],
   "source": [
    "# df_content['cluster'] = clustering_model.fit_predict(np_corpus_embeddings)"
   ]
  },
  {
   "cell_type": "code",
   "execution_count": 12,
   "id": "92110756-0964-448e-91c2-2df44e9d30a5",
   "metadata": {},
   "outputs": [
    {
     "name": "stdout",
     "output_type": "stream",
     "text": [
      "количество документов: 8058,\n",
      "количество кластеров: 1084\n"
     ]
    }
   ],
   "source": [
    "print(f'количество документов: {df_content.shape[0]},\\nколичество кластеров: {len(clustered_sentences.items())}')"
   ]
  },
  {
   "cell_type": "markdown",
   "id": "d19d395a-1eac-4a7e-88e8-cdbc2f53afd3",
   "metadata": {},
   "source": [
    "### Set only big clusters"
   ]
  },
  {
   "cell_type": "code",
   "execution_count": 82,
   "id": "047e0acf-dd18-41e2-a61a-59241442dac2",
   "metadata": {},
   "outputs": [],
   "source": [
    "df_clusters = pd.DataFrame(corpus_embeddings)\n",
    "df_clusters['doc_id'] = df_content['doc_id']\n",
    "df_clusters['cluster'] = cluster_assignment\n",
    "df_clusters.columns = df_clusters.columns.map(str)"
   ]
  },
  {
   "cell_type": "code",
   "execution_count": 83,
   "id": "153bbb3e-93bf-477b-8e8e-9a8fddd8745a",
   "metadata": {},
   "outputs": [
    {
     "data": {
      "text/plain": [
       "1084"
      ]
     },
     "execution_count": 83,
     "metadata": {},
     "output_type": "execute_result"
    }
   ],
   "source": [
    "df_clusters.cluster.nunique()"
   ]
  },
  {
   "cell_type": "code",
   "execution_count": 84,
   "id": "74642611-e2bf-409f-b32d-f041147f379d",
   "metadata": {},
   "outputs": [
    {
     "data": {
      "text/plain": [
       "992"
      ]
     },
     "execution_count": 84,
     "metadata": {},
     "output_type": "execute_result"
    }
   ],
   "source": [
    "# создание списка кластеров имеющих менее \"x\" экземпляров\n",
    "\n",
    "x = 10\n",
    "num_clusters = df_clusters.cluster.value_counts().to_dict()\n",
    "\n",
    "single_clusters = []\n",
    "for key, val in num_clusters.items():\n",
    "    if val <= x:\n",
    "        single_clusters.append(key)\n",
    "len(single_clusters)"
   ]
  },
  {
   "cell_type": "code",
   "execution_count": 85,
   "id": "ed2eb1c5-335f-42e4-93ee-28c1c5601003",
   "metadata": {},
   "outputs": [],
   "source": [
    "# кластеры имеющие количество экземпляров менее 20 объединяются в один кластер\n",
    "last_cluster = len(clustered_sentences.items()) + 1 # нэйминг последнего объеденённого кластера\n",
    "df_clusters['cluster'] = df_clusters['cluster'].apply(lambda row: last_cluster  if row in single_clusters else row)\n",
    "\n",
    "# назначение кластеров для исходного датафрейма\n",
    "# df_content['cluster'] = cluster_assignment\n",
    "# df_content['cluster'] = df_content['cluster'].apply(lambda row: last_cluster  if row in single_clusters else row)"
   ]
  },
  {
   "cell_type": "code",
   "execution_count": 87,
   "id": "92f52eff-09fe-47ba-a1b3-1b386b6a8f02",
   "metadata": {},
   "outputs": [
    {
     "data": {
      "text/plain": [
       "93"
      ]
     },
     "execution_count": 87,
     "metadata": {},
     "output_type": "execute_result"
    }
   ],
   "source": [
    "df_clusters.cluster.nunique()"
   ]
  },
  {
   "cell_type": "markdown",
   "id": "1b402f4e-7368-40a5-a3b5-a9247393b910",
   "metadata": {},
   "source": [
    "## train model for clusters predict"
   ]
  },
  {
   "cell_type": "markdown",
   "id": "a663230c-1f66-42f7-ac69-46f3ad50a50d",
   "metadata": {},
   "source": [
    "### train test split"
   ]
  },
  {
   "cell_type": "code",
   "execution_count": 91,
   "id": "4e85f8c5-596f-4283-9ce2-de48234f29ee",
   "metadata": {},
   "outputs": [],
   "source": [
    "features = df_clusters.loc[:, ~df_clusters.columns.isin(['cluster', 'doc_id'])]\n",
    "target = df_clusters['cluster']\n",
    "X_train, X_test, y_train, y_test = train_test_split(features, target, test_size=0.3, random_state=42)"
   ]
  },
  {
   "cell_type": "markdown",
   "id": "a7ee38e6-9ae7-47ee-822d-718c3a9e3ef2",
   "metadata": {},
   "source": [
    "### train model"
   ]
  },
  {
   "cell_type": "code",
   "execution_count": 28,
   "id": "32b78bce-e635-4fc2-ac7c-297795c5774d",
   "metadata": {},
   "outputs": [],
   "source": [
    "cat = CatBoostClassifier(random_state=42)"
   ]
  },
  {
   "cell_type": "code",
   "execution_count": 29,
   "id": "64208ff2-c6d7-4cbd-be0f-70414a99cdf1",
   "metadata": {},
   "outputs": [
    {
     "name": "stdout",
     "output_type": "stream",
     "text": [
      "CPU times: user 17h 45min 7s, sys: 1min 6s, total: 17h 46min 14s\n",
      "Wall time: 46min 45s\n"
     ]
    },
    {
     "data": {
      "text/plain": [
       "<catboost.core.CatBoostClassifier at 0x7f453b187b80>"
      ]
     },
     "execution_count": 29,
     "metadata": {},
     "output_type": "execute_result"
    }
   ],
   "source": [
    "%%time\n",
    "cat.fit(X_train,y_train, verbose=False, plot=False)"
   ]
  },
  {
   "cell_type": "code",
   "execution_count": 30,
   "id": "770c4944-4bba-4c85-b28a-3d0b842eee1c",
   "metadata": {},
   "outputs": [],
   "source": [
    "predicts = cat.predict(X_test)"
   ]
  },
  {
   "cell_type": "code",
   "execution_count": 31,
   "id": "9e73ceb2-0cf5-411b-8f1a-db2a38d4a567",
   "metadata": {},
   "outputs": [
    {
     "name": "stderr",
     "output_type": "stream",
     "text": [
      "/opt/venv/lib/python3.10/site-packages/sklearn/metrics/_classification.py:1327: UndefinedMetricWarning: Precision is ill-defined and being set to 0.0 in labels with no predicted samples. Use `zero_division` parameter to control this behavior.\n",
      "  _warn_prf(average, modifier, msg_start, len(result))\n"
     ]
    },
    {
     "data": {
      "text/plain": [
       "(0.8221921882631194, 0.8134822167080231)"
      ]
     },
     "execution_count": 31,
     "metadata": {},
     "output_type": "execute_result"
    }
   ],
   "source": [
    "precision_score(y_test, predicts, average='weighted'), recall_score(y_test, predicts, average='weighted')"
   ]
  },
  {
   "cell_type": "code",
   "execution_count": 32,
   "id": "8121864b-1bd3-41db-894b-0854181fc0d4",
   "metadata": {},
   "outputs": [],
   "source": [
    "cat.save_model('/local_data/models/text_matching/catboost_clusters.cbm')"
   ]
  },
  {
   "cell_type": "markdown",
   "id": "94687120-a2bf-42c9-ad95-e3a69873bad7",
   "metadata": {},
   "source": [
    "# Predict"
   ]
  },
  {
   "cell_type": "markdown",
   "id": "c5b0cce2-f5a7-40e6-bb66-507d92f512d8",
   "metadata": {},
   "source": [
    "## get query document"
   ]
  },
  {
   "cell_type": "markdown",
   "id": "854f8dfa-548e-41c4-9d46-e5bde0c93925",
   "metadata": {},
   "source": [
    "для исключения утечек в предсказание кластера, исследуются только документы входящие в тестовую выборку"
   ]
  },
  {
   "cell_type": "code",
   "execution_count": 92,
   "id": "6c00e606-47eb-41a6-8006-7afee8e42e68",
   "metadata": {},
   "outputs": [],
   "source": [
    "test_indexes = X_test.index.to_list()"
   ]
  },
  {
   "cell_type": "code",
   "execution_count": 116,
   "id": "5a833726-e58f-478c-abbf-34d6eb8234e0",
   "metadata": {},
   "outputs": [],
   "source": [
    "random_index = 5\n",
    "doc_id = df_content.iloc[test_indexes[random_index]]['doc_id']\n",
    "query = df_prepared[df_prepared.doc_id == doc_id]['text'].values[0]"
   ]
  },
  {
   "cell_type": "markdown",
   "id": "b119e357-c51b-43a1-9df8-76b788321fc7",
   "metadata": {},
   "source": [
    "## get_summarization"
   ]
  },
  {
   "cell_type": "code",
   "execution_count": 117,
   "id": "5cb85049-489a-460d-aeab-c903e5bec1d9",
   "metadata": {},
   "outputs": [
    {
     "name": "stdout",
     "output_type": "stream",
     "text": [
      "CPU times: user 4min 3s, sys: 159 ms, total: 4min 3s\n",
      "Wall time: 21.3 s\n"
     ]
    },
    {
     "data": {
      "text/plain": [
       "['О 9-м заседании межправительственной российско-македонской комиссии торгово-экономического научно-технического сотрудничества']"
      ]
     },
     "execution_count": 117,
     "metadata": {},
     "output_type": "execute_result"
    }
   ],
   "source": [
    "%%time\n",
    "summary = [summarizer(query, tokenizer, model_summarization)]\n",
    "summary"
   ]
  },
  {
   "cell_type": "markdown",
   "id": "56516cf1-1db9-485e-a9b2-cb16c96f1f6d",
   "metadata": {},
   "source": [
    "## get embedding summary df"
   ]
  },
  {
   "cell_type": "code",
   "execution_count": 95,
   "id": "028b01bd-8581-4e49-933f-7cad3111c598",
   "metadata": {},
   "outputs": [],
   "source": [
    "sentence_embedding = model_sentence.encode(summary, convert_to_tensor=True)"
   ]
  },
  {
   "cell_type": "code",
   "execution_count": 96,
   "id": "0af3fff8-8bbf-4fb9-b560-ef9915ad0401",
   "metadata": {},
   "outputs": [],
   "source": [
    "df_sentence = pd.DataFrame(sentence_embedding)\n",
    "df_sentence.columns = df_sentence.columns.map(str)"
   ]
  },
  {
   "cell_type": "code",
   "execution_count": 97,
   "id": "43cd21f4-1a24-411b-81a7-a1ccd7192452",
   "metadata": {},
   "outputs": [
    {
     "data": {
      "text/html": [
       "<div>\n",
       "<style scoped>\n",
       "    .dataframe tbody tr th:only-of-type {\n",
       "        vertical-align: middle;\n",
       "    }\n",
       "\n",
       "    .dataframe tbody tr th {\n",
       "        vertical-align: top;\n",
       "    }\n",
       "\n",
       "    .dataframe thead th {\n",
       "        text-align: right;\n",
       "    }\n",
       "</style>\n",
       "<table border=\"1\" class=\"dataframe\">\n",
       "  <thead>\n",
       "    <tr style=\"text-align: right;\">\n",
       "      <th></th>\n",
       "      <th>0</th>\n",
       "      <th>1</th>\n",
       "      <th>2</th>\n",
       "      <th>3</th>\n",
       "      <th>4</th>\n",
       "      <th>5</th>\n",
       "      <th>6</th>\n",
       "      <th>7</th>\n",
       "      <th>8</th>\n",
       "      <th>9</th>\n",
       "      <th>...</th>\n",
       "      <th>758</th>\n",
       "      <th>759</th>\n",
       "      <th>760</th>\n",
       "      <th>761</th>\n",
       "      <th>762</th>\n",
       "      <th>763</th>\n",
       "      <th>764</th>\n",
       "      <th>765</th>\n",
       "      <th>766</th>\n",
       "      <th>767</th>\n",
       "    </tr>\n",
       "  </thead>\n",
       "  <tbody>\n",
       "    <tr>\n",
       "      <th>0</th>\n",
       "      <td>-0.815912</td>\n",
       "      <td>0.444192</td>\n",
       "      <td>0.759135</td>\n",
       "      <td>0.43191</td>\n",
       "      <td>1.408002</td>\n",
       "      <td>-0.139997</td>\n",
       "      <td>-0.069306</td>\n",
       "      <td>0.727926</td>\n",
       "      <td>-0.252959</td>\n",
       "      <td>0.063424</td>\n",
       "      <td>...</td>\n",
       "      <td>-0.385519</td>\n",
       "      <td>-1.170283</td>\n",
       "      <td>0.424569</td>\n",
       "      <td>0.128625</td>\n",
       "      <td>-0.255495</td>\n",
       "      <td>-1.378363</td>\n",
       "      <td>-0.272698</td>\n",
       "      <td>-0.172365</td>\n",
       "      <td>0.408232</td>\n",
       "      <td>0.502972</td>\n",
       "    </tr>\n",
       "  </tbody>\n",
       "</table>\n",
       "<p>1 rows × 768 columns</p>\n",
       "</div>"
      ],
      "text/plain": [
       "          0         1         2        3         4         5         6  \\\n",
       "0 -0.815912  0.444192  0.759135  0.43191  1.408002 -0.139997 -0.069306   \n",
       "\n",
       "          7         8         9  ...       758       759       760       761  \\\n",
       "0  0.727926 -0.252959  0.063424  ... -0.385519 -1.170283  0.424569  0.128625   \n",
       "\n",
       "        762       763       764       765       766       767  \n",
       "0 -0.255495 -1.378363 -0.272698 -0.172365  0.408232  0.502972  \n",
       "\n",
       "[1 rows x 768 columns]"
      ]
     },
     "execution_count": 97,
     "metadata": {},
     "output_type": "execute_result"
    }
   ],
   "source": [
    "df_sentence"
   ]
  },
  {
   "cell_type": "markdown",
   "id": "c0e40668-ccb0-4e75-86ce-058bcefebf14",
   "metadata": {},
   "source": [
    "## predict cluster"
   ]
  },
  {
   "cell_type": "code",
   "execution_count": 98,
   "id": "0df0f31c-9047-481a-b4e7-66c1743cc81f",
   "metadata": {},
   "outputs": [],
   "source": [
    "model = CatBoostClassifier()      # parameters not required.\n",
    "cat = model.load_model('/local_data/models/text_matching/catboost_clusters.cbm')"
   ]
  },
  {
   "cell_type": "code",
   "execution_count": 100,
   "id": "847e3b86-7dcc-4cbb-86b5-12de098552fa",
   "metadata": {},
   "outputs": [
    {
     "data": {
      "text/plain": [
       "1085"
      ]
     },
     "execution_count": 100,
     "metadata": {},
     "output_type": "execute_result"
    }
   ],
   "source": [
    "predict_cluster = cat.predict(df_sentence).item()\n",
    "predict_cluster"
   ]
  },
  {
   "cell_type": "markdown",
   "id": "b47a5d1c-622c-4f27-a42b-148048c1a1fa",
   "metadata": {},
   "source": [
    "## take data from the predicted cluster"
   ]
  },
  {
   "cell_type": "code",
   "execution_count": 113,
   "id": "86cccc6c-3e77-40c1-ae38-d83df293237c",
   "metadata": {},
   "outputs": [
    {
     "name": "stdout",
     "output_type": "stream",
     "text": [
      "CPU times: user 13.7 ms, sys: 6 µs, total: 13.7 ms\n",
      "Wall time: 12 ms\n"
     ]
    }
   ],
   "source": [
    "%%time\n",
    "df_cls = df_clusters[df_clusters.cluster == predict_cluster].reset_index()\n",
    "\n",
    "# corpus_cluster = df_cls['content'].to_list()\n",
    "# embeddings_corpus = model_sentence.encode(features, convert_to_tensor=True)"
   ]
  },
  {
   "cell_type": "markdown",
   "id": "b56af5d4-d9c7-4975-b0af-ee6856603be2",
   "metadata": {},
   "source": [
    "## semantic search"
   ]
  },
  {
   "cell_type": "code",
   "execution_count": 78,
   "id": "c24cbde1-9233-4885-9575-4677a3b80a97",
   "metadata": {},
   "outputs": [
    {
     "name": "stdout",
     "output_type": "stream",
     "text": [
      "CPU times: user 1.85 ms, sys: 6 µs, total: 1.86 ms\n",
      "Wall time: 1.46 ms\n"
     ]
    }
   ],
   "source": [
    "%%time\n",
    "top = semantic_search(sentence_embedding, embeddings_corpus, score_function=cos_sim, top_k= 5)[0]\n",
    "matching = {}\n",
    "for doc in top:\n",
    "    doc_id = df_cls.iloc[doc['corpus_id']]['doc_id']\n",
    "    matching[doc_id] = doc['score']"
   ]
  },
  {
   "cell_type": "code",
   "execution_count": 79,
   "id": "dd769d39-dc8e-4e24-9c2a-bbd2c4fc56e2",
   "metadata": {},
   "outputs": [
    {
     "data": {
      "text/plain": [
       "{'d9557575-901f-4f9d-8143-02232f1807df': 0.9909748435020447,\n",
       " 'a0641dff-85dd-4583-a667-fd52172cb8dc': 0.9893757104873657,\n",
       " '438ccbab-bb23-4f90-a545-1d5b1f61f8b7': 0.9857959747314453,\n",
       " '7f1b2109-2bbb-450c-8bfa-bface99eaff4': 0.9769965410232544,\n",
       " '238ce70a-7f7c-47f1-b2b6-0f006d5ffde0': 0.9741600751876831}"
      ]
     },
     "execution_count": 79,
     "metadata": {},
     "output_type": "execute_result"
    }
   ],
   "source": [
    "matching"
   ]
  },
  {
   "cell_type": "markdown",
   "id": "77839f1a-e615-4f2f-9ec7-7ced2d13e3a4",
   "metadata": {},
   "source": [
    "# show documents"
   ]
  },
  {
   "cell_type": "code",
   "execution_count": null,
   "id": "a0891a67-4b42-46e2-b6ea-23964c20d2ab",
   "metadata": {},
   "outputs": [],
   "source": []
  },
  {
   "cell_type": "code",
   "execution_count": 63,
   "id": "c702d292-2615-49df-8add-7cffd4e600da",
   "metadata": {},
   "outputs": [
    {
     "data": {
      "text/html": [
       "<div>\n",
       "<style scoped>\n",
       "    .dataframe tbody tr th:only-of-type {\n",
       "        vertical-align: middle;\n",
       "    }\n",
       "\n",
       "    .dataframe tbody tr th {\n",
       "        vertical-align: top;\n",
       "    }\n",
       "\n",
       "    .dataframe thead th {\n",
       "        text-align: right;\n",
       "    }\n",
       "</style>\n",
       "<table border=\"1\" class=\"dataframe\">\n",
       "  <thead>\n",
       "    <tr style=\"text-align: right;\">\n",
       "      <th></th>\n",
       "      <th>index</th>\n",
       "      <th>doc_id</th>\n",
       "      <th>text</th>\n",
       "      <th>content</th>\n",
       "      <th>cluster</th>\n",
       "    </tr>\n",
       "  </thead>\n",
       "  <tbody>\n",
       "    <tr>\n",
       "      <th>0</th>\n",
       "      <td>88</td>\n",
       "      <td>02f3049d-6989-44df-85c1-be9d91344b09</td>\n",
       "      <td>департамент планирования территориального разв...</td>\n",
       "      <td>О согласовании проекта внесения изменений в ге...</td>\n",
       "      <td>194</td>\n",
       "    </tr>\n",
       "    <tr>\n",
       "      <th>1</th>\n",
       "      <td>97</td>\n",
       "      <td>0327b03d-ec0d-4e5a-abfe-77eded58c00b</td>\n",
       "      <td>департамент планирования россии территориально...</td>\n",
       "      <td>О согласовании проекта внесения изменений в ге...</td>\n",
       "      <td>194</td>\n",
       "    </tr>\n",
       "    <tr>\n",
       "      <th>2</th>\n",
       "      <td>116</td>\n",
       "      <td>03c5beee-b00f-4fe0-a80f-f43103223c65</td>\n",
       "      <td>российская едерация самарская область вольш сч...</td>\n",
       "      <td>О проекте изменений в Генеральный план</td>\n",
       "      <td>194</td>\n",
       "    </tr>\n",
       "    <tr>\n",
       "      <th>3</th>\n",
       "      <td>159</td>\n",
       "      <td>04eae954-bbab-499c-b688-76477232a50d</td>\n",
       "      <td>федеральная служба охраны российской федерации...</td>\n",
       "      <td>О согласовании проектов внесения изменений в г...</td>\n",
       "      <td>194</td>\n",
       "    </tr>\n",
       "    <tr>\n",
       "      <th>4</th>\n",
       "      <td>164</td>\n",
       "      <td>052302de-b70c-481c-98e2-7b482f347c8a</td>\n",
       "      <td>стер ство ергети российской федерации энерго р...</td>\n",
       "      <td>О направлении информации о внесении изменений ...</td>\n",
       "      <td>194</td>\n",
       "    </tr>\n",
       "    <tr>\n",
       "      <th>...</th>\n",
       "      <td>...</td>\n",
       "      <td>...</td>\n",
       "      <td>...</td>\n",
       "      <td>...</td>\n",
       "      <td>...</td>\n",
       "    </tr>\n",
       "    <tr>\n",
       "      <th>97</th>\n",
       "      <td>7652</td>\n",
       "      <td>f2ef995c-3676-4b81-b756-3235c226cf3d</td>\n",
       "      <td>департамент планирования российской федерации ...</td>\n",
       "      <td>О согласовании проекта внесения изменений в ге...</td>\n",
       "      <td>194</td>\n",
       "    </tr>\n",
       "    <tr>\n",
       "      <th>98</th>\n",
       "      <td>7799</td>\n",
       "      <td>f70f608f-9522-4cd5-ab27-612b993b16ca</td>\n",
       "      <td>администрация сельского поселения старое вечка...</td>\n",
       "      <td>О согласовании проекта внесения изменений в Ге...</td>\n",
       "      <td>194</td>\n",
       "    </tr>\n",
       "    <tr>\n",
       "      <th>99</th>\n",
       "      <td>7972</td>\n",
       "      <td>fcff336d-8f17-4fd1-a0eb-986b0f4b1d5f</td>\n",
       "      <td>федеральная служба департамент планирования те...</td>\n",
       "      <td>О вопросах согласования проекта внесения измен...</td>\n",
       "      <td>194</td>\n",
       "    </tr>\n",
       "    <tr>\n",
       "      <th>100</th>\n",
       "      <td>8036</td>\n",
       "      <td>ff52c5f0-d059-458c-80fc-66d18ae88785</td>\n",
       "      <td>министерство экономического развития российско...</td>\n",
       "      <td>о проекте генерального плана сельского поселен...</td>\n",
       "      <td>194</td>\n",
       "    </tr>\n",
       "    <tr>\n",
       "      <th>101</th>\n",
       "      <td>8051</td>\n",
       "      <td>ffb1d5a6-beea-4c20-8546-a03a9076e071</td>\n",
       "      <td>федеральная служба войск национальной гвардии ...</td>\n",
       "      <td>О вопросах согласования проекта генерального п...</td>\n",
       "      <td>194</td>\n",
       "    </tr>\n",
       "  </tbody>\n",
       "</table>\n",
       "<p>102 rows × 5 columns</p>\n",
       "</div>"
      ],
      "text/plain": [
       "     index                                doc_id  \\\n",
       "0       88  02f3049d-6989-44df-85c1-be9d91344b09   \n",
       "1       97  0327b03d-ec0d-4e5a-abfe-77eded58c00b   \n",
       "2      116  03c5beee-b00f-4fe0-a80f-f43103223c65   \n",
       "3      159  04eae954-bbab-499c-b688-76477232a50d   \n",
       "4      164  052302de-b70c-481c-98e2-7b482f347c8a   \n",
       "..     ...                                   ...   \n",
       "97    7652  f2ef995c-3676-4b81-b756-3235c226cf3d   \n",
       "98    7799  f70f608f-9522-4cd5-ab27-612b993b16ca   \n",
       "99    7972  fcff336d-8f17-4fd1-a0eb-986b0f4b1d5f   \n",
       "100   8036  ff52c5f0-d059-458c-80fc-66d18ae88785   \n",
       "101   8051  ffb1d5a6-beea-4c20-8546-a03a9076e071   \n",
       "\n",
       "                                                  text  \\\n",
       "0    департамент планирования территориального разв...   \n",
       "1    департамент планирования россии территориально...   \n",
       "2    российская едерация самарская область вольш сч...   \n",
       "3    федеральная служба охраны российской федерации...   \n",
       "4    стер ство ергети российской федерации энерго р...   \n",
       "..                                                 ...   \n",
       "97   департамент планирования российской федерации ...   \n",
       "98   администрация сельского поселения старое вечка...   \n",
       "99   федеральная служба департамент планирования те...   \n",
       "100  министерство экономического развития российско...   \n",
       "101  федеральная служба войск национальной гвардии ...   \n",
       "\n",
       "                                               content  cluster  \n",
       "0    О согласовании проекта внесения изменений в ге...      194  \n",
       "1    О согласовании проекта внесения изменений в ге...      194  \n",
       "2               О проекте изменений в Генеральный план      194  \n",
       "3    О согласовании проектов внесения изменений в г...      194  \n",
       "4    О направлении информации о внесении изменений ...      194  \n",
       "..                                                 ...      ...  \n",
       "97   О согласовании проекта внесения изменений в ге...      194  \n",
       "98   О согласовании проекта внесения изменений в Ге...      194  \n",
       "99   О вопросах согласования проекта внесения измен...      194  \n",
       "100  о проекте генерального плана сельского поселен...      194  \n",
       "101  О вопросах согласования проекта генерального п...      194  \n",
       "\n",
       "[102 rows x 5 columns]"
      ]
     },
     "execution_count": 63,
     "metadata": {},
     "output_type": "execute_result"
    }
   ],
   "source": [
    "df_cls"
   ]
  }
 ],
 "metadata": {
  "kernelspec": {
   "display_name": "Python 3 (ipykernel)",
   "language": "python",
   "name": "python3"
  },
  "language_info": {
   "codemirror_mode": {
    "name": "ipython",
    "version": 3
   },
   "file_extension": ".py",
   "mimetype": "text/x-python",
   "name": "python",
   "nbconvert_exporter": "python",
   "pygments_lexer": "ipython3",
   "version": "3.10.9"
  }
 },
 "nbformat": 4,
 "nbformat_minor": 5
}
