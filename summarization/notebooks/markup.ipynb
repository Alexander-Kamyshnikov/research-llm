{
 "cells": [
  {
   "cell_type": "code",
   "execution_count": 23,
   "id": "6ea97c48",
   "metadata": {},
   "outputs": [],
   "source": [
    "import os"
   ]
  },
  {
   "cell_type": "code",
   "execution_count": null,
   "id": "e166dafa",
   "metadata": {},
   "outputs": [],
   "source": []
  },
  {
   "cell_type": "code",
   "execution_count": 24,
   "id": "2759da1e",
   "metadata": {},
   "outputs": [],
   "source": [
    "from pathlib import Path\n",
    "import numpy as np\n",
    "import cv2\n",
    "from utils.extraction.prioritet_extractor import PrioritetExtractor\n",
    "from utils.autocomplete.markup_yolo import pdf_to_img\n",
    "from pdf2image import convert_from_path\n",
    "\n",
    "from tqdm import tqdm\n",
    "tqdm.pandas()\n",
    "%matplotlib inline"
   ]
  },
  {
   "cell_type": "code",
   "execution_count": 25,
   "id": "5ddd6308",
   "metadata": {},
   "outputs": [],
   "source": [
    "PATH_TO_DETECT_PDF = Path('/data/docs/mer/vh_full/')\n",
    "PATH_TO_SAVE_IMAGES = Path('/local_data/yolov_markup/jpeg_3_pages/')"
   ]
  },
  {
   "cell_type": "code",
   "execution_count": 26,
   "id": "af364f91",
   "metadata": {},
   "outputs": [],
   "source": [
    "extractor = PrioritetExtractor()"
   ]
  },
  {
   "cell_type": "code",
   "execution_count": 27,
   "id": "a7b2d234",
   "metadata": {},
   "outputs": [],
   "source": [
    "# def is_true_pdf(data: dict) -> bool:\n",
    "#     return all([data['kind'] == 'Письмо', data['delivery_type'] != 'МЭДО'])\n",
    "\n",
    "# def get_true_pdf_with_order(path: Path, data: dict) -> str:\n",
    "#     # функция возвращает путь к существующему файду пдф с максимальным ордером\n",
    "#     order_files = {}\n",
    "#     for file in data['files']:\n",
    "#         order_files[file['order']] = file\n",
    "#     while order_files:\n",
    "#         value = order_files.pop(max(order_files.keys()))\n",
    "#         if value['extension'] == '.pdf':\n",
    "#             if (exists_path := path / (value['id'] + '.pdf')).exists():\n",
    "#                 return exists_path\n",
    "\n",
    "# def get_true_path_to_pdf(path: Path,) -> Path:\n",
    "#     # функция возвращает путь к существующему файлу пдф с максимальным значением order,\n",
    "#     # если kind == \"Письмо\" и delivery_type != \"МЭДО\"\n",
    "#     extracted_data = extractor.process_folder(path)\n",
    "#     if (is_true_pdf(extracted_data)) and (true_path := get_true_pdf_with_order(path,extracted_data)):\n",
    "#             return true_path\n",
    "\n",
    "# def pdf_to_img(path_to_pdf_files: Path, path_to_img: Path, format_img: str='.jpg', doc_count_in_dir=50, last_page=1):\n",
    "    \n",
    "#     count_all_paths = 0\n",
    "#     true_counter = 0\n",
    "    \n",
    "#     for path in path_to_pdf_files.iterdir():\n",
    "        \n",
    "#         count_all_paths +=1\n",
    "#         doc = get_true_path_to_pdf(path)\n",
    "    \n",
    "#         if doc:\n",
    "            \n",
    "#             if true_counter%doc_count_in_dir == 0:\n",
    "#                 path_to_img_dir = path_to_img / str(true_counter)\n",
    "#                 Path.mkdir(path_to_img_dir, exist_ok=True)\n",
    "                \n",
    "#             doc_name = doc.parent.name\n",
    "#             #  конвертация изображения\n",
    "#             images = convert_from_path(doc, last_page=last_page, fmt=format_img)\n",
    "#             if last_page == 1:\n",
    "#                 img = np.array(np.rot90(images[0], 0))\n",
    "#                 # путь сохранения иображения\n",
    "#                 # имя изображения = doc_id\n",
    "#                 path_doc = path_to_img_dir/doc_name\n",
    "#                 path_doc_ext = str(path_doc.with_suffix(format_img))\n",
    "#                 # сохранение изображения\n",
    "#                 cv2.imwrite(path_doc_ext, img)\n",
    "#                 print(f'true_paths: {true_counter}  {path_doc_ext}', end='\\r')\n",
    "#                 true_counter += 1 \n",
    "#             else:\n",
    "#                 for num, im in enumerate(images):\n",
    "#                     img = np.array(np.rot90(im, 0))\n",
    "#                     # путь сохранения иображения\n",
    "#                     # имя изображения = doc_id + num page\n",
    "#                     name = str(doc_name) +'_'+ str(num)\n",
    "#                     path_doc = path_to_img_dir/name\n",
    "#                     path_doc_ext = str(path_doc.with_suffix(format_img))\n",
    "#                     cv2.imwrite(path_doc_ext, img)\n",
    "#                     print(f'true_paths: {true_counter}  {path_doc_ext}', end='\\r')\n",
    "#                     true_counter += 1 \n",
    "#                     if true_counter%doc_count_in_dir == 0:\n",
    "#                         path_to_img_dir = path_to_img / str(true_counter)\n",
    "#                         Path.mkdir(path_to_img_dir, exist_ok=True)                    \n",
    "          \n",
    "#         if true_counter > 1000:\n",
    "#             print(f'всего обработано {count_all_paths} документов')\n",
    "#             break\n",
    "          "
   ]
  },
  {
   "cell_type": "code",
   "execution_count": 28,
   "id": "1604638d",
   "metadata": {},
   "outputs": [
    {
     "name": "stdout",
     "output_type": "stream",
     "text": [
      "status: 1001  /local_data/yolov_markup/jpeg_3_pages/950/7faa79d8-a155-4326-98a0-6b5f989d7d78_2.jpeg\r"
     ]
    }
   ],
   "source": [
    "pdf_to_img(PATH_TO_DETECT_PDF, PATH_TO_SAVE_IMAGES, last_page=3)"
   ]
  },
  {
   "cell_type": "code",
   "execution_count": 17,
   "id": "3370ffad",
   "metadata": {},
   "outputs": [],
   "source": [
    "from utils.autocomplete.markup_yolo import rm_tree\n",
    "rm_tree(PATH_TO_SAVE_IMAGES)"
   ]
  },
  {
   "cell_type": "code",
   "execution_count": null,
   "id": "ccaf161c",
   "metadata": {},
   "outputs": [],
   "source": [
    "from utils.autocomplete import yolo_utils as yolo\n",
    "yolo.open_pdf(x)"
   ]
  },
  {
   "cell_type": "code",
   "execution_count": 11,
   "id": "31dac0f6",
   "metadata": {},
   "outputs": [
    {
     "name": "stdout",
     "output_type": "stream",
     "text": [
      "/data/docs/mer/vh_full/d3e25978-7250-4f3d-9fae-5142d39280c9/2ab8cea4-b736-4f9a-ae17-61bb9ff894a1.pdf\n",
      "d3e25978-7250-4f3d-9fae-5142d39280c9\n"
     ]
    }
   ],
   "source": [
    "for path in PATH_TO_DETECT_PDF.iterdir():\n",
    "    doc = get_true_path_to_pdf(path)\n",
    "    if doc:\n",
    "        print(doc)\n",
    "        print(doc.parent.name)\n",
    "        break"
   ]
  }
 ],
 "metadata": {
  "kernelspec": {
   "display_name": "Python 3 (ipykernel)",
   "language": "python",
   "name": "python3"
  },
  "language_info": {
   "codemirror_mode": {
    "name": "ipython",
    "version": 3
   },
   "file_extension": ".py",
   "mimetype": "text/x-python",
   "name": "python",
   "nbconvert_exporter": "python",
   "pygments_lexer": "ipython3",
   "version": "3.10.9"
  }
 },
 "nbformat": 4,
 "nbformat_minor": 5
}
